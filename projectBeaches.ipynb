{
 "metadata": {
  "language_info": {
   "codemirror_mode": {
    "name": "ipython",
    "version": 3
   },
   "file_extension": ".py",
   "mimetype": "text/x-python",
   "name": "python",
   "nbconvert_exporter": "python",
   "pygments_lexer": "ipython3",
   "version": "3.8.3-final"
  },
  "orig_nbformat": 2,
  "kernelspec": {
   "name": "python38332bitc997c56da9a74e2babed0b86df49b304",
   "display_name": "Python 3.8.3 32-bit"
  }
 },
 "nbformat": 4,
 "nbformat_minor": 2,
 "cells": [
  {
   "source": [
    "## Author: Jesús Salazar Gómez, Costa Rica\n",
    "## Course: Applied Data Science Capstone, week 4 and 5 (project), Coursera\n",
    "\n",
    "## LinkedIn: https://www.linkedin.com/in/jesagocr/\n",
    "## GitHub: https://github.com/jesagocr"
   ],
   "cell_type": "markdown",
   "metadata": {}
  },
  {
   "cell_type": "code",
   "execution_count": 5,
   "metadata": {},
   "outputs": [
    {
     "output_type": "stream",
     "name": "stderr",
     "text": [
      "WARNING: You are using pip version 20.2.3; however, version 20.2.4 is available.\n",
      "You should consider upgrading via the 'c:\\users\\jesag\\appdata\\local\\programs\\python\\python38-32\\python.exe -m pip install --upgrade pip' command.\n",
      "Collecting geopy\n",
      "  Downloading geopy-2.0.0-py3-none-any.whl (111 kB)\n",
      "Collecting geographiclib<2,>=1.49\n",
      "  Downloading geographiclib-1.50-py3-none-any.whl (38 kB)\n",
      "Installing collected packages: geographiclib, geopy\n",
      "Successfully installed geographiclib-1.50 geopy-2.0.0\n",
      "WARNING: You are using pip version 20.2.3; however, version 20.2.4 is available.\n",
      "You should consider upgrading via the 'c:\\users\\jesag\\appdata\\local\\programs\\python\\python38-32\\python.exe -m pip install --upgrade pip' command.\n",
      "Collecting folium\n",
      "  Downloading folium-0.11.0-py2.py3-none-any.whl (93 kB)\n",
      "Collecting branca>=0.3.0\n",
      "  Downloading branca-0.4.1-py3-none-any.whl (24 kB)\n",
      "Requirement already satisfied: requests in c:\\users\\jesag\\appdata\\local\\programs\\python\\python38-32\\lib\\site-packages (from folium) (2.24.0)\n",
      "Requirement already satisfied: jinja2>=2.9 in c:\\users\\jesag\\appdata\\roaming\\python\\python38\\site-packages (from folium) (2.11.2)\n",
      "Requirement already satisfied: numpy in c:\\users\\jesag\\appdata\\local\\programs\\python\\python38-32\\lib\\site-packages (from folium) (1.18.5)\n",
      "Requirement already satisfied: certifi>=2017.4.17 in c:\\users\\jesag\\appdata\\local\\programs\\python\\python38-32\\lib\\site-packages (from requests->folium) (2020.6.20)\n",
      "Requirement already satisfied: urllib3!=1.25.0,!=1.25.1,<1.26,>=1.21.1 in c:\\users\\jesag\\appdata\\local\\programs\\python\\python38-32\\lib\\site-packages (from requests->folium) (1.25.10)\n",
      "Requirement already satisfied: chardet<4,>=3.0.2 in c:\\users\\jesag\\appdata\\local\\programs\\python\\python38-32\\lib\\site-packages (from requests->folium) (3.0.4)\n",
      "Requirement already satisfied: idna<3,>=2.5 in c:\\users\\jesag\\appdata\\local\\programs\\python\\python38-32\\lib\\site-packages (from requests->folium) (2.10)\n",
      "Requirement already satisfied: MarkupSafe>=0.23 in c:\\users\\jesag\\appdata\\roaming\\python\\python38\\site-packages (from jinja2>=2.9->folium) (1.1.1)\n",
      "Installing collected packages: branca, folium\n",
      "Successfully installed branca-0.4.1 folium-0.11.0\n",
      "Libraries imported.\n"
     ]
    }
   ],
   "source": [
    "# to open the url\n",
    "from urllib.request import urlopen\n",
    "\n",
    "# to work with the api\n",
    "import json\n",
    "import requests\n",
    "import pandas as pd\n",
    "\n",
    "# to work with the geolocalization data\n",
    "!pip install geopy \n",
    "from geopy.geocoders import Nominatim # convert an address into latitude and longitude values\n",
    "\n",
    "# import k-means from clustering stage\n",
    "from sklearn.cluster import KMeans\n",
    "\n",
    "!pip install folium\n",
    "import folium # map rendering library\n",
    "\n",
    "print('Libraries imported.')"
   ]
  },
  {
   "cell_type": "code",
   "execution_count": 1,
   "metadata": {},
   "outputs": [
    {
     "output_type": "stream",
     "name": "stdout",
     "text": [
      "Libraries imported.\n"
     ]
    }
   ],
   "source": [
    "# to open the url\n",
    "from urllib.request import urlopen\n",
    "\n",
    "# to work with the api\n",
    "import json\n",
    "import requests\n",
    "import pandas as pd\n",
    "\n",
    "# to work with the geolocalization data\n",
    "#!pip install geopy \n",
    "from geopy.geocoders import Nominatim # convert an address into latitude and longitude values\n",
    "\n",
    "# import k-means from clustering stage\n",
    "from sklearn.cluster import KMeans\n",
    "\n",
    "#!pip install folium\n",
    "import folium # map rendering library\n",
    "\n",
    "from bs4 import BeautifulSoup\n",
    "\n",
    "print('Libraries imported.')"
   ]
  },
  {
   "cell_type": "code",
   "execution_count": 2,
   "metadata": {},
   "outputs": [],
   "source": [
    "source = requests.get(\"https://es.wikipedia.org/wiki/Anexo:Playas_de_Costa_Rica\").text\n",
    "soup = BeautifulSoup(source, 'html.parser')"
   ]
  },
  {
   "cell_type": "code",
   "execution_count": 3,
   "metadata": {
    "tags": []
   },
   "outputs": [],
   "source": [
    "# primer intento de extraer la info con las playas\n",
    "\n",
    "playas = []\n",
    "\n",
    "for grossbeach in soup.find_all('li'):\n",
    "\n",
    "    texto = str(grossbeach.text)\n",
    "    #print(texto)\n",
    "\n",
    "    try:\n",
    "        if texto[:3] == \"Pla\" or texto[:3] == \"Bal\":\n",
    "            #print('yes')\n",
    "            playas.append(texto)\n",
    "        else:\n",
    "            #no.append(texto)\n",
    "            pass\n",
    "    except IndexError:\n",
    "        pass"
   ]
  },
  {
   "cell_type": "code",
   "execution_count": 4,
   "metadata": {},
   "outputs": [],
   "source": [
    "def newLine():\n",
    "    print('********* -*- ********* ')"
   ]
  },
  {
   "cell_type": "code",
   "execution_count": 5,
   "metadata": {},
   "outputs": [
    {
     "output_type": "stream",
     "name": "stdout",
     "text": [
      "['Playa Barra del Colorado', 'Playa Bonita', 'Playa Cahuita (Blanca)', 'Playa Chiquita', 'Playa Gandoca', 'Playa Manzanillo', 'Playa Moín', 'Playa Negra (Puerto Viejo)', 'Playa Negra (Cahuita)', 'Playa Pirikiki', 'Playa Portete', 'Playa Puerto Vargas', 'Playas Tortuguero', 'Playa Vizcaya', 'Playa Westfalia', 'Playa Arbolito', 'Playa Avellanas', 'Playa Azul (Jurel)', 'Playa Bahía Junquillal', 'Playa Barco Quebrado', 'Playa Barrigona', 'Playa Bejuco', 'Playa Blanca (Santa Elena)', 'Playa Blanca y Virador', 'Playa Bongo', 'Playa Brasilito', 'Playa Buena Vista', 'Playa Camaronal', 'Playa Carbón', 'Playa Carmen', 'Playa Carrillo', 'Playa Cóncava', 'Playa Conchal', 'Playa Coyote', 'Playa Coyotera', 'Playa Cuajiniquil', 'Playa Culebra', 'Playas del Coco', 'Playa Flamingo', 'Playa Garza', 'Playa Grande', 'Playa Gringo', 'Playa Guiones', 'Playa Hermosa', 'Playa Iguanita', 'Playa Islita y Corozalito', 'Playa Jobo', 'Playa Junquillal', 'Playa La Penca', 'Playa Lagarto', 'Playa Langosta', 'Playa Mal País', 'Playa Marbella', 'Playa Manzanillo (Costa Rica)', 'Playa Nabos', 'Playa Nacascolo', 'Playa Nancite', 'Playa Naranjo', 'Playa Negra', 'Playa Nosara', 'Playa Nubes', 'Playa Ocotal', 'Playa Ostional', 'Playa Pan de Azúcar', 'Playa Panamá (Chrorotega)', 'Playa Pelada', 'Playa Pietra', 'Playa Pitahaya', 'Playa Pleito y San Juanillo', 'Playa Pochote (Papagayo)', 'Playa Potrero', 'Playa Real y Roble', 'Playa Rajada', 'Playa Sámara', 'Playa San Miguel', 'Playa Santa Teresa', 'Playa Surco de Piedra', 'Playa Prieta (Papagayo)', 'Playa Pochote (Salinas)', 'Playa Potrero Grande', 'Playa Puerto Soley', 'Playa Tamarindo', 'Playa Ventanas', 'Balnerario Puntarenas', 'Playa Agujas', 'Playa Bahía Drake', 'Playa Ballena', 'Playa Barú', 'Playa Blanca', 'Playa Bejuco', 'Playa Boca Vieja', 'Playa Cabo Blanco', 'Playa Cabuya', 'Playa Cocalito', 'Playa Cacao', 'Playa Caldera', 'Playa Carate', 'Playa Curú', 'Playa de Arco', 'Playa de Doña Ana', 'Playa Dominical', 'Playa Dominicalito', 'Playa Espadilla', 'Playa Esterillos', 'Playa Garza (Boca Brava)', 'Playa Gigante', 'Playa Hermosa', 'Playa Herradura', 'Playa Isla Damas', 'Playa Jacó', 'Playa Llorona', 'Playa Madrigal', 'Playa Mata de Limón', 'Playa Mantas', 'Playas Manuel Antonio', 'Playa Matapalo', 'Playa Montezuma', 'Playa Naranjo', 'Playa Órganos', 'Playa Palma', 'Playa Palo Seco', 'Playa Pavones', 'Playa Piñuela', 'Playa Platanares', 'Playa Pógeres', 'Playa Quizales', 'Playa San Josecito (Golfito)', 'Playa Savegre', 'Playa Sombrero', 'Playa Tamales', 'Playa Tambor', 'Playa Tárcoles', 'Playa Tivives', 'Playa Tortuga', 'Playa Uvita', 'Playa Zancudo', 'Playas de Costa Rica']\n"
     ]
    }
   ],
   "source": [
    "print(playas)"
   ]
  },
  {
   "cell_type": "code",
   "execution_count": 6,
   "metadata": {},
   "outputs": [
    {
     "output_type": "stream",
     "name": "stdout",
     "text": [
      "137\n********* -*- ********* \nPlayas de Costa Rica\n********* -*- ********* \nPlaya Zancudo\n********* -*- ********* \n136\n"
     ]
    }
   ],
   "source": [
    "#todas los nombres con P o B (Playa o Balneario)\n",
    "\n",
    "print(len(playas))\n",
    "newLine()\n",
    "\n",
    "print(playas[-1])\n",
    "newLine()\n",
    "\n",
    "playas = playas[:-1]\n",
    "print(playas[-1])\n",
    "newLine()\n",
    "\n",
    "print(len(playas))"
   ]
  },
  {
   "cell_type": "code",
   "execution_count": 15,
   "metadata": {},
   "outputs": [],
   "source": [
    "# Segundo intento sin BeatifulSoup para extraer quienes tienen info y quienes no\n",
    "url = urlopen(\"https://es.wikipedia.org/wiki/Anexo:Playas_de_Costa_Rica\")"
   ]
  },
  {
   "cell_type": "code",
   "execution_count": 16,
   "metadata": {
    "tags": []
   },
   "outputs": [
    {
     "output_type": "stream",
     "name": "stdout",
     "text": [
      "<class 'str'>\n"
     ]
    }
   ],
   "source": [
    "content = str(url.read(),encoding='utf-8')\n",
    "print(type(content))"
   ]
  },
  {
   "cell_type": "code",
   "execution_count": 12,
   "metadata": {},
   "outputs": [
    {
     "output_type": "stream",
     "name": "stdout",
     "text": [
      "<class 'str'>\n"
     ]
    }
   ],
   "source": [
    "#content = str(url.readline(), encoding='utf-8')\n",
    "#print(type(content))"
   ]
  },
  {
   "cell_type": "code",
   "execution_count": 17,
   "metadata": {
    "tags": [
     "outputPrepend"
    ]
   },
   "outputs": [
    {
     "output_type": "stream",
     "name": "stdout",
     "text": [
      "mosa</a></li>\n<li><a href=\"/w/index.php?title=Playa_Herradura&amp;action=edit&amp;redlink=1\" class=\"new\" title=\"Playa Herradura (aún no redactado)\">Playa Herradura</a></li>\n<li><a href=\"/w/index.php?title=Playa_Isla_Damas&amp;action=edit&amp;redlink=1\" class=\"new\" title=\"Playa Isla Damas (aún no redactado)\">Playa Isla Damas</a></li>\n<li><a href=\"/wiki/Jac%C3%B3\" title=\"Jacó\">Playa Jacó</a></li>\n<li><a href=\"/w/index.php?title=Playa_Llorona&amp;action=edit&amp;redlink=1\" class=\"new\" title=\"Playa Llorona (aún no redactado)\">Playa Llorona</a></li>\n<li><a href=\"/w/index.php?title=Playa_Madrigal&amp;action=edit&amp;redlink=1\" class=\"new\" title=\"Playa Madrigal (aún no redactado)\">Playa Madrigal</a></li>\n<li><a href=\"/w/index.php?title=Playa_Mata_de_Lim%C3%B3n&amp;action=edit&amp;redlink=1\" class=\"new\" title=\"Playa Mata de Limón (aún no redactado)\">Playa Mata de Limón</a></li>\n<li><a href=\"/w/index.php?title=Playa_Mantas&amp;action=edit&amp;redlink=1\" class=\"new\" title=\"Playa Mantas (aún no redactado)\">Playa Mantas</a></li>\n<li><a href=\"/wiki/Parque_nacional_Manuel_Antonio\" title=\"Parque nacional Manuel Antonio\">Playas Manuel Antonio</a></li>\n<li><a href=\"/w/index.php?title=Playa_Matapalo&amp;action=edit&amp;redlink=1\" class=\"new\" title=\"Playa Matapalo (aún no redactado)\">Playa Matapalo</a></li>\n<li><a href=\"/w/index.php?title=Playa_Montezuma_(Puntarenas)&amp;action=edit&amp;redlink=1\" class=\"new\" title=\"Playa Montezuma (Puntarenas) (aún no redactado)\">Playa Montezuma</a></li>\n<li><a href=\"/w/index.php?title=Playa_Naranjo&amp;action=edit&amp;redlink=1\" class=\"new\" title=\"Playa Naranjo (aún no redactado)\">Playa Naranjo</a></li>\n<li><a href=\"/w/index.php?title=Playa_%C3%93rganos&amp;action=edit&amp;redlink=1\" class=\"new\" title=\"Playa Órganos (aún no redactado)\">Playa Órganos</a></li>\n<li><a href=\"/w/index.php?title=Playa_Palma&amp;action=edit&amp;redlink=1\" class=\"new\" title=\"Playa Palma (aún no redactado)\">Playa Palma</a></li>\n<li><a href=\"/w/index.php?title=Playa_Palo_Seco&amp;action=edit&amp;redlink=1\" class=\"new\" title=\"Playa Palo Seco (aún no redactado)\">Playa Palo Seco</a></li>\n<li><a href=\"/w/index.php?title=Playa_Pavones&amp;action=edit&amp;redlink=1\" class=\"new\" title=\"Playa Pavones (aún no redactado)\">Playa Pavones</a></li>\n<li><a href=\"/w/index.php?title=Playa_Pi%C3%B1uela&amp;action=edit&amp;redlink=1\" class=\"new\" title=\"Playa Piñuela (aún no redactado)\">Playa Piñuela</a></li>\n<li><a href=\"/w/index.php?title=Playa_Platanares&amp;action=edit&amp;redlink=1\" class=\"new\" title=\"Playa Platanares (aún no redactado)\">Playa Platanares</a></li>\n<li><a href=\"/w/index.php?title=Playa_P%C3%B3geres&amp;action=edit&amp;redlink=1\" class=\"new\" title=\"Playa Pógeres (aún no redactado)\">Playa Pógeres</a></li>\n<li><a href=\"/w/index.php?title=Playa_Quizales&amp;action=edit&amp;redlink=1\" class=\"new\" title=\"Playa Quizales (aún no redactado)\">Playa Quizales</a></li>\n<li><a href=\"/w/index.php?title=Playa_San_Josecito_(Golfito)&amp;action=edit&amp;redlink=1\" class=\"new\" title=\"Playa San Josecito (Golfito) (aún no redactado)\">Playa San Josecito (Golfito)</a></li>\n<li><a href=\"/w/index.php?title=Playa_Savegre&amp;action=edit&amp;redlink=1\" class=\"new\" title=\"Playa Savegre (aún no redactado)\">Playa Savegre</a></li>\n<li><a href=\"/w/index.php?title=Playa_Sombrero&amp;action=edit&amp;redlink=1\" class=\"new\" title=\"Playa Sombrero (aún no redactado)\">Playa Sombrero</a></li>\n<li><a href=\"/w/index.php?title=Playa_Tamales&amp;action=edit&amp;redlink=1\" class=\"new\" title=\"Playa Tamales (aún no redactado)\">Playa Tamales</a></li>\n<li><a href=\"/wiki/Playa_Tambor\" class=\"mw-redirect\" title=\"Playa Tambor\">Playa Tambor</a></li>\n<li><a href=\"/w/index.php?title=Playa_T%C3%A1rcoles&amp;action=edit&amp;redlink=1\" class=\"new\" title=\"Playa Tárcoles (aún no redactado)\">Playa Tárcoles</a></li>\n<li><a href=\"/w/index.php?title=Playa_Tivives&amp;action=edit&amp;redlink=1\" class=\"new\" title=\"Playa Tivives (aún no redactado)\">Playa Tivives</a></li>\n<li><a href=\"/wiki/Isla_Tortuga_(Costa_Rica)\" title=\"Isla Tortuga (Costa Rica)\">Playa Tortuga</a></li>\n<li><a href=\"/w/index.php?title=Playa_Uvita&amp;action=edit&amp;redlink=1\" class=\"new\" title=\"Playa Uvita (aún no redactado)\">Playa Uvita</a></li>\n<li><a href=\"/w/index.php?title=Playa_Zancudo&amp;action=edit&amp;redlink=1\" class=\"new\" title=\"Playa Zancudo (aún no redactado)\">Playa Zancudo</a></li></ul>\n<!-- \nNewPP limit report\nParsed by mw1320\nCached time: 20201115170341\nCache expiry: 2592000\nDynamic content: false\nComplications: []\nCPU time usage: 0.068 seconds\nReal time usage: 0.084 seconds\nPreprocessor visited node count: 102/1000000\nPost‐expand include size: 0/2097152 bytes\nTemplate argument size: 0/2097152 bytes\nHighest expansion depth: 2/40\nExpensive parser function count: 0/500\nUnstrip recursion depth: 0/20\nUnstrip post‐expand size: 0/5000000 bytes\nNumber of Wikibase entities loaded: 0/400\n-->\n<!--\nTransclusion expansion time report (%,ms,calls,template)\n100.00%    0.000      1 -total\n-->\n\n<!-- Saved in parser cache with key eswiki:pcache:idhash:1729807-0!canonical and timestamp 20201115170341 and revision id 122449102. Serialized with PHP.\n -->\n</div><noscript><img src=\"//es.wikipedia.org/wiki/Special:CentralAutoLogin/start?type=1x1\" alt=\"\" title=\"\" width=\"1\" height=\"1\" style=\"border: none; position: absolute;\" /></noscript>\n<div class=\"printfooter\">Obtenido de «<a dir=\"ltr\" href=\"https://es.wikipedia.org/w/index.php?title=Anexo:Playas_de_Costa_Rica&amp;oldid=122449102\">https://es.wikipedia.org/w/index.php?title=Anexo:Playas_de_Costa_Rica&amp;oldid=122449102</a>»</div></div>\n\t\t<div id=\"catlinks\" class=\"catlinks\" data-mw=\"interface\"><div id=\"mw-normal-catlinks\" class=\"mw-normal-catlinks\"><a href=\"/wiki/Especial:Categor%C3%ADas\" title=\"Especial:Categorías\">Categoría</a>: <ul><li><a href=\"/wiki/Categor%C3%ADa:Playas_de_Costa_Rica\" title=\"Categoría:Playas de Costa Rica\">Playas de Costa Rica</a></li></ul></div></div>\n\t</div>\n</div>\n<div id='mw-data-after-content'>\n\t<div class=\"read-more-container\"></div>\n</div>\n\n<div id=\"mw-navigation\">\n\t<h2>Menú de navegación</h2>\n\t<div id=\"mw-head\">\n\t\t<!-- Please do not use role attribute as CSS selector, it is deprecated. -->\n<nav id=\"p-personal\" class=\"mw-portlet mw-portlet-personal vector-menu\" aria-labelledby=\"p-personal-label\" role=\"navigation\" \n\t >\n\t<h3 id=\"p-personal-label\">\n\t\t<span>Herramientas personales</span>\n\t</h3>\n\t<div class=\"vector-menu-content\">\n\t\t<ul class=\"vector-menu-content-list\"><li id=\"pt-anonuserpage\">No has accedido</li><li id=\"pt-anontalk\"><a href=\"/wiki/Especial:MiDiscusi%C3%B3n\" title=\"Discusión sobre ediciones hechas desde esta dirección IP [n]\" accesskey=\"n\">Discusión</a></li><li id=\"pt-anoncontribs\"><a href=\"/wiki/Especial:MisContribuciones\" title=\"Una lista de modificaciones hechas desde esta dirección IP [y]\" accesskey=\"y\">Contribuciones</a></li><li id=\"pt-createaccount\"><a href=\"/w/index.php?title=Especial:Crear_una_cuenta&amp;returnto=Anexo%3APlayas+de+Costa+Rica\" title=\"Te recomendamos crear una cuenta e iniciar sesión; sin embargo, no es obligatorio\">Crear una cuenta</a></li><li id=\"pt-login\"><a href=\"/w/index.php?title=Especial:Entrar&amp;returnto=Anexo%3APlayas+de+Costa+Rica\" title=\"Te recomendamos iniciar sesión, aunque no es obligatorio [o]\" accesskey=\"o\">Acceder</a></li></ul>\n\t\t\n\t</div>\n</nav>\n\n\t\t<div id=\"left-navigation\">\n\t\t\t<!-- Please do not use role attribute as CSS selector, it is deprecated. -->\n<nav id=\"p-namespaces\" class=\"mw-portlet mw-portlet-namespaces vector-menu vector-menu-tabs\" aria-labelledby=\"p-namespaces-label\" role=\"navigation\" \n\t >\n\t<h3 id=\"p-namespaces-label\">\n\t\t<span>Espacios de nombres</span>\n\t</h3>\n\t<div class=\"vector-menu-content\">\n\t\t<ul class=\"vector-menu-content-list\"><li id=\"ca-nstab-anexo\" class=\"selected\"><a href=\"/wiki/Anexo:Playas_de_Costa_Rica\">Anexo</a></li><li id=\"ca-talk\"><a href=\"/wiki/Anexo_discusi%C3%B3n:Playas_de_Costa_Rica\" rel=\"discussion\" title=\"Discusión acerca de la página [t]\" accesskey=\"t\">Discusión</a></li></ul>\n\t\t\n\t</div>\n</nav>\n\n\t\t\t<!-- Please do not use role attribute as CSS selector, it is deprecated. -->\n<nav id=\"p-variants\" class=\"mw-portlet mw-portlet-variants emptyPortlet vector-menu vector-menu-dropdown\" aria-labelledby=\"p-variants-label\" role=\"navigation\" \n\t >\n\t<input type=\"checkbox\" class=\"vector-menu-checkbox\" aria-labelledby=\"p-variants-label\" />\n\t<h3 id=\"p-variants-label\">\n\t\t<span>Variantes</span>\n\t</h3>\n\t<div class=\"vector-menu-content\">\n\t\t<ul class=\"vector-menu-content-list\"></ul>\n\t\t\n\t</div>\n</nav>\n\n\t\t</div>\n\t\t<div id=\"right-navigation\">\n\t\t\t<!-- Please do not use role attribute as CSS selector, it is deprecated. -->\n<nav id=\"p-views\" class=\"mw-portlet mw-portlet-views vector-menu vector-menu-tabs\" aria-labelledby=\"p-views-label\" role=\"navigation\" \n\t >\n\t<h3 id=\"p-views-label\">\n\t\t<span>Vistas</span>\n\t</h3>\n\t<div class=\"vector-menu-content\">\n\t\t<ul class=\"vector-menu-content-list\"><li id=\"ca-view\" class=\"selected\"><a href=\"/wiki/Anexo:Playas_de_Costa_Rica\">Leer</a></li><li id=\"ca-edit\"><a href=\"/w/index.php?title=Anexo:Playas_de_Costa_Rica&amp;action=edit\" title=\"Editar esta página [e]\" accesskey=\"e\">Editar</a></li><li id=\"ca-history\"><a href=\"/w/index.php?title=Anexo:Playas_de_Costa_Rica&amp;action=history\" title=\"Versiones anteriores de esta página [h]\" accesskey=\"h\">Ver historial</a></li></ul>\n\t\t\n\t</div>\n</nav>\n\n\t\t\t<!-- Please do not use role attribute as CSS selector, it is deprecated. -->\n<nav id=\"p-cactions\" class=\"mw-portlet mw-portlet-cactions emptyPortlet vector-menu vector-menu-dropdown\" aria-labelledby=\"p-cactions-label\" role=\"navigation\" \n\t >\n\t<input type=\"checkbox\" class=\"vector-menu-checkbox\" aria-labelledby=\"p-cactions-label\" />\n\t<h3 id=\"p-cactions-label\">\n\t\t<span>Más</span>\n\t</h3>\n\t<div class=\"vector-menu-content\">\n\t\t<ul class=\"vector-menu-content-list\"></ul>\n\t\t\n\t</div>\n</nav>\n\n\t\t\t<div id=\"p-search\" role=\"search\">\n\t<h3 >\n\t\t<label for=\"searchInput\">Buscar</label>\n\t</h3>\n\t<form action=\"/w/index.php\" id=\"searchform\">\n\t\t<div id=\"simpleSearch\" data-search-loc=\"header-navigation\">\n\t\t\t<input type=\"search\" name=\"search\" placeholder=\"Buscar en Wikipedia\" autocapitalize=\"sentences\" title=\"Buscar en este wiki [f]\" accesskey=\"f\" id=\"searchInput\"/>\n\t\t\t<input type=\"hidden\" name=\"title\" value=\"Especial:Buscar\">\n\t\t\t<input type=\"submit\" name=\"fulltext\" value=\"Buscar\" title=\"Busca páginas con este texto.\" id=\"mw-searchButton\" class=\"searchButton mw-fallbackSearchButton\"/>\n\t\t\t<input type=\"submit\" name=\"go\" value=\"Ir\" title=\"Ir a la página con este nombre exacto si existe\" id=\"searchButton\" class=\"searchButton\"/>\n\t\t</div>\n\t</form>\n</div>\n\n\t\t</div>\n\t</div>\n\t\n<div id=\"mw-panel\">\n\t<div id=\"p-logo\" role=\"banner\">\n\t\t<a  title=\"Visitar la página principal\" class=\"mw-wiki-logo\" href=\"/wiki/Wikipedia:Portada\"></a>\n\t</div>\n\t<!-- Please do not use role attribute as CSS selector, it is deprecated. -->\n<nav id=\"p-navigation\" class=\"mw-portlet mw-portlet-navigation vector-menu vector-menu-portal portal portal-first\" aria-labelledby=\"p-navigation-label\" role=\"navigation\" \n\t >\n\t<h3 id=\"p-navigation-label\">\n\t\t<span>Navegación</span>\n\t</h3>\n\t<div class=\"vector-menu-content\">\n\t\t<ul class=\"vector-menu-content-list\"><li id=\"n-mainpage-description\"><a href=\"/wiki/Wikipedia:Portada\" title=\"Visitar la página principal [z]\" accesskey=\"z\">Portada</a></li><li id=\"n-portal\"><a href=\"/wiki/Portal:Comunidad\" title=\"Acerca del proyecto, lo que puedes hacer, dónde encontrar información\">Portal de la comunidad</a></li><li id=\"n-currentevents\"><a href=\"/wiki/Portal:Actualidad\" title=\"Encuentra información de contexto sobre acontecimientos actuales\">Actualidad</a></li><li id=\"n-recentchanges\"><a href=\"/wiki/Especial:CambiosRecientes\" title=\"Lista de cambios recientes en el wiki [r]\" accesskey=\"r\">Cambios recientes</a></li><li id=\"n-newpages\"><a href=\"/wiki/Especial:P%C3%A1ginasNuevas\">Páginas nuevas</a></li><li id=\"n-randompage\"><a href=\"/wiki/Especial:Aleatoria\" title=\"Cargar una página al azar [x]\" accesskey=\"x\">Página aleatoria</a></li><li id=\"n-help\"><a href=\"/wiki/Ayuda:Contenidos\" title=\"El lugar para aprender\">Ayuda</a></li><li id=\"n-sitesupport\"><a href=\"//donate.wikimedia.org/wiki/Special:FundraiserRedirector?utm_source=donate&amp;utm_medium=sidebar&amp;utm_campaign=C13_es.wikipedia.org&amp;uselang=es\" title=\"Apóyanos\">Donaciones</a></li><li id=\"n-bug_in_article\"><a href=\"/wiki/Wikipedia:Informes_de_error\">Notificar un error</a></li></ul>\n\t\t\n\t</div>\n</nav>\n\n\t<!-- Please do not use role attribute as CSS selector, it is deprecated. -->\n<nav id=\"p-tb\" class=\"mw-portlet mw-portlet-tb vector-menu vector-menu-portal portal\" aria-labelledby=\"p-tb-label\" role=\"navigation\" \n\t >\n\t<h3 id=\"p-tb-label\">\n\t\t<span>Herramientas</span>\n\t</h3>\n\t<div class=\"vector-menu-content\">\n\t\t<ul class=\"vector-menu-content-list\"><li id=\"t-whatlinkshere\"><a href=\"/wiki/Especial:LoQueEnlazaAqu%C3%AD/Anexo:Playas_de_Costa_Rica\" title=\"Lista de todas las páginas del wiki que enlazan aquí [j]\" accesskey=\"j\">Lo que enlaza aquí</a></li><li id=\"t-recentchangeslinked\"><a href=\"/wiki/Especial:CambiosEnEnlazadas/Anexo:Playas_de_Costa_Rica\" rel=\"nofollow\" title=\"Cambios recientes en las páginas que enlazan con esta [k]\" accesskey=\"k\">Cambios en enlazadas</a></li><li id=\"t-upload\"><a href=\"//commons.wikimedia.org/wiki/Special:UploadWizard?uselang=es\" title=\"Subir archivos [u]\" accesskey=\"u\">Subir archivo</a></li><li id=\"t-specialpages\"><a href=\"/wiki/Especial:P%C3%A1ginasEspeciales\" title=\"Lista de todas las páginas especiales [q]\" accesskey=\"q\">Páginas especiales</a></li><li id=\"t-permalink\"><a href=\"/w/index.php?title=Anexo:Playas_de_Costa_Rica&amp;oldid=122449102\" title=\"Enlace permanente a esta versión de la página\">Enlace permanente</a></li><li id=\"t-info\"><a href=\"/w/index.php?title=Anexo:Playas_de_Costa_Rica&amp;action=info\" title=\"Más información sobre esta página\">Información de la página</a></li><li id=\"t-cite\"><a href=\"/w/index.php?title=Especial:Citar&amp;page=Anexo%3APlayas_de_Costa_Rica&amp;id=122449102&amp;wpFormIdentifier=titleform\" title=\"Información sobre cómo citar esta página\">Citar esta página</a></li><li id=\"t-wikibase\"><a href=\"https://www.wikidata.org/wiki/Special:EntityPage/Q6607398\" title=\"Enlace al elemento conectado del repositorio de datos [g]\" accesskey=\"g\">Elemento de Wikidata</a></li></ul>\n\t\t\n\t</div>\n</nav>\n<!-- Please do not use role attribute as CSS selector, it is deprecated. -->\n<nav id=\"p-coll-print_export\" class=\"mw-portlet mw-portlet-coll-print_export vector-menu vector-menu-portal portal\" aria-labelledby=\"p-coll-print_export-label\" role=\"navigation\" \n\t >\n\t<h3 id=\"p-coll-print_export-label\">\n\t\t<span>Imprimir/exportar</span>\n\t</h3>\n\t<div class=\"vector-menu-content\">\n\t\t<ul class=\"vector-menu-content-list\"><li id=\"coll-create_a_book\"><a href=\"/w/index.php?title=Especial:Libro&amp;bookcmd=book_creator&amp;referer=Anexo%3APlayas+de+Costa+Rica\">Crear un libro</a></li><li id=\"coll-download-as-rl\"><a href=\"/w/index.php?title=Especial:DownloadAsPdf&amp;page=Anexo%3APlayas_de_Costa_Rica&amp;action=show-download-screen\">Descargar como PDF</a></li><li id=\"t-print\"><a href=\"/w/index.php?title=Anexo:Playas_de_Costa_Rica&amp;printable=yes\" title=\"Versión imprimible de esta página [p]\" accesskey=\"p\">Versión para imprimir</a></li></ul>\n\t\t\n\t</div>\n</nav>\n\n\t<!-- Please do not use role attribute as CSS selector, it is deprecated. -->\n<nav id=\"p-lang\" class=\"mw-portlet mw-portlet-lang vector-menu vector-menu-portal portal\" aria-labelledby=\"p-lang-label\" role=\"navigation\" \n\t >\n\t<h3 id=\"p-lang-label\">\n\t\t<span>En otros idiomas</span>\n\t</h3>\n\t<div class=\"vector-menu-content\">\n\t\t<ul class=\"vector-menu-content-list\"><li class=\"interlanguage-link interwiki-ar\"><a href=\"https://ar.wikipedia.org/wiki/%D9%82%D8%A7%D8%A6%D9%85%D8%A9_%D8%B4%D9%88%D8%A7%D8%B7%D8%A6_%D8%A7%D9%84%D8%B9%D8%A7%D9%84%D9%85\" title=\"قائمة شواطئ العالم (árabe)\" lang=\"ar\" hreflang=\"ar\" class=\"interlanguage-link-target\">العربية</a></li><li class=\"interlanguage-link interwiki-en\"><a href=\"https://en.wikipedia.org/wiki/List_of_beaches#Costa_Rica\" title=\"List of beaches (inglés)\" lang=\"en\" hreflang=\"en\" class=\"interlanguage-link-target\">English</a></li></ul>\n\t\t<div class=\"after-portlet after-portlet-lang\"><span class=\"wb-langlinks-edit wb-langlinks-link\"><a href=\"https://www.wikidata.org/wiki/Special:EntityPage/Q6607398#sitelinks-wikipedia\" title=\"Editar enlaces interlingüísticos\" class=\"wbc-editpage\">Editar enlaces</a></span></div>\n\t</div>\n</nav>\n\n</div>\n\n</div>\n<footer id=\"footer\" class=\"mw-footer\" role=\"contentinfo\" >\n\t<ul id=\"footer-info\" >\n\t<li id=\"footer-info-lastmod\"> Esta página se editó por última vez el 2 ene 2020 a las 18:56.</li>\n\t<li id=\"footer-info-copyright\">El texto está disponible bajo la <a rel=\"license\" href=\"//es.wikipedia.org/wiki/Wikipedia:Texto_de_la_Licencia_Creative_Commons_Atribuci%C3%B3n-CompartirIgual_3.0_Unported\">Licencia Creative Commons Atribución Compartir Igual 3.0</a><a rel=\"license\" href=\"http://creativecommons.org/licenses/by-sa/3.0/\" style=\"display:none;\"></a>;\npueden aplicarse cláusulas adicionales. Al usar este sitio, usted acepta nuestros <a href=\"//wikimediafoundation.org/wiki/Terms_of_Use\">términos de uso</a> y nuestra <a href=\"//wikimediafoundation.org/wiki/Privacy_policy\">política de privacidad</a>. <br/>Wikipedia&reg; es una marca registrada de la <a href=\"//www.wikimediafoundation.org/\">Fundación Wikimedia, Inc.</a>, una organización sin ánimo de lucro.</li>\n</ul>\n\n\t<ul id=\"footer-places\" >\n\t<li id=\"footer-places-privacy\"><a href=\"https://meta.wikimedia.org/wiki/Privacy_policy/es\" class=\"extiw\" title=\"m:Privacy policy/es\">Política de privacidad</a></li>\n\t<li id=\"footer-places-about\"><a href=\"/wiki/Wikipedia:Acerca_de\" title=\"Wikipedia:Acerca de\">Acerca de Wikipedia</a></li>\n\t<li id=\"footer-places-disclaimer\"><a href=\"/wiki/Wikipedia:Limitaci%C3%B3n_general_de_responsabilidad\" title=\"Wikipedia:Limitación general de responsabilidad\">Limitación de responsabilidad</a></li>\n\t<li id=\"footer-places-mobileview\"><a href=\"//es.m.wikipedia.org/w/index.php?title=Anexo:Playas_de_Costa_Rica&amp;mobileaction=toggle_view_mobile\" class=\"noprint stopMobileRedirectToggle\">Versión para móviles</a></li>\n\t<li id=\"footer-places-developers\"><a href=\"https://www.mediawiki.org/wiki/Special:MyLanguage/How_to_contribute\">Desarrolladores</a></li>\n\t<li id=\"footer-places-statslink\"><a href=\"https://stats.wikimedia.org/#/es.wikipedia.org\">Estadísticas</a></li>\n\t<li id=\"footer-places-cookiestatement\"><a href=\"https://foundation.wikimedia.org/wiki/Cookie_statement/es\">Declaración de cookies</a></li>\n</ul>\n\n\t<ul id=\"footer-icons\" class=\"noprint\">\n\t<li id=\"footer-copyrightico\"><a href=\"https://wikimediafoundation.org/\"><img src=\"/static/images/footer/wikimedia-button.png\" srcset=\"/static/images/footer/wikimedia-button-1.5x.png 1.5x, /static/images/footer/wikimedia-button-2x.png 2x\" width=\"88\" height=\"31\" alt=\"Wikimedia Foundation\" loading=\"lazy\" /></a></li>\n\t<li id=\"footer-poweredbyico\"><a href=\"https://www.mediawiki.org/\"><img src=\"/static/images/footer/poweredby_mediawiki_88x31.png\" alt=\"Powered by MediaWiki\" srcset=\"/static/images/footer/poweredby_mediawiki_132x47.png 1.5x, /static/images/footer/poweredby_mediawiki_176x62.png 2x\" width=\"88\" height=\"31\" loading=\"lazy\"/></a></li>\n</ul>\n\n\t<div style=\"clear: both;\"></div>\n</footer>\n\n\n<script>(RLQ=window.RLQ||[]).push(function(){mw.config.set({\"wgPageParseReport\":{\"limitreport\":{\"cputime\":\"0.068\",\"walltime\":\"0.084\",\"ppvisitednodes\":{\"value\":102,\"limit\":1000000},\"postexpandincludesize\":{\"value\":0,\"limit\":2097152},\"templateargumentsize\":{\"value\":0,\"limit\":2097152},\"expansiondepth\":{\"value\":2,\"limit\":40},\"expensivefunctioncount\":{\"value\":0,\"limit\":500},\"unstrip-depth\":{\"value\":0,\"limit\":20},\"unstrip-size\":{\"value\":0,\"limit\":5000000},\"entityaccesscount\":{\"value\":0,\"limit\":400},\"timingprofile\":[\"100.00%    0.000      1 -total\"]},\"cachereport\":{\"origin\":\"mw1320\",\"timestamp\":\"20201115170341\",\"ttl\":2592000,\"transientcontent\":false}}});mw.config.set({\"wgBackendResponseTime\":114,\"wgHostname\":\"mw1391\"});});</script>\n</body></html>\n"
     ]
    }
   ],
   "source": [
    "print(content)"
   ]
  },
  {
   "cell_type": "code",
   "execution_count": 20,
   "metadata": {},
   "outputs": [],
   "source": [
    "data = content.split('<li><a href=\"')"
   ]
  },
  {
   "cell_type": "code",
   "execution_count": 23,
   "metadata": {},
   "outputs": [
    {
     "output_type": "stream",
     "name": "stdout",
     "text": [
      "/wiki/Refugio_Nacional_de_Fauna_Silvestre_Barra_del_Colorado\" class=\"mw-redirect\" title=\"Refugio Nacional de Fauna Silvestre Barra del Colorado\">Playa Barra del Colorado</a></li>\n\n"
     ]
    }
   ],
   "source": [
    "print(data[1]) # the list of beaches start at index 1"
   ]
  },
  {
   "cell_type": "code",
   "execution_count": 24,
   "metadata": {},
   "outputs": [
    {
     "output_type": "stream",
     "name": "stdout",
     "text": [
      "/wiki/Refugio_Nacional_de_Fauna_Silvestre_Barra_del_Colorado\" class=\"mw-redirect\" title=\"Refugio Nacional de Fauna Silvestre Barra del Colorado\">Playa Barra del Colorado</a></li>\n\n/w/index.php?title=Playa_Bonita_(Lim%C3%B3n)&amp;action=edit&amp;redlink=1\" class=\"new\" title=\"Playa Bonita (Limón) (aún no redactado)\">Playa Bonita</a></li>\n\n/w/index.php?title=Playa_Cahuita_(Blanca)&amp;action=edit&amp;redlink=1\" class=\"new\" title=\"Playa Cahuita (Blanca) (aún no redactado)\">Playa Cahuita (Blanca)</a></li>\n\n/wiki/Playa_Chiquita\" title=\"Playa Chiquita\">Playa Chiquita</a></li>\n\n/w/index.php?title=Punta_Cocles&amp;action=edit&amp;redlink=1\" class=\"new\" title=\"Punta Cocles (aún no redactado)\">Punta Cocles</a></li>\n\n/w/index.php?title=Playa_Gandoca&amp;action=edit&amp;redlink=1\" class=\"new\" title=\"Playa Gandoca (aún no redactado)\">Playa Gandoca</a></li>\n\n/w/index.php?title=Playa_Manzanillo_(Lim%C3%B3n)&amp;action=edit&amp;redlink=1\" class=\"new\" title=\"Playa Manzanillo (Limón) (aún no redactado)\">Playa Manzanillo</a></li>\n\n/w/index.php?title=Playa_Mo%C3%ADn&amp;action=edit&amp;redlink=1\" class=\"new\" title=\"Playa Moín (aún no redactado)\">Playa Moín</a></li>\n\n/w/index.php?title=Playa_Negra_(Puerto_Viejo)&amp;action=edit&amp;redlink=1\" class=\"new\" title=\"Playa Negra (Puerto Viejo) (aún no redactado)\">Playa Negra (Puerto Viejo)</a></li>\n\n/wiki/Parque_nacional_Cahuita\" title=\"Parque nacional Cahuita\">Playa Negra (Cahuita)</a></li>\n\n/w/index.php?title=Playa_Pirikiki&amp;action=edit&amp;redlink=1\" class=\"new\" title=\"Playa Pirikiki (aún no redactado)\">Playa Pirikiki</a></li>\n\n"
     ]
    }
   ],
   "source": [
    "### need to understand the data\n",
    "for d in data[1:12]:\n",
    "    print(d)"
   ]
  },
  {
   "cell_type": "code",
   "execution_count": 25,
   "metadata": {
    "tags": []
   },
   "outputs": [],
   "source": [
    "# better a dict with info about which places have info (I guess because are popular) and which not\n",
    "playas2 = {}\n",
    "\n",
    "for d in data[1:-1]:\n",
    "    inicio = (d.find('\">') + 2)\n",
    "    final = (d.find('</'))\n",
    "    name = d[inicio:final]\n",
    "\n",
    "    # it seems the most popular beaches are complete but the others are \"aún no redactado\"\n",
    "    ini = d.find('aún no')\n",
    "\n",
    "    if ini != -1: # if \"aún no redactado\" = no info of the beach, it is possible is not a popular beach\n",
    "        playas2[name] = False\n",
    "    else:\n",
    "        playas2[name] = True"
   ]
  },
  {
   "cell_type": "code",
   "execution_count": 26,
   "metadata": {},
   "outputs": [
    {
     "output_type": "execute_result",
     "data": {
      "text/plain": [
       "{'Playa Barra del Colorado': True,\n",
       " 'Playa Bonita': False,\n",
       " 'Playa Cahuita (Blanca)': False,\n",
       " 'Playa Chiquita': True,\n",
       " 'Punta Cocles': False,\n",
       " 'Playa Gandoca': False,\n",
       " 'Playa Manzanillo': False,\n",
       " 'Playa Moín': False,\n",
       " 'Playa Negra (Puerto Viejo)': False,\n",
       " 'Playa Negra (Cahuita)': True,\n",
       " 'Playa Pirikiki': False,\n",
       " 'Playa Portete': False,\n",
       " 'Playa Puerto Vargas': False,\n",
       " 'Playas Tortuguero': True,\n",
       " 'Playa Vizcaya': False,\n",
       " 'Playa Westfalia': False,\n",
       " 'Puerto Viejo de Talamanca': True,\n",
       " 'Punta Mona': True,\n",
       " 'Punta Uva': False,\n",
       " 'Playa Arbolito': False,\n",
       " 'Playa Avellanas': False,\n",
       " 'Playa Azul (Jurel)': False,\n",
       " 'Playa Bahía Junquillal': False,\n",
       " 'Playa Barco Quebrado': False,\n",
       " 'Playa Barrigona': False,\n",
       " 'Playa Bejuco': False,\n",
       " 'Playa Blanca (Santa Elena)': False,\n",
       " 'Playa Blanca y Virador': False,\n",
       " 'Playa Bongo': False,\n",
       " 'Playa Brasilito': False,\n",
       " 'Playa Buena Vista': False,\n",
       " 'Playa Camaronal': False,\n",
       " 'Playa Carbón': False,\n",
       " 'Playa Carmen': False,\n",
       " 'Playa Carrillo': True,\n",
       " 'Playa Cóncava': False,\n",
       " 'Playa Conchal': True,\n",
       " 'Playa Coyote': False,\n",
       " 'Playa Coyotera': False,\n",
       " 'Playa Cuajiniquil': False,\n",
       " 'Playa Culebra': False,\n",
       " 'Playas del Coco': True,\n",
       " 'Playa Flamingo': False,\n",
       " 'Playa Garza': False,\n",
       " 'Playa Grande': True,\n",
       " 'Playa Gringo': False,\n",
       " 'Playa Guiones': False,\n",
       " 'Playa Hermosa': True,\n",
       " 'Playa Iguanita': False,\n",
       " 'Playa Islita y Corozalito': False,\n",
       " 'Playa Jobo': False,\n",
       " 'Playa Junquillal': False,\n",
       " 'Playa La Penca': False,\n",
       " 'Playa Lagarto': False,\n",
       " 'Playa Langosta': False,\n",
       " 'Playa Mal País': False,\n",
       " 'Playa Marbella': False,\n",
       " 'Playa Manzanillo (Costa Rica)': False,\n",
       " 'Playa Nabos': False,\n",
       " 'Playa Nacascolo': False,\n",
       " 'Playa Nancite': False,\n",
       " 'Playa Naranjo': False,\n",
       " 'Playa Negra': False,\n",
       " 'Playa Nosara': True,\n",
       " 'Playa Nubes': False,\n",
       " 'Playa Ocotal': False,\n",
       " 'Playa Ostional': True,\n",
       " 'Playa Pan de Azúcar': False,\n",
       " 'Playa Panamá (Chrorotega)': False,\n",
       " 'Playa Pelada': False,\n",
       " 'Playa Pietra': False,\n",
       " 'Playa Pitahaya': False,\n",
       " 'Playa Pleito y San Juanillo': False,\n",
       " 'Playa Pochote (Papagayo)': True,\n",
       " 'Playa Potrero': False,\n",
       " 'Playa Real y Roble': False,\n",
       " 'Playa Rajada': False,\n",
       " 'Playa Sámara': False,\n",
       " 'Playa San Miguel': False,\n",
       " 'Playa Santa Teresa': False,\n",
       " 'Playa Surco de Piedra': False,\n",
       " 'Playa Prieta (Papagayo)': False,\n",
       " 'Playa Pochote (Salinas)': False,\n",
       " 'Playa Potrero Grande': False,\n",
       " 'Playa Puerto Soley': False,\n",
       " 'Playa Tamarindo': True,\n",
       " 'Playa Ventanas': False,\n",
       " 'Balnerario Puntarenas': True,\n",
       " 'Playa Agujas': False,\n",
       " 'Playa Bahía Drake': False,\n",
       " 'Playa Ballena': False,\n",
       " 'Playa Barú': False,\n",
       " 'Playa Blanca': False,\n",
       " 'Playa Boca Vieja': False,\n",
       " 'Playa Cabo Blanco': True,\n",
       " 'Playa Cabuya': False,\n",
       " 'Playa Cocalito': False,\n",
       " 'Playa Cacao': False,\n",
       " 'Playa Caldera': True,\n",
       " 'Playa Carate': False,\n",
       " 'Playa Curú': False,\n",
       " 'Playa de Arco': False,\n",
       " 'Playa de Doña Ana': False,\n",
       " 'Playa Dominical': True,\n",
       " 'Playa Dominicalito': False,\n",
       " 'Playa Espadilla': True,\n",
       " 'Playa Esterillos': True,\n",
       " 'Playa Garza (Boca Brava)': False,\n",
       " 'Playa Gigante': False,\n",
       " 'Playa Herradura': False,\n",
       " 'Playa Isla Damas': False,\n",
       " 'Playa Jacó': True,\n",
       " 'Playa Llorona': False,\n",
       " 'Playa Madrigal': False,\n",
       " 'Playa Mata de Limón': False,\n",
       " 'Playa Mantas': False,\n",
       " 'Playas Manuel Antonio': True,\n",
       " 'Playa Matapalo': False,\n",
       " 'Playa Montezuma': False,\n",
       " 'Playa Órganos': False,\n",
       " 'Playa Palma': False,\n",
       " 'Playa Palo Seco': False,\n",
       " 'Playa Pavones': False,\n",
       " 'Playa Piñuela': False,\n",
       " 'Playa Platanares': False,\n",
       " 'Playa Pógeres': False,\n",
       " 'Playa Quizales': False,\n",
       " 'Playa San Josecito (Golfito)': False,\n",
       " 'Playa Savegre': False,\n",
       " 'Playa Sombrero': False,\n",
       " 'Playa Tamales': False,\n",
       " 'Playa Tambor': True,\n",
       " 'Playa Tárcoles': False,\n",
       " 'Playa Tivives': False,\n",
       " 'Playa Tortuga': True,\n",
       " 'Playa Uvita': False,\n",
       " 'Playa Zancudo': False}"
      ]
     },
     "metadata": {},
     "execution_count": 26
    }
   ],
   "source": [
    "# also this dict have more beaches with punta or puerto that I did not count before\n",
    "playas2"
   ]
  },
  {
   "cell_type": "code",
   "execution_count": 27,
   "metadata": {},
   "outputs": [
    {
     "output_type": "execute_result",
     "data": {
      "text/plain": [
       "137"
      ]
     },
     "metadata": {},
     "execution_count": 27
    }
   ],
   "source": [
    "len(playas2.keys())"
   ]
  },
  {
   "cell_type": "code",
   "execution_count": 17,
   "metadata": {},
   "outputs": [],
   "source": [
    "source = requests.get(\"https://www.govisitcostarica.co.cr/travelInfo/beaches/beaches-list.asp\").text"
   ]
  },
  {
   "cell_type": "code",
   "execution_count": 18,
   "metadata": {
    "tags": []
   },
   "outputs": [],
   "source": [
    "soup2 = BeautifulSoup(source, 'html.parser')"
   ]
  },
  {
   "cell_type": "code",
   "execution_count": 22,
   "metadata": {
    "tags": []
   },
   "outputs": [],
   "source": [
    "for item in soup2.find_all('<div class=\"pageListContentRow\">'): # I need this but I need more practice with BS, it seems it just \n",
    "    print(item.text)                                            # works with tags and not other text"
   ]
  },
  {
   "cell_type": "code",
   "execution_count": 23,
   "metadata": {},
   "outputs": [],
   "source": [
    "url2 = urlopen(\"https://www.govisitcostarica.co.cr/travelInfo/beaches/beaches-list.asp\")"
   ]
  },
  {
   "cell_type": "code",
   "execution_count": 24,
   "metadata": {},
   "outputs": [],
   "source": [
    "contenido = str(url2.read(), encoding='utf-8')"
   ]
  },
  {
   "source": [
    "### There are 3 categories of beaches, use it to separete the places"
   ],
   "cell_type": "markdown",
   "metadata": {}
  },
  {
   "cell_type": "code",
   "execution_count": 29,
   "metadata": {
    "tags": []
   },
   "outputs": [],
   "source": [
    "types = contenido.split('<div class=\"pageListContentRow\">')"
   ]
  },
  {
   "cell_type": "code",
   "execution_count": 41,
   "metadata": {},
   "outputs": [
    {
     "output_type": "stream",
     "name": "stdout",
     "text": [
      "Surfing Beaches\nSnorkeling Beach\n"
     ]
    }
   ],
   "source": [
    "soup = BeautifulSoup(types[1], 'html.parser')\n",
    "for d in soup.find_all('div'):\n",
    "    print(d.text)"
   ]
  },
  {
   "cell_type": "code",
   "execution_count": 43,
   "metadata": {},
   "outputs": [
    {
     "output_type": "stream",
     "name": "stdout",
     "text": [
      "Bahía Salinas CahuitaP.N. CahuitaRefugio CamaronalDominicalEl RobleEsterillos EsteEsterillos OesteGarzaJacóP.N. Marino las Baulas MalpaísManuel AntonioMarbellaMatapaloPavonesPlaya AvellanaPlaya Bahia BallenaPlaya BejucoPlaya CaletasPlaya CoyotePlaya Doña AnaPlaya GrandePlaya GuionesPlaya HermosaPlaya JunquillalPlaya LangostaPlaya NegraPlaya NosaraPlaya San MiguelPlaya ZancudoPuerto LimonPuerto SoleyPuerto Viejo de TalamancaQueposP. N. Santa RosaSanta TeresaTamarindo\n470\nBahía Salinas \n14\nCahuita\n7\nP.N. Cahuita\n12\nRefugio Camaronal\n17\nDominical\n9\nEl Roble\n8\nEsterillos Este\n15\nEsterillos Oeste\n16\nGarza\n5\nJacó\n4\nP.N. Marino las Baulas \n23\nMalpaís\n7\nManuel Antonio\n14\nMarbella\n8\nMatapalo\n8\nPavones\n7\nPlaya Avellana\n14\nPlaya Bahia Ballena\n19\nPlaya Bejuco\n12\nPlaya Caletas\n13\nPlaya Coyote\n12\nPlaya Doña Ana\n14\nPlaya Grande\n12\nPlaya Guiones\n13\nPlaya Hermosa\n13\nPlaya Junquillal\n16\nPlaya Langosta\n14\nPlaya Negra\n11\nPlaya Nosara\n12\nPlaya San Miguel\n16\nPlaya Zancudo\n13\nPuerto Limon\n12\nPuerto Soley\n12\nPuerto Viejo de Talamanca\n25\nQuepos\n6\nP. N. Santa Rosa\n16\nSanta Teresa\n12\nTamarindo\n9\n\nRefugio Bahía JunquillalP.N. BallenaCahuitaP.N. CahuitaIsla del CañoP. N. Isla del CocoDrake BayIsla BallenaManuel AntonioManzanilloMontezumaGolfo de PapagayoPlaya CarrilloPlaya ChiquitaPlaya ConchalPlaya HermosaPlaya HerraduraPlaya OcotalPlaya Pan de AzucarPlaya PanamáPlaya PotreroPlaya UvitaPlaya ZancudoPuerto LimonPuerto Viejo de TalamancaSan JuanilloTortuga AbajoIsla Tortuga\n\n383\nRefugio Bahía Junquillal\n24\nP.N. Ballena\n12\nCahuita\n7\nP.N. Cahuita\n12\nIsla del Caño\n13\nP. N. Isla del Coco\n19\nDrake Bay\n9\nIsla Ballena\n12\nManuel Antonio\n14\nManzanillo\n10\nMontezuma\n9\nGolfo de Papagayo\n17\nPlaya Carrillo\n14\nPlaya Chiquita\n14\nPlaya Conchal\n13\nPlaya Hermosa\n13\nPlaya Herradura\n15\nPlaya Ocotal\n12\nPlaya Pan de Azucar\n19\nPlaya Panamá\n12\nPlaya Potrero\n13\nPlaya Uvita\n11\nPlaya Zancudo\n13\nPuerto Limon\n12\nPuerto Viejo de Talamanca\n25\nSan Juanillo\n12\nTortuga Abajo\n13\nIsla Tortuga\n12\n"
     ]
    }
   ],
   "source": [
    "soup = BeautifulSoup(types[2], 'html.parser')\n",
    "for d in soup.find_all('div'):\n",
    "    print(d.text)\n",
    "    print(len(d.text))"
   ]
  },
  {
   "cell_type": "code",
   "execution_count": 39,
   "metadata": {
    "tags": []
   },
   "outputs": [
    {
     "output_type": "stream",
     "name": "stdout",
     "text": [
      "Swimming Beaches\n\n"
     ]
    }
   ],
   "source": [
    "soup = BeautifulSoup(types[3], 'html.parser')\n",
    "for d in soup.find_all('div'):\n",
    "    print(d.text)"
   ]
  },
  {
   "cell_type": "code",
   "execution_count": 40,
   "metadata": {},
   "outputs": [
    {
     "output_type": "stream",
     "name": "stdout",
     "text": [
      "Refugio Bahía JunquillalP.N. BallenaCabuyaCahuitaP.N. CahuitaIsla del CañoCoronadoRefugio CurúDrake BayEl RobleGarzaRefugio GolfitoReserva Golfo DulceHacienda PinillaIsla BallenaIslitaJacóLa PalmaP.N. Marino las Baulas MalpaísManuel AntonioP.N. Manuel AntonioManzanilloMarbellaMatapaloMontezumaGolfo de PapagayoPaqueraParisminaP. N. Piedras BlancasPlaya Bahia BallenaPlaya BejucoPlaya BrasilitoPlaya Carrillo\nRefugio Bahía Junquillal\nP.N. Ballena\nCabuya\nCahuita\nP.N. Cahuita\nIsla del Caño\nCoronado\nRefugio Curú\nDrake Bay\nEl Roble\nGarza\nRefugio Golfito\nReserva Golfo Dulce\nHacienda Pinilla\nIsla Ballena\nIslita\nJacó\nLa Palma\nP.N. Marino las Baulas \nMalpaís\nManuel Antonio\nP.N. Manuel Antonio\nManzanillo\nMarbella\nMatapalo\nMontezuma\nGolfo de Papagayo\nPaquera\nParismina\nP. N. Piedras Blancas\nPlaya Bahia Ballena\nPlaya Bejuco\nPlaya Brasilito\nPlaya Carrillo\nPlaya CativoPlaya ChiquitaPlaya ConchalPlaya CoyotePlaya FlamingoPlaya GrandePlaya GuionesPlaya HermosaPlaya HerraduraPlaya ManzanilloPlaya NaranjoPlaya NosaraPlaya OcotalPlaya Pan de AzucarPlaya PanamáPlaya PinuelaPlaya PotreroPlaya RealPlaya TortugaPlaya UvitaPlaya ZancudoPlayas del CocoPuerto JiménezPuerto Viejo de TalamancaPunta BancoPunta LeonaSamaraSan JuanilloP. N. Santa RosaSanta TeresaTamarindoTamborTortuga AbajoIsla Tortuga\nPlaya Cativo\nPlaya Chiquita\nPlaya Conchal\nPlaya Coyote\nPlaya Flamingo\nPlaya Grande\nPlaya Guiones\nPlaya Hermosa\nPlaya Herradura\nPlaya Manzanillo\nPlaya Naranjo\nPlaya Nosara\nPlaya Ocotal\nPlaya Pan de Azucar\nPlaya Panamá\nPlaya Pinuela\nPlaya Potrero\nPlaya Real\nPlaya Tortuga\nPlaya Uvita\nPlaya Zancudo\nPlayas del Coco\nPuerto Jiménez\nPuerto Viejo de Talamanca\nPunta Banco\nPunta Leona\nSamara\nSan Juanillo\nP. N. Santa Rosa\nSanta Teresa\nTamarindo\nTambor\nTortuga Abajo\nIsla Tortuga\nTour de Aventura en Guanacaste7 Días y 6 NochesPrecios Desde $779 por personaVer ItinerarioTour de Playa y Parque Nacional en Costa Rica14 Días y 13 NochesPrecios Desde $1,726 por personaVer Itinerario\n\nTour de Aventura en Guanacaste7 Días y 6 NochesPrecios Desde $779 por personaVer Itinerario\nTour de Aventura en Guanacaste\n\n7 Días y 6 Noches\nPrecios Desde $779 por persona\nVer Itinerario\n\nTour de Playa y Parque Nacional en Costa Rica14 Días y 13 NochesPrecios Desde $1,726 por personaVer Itinerario\nTour de Playa y Parque Nacional en Costa Rica\n\n14 Días y 13 Noches\nPrecios Desde $1,726 por persona\nVer Itinerario\n\n\n\n\n\n\nLos Mejores Hoteles en Costa RicaHotel DestacadoBoutique Hotel Lagarta LodgeDesde $249(USD) / nocheVer PrecioHotel DestacadoHotel Tamarindo Diria Beach ResortDesde $167(USD) / nocheVer PrecioHotel DestacadoVolcano Lodge and SpringsDesde $118(USD) / nocheVer PrecioHotel DestacadoHotel Poco a PocoDesde $97(USD) / nocheVer PrecioHotel DestacadoHampton Inn & Suites by Hilton San Jose AirportDesde $116(USD) / nocheVer PrecioHotel DestacadoHotel LuisianaDesde $44(USD) / nocheVer PrecioHotel DestacadoCourtyard by Marriott San Jose Airport - AlajuelaDesde $137(USD) / nocheVer PrecioHotel DestacadoCroc's Resort & CasinoDesde $180(USD) / habitacion doble - Todo IncluidoVer Precio\n\nLos Mejores Hoteles en Costa Rica\nHotel DestacadoBoutique Hotel Lagarta LodgeDesde $249(USD) / nocheVer PrecioHotel DestacadoHotel Tamarindo Diria Beach ResortDesde $167(USD) / nocheVer PrecioHotel DestacadoVolcano Lodge and SpringsDesde $118(USD) / nocheVer PrecioHotel DestacadoHotel Poco a PocoDesde $97(USD) / nocheVer PrecioHotel DestacadoHampton Inn & Suites by Hilton San Jose AirportDesde $116(USD) / nocheVer PrecioHotel DestacadoHotel LuisianaDesde $44(USD) / nocheVer PrecioHotel DestacadoCourtyard by Marriott San Jose Airport - AlajuelaDesde $137(USD) / nocheVer PrecioHotel DestacadoCroc's Resort & CasinoDesde $180(USD) / habitacion doble - Todo IncluidoVer Precio\nHotel DestacadoBoutique Hotel Lagarta LodgeDesde $249(USD) / nocheVer PrecioHotel DestacadoHotel Tamarindo Diria Beach ResortDesde $167(USD) / nocheVer PrecioHotel DestacadoVolcano Lodge and SpringsDesde $118(USD) / nocheVer PrecioHotel DestacadoHotel Poco a PocoDesde $97(USD) / nocheVer PrecioHotel DestacadoHampton Inn & Suites by Hilton San Jose AirportDesde $116(USD) / nocheVer PrecioHotel DestacadoHotel LuisianaDesde $44(USD) / nocheVer PrecioHotel DestacadoCourtyard by Marriott San Jose Airport - AlajuelaDesde $137(USD) / nocheVer PrecioHotel DestacadoCroc's Resort & CasinoDesde $180(USD) / habitacion doble - Todo IncluidoVer Precio\nHotel DestacadoBoutique Hotel Lagarta LodgeDesde $249(USD) / nocheVer Precio\nHotel Destacado\nBoutique Hotel Lagarta Lodge\n\nDesde $249(USD) / noche\nDesde $249(USD) / noche\nVer Precio\nHotel DestacadoHotel Tamarindo Diria Beach ResortDesde $167(USD) / nocheVer Precio\nHotel Destacado\nHotel Tamarindo Diria Beach Resort\n\nDesde $167(USD) / noche\nDesde $167(USD) / noche\nVer Precio\nHotel DestacadoVolcano Lodge and SpringsDesde $118(USD) / nocheVer Precio\nHotel Destacado\nVolcano Lodge and Springs\n\nDesde $118(USD) / noche\nDesde $118(USD) / noche\nVer Precio\nHotel DestacadoHotel Poco a PocoDesde $97(USD) / nocheVer Precio\nHotel Destacado\nHotel Poco a Poco\n\nDesde $97(USD) / noche\nDesde $97(USD) / noche\nVer Precio\nHotel DestacadoHampton Inn & Suites by Hilton San Jose AirportDesde $116(USD) / nocheVer Precio\nHotel Destacado\nHampton Inn & Suites by Hilton San Jose Airport\n\nDesde $116(USD) / noche\nDesde $116(USD) / noche\nVer Precio\nHotel DestacadoHotel LuisianaDesde $44(USD) / nocheVer Precio\nHotel Destacado\nHotel Luisiana\n\nDesde $44(USD) / noche\nDesde $44(USD) / noche\nVer Precio\nHotel DestacadoCourtyard by Marriott San Jose Airport - AlajuelaDesde $137(USD) / nocheVer Precio\nHotel Destacado\nCourtyard by Marriott San Jose Airport - Alajuela\n\nDesde $137(USD) / noche\nDesde $137(USD) / noche\nVer Precio\nHotel DestacadoCroc's Resort & CasinoDesde $180(USD) / habitacion doble - Todo IncluidoVer Precio\nHotel Destacado\nCroc's Resort & Casino\n\nDesde $180(USD) / habitacion doble - Todo Incluido\nDesde $180(USD) / habitacion doble - Todo Incluido\nVer Precio\n\nLos Mejores 10 DestinosHacia dónde quiere ir? Hermosos lugares le esperan en Costa Rica. Pura Vida!Ver DetallesBlog de JaviNuestra mascota será su guía en Costa Rica. Qué HacerQué hacer para todos. Desde jóvenes hasta familias.Ver DetallesPaquetes VacacionalesHoteles, aventura, playa, caminatas, relajación, estos paquetes vacacionales le encantarán.Ver DetallesRegístrese para el boletín de JaviLo mejor de Costa RicaGo Visit Costa Rica'sMejores HotelesCosas que HacerQué VerInfo de ViajeVida SilvestreDatos CuriososSuscríbase al Boletín Pura Vida\n\n\nLos Mejores 10 DestinosHacia dónde quiere ir? Hermosos lugares le esperan en Costa Rica. Pura Vida!Ver Detalles\nLos Mejores 10 DestinosHacia dónde quiere ir? Hermosos lugares le esperan en Costa Rica. Pura Vida!\nHacia dónde quiere ir? Hermosos lugares le esperan en Costa Rica. Pura Vida!\nVer Detalles\nBlog de JaviNuestra mascota será su guía en Costa Rica. \nBlog de JaviNuestra mascota será su guía en Costa Rica.\nNuestra mascota será su guía en Costa Rica.\n \nQué HacerQué hacer para todos. Desde jóvenes hasta familias.Ver Detalles\nQué HacerQué hacer para todos. Desde jóvenes hasta familias.\nQué hacer para todos. Desde jóvenes hasta familias.\nVer Detalles\nPaquetes VacacionalesHoteles, aventura, playa, caminatas, relajación, estos paquetes vacacionales le encantarán.Ver Detalles\nPaquetes VacacionalesHoteles, aventura, playa, caminatas, relajación, estos paquetes vacacionales le encantarán.\nHoteles, aventura, playa, caminatas, relajación, estos paquetes vacacionales le encantarán.\nVer Detalles\nRegístrese para el boletín de JaviLo mejor de Costa RicaGo Visit Costa Rica'sMejores HotelesCosas que HacerQué VerInfo de ViajeVida SilvestreDatos CuriososSuscríbase al Boletín Pura Vida\nRegístrese para el boletín de JaviLo mejor de Costa Rica\nLo mejor de Costa Rica\nGo Visit Costa Rica'sMejores HotelesCosas que HacerQué VerInfo de ViajeVida SilvestreDatos Curiosos\nGo Visit Costa Rica'sMejores HotelesCosas que HacerQué VerInfo de ViajeVida SilvestreDatos Curiosos\n\nSuscríbase al Boletín Pura Vida\nSuscríbase al Boletín Pura Vida\n\n\n\n\n\n\n\n\n\n\n\n\nInicio\nAcerca de Nosotros\nIngreso para Miembros\nAnúnciese con Nosotros\nContáctenos\nClíma\nFotos de Costa Rica\nMapas\nTiempos de Viaje por Costa Rica\nDirectrices de Revisiones del Cliente\nCondiciones de Uso\nConfidencialidad\nCompañias de Turismo\nCiudades de Costa Rica\nMapa del Sitio\n\n\nQué Hacer\nLos 10 Destinos Más Populares\nPlayas\nVolcanes\nParques Nacionales\nPaseos Diarios\nGuía de Surfistas\nComo Viajar\nLíneas Aéreas Nationales\nBuses Privados\nAlquiler de Autos\nLíneas Aéreas Internacionales\nActividades\nActividades al Aire Libre\nEntretenimiento\nActividades Culturales\n\n\nAlojamiento\nHoteles\nRentas Vacacionales\nEco Hoteles\nHoteles Todo Incluido\nHoteles con Campos de Golf\nA Dónde Ir\nAlajuela\nHeredia\nSan José\nCartago\nLimón\nPuntarenas Sur\nPuntarenas Norte\nGuanacaste\n\n\nPaquetes Vacacionales\nTour Alrededor de Costa Rica\nBosque Nuboso y Volcán Arenal Tour\nTour de Playa y Parque Nacional en Costa Rica\nTour de Eco-Aventura en Costa Rica\nEco Experiencia: Una Aventura en Costa Rica\nSiga a Javi the Frog\nMascota de Go Visit Costa Rica\nFacebook\nTwitter\nPinterest\nYouTube\nInstagram\nBoletin de Javi the Frog\n\n\n\nBlog de Javi\nSiga a la mascota de Go Visit Costa Rica\nSu guía para lo mejor de Costa Rica\n\n\nCopyright © 2003 - 2020, www.GoVisitCostaRica.co.cr una sucursal de Delfina Travel Group Inc. Todos los derechos reservados.\n\n\n\n\n\n\n\n\n\n\n\n\nInicio\nAcerca de Nosotros\nIngreso para Miembros\nAnúnciese con Nosotros\nContáctenos\nClíma\nFotos de Costa Rica\nMapas\nTiempos de Viaje por Costa Rica\nDirectrices de Revisiones del Cliente\nCondiciones de Uso\nConfidencialidad\nCompañias de Turismo\nCiudades de Costa Rica\nMapa del Sitio\n\n\nQué Hacer\nLos 10 Destinos Más Populares\nPlayas\nVolcanes\nParques Nacionales\nPaseos Diarios\nGuía de Surfistas\nComo Viajar\nLíneas Aéreas Nationales\nBuses Privados\nAlquiler de Autos\nLíneas Aéreas Internacionales\nActividades\nActividades al Aire Libre\nEntretenimiento\nActividades Culturales\n\n\nAlojamiento\nHoteles\nRentas Vacacionales\nEco Hoteles\nHoteles Todo Incluido\nHoteles con Campos de Golf\nA Dónde Ir\nAlajuela\nHeredia\nSan José\nCartago\nLimón\nPuntarenas Sur\nPuntarenas Norte\nGuanacaste\n\n\nPaquetes Vacacionales\nTour Alrededor de Costa Rica\nBosque Nuboso y Volcán Arenal Tour\nTour de Playa y Parque Nacional en Costa Rica\nTour de Eco-Aventura en Costa Rica\nEco Experiencia: Una Aventura en Costa Rica\nSiga a Javi the Frog\nMascota de Go Visit Costa Rica\nFacebook\nTwitter\nPinterest\nYouTube\nInstagram\nBoletin de Javi the Frog\n\n\n\nBlog de Javi\nSiga a la mascota de Go Visit Costa Rica\nSu guía para lo mejor de Costa Rica\n\n\nCopyright © 2003 - 2020, www.GoVisitCostaRica.co.cr una sucursal de Delfina Travel Group Inc. Todos los derechos reservados.\n\n\n\n\n\n\n\n\n\n\n\n\n\n\n\n\n\n\nInicio\nAcerca de Nosotros\nIngreso para Miembros\nAnúnciese con Nosotros\nContáctenos\nClíma\nFotos de Costa Rica\nMapas\nTiempos de Viaje por Costa Rica\nDirectrices de Revisiones del Cliente\nCondiciones de Uso\nConfidencialidad\nCompañias de Turismo\nCiudades de Costa Rica\nMapa del Sitio\n\n\nQué Hacer\nLos 10 Destinos Más Populares\nPlayas\nVolcanes\nParques Nacionales\nPaseos Diarios\nGuía de Surfistas\nComo Viajar\nLíneas Aéreas Nationales\nBuses Privados\nAlquiler de Autos\nLíneas Aéreas Internacionales\nActividades\nActividades al Aire Libre\nEntretenimiento\nActividades Culturales\n\n\nAlojamiento\nHoteles\nRentas Vacacionales\nEco Hoteles\nHoteles Todo Incluido\nHoteles con Campos de Golf\nA Dónde Ir\nAlajuela\nHeredia\nSan José\nCartago\nLimón\nPuntarenas Sur\nPuntarenas Norte\nGuanacaste\n\n\nPaquetes Vacacionales\nTour Alrededor de Costa Rica\nBosque Nuboso y Volcán Arenal Tour\nTour de Playa y Parque Nacional en Costa Rica\nTour de Eco-Aventura en Costa Rica\nEco Experiencia: Una Aventura en Costa Rica\nSiga a Javi the Frog\nMascota de Go Visit Costa Rica\nFacebook\nTwitter\nPinterest\nYouTube\nInstagram\nBoletin de Javi the Frog\n\n\n\nBlog de Javi\nSiga a la mascota de Go Visit Costa Rica\nSu guía para lo mejor de Costa Rica\n\n\nCopyright © 2003 - 2020, www.GoVisitCostaRica.co.cr una sucursal de Delfina Travel Group Inc. Todos los derechos reservados.\n\n\nInicio\nAcerca de Nosotros\nIngreso para Miembros\nAnúnciese con Nosotros\nContáctenos\nClíma\nFotos de Costa Rica\nMapas\nTiempos de Viaje por Costa Rica\nDirectrices de Revisiones del Cliente\nCondiciones de Uso\nConfidencialidad\nCompañias de Turismo\nCiudades de Costa Rica\nMapa del Sitio\n\nInicio\nAcerca de Nosotros\nIngreso para Miembros\nAnúnciese con Nosotros\nContáctenos\nClíma\nFotos de Costa Rica\nMapas\nTiempos de Viaje por Costa Rica\nDirectrices de Revisiones del Cliente\nCondiciones de Uso\nConfidencialidad\nCompañias de Turismo\nCiudades de Costa Rica\nMapa del Sitio\n\nQué Hacer\nLos 10 Destinos Más Populares\nPlayas\nVolcanes\nParques Nacionales\nPaseos Diarios\nGuía de Surfistas\nComo Viajar\nLíneas Aéreas Nationales\nBuses Privados\nAlquiler de Autos\nLíneas Aéreas Internacionales\nActividades\nActividades al Aire Libre\nEntretenimiento\nActividades Culturales\n\nQué Hacer\nLos 10 Destinos Más Populares\nPlayas\nVolcanes\nParques Nacionales\nPaseos Diarios\nGuía de Surfistas\nComo Viajar\nLíneas Aéreas Nationales\nBuses Privados\nAlquiler de Autos\nLíneas Aéreas Internacionales\nActividades\nActividades al Aire Libre\nEntretenimiento\nActividades Culturales\n\nAlojamiento\nHoteles\nRentas Vacacionales\nEco Hoteles\nHoteles Todo Incluido\nHoteles con Campos de Golf\nA Dónde Ir\nAlajuela\nHeredia\nSan José\nCartago\nLimón\nPuntarenas Sur\nPuntarenas Norte\nGuanacaste\n\nAlojamiento\nHoteles\nRentas Vacacionales\nEco Hoteles\nHoteles Todo Incluido\nHoteles con Campos de Golf\nA Dónde Ir\nAlajuela\nHeredia\nSan José\nCartago\nLimón\nPuntarenas Sur\nPuntarenas Norte\nGuanacaste\n\nPaquetes Vacacionales\nTour Alrededor de Costa Rica\nBosque Nuboso y Volcán Arenal Tour\nTour de Playa y Parque Nacional en Costa Rica\nTour de Eco-Aventura en Costa Rica\nEco Experiencia: Una Aventura en Costa Rica\nSiga a Javi the Frog\nMascota de Go Visit Costa Rica\nFacebook\nTwitter\nPinterest\nYouTube\nInstagram\nBoletin de Javi the Frog\n\n\n\nBlog de Javi\nSiga a la mascota de Go Visit Costa Rica\nSu guía para lo mejor de Costa Rica\n\nPaquetes Vacacionales\nTour Alrededor de Costa Rica\nBosque Nuboso y Volcán Arenal Tour\nTour de Playa y Parque Nacional en Costa Rica\nTour de Eco-Aventura en Costa Rica\nEco Experiencia: Una Aventura en Costa Rica\nSiga a Javi the Frog\nMascota de Go Visit Costa Rica\nFacebook\nTwitter\nPinterest\nYouTube\nInstagram\nBoletin de Javi the Frog\n\nFacebook\nTwitter\nPinterest\nYouTube\nInstagram\nBoletin de Javi the Frog\n\n\nBlog de Javi\nSiga a la mascota de Go Visit Costa Rica\nSu guía para lo mejor de Costa Rica\n\nCopyright © 2003 - 2020, www.GoVisitCostaRica.co.cr una sucursal de Delfina Travel Group Inc. Todos los derechos reservados.\n\n\n\n\n¿Viajando a Costa Rica?\nObtenga información sobre los mejores lugares y actividades en Costa Rica en nuestra Newsletter gratuita semanal.\n\nPor favor ingresa tu E-mail\nPor favor ingresa una dirección válida de E-mail\n\nIngresa tu E-mail\n\n......\n\n\n\nGracias por Inscribirte en nuestra Pura Vida NewsletterRecuerda agregar JaviTheFrog@GoVisitCostaRica.com a tu lista de contactos para asegurarte de recibir todos mis correos electrónicos, no te preocupes, no llenaré tu bandeja de entrada.\n\n\n\n\n\n\n¿Viajando a Costa Rica?\nObtenga información sobre los mejores lugares y actividades en Costa Rica en nuestra Newsletter gratuita semanal.\n\nPor favor ingresa tu E-mail\nPor favor ingresa una dirección válida de E-mail\n\nIngresa tu E-mail\n\n......\n\n\n\nGracias por Inscribirte en nuestra Pura Vida NewsletterRecuerda agregar JaviTheFrog@GoVisitCostaRica.com a tu lista de contactos para asegurarte de recibir todos mis correos electrónicos, no te preocupes, no llenaré tu bandeja de entrada.\n\n\n\n¿Viajando a Costa Rica?\nObtenga información sobre los mejores lugares y actividades en Costa Rica en nuestra Newsletter gratuita semanal.\n\nPor favor ingresa tu E-mail\nPor favor ingresa una dirección válida de E-mail\n\nIngresa tu E-mail\n\n......\n\n\n¿Viajando a Costa Rica?\nObtenga información sobre los mejores lugares y actividades en Costa Rica en nuestra Newsletter gratuita semanal.\n\n\nPor favor ingresa tu E-mail\nPor favor ingresa una dirección válida de E-mail\nIngresa tu E-mail\n\n......\n......\n\nGracias por Inscribirte en nuestra Pura Vida NewsletterRecuerda agregar JaviTheFrog@GoVisitCostaRica.com a tu lista de contactos para asegurarte de recibir todos mis correos electrónicos, no te preocupes, no llenaré tu bandeja de entrada.\n\nGracias por Inscribirte en nuestra Pura Vida Newsletter\nRecuerda agregar JaviTheFrog@GoVisitCostaRica.com a tu lista de contactos para asegurarte de recibir todos mis correos electrónicos, no te preocupes, no llenaré tu bandeja de entrada.\n\n\n"
     ]
    }
   ],
   "source": [
    "soup = BeautifulSoup(types[4], 'html.parser')\n",
    "for d in soup.find_all('div'):\n",
    "    print(d.text)"
   ]
  },
  {
   "cell_type": "code",
   "execution_count": 44,
   "metadata": {},
   "outputs": [],
   "source": [
    "dd = {}"
   ]
  },
  {
   "cell_type": "code",
   "execution_count": null,
   "metadata": {},
   "outputs": [],
   "source": []
  },
  {
   "cell_type": "code",
   "execution_count": 54,
   "metadata": {},
   "outputs": [],
   "source": [
    "de = {}"
   ]
  },
  {
   "cell_type": "code",
   "execution_count": 56,
   "metadata": {},
   "outputs": [],
   "source": [
    "from collections import defaultdict"
   ]
  },
  {
   "cell_type": "code",
   "execution_count": 57,
   "metadata": {},
   "outputs": [],
   "source": [
    "de = defaultdict(dict)"
   ]
  },
  {
   "cell_type": "code",
   "execution_count": 58,
   "metadata": {},
   "outputs": [],
   "source": [
    "de['playa1']['style'] = 'surf'"
   ]
  },
  {
   "cell_type": "code",
   "execution_count": 59,
   "metadata": {},
   "outputs": [
    {
     "output_type": "execute_result",
     "data": {
      "text/plain": [
       "defaultdict(dict, {'playa1': {'style': 'surf'}})"
      ]
     },
     "metadata": {},
     "execution_count": 59
    }
   ],
   "source": [
    "de"
   ]
  },
  {
   "cell_type": "code",
   "execution_count": 60,
   "metadata": {},
   "outputs": [],
   "source": [
    "de['playa1']['popular'] = True"
   ]
  },
  {
   "cell_type": "code",
   "execution_count": 61,
   "metadata": {},
   "outputs": [
    {
     "output_type": "execute_result",
     "data": {
      "text/plain": [
       "defaultdict(dict, {'playa1': {'style': 'surf', 'popular': True}})"
      ]
     },
     "metadata": {},
     "execution_count": 61
    }
   ],
   "source": [
    "de"
   ]
  },
  {
   "cell_type": "code",
   "execution_count": null,
   "metadata": {},
   "outputs": [],
   "source": []
  },
  {
   "cell_type": "code",
   "execution_count": null,
   "metadata": {},
   "outputs": [],
   "source": []
  },
  {
   "cell_type": "code",
   "execution_count": 75,
   "metadata": {},
   "outputs": [
    {
     "output_type": "stream",
     "name": "stdout",
     "text": [
      "Playa Zancudo, Ferrocarril del Sur, Kilometro 7, Florida, Golfito, Cantón Golfito, 60701, Costa Rica\n"
     ]
    }
   ],
   "source": [
    "#to practice let's find the location of the first place in the list\n",
    "\n",
    "address = 'Playa Zancudo, Costa Rica'\n",
    "\n",
    "geolocator = Nominatim(user_agent=\"cr_explorer\")\n",
    "location = geolocator.geocode(address)\n",
    "print(location)\n",
    "#latitude = location.latitude\n",
    "#longitude = location.longitude\n",
    "#print(type(latitude))\n",
    "#li.append(latitude)\n",
    "#print('The geograpical coordinate of New York City are {}, {}.'.format(latitude, longitude))"
   ]
  },
  {
   "cell_type": "code",
   "execution_count": 71,
   "metadata": {},
   "outputs": [
    {
     "output_type": "execute_result",
     "data": {
      "text/plain": [
       "137"
      ]
     },
     "metadata": {},
     "execution_count": 71
    }
   ],
   "source": [
    "beaches = playas2.keys()\n",
    "len(beaches)"
   ]
  },
  {
   "cell_type": "code",
   "execution_count": 75,
   "metadata": {},
   "outputs": [],
   "source": [
    "#"
   ]
  },
  {
   "cell_type": "code",
   "execution_count": 77,
   "metadata": {},
   "outputs": [
    {
     "output_type": "execute_result",
     "data": {
      "text/plain": [
       "['Playa Barra del Colorado',\n",
       " 'Playa Bonita',\n",
       " 'Playa Cahuita (Blanca)',\n",
       " 'Playa Chiquita',\n",
       " 'Punta Cocles',\n",
       " 'Playa Gandoca',\n",
       " 'Playa Manzanillo',\n",
       " 'Playa Moín',\n",
       " 'Playa Negra (Puerto Viejo)',\n",
       " 'Playa Negra (Cahuita)']"
      ]
     },
     "metadata": {},
     "execution_count": 77
    }
   ],
   "source": [
    "lista_beaches = list(beaches)\n",
    "lista_beaches[:10]"
   ]
  },
  {
   "cell_type": "code",
   "execution_count": 78,
   "metadata": {},
   "outputs": [
    {
     "output_type": "stream",
     "name": "stdout",
     "text": [
      "Playa Barra del Colorado, Costa Rica\n",
      "Playa Bonita, Costa Rica\n",
      "Playa Cahuita (Blanca), Costa Rica\n",
      "Playa Chiquita, Costa Rica\n",
      "Punta Cocles, Costa Rica\n",
      "Playa Gandoca, Costa Rica\n",
      "Playa Manzanillo, Costa Rica\n",
      "Playa Moín, Costa Rica\n",
      "Playa Negra (Puerto Viejo), Costa Rica\n",
      "Playa Negra (Cahuita), Costa Rica\n",
      "Playa Pirikiki, Costa Rica\n",
      "Playa Portete, Costa Rica\n",
      "Playa Puerto Vargas, Costa Rica\n",
      "Playas Tortuguero, Costa Rica\n",
      "Playa Vizcaya, Costa Rica\n",
      "Playa Westfalia, Costa Rica\n",
      "Puerto Viejo de Talamanca, Costa Rica\n",
      "Punta Mona, Costa Rica\n",
      "Punta Uva, Costa Rica\n",
      "Playa Arbolito, Costa Rica\n",
      "Playa Avellanas, Costa Rica\n",
      "Playa Azul (Jurel), Costa Rica\n",
      "Playa Bahía Junquillal, Costa Rica\n",
      "Playa Barco Quebrado, Costa Rica\n",
      "Playa Barrigona, Costa Rica\n",
      "Playa Bejuco, Costa Rica\n",
      "Playa Blanca (Santa Elena), Costa Rica\n",
      "Playa Blanca y Virador, Costa Rica\n",
      "Playa Bongo, Costa Rica\n",
      "Playa Brasilito, Costa Rica\n",
      "Playa Buena Vista, Costa Rica\n",
      "Playa Camaronal, Costa Rica\n",
      "Playa Carbón, Costa Rica\n",
      "Playa Carmen, Costa Rica\n",
      "Playa Carrillo, Costa Rica\n",
      "Playa Cóncava, Costa Rica\n",
      "Playa Conchal, Costa Rica\n",
      "Playa Coyote, Costa Rica\n",
      "Playa Coyotera, Costa Rica\n",
      "Playa Cuajiniquil, Costa Rica\n",
      "Playa Culebra, Costa Rica\n",
      "Playas del Coco, Costa Rica\n",
      "Playa Flamingo, Costa Rica\n",
      "Playa Garza, Costa Rica\n",
      "Playa Grande, Costa Rica\n",
      "Playa Gringo, Costa Rica\n",
      "Playa Guiones, Costa Rica\n",
      "Playa Hermosa, Costa Rica\n",
      "Playa Iguanita, Costa Rica\n",
      "Playa Islita y Corozalito, Costa Rica\n",
      "Playa Jobo, Costa Rica\n",
      "Playa Junquillal, Costa Rica\n",
      "Playa La Penca, Costa Rica\n",
      "Playa Lagarto, Costa Rica\n",
      "Playa Langosta, Costa Rica\n",
      "Playa Mal País, Costa Rica\n",
      "Playa Marbella, Costa Rica\n",
      "Playa Manzanillo (Costa Rica), Costa Rica\n",
      "Playa Nabos, Costa Rica\n",
      "Playa Nacascolo, Costa Rica\n",
      "Playa Nancite, Costa Rica\n",
      "Playa Naranjo, Costa Rica\n",
      "Playa Negra, Costa Rica\n",
      "Playa Nosara, Costa Rica\n",
      "Playa Nubes, Costa Rica\n",
      "Playa Ocotal, Costa Rica\n",
      "Playa Ostional, Costa Rica\n",
      "Playa Pan de Azúcar, Costa Rica\n",
      "Playa Panamá (Chrorotega), Costa Rica\n",
      "Playa Pelada, Costa Rica\n"
     ]
    }
   ],
   "source": [
    "latitudes = []\n",
    "longitudes = []\n",
    "\n",
    "for beach in lista_beaches[:70]:\n",
    "    geolocator = Nominatim(user_agent=\"cr_explorer_js\")\n",
    "    address = beach+\", Costa Rica\"\n",
    "    print(address)\n",
    "    #print(type(address))\n",
    "\n",
    "    location = geolocator.geocode(address)\n",
    "\n",
    "    if location == None:\n",
    "        latitudes.append(None)\n",
    "        longitudes.append(None)\n",
    "        \n",
    "    else:\n",
    "        latitudes.append(location.latitude)\n",
    "        longitudes.append(location.longitude)"
   ]
  },
  {
   "cell_type": "code",
   "execution_count": 80,
   "metadata": {},
   "outputs": [
    {
     "output_type": "execute_result",
     "data": {
      "text/plain": [
       "12"
      ]
     },
     "metadata": {},
     "execution_count": 80
    }
   ],
   "source": [
    "latitudes.count(None)"
   ]
  },
  {
   "cell_type": "code",
   "execution_count": 81,
   "metadata": {},
   "outputs": [
    {
     "output_type": "execute_result",
     "data": {
      "text/plain": [
       "12"
      ]
     },
     "metadata": {},
     "execution_count": 81
    }
   ],
   "source": [
    "longitudes.count(None)"
   ]
  },
  {
   "cell_type": "code",
   "execution_count": 82,
   "metadata": {},
   "outputs": [
    {
     "output_type": "stream",
     "name": "stdout",
     "text": [
      "Playa Pietra, Costa Rica\n",
      "Playa Pitahaya, Costa Rica\n",
      "Playa Pleito y San Juanillo, Costa Rica\n",
      "Playa Pochote (Papagayo), Costa Rica\n",
      "Playa Potrero, Costa Rica\n",
      "Playa Real y Roble, Costa Rica\n",
      "Playa Rajada, Costa Rica\n",
      "Playa Sámara, Costa Rica\n",
      "Playa San Miguel, Costa Rica\n",
      "Playa Santa Teresa, Costa Rica\n",
      "Playa Surco de Piedra, Costa Rica\n",
      "Playa Prieta (Papagayo), Costa Rica\n",
      "Playa Pochote (Salinas), Costa Rica\n",
      "Playa Potrero Grande, Costa Rica\n",
      "Playa Puerto Soley, Costa Rica\n",
      "Playa Tamarindo, Costa Rica\n",
      "Playa Ventanas, Costa Rica\n",
      "Balnerario Puntarenas, Costa Rica\n",
      "Playa Agujas, Costa Rica\n",
      "Playa Bahía Drake, Costa Rica\n",
      "Playa Ballena, Costa Rica\n",
      "Playa Barú, Costa Rica\n",
      "Playa Blanca, Costa Rica\n",
      "Playa Boca Vieja, Costa Rica\n",
      "Playa Cabo Blanco, Costa Rica\n",
      "Playa Cabuya, Costa Rica\n",
      "Playa Cocalito, Costa Rica\n",
      "Playa Cacao, Costa Rica\n",
      "Playa Caldera, Costa Rica\n",
      "Playa Carate, Costa Rica\n",
      "Playa Curú, Costa Rica\n",
      "Playa de Arco, Costa Rica\n",
      "Playa de Doña Ana, Costa Rica\n",
      "Playa Dominical, Costa Rica\n",
      "Playa Dominicalito, Costa Rica\n",
      "Playa Espadilla, Costa Rica\n",
      "Playa Esterillos, Costa Rica\n",
      "Playa Garza (Boca Brava), Costa Rica\n",
      "Playa Gigante, Costa Rica\n",
      "Playa Herradura, Costa Rica\n",
      "Playa Isla Damas, Costa Rica\n",
      "Playa Jacó, Costa Rica\n",
      "Playa Llorona, Costa Rica\n",
      "Playa Madrigal, Costa Rica\n",
      "Playa Mata de Limón, Costa Rica\n",
      "Playa Mantas, Costa Rica\n",
      "Playas Manuel Antonio, Costa Rica\n",
      "Playa Matapalo, Costa Rica\n",
      "Playa Montezuma, Costa Rica\n",
      "Playa Órganos, Costa Rica\n",
      "Playa Palma, Costa Rica\n",
      "Playa Palo Seco, Costa Rica\n",
      "Playa Pavones, Costa Rica\n",
      "Playa Piñuela, Costa Rica\n",
      "Playa Platanares, Costa Rica\n",
      "Playa Pógeres, Costa Rica\n",
      "Playa Quizales, Costa Rica\n",
      "Playa San Josecito (Golfito), Costa Rica\n",
      "Playa Savegre, Costa Rica\n",
      "Playa Sombrero, Costa Rica\n",
      "Playa Tamales, Costa Rica\n",
      "Playa Tambor, Costa Rica\n",
      "Playa Tárcoles, Costa Rica\n",
      "Playa Tivives, Costa Rica\n",
      "Playa Tortuga, Costa Rica\n",
      "Playa Uvita, Costa Rica\n",
      "Playa Zancudo, Costa Rica\n"
     ]
    }
   ],
   "source": [
    "for beach in lista_beaches[70:]:\n",
    "    geolocator = Nominatim(user_agent=\"cr_explorer_js\")\n",
    "    address = beach+\", Costa Rica\"\n",
    "    print(address)\n",
    "    #print(type(address))\n",
    "\n",
    "    location = geolocator.geocode(address)\n",
    "\n",
    "    if location == None:\n",
    "        latitudes.append(None)\n",
    "        longitudes.append(None)\n",
    "        \n",
    "    else:\n",
    "        latitudes.append(location.latitude)\n",
    "        longitudes.append(location.longitude)"
   ]
  },
  {
   "cell_type": "code",
   "execution_count": 83,
   "metadata": {},
   "outputs": [
    {
     "output_type": "stream",
     "name": "stdout",
     "text": [
      "137\n24\n24\n"
     ]
    }
   ],
   "source": [
    "print(len(latitudes))\n",
    "print(latitudes.count(None))\n",
    "print(longitudes.count(None))"
   ]
  },
  {
   "cell_type": "code",
   "execution_count": null,
   "metadata": {},
   "outputs": [],
   "source": []
  },
  {
   "cell_type": "code",
   "execution_count": null,
   "metadata": {},
   "outputs": [],
   "source": []
  }
 ]
}