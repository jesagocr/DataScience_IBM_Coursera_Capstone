{
 "metadata": {
  "language_info": {
   "codemirror_mode": {
    "name": "ipython",
    "version": 3
   },
   "file_extension": ".py",
   "mimetype": "text/x-python",
   "name": "python",
   "nbconvert_exporter": "python",
   "pygments_lexer": "ipython3",
   "version": "3.8.3-final"
  },
  "orig_nbformat": 2,
  "kernelspec": {
   "name": "python38332bitc997c56da9a74e2babed0b86df49b304",
   "display_name": "Python 3.8.3 32-bit"
  }
 },
 "nbformat": 4,
 "nbformat_minor": 2,
 "cells": [
  {
   "source": [
    "## Author: Jesús Salazar Gómez, Costa Rica\n",
    "## Course: Applied Data Science Capstone, week 4 and 5 (project), Coursera\n",
    "\n",
    "## LinkedIn: https://www.linkedin.com/in/jesagocr/\n",
    "## GitHub: https://github.com/jesagocr"
   ],
   "cell_type": "markdown",
   "metadata": {}
  },
  {
   "cell_type": "code",
   "execution_count": 5,
   "metadata": {},
   "outputs": [
    {
     "output_type": "stream",
     "name": "stderr",
     "text": [
      "WARNING: You are using pip version 20.2.3; however, version 20.2.4 is available.\n",
      "You should consider upgrading via the 'c:\\users\\jesag\\appdata\\local\\programs\\python\\python38-32\\python.exe -m pip install --upgrade pip' command.\n",
      "Collecting geopy\n",
      "  Downloading geopy-2.0.0-py3-none-any.whl (111 kB)\n",
      "Collecting geographiclib<2,>=1.49\n",
      "  Downloading geographiclib-1.50-py3-none-any.whl (38 kB)\n",
      "Installing collected packages: geographiclib, geopy\n",
      "Successfully installed geographiclib-1.50 geopy-2.0.0\n",
      "WARNING: You are using pip version 20.2.3; however, version 20.2.4 is available.\n",
      "You should consider upgrading via the 'c:\\users\\jesag\\appdata\\local\\programs\\python\\python38-32\\python.exe -m pip install --upgrade pip' command.\n",
      "Collecting folium\n",
      "  Downloading folium-0.11.0-py2.py3-none-any.whl (93 kB)\n",
      "Collecting branca>=0.3.0\n",
      "  Downloading branca-0.4.1-py3-none-any.whl (24 kB)\n",
      "Requirement already satisfied: requests in c:\\users\\jesag\\appdata\\local\\programs\\python\\python38-32\\lib\\site-packages (from folium) (2.24.0)\n",
      "Requirement already satisfied: jinja2>=2.9 in c:\\users\\jesag\\appdata\\roaming\\python\\python38\\site-packages (from folium) (2.11.2)\n",
      "Requirement already satisfied: numpy in c:\\users\\jesag\\appdata\\local\\programs\\python\\python38-32\\lib\\site-packages (from folium) (1.18.5)\n",
      "Requirement already satisfied: certifi>=2017.4.17 in c:\\users\\jesag\\appdata\\local\\programs\\python\\python38-32\\lib\\site-packages (from requests->folium) (2020.6.20)\n",
      "Requirement already satisfied: urllib3!=1.25.0,!=1.25.1,<1.26,>=1.21.1 in c:\\users\\jesag\\appdata\\local\\programs\\python\\python38-32\\lib\\site-packages (from requests->folium) (1.25.10)\n",
      "Requirement already satisfied: chardet<4,>=3.0.2 in c:\\users\\jesag\\appdata\\local\\programs\\python\\python38-32\\lib\\site-packages (from requests->folium) (3.0.4)\n",
      "Requirement already satisfied: idna<3,>=2.5 in c:\\users\\jesag\\appdata\\local\\programs\\python\\python38-32\\lib\\site-packages (from requests->folium) (2.10)\n",
      "Requirement already satisfied: MarkupSafe>=0.23 in c:\\users\\jesag\\appdata\\roaming\\python\\python38\\site-packages (from jinja2>=2.9->folium) (1.1.1)\n",
      "Installing collected packages: branca, folium\n",
      "Successfully installed branca-0.4.1 folium-0.11.0\n",
      "Libraries imported.\n"
     ]
    }
   ],
   "source": [
    "# to read the data and do wrangling\n",
    "from urllib.request import urlopen\n",
    "from collections import defaultdict\n",
    "\n",
    "\n",
    "# to work with the api\n",
    "import json\n",
    "import requests\n",
    "import pandas as pd\n",
    "\n",
    "\n",
    "# to work with the geolocalization data\n",
    "!pip install geopy \n",
    "from geopy.geocoders import Nominatim # convert an address into latitude and longitude values\n",
    "\n",
    "# import k-means from clustering stage\n",
    "from sklearn.cluster import KMeans\n",
    "\n",
    "!pip install folium\n",
    "import folium # map rendering library\n",
    "\n",
    "print('Libraries imported.')"
   ]
  },
  {
   "cell_type": "code",
   "execution_count": 1,
   "metadata": {},
   "outputs": [
    {
     "output_type": "stream",
     "name": "stdout",
     "text": [
      "Libraries imported.\n"
     ]
    }
   ],
   "source": [
    "# to read the data and do wrangling\n",
    "from urllib.request import urlopen\n",
    "from collections import defaultdict\n",
    "\n",
    "# to work with the api\n",
    "import json\n",
    "import requests\n",
    "import pandas as pd\n",
    "\n",
    "# to work with the geolocalization data\n",
    "#!pip install geopy \n",
    "from geopy.geocoders import Nominatim # convert an address into latitude and longitude values\n",
    "\n",
    "# import k-means from clustering stage\n",
    "from sklearn.cluster import KMeans\n",
    "\n",
    "#!pip install folium\n",
    "import folium # map rendering library\n",
    "\n",
    "from bs4 import BeautifulSoup\n",
    "\n",
    "print('Libraries imported.')"
   ]
  },
  {
   "cell_type": "code",
   "execution_count": 2,
   "metadata": {},
   "outputs": [],
   "source": [
    "# reading the url\n",
    "url = urlopen(\"https://es.wikipedia.org/wiki/Anexo:Playas_de_Costa_Rica\")"
   ]
  },
  {
   "cell_type": "code",
   "execution_count": 3,
   "metadata": {
    "tags": []
   },
   "outputs": [
    {
     "output_type": "stream",
     "name": "stdout",
     "text": [
      "<class 'str'>\n"
     ]
    }
   ],
   "source": [
    "content = str(url.read(),encoding='utf-8')\n",
    "print(type(content))"
   ]
  },
  {
   "cell_type": "code",
   "execution_count": 4,
   "metadata": {
    "tags": []
   },
   "outputs": [
    {
     "output_type": "stream",
     "name": "stdout",
     "text": [
      "ipedia/commons/thumb/8/88/Cahuita.jpg/440px-Cahuita.jpg 2x\" data-file-width=\"1600\" data-file-height=\"1082\" /></a>  <div class=\"thumbcaption\"><div class=\"magnify\"><a href=\"/wiki/Archivo:Cahuita.jpg\" class=\"internal\" title=\"Aumentar\"></a></div>Playa Blanca en Cahuita.</div></div></div>\n<ul><li><a href=\"/wiki/Refugio_Nacional_de_Fauna_Silvestre_Barra_del_Colorado\" class=\"mw-redirect\" title=\"Refugio Nacional de Fauna Silvestre Barra del Colorado\">Playa Barra del Colorado</a></li>\n<li><a href=\"/w/index.php?title=Playa_Bonita_(Lim%C3%B3n)&amp;action=edit&amp;redlink=1\" class=\"new\" title=\"Playa Bonita (Limón) (aún no redactado)\">Playa Bonita</a></li>\n<li><a href=\"/w/index.php?title=Playa_Cahuita_(Blanca)&amp;action=edit&amp;redlink=1\" class=\"new\" title=\"Playa Cahuita (Blanca) (aún no redactado)\">Playa Cahuita (Blanca)</a></li>\n<li><a href=\"/wiki/Playa_Chiquita\" title=\"Playa Chiquita\">Playa Chiquita</a></li>\n<li><a href=\"/w/index.php?title=Punta_Cocles&amp;action=edit&amp;redlink=1\" class=\"new\" title=\"Punta Cocles (aún no redactado)\">Punta Cocles</a></li>\n<li><a href=\"/w/index.php?title=Playa_Gandoca&amp;action=edit&amp;redlink=1\" class=\"new\" title=\"Playa Gandoca (aún no redactado)\">Playa Gandoca</a></li>\n<li><a href=\"/w/index.php?title=Playa_Manzanillo_(Lim%C3%B3n)&amp;action=edit&amp;redlink=1\" class=\"new\" title=\"Playa Manzanillo (Limón) (aún no redactado)\">Playa Manzanillo</a></li>\n<li><a href=\"/w/index.php?title=Playa_Mo%C3%ADn&amp;action=edit&amp;redlink=1\" class=\"new\" title=\"Playa Moín (aún no redactado)\">Playa Moín</a></li>\n<li><a href=\"/w/index.php?title=Playa_Negra_(Puerto_Viejo)&amp;action=edit&amp;redlink=1\" class=\"new\" title=\"Playa Negra (Puerto Viejo) (aún no redactado)\">Playa Negra (Puerto Viejo)</a></li>\n<li><a href=\"/wiki/Parque_nacional_Cahuita\" title=\"Parque nacional Cahuita\">Playa Negra (Cahuita)</a></li>\n<li><a href=\"/w/index.php?title=Playa_Pirikiki&amp;action=edit&amp;redlink=1\" class=\"new\" title=\"Playa Pirikiki (aún no redactado)\">Playa Pirikiki</a></\n"
     ]
    }
   ],
   "source": [
    "print(content[8000:10000]) # the info I need has: <li><a href=\" "
   ]
  },
  {
   "cell_type": "code",
   "execution_count": 5,
   "metadata": {},
   "outputs": [],
   "source": [
    "data = content.split('<li><a href=\"')"
   ]
  },
  {
   "cell_type": "code",
   "execution_count": 7,
   "metadata": {},
   "outputs": [
    {
     "output_type": "stream",
     "name": "stdout",
     "text": [
      "/wiki/Refugio_Nacional_de_Fauna_Silvestre_Barra_del_Colorado\" class=\"mw-redirect\" title=\"Refugio Nacional de Fauna Silvestre Barra del Colorado\">Playa Barra del Colorado</a></li>\n\n/w/index.php?title=Playa_Bonita_(Lim%C3%B3n)&amp;action=edit&amp;redlink=1\" class=\"new\" title=\"Playa Bonita (Limón) (aún no redactado)\">Playa Bonita</a></li>\n\n/w/index.php?title=Playa_Cahuita_(Blanca)&amp;action=edit&amp;redlink=1\" class=\"new\" title=\"Playa Cahuita (Blanca) (aún no redactado)\">Playa Cahuita (Blanca)</a></li>\n\n/wiki/Playa_Chiquita\" title=\"Playa Chiquita\">Playa Chiquita</a></li>\n\n/w/index.php?title=Punta_Cocles&amp;action=edit&amp;redlink=1\" class=\"new\" title=\"Punta Cocles (aún no redactado)\">Punta Cocles</a></li>\n\n/w/index.php?title=Playa_Gandoca&amp;action=edit&amp;redlink=1\" class=\"new\" title=\"Playa Gandoca (aún no redactado)\">Playa Gandoca</a></li>\n\n/w/index.php?title=Playa_Manzanillo_(Lim%C3%B3n)&amp;action=edit&amp;redlink=1\" class=\"new\" title=\"Playa Manzanillo (Limón) (aún no redactado)\">Playa Manzanillo</a></li>\n\n/w/index.php?title=Playa_Mo%C3%ADn&amp;action=edit&amp;redlink=1\" class=\"new\" title=\"Playa Moín (aún no redactado)\">Playa Moín</a></li>\n\n/w/index.php?title=Playa_Negra_(Puerto_Viejo)&amp;action=edit&amp;redlink=1\" class=\"new\" title=\"Playa Negra (Puerto Viejo) (aún no redactado)\">Playa Negra (Puerto Viejo)</a></li>\n\n"
     ]
    }
   ],
   "source": [
    "### need to understand the data\n",
    "for d in data[:10]:\n",
    "    print(d)\n",
    "\n",
    "## the list of beaches start at index 1"
   ]
  },
  {
   "cell_type": "code",
   "execution_count": 8,
   "metadata": {
    "tags": []
   },
   "outputs": [],
   "source": [
    "# a dict with info about which places have info (I guess because are popular) and which not is a good idea.\n",
    "# Also, I am going to add more categories to the dataset so a dict is perfect\n",
    "\n",
    "playas2 = defaultdict(dict)\n",
    "\n",
    "for d in data[1:-1]:\n",
    "    inicio = (d.find('\">')+2)\n",
    "    final = d.find('</')\n",
    "    name = d[inicio:final]\n",
    "\n",
    "    # it seems the most popular beaches are complete but the others are \"aún no redactado\"\n",
    "    ini = d.find('aún no')\n",
    "\n",
    "    if ini != -1:   # if \"aún no redactado\" = no info of the beach, it is possible is not a popular beach\n",
    "        #playas2[name] = False\n",
    "        playas2[name]['Info'] = False\n",
    "\n",
    "    else:\n",
    "        #playas2[name] = True\n",
    "        playas2[name]['Info'] = True"
   ]
  },
  {
   "cell_type": "code",
   "execution_count": 9,
   "metadata": {},
   "outputs": [
    {
     "output_type": "execute_result",
     "data": {
      "text/plain": [
       "defaultdict(dict,\n",
       "            {'Playa Barra del Colorado': {'Info': True},\n",
       "             'Playa Bonita': {'Info': False},\n",
       "             'Playa Cahuita (Blanca)': {'Info': False},\n",
       "             'Playa Chiquita': {'Info': True},\n",
       "             'Punta Cocles': {'Info': False},\n",
       "             'Playa Gandoca': {'Info': False},\n",
       "             'Playa Manzanillo': {'Info': False},\n",
       "             'Playa Moín': {'Info': False},\n",
       "             'Playa Negra (Puerto Viejo)': {'Info': False},\n",
       "             'Playa Negra (Cahuita)': {'Info': True},\n",
       "             'Playa Pirikiki': {'Info': False},\n",
       "             'Playa Portete': {'Info': False},\n",
       "             'Playa Puerto Vargas': {'Info': False},\n",
       "             'Playas Tortuguero': {'Info': True},\n",
       "             'Playa Vizcaya': {'Info': False},\n",
       "             'Playa Westfalia': {'Info': False},\n",
       "             'Puerto Viejo de Talamanca': {'Info': True},\n",
       "             'Punta Mona': {'Info': True},\n",
       "             'Punta Uva': {'Info': False},\n",
       "             'Playa Arbolito': {'Info': False},\n",
       "             'Playa Avellanas': {'Info': False},\n",
       "             'Playa Azul (Jurel)': {'Info': False},\n",
       "             'Playa Bahía Junquillal': {'Info': False},\n",
       "             'Playa Barco Quebrado': {'Info': False},\n",
       "             'Playa Barrigona': {'Info': False},\n",
       "             'Playa Bejuco': {'Info': False},\n",
       "             'Playa Blanca (Santa Elena)': {'Info': False},\n",
       "             'Playa Blanca y Virador': {'Info': False},\n",
       "             'Playa Bongo': {'Info': False},\n",
       "             'Playa Brasilito': {'Info': False},\n",
       "             'Playa Buena Vista': {'Info': False},\n",
       "             'Playa Camaronal': {'Info': False},\n",
       "             'Playa Carbón': {'Info': False},\n",
       "             'Playa Carmen': {'Info': False},\n",
       "             'Playa Carrillo': {'Info': True},\n",
       "             'Playa Cóncava': {'Info': False},\n",
       "             'Playa Conchal': {'Info': True},\n",
       "             'Playa Coyote': {'Info': False},\n",
       "             'Playa Coyotera': {'Info': False},\n",
       "             'Playa Cuajiniquil': {'Info': False},\n",
       "             'Playa Culebra': {'Info': False},\n",
       "             'Playas del Coco': {'Info': True},\n",
       "             'Playa Flamingo': {'Info': False},\n",
       "             'Playa Garza': {'Info': False},\n",
       "             'Playa Grande': {'Info': True},\n",
       "             'Playa Gringo': {'Info': False},\n",
       "             'Playa Guiones': {'Info': False},\n",
       "             'Playa Hermosa': {'Info': True},\n",
       "             'Playa Iguanita': {'Info': False},\n",
       "             'Playa Islita y Corozalito': {'Info': False},\n",
       "             'Playa Jobo': {'Info': False},\n",
       "             'Playa Junquillal': {'Info': False},\n",
       "             'Playa La Penca': {'Info': False},\n",
       "             'Playa Lagarto': {'Info': False},\n",
       "             'Playa Langosta': {'Info': False},\n",
       "             'Playa Mal País': {'Info': False},\n",
       "             'Playa Marbella': {'Info': False},\n",
       "             'Playa Manzanillo (Costa Rica)': {'Info': False},\n",
       "             'Playa Nabos': {'Info': False},\n",
       "             'Playa Nacascolo': {'Info': False},\n",
       "             'Playa Nancite': {'Info': False},\n",
       "             'Playa Naranjo': {'Info': False},\n",
       "             'Playa Negra': {'Info': False},\n",
       "             'Playa Nosara': {'Info': True},\n",
       "             'Playa Nubes': {'Info': False},\n",
       "             'Playa Ocotal': {'Info': False},\n",
       "             'Playa Ostional': {'Info': True},\n",
       "             'Playa Pan de Azúcar': {'Info': False},\n",
       "             'Playa Panamá (Chrorotega)': {'Info': False},\n",
       "             'Playa Pelada': {'Info': False},\n",
       "             'Playa Pietra': {'Info': False},\n",
       "             'Playa Pitahaya': {'Info': False},\n",
       "             'Playa Pleito y San Juanillo': {'Info': False},\n",
       "             'Playa Pochote (Papagayo)': {'Info': True},\n",
       "             'Playa Potrero': {'Info': False},\n",
       "             'Playa Real y Roble': {'Info': False},\n",
       "             'Playa Rajada': {'Info': False},\n",
       "             'Playa Sámara': {'Info': False},\n",
       "             'Playa San Miguel': {'Info': False},\n",
       "             'Playa Santa Teresa': {'Info': False},\n",
       "             'Playa Surco de Piedra': {'Info': False},\n",
       "             'Playa Prieta (Papagayo)': {'Info': False},\n",
       "             'Playa Pochote (Salinas)': {'Info': False},\n",
       "             'Playa Potrero Grande': {'Info': False},\n",
       "             'Playa Puerto Soley': {'Info': False},\n",
       "             'Playa Tamarindo': {'Info': True},\n",
       "             'Playa Ventanas': {'Info': False},\n",
       "             'Balnerario Puntarenas': {'Info': True},\n",
       "             'Playa Agujas': {'Info': False},\n",
       "             'Playa Bahía Drake': {'Info': False},\n",
       "             'Playa Ballena': {'Info': False},\n",
       "             'Playa Barú': {'Info': False},\n",
       "             'Playa Blanca': {'Info': False},\n",
       "             'Playa Boca Vieja': {'Info': False},\n",
       "             'Playa Cabo Blanco': {'Info': True},\n",
       "             'Playa Cabuya': {'Info': False},\n",
       "             'Playa Cocalito': {'Info': False},\n",
       "             'Playa Cacao': {'Info': False},\n",
       "             'Playa Caldera': {'Info': True},\n",
       "             'Playa Carate': {'Info': False},\n",
       "             'Playa Curú': {'Info': False},\n",
       "             'Playa de Arco': {'Info': False},\n",
       "             'Playa de Doña Ana': {'Info': False},\n",
       "             'Playa Dominical': {'Info': True},\n",
       "             'Playa Dominicalito': {'Info': False},\n",
       "             'Playa Espadilla': {'Info': True},\n",
       "             'Playa Esterillos': {'Info': True},\n",
       "             'Playa Garza (Boca Brava)': {'Info': False},\n",
       "             'Playa Gigante': {'Info': False},\n",
       "             'Playa Herradura': {'Info': False},\n",
       "             'Playa Isla Damas': {'Info': False},\n",
       "             'Playa Jacó': {'Info': True},\n",
       "             'Playa Llorona': {'Info': False},\n",
       "             'Playa Madrigal': {'Info': False},\n",
       "             'Playa Mata de Limón': {'Info': False},\n",
       "             'Playa Mantas': {'Info': False},\n",
       "             'Playas Manuel Antonio': {'Info': True},\n",
       "             'Playa Matapalo': {'Info': False},\n",
       "             'Playa Montezuma': {'Info': False},\n",
       "             'Playa Órganos': {'Info': False},\n",
       "             'Playa Palma': {'Info': False},\n",
       "             'Playa Palo Seco': {'Info': False},\n",
       "             'Playa Pavones': {'Info': False},\n",
       "             'Playa Piñuela': {'Info': False},\n",
       "             'Playa Platanares': {'Info': False},\n",
       "             'Playa Pógeres': {'Info': False},\n",
       "             'Playa Quizales': {'Info': False},\n",
       "             'Playa San Josecito (Golfito)': {'Info': False},\n",
       "             'Playa Savegre': {'Info': False},\n",
       "             'Playa Sombrero': {'Info': False},\n",
       "             'Playa Tamales': {'Info': False},\n",
       "             'Playa Tambor': {'Info': True},\n",
       "             'Playa Tárcoles': {'Info': False},\n",
       "             'Playa Tivives': {'Info': False},\n",
       "             'Playa Tortuga': {'Info': True},\n",
       "             'Playa Uvita': {'Info': False},\n",
       "             'Playa Zancudo': {'Info': False}})"
      ]
     },
     "metadata": {},
     "execution_count": 9
    }
   ],
   "source": [
    "# also this dict have more beaches with punta or puerto that I did not count before\n",
    "playas2"
   ]
  },
  {
   "cell_type": "code",
   "execution_count": 10,
   "metadata": {},
   "outputs": [
    {
     "output_type": "execute_result",
     "data": {
      "text/plain": [
       "137"
      ]
     },
     "metadata": {},
     "execution_count": 10
    }
   ],
   "source": [
    "len(playas2.keys())"
   ]
  },
  {
   "source": [
    "### A new web with more info to add categories\n",
    "### There are 3 categories of beaches, use it to separete the places"
   ],
   "cell_type": "markdown",
   "metadata": {}
  },
  {
   "cell_type": "code",
   "execution_count": 11,
   "metadata": {},
   "outputs": [],
   "source": [
    "#source = requests.get(\"https://www.govisitcostarica.co.cr/travelInfo/beaches/beaches-list.asp\").text"
   ]
  },
  {
   "cell_type": "code",
   "execution_count": 12,
   "metadata": {
    "tags": []
   },
   "outputs": [],
   "source": [
    "#soup2 = BeautifulSoup(source, 'html.parser')"
   ]
  },
  {
   "cell_type": "code",
   "execution_count": 30,
   "metadata": {
    "tags": []
   },
   "outputs": [],
   "source": [
    "#for item in soup2.find_all('<div class=\"pageListContentRow\">'): # I need this but I need more practice with BS, it seems it just \n",
    "    #print(item.text)                                            # works with tags and not other text\n",
    "                                                                # better use another approach"
   ]
  },
  {
   "cell_type": "code",
   "execution_count": 13,
   "metadata": {},
   "outputs": [],
   "source": [
    "#like this:\n",
    "url2 = urlopen(\"https://www.govisitcostarica.co.cr/travelInfo/beaches/beaches-list.asp\")"
   ]
  },
  {
   "cell_type": "code",
   "execution_count": 14,
   "metadata": {},
   "outputs": [],
   "source": [
    "contenido = str(url2.read(), encoding='utf-8')"
   ]
  },
  {
   "cell_type": "code",
   "execution_count": 15,
   "metadata": {
    "tags": []
   },
   "outputs": [],
   "source": [
    "types = contenido.split('<div class=\"pageListContentRow\">') #each list of beaches are listed in a column with the class\"pageList...\""
   ]
  },
  {
   "cell_type": "code",
   "execution_count": 17,
   "metadata": {},
   "outputs": [
    {
     "output_type": "execute_result",
     "data": {
      "text/plain": [
       "'\\r\\n        <div class=\"pageListContentItem ListHeader\"><a id=\"Surfing-Beaches\">Surfing Beaches</a></div>\\r\\n        <div class=\"pageListContentItem ListHeader\"><a id=\"Snorkeling-Beaches\">Snorkeling Beach</a></div>\\r\\n    </div>\\r\\n\\r\\n    '"
      ]
     },
     "metadata": {},
     "execution_count": 17
    }
   ],
   "source": [
    "types[1]"
   ]
  },
  {
   "cell_type": "code",
   "execution_count": 18,
   "metadata": {},
   "outputs": [
    {
     "output_type": "stream",
     "name": "stdout",
     "text": [
      "Surfing Beaches\nSnorkeling Beach\n"
     ]
    }
   ],
   "source": [
    "soup = BeautifulSoup(types[1], 'html.parser') # we splited the data and select the first column with data (index 1)\n",
    "for d in soup.find_all('div'):                # this case it only have the categories  \n",
    "    print(d.text)"
   ]
  },
  {
   "cell_type": "code",
   "execution_count": 19,
   "metadata": {},
   "outputs": [],
   "source": [
    "soup = BeautifulSoup(types[2], 'html.parser') # then select the second column or the second pageListContent with our data\n",
    "count = 0 \n",
    "cate_data = []\n",
    "divider = []                                  # 2 index this case, the first div includes / covers all the beaches of 1 category \n",
    "                                              # but we can omit it and use the others div that represent just 1 beach\n",
    "for d in soup.find_all('div'):                \n",
    "    cate_data.append(d.text)\n",
    "    \n",
    "    if len(d.text) > 50:\n",
    "        divider.append(count)\n",
    "    count = count + 1"
   ]
  },
  {
   "cell_type": "code",
   "execution_count": 22,
   "metadata": {},
   "outputs": [
    {
     "output_type": "stream",
     "name": "stdout",
     "text": [
      "['Bahía Salinas CahuitaP.N. CahuitaRefugio CamaronalDominicalEl RobleEsterillos EsteEsterillos OesteGarzaJacóP.N. Marino las Baulas MalpaísManuel AntonioMarbellaMatapaloPavonesPlaya AvellanaPlaya Bahia BallenaPlaya BejucoPlaya CaletasPlaya CoyotePlaya Doña AnaPlaya GrandePlaya GuionesPlaya HermosaPlaya JunquillalPlaya LangostaPlaya NegraPlaya NosaraPlaya San MiguelPlaya ZancudoPuerto LimonPuerto SoleyPuerto Viejo de TalamancaQueposP. N. Santa RosaSanta TeresaTamarindo', 'Bahía Salinas ', 'Cahuita', 'P.N. Cahuita', 'Refugio Camaronal']\n['\\nRefugio Bahía JunquillalP.N. BallenaCahuitaP.N. CahuitaIsla del CañoP. N. Isla del CocoDrake BayIsla BallenaManuel AntonioManzanilloMontezumaGolfo de PapagayoPlaya CarrilloPlaya ChiquitaPlaya ConchalPlaya HermosaPlaya HerraduraPlaya OcotalPlaya Pan de AzucarPlaya PanamáPlaya PotreroPlaya UvitaPlaya ZancudoPuerto LimonPuerto Viejo de TalamancaSan JuanilloTortuga AbajoIsla Tortuga\\n', 'Refugio Bahía Junquillal', 'P.N. Ballena', 'Cahuita', 'P.N. Cahuita']\n[0, 39]\n"
     ]
    }
   ],
   "source": [
    "print(divider)\n",
    "print(cate_data[:5])\n",
    "print(cate_data[39:44])  \n"
   ]
  },
  {
   "cell_type": "code",
   "execution_count": 26,
   "metadata": {},
   "outputs": [],
   "source": [
    "surfing_b = cate_data[divider[0]+1:divider[1]]\n",
    "snorkeling_b = cate_data[divider[1]+1:]"
   ]
  },
  {
   "cell_type": "code",
   "execution_count": 27,
   "metadata": {},
   "outputs": [
    {
     "output_type": "execute_result",
     "data": {
      "text/plain": [
       "['Bahía Salinas ',\n",
       " 'Cahuita',\n",
       " 'P.N. Cahuita',\n",
       " 'Refugio Camaronal',\n",
       " 'Dominical',\n",
       " 'El Roble',\n",
       " 'Esterillos Este',\n",
       " 'Esterillos Oeste',\n",
       " 'Garza',\n",
       " 'Jacó',\n",
       " 'P.N. Marino las Baulas ',\n",
       " 'Malpaís',\n",
       " 'Manuel Antonio',\n",
       " 'Marbella',\n",
       " 'Matapalo',\n",
       " 'Pavones',\n",
       " 'Playa Avellana',\n",
       " 'Playa Bahia Ballena',\n",
       " 'Playa Bejuco',\n",
       " 'Playa Caletas',\n",
       " 'Playa Coyote',\n",
       " 'Playa Doña Ana',\n",
       " 'Playa Grande',\n",
       " 'Playa Guiones',\n",
       " 'Playa Hermosa',\n",
       " 'Playa Junquillal',\n",
       " 'Playa Langosta',\n",
       " 'Playa Negra',\n",
       " 'Playa Nosara',\n",
       " 'Playa San Miguel',\n",
       " 'Playa Zancudo',\n",
       " 'Puerto Limon',\n",
       " 'Puerto Soley',\n",
       " 'Puerto Viejo de Talamanca',\n",
       " 'Quepos',\n",
       " 'P. N. Santa Rosa',\n",
       " 'Santa Teresa',\n",
       " 'Tamarindo']"
      ]
     },
     "metadata": {},
     "execution_count": 27
    }
   ],
   "source": [
    "surfing_b"
   ]
  },
  {
   "cell_type": "code",
   "execution_count": 28,
   "metadata": {},
   "outputs": [
    {
     "output_type": "execute_result",
     "data": {
      "text/plain": [
       "['Refugio Bahía Junquillal',\n",
       " 'P.N. Ballena',\n",
       " 'Cahuita',\n",
       " 'P.N. Cahuita',\n",
       " 'Isla del Caño',\n",
       " 'P. N. Isla del Coco',\n",
       " 'Drake Bay',\n",
       " 'Isla Ballena',\n",
       " 'Manuel Antonio',\n",
       " 'Manzanillo',\n",
       " 'Montezuma',\n",
       " 'Golfo de Papagayo',\n",
       " 'Playa Carrillo',\n",
       " 'Playa Chiquita',\n",
       " 'Playa Conchal',\n",
       " 'Playa Hermosa',\n",
       " 'Playa Herradura',\n",
       " 'Playa Ocotal',\n",
       " 'Playa Pan de Azucar',\n",
       " 'Playa Panamá',\n",
       " 'Playa Potrero',\n",
       " 'Playa Uvita',\n",
       " 'Playa Zancudo',\n",
       " 'Puerto Limon',\n",
       " 'Puerto Viejo de Talamanca',\n",
       " 'San Juanillo',\n",
       " 'Tortuga Abajo',\n",
       " 'Isla Tortuga']"
      ]
     },
     "metadata": {},
     "execution_count": 28
    }
   ],
   "source": [
    "snorkeling_b"
   ]
  },
  {
   "cell_type": "code",
   "execution_count": 29,
   "metadata": {
    "tags": []
   },
   "outputs": [
    {
     "output_type": "stream",
     "name": "stdout",
     "text": [
      "Swimming Beaches\n\n"
     ]
    }
   ],
   "source": [
    "soup = BeautifulSoup(types[3], 'html.parser')\n",
    "for d in soup.find_all('div'):\n",
    "    print(d.text)"
   ]
  },
  {
   "cell_type": "code",
   "execution_count": 30,
   "metadata": {},
   "outputs": [
    {
     "output_type": "stream",
     "name": "stdout",
     "text": [
      "280\n"
     ]
    }
   ],
   "source": [
    "soup = BeautifulSoup(types[4], 'html.parser')\n",
    "count2 = 0\n",
    "another_cate = []\n",
    "\n",
    "for d in soup.find_all('div'):\n",
    "\n",
    "    if len(d.text) > 50:\n",
    "        pass\n",
    "  \n",
    "    else: \n",
    "        another_cate.append(d.text)\n",
    "        \n",
    "    count2 = count2 + 1"
   ]
  },
  {
   "cell_type": "code",
   "execution_count": 32,
   "metadata": {},
   "outputs": [
    {
     "output_type": "execute_result",
     "data": {
      "text/plain": [
       "['Isla Tortuga', '', 'Tour de Aventura en Guanacaste', '', '7 Días y 6 Noches']"
      ]
     },
     "metadata": {},
     "execution_count": 32
    }
   ],
   "source": [
    "another_cate[67:72] # other divs had more info but I do not need then, find where my list of beaches finishes and slice it in a new list"
   ]
  },
  {
   "cell_type": "code",
   "execution_count": 41,
   "metadata": {},
   "outputs": [],
   "source": [
    "swimming_b = another_cate[:68] # the list with beaches ends at index 67"
   ]
  },
  {
   "cell_type": "code",
   "execution_count": 35,
   "metadata": {},
   "outputs": [
    {
     "output_type": "stream",
     "name": "stdout",
     "text": [
      "['Playa Barra del Colorado', 'Playa Bonita', 'Playa Cahuita (Blanca)', 'Playa Chiquita', 'Punta Cocles', 'Playa Gandoca', 'Playa Manzanillo', 'Playa Moín', 'Playa Negra (Puerto Viejo)', 'Playa Negra (Cahuita)', 'Playa Pirikiki', 'Playa Portete', 'Playa Puerto Vargas', 'Playas Tortuguero', 'Playa Vizcaya', 'Playa Westfalia', 'Puerto Viejo de Talamanca', 'Punta Mona', 'Punta Uva', 'Playa Arbolito']\n<class 'list'>\n"
     ]
    }
   ],
   "source": [
    "# creating a list of the beaches to check to match them and add the info to each beach\n",
    "\n",
    "b2 = list(playas2.keys())\n",
    "print(b2[:20])"
   ]
  },
  {
   "cell_type": "code",
   "execution_count": 36,
   "metadata": {},
   "outputs": [],
   "source": [
    "# I check if the beach in the list with categories appears on the dict (dataset) and add the info\n",
    "\n",
    "ind_s = [] #if the beach appears then add the index to the list\n",
    "\n",
    "for playa in swimming_b:\n",
    "   \n",
    "    for p in b2:\n",
    "        \n",
    "        if playa in p:\n",
    "  \n",
    "            ind_s.append(swimming_b.index(playa))\n",
    "            playas2[p]['Swimming'] = True \n",
    "\n",
    "        else:\n",
    "            cut = playa.split(' ')\n",
    "            if cut[-1] in p:\n",
    "                ind_s.append(swimming_b.index(playa))\n",
    "                playas2[p]['Swimming'] = True \n",
    "\n",
    "ind_s = set(ind_s)"
   ]
  },
  {
   "cell_type": "code",
   "execution_count": 37,
   "metadata": {},
   "outputs": [
    {
     "output_type": "stream",
     "name": "stdout",
     "text": [
      "68\n18\n"
     ]
    }
   ],
   "source": [
    "s_beaches_no = [ x for x in swimming_b if swimming_b.index(x) not in ind_s] \n",
    "print(len(swimming_b))\n",
    "print(len(s_beaches_no)) # 18 beaches from 68 did not appear or the names are different ( some beaches can be called different)"
   ]
  },
  {
   "cell_type": "code",
   "execution_count": 38,
   "metadata": {},
   "outputs": [
    {
     "output_type": "execute_result",
     "data": {
      "text/plain": [
       "['Isla del Caño',\n",
       " 'Coronado',\n",
       " 'Drake Bay',\n",
       " 'Reserva Golfo Dulce',\n",
       " 'Hacienda Pinilla',\n",
       " 'Malpaís',\n",
       " 'Paquera',\n",
       " 'Parismina',\n",
       " 'P. N. Piedras Blancas',\n",
       " 'Playa Cativo',\n",
       " 'Playa Pan de Azucar',\n",
       " 'Playa Pinuela',\n",
       " 'Puerto Jiménez',\n",
       " 'Punta Banco',\n",
       " 'Punta Leona',\n",
       " 'Samara',\n",
       " 'P. N. Santa Rosa',\n",
       " 'Tortuga Abajo']"
      ]
     },
     "metadata": {},
     "execution_count": 38
    }
   ],
   "source": [
    "s_beaches_no"
   ]
  },
  {
   "cell_type": "code",
   "execution_count": 40,
   "metadata": {},
   "outputs": [],
   "source": [
    "# I can add info manually but it takes more time, now just 14 of 68\n",
    "\n",
    "playas2['Playa Mal País']['Swimming'] = True # Malpaís\n",
    "playas2['Playa Sámara']['Swimming'] = True   # Samara \n",
    "playas2['Playa Blanca']['Swimming'] = True   # PUnta Leona\n",
    "playas2['Playa Mantas']['Swimming'] = True   # Punta Leona"
   ]
  },
  {
   "cell_type": "code",
   "execution_count": 42,
   "metadata": {},
   "outputs": [],
   "source": [
    "ind_surf = []\n",
    "\n",
    "for playa in surfing_b:\n",
    "    #print(playa)\n",
    "    for p in b2:\n",
    "        #print(p)\n",
    "        #if playa_counter != playa :\n",
    "        \n",
    "        if playa in p:\n",
    "            #print(playa)\n",
    "            #total2 += 1\n",
    "            ind_surf.append(surfing_b.index(playa))\n",
    "            playas2[p]['Surfing'] = True\n",
    "        else:\n",
    "            cut = playa.split(' ')\n",
    "            if cut[-1] in p:\n",
    "                ind_surf.append(surfing_b.index(playa))\n",
    "                playas2[p]['Surfing'] = True \n",
    "\n",
    "ind_surf = set(ind_surf)"
   ]
  },
  {
   "cell_type": "code",
   "execution_count": 43,
   "metadata": {},
   "outputs": [
    {
     "output_type": "stream",
     "name": "stdout",
     "text": [
      "38\n6\n"
     ]
    }
   ],
   "source": [
    "sur_beaches_no = [ x for x in surfing_b if surfing_b.index(x) not in ind_surf] \n",
    "print(len(surfing_b))\n",
    "print(len(sur_beaches_no))"
   ]
  },
  {
   "cell_type": "code",
   "execution_count": 44,
   "metadata": {},
   "outputs": [
    {
     "output_type": "execute_result",
     "data": {
      "text/plain": [
       "['Esterillos Oeste',\n",
       " 'Malpaís',\n",
       " 'Playa Caletas',\n",
       " 'Puerto Limon',\n",
       " 'Quepos',\n",
       " 'P. N. Santa Rosa']"
      ]
     },
     "metadata": {},
     "execution_count": 44
    }
   ],
   "source": [
    "sur_beaches_no"
   ]
  },
  {
   "cell_type": "code",
   "execution_count": 45,
   "metadata": {},
   "outputs": [],
   "source": [
    "playas2['Playa Mal País']['Surfing'] = True # Malpaís\n",
    "playas2['Playa Esterillos']['Surfing'] = True"
   ]
  },
  {
   "cell_type": "code",
   "execution_count": 46,
   "metadata": {},
   "outputs": [],
   "source": [
    "ind_sn = []\n",
    "\n",
    "for playa in snorkeling_b:\n",
    "    for p in b2:\n",
    "        if playa in p:\n",
    "            ind_sn.append(snorkeling_b.index(playa))\n",
    "            playas2[p]['Snorkeling'] = True\n",
    "        else:\n",
    "            cut = playa.split(' ')\n",
    "            if cut[-1] in p:\n",
    "                ind_sn.append(snorkeling_b.index(playa))\n",
    "                playas2[p]['Snorkeling'] = True \n",
    "\n",
    "ind_sn = set(ind_sn)"
   ]
  },
  {
   "cell_type": "code",
   "execution_count": 47,
   "metadata": {},
   "outputs": [
    {
     "output_type": "stream",
     "name": "stdout",
     "text": [
      "28\n5\n"
     ]
    }
   ],
   "source": [
    "sn_beaches_no = [ x for x in snorkeling_b if snorkeling_b.index(x) not in ind_sn] \n",
    "print(len(snorkeling_b))\n",
    "print(len(sn_beaches_no))"
   ]
  },
  {
   "cell_type": "code",
   "execution_count": 48,
   "metadata": {},
   "outputs": [
    {
     "output_type": "execute_result",
     "data": {
      "text/plain": [
       "['Isla del Caño',\n",
       " 'Drake Bay',\n",
       " 'Playa Pan de Azucar',\n",
       " 'Puerto Limon',\n",
       " 'Tortuga Abajo']"
      ]
     },
     "metadata": {},
     "execution_count": 48
    }
   ],
   "source": [
    "sn_beaches_no"
   ]
  },
  {
   "cell_type": "code",
   "execution_count": 68,
   "metadata": {},
   "outputs": [],
   "source": [
    "playas2['Playa Bahía Drake']['Snorkeling'] = True"
   ]
  },
  {
   "source": [
    "## Trying to add more features"
   ],
   "cell_type": "markdown",
   "metadata": {}
  },
  {
   "cell_type": "code",
   "execution_count": 50,
   "metadata": {},
   "outputs": [],
   "source": [
    "# it is interesting, I try urlopen and get 403 forbidden but Beautiful was able to\n",
    "\n",
    "source = requests.get(\"https://goplaya.cr/index.php/search_controller/buscar?latitud=9.935607&longitud=-84.1833856&busqueda=todas&filtros%5B%5D=81&radio=350#sa\").text\n",
    "soup = BeautifulSoup(source, 'html.parser')"
   ]
  },
  {
   "cell_type": "code",
   "execution_count": 51,
   "metadata": {
    "tags": []
   },
   "outputs": [],
   "source": [
    "info = []\n",
    "for line in soup.find_all('div'):\n",
    "    if line.h3 != None:\n",
    "        #print(line.h3)\n",
    "        info.append(line.h3)"
   ]
  },
  {
   "cell_type": "code",
   "execution_count": 52,
   "metadata": {},
   "outputs": [
    {
     "output_type": "execute_result",
     "data": {
      "text/plain": [
       "['  Puerto Viejo, Limón',\n",
       " '  Hermosa (El Coco)',\n",
       " '  Montezuma',\n",
       " '  Tamarindo',\n",
       " '  Santa Teresa',\n",
       " '  Manuel Antonio',\n",
       " '  Malpaís',\n",
       " '  Dominical',\n",
       " '  El Coco',\n",
       " '  Jacó']"
      ]
     },
     "metadata": {},
     "execution_count": 52
    }
   ],
   "source": [
    "nocturnal = []\n",
    "for i in range(len(info)):\n",
    "    nocturnal.append(info[i].text)\n",
    "\n",
    "nocturnal = set(nocturnal) # the names are duplicate or even more so I have to delete duplicate values with set\n",
    "nocturnal = list(nocturnal) #\n",
    "nocturnal"
   ]
  },
  {
   "cell_type": "code",
   "execution_count": 53,
   "metadata": {},
   "outputs": [],
   "source": [
    "ind_n = []\n",
    "\n",
    "for playa in nocturnal:\n",
    "    for p in b2: \n",
    "        if playa in p:\n",
    "            ind_n.append(nocturnal.index(playa))\n",
    "            playas2[p]['Nocturnal'] = True\n",
    "        else:\n",
    "            cut = playa.split(' ')\n",
    "            if cut[-1] in p:\n",
    "                ind_n.append(nocturnal.index(playa))\n",
    "                playas2[p]['Nocturnal'] = True \n",
    "\n",
    "ind_n = set(ind_n)"
   ]
  },
  {
   "cell_type": "code",
   "execution_count": 54,
   "metadata": {},
   "outputs": [
    {
     "output_type": "stream",
     "name": "stdout",
     "text": [
      "10\n2\n"
     ]
    }
   ],
   "source": [
    "no_beaches_no = [ x for x in nocturnal if nocturnal.index(x) not in ind_n] \n",
    "print(len(nocturnal))\n",
    "print(len(no_beaches_no))"
   ]
  },
  {
   "cell_type": "code",
   "execution_count": 55,
   "metadata": {},
   "outputs": [
    {
     "output_type": "execute_result",
     "data": {
      "text/plain": [
       "['  Hermosa (El Coco)', '  Malpaís']"
      ]
     },
     "metadata": {},
     "execution_count": 55
    }
   ],
   "source": [
    "no_beaches_no"
   ]
  },
  {
   "cell_type": "code",
   "execution_count": 57,
   "metadata": {},
   "outputs": [],
   "source": [
    "playas2['Playa Mal País']['Nocturnal'] = True # Malpaís"
   ]
  },
  {
   "cell_type": "code",
   "execution_count": 58,
   "metadata": {},
   "outputs": [],
   "source": [
    "source2 = requests.get(\"https://goplaya.cr/index.php/search_controller/buscar?latitud=9.935607&longitud=-84.1833856&busqueda=todas&filtros%5B%5D=9&radio=350#sa\").text\n",
    "soup2 = BeautifulSoup(source2, 'html.parser')"
   ]
  },
  {
   "cell_type": "code",
   "execution_count": 59,
   "metadata": {
    "tags": []
   },
   "outputs": [],
   "source": [
    "info2 = []\n",
    "for line in soup2.find_all('div'):\n",
    "    if line.h3 != None:\n",
    "        info2.append(line.h3)"
   ]
  },
  {
   "cell_type": "code",
   "execution_count": 60,
   "metadata": {},
   "outputs": [
    {
     "output_type": "execute_result",
     "data": {
      "text/plain": [
       "['Biesanz',\n",
       " 'Blanca (Península de Nicoya)',\n",
       " 'Tropical',\n",
       " 'Cocles',\n",
       " 'Pochotes (Junquillal)',\n",
       " 'Cuevas',\n",
       " 'Punta Cahuita',\n",
       " 'Soley',\n",
       " 'Cabo Blanco',\n",
       " 'Lagartillo',\n",
       " 'Chiquita',\n",
       " 'Corona',\n",
       " 'Blanca, Punta Leona',\n",
       " 'Blanca (Punta Morales)',\n",
       " 'Langosta',\n",
       " 'Carrillo',\n",
       " 'San Juanillo',\n",
       " 'Puerto Vargas, Cahuita',\n",
       " 'Flamingo',\n",
       " 'Blanca (Junquillal)',\n",
       " 'Cuarzo',\n",
       " 'Carmen',\n",
       " 'Avellanas',\n",
       " 'Nacascolo',\n",
       " 'Cocal del Peñón',\n",
       " 'Pleito',\n",
       " 'Bonita',\n",
       " 'Blanca (Santa Rosa)',\n",
       " 'Calzón de Pobre',\n",
       " 'Bonita (Pinilla)',\n",
       " 'Gemelas',\n",
       " 'Isla Tortuga tours',\n",
       " 'Blanca, Cahuita',\n",
       " 'Quesera',\n",
       " 'Barrigona',\n",
       " 'Macaya',\n",
       " 'Blanca (Papagayo)',\n",
       " 'Montezuma',\n",
       " 'Penca (Punta Cacique)',\n",
       " 'Punta Uva',\n",
       " 'Ventanas (Guanacaste)',\n",
       " 'Penca (Flamingo)',\n",
       " 'Espadilla Sur',\n",
       " 'Garza',\n",
       " 'Grande',\n",
       " 'Punta Cocles',\n",
       " 'Puerto Viejo (Conchal)',\n",
       " 'Coyote',\n",
       " 'Negra',\n",
       " 'Mansita',\n",
       " 'Buena',\n",
       " 'Playitas (Manuel Antonio)',\n",
       " 'Tamarindo',\n",
       " 'Espadilla',\n",
       " 'Jicote',\n",
       " 'Guiones, Nosara',\n",
       " 'Callejones',\n",
       " 'Pelada',\n",
       " 'Bahía Junquillal',\n",
       " 'Roble (Conchal)',\n",
       " 'Manuel Antonio',\n",
       " 'Real',\n",
       " 'Puerto Viejo, Limón',\n",
       " 'Peñón',\n",
       " 'Manchas',\n",
       " 'Virador',\n",
       " 'Conchal',\n",
       " 'El Jobo',\n",
       " 'Hermosa (Santa Teresa)',\n",
       " 'Rajada',\n",
       " 'Cabuyal',\n",
       " 'Zapotillal (Minas)',\n",
       " 'Muertos',\n",
       " 'Punta El Madero',\n",
       " 'Manzanillo',\n",
       " 'Sámara',\n",
       " 'Honda',\n",
       " 'Rajadita',\n",
       " 'Santa Teresa',\n",
       " 'Pilas',\n",
       " 'Malpaís',\n",
       " 'Punta Vargas, Cahuita']"
      ]
     },
     "metadata": {},
     "execution_count": 60
    }
   ],
   "source": [
    "white_sand = []\n",
    "for i in range(len(info2)):\n",
    "    white_sand.append(info2[i].text.strip())\n",
    "\n",
    "white_sand = set(white_sand)\n",
    "white_sand = list(white_sand)\n",
    "white_sand"
   ]
  },
  {
   "cell_type": "code",
   "execution_count": 61,
   "metadata": {},
   "outputs": [],
   "source": [
    "ind_ws = []\n",
    "\n",
    "for playa in white_sand:\n",
    "    for p in b2:\n",
    "        if playa in p:\n",
    "            ind_ws.append(white_sand.index(playa))\n",
    "            playas2[p]['White_S'] = True\n",
    "        else:\n",
    "            cut = playa.split(' ')\n",
    "            if cut[-1] in p:\n",
    "                ind_ws.append(white_sand.index(playa))\n",
    "                playas2[p]['White_S'] = True \n",
    "\n",
    "ind_ws = set(ind_ws)"
   ]
  },
  {
   "cell_type": "code",
   "execution_count": 63,
   "metadata": {},
   "outputs": [
    {
     "output_type": "stream",
     "name": "stdout",
     "text": [
      "82\n39\n"
     ]
    }
   ],
   "source": [
    "ws_beaches_no = [ x for x in white_sand if white_sand.index(x) not in ind_ws] \n",
    "print(len(white_sand))\n",
    "print(len(ws_beaches_no))"
   ]
  },
  {
   "cell_type": "code",
   "execution_count": 64,
   "metadata": {},
   "outputs": [
    {
     "output_type": "execute_result",
     "data": {
      "text/plain": [
       "['Biesanz',\n",
       " 'Blanca (Península de Nicoya)',\n",
       " 'Tropical',\n",
       " 'Pochotes (Junquillal)',\n",
       " 'Cuevas',\n",
       " 'Lagartillo',\n",
       " 'Corona',\n",
       " 'Blanca, Punta Leona',\n",
       " 'Blanca (Punta Morales)',\n",
       " 'Blanca (Junquillal)',\n",
       " 'Cuarzo',\n",
       " 'Cocal del Peñón',\n",
       " 'Blanca (Santa Rosa)',\n",
       " 'Calzón de Pobre',\n",
       " 'Bonita (Pinilla)',\n",
       " 'Gemelas',\n",
       " 'Isla Tortuga tours',\n",
       " 'Quesera',\n",
       " 'Macaya',\n",
       " 'Penca (Punta Cacique)',\n",
       " 'Ventanas (Guanacaste)',\n",
       " 'Penca (Flamingo)',\n",
       " 'Puerto Viejo (Conchal)',\n",
       " 'Mansita',\n",
       " 'Playitas (Manuel Antonio)',\n",
       " 'Jicote',\n",
       " 'Callejones',\n",
       " 'Roble (Conchal)',\n",
       " 'Peñón',\n",
       " 'Manchas',\n",
       " 'Hermosa (Santa Teresa)',\n",
       " 'Cabuyal',\n",
       " 'Zapotillal (Minas)',\n",
       " 'Muertos',\n",
       " 'Punta El Madero',\n",
       " 'Honda',\n",
       " 'Rajadita',\n",
       " 'Pilas',\n",
       " 'Malpaís']"
      ]
     },
     "metadata": {},
     "execution_count": 64
    }
   ],
   "source": [
    "ws_beaches_no"
   ]
  },
  {
   "cell_type": "code",
   "execution_count": 65,
   "metadata": {},
   "outputs": [],
   "source": [
    "playas2['Playa Mal País']['White_S'] = True # Malpaís\n",
    "playas2['Playa Blanca']['White_S'] = True   # PUnta Leona"
   ]
  },
  {
   "source": [
    "## now I am going to add the location of each beach to be able to use the foursquare API"
   ],
   "cell_type": "markdown",
   "metadata": {}
  },
  {
   "cell_type": "code",
   "execution_count": 81,
   "metadata": {},
   "outputs": [],
   "source": [
    "# based on the wikipedia page  \n",
    "\n",
    "limon = b2[:19]\n",
    "guanacaste = b2[19:87]\n",
    "puntarenas = b2[87:]"
   ]
  },
  {
   "cell_type": "code",
   "execution_count": 87,
   "metadata": {},
   "outputs": [],
   "source": [
    "\n",
    "for beach in b2[:70]:\n",
    "    geolocator = Nominatim(user_agent=\"crb_explorer_js\")\n",
    "\n",
    "    if beach in limon:\n",
    "        address = beach+\", Limón, Costa Rica\"\n",
    "        #print(address)\n",
    "\n",
    "    if beach in guanacaste:\n",
    "        address = beach+\", Guanacaste, Costa Rica\"\n",
    "        #print(address)\n",
    "\n",
    "    if beach in puntarenas:\n",
    "        address = beach+\", Puntarenas, Costa Rica\"\n",
    "        #print(address)\n",
    "\n",
    "    location = geolocator.geocode(address)\n",
    "\n",
    "    if location == None:\n",
    "        playas2[beach]['lati'] = None\n",
    "        playas2[beach]['long'] = None\n",
    "        \n",
    "    else:\n",
    "        playas2[beach]['lati'] = location.latitude\n",
    "        playas2[beach]['long'] = location.longitude"
   ]
  },
  {
   "cell_type": "code",
   "execution_count": 89,
   "metadata": {},
   "outputs": [],
   "source": [
    "for beach in b2[70:]:\n",
    "    geolocator = Nominatim(user_agent=\"cr_explorer_js\")\n",
    "\n",
    "    if beach in limon:\n",
    "        address = beach+\", Limón, Costa Rica\"\n",
    "        #print(address)\n",
    "\n",
    "    if beach in guanacaste:\n",
    "        address = beach+\", Guanacaste, Costa Rica\"\n",
    "        #print(address)\n",
    "\n",
    "    if beach in puntarenas:\n",
    "        address = beach+\", Puntarenas, Costa Rica\"\n",
    "        #print(address)\n",
    "\n",
    "    location = geolocator.geocode(address)\n",
    "\n",
    "    if location == None:\n",
    "        playas2[beach]['lati'] = None\n",
    "        playas2[beach]['long'] = None\n",
    "        \n",
    "    else:\n",
    "        playas2[beach]['lati'] = location.latitude\n",
    "        playas2[beach]['long'] = location.longitude"
   ]
  },
  {
   "cell_type": "code",
   "execution_count": 100,
   "metadata": {},
   "outputs": [],
   "source": [
    "latitudes = []\n",
    "\n",
    "for beach in b2:\n",
    "    if playas2[beach]['lati'] == None:\n",
    "        latitudes.append(beach)"
   ]
  },
  {
   "cell_type": "code",
   "execution_count": 105,
   "metadata": {},
   "outputs": [
    {
     "output_type": "stream",
     "name": "stdout",
     "text": [
      "35\n['Playa Barra del Colorado', 'Playa Cahuita (Blanca)', 'Playa Negra (Puerto Viejo)', 'Playa Pirikiki', 'Playa Puerto Vargas', 'Playa Arbolito', 'Playa Azul (Jurel)', 'Playa Buena Vista', 'Playa Carbón', 'Playa Carmen', 'Playa Cóncava', 'Playa Gringo', 'Playa Mal País', 'Playa Manzanillo (Costa Rica)', 'Playa Nabos', 'Playa Nancite', 'Playa Nubes', 'Playa Panamá (Chrorotega)', 'Playa Pietra', 'Playa Pochote (Papagayo)', 'Playa Real y Roble', 'Playa Santa Teresa', 'Playa Prieta (Papagayo)', 'Playa Pochote (Salinas)', 'Balnerario Puntarenas', 'Playa Boca Vieja', 'Playa Cabo Blanco', 'Playa de Arco', 'Playa de Doña Ana', 'Playa Garza (Boca Brava)', 'Playa Isla Damas', 'Playa Palo Seco', 'Playa Pógeres', 'Playa Quizales', 'Playa San Josecito (Golfito)']\n"
     ]
    }
   ],
   "source": [
    "print(len(latitudes))\n",
    "print(latitudes)"
   ]
  },
  {
   "cell_type": "code",
   "execution_count": 107,
   "metadata": {},
   "outputs": [],
   "source": [
    "# let's try without the province \n",
    "\n",
    "for beach in latitudes:\n",
    "    geolocator = Nominatim(user_agent=\"beachesCR_explorer\")\n",
    "\n",
    "    location = geolocator.geocode(address)\n",
    "\n",
    "    if location == None:\n",
    "        playas2[beach]['lati'] = None\n",
    "        playas2[beach]['long'] = None\n",
    "        \n",
    "    else:\n",
    "        playas2[beach]['lati'] = location.latitude\n",
    "        playas2[beach]['long'] = location.longitude"
   ]
  },
  {
   "cell_type": "code",
   "execution_count": 108,
   "metadata": {},
   "outputs": [
    {
     "output_type": "stream",
     "name": "stdout",
     "text": [
      "0\n[]\n"
     ]
    }
   ],
   "source": [
    "latitudes2 = []\n",
    "\n",
    "for beach in b2:\n",
    "    if playas2[beach]['lati'] == None:\n",
    "        latitudes2.append(beach)\n",
    "\n",
    "print(len(latitudes2))\n",
    "print(latitudes2)"
   ]
  },
  {
   "cell_type": "code",
   "execution_count": 180,
   "metadata": {},
   "outputs": [
    {
     "output_type": "execute_result",
     "data": {
      "text/plain": [
       "         Playa Barra del Colorado Playa Bonita Playa Cahuita (Blanca)  \\\n",
       "Info                         True        False                  False   \n",
       "Swimming                     True         True                   True   \n",
       "Surfing                      True         True                   True   \n",
       "lati                      8.51584      10.0099                8.51584   \n",
       "long                     -83.1364     -83.0635               -83.1364   \n",
       "\n",
       "         Playa Chiquita Punta Cocles Playa Gandoca Playa Manzanillo  \\\n",
       "Info               True        False         False            False   \n",
       "Swimming           True         True          True             True   \n",
       "Surfing            True         True          True             True   \n",
       "lati             9.6374      9.64528       9.59989          9.63376   \n",
       "long           -82.7037     -82.7176      -82.6071         -82.6574   \n",
       "\n",
       "         Playa Moín Playa Negra (Puerto Viejo) Playa Negra (Cahuita)  ...  \\\n",
       "Info          False                      False                  True  ...   \n",
       "Swimming       True                       True                  True  ...   \n",
       "Surfing        True                       True                  True  ...   \n",
       "lati        10.0099                    8.51584               9.74067  ...   \n",
       "long       -83.0635                   -83.1364              -82.8504  ...   \n",
       "\n",
       "         Playa San Josecito (Golfito) Playa Savegre Playa Sombrero  \\\n",
       "Info                            False         False          False   \n",
       "Swimming                         True          True           True   \n",
       "Surfing                          True          True           True   \n",
       "lati                          8.51584       9.36369        8.41559   \n",
       "long                         -83.1364      -84.0706       -83.2802   \n",
       "\n",
       "         Playa Tamales Playa Tambor Playa Tárcoles Playa Tivives  \\\n",
       "Info             False         True          False         False   \n",
       "Swimming          True         True           True          True   \n",
       "Surfing           True         True           True          True   \n",
       "lati           8.45534      9.74571        9.75939       9.92122   \n",
       "long          -83.2805     -84.9885        -84.628      -84.7149   \n",
       "\n",
       "         Playa Tortuga Playa Uvita Playa Zancudo  \n",
       "Info              True       False         False  \n",
       "Swimming          True        True          True  \n",
       "Surfing           True        True          True  \n",
       "lati           9.77325     9.15531       8.51584  \n",
       "long          -84.8954    -83.7574      -83.1364  \n",
       "\n",
       "[5 rows x 137 columns]"
      ],
      "text/html": "<div>\n<style scoped>\n    .dataframe tbody tr th:only-of-type {\n        vertical-align: middle;\n    }\n\n    .dataframe tbody tr th {\n        vertical-align: top;\n    }\n\n    .dataframe thead th {\n        text-align: right;\n    }\n</style>\n<table border=\"1\" class=\"dataframe\">\n  <thead>\n    <tr style=\"text-align: right;\">\n      <th></th>\n      <th>Playa Barra del Colorado</th>\n      <th>Playa Bonita</th>\n      <th>Playa Cahuita (Blanca)</th>\n      <th>Playa Chiquita</th>\n      <th>Punta Cocles</th>\n      <th>Playa Gandoca</th>\n      <th>Playa Manzanillo</th>\n      <th>Playa Moín</th>\n      <th>Playa Negra (Puerto Viejo)</th>\n      <th>Playa Negra (Cahuita)</th>\n      <th>...</th>\n      <th>Playa San Josecito (Golfito)</th>\n      <th>Playa Savegre</th>\n      <th>Playa Sombrero</th>\n      <th>Playa Tamales</th>\n      <th>Playa Tambor</th>\n      <th>Playa Tárcoles</th>\n      <th>Playa Tivives</th>\n      <th>Playa Tortuga</th>\n      <th>Playa Uvita</th>\n      <th>Playa Zancudo</th>\n    </tr>\n  </thead>\n  <tbody>\n    <tr>\n      <th>Info</th>\n      <td>True</td>\n      <td>False</td>\n      <td>False</td>\n      <td>True</td>\n      <td>False</td>\n      <td>False</td>\n      <td>False</td>\n      <td>False</td>\n      <td>False</td>\n      <td>True</td>\n      <td>...</td>\n      <td>False</td>\n      <td>False</td>\n      <td>False</td>\n      <td>False</td>\n      <td>True</td>\n      <td>False</td>\n      <td>False</td>\n      <td>True</td>\n      <td>False</td>\n      <td>False</td>\n    </tr>\n    <tr>\n      <th>Swimming</th>\n      <td>True</td>\n      <td>True</td>\n      <td>True</td>\n      <td>True</td>\n      <td>True</td>\n      <td>True</td>\n      <td>True</td>\n      <td>True</td>\n      <td>True</td>\n      <td>True</td>\n      <td>...</td>\n      <td>True</td>\n      <td>True</td>\n      <td>True</td>\n      <td>True</td>\n      <td>True</td>\n      <td>True</td>\n      <td>True</td>\n      <td>True</td>\n      <td>True</td>\n      <td>True</td>\n    </tr>\n    <tr>\n      <th>Surfing</th>\n      <td>True</td>\n      <td>True</td>\n      <td>True</td>\n      <td>True</td>\n      <td>True</td>\n      <td>True</td>\n      <td>True</td>\n      <td>True</td>\n      <td>True</td>\n      <td>True</td>\n      <td>...</td>\n      <td>True</td>\n      <td>True</td>\n      <td>True</td>\n      <td>True</td>\n      <td>True</td>\n      <td>True</td>\n      <td>True</td>\n      <td>True</td>\n      <td>True</td>\n      <td>True</td>\n    </tr>\n    <tr>\n      <th>lati</th>\n      <td>8.51584</td>\n      <td>10.0099</td>\n      <td>8.51584</td>\n      <td>9.6374</td>\n      <td>9.64528</td>\n      <td>9.59989</td>\n      <td>9.63376</td>\n      <td>10.0099</td>\n      <td>8.51584</td>\n      <td>9.74067</td>\n      <td>...</td>\n      <td>8.51584</td>\n      <td>9.36369</td>\n      <td>8.41559</td>\n      <td>8.45534</td>\n      <td>9.74571</td>\n      <td>9.75939</td>\n      <td>9.92122</td>\n      <td>9.77325</td>\n      <td>9.15531</td>\n      <td>8.51584</td>\n    </tr>\n    <tr>\n      <th>long</th>\n      <td>-83.1364</td>\n      <td>-83.0635</td>\n      <td>-83.1364</td>\n      <td>-82.7037</td>\n      <td>-82.7176</td>\n      <td>-82.6071</td>\n      <td>-82.6574</td>\n      <td>-83.0635</td>\n      <td>-83.1364</td>\n      <td>-82.8504</td>\n      <td>...</td>\n      <td>-83.1364</td>\n      <td>-84.0706</td>\n      <td>-83.2802</td>\n      <td>-83.2805</td>\n      <td>-84.9885</td>\n      <td>-84.628</td>\n      <td>-84.7149</td>\n      <td>-84.8954</td>\n      <td>-83.7574</td>\n      <td>-83.1364</td>\n    </tr>\n  </tbody>\n</table>\n<p>5 rows × 137 columns</p>\n</div>"
     },
     "metadata": {},
     "execution_count": 180
    }
   ],
   "source": [
    "df = pd.DataFrame(playas2)\n",
    "df.head()"
   ]
  },
  {
   "cell_type": "code",
   "execution_count": 181,
   "metadata": {},
   "outputs": [
    {
     "output_type": "execute_result",
     "data": {
      "text/plain": [
       "                           Info Swimming Surfing     lati     long White_S  \\\n",
       "Playa Barra del Colorado   True     True    True  8.51584 -83.1364     NaN   \n",
       "Playa Bonita              False     True    True  10.0099 -83.0635    True   \n",
       "Playa Cahuita (Blanca)    False     True    True  8.51584 -83.1364    True   \n",
       "Playa Chiquita             True     True    True   9.6374 -82.7037    True   \n",
       "Punta Cocles              False     True    True  9.64528 -82.7176    True   \n",
       "\n",
       "                         Snorkeling Nocturnal  \n",
       "Playa Barra del Colorado        NaN       NaN  \n",
       "Playa Bonita                    NaN       NaN  \n",
       "Playa Cahuita (Blanca)         True       NaN  \n",
       "Playa Chiquita                 True       NaN  \n",
       "Punta Cocles                    NaN       NaN  "
      ],
      "text/html": "<div>\n<style scoped>\n    .dataframe tbody tr th:only-of-type {\n        vertical-align: middle;\n    }\n\n    .dataframe tbody tr th {\n        vertical-align: top;\n    }\n\n    .dataframe thead th {\n        text-align: right;\n    }\n</style>\n<table border=\"1\" class=\"dataframe\">\n  <thead>\n    <tr style=\"text-align: right;\">\n      <th></th>\n      <th>Info</th>\n      <th>Swimming</th>\n      <th>Surfing</th>\n      <th>lati</th>\n      <th>long</th>\n      <th>White_S</th>\n      <th>Snorkeling</th>\n      <th>Nocturnal</th>\n    </tr>\n  </thead>\n  <tbody>\n    <tr>\n      <th>Playa Barra del Colorado</th>\n      <td>True</td>\n      <td>True</td>\n      <td>True</td>\n      <td>8.51584</td>\n      <td>-83.1364</td>\n      <td>NaN</td>\n      <td>NaN</td>\n      <td>NaN</td>\n    </tr>\n    <tr>\n      <th>Playa Bonita</th>\n      <td>False</td>\n      <td>True</td>\n      <td>True</td>\n      <td>10.0099</td>\n      <td>-83.0635</td>\n      <td>True</td>\n      <td>NaN</td>\n      <td>NaN</td>\n    </tr>\n    <tr>\n      <th>Playa Cahuita (Blanca)</th>\n      <td>False</td>\n      <td>True</td>\n      <td>True</td>\n      <td>8.51584</td>\n      <td>-83.1364</td>\n      <td>True</td>\n      <td>True</td>\n      <td>NaN</td>\n    </tr>\n    <tr>\n      <th>Playa Chiquita</th>\n      <td>True</td>\n      <td>True</td>\n      <td>True</td>\n      <td>9.6374</td>\n      <td>-82.7037</td>\n      <td>True</td>\n      <td>True</td>\n      <td>NaN</td>\n    </tr>\n    <tr>\n      <th>Punta Cocles</th>\n      <td>False</td>\n      <td>True</td>\n      <td>True</td>\n      <td>9.64528</td>\n      <td>-82.7176</td>\n      <td>True</td>\n      <td>NaN</td>\n      <td>NaN</td>\n    </tr>\n  </tbody>\n</table>\n</div>"
     },
     "metadata": {},
     "execution_count": 181
    }
   ],
   "source": [
    "df = df.transpose()\n",
    "df.head()"
   ]
  },
  {
   "cell_type": "code",
   "execution_count": 183,
   "metadata": {},
   "outputs": [
    {
     "output_type": "execute_result",
     "data": {
      "text/plain": [
       "                           Info  Swimming  Surfing       lati       long  \\\n",
       "Playa Barra del Colorado   True      True     True   8.515841 -83.136367   \n",
       "Playa Bonita              False      True     True  10.009861 -83.063460   \n",
       "Playa Cahuita (Blanca)    False      True     True   8.515841 -83.136367   \n",
       "Playa Chiquita             True      True     True   9.637403 -82.703669   \n",
       "Punta Cocles              False      True     True   9.645276 -82.717563   \n",
       "\n",
       "                          White_S  Snorkeling  Nocturnal  \n",
       "Playa Barra del Colorado    False       False      False  \n",
       "Playa Bonita                 True       False      False  \n",
       "Playa Cahuita (Blanca)       True        True      False  \n",
       "Playa Chiquita               True        True      False  \n",
       "Punta Cocles                 True       False      False  "
      ],
      "text/html": "<div>\n<style scoped>\n    .dataframe tbody tr th:only-of-type {\n        vertical-align: middle;\n    }\n\n    .dataframe tbody tr th {\n        vertical-align: top;\n    }\n\n    .dataframe thead th {\n        text-align: right;\n    }\n</style>\n<table border=\"1\" class=\"dataframe\">\n  <thead>\n    <tr style=\"text-align: right;\">\n      <th></th>\n      <th>Info</th>\n      <th>Swimming</th>\n      <th>Surfing</th>\n      <th>lati</th>\n      <th>long</th>\n      <th>White_S</th>\n      <th>Snorkeling</th>\n      <th>Nocturnal</th>\n    </tr>\n  </thead>\n  <tbody>\n    <tr>\n      <th>Playa Barra del Colorado</th>\n      <td>True</td>\n      <td>True</td>\n      <td>True</td>\n      <td>8.515841</td>\n      <td>-83.136367</td>\n      <td>False</td>\n      <td>False</td>\n      <td>False</td>\n    </tr>\n    <tr>\n      <th>Playa Bonita</th>\n      <td>False</td>\n      <td>True</td>\n      <td>True</td>\n      <td>10.009861</td>\n      <td>-83.063460</td>\n      <td>True</td>\n      <td>False</td>\n      <td>False</td>\n    </tr>\n    <tr>\n      <th>Playa Cahuita (Blanca)</th>\n      <td>False</td>\n      <td>True</td>\n      <td>True</td>\n      <td>8.515841</td>\n      <td>-83.136367</td>\n      <td>True</td>\n      <td>True</td>\n      <td>False</td>\n    </tr>\n    <tr>\n      <th>Playa Chiquita</th>\n      <td>True</td>\n      <td>True</td>\n      <td>True</td>\n      <td>9.637403</td>\n      <td>-82.703669</td>\n      <td>True</td>\n      <td>True</td>\n      <td>False</td>\n    </tr>\n    <tr>\n      <th>Punta Cocles</th>\n      <td>False</td>\n      <td>True</td>\n      <td>True</td>\n      <td>9.645276</td>\n      <td>-82.717563</td>\n      <td>True</td>\n      <td>False</td>\n      <td>False</td>\n    </tr>\n  </tbody>\n</table>\n</div>"
     },
     "metadata": {},
     "execution_count": 183
    }
   ],
   "source": [
    "#df['White_S'] = df['White_S'].fillna(False)\n",
    "#df['Snorkeling'] = df['Snorkeling'].fillna(False)\n",
    "#df['Nocturnal'] = df['Nocturnal'].fillna(False)\n",
    "\n",
    "# or fot the entire df\n",
    "df = df.fillna(False)\n",
    "df.head()"
   ]
  },
  {
   "cell_type": "code",
   "execution_count": 184,
   "metadata": {},
   "outputs": [
    {
     "output_type": "execute_result",
     "data": {
      "text/plain": [
       "                      index   Info  Swimming  Surfing       lati       long  \\\n",
       "0  Playa Barra del Colorado   True      True     True   8.515841 -83.136367   \n",
       "1              Playa Bonita  False      True     True  10.009861 -83.063460   \n",
       "2    Playa Cahuita (Blanca)  False      True     True   8.515841 -83.136367   \n",
       "3            Playa Chiquita   True      True     True   9.637403 -82.703669   \n",
       "4              Punta Cocles  False      True     True   9.645276 -82.717563   \n",
       "\n",
       "   White_S  Snorkeling  Nocturnal  \n",
       "0    False       False      False  \n",
       "1     True       False      False  \n",
       "2     True        True      False  \n",
       "3     True        True      False  \n",
       "4     True       False      False  "
      ],
      "text/html": "<div>\n<style scoped>\n    .dataframe tbody tr th:only-of-type {\n        vertical-align: middle;\n    }\n\n    .dataframe tbody tr th {\n        vertical-align: top;\n    }\n\n    .dataframe thead th {\n        text-align: right;\n    }\n</style>\n<table border=\"1\" class=\"dataframe\">\n  <thead>\n    <tr style=\"text-align: right;\">\n      <th></th>\n      <th>index</th>\n      <th>Info</th>\n      <th>Swimming</th>\n      <th>Surfing</th>\n      <th>lati</th>\n      <th>long</th>\n      <th>White_S</th>\n      <th>Snorkeling</th>\n      <th>Nocturnal</th>\n    </tr>\n  </thead>\n  <tbody>\n    <tr>\n      <th>0</th>\n      <td>Playa Barra del Colorado</td>\n      <td>True</td>\n      <td>True</td>\n      <td>True</td>\n      <td>8.515841</td>\n      <td>-83.136367</td>\n      <td>False</td>\n      <td>False</td>\n      <td>False</td>\n    </tr>\n    <tr>\n      <th>1</th>\n      <td>Playa Bonita</td>\n      <td>False</td>\n      <td>True</td>\n      <td>True</td>\n      <td>10.009861</td>\n      <td>-83.063460</td>\n      <td>True</td>\n      <td>False</td>\n      <td>False</td>\n    </tr>\n    <tr>\n      <th>2</th>\n      <td>Playa Cahuita (Blanca)</td>\n      <td>False</td>\n      <td>True</td>\n      <td>True</td>\n      <td>8.515841</td>\n      <td>-83.136367</td>\n      <td>True</td>\n      <td>True</td>\n      <td>False</td>\n    </tr>\n    <tr>\n      <th>3</th>\n      <td>Playa Chiquita</td>\n      <td>True</td>\n      <td>True</td>\n      <td>True</td>\n      <td>9.637403</td>\n      <td>-82.703669</td>\n      <td>True</td>\n      <td>True</td>\n      <td>False</td>\n    </tr>\n    <tr>\n      <th>4</th>\n      <td>Punta Cocles</td>\n      <td>False</td>\n      <td>True</td>\n      <td>True</td>\n      <td>9.645276</td>\n      <td>-82.717563</td>\n      <td>True</td>\n      <td>False</td>\n      <td>False</td>\n    </tr>\n  </tbody>\n</table>\n</div>"
     },
     "metadata": {},
     "execution_count": 184
    }
   ],
   "source": [
    "df.reset_index(inplace=True)\n",
    "df.head()"
   ]
  },
  {
   "cell_type": "code",
   "execution_count": 185,
   "metadata": {},
   "outputs": [
    {
     "output_type": "execute_result",
     "data": {
      "text/plain": [
       "                    Beaches   Info  Swimming  Surfing       lati       long  \\\n",
       "0  Playa Barra del Colorado   True      True     True   8.515841 -83.136367   \n",
       "1              Playa Bonita  False      True     True  10.009861 -83.063460   \n",
       "2    Playa Cahuita (Blanca)  False      True     True   8.515841 -83.136367   \n",
       "3            Playa Chiquita   True      True     True   9.637403 -82.703669   \n",
       "4              Punta Cocles  False      True     True   9.645276 -82.717563   \n",
       "\n",
       "   White_S  Snorkeling  Nocturnal  \n",
       "0    False       False      False  \n",
       "1     True       False      False  \n",
       "2     True        True      False  \n",
       "3     True        True      False  \n",
       "4     True       False      False  "
      ],
      "text/html": "<div>\n<style scoped>\n    .dataframe tbody tr th:only-of-type {\n        vertical-align: middle;\n    }\n\n    .dataframe tbody tr th {\n        vertical-align: top;\n    }\n\n    .dataframe thead th {\n        text-align: right;\n    }\n</style>\n<table border=\"1\" class=\"dataframe\">\n  <thead>\n    <tr style=\"text-align: right;\">\n      <th></th>\n      <th>Beaches</th>\n      <th>Info</th>\n      <th>Swimming</th>\n      <th>Surfing</th>\n      <th>lati</th>\n      <th>long</th>\n      <th>White_S</th>\n      <th>Snorkeling</th>\n      <th>Nocturnal</th>\n    </tr>\n  </thead>\n  <tbody>\n    <tr>\n      <th>0</th>\n      <td>Playa Barra del Colorado</td>\n      <td>True</td>\n      <td>True</td>\n      <td>True</td>\n      <td>8.515841</td>\n      <td>-83.136367</td>\n      <td>False</td>\n      <td>False</td>\n      <td>False</td>\n    </tr>\n    <tr>\n      <th>1</th>\n      <td>Playa Bonita</td>\n      <td>False</td>\n      <td>True</td>\n      <td>True</td>\n      <td>10.009861</td>\n      <td>-83.063460</td>\n      <td>True</td>\n      <td>False</td>\n      <td>False</td>\n    </tr>\n    <tr>\n      <th>2</th>\n      <td>Playa Cahuita (Blanca)</td>\n      <td>False</td>\n      <td>True</td>\n      <td>True</td>\n      <td>8.515841</td>\n      <td>-83.136367</td>\n      <td>True</td>\n      <td>True</td>\n      <td>False</td>\n    </tr>\n    <tr>\n      <th>3</th>\n      <td>Playa Chiquita</td>\n      <td>True</td>\n      <td>True</td>\n      <td>True</td>\n      <td>9.637403</td>\n      <td>-82.703669</td>\n      <td>True</td>\n      <td>True</td>\n      <td>False</td>\n    </tr>\n    <tr>\n      <th>4</th>\n      <td>Punta Cocles</td>\n      <td>False</td>\n      <td>True</td>\n      <td>True</td>\n      <td>9.645276</td>\n      <td>-82.717563</td>\n      <td>True</td>\n      <td>False</td>\n      <td>False</td>\n    </tr>\n  </tbody>\n</table>\n</div>"
     },
     "metadata": {},
     "execution_count": 185
    }
   ],
   "source": [
    "df.rename({'index':'Beaches'}, axis=1, inplace=True)\n",
    "df.head()"
   ]
  },
  {
   "cell_type": "code",
   "execution_count": 168,
   "metadata": {},
   "outputs": [],
   "source": [
    "#df.to_csv('beaches.csv')"
   ]
  },
  {
   "cell_type": "code",
   "execution_count": 128,
   "metadata": {},
   "outputs": [
    {
     "output_type": "stream",
     "name": "stdout",
     "text": [
      "Alajuela, Cantón Alajuela, Provincia Alajuela, 20101, Costa Rica\n"
     ]
    }
   ],
   "source": [
    "geolocator = Nominatim(user_agent=\"beachesCR_explorer\")\n",
    "address = \"Alajuela, San Jose, Costa Rica\"\n",
    "location = geolocator.geocode(address)\n",
    "print(location)"
   ]
  },
  {
   "cell_type": "code",
   "execution_count": 140,
   "metadata": {},
   "outputs": [
    {
     "output_type": "stream",
     "name": "stdout",
     "text": [
      "10.0173148 -84.2132869\n"
     ]
    }
   ],
   "source": [
    "latitude = location.latitude\n",
    "longitude = location.longitude\n",
    "print(latitude, longitude)"
   ]
  },
  {
   "cell_type": "code",
   "execution_count": 155,
   "metadata": {},
   "outputs": [
    {
     "output_type": "execute_result",
     "data": {
      "text/plain": [
       "<folium.folium.Map at 0x1618bf70>"
      ],
      "text/html": "<div style=\"width:100%;\"><div style=\"position:relative;width:100%;height:0;padding-bottom:60%;\"><span style=\"color:#565656\">Make this Notebook Trusted to load map: File -> Trust Notebook</span><iframe src=\"about:blank\" style=\"position:absolute;width:100%;height:100%;left:0;top:0;border:none !important;\" data-html=PCFET0NUWVBFIGh0bWw+CjxoZWFkPiAgICAKICAgIDxtZXRhIGh0dHAtZXF1aXY9ImNvbnRlbnQtdHlwZSIgY29udGVudD0idGV4dC9odG1sOyBjaGFyc2V0PVVURi04IiAvPgogICAgCiAgICAgICAgPHNjcmlwdD4KICAgICAgICAgICAgTF9OT19UT1VDSCA9IGZhbHNlOwogICAgICAgICAgICBMX0RJU0FCTEVfM0QgPSBmYWxzZTsKICAgICAgICA8L3NjcmlwdD4KICAgIAogICAgPHNjcmlwdCBzcmM9Imh0dHBzOi8vY2RuLmpzZGVsaXZyLm5ldC9ucG0vbGVhZmxldEAxLjYuMC9kaXN0L2xlYWZsZXQuanMiPjwvc2NyaXB0PgogICAgPHNjcmlwdCBzcmM9Imh0dHBzOi8vY29kZS5qcXVlcnkuY29tL2pxdWVyeS0xLjEyLjQubWluLmpzIj48L3NjcmlwdD4KICAgIDxzY3JpcHQgc3JjPSJodHRwczovL21heGNkbi5ib290c3RyYXBjZG4uY29tL2Jvb3RzdHJhcC8zLjIuMC9qcy9ib290c3RyYXAubWluLmpzIj48L3NjcmlwdD4KICAgIDxzY3JpcHQgc3JjPSJodHRwczovL2NkbmpzLmNsb3VkZmxhcmUuY29tL2FqYXgvbGlicy9MZWFmbGV0LmF3ZXNvbWUtbWFya2Vycy8yLjAuMi9sZWFmbGV0LmF3ZXNvbWUtbWFya2Vycy5qcyI+PC9zY3JpcHQ+CiAgICA8bGluayByZWw9InN0eWxlc2hlZXQiIGhyZWY9Imh0dHBzOi8vY2RuLmpzZGVsaXZyLm5ldC9ucG0vbGVhZmxldEAxLjYuMC9kaXN0L2xlYWZsZXQuY3NzIi8+CiAgICA8bGluayByZWw9InN0eWxlc2hlZXQiIGhyZWY9Imh0dHBzOi8vbWF4Y2RuLmJvb3RzdHJhcGNkbi5jb20vYm9vdHN0cmFwLzMuMi4wL2Nzcy9ib290c3RyYXAubWluLmNzcyIvPgogICAgPGxpbmsgcmVsPSJzdHlsZXNoZWV0IiBocmVmPSJodHRwczovL21heGNkbi5ib290c3RyYXBjZG4uY29tL2Jvb3RzdHJhcC8zLjIuMC9jc3MvYm9vdHN0cmFwLXRoZW1lLm1pbi5jc3MiLz4KICAgIDxsaW5rIHJlbD0ic3R5bGVzaGVldCIgaHJlZj0iaHR0cHM6Ly9tYXhjZG4uYm9vdHN0cmFwY2RuLmNvbS9mb250LWF3ZXNvbWUvNC42LjMvY3NzL2ZvbnQtYXdlc29tZS5taW4uY3NzIi8+CiAgICA8bGluayByZWw9InN0eWxlc2hlZXQiIGhyZWY9Imh0dHBzOi8vY2RuanMuY2xvdWRmbGFyZS5jb20vYWpheC9saWJzL0xlYWZsZXQuYXdlc29tZS1tYXJrZXJzLzIuMC4yL2xlYWZsZXQuYXdlc29tZS1tYXJrZXJzLmNzcyIvPgogICAgPGxpbmsgcmVsPSJzdHlsZXNoZWV0IiBocmVmPSJodHRwczovL3Jhd2Nkbi5naXRoYWNrLmNvbS9weXRob24tdmlzdWFsaXphdGlvbi9mb2xpdW0vbWFzdGVyL2ZvbGl1bS90ZW1wbGF0ZXMvbGVhZmxldC5hd2Vzb21lLnJvdGF0ZS5jc3MiLz4KICAgIDxzdHlsZT5odG1sLCBib2R5IHt3aWR0aDogMTAwJTtoZWlnaHQ6IDEwMCU7bWFyZ2luOiAwO3BhZGRpbmc6IDA7fTwvc3R5bGU+CiAgICA8c3R5bGU+I21hcCB7cG9zaXRpb246YWJzb2x1dGU7dG9wOjA7Ym90dG9tOjA7cmlnaHQ6MDtsZWZ0OjA7fTwvc3R5bGU+CiAgICAKICAgICAgICAgICAgPG1ldGEgbmFtZT0idmlld3BvcnQiIGNvbnRlbnQ9IndpZHRoPWRldmljZS13aWR0aCwKICAgICAgICAgICAgICAgIGluaXRpYWwtc2NhbGU9MS4wLCBtYXhpbXVtLXNjYWxlPTEuMCwgdXNlci1zY2FsYWJsZT1ubyIgLz4KICAgICAgICAgICAgPHN0eWxlPgogICAgICAgICAgICAgICAgI21hcF9hZjU4NzI1NTU3ZTY0OTI5ODA0ZTg1NjZmZmZkMjFlOSB7CiAgICAgICAgICAgICAgICAgICAgcG9zaXRpb246IHJlbGF0aXZlOwogICAgICAgICAgICAgICAgICAgIHdpZHRoOiAxMDAuMCU7CiAgICAgICAgICAgICAgICAgICAgaGVpZ2h0OiAxMDAuMCU7CiAgICAgICAgICAgICAgICAgICAgbGVmdDogMC4wJTsKICAgICAgICAgICAgICAgICAgICB0b3A6IDAuMCU7CiAgICAgICAgICAgICAgICB9CiAgICAgICAgICAgIDwvc3R5bGU+CiAgICAgICAgCjwvaGVhZD4KPGJvZHk+ICAgIAogICAgCiAgICAgICAgICAgIDxkaXYgY2xhc3M9ImZvbGl1bS1tYXAiIGlkPSJtYXBfYWY1ODcyNTU1N2U2NDkyOTgwNGU4NTY2ZmZmZDIxZTkiID48L2Rpdj4KICAgICAgICAKPC9ib2R5Pgo8c2NyaXB0PiAgICAKICAgIAogICAgICAgICAgICB2YXIgbWFwX2FmNTg3MjU1NTdlNjQ5Mjk4MDRlODU2NmZmZmQyMWU5ID0gTC5tYXAoCiAgICAgICAgICAgICAgICAibWFwX2FmNTg3MjU1NTdlNjQ5Mjk4MDRlODU2NmZmZmQyMWU5IiwKICAgICAgICAgICAgICAgIHsKICAgICAgICAgICAgICAgICAgICBjZW50ZXI6IFsxMC4wMTczMTQ4LCAtODQuMjEzMjg2OV0sCiAgICAgICAgICAgICAgICAgICAgY3JzOiBMLkNSUy5FUFNHMzg1NywKICAgICAgICAgICAgICAgICAgICB6b29tOiA4LAogICAgICAgICAgICAgICAgICAgIHpvb21Db250cm9sOiB0cnVlLAogICAgICAgICAgICAgICAgICAgIHByZWZlckNhbnZhczogZmFsc2UsCiAgICAgICAgICAgICAgICB9CiAgICAgICAgICAgICk7CgogICAgICAgICAgICAKCiAgICAgICAgCiAgICAKICAgICAgICAgICAgdmFyIHRpbGVfbGF5ZXJfMTE2ZWM2YWQ0ZDQwNGVkNmJmNzA2ODRhMTAxZGRiZGEgPSBMLnRpbGVMYXllcigKICAgICAgICAgICAgICAgICJodHRwczovL3tzfS50aWxlLm9wZW5zdHJlZXRtYXAub3JnL3t6fS97eH0ve3l9LnBuZyIsCiAgICAgICAgICAgICAgICB7ImF0dHJpYnV0aW9uIjogIkRhdGEgYnkgXHUwMDI2Y29weTsgXHUwMDNjYSBocmVmPVwiaHR0cDovL29wZW5zdHJlZXRtYXAub3JnXCJcdTAwM2VPcGVuU3RyZWV0TWFwXHUwMDNjL2FcdTAwM2UsIHVuZGVyIFx1MDAzY2EgaHJlZj1cImh0dHA6Ly93d3cub3BlbnN0cmVldG1hcC5vcmcvY29weXJpZ2h0XCJcdTAwM2VPRGJMXHUwMDNjL2FcdTAwM2UuIiwgImRldGVjdFJldGluYSI6IGZhbHNlLCAibWF4TmF0aXZlWm9vbSI6IDE4LCAibWF4Wm9vbSI6IDE4LCAibWluWm9vbSI6IDAsICJub1dyYXAiOiBmYWxzZSwgIm9wYWNpdHkiOiAxLCAic3ViZG9tYWlucyI6ICJhYmMiLCAidG1zIjogZmFsc2V9CiAgICAgICAgICAgICkuYWRkVG8obWFwX2FmNTg3MjU1NTdlNjQ5Mjk4MDRlODU2NmZmZmQyMWU5KTsKICAgICAgICAKICAgIAogICAgICAgICAgICB2YXIgY2lyY2xlX21hcmtlcl8zMDk2ZDI2MWI2ODQ0NWI5YjQ1YTQ0OGEwOWQ4NmI2MiA9IEwuY2lyY2xlTWFya2VyKAogICAgICAgICAgICAgICAgWzguNTE1ODQwODUsIC04My4xMzYzNjc0NTA2MjY4OV0sCiAgICAgICAgICAgICAgICB7ImJ1YmJsaW5nTW91c2VFdmVudHMiOiB0cnVlLCAiY29sb3IiOiAiWWVsbG93IiwgImRhc2hBcnJheSI6IG51bGwsICJkYXNoT2Zmc2V0IjogbnVsbCwgImZpbGwiOiB0cnVlLCAiZmlsbENvbG9yIjogIiMzMTg2Y2MiLCAiZmlsbE9wYWNpdHkiOiAwLjYsICJmaWxsUnVsZSI6ICJldmVub2RkIiwgImxpbmVDYXAiOiAicm91bmQiLCAibGluZUpvaW4iOiAicm91bmQiLCAib3BhY2l0eSI6IDEuMCwgInJhZGl1cyI6IDYsICJzdHJva2UiOiB0cnVlLCAid2VpZ2h0IjogM30KICAgICAgICAgICAgKS5hZGRUbyhtYXBfYWY1ODcyNTU1N2U2NDkyOTgwNGU4NTY2ZmZmZDIxZTkpOwogICAgICAgIAogICAgCiAgICAgICAgdmFyIHBvcHVwX2E2NmI3NTAyOWMzYTQ2MWQ4YjJiMmFkOTZjNDI3ZDA0ID0gTC5wb3B1cCh7Im1heFdpZHRoIjogIjEwMCUifSk7CgogICAgICAgIAogICAgICAgICAgICB2YXIgaHRtbF9jMmY2MWMzMmM1MDQ0ODEyYjk2MDVmNDAzN2VjZWYwNSA9ICQoYDxkaXYgaWQ9Imh0bWxfYzJmNjFjMzJjNTA0NDgxMmI5NjA1ZjQwMzdlY2VmMDUiIHN0eWxlPSJ3aWR0aDogMTAwLjAlOyBoZWlnaHQ6IDEwMC4wJTsiPlBsYXlhIEJhcnJhIGRlbCBDb2xvcmFkbzwvZGl2PmApWzBdOwogICAgICAgICAgICBwb3B1cF9hNjZiNzUwMjljM2E0NjFkOGIyYjJhZDk2YzQyN2QwNC5zZXRDb250ZW50KGh0bWxfYzJmNjFjMzJjNTA0NDgxMmI5NjA1ZjQwMzdlY2VmMDUpOwogICAgICAgIAoKICAgICAgICBjaXJjbGVfbWFya2VyXzMwOTZkMjYxYjY4NDQ1YjliNDVhNDQ4YTA5ZDg2YjYyLmJpbmRQb3B1cChwb3B1cF9hNjZiNzUwMjljM2E0NjFkOGIyYjJhZDk2YzQyN2QwNCkKICAgICAgICA7CgogICAgICAgIAogICAgCiAgICAKICAgICAgICAgICAgdmFyIGNpcmNsZV9tYXJrZXJfNmI4YTU0ZjViZWE5NDdlZjk4ZDBkNTRmMzU3YjI4NmYgPSBMLmNpcmNsZU1hcmtlcigKICAgICAgICAgICAgICAgIFsxMC4wMDk4NjA5LCAtODMuMDYzNDU5NjY4MzQxODldLAogICAgICAgICAgICAgICAgeyJidWJibGluZ01vdXNlRXZlbnRzIjogdHJ1ZSwgImNvbG9yIjogIlllbGxvdyIsICJkYXNoQXJyYXkiOiBudWxsLCAiZGFzaE9mZnNldCI6IG51bGwsICJmaWxsIjogdHJ1ZSwgImZpbGxDb2xvciI6ICIjMzE4NmNjIiwgImZpbGxPcGFjaXR5IjogMC42LCAiZmlsbFJ1bGUiOiAiZXZlbm9kZCIsICJsaW5lQ2FwIjogInJvdW5kIiwgImxpbmVKb2luIjogInJvdW5kIiwgIm9wYWNpdHkiOiAxLjAsICJyYWRpdXMiOiA2LCAic3Ryb2tlIjogdHJ1ZSwgIndlaWdodCI6IDN9CiAgICAgICAgICAgICkuYWRkVG8obWFwX2FmNTg3MjU1NTdlNjQ5Mjk4MDRlODU2NmZmZmQyMWU5KTsKICAgICAgICAKICAgIAogICAgICAgIHZhciBwb3B1cF9kMzdmZjQxOTMzMGU0NGVlOWYxYWJkNjFlNjczODE4MCA9IEwucG9wdXAoeyJtYXhXaWR0aCI6ICIxMDAlIn0pOwoKICAgICAgICAKICAgICAgICAgICAgdmFyIGh0bWxfYjMwNGNiNDNiZDBiNDMyYzliMDE2OWNkYzcxMzk3MzggPSAkKGA8ZGl2IGlkPSJodG1sX2IzMDRjYjQzYmQwYjQzMmM5YjAxNjljZGM3MTM5NzM4IiBzdHlsZT0id2lkdGg6IDEwMC4wJTsgaGVpZ2h0OiAxMDAuMCU7Ij5QbGF5YSBCb25pdGE8L2Rpdj5gKVswXTsKICAgICAgICAgICAgcG9wdXBfZDM3ZmY0MTkzMzBlNDRlZTlmMWFiZDYxZTY3MzgxODAuc2V0Q29udGVudChodG1sX2IzMDRjYjQzYmQwYjQzMmM5YjAxNjljZGM3MTM5NzM4KTsKICAgICAgICAKCiAgICAgICAgY2lyY2xlX21hcmtlcl82YjhhNTRmNWJlYTk0N2VmOThkMGQ1NGYzNTdiMjg2Zi5iaW5kUG9wdXAocG9wdXBfZDM3ZmY0MTkzMzBlNDRlZTlmMWFiZDYxZTY3MzgxODApCiAgICAgICAgOwoKICAgICAgICAKICAgIAogICAgCiAgICAgICAgICAgIHZhciBjaXJjbGVfbWFya2VyXzBlNTk0Y2ZiNDk4ODQwMGY4ZGEwZjZmMjdiOTEzMzRkID0gTC5jaXJjbGVNYXJrZXIoCiAgICAgICAgICAgICAgICBbOC41MTU4NDA4NSwgLTgzLjEzNjM2NzQ1MDYyNjg5XSwKICAgICAgICAgICAgICAgIHsiYnViYmxpbmdNb3VzZUV2ZW50cyI6IHRydWUsICJjb2xvciI6ICJZZWxsb3ciLCAiZGFzaEFycmF5IjogbnVsbCwgImRhc2hPZmZzZXQiOiBudWxsLCAiZmlsbCI6IHRydWUsICJmaWxsQ29sb3IiOiAiIzMxODZjYyIsICJmaWxsT3BhY2l0eSI6IDAuNiwgImZpbGxSdWxlIjogImV2ZW5vZGQiLCAibGluZUNhcCI6ICJyb3VuZCIsICJsaW5lSm9pbiI6ICJyb3VuZCIsICJvcGFjaXR5IjogMS4wLCAicmFkaXVzIjogNiwgInN0cm9rZSI6IHRydWUsICJ3ZWlnaHQiOiAzfQogICAgICAgICAgICApLmFkZFRvKG1hcF9hZjU4NzI1NTU3ZTY0OTI5ODA0ZTg1NjZmZmZkMjFlOSk7CiAgICAgICAgCiAgICAKICAgICAgICB2YXIgcG9wdXBfYmJiYjllZjdjZjdkNDI4NWE4OGNiNTFkNjJjNjFlYmIgPSBMLnBvcHVwKHsibWF4V2lkdGgiOiAiMTAwJSJ9KTsKCiAgICAgICAgCiAgICAgICAgICAgIHZhciBodG1sXzA2MzNkMDcwNTE1ZjRkYzdhMzViY2IxYTY1NTFlOTQyID0gJChgPGRpdiBpZD0iaHRtbF8wNjMzZDA3MDUxNWY0ZGM3YTM1YmNiMWE2NTUxZTk0MiIgc3R5bGU9IndpZHRoOiAxMDAuMCU7IGhlaWdodDogMTAwLjAlOyI+UGxheWEgQ2FodWl0YSAoQmxhbmNhKTwvZGl2PmApWzBdOwogICAgICAgICAgICBwb3B1cF9iYmJiOWVmN2NmN2Q0Mjg1YTg4Y2I1MWQ2MmM2MWViYi5zZXRDb250ZW50KGh0bWxfMDYzM2QwNzA1MTVmNGRjN2EzNWJjYjFhNjU1MWU5NDIpOwogICAgICAgIAoKICAgICAgICBjaXJjbGVfbWFya2VyXzBlNTk0Y2ZiNDk4ODQwMGY4ZGEwZjZmMjdiOTEzMzRkLmJpbmRQb3B1cChwb3B1cF9iYmJiOWVmN2NmN2Q0Mjg1YTg4Y2I1MWQ2MmM2MWViYikKICAgICAgICA7CgogICAgICAgIAogICAgCiAgICAKICAgICAgICAgICAgdmFyIGNpcmNsZV9tYXJrZXJfNjg5ODczNDRmNGI4NDdiYzk4MmQ3NWJiNTM4OTMyNTUgPSBMLmNpcmNsZU1hcmtlcigKICAgICAgICAgICAgICAgIFs5LjYzNzQwMjcsIC04Mi43MDM2NjldLAogICAgICAgICAgICAgICAgeyJidWJibGluZ01vdXNlRXZlbnRzIjogdHJ1ZSwgImNvbG9yIjogIlllbGxvdyIsICJkYXNoQXJyYXkiOiBudWxsLCAiZGFzaE9mZnNldCI6IG51bGwsICJmaWxsIjogdHJ1ZSwgImZpbGxDb2xvciI6ICIjMzE4NmNjIiwgImZpbGxPcGFjaXR5IjogMC42LCAiZmlsbFJ1bGUiOiAiZXZlbm9kZCIsICJsaW5lQ2FwIjogInJvdW5kIiwgImxpbmVKb2luIjogInJvdW5kIiwgIm9wYWNpdHkiOiAxLjAsICJyYWRpdXMiOiA2LCAic3Ryb2tlIjogdHJ1ZSwgIndlaWdodCI6IDN9CiAgICAgICAgICAgICkuYWRkVG8obWFwX2FmNTg3MjU1NTdlNjQ5Mjk4MDRlODU2NmZmZmQyMWU5KTsKICAgICAgICAKICAgIAogICAgICAgIHZhciBwb3B1cF9hNjUwMTJlMmRjYmE0MzQxYThkNmUyZDg0YjI1ODEzYiA9IEwucG9wdXAoeyJtYXhXaWR0aCI6ICIxMDAlIn0pOwoKICAgICAgICAKICAgICAgICAgICAgdmFyIGh0bWxfNmQ2MTk0MDMyZDNjNDcwM2FlMWI2MzZlYjRiYmE1NmEgPSAkKGA8ZGl2IGlkPSJodG1sXzZkNjE5NDAzMmQzYzQ3MDNhZTFiNjM2ZWI0YmJhNTZhIiBzdHlsZT0id2lkdGg6IDEwMC4wJTsgaGVpZ2h0OiAxMDAuMCU7Ij5QbGF5YSBDaGlxdWl0YTwvZGl2PmApWzBdOwogICAgICAgICAgICBwb3B1cF9hNjUwMTJlMmRjYmE0MzQxYThkNmUyZDg0YjI1ODEzYi5zZXRDb250ZW50KGh0bWxfNmQ2MTk0MDMyZDNjNDcwM2FlMWI2MzZlYjRiYmE1NmEpOwogICAgICAgIAoKICAgICAgICBjaXJjbGVfbWFya2VyXzY4OTg3MzQ0ZjRiODQ3YmM5ODJkNzViYjUzODkzMjU1LmJpbmRQb3B1cChwb3B1cF9hNjUwMTJlMmRjYmE0MzQxYThkNmUyZDg0YjI1ODEzYikKICAgICAgICA7CgogICAgICAgIAogICAgCiAgICAKICAgICAgICAgICAgdmFyIGNpcmNsZV9tYXJrZXJfYTY5YWVmM2I5ZjZlNGMyN2IxZThlNzRlYzRmZTM2MWYgPSBMLmNpcmNsZU1hcmtlcigKICAgICAgICAgICAgICAgIFs5LjY0NTI3NjE1LCAtODIuNzE3NTYzMTM0Mzc2NThdLAogICAgICAgICAgICAgICAgeyJidWJibGluZ01vdXNlRXZlbnRzIjogdHJ1ZSwgImNvbG9yIjogIlllbGxvdyIsICJkYXNoQXJyYXkiOiBudWxsLCAiZGFzaE9mZnNldCI6IG51bGwsICJmaWxsIjogdHJ1ZSwgImZpbGxDb2xvciI6ICIjMzE4NmNjIiwgImZpbGxPcGFjaXR5IjogMC42LCAiZmlsbFJ1bGUiOiAiZXZlbm9kZCIsICJsaW5lQ2FwIjogInJvdW5kIiwgImxpbmVKb2luIjogInJvdW5kIiwgIm9wYWNpdHkiOiAxLjAsICJyYWRpdXMiOiA2LCAic3Ryb2tlIjogdHJ1ZSwgIndlaWdodCI6IDN9CiAgICAgICAgICAgICkuYWRkVG8obWFwX2FmNTg3MjU1NTdlNjQ5Mjk4MDRlODU2NmZmZmQyMWU5KTsKICAgICAgICAKICAgIAogICAgICAgIHZhciBwb3B1cF82NmE5ODUzNTM4YTc0YWQ3YThjMWUyNzRlOGFiOWU1YSA9IEwucG9wdXAoeyJtYXhXaWR0aCI6ICIxMDAlIn0pOwoKICAgICAgICAKICAgICAgICAgICAgdmFyIGh0bWxfYjIzNGY1MjFlZjM3NDA1MzlhMjU0YmJmODNlZDBmYTYgPSAkKGA8ZGl2IGlkPSJodG1sX2IyMzRmNTIxZWYzNzQwNTM5YTI1NGJiZjgzZWQwZmE2IiBzdHlsZT0id2lkdGg6IDEwMC4wJTsgaGVpZ2h0OiAxMDAuMCU7Ij5QdW50YSBDb2NsZXM8L2Rpdj5gKVswXTsKICAgICAgICAgICAgcG9wdXBfNjZhOTg1MzUzOGE3NGFkN2E4YzFlMjc0ZThhYjllNWEuc2V0Q29udGVudChodG1sX2IyMzRmNTIxZWYzNzQwNTM5YTI1NGJiZjgzZWQwZmE2KTsKICAgICAgICAKCiAgICAgICAgY2lyY2xlX21hcmtlcl9hNjlhZWYzYjlmNmU0YzI3YjFlOGU3NGVjNGZlMzYxZi5iaW5kUG9wdXAocG9wdXBfNjZhOTg1MzUzOGE3NGFkN2E4YzFlMjc0ZThhYjllNWEpCiAgICAgICAgOwoKICAgICAgICAKICAgIAogICAgCiAgICAgICAgICAgIHZhciBjaXJjbGVfbWFya2VyXzlhZmQwOTY2NDYyMjQ0OGM4YWFiYWNjMDM3OWFlN2Y3ID0gTC5jaXJjbGVNYXJrZXIoCiAgICAgICAgICAgICAgICBbOS41OTk4ODcxNSwgLTgyLjYwNzA3NTEzNDAxOTcxXSwKICAgICAgICAgICAgICAgIHsiYnViYmxpbmdNb3VzZUV2ZW50cyI6IHRydWUsICJjb2xvciI6ICJZZWxsb3ciLCAiZGFzaEFycmF5IjogbnVsbCwgImRhc2hPZmZzZXQiOiBudWxsLCAiZmlsbCI6IHRydWUsICJmaWxsQ29sb3IiOiAiIzMxODZjYyIsICJmaWxsT3BhY2l0eSI6IDAuNiwgImZpbGxSdWxlIjogImV2ZW5vZGQiLCAibGluZUNhcCI6ICJyb3VuZCIsICJsaW5lSm9pbiI6ICJyb3VuZCIsICJvcGFjaXR5IjogMS4wLCAicmFkaXVzIjogNiwgInN0cm9rZSI6IHRydWUsICJ3ZWlnaHQiOiAzfQogICAgICAgICAgICApLmFkZFRvKG1hcF9hZjU4NzI1NTU3ZTY0OTI5ODA0ZTg1NjZmZmZkMjFlOSk7CiAgICAgICAgCiAgICAKICAgICAgICB2YXIgcG9wdXBfYjE3YTM1YmNlZmRlNGRlODkyYzFmNmIzNzQ1OTEzOTAgPSBMLnBvcHVwKHsibWF4V2lkdGgiOiAiMTAwJSJ9KTsKCiAgICAgICAgCiAgICAgICAgICAgIHZhciBodG1sXzIzZTU4YjY1NjFkZDQzMDNhNzFlNzkwNzNiM2VkZmZhID0gJChgPGRpdiBpZD0iaHRtbF8yM2U1OGI2NTYxZGQ0MzAzYTcxZTc5MDczYjNlZGZmYSIgc3R5bGU9IndpZHRoOiAxMDAuMCU7IGhlaWdodDogMTAwLjAlOyI+UGxheWEgR2FuZG9jYTwvZGl2PmApWzBdOwogICAgICAgICAgICBwb3B1cF9iMTdhMzViY2VmZGU0ZGU4OTJjMWY2YjM3NDU5MTM5MC5zZXRDb250ZW50KGh0bWxfMjNlNThiNjU2MWRkNDMwM2E3MWU3OTA3M2IzZWRmZmEpOwogICAgICAgIAoKICAgICAgICBjaXJjbGVfbWFya2VyXzlhZmQwOTY2NDYyMjQ0OGM4YWFiYWNjMDM3OWFlN2Y3LmJpbmRQb3B1cChwb3B1cF9iMTdhMzViY2VmZGU0ZGU4OTJjMWY2YjM3NDU5MTM5MCkKICAgICAgICA7CgogICAgICAgIAogICAgCiAgICAKICAgICAgICAgICAgdmFyIGNpcmNsZV9tYXJrZXJfNDIzYzk1MjU2M2UzNGYwZmE2NGJjMWJhMzM4ZWNmMTggPSBMLmNpcmNsZU1hcmtlcigKICAgICAgICAgICAgICAgIFs5LjYzMzc2MTE1LCAtODIuNjU3MzU4NDY3MTM0ODNdLAogICAgICAgICAgICAgICAgeyJidWJibGluZ01vdXNlRXZlbnRzIjogdHJ1ZSwgImNvbG9yIjogIlllbGxvdyIsICJkYXNoQXJyYXkiOiBudWxsLCAiZGFzaE9mZnNldCI6IG51bGwsICJmaWxsIjogdHJ1ZSwgImZpbGxDb2xvciI6ICIjMzE4NmNjIiwgImZpbGxPcGFjaXR5IjogMC42LCAiZmlsbFJ1bGUiOiAiZXZlbm9kZCIsICJsaW5lQ2FwIjogInJvdW5kIiwgImxpbmVKb2luIjogInJvdW5kIiwgIm9wYWNpdHkiOiAxLjAsICJyYWRpdXMiOiA2LCAic3Ryb2tlIjogdHJ1ZSwgIndlaWdodCI6IDN9CiAgICAgICAgICAgICkuYWRkVG8obWFwX2FmNTg3MjU1NTdlNjQ5Mjk4MDRlODU2NmZmZmQyMWU5KTsKICAgICAgICAKICAgIAogICAgICAgIHZhciBwb3B1cF84NzA0MzY3OGIxZTI0ZmYyOGFkNmYzOTcyOGI5YjRlOSA9IEwucG9wdXAoeyJtYXhXaWR0aCI6ICIxMDAlIn0pOwoKICAgICAgICAKICAgICAgICAgICAgdmFyIGh0bWxfYTIxMDgyYjA4ZGNlNGVlMmJhNDg3ZmMxYjgxNTc4ODkgPSAkKGA8ZGl2IGlkPSJodG1sX2EyMTA4MmIwOGRjZTRlZTJiYTQ4N2ZjMWI4MTU3ODg5IiBzdHlsZT0id2lkdGg6IDEwMC4wJTsgaGVpZ2h0OiAxMDAuMCU7Ij5QbGF5YSBNYW56YW5pbGxvPC9kaXY+YClbMF07CiAgICAgICAgICAgIHBvcHVwXzg3MDQzNjc4YjFlMjRmZjI4YWQ2ZjM5NzI4YjliNGU5LnNldENvbnRlbnQoaHRtbF9hMjEwODJiMDhkY2U0ZWUyYmE0ODdmYzFiODE1Nzg4OSk7CiAgICAgICAgCgogICAgICAgIGNpcmNsZV9tYXJrZXJfNDIzYzk1MjU2M2UzNGYwZmE2NGJjMWJhMzM4ZWNmMTguYmluZFBvcHVwKHBvcHVwXzg3MDQzNjc4YjFlMjRmZjI4YWQ2ZjM5NzI4YjliNGU5KQogICAgICAgIDsKCiAgICAgICAgCiAgICAKICAgIAogICAgICAgICAgICB2YXIgY2lyY2xlX21hcmtlcl8zMzFhNGI0ZTc5MTk0NmY0ODczOWQ4Mzc4MjIzMzYzYyA9IEwuY2lyY2xlTWFya2VyKAogICAgICAgICAgICAgICAgWzEwLjAwOTg2MDksIC04My4wNjM0NTk2NjgzNDE4OV0sCiAgICAgICAgICAgICAgICB7ImJ1YmJsaW5nTW91c2VFdmVudHMiOiB0cnVlLCAiY29sb3IiOiAiWWVsbG93IiwgImRhc2hBcnJheSI6IG51bGwsICJkYXNoT2Zmc2V0IjogbnVsbCwgImZpbGwiOiB0cnVlLCAiZmlsbENvbG9yIjogIiMzMTg2Y2MiLCAiZmlsbE9wYWNpdHkiOiAwLjYsICJmaWxsUnVsZSI6ICJldmVub2RkIiwgImxpbmVDYXAiOiAicm91bmQiLCAibGluZUpvaW4iOiAicm91bmQiLCAib3BhY2l0eSI6IDEuMCwgInJhZGl1cyI6IDYsICJzdHJva2UiOiB0cnVlLCAid2VpZ2h0IjogM30KICAgICAgICAgICAgKS5hZGRUbyhtYXBfYWY1ODcyNTU1N2U2NDkyOTgwNGU4NTY2ZmZmZDIxZTkpOwogICAgICAgIAogICAgCiAgICAgICAgdmFyIHBvcHVwXzZiODdiYzhkNDJmMTQxZmU4YmJlZDc4NGQ4NDkxZTIxID0gTC5wb3B1cCh7Im1heFdpZHRoIjogIjEwMCUifSk7CgogICAgICAgIAogICAgICAgICAgICB2YXIgaHRtbF8xYzk5ZDIxOWIyMjA0MTI2Yjk3ODc0Yjg1ZjgzZWYwYiA9ICQoYDxkaXYgaWQ9Imh0bWxfMWM5OWQyMTliMjIwNDEyNmI5Nzg3NGI4NWY4M2VmMGIiIHN0eWxlPSJ3aWR0aDogMTAwLjAlOyBoZWlnaHQ6IDEwMC4wJTsiPlBsYXlhIE1vw61uPC9kaXY+YClbMF07CiAgICAgICAgICAgIHBvcHVwXzZiODdiYzhkNDJmMTQxZmU4YmJlZDc4NGQ4NDkxZTIxLnNldENvbnRlbnQoaHRtbF8xYzk5ZDIxOWIyMjA0MTI2Yjk3ODc0Yjg1ZjgzZWYwYik7CiAgICAgICAgCgogICAgICAgIGNpcmNsZV9tYXJrZXJfMzMxYTRiNGU3OTE5NDZmNDg3MzlkODM3ODIyMzM2M2MuYmluZFBvcHVwKHBvcHVwXzZiODdiYzhkNDJmMTQxZmU4YmJlZDc4NGQ4NDkxZTIxKQogICAgICAgIDsKCiAgICAgICAgCiAgICAKICAgIAogICAgICAgICAgICB2YXIgY2lyY2xlX21hcmtlcl8yMTUxN2JhMWYwNWI0NTc1YTkzMDVmYzE0YTY5ZGMwZiA9IEwuY2lyY2xlTWFya2VyKAogICAgICAgICAgICAgICAgWzguNTE1ODQwODUsIC04My4xMzYzNjc0NTA2MjY4OV0sCiAgICAgICAgICAgICAgICB7ImJ1YmJsaW5nTW91c2VFdmVudHMiOiB0cnVlLCAiY29sb3IiOiAiWWVsbG93IiwgImRhc2hBcnJheSI6IG51bGwsICJkYXNoT2Zmc2V0IjogbnVsbCwgImZpbGwiOiB0cnVlLCAiZmlsbENvbG9yIjogIiMzMTg2Y2MiLCAiZmlsbE9wYWNpdHkiOiAwLjYsICJmaWxsUnVsZSI6ICJldmVub2RkIiwgImxpbmVDYXAiOiAicm91bmQiLCAibGluZUpvaW4iOiAicm91bmQiLCAib3BhY2l0eSI6IDEuMCwgInJhZGl1cyI6IDYsICJzdHJva2UiOiB0cnVlLCAid2VpZ2h0IjogM30KICAgICAgICAgICAgKS5hZGRUbyhtYXBfYWY1ODcyNTU1N2U2NDkyOTgwNGU4NTY2ZmZmZDIxZTkpOwogICAgICAgIAogICAgCiAgICAgICAgdmFyIHBvcHVwX2NhYzg1NDFjNmMxNTRlZmQ5YzE1OTI0Mzc4MDUyYjBhID0gTC5wb3B1cCh7Im1heFdpZHRoIjogIjEwMCUifSk7CgogICAgICAgIAogICAgICAgICAgICB2YXIgaHRtbF83ZjRiMzY1NjlmOTM0NDY2OGMxODFlMWZjNmU1ZWM2YyA9ICQoYDxkaXYgaWQ9Imh0bWxfN2Y0YjM2NTY5ZjkzNDQ2NjhjMTgxZTFmYzZlNWVjNmMiIHN0eWxlPSJ3aWR0aDogMTAwLjAlOyBoZWlnaHQ6IDEwMC4wJTsiPlBsYXlhIE5lZ3JhIChQdWVydG8gVmllam8pPC9kaXY+YClbMF07CiAgICAgICAgICAgIHBvcHVwX2NhYzg1NDFjNmMxNTRlZmQ5YzE1OTI0Mzc4MDUyYjBhLnNldENvbnRlbnQoaHRtbF83ZjRiMzY1NjlmOTM0NDY2OGMxODFlMWZjNmU1ZWM2Yyk7CiAgICAgICAgCgogICAgICAgIGNpcmNsZV9tYXJrZXJfMjE1MTdiYTFmMDViNDU3NWE5MzA1ZmMxNGE2OWRjMGYuYmluZFBvcHVwKHBvcHVwX2NhYzg1NDFjNmMxNTRlZmQ5YzE1OTI0Mzc4MDUyYjBhKQogICAgICAgIDsKCiAgICAgICAgCiAgICAKICAgIAogICAgICAgICAgICB2YXIgY2lyY2xlX21hcmtlcl82ZGU2ODQ0MzY5MTI0YzJlOGEzNWRlMGM5YjM3YmU5OSA9IEwuY2lyY2xlTWFya2VyKAogICAgICAgICAgICAgICAgWzkuNzQwNjY5NiwgLTgyLjg1MDQyMzVdLAogICAgICAgICAgICAgICAgeyJidWJibGluZ01vdXNlRXZlbnRzIjogdHJ1ZSwgImNvbG9yIjogIlllbGxvdyIsICJkYXNoQXJyYXkiOiBudWxsLCAiZGFzaE9mZnNldCI6IG51bGwsICJmaWxsIjogdHJ1ZSwgImZpbGxDb2xvciI6ICIjMzE4NmNjIiwgImZpbGxPcGFjaXR5IjogMC42LCAiZmlsbFJ1bGUiOiAiZXZlbm9kZCIsICJsaW5lQ2FwIjogInJvdW5kIiwgImxpbmVKb2luIjogInJvdW5kIiwgIm9wYWNpdHkiOiAxLjAsICJyYWRpdXMiOiA2LCAic3Ryb2tlIjogdHJ1ZSwgIndlaWdodCI6IDN9CiAgICAgICAgICAgICkuYWRkVG8obWFwX2FmNTg3MjU1NTdlNjQ5Mjk4MDRlODU2NmZmZmQyMWU5KTsKICAgICAgICAKICAgIAogICAgICAgIHZhciBwb3B1cF82MmQwZGY3MmFjZmM0ODM5YmUyOGQ2NzkzY2ZmZDM1NSA9IEwucG9wdXAoeyJtYXhXaWR0aCI6ICIxMDAlIn0pOwoKICAgICAgICAKICAgICAgICAgICAgdmFyIGh0bWxfYTY5YTg0M2JjZGE5NGQ2YTlkNWUxYzA2MjFmMmY3YzAgPSAkKGA8ZGl2IGlkPSJodG1sX2E2OWE4NDNiY2RhOTRkNmE5ZDVlMWMwNjIxZjJmN2MwIiBzdHlsZT0id2lkdGg6IDEwMC4wJTsgaGVpZ2h0OiAxMDAuMCU7Ij5QbGF5YSBOZWdyYSAoQ2FodWl0YSk8L2Rpdj5gKVswXTsKICAgICAgICAgICAgcG9wdXBfNjJkMGRmNzJhY2ZjNDgzOWJlMjhkNjc5M2NmZmQzNTUuc2V0Q29udGVudChodG1sX2E2OWE4NDNiY2RhOTRkNmE5ZDVlMWMwNjIxZjJmN2MwKTsKICAgICAgICAKCiAgICAgICAgY2lyY2xlX21hcmtlcl82ZGU2ODQ0MzY5MTI0YzJlOGEzNWRlMGM5YjM3YmU5OS5iaW5kUG9wdXAocG9wdXBfNjJkMGRmNzJhY2ZjNDgzOWJlMjhkNjc5M2NmZmQzNTUpCiAgICAgICAgOwoKICAgICAgICAKICAgIAogICAgCiAgICAgICAgICAgIHZhciBjaXJjbGVfbWFya2VyX2RiNzMwNmU2NTljOTRlNGJhNTdiNWRkOWEyNGQzYTc3ID0gTC5jaXJjbGVNYXJrZXIoCiAgICAgICAgICAgICAgICBbOC41MTU4NDA4NSwgLTgzLjEzNjM2NzQ1MDYyNjg5XSwKICAgICAgICAgICAgICAgIHsiYnViYmxpbmdNb3VzZUV2ZW50cyI6IHRydWUsICJjb2xvciI6ICJZZWxsb3ciLCAiZGFzaEFycmF5IjogbnVsbCwgImRhc2hPZmZzZXQiOiBudWxsLCAiZmlsbCI6IHRydWUsICJmaWxsQ29sb3IiOiAiIzMxODZjYyIsICJmaWxsT3BhY2l0eSI6IDAuNiwgImZpbGxSdWxlIjogImV2ZW5vZGQiLCAibGluZUNhcCI6ICJyb3VuZCIsICJsaW5lSm9pbiI6ICJyb3VuZCIsICJvcGFjaXR5IjogMS4wLCAicmFkaXVzIjogNiwgInN0cm9rZSI6IHRydWUsICJ3ZWlnaHQiOiAzfQogICAgICAgICAgICApLmFkZFRvKG1hcF9hZjU4NzI1NTU3ZTY0OTI5ODA0ZTg1NjZmZmZkMjFlOSk7CiAgICAgICAgCiAgICAKICAgICAgICB2YXIgcG9wdXBfNGQ2MGUxMGQzNmUyNGJmODk5OGFmNDNjOWYzY2QwMWIgPSBMLnBvcHVwKHsibWF4V2lkdGgiOiAiMTAwJSJ9KTsKCiAgICAgICAgCiAgICAgICAgICAgIHZhciBodG1sX2Y2YTEyYzAxMjFmNjQxYTQ5ZWE1ZDM0OGFmZTZmZDA4ID0gJChgPGRpdiBpZD0iaHRtbF9mNmExMmMwMTIxZjY0MWE0OWVhNWQzNDhhZmU2ZmQwOCIgc3R5bGU9IndpZHRoOiAxMDAuMCU7IGhlaWdodDogMTAwLjAlOyI+UGxheWEgUGlyaWtpa2k8L2Rpdj5gKVswXTsKICAgICAgICAgICAgcG9wdXBfNGQ2MGUxMGQzNmUyNGJmODk5OGFmNDNjOWYzY2QwMWIuc2V0Q29udGVudChodG1sX2Y2YTEyYzAxMjFmNjQxYTQ5ZWE1ZDM0OGFmZTZmZDA4KTsKICAgICAgICAKCiAgICAgICAgY2lyY2xlX21hcmtlcl9kYjczMDZlNjU5Yzk0ZTRiYTU3YjVkZDlhMjRkM2E3Ny5iaW5kUG9wdXAocG9wdXBfNGQ2MGUxMGQzNmUyNGJmODk5OGFmNDNjOWYzY2QwMWIpCiAgICAgICAgOwoKICAgICAgICAKICAgIAogICAgCiAgICAgICAgICAgIHZhciBjaXJjbGVfbWFya2VyXzJjMTgwM2U4ZjY2NzRlNTE5MTAzMWQxNzIxYjk3MWJhID0gTC5jaXJjbGVNYXJrZXIoCiAgICAgICAgICAgICAgICBbOS45OTYwMTEzLCAtODMuMDI3OTQ3NDA5NDI3OTJdLAogICAgICAgICAgICAgICAgeyJidWJibGluZ01vdXNlRXZlbnRzIjogdHJ1ZSwgImNvbG9yIjogIlllbGxvdyIsICJkYXNoQXJyYXkiOiBudWxsLCAiZGFzaE9mZnNldCI6IG51bGwsICJmaWxsIjogdHJ1ZSwgImZpbGxDb2xvciI6ICIjMzE4NmNjIiwgImZpbGxPcGFjaXR5IjogMC42LCAiZmlsbFJ1bGUiOiAiZXZlbm9kZCIsICJsaW5lQ2FwIjogInJvdW5kIiwgImxpbmVKb2luIjogInJvdW5kIiwgIm9wYWNpdHkiOiAxLjAsICJyYWRpdXMiOiA2LCAic3Ryb2tlIjogdHJ1ZSwgIndlaWdodCI6IDN9CiAgICAgICAgICAgICkuYWRkVG8obWFwX2FmNTg3MjU1NTdlNjQ5Mjk4MDRlODU2NmZmZmQyMWU5KTsKICAgICAgICAKICAgIAogICAgICAgIHZhciBwb3B1cF9hNDAwZDVjMjg3Nzk0OGI4YTQxMGY0OTdmZjI3NWMzNiA9IEwucG9wdXAoeyJtYXhXaWR0aCI6ICIxMDAlIn0pOwoKICAgICAgICAKICAgICAgICAgICAgdmFyIGh0bWxfZGViMzg3ZjM1YmRmNGExYzk1NzI2YTIzY2FhYjdhOTUgPSAkKGA8ZGl2IGlkPSJodG1sX2RlYjM4N2YzNWJkZjRhMWM5NTcyNmEyM2NhYWI3YTk1IiBzdHlsZT0id2lkdGg6IDEwMC4wJTsgaGVpZ2h0OiAxMDAuMCU7Ij5QbGF5YSBQb3J0ZXRlPC9kaXY+YClbMF07CiAgICAgICAgICAgIHBvcHVwX2E0MDBkNWMyODc3OTQ4YjhhNDEwZjQ5N2ZmMjc1YzM2LnNldENvbnRlbnQoaHRtbF9kZWIzODdmMzViZGY0YTFjOTU3MjZhMjNjYWFiN2E5NSk7CiAgICAgICAgCgogICAgICAgIGNpcmNsZV9tYXJrZXJfMmMxODAzZThmNjY3NGU1MTkxMDMxZDE3MjFiOTcxYmEuYmluZFBvcHVwKHBvcHVwX2E0MDBkNWMyODc3OTQ4YjhhNDEwZjQ5N2ZmMjc1YzM2KQogICAgICAgIDsKCiAgICAgICAgCiAgICAKICAgIAogICAgICAgICAgICB2YXIgY2lyY2xlX21hcmtlcl8zMjc0NzQ0MWM4YjM0NDRkODNmNjc4ZWQyZjg4ZjBhZSA9IEwuY2lyY2xlTWFya2VyKAogICAgICAgICAgICAgICAgWzguNTE1ODQwODUsIC04My4xMzYzNjc0NTA2MjY4OV0sCiAgICAgICAgICAgICAgICB7ImJ1YmJsaW5nTW91c2VFdmVudHMiOiB0cnVlLCAiY29sb3IiOiAiWWVsbG93IiwgImRhc2hBcnJheSI6IG51bGwsICJkYXNoT2Zmc2V0IjogbnVsbCwgImZpbGwiOiB0cnVlLCAiZmlsbENvbG9yIjogIiMzMTg2Y2MiLCAiZmlsbE9wYWNpdHkiOiAwLjYsICJmaWxsUnVsZSI6ICJldmVub2RkIiwgImxpbmVDYXAiOiAicm91bmQiLCAibGluZUpvaW4iOiAicm91bmQiLCAib3BhY2l0eSI6IDEuMCwgInJhZGl1cyI6IDYsICJzdHJva2UiOiB0cnVlLCAid2VpZ2h0IjogM30KICAgICAgICAgICAgKS5hZGRUbyhtYXBfYWY1ODcyNTU1N2U2NDkyOTgwNGU4NTY2ZmZmZDIxZTkpOwogICAgICAgIAogICAgCiAgICAgICAgdmFyIHBvcHVwX2VlYzdlYzY1NzM2ZTRjZDQ4Yzg1ZDljMzczNWY3YmE3ID0gTC5wb3B1cCh7Im1heFdpZHRoIjogIjEwMCUifSk7CgogICAgICAgIAogICAgICAgICAgICB2YXIgaHRtbF8yMjEwNDY3YjUxYzU0ZGFhODAyNTk2NzM2OWFlMWQxYyA9ICQoYDxkaXYgaWQ9Imh0bWxfMjIxMDQ2N2I1MWM1NGRhYTgwMjU5NjczNjlhZTFkMWMiIHN0eWxlPSJ3aWR0aDogMTAwLjAlOyBoZWlnaHQ6IDEwMC4wJTsiPlBsYXlhIFB1ZXJ0byBWYXJnYXM8L2Rpdj5gKVswXTsKICAgICAgICAgICAgcG9wdXBfZWVjN2VjNjU3MzZlNGNkNDhjODVkOWMzNzM1ZjdiYTcuc2V0Q29udGVudChodG1sXzIyMTA0NjdiNTFjNTRkYWE4MDI1OTY3MzY5YWUxZDFjKTsKICAgICAgICAKCiAgICAgICAgY2lyY2xlX21hcmtlcl8zMjc0NzQ0MWM4YjM0NDRkODNmNjc4ZWQyZjg4ZjBhZS5iaW5kUG9wdXAocG9wdXBfZWVjN2VjNjU3MzZlNGNkNDhjODVkOWMzNzM1ZjdiYTcpCiAgICAgICAgOwoKICAgICAgICAKICAgIAogICAgCiAgICAgICAgICAgIHZhciBjaXJjbGVfbWFya2VyX2ZhZWY1YWRjNmFiMzQyODI4NjAwYmIxZTY3NjRlZTk3ID0gTC5jaXJjbGVNYXJrZXIoCiAgICAgICAgICAgICAgICBbMTAuNTQyMjYxNDUsIC04My41MDE3MTk5NTg3MDg1OF0sCiAgICAgICAgICAgICAgICB7ImJ1YmJsaW5nTW91c2VFdmVudHMiOiB0cnVlLCAiY29sb3IiOiAiWWVsbG93IiwgImRhc2hBcnJheSI6IG51bGwsICJkYXNoT2Zmc2V0IjogbnVsbCwgImZpbGwiOiB0cnVlLCAiZmlsbENvbG9yIjogIiMzMTg2Y2MiLCAiZmlsbE9wYWNpdHkiOiAwLjYsICJmaWxsUnVsZSI6ICJldmVub2RkIiwgImxpbmVDYXAiOiAicm91bmQiLCAibGluZUpvaW4iOiAicm91bmQiLCAib3BhY2l0eSI6IDEuMCwgInJhZGl1cyI6IDYsICJzdHJva2UiOiB0cnVlLCAid2VpZ2h0IjogM30KICAgICAgICAgICAgKS5hZGRUbyhtYXBfYWY1ODcyNTU1N2U2NDkyOTgwNGU4NTY2ZmZmZDIxZTkpOwogICAgICAgIAogICAgCiAgICAgICAgdmFyIHBvcHVwX2ZlOGU5ZDNjNGE1ZjQ0ZWNhYTUzYzQ0NjJkMDBlYjIzID0gTC5wb3B1cCh7Im1heFdpZHRoIjogIjEwMCUifSk7CgogICAgICAgIAogICAgICAgICAgICB2YXIgaHRtbF82YTJlNDZlYTk2ZjU0N2E3YjdlOGVmNzhkODlhYzE2MCA9ICQoYDxkaXYgaWQ9Imh0bWxfNmEyZTQ2ZWE5NmY1NDdhN2I3ZThlZjc4ZDg5YWMxNjAiIHN0eWxlPSJ3aWR0aDogMTAwLjAlOyBoZWlnaHQ6IDEwMC4wJTsiPlBsYXlhcyBUb3J0dWd1ZXJvPC9kaXY+YClbMF07CiAgICAgICAgICAgIHBvcHVwX2ZlOGU5ZDNjNGE1ZjQ0ZWNhYTUzYzQ0NjJkMDBlYjIzLnNldENvbnRlbnQoaHRtbF82YTJlNDZlYTk2ZjU0N2E3YjdlOGVmNzhkODlhYzE2MCk7CiAgICAgICAgCgogICAgICAgIGNpcmNsZV9tYXJrZXJfZmFlZjVhZGM2YWIzNDI4Mjg2MDBiYjFlNjc2NGVlOTcuYmluZFBvcHVwKHBvcHVwX2ZlOGU5ZDNjNGE1ZjQ0ZWNhYTUzYzQ0NjJkMDBlYjIzKQogICAgICAgIDsKCiAgICAgICAgCiAgICAKICAgIAogICAgICAgICAgICB2YXIgY2lyY2xlX21hcmtlcl8xNzFiNjJmNmMzMWQ0ZDNkYTA2MGRlMDYxZjg0NGEwOCA9IEwuY2lyY2xlTWFya2VyKAogICAgICAgICAgICAgICAgWzkuOTE2NjI4ODUsIC04Mi45ODk2NDQ2MjQ1NTA5NV0sCiAgICAgICAgICAgICAgICB7ImJ1YmJsaW5nTW91c2VFdmVudHMiOiB0cnVlLCAiY29sb3IiOiAiWWVsbG93IiwgImRhc2hBcnJheSI6IG51bGwsICJkYXNoT2Zmc2V0IjogbnVsbCwgImZpbGwiOiB0cnVlLCAiZmlsbENvbG9yIjogIiMzMTg2Y2MiLCAiZmlsbE9wYWNpdHkiOiAwLjYsICJmaWxsUnVsZSI6ICJldmVub2RkIiwgImxpbmVDYXAiOiAicm91bmQiLCAibGluZUpvaW4iOiAicm91bmQiLCAib3BhY2l0eSI6IDEuMCwgInJhZGl1cyI6IDYsICJzdHJva2UiOiB0cnVlLCAid2VpZ2h0IjogM30KICAgICAgICAgICAgKS5hZGRUbyhtYXBfYWY1ODcyNTU1N2U2NDkyOTgwNGU4NTY2ZmZmZDIxZTkpOwogICAgICAgIAogICAgCiAgICAgICAgdmFyIHBvcHVwXzdiNjg1YjI1ZjRiNTQ1NGRhZTA3NDZlMmQ0YWIyZWU4ID0gTC5wb3B1cCh7Im1heFdpZHRoIjogIjEwMCUifSk7CgogICAgICAgIAogICAgICAgICAgICB2YXIgaHRtbF83YmU2OWUyZGViMWE0YTFmYjkxNzYxY2QzNjBkMzMyNSA9ICQoYDxkaXYgaWQ9Imh0bWxfN2JlNjllMmRlYjFhNGExZmI5MTc2MWNkMzYwZDMzMjUiIHN0eWxlPSJ3aWR0aDogMTAwLjAlOyBoZWlnaHQ6IDEwMC4wJTsiPlBsYXlhIFZpemNheWE8L2Rpdj5gKVswXTsKICAgICAgICAgICAgcG9wdXBfN2I2ODViMjVmNGI1NDU0ZGFlMDc0NmUyZDRhYjJlZTguc2V0Q29udGVudChodG1sXzdiZTY5ZTJkZWIxYTRhMWZiOTE3NjFjZDM2MGQzMzI1KTsKICAgICAgICAKCiAgICAgICAgY2lyY2xlX21hcmtlcl8xNzFiNjJmNmMzMWQ0ZDNkYTA2MGRlMDYxZjg0NGEwOC5iaW5kUG9wdXAocG9wdXBfN2I2ODViMjVmNGI1NDU0ZGFlMDc0NmUyZDRhYjJlZTgpCiAgICAgICAgOwoKICAgICAgICAKICAgIAogICAgCiAgICAgICAgICAgIHZhciBjaXJjbGVfbWFya2VyX2MxN2U0N2Q4ZTM4MjQ1MmU4NjdjZjJhZTk0MDBiYTRlID0gTC5jaXJjbGVNYXJrZXIoCiAgICAgICAgICAgICAgICBbOS45MzQ3OTUzNSwgLTgzLjAwMzQzNTA3NjkwMjAxXSwKICAgICAgICAgICAgICAgIHsiYnViYmxpbmdNb3VzZUV2ZW50cyI6IHRydWUsICJjb2xvciI6ICJZZWxsb3ciLCAiZGFzaEFycmF5IjogbnVsbCwgImRhc2hPZmZzZXQiOiBudWxsLCAiZmlsbCI6IHRydWUsICJmaWxsQ29sb3IiOiAiIzMxODZjYyIsICJmaWxsT3BhY2l0eSI6IDAuNiwgImZpbGxSdWxlIjogImV2ZW5vZGQiLCAibGluZUNhcCI6ICJyb3VuZCIsICJsaW5lSm9pbiI6ICJyb3VuZCIsICJvcGFjaXR5IjogMS4wLCAicmFkaXVzIjogNiwgInN0cm9rZSI6IHRydWUsICJ3ZWlnaHQiOiAzfQogICAgICAgICAgICApLmFkZFRvKG1hcF9hZjU4NzI1NTU3ZTY0OTI5ODA0ZTg1NjZmZmZkMjFlOSk7CiAgICAgICAgCiAgICAKICAgICAgICB2YXIgcG9wdXBfNmMwM2NiNjNkNzc2NDdjMDgwM2I2ZmQwMDY5ZDc4MzkgPSBMLnBvcHVwKHsibWF4V2lkdGgiOiAiMTAwJSJ9KTsKCiAgICAgICAgCiAgICAgICAgICAgIHZhciBodG1sXzM1YTE3YzNiYjZjZTQ0YzdiMjU1Yjk5ODdmNWM4MjBlID0gJChgPGRpdiBpZD0iaHRtbF8zNWExN2MzYmI2Y2U0NGM3YjI1NWI5OTg3ZjVjODIwZSIgc3R5bGU9IndpZHRoOiAxMDAuMCU7IGhlaWdodDogMTAwLjAlOyI+UGxheWEgV2VzdGZhbGlhPC9kaXY+YClbMF07CiAgICAgICAgICAgIHBvcHVwXzZjMDNjYjYzZDc3NjQ3YzA4MDNiNmZkMDA2OWQ3ODM5LnNldENvbnRlbnQoaHRtbF8zNWExN2MzYmI2Y2U0NGM3YjI1NWI5OTg3ZjVjODIwZSk7CiAgICAgICAgCgogICAgICAgIGNpcmNsZV9tYXJrZXJfYzE3ZTQ3ZDhlMzgyNDUyZTg2N2NmMmFlOTQwMGJhNGUuYmluZFBvcHVwKHBvcHVwXzZjMDNjYjYzZDc3NjQ3YzA4MDNiNmZkMDA2OWQ3ODM5KQogICAgICAgIDsKCiAgICAgICAgCiAgICAKICAgIAogICAgICAgICAgICB2YXIgY2lyY2xlX21hcmtlcl9kNmRiMDI0MGY3MWI0OGZhOTE2MzUyMzViNjVkNGViNiA9IEwuY2lyY2xlTWFya2VyKAogICAgICAgICAgICAgICAgWzkuNjU2NDk0MywgLTgyLjc1MzU2NTRdLAogICAgICAgICAgICAgICAgeyJidWJibGluZ01vdXNlRXZlbnRzIjogdHJ1ZSwgImNvbG9yIjogIlllbGxvdyIsICJkYXNoQXJyYXkiOiBudWxsLCAiZGFzaE9mZnNldCI6IG51bGwsICJmaWxsIjogdHJ1ZSwgImZpbGxDb2xvciI6ICIjMzE4NmNjIiwgImZpbGxPcGFjaXR5IjogMC42LCAiZmlsbFJ1bGUiOiAiZXZlbm9kZCIsICJsaW5lQ2FwIjogInJvdW5kIiwgImxpbmVKb2luIjogInJvdW5kIiwgIm9wYWNpdHkiOiAxLjAsICJyYWRpdXMiOiA2LCAic3Ryb2tlIjogdHJ1ZSwgIndlaWdodCI6IDN9CiAgICAgICAgICAgICkuYWRkVG8obWFwX2FmNTg3MjU1NTdlNjQ5Mjk4MDRlODU2NmZmZmQyMWU5KTsKICAgICAgICAKICAgIAogICAgICAgIHZhciBwb3B1cF83NWIyNTkyY2NhZGU0ZTNjYmI4NThkMTg4Y2E3NzkwOCA9IEwucG9wdXAoeyJtYXhXaWR0aCI6ICIxMDAlIn0pOwoKICAgICAgICAKICAgICAgICAgICAgdmFyIGh0bWxfMTk0NDUyY2E1MmQ4NGU0MGI4Zjk2ZjBmYTIxMGY0N2EgPSAkKGA8ZGl2IGlkPSJodG1sXzE5NDQ1MmNhNTJkODRlNDBiOGY5NmYwZmEyMTBmNDdhIiBzdHlsZT0id2lkdGg6IDEwMC4wJTsgaGVpZ2h0OiAxMDAuMCU7Ij5QdWVydG8gVmllam8gZGUgVGFsYW1hbmNhPC9kaXY+YClbMF07CiAgICAgICAgICAgIHBvcHVwXzc1YjI1OTJjY2FkZTRlM2NiYjg1OGQxODhjYTc3OTA4LnNldENvbnRlbnQoaHRtbF8xOTQ0NTJjYTUyZDg0ZTQwYjhmOTZmMGZhMjEwZjQ3YSk7CiAgICAgICAgCgogICAgICAgIGNpcmNsZV9tYXJrZXJfZDZkYjAyNDBmNzFiNDhmYTkxNjM1MjM1YjY1ZDRlYjYuYmluZFBvcHVwKHBvcHVwXzc1YjI1OTJjY2FkZTRlM2NiYjg1OGQxODhjYTc3OTA4KQogICAgICAgIDsKCiAgICAgICAgCiAgICAKICAgIAogICAgICAgICAgICB2YXIgY2lyY2xlX21hcmtlcl8xZjZmYzdiZmI1MzY0ZWFkYjJlYzIzMWFjNDA5ZWMzNCA9IEwuY2lyY2xlTWFya2VyKAogICAgICAgICAgICAgICAgWzkuNjI1MDczOSwgLTgyLjYyMDQ0NjFdLAogICAgICAgICAgICAgICAgeyJidWJibGluZ01vdXNlRXZlbnRzIjogdHJ1ZSwgImNvbG9yIjogIlllbGxvdyIsICJkYXNoQXJyYXkiOiBudWxsLCAiZGFzaE9mZnNldCI6IG51bGwsICJmaWxsIjogdHJ1ZSwgImZpbGxDb2xvciI6ICIjMzE4NmNjIiwgImZpbGxPcGFjaXR5IjogMC42LCAiZmlsbFJ1bGUiOiAiZXZlbm9kZCIsICJsaW5lQ2FwIjogInJvdW5kIiwgImxpbmVKb2luIjogInJvdW5kIiwgIm9wYWNpdHkiOiAxLjAsICJyYWRpdXMiOiA2LCAic3Ryb2tlIjogdHJ1ZSwgIndlaWdodCI6IDN9CiAgICAgICAgICAgICkuYWRkVG8obWFwX2FmNTg3MjU1NTdlNjQ5Mjk4MDRlODU2NmZmZmQyMWU5KTsKICAgICAgICAKICAgIAogICAgICAgIHZhciBwb3B1cF8xNDY0MjNiMzA1YmM0ZGU4OTczZWQ3MmZmMjY5ZjkwMCA9IEwucG9wdXAoeyJtYXhXaWR0aCI6ICIxMDAlIn0pOwoKICAgICAgICAKICAgICAgICAgICAgdmFyIGh0bWxfN2QwMTRkMjA2ZTUzNGQ3MWI0MzY2NTZiMmMzMzhmM2EgPSAkKGA8ZGl2IGlkPSJodG1sXzdkMDE0ZDIwNmU1MzRkNzFiNDM2NjU2YjJjMzM4ZjNhIiBzdHlsZT0id2lkdGg6IDEwMC4wJTsgaGVpZ2h0OiAxMDAuMCU7Ij5QdW50YSBNb25hPC9kaXY+YClbMF07CiAgICAgICAgICAgIHBvcHVwXzE0NjQyM2IzMDViYzRkZTg5NzNlZDcyZmYyNjlmOTAwLnNldENvbnRlbnQoaHRtbF83ZDAxNGQyMDZlNTM0ZDcxYjQzNjY1NmIyYzMzOGYzYSk7CiAgICAgICAgCgogICAgICAgIGNpcmNsZV9tYXJrZXJfMWY2ZmM3YmZiNTM2NGVhZGIyZWMyMzFhYzQwOWVjMzQuYmluZFBvcHVwKHBvcHVwXzE0NjQyM2IzMDViYzRkZTg5NzNlZDcyZmYyNjlmOTAwKQogICAgICAgIDsKCiAgICAgICAgCiAgICAKICAgIAogICAgICAgICAgICB2YXIgY2lyY2xlX21hcmtlcl83Yjk0YjUxNjMwNzY0OTUwOTkyNzkyMDc3OTk4NjdhMyA9IEwuY2lyY2xlTWFya2VyKAogICAgICAgICAgICAgICAgWzkuNjQwOTA5MywgLTgyLjY4NjMzMTldLAogICAgICAgICAgICAgICAgeyJidWJibGluZ01vdXNlRXZlbnRzIjogdHJ1ZSwgImNvbG9yIjogIlllbGxvdyIsICJkYXNoQXJyYXkiOiBudWxsLCAiZGFzaE9mZnNldCI6IG51bGwsICJmaWxsIjogdHJ1ZSwgImZpbGxDb2xvciI6ICIjMzE4NmNjIiwgImZpbGxPcGFjaXR5IjogMC42LCAiZmlsbFJ1bGUiOiAiZXZlbm9kZCIsICJsaW5lQ2FwIjogInJvdW5kIiwgImxpbmVKb2luIjogInJvdW5kIiwgIm9wYWNpdHkiOiAxLjAsICJyYWRpdXMiOiA2LCAic3Ryb2tlIjogdHJ1ZSwgIndlaWdodCI6IDN9CiAgICAgICAgICAgICkuYWRkVG8obWFwX2FmNTg3MjU1NTdlNjQ5Mjk4MDRlODU2NmZmZmQyMWU5KTsKICAgICAgICAKICAgIAogICAgICAgIHZhciBwb3B1cF9jODM3Mzc0YjAxODI0MzI5YjIyZjRmMWU4ZmZkYTU0YyA9IEwucG9wdXAoeyJtYXhXaWR0aCI6ICIxMDAlIn0pOwoKICAgICAgICAKICAgICAgICAgICAgdmFyIGh0bWxfOTBiZWNiNWMwODgwNGFmNjgzZjQ4MmY0Njg1ZjViMmIgPSAkKGA8ZGl2IGlkPSJodG1sXzkwYmVjYjVjMDg4MDRhZjY4M2Y0ODJmNDY4NWY1YjJiIiBzdHlsZT0id2lkdGg6IDEwMC4wJTsgaGVpZ2h0OiAxMDAuMCU7Ij5QdW50YSBVdmE8L2Rpdj5gKVswXTsKICAgICAgICAgICAgcG9wdXBfYzgzNzM3NGIwMTgyNDMyOWIyMmY0ZjFlOGZmZGE1NGMuc2V0Q29udGVudChodG1sXzkwYmVjYjVjMDg4MDRhZjY4M2Y0ODJmNDY4NWY1YjJiKTsKICAgICAgICAKCiAgICAgICAgY2lyY2xlX21hcmtlcl83Yjk0YjUxNjMwNzY0OTUwOTkyNzkyMDc3OTk4NjdhMy5iaW5kUG9wdXAocG9wdXBfYzgzNzM3NGIwMTgyNDMyOWIyMmY0ZjFlOGZmZGE1NGMpCiAgICAgICAgOwoKICAgICAgICAKICAgIAogICAgCiAgICAgICAgICAgIHZhciBjaXJjbGVfbWFya2VyX2UwNjE4YjIyZWRlNzQ3NTViOGVjZjA0ZTI4NDMwNWI5ID0gTC5jaXJjbGVNYXJrZXIoCiAgICAgICAgICAgICAgICBbOC41MTU4NDA4NSwgLTgzLjEzNjM2NzQ1MDYyNjg5XSwKICAgICAgICAgICAgICAgIHsiYnViYmxpbmdNb3VzZUV2ZW50cyI6IHRydWUsICJjb2xvciI6ICJZZWxsb3ciLCAiZGFzaEFycmF5IjogbnVsbCwgImRhc2hPZmZzZXQiOiBudWxsLCAiZmlsbCI6IHRydWUsICJmaWxsQ29sb3IiOiAiIzMxODZjYyIsICJmaWxsT3BhY2l0eSI6IDAuNiwgImZpbGxSdWxlIjogImV2ZW5vZGQiLCAibGluZUNhcCI6ICJyb3VuZCIsICJsaW5lSm9pbiI6ICJyb3VuZCIsICJvcGFjaXR5IjogMS4wLCAicmFkaXVzIjogNiwgInN0cm9rZSI6IHRydWUsICJ3ZWlnaHQiOiAzfQogICAgICAgICAgICApLmFkZFRvKG1hcF9hZjU4NzI1NTU3ZTY0OTI5ODA0ZTg1NjZmZmZkMjFlOSk7CiAgICAgICAgCiAgICAKICAgICAgICB2YXIgcG9wdXBfNTAxZDdmNGY4ZWMzNDA5OTk0MjA4NGRmZDZkNjJlM2YgPSBMLnBvcHVwKHsibWF4V2lkdGgiOiAiMTAwJSJ9KTsKCiAgICAgICAgCiAgICAgICAgICAgIHZhciBodG1sX2EzMWE5Mzg0OWY2YjQxNDNhNWQ5ZGI3ZDhjNDc3MWZjID0gJChgPGRpdiBpZD0iaHRtbF9hMzFhOTM4NDlmNmI0MTQzYTVkOWRiN2Q4YzQ3NzFmYyIgc3R5bGU9IndpZHRoOiAxMDAuMCU7IGhlaWdodDogMTAwLjAlOyI+UGxheWEgQXJib2xpdG88L2Rpdj5gKVswXTsKICAgICAgICAgICAgcG9wdXBfNTAxZDdmNGY4ZWMzNDA5OTk0MjA4NGRmZDZkNjJlM2Yuc2V0Q29udGVudChodG1sX2EzMWE5Mzg0OWY2YjQxNDNhNWQ5ZGI3ZDhjNDc3MWZjKTsKICAgICAgICAKCiAgICAgICAgY2lyY2xlX21hcmtlcl9lMDYxOGIyMmVkZTc0NzU1YjhlY2YwNGUyODQzMDViOS5iaW5kUG9wdXAocG9wdXBfNTAxZDdmNGY4ZWMzNDA5OTk0MjA4NGRmZDZkNjJlM2YpCiAgICAgICAgOwoKICAgICAgICAKICAgIAogICAgCiAgICAgICAgICAgIHZhciBjaXJjbGVfbWFya2VyXzhjYjQwZmZhMWQxMDRmNDNhZmUzMTY0NGI5YjczOGVkID0gTC5jaXJjbGVNYXJrZXIoCiAgICAgICAgICAgICAgICBbMTAuMjI5Mjk0NjUsIC04NS44Mzc3OTcyMjQwNTA0M10sCiAgICAgICAgICAgICAgICB7ImJ1YmJsaW5nTW91c2VFdmVudHMiOiB0cnVlLCAiY29sb3IiOiAiWWVsbG93IiwgImRhc2hBcnJheSI6IG51bGwsICJkYXNoT2Zmc2V0IjogbnVsbCwgImZpbGwiOiB0cnVlLCAiZmlsbENvbG9yIjogIiMzMTg2Y2MiLCAiZmlsbE9wYWNpdHkiOiAwLjYsICJmaWxsUnVsZSI6ICJldmVub2RkIiwgImxpbmVDYXAiOiAicm91bmQiLCAibGluZUpvaW4iOiAicm91bmQiLCAib3BhY2l0eSI6IDEuMCwgInJhZGl1cyI6IDYsICJzdHJva2UiOiB0cnVlLCAid2VpZ2h0IjogM30KICAgICAgICAgICAgKS5hZGRUbyhtYXBfYWY1ODcyNTU1N2U2NDkyOTgwNGU4NTY2ZmZmZDIxZTkpOwogICAgICAgIAogICAgCiAgICAgICAgdmFyIHBvcHVwXzFkMmY1OTZhY2NkZTRkYWZhMGM5OWE1MTU0ZTExNzI5ID0gTC5wb3B1cCh7Im1heFdpZHRoIjogIjEwMCUifSk7CgogICAgICAgIAogICAgICAgICAgICB2YXIgaHRtbF85OGRiMGIxZmY0NWQ0NmM1OWJkMjdlZGY1ZjA5Y2YzZSA9ICQoYDxkaXYgaWQ9Imh0bWxfOThkYjBiMWZmNDVkNDZjNTliZDI3ZWRmNWYwOWNmM2UiIHN0eWxlPSJ3aWR0aDogMTAwLjAlOyBoZWlnaHQ6IDEwMC4wJTsiPlBsYXlhIEF2ZWxsYW5hczwvZGl2PmApWzBdOwogICAgICAgICAgICBwb3B1cF8xZDJmNTk2YWNjZGU0ZGFmYTBjOTlhNTE1NGUxMTcyOS5zZXRDb250ZW50KGh0bWxfOThkYjBiMWZmNDVkNDZjNTliZDI3ZWRmNWYwOWNmM2UpOwogICAgICAgIAoKICAgICAgICBjaXJjbGVfbWFya2VyXzhjYjQwZmZhMWQxMDRmNDNhZmUzMTY0NGI5YjczOGVkLmJpbmRQb3B1cChwb3B1cF8xZDJmNTk2YWNjZGU0ZGFmYTBjOTlhNTE1NGUxMTcyOSkKICAgICAgICA7CgogICAgICAgIAogICAgCiAgICAKICAgICAgICAgICAgdmFyIGNpcmNsZV9tYXJrZXJfYTg5YjM3MDE0ODY4NDMxMzhhYWI1Mjg3YTNhOTNiY2MgPSBMLmNpcmNsZU1hcmtlcigKICAgICAgICAgICAgICAgIFs4LjUxNTg0MDg1LCAtODMuMTM2MzY3NDUwNjI2ODldLAogICAgICAgICAgICAgICAgeyJidWJibGluZ01vdXNlRXZlbnRzIjogdHJ1ZSwgImNvbG9yIjogIlllbGxvdyIsICJkYXNoQXJyYXkiOiBudWxsLCAiZGFzaE9mZnNldCI6IG51bGwsICJmaWxsIjogdHJ1ZSwgImZpbGxDb2xvciI6ICIjMzE4NmNjIiwgImZpbGxPcGFjaXR5IjogMC42LCAiZmlsbFJ1bGUiOiAiZXZlbm9kZCIsICJsaW5lQ2FwIjogInJvdW5kIiwgImxpbmVKb2luIjogInJvdW5kIiwgIm9wYWNpdHkiOiAxLjAsICJyYWRpdXMiOiA2LCAic3Ryb2tlIjogdHJ1ZSwgIndlaWdodCI6IDN9CiAgICAgICAgICAgICkuYWRkVG8obWFwX2FmNTg3MjU1NTdlNjQ5Mjk4MDRlODU2NmZmZmQyMWU5KTsKICAgICAgICAKICAgIAogICAgICAgIHZhciBwb3B1cF9lZWM4ZGFjNzIxNWY0OGU1OGFlOTk1ZGQ3ZmM3YjZlYyA9IEwucG9wdXAoeyJtYXhXaWR0aCI6ICIxMDAlIn0pOwoKICAgICAgICAKICAgICAgICAgICAgdmFyIGh0bWxfMjU2MjRjYWYxZTM2NDBlNjgzNjc5NDhiMDM1NWFjYWMgPSAkKGA8ZGl2IGlkPSJodG1sXzI1NjI0Y2FmMWUzNjQwZTY4MzY3OTQ4YjAzNTVhY2FjIiBzdHlsZT0id2lkdGg6IDEwMC4wJTsgaGVpZ2h0OiAxMDAuMCU7Ij5QbGF5YSBBenVsIChKdXJlbCk8L2Rpdj5gKVswXTsKICAgICAgICAgICAgcG9wdXBfZWVjOGRhYzcyMTVmNDhlNThhZTk5NWRkN2ZjN2I2ZWMuc2V0Q29udGVudChodG1sXzI1NjI0Y2FmMWUzNjQwZTY4MzY3OTQ4YjAzNTVhY2FjKTsKICAgICAgICAKCiAgICAgICAgY2lyY2xlX21hcmtlcl9hODliMzcwMTQ4Njg0MzEzOGFhYjUyODdhM2E5M2JjYy5iaW5kUG9wdXAocG9wdXBfZWVjOGRhYzcyMTVmNDhlNThhZTk5NWRkN2ZjN2I2ZWMpCiAgICAgICAgOwoKICAgICAgICAKICAgIAogICAgCiAgICAgICAgICAgIHZhciBjaXJjbGVfbWFya2VyXzVkM2I3ZTM5YjdkNzRlY2FiODg2NmJjY2E0MTNkMWUzID0gTC5jaXJjbGVNYXJrZXIoCiAgICAgICAgICAgICAgICBbMTAuOTY5ODMwMTUsIC04NS42ODgwMzgzMzY1Njc4NF0sCiAgICAgICAgICAgICAgICB7ImJ1YmJsaW5nTW91c2VFdmVudHMiOiB0cnVlLCAiY29sb3IiOiAiWWVsbG93IiwgImRhc2hBcnJheSI6IG51bGwsICJkYXNoT2Zmc2V0IjogbnVsbCwgImZpbGwiOiB0cnVlLCAiZmlsbENvbG9yIjogIiMzMTg2Y2MiLCAiZmlsbE9wYWNpdHkiOiAwLjYsICJmaWxsUnVsZSI6ICJldmVub2RkIiwgImxpbmVDYXAiOiAicm91bmQiLCAibGluZUpvaW4iOiAicm91bmQiLCAib3BhY2l0eSI6IDEuMCwgInJhZGl1cyI6IDYsICJzdHJva2UiOiB0cnVlLCAid2VpZ2h0IjogM30KICAgICAgICAgICAgKS5hZGRUbyhtYXBfYWY1ODcyNTU1N2U2NDkyOTgwNGU4NTY2ZmZmZDIxZTkpOwogICAgICAgIAogICAgCiAgICAgICAgdmFyIHBvcHVwXzc3OTNiOTgzYTRlOTRmNmI4NDFlZjFiZjg3NzQ3MDUxID0gTC5wb3B1cCh7Im1heFdpZHRoIjogIjEwMCUifSk7CgogICAgICAgIAogICAgICAgICAgICB2YXIgaHRtbF80ZGE3NTIxNTI4N2E0YjdjOWE4NWMzOWQzMDJlYWMzMCA9ICQoYDxkaXYgaWQ9Imh0bWxfNGRhNzUyMTUyODdhNGI3YzlhODVjMzlkMzAyZWFjMzAiIHN0eWxlPSJ3aWR0aDogMTAwLjAlOyBoZWlnaHQ6IDEwMC4wJTsiPlBsYXlhIEJhaMOtYSBKdW5xdWlsbGFsPC9kaXY+YClbMF07CiAgICAgICAgICAgIHBvcHVwXzc3OTNiOTgzYTRlOTRmNmI4NDFlZjFiZjg3NzQ3MDUxLnNldENvbnRlbnQoaHRtbF80ZGE3NTIxNTI4N2E0YjdjOWE4NWMzOWQzMDJlYWMzMCk7CiAgICAgICAgCgogICAgICAgIGNpcmNsZV9tYXJrZXJfNWQzYjdlMzliN2Q3NGVjYWI4ODY2YmNjYTQxM2QxZTMuYmluZFBvcHVwKHBvcHVwXzc3OTNiOTgzYTRlOTRmNmI4NDFlZjFiZjg3NzQ3MDUxKQogICAgICAgIDsKCiAgICAgICAgCiAgICAKICAgIAogICAgICAgICAgICB2YXIgY2lyY2xlX21hcmtlcl9hNzc5ZGE5N2MxNzg0OGMzYmVhMTJkNTgxNzZmNWRmZCA9IEwuY2lyY2xlTWFya2VyKAogICAgICAgICAgICAgICAgWzkuODg5NTIxNiwgLTg1LjU5MjgwOTEzNTI2MzJdLAogICAgICAgICAgICAgICAgeyJidWJibGluZ01vdXNlRXZlbnRzIjogdHJ1ZSwgImNvbG9yIjogIlllbGxvdyIsICJkYXNoQXJyYXkiOiBudWxsLCAiZGFzaE9mZnNldCI6IG51bGwsICJmaWxsIjogdHJ1ZSwgImZpbGxDb2xvciI6ICIjMzE4NmNjIiwgImZpbGxPcGFjaXR5IjogMC42LCAiZmlsbFJ1bGUiOiAiZXZlbm9kZCIsICJsaW5lQ2FwIjogInJvdW5kIiwgImxpbmVKb2luIjogInJvdW5kIiwgIm9wYWNpdHkiOiAxLjAsICJyYWRpdXMiOiA2LCAic3Ryb2tlIjogdHJ1ZSwgIndlaWdodCI6IDN9CiAgICAgICAgICAgICkuYWRkVG8obWFwX2FmNTg3MjU1NTdlNjQ5Mjk4MDRlODU2NmZmZmQyMWU5KTsKICAgICAgICAKICAgIAogICAgICAgIHZhciBwb3B1cF9iNDYyMmM3OTk0OGU0NjhiYmY3NDliMzU3NGEzNjE0NyA9IEwucG9wdXAoeyJtYXhXaWR0aCI6ICIxMDAlIn0pOwoKICAgICAgICAKICAgICAgICAgICAgdmFyIGh0bWxfZTdkOTJmMDFlNjFhNDgxNmE0M2E5MjI2YmU3MTQ3YTUgPSAkKGA8ZGl2IGlkPSJodG1sX2U3ZDkyZjAxZTYxYTQ4MTZhNDNhOTIyNmJlNzE0N2E1IiBzdHlsZT0id2lkdGg6IDEwMC4wJTsgaGVpZ2h0OiAxMDAuMCU7Ij5QbGF5YSBCYXJjbyBRdWVicmFkbzwvZGl2PmApWzBdOwogICAgICAgICAgICBwb3B1cF9iNDYyMmM3OTk0OGU0NjhiYmY3NDliMzU3NGEzNjE0Ny5zZXRDb250ZW50KGh0bWxfZTdkOTJmMDFlNjFhNDgxNmE0M2E5MjI2YmU3MTQ3YTUpOwogICAgICAgIAoKICAgICAgICBjaXJjbGVfbWFya2VyX2E3NzlkYTk3YzE3ODQ4YzNiZWExMmQ1ODE3NmY1ZGZkLmJpbmRQb3B1cChwb3B1cF9iNDYyMmM3OTk0OGU0NjhiYmY3NDliMzU3NGEzNjE0NykKICAgICAgICA7CgogICAgICAgIAogICAgCiAgICAKICAgICAgICAgICAgdmFyIGNpcmNsZV9tYXJrZXJfYzhiOTFlNTUwZTE3NDM1NmEwYjllMTZmOWRiMTMzMDkgPSBMLmNpcmNsZU1hcmtlcigKICAgICAgICAgICAgICAgIFs5Ljg4MjM1MTU1LCAtODUuNTc2NDQwNTY2Njk5ODZdLAogICAgICAgICAgICAgICAgeyJidWJibGluZ01vdXNlRXZlbnRzIjogdHJ1ZSwgImNvbG9yIjogIlllbGxvdyIsICJkYXNoQXJyYXkiOiBudWxsLCAiZGFzaE9mZnNldCI6IG51bGwsICJmaWxsIjogdHJ1ZSwgImZpbGxDb2xvciI6ICIjMzE4NmNjIiwgImZpbGxPcGFjaXR5IjogMC42LCAiZmlsbFJ1bGUiOiAiZXZlbm9kZCIsICJsaW5lQ2FwIjogInJvdW5kIiwgImxpbmVKb2luIjogInJvdW5kIiwgIm9wYWNpdHkiOiAxLjAsICJyYWRpdXMiOiA2LCAic3Ryb2tlIjogdHJ1ZSwgIndlaWdodCI6IDN9CiAgICAgICAgICAgICkuYWRkVG8obWFwX2FmNTg3MjU1NTdlNjQ5Mjk4MDRlODU2NmZmZmQyMWU5KTsKICAgICAgICAKICAgIAogICAgICAgIHZhciBwb3B1cF9kMjU0YmFiMzZkYzQ0ZjVkYmUyNGE0Y2FiZWFiMTAyNiA9IEwucG9wdXAoeyJtYXhXaWR0aCI6ICIxMDAlIn0pOwoKICAgICAgICAKICAgICAgICAgICAgdmFyIGh0bWxfZGQzNDA5YmU0NTdiNDRhM2FkYWI5ODY0NTZjZWYzYmIgPSAkKGA8ZGl2IGlkPSJodG1sX2RkMzQwOWJlNDU3YjQ0YTNhZGFiOTg2NDU2Y2VmM2JiIiBzdHlsZT0id2lkdGg6IDEwMC4wJTsgaGVpZ2h0OiAxMDAuMCU7Ij5QbGF5YSBCYXJyaWdvbmE8L2Rpdj5gKVswXTsKICAgICAgICAgICAgcG9wdXBfZDI1NGJhYjM2ZGM0NGY1ZGJlMjRhNGNhYmVhYjEwMjYuc2V0Q29udGVudChodG1sX2RkMzQwOWJlNDU3YjQ0YTNhZGFiOTg2NDU2Y2VmM2JiKTsKICAgICAgICAKCiAgICAgICAgY2lyY2xlX21hcmtlcl9jOGI5MWU1NTBlMTc0MzU2YTBiOWUxNmY5ZGIxMzMwOS5iaW5kUG9wdXAocG9wdXBfZDI1NGJhYjM2ZGM0NGY1ZGJlMjRhNGNhYmVhYjEwMjYpCiAgICAgICAgOwoKICAgICAgICAKICAgIAogICAgCiAgICAgICAgICAgIHZhciBjaXJjbGVfbWFya2VyX2Q4MmNhNWZkZmE3NzRkNjY5MDNmNTI4MjI4NGY0ZTc5ID0gTC5jaXJjbGVNYXJrZXIoCiAgICAgICAgICAgICAgICBbOS44MzA2MDU1NTAwMDAwMDEsIC04NS4zNDI2Nzg0ODE4Mzg0OF0sCiAgICAgICAgICAgICAgICB7ImJ1YmJsaW5nTW91c2VFdmVudHMiOiB0cnVlLCAiY29sb3IiOiAiWWVsbG93IiwgImRhc2hBcnJheSI6IG51bGwsICJkYXNoT2Zmc2V0IjogbnVsbCwgImZpbGwiOiB0cnVlLCAiZmlsbENvbG9yIjogIiMzMTg2Y2MiLCAiZmlsbE9wYWNpdHkiOiAwLjYsICJmaWxsUnVsZSI6ICJldmVub2RkIiwgImxpbmVDYXAiOiAicm91bmQiLCAibGluZUpvaW4iOiAicm91bmQiLCAib3BhY2l0eSI6IDEuMCwgInJhZGl1cyI6IDYsICJzdHJva2UiOiB0cnVlLCAid2VpZ2h0IjogM30KICAgICAgICAgICAgKS5hZGRUbyhtYXBfYWY1ODcyNTU1N2U2NDkyOTgwNGU4NTY2ZmZmZDIxZTkpOwogICAgICAgIAogICAgCiAgICAgICAgdmFyIHBvcHVwXzQ3YzQ2MTk3N2EwZjQ4NDg4Zjk5ZDM5NjZjOWVkMWM0ID0gTC5wb3B1cCh7Im1heFdpZHRoIjogIjEwMCUifSk7CgogICAgICAgIAogICAgICAgICAgICB2YXIgaHRtbF80MWM2NTU1ZDExY2U0Yjc0ODVhYTY3NTk1ZWMwNWFiMyA9ICQoYDxkaXYgaWQ9Imh0bWxfNDFjNjU1NWQxMWNlNGI3NDg1YWE2NzU5NWVjMDVhYjMiIHN0eWxlPSJ3aWR0aDogMTAwLjAlOyBoZWlnaHQ6IDEwMC4wJTsiPlBsYXlhIEJlanVjbzwvZGl2PmApWzBdOwogICAgICAgICAgICBwb3B1cF80N2M0NjE5NzdhMGY0ODQ4OGY5OWQzOTY2YzllZDFjNC5zZXRDb250ZW50KGh0bWxfNDFjNjU1NWQxMWNlNGI3NDg1YWE2NzU5NWVjMDVhYjMpOwogICAgICAgIAoKICAgICAgICBjaXJjbGVfbWFya2VyX2Q4MmNhNWZkZmE3NzRkNjY5MDNmNTI4MjI4NGY0ZTc5LmJpbmRQb3B1cChwb3B1cF80N2M0NjE5NzdhMGY0ODQ4OGY5OWQzOTY2YzllZDFjNCkKICAgICAgICA7CgogICAgICAgIAogICAgCiAgICAKICAgICAgICAgICAgdmFyIGNpcmNsZV9tYXJrZXJfMThmMzI0MDc3NWIzNDBkOWJkMjAzOGZkMjgyMzYzODUgPSBMLmNpcmNsZU1hcmtlcigKICAgICAgICAgICAgICAgIFsxMC45MzQzMjA3LCAtODUuODYxMDc1MTE1NzE0MDRdLAogICAgICAgICAgICAgICAgeyJidWJibGluZ01vdXNlRXZlbnRzIjogdHJ1ZSwgImNvbG9yIjogIlllbGxvdyIsICJkYXNoQXJyYXkiOiBudWxsLCAiZGFzaE9mZnNldCI6IG51bGwsICJmaWxsIjogdHJ1ZSwgImZpbGxDb2xvciI6ICIjMzE4NmNjIiwgImZpbGxPcGFjaXR5IjogMC42LCAiZmlsbFJ1bGUiOiAiZXZlbm9kZCIsICJsaW5lQ2FwIjogInJvdW5kIiwgImxpbmVKb2luIjogInJvdW5kIiwgIm9wYWNpdHkiOiAxLjAsICJyYWRpdXMiOiA2LCAic3Ryb2tlIjogdHJ1ZSwgIndlaWdodCI6IDN9CiAgICAgICAgICAgICkuYWRkVG8obWFwX2FmNTg3MjU1NTdlNjQ5Mjk4MDRlODU2NmZmZmQyMWU5KTsKICAgICAgICAKICAgIAogICAgICAgIHZhciBwb3B1cF9mODY1ZjY4YjE3MjU0MDhkOWUzYjQ1NzYwYjRhMDMxNSA9IEwucG9wdXAoeyJtYXhXaWR0aCI6ICIxMDAlIn0pOwoKICAgICAgICAKICAgICAgICAgICAgdmFyIGh0bWxfZDExOTg4YjhmMDUwNDZhOThkMzgzY2U4YzYwZmZiYzcgPSAkKGA8ZGl2IGlkPSJodG1sX2QxMTk4OGI4ZjA1MDQ2YTk4ZDM4M2NlOGM2MGZmYmM3IiBzdHlsZT0id2lkdGg6IDEwMC4wJTsgaGVpZ2h0OiAxMDAuMCU7Ij5QbGF5YSBCbGFuY2EgKFNhbnRhIEVsZW5hKTwvZGl2PmApWzBdOwogICAgICAgICAgICBwb3B1cF9mODY1ZjY4YjE3MjU0MDhkOWUzYjQ1NzYwYjRhMDMxNS5zZXRDb250ZW50KGh0bWxfZDExOTg4YjhmMDUwNDZhOThkMzgzY2U4YzYwZmZiYzcpOwogICAgICAgIAoKICAgICAgICBjaXJjbGVfbWFya2VyXzE4ZjMyNDA3NzViMzQwZDliZDIwMzhmZDI4MjM2Mzg1LmJpbmRQb3B1cChwb3B1cF9mODY1ZjY4YjE3MjU0MDhkOWUzYjQ1NzYwYjRhMDMxNSkKICAgICAgICA7CgogICAgICAgIAogICAgCiAgICAKICAgICAgICAgICAgdmFyIGNpcmNsZV9tYXJrZXJfM2RkZWIyM2VmMjZiNDYyMGI3MTI5MmFkYmI1ZTI2NTggPSBMLmNpcmNsZU1hcmtlcigKICAgICAgICAgICAgICAgIFsxMC42MDk5NDYsIC04NS42ODk3OTgzXSwKICAgICAgICAgICAgICAgIHsiYnViYmxpbmdNb3VzZUV2ZW50cyI6IHRydWUsICJjb2xvciI6ICJZZWxsb3ciLCAiZGFzaEFycmF5IjogbnVsbCwgImRhc2hPZmZzZXQiOiBudWxsLCAiZmlsbCI6IHRydWUsICJmaWxsQ29sb3IiOiAiIzMxODZjYyIsICJmaWxsT3BhY2l0eSI6IDAuNiwgImZpbGxSdWxlIjogImV2ZW5vZGQiLCAibGluZUNhcCI6ICJyb3VuZCIsICJsaW5lSm9pbiI6ICJyb3VuZCIsICJvcGFjaXR5IjogMS4wLCAicmFkaXVzIjogNiwgInN0cm9rZSI6IHRydWUsICJ3ZWlnaHQiOiAzfQogICAgICAgICAgICApLmFkZFRvKG1hcF9hZjU4NzI1NTU3ZTY0OTI5ODA0ZTg1NjZmZmZkMjFlOSk7CiAgICAgICAgCiAgICAKICAgICAgICB2YXIgcG9wdXBfNjFhZWYzNWI2M2FhNDcyZjkzMTk5NTE3MmFhYzU0NTEgPSBMLnBvcHVwKHsibWF4V2lkdGgiOiAiMTAwJSJ9KTsKCiAgICAgICAgCiAgICAgICAgICAgIHZhciBodG1sXzIxYjhhZjNjNThjODRlY2VhYzRkOGRhNWVjODQzNDQ5ID0gJChgPGRpdiBpZD0iaHRtbF8yMWI4YWYzYzU4Yzg0ZWNlYWM0ZDhkYTVlYzg0MzQ0OSIgc3R5bGU9IndpZHRoOiAxMDAuMCU7IGhlaWdodDogMTAwLjAlOyI+UGxheWEgQmxhbmNhIHkgVmlyYWRvcjwvZGl2PmApWzBdOwogICAgICAgICAgICBwb3B1cF82MWFlZjM1YjYzYWE0NzJmOTMxOTk1MTcyYWFjNTQ1MS5zZXRDb250ZW50KGh0bWxfMjFiOGFmM2M1OGM4NGVjZWFjNGQ4ZGE1ZWM4NDM0NDkpOwogICAgICAgIAoKICAgICAgICBjaXJjbGVfbWFya2VyXzNkZGViMjNlZjI2YjQ2MjBiNzEyOTJhZGJiNWUyNjU4LmJpbmRQb3B1cChwb3B1cF82MWFlZjM1YjYzYWE0NzJmOTMxOTk1MTcyYWFjNTQ1MSkKICAgICAgICA7CgogICAgICAgIAogICAgCiAgICAKICAgICAgICAgICAgdmFyIGNpcmNsZV9tYXJrZXJfYmZhNWE3YzQ4ZDA3NGQwNWI1OGM2N2Q4NTI5YWNhMWMgPSBMLmNpcmNsZU1hcmtlcigKICAgICAgICAgICAgICAgIFs5Ljc0MTI4OTIsIC04NS4yMzg3MDUyXSwKICAgICAgICAgICAgICAgIHsiYnViYmxpbmdNb3VzZUV2ZW50cyI6IHRydWUsICJjb2xvciI6ICJZZWxsb3ciLCAiZGFzaEFycmF5IjogbnVsbCwgImRhc2hPZmZzZXQiOiBudWxsLCAiZmlsbCI6IHRydWUsICJmaWxsQ29sb3IiOiAiIzMxODZjYyIsICJmaWxsT3BhY2l0eSI6IDAuNiwgImZpbGxSdWxlIjogImV2ZW5vZGQiLCAibGluZUNhcCI6ICJyb3VuZCIsICJsaW5lSm9pbiI6ICJyb3VuZCIsICJvcGFjaXR5IjogMS4wLCAicmFkaXVzIjogNiwgInN0cm9rZSI6IHRydWUsICJ3ZWlnaHQiOiAzfQogICAgICAgICAgICApLmFkZFRvKG1hcF9hZjU4NzI1NTU3ZTY0OTI5ODA0ZTg1NjZmZmZkMjFlOSk7CiAgICAgICAgCiAgICAKICAgICAgICB2YXIgcG9wdXBfNzA2MGU4MTAwY2UwNGFkYjk4NTgwNDZiMGVhZjU4ZTkgPSBMLnBvcHVwKHsibWF4V2lkdGgiOiAiMTAwJSJ9KTsKCiAgICAgICAgCiAgICAgICAgICAgIHZhciBodG1sX2FlNTc2ZTM2NDllNTQzZDg5OTNhZWJkN2FkYmVlMzU2ID0gJChgPGRpdiBpZD0iaHRtbF9hZTU3NmUzNjQ5ZTU0M2Q4OTkzYWViZDdhZGJlZTM1NiIgc3R5bGU9IndpZHRoOiAxMDAuMCU7IGhlaWdodDogMTAwLjAlOyI+UGxheWEgQm9uZ288L2Rpdj5gKVswXTsKICAgICAgICAgICAgcG9wdXBfNzA2MGU4MTAwY2UwNGFkYjk4NTgwNDZiMGVhZjU4ZTkuc2V0Q29udGVudChodG1sX2FlNTc2ZTM2NDllNTQzZDg5OTNhZWJkN2FkYmVlMzU2KTsKICAgICAgICAKCiAgICAgICAgY2lyY2xlX21hcmtlcl9iZmE1YTdjNDhkMDc0ZDA1YjU4YzY3ZDg1MjlhY2ExYy5iaW5kUG9wdXAocG9wdXBfNzA2MGU4MTAwY2UwNGFkYjk4NTgwNDZiMGVhZjU4ZTkpCiAgICAgICAgOwoKICAgICAgICAKICAgIAogICAgCiAgICAgICAgICAgIHZhciBjaXJjbGVfbWFya2VyXzFiZjUyNDRkZjRjYzQ1YzQ5Y2RkZWJmZjdmYmUyNzgwID0gTC5jaXJjbGVNYXJrZXIoCiAgICAgICAgICAgICAgICBbMTAuNDEzMTE2ODAwMDAwMDAxLCAtODUuNzk0OTAxNDAwNzkwNzldLAogICAgICAgICAgICAgICAgeyJidWJibGluZ01vdXNlRXZlbnRzIjogdHJ1ZSwgImNvbG9yIjogIlllbGxvdyIsICJkYXNoQXJyYXkiOiBudWxsLCAiZGFzaE9mZnNldCI6IG51bGwsICJmaWxsIjogdHJ1ZSwgImZpbGxDb2xvciI6ICIjMzE4NmNjIiwgImZpbGxPcGFjaXR5IjogMC42LCAiZmlsbFJ1bGUiOiAiZXZlbm9kZCIsICJsaW5lQ2FwIjogInJvdW5kIiwgImxpbmVKb2luIjogInJvdW5kIiwgIm9wYWNpdHkiOiAxLjAsICJyYWRpdXMiOiA2LCAic3Ryb2tlIjogdHJ1ZSwgIndlaWdodCI6IDN9CiAgICAgICAgICAgICkuYWRkVG8obWFwX2FmNTg3MjU1NTdlNjQ5Mjk4MDRlODU2NmZmZmQyMWU5KTsKICAgICAgICAKICAgIAogICAgICAgIHZhciBwb3B1cF9kYTMxNTc1MjI0MjE0MzdjYWUyNTUwNzg1MjJiYWE5YiA9IEwucG9wdXAoeyJtYXhXaWR0aCI6ICIxMDAlIn0pOwoKICAgICAgICAKICAgICAgICAgICAgdmFyIGh0bWxfMGE2YzMyYmYxYjYxNDE1Mzk4OTk4YjcyMmU3ZjJkZTMgPSAkKGA8ZGl2IGlkPSJodG1sXzBhNmMzMmJmMWI2MTQxNTM5ODk5OGI3MjJlN2YyZGUzIiBzdHlsZT0id2lkdGg6IDEwMC4wJTsgaGVpZ2h0OiAxMDAuMCU7Ij5QbGF5YSBCcmFzaWxpdG88L2Rpdj5gKVswXTsKICAgICAgICAgICAgcG9wdXBfZGEzMTU3NTIyNDIxNDM3Y2FlMjU1MDc4NTIyYmFhOWIuc2V0Q29udGVudChodG1sXzBhNmMzMmJmMWI2MTQxNTM5ODk5OGI3MjJlN2YyZGUzKTsKICAgICAgICAKCiAgICAgICAgY2lyY2xlX21hcmtlcl8xYmY1MjQ0ZGY0Y2M0NWM0OWNkZGViZmY3ZmJlMjc4MC5iaW5kUG9wdXAocG9wdXBfZGEzMTU3NTIyNDIxNDM3Y2FlMjU1MDc4NTIyYmFhOWIpCiAgICAgICAgOwoKICAgICAgICAKICAgIAogICAgCiAgICAgICAgICAgIHZhciBjaXJjbGVfbWFya2VyXzNjNzgzY2FiY2NhZjQ1NzZhOWVjMWVjMDgyNmMxNmU1ID0gTC5jaXJjbGVNYXJrZXIoCiAgICAgICAgICAgICAgICBbOC41MTU4NDA4NSwgLTgzLjEzNjM2NzQ1MDYyNjg5XSwKICAgICAgICAgICAgICAgIHsiYnViYmxpbmdNb3VzZUV2ZW50cyI6IHRydWUsICJjb2xvciI6ICJZZWxsb3ciLCAiZGFzaEFycmF5IjogbnVsbCwgImRhc2hPZmZzZXQiOiBudWxsLCAiZmlsbCI6IHRydWUsICJmaWxsQ29sb3IiOiAiIzMxODZjYyIsICJmaWxsT3BhY2l0eSI6IDAuNiwgImZpbGxSdWxlIjogImV2ZW5vZGQiLCAibGluZUNhcCI6ICJyb3VuZCIsICJsaW5lSm9pbiI6ICJyb3VuZCIsICJvcGFjaXR5IjogMS4wLCAicmFkaXVzIjogNiwgInN0cm9rZSI6IHRydWUsICJ3ZWlnaHQiOiAzfQogICAgICAgICAgICApLmFkZFRvKG1hcF9hZjU4NzI1NTU3ZTY0OTI5ODA0ZTg1NjZmZmZkMjFlOSk7CiAgICAgICAgCiAgICAKICAgICAgICB2YXIgcG9wdXBfNjAyOTE1MDk5ZTRjNDhiY2JjNDIyMDg0OGE2YzMwOGIgPSBMLnBvcHVwKHsibWF4V2lkdGgiOiAiMTAwJSJ9KTsKCiAgICAgICAgCiAgICAgICAgICAgIHZhciBodG1sXzA5YjA3ZTIyZGU1ZjQxZTliOTExMmZlZDRlYzFmZWUzID0gJChgPGRpdiBpZD0iaHRtbF8wOWIwN2UyMmRlNWY0MWU5YjkxMTJmZWQ0ZWMxZmVlMyIgc3R5bGU9IndpZHRoOiAxMDAuMCU7IGhlaWdodDogMTAwLjAlOyI+UGxheWEgQnVlbmEgVmlzdGE8L2Rpdj5gKVswXTsKICAgICAgICAgICAgcG9wdXBfNjAyOTE1MDk5ZTRjNDhiY2JjNDIyMDg0OGE2YzMwOGIuc2V0Q29udGVudChodG1sXzA5YjA3ZTIyZGU1ZjQxZTliOTExMmZlZDRlYzFmZWUzKTsKICAgICAgICAKCiAgICAgICAgY2lyY2xlX21hcmtlcl8zYzc4M2NhYmNjYWY0NTc2YTllYzFlYzA4MjZjMTZlNS5iaW5kUG9wdXAocG9wdXBfNjAyOTE1MDk5ZTRjNDhiY2JjNDIyMDg0OGE2YzMwOGIpCiAgICAgICAgOwoKICAgICAgICAKICAgIAogICAgCiAgICAgICAgICAgIHZhciBjaXJjbGVfbWFya2VyXzQ2Nzk4NTZjMzE4OTRhNmViYWZmMDI0MDg3NTg5MmExID0gTC5jaXJjbGVNYXJrZXIoCiAgICAgICAgICAgICAgICBbOS44NjAxMDM4LCAtODUuNDMzOTAzNzIwMjc3MjFdLAogICAgICAgICAgICAgICAgeyJidWJibGluZ01vdXNlRXZlbnRzIjogdHJ1ZSwgImNvbG9yIjogIlllbGxvdyIsICJkYXNoQXJyYXkiOiBudWxsLCAiZGFzaE9mZnNldCI6IG51bGwsICJmaWxsIjogdHJ1ZSwgImZpbGxDb2xvciI6ICIjMzE4NmNjIiwgImZpbGxPcGFjaXR5IjogMC42LCAiZmlsbFJ1bGUiOiAiZXZlbm9kZCIsICJsaW5lQ2FwIjogInJvdW5kIiwgImxpbmVKb2luIjogInJvdW5kIiwgIm9wYWNpdHkiOiAxLjAsICJyYWRpdXMiOiA2LCAic3Ryb2tlIjogdHJ1ZSwgIndlaWdodCI6IDN9CiAgICAgICAgICAgICkuYWRkVG8obWFwX2FmNTg3MjU1NTdlNjQ5Mjk4MDRlODU2NmZmZmQyMWU5KTsKICAgICAgICAKICAgIAogICAgICAgIHZhciBwb3B1cF9mNTE1MDNjNGUxZTM0NWEwYWIxNzk4NzAzZTcwODBkZiA9IEwucG9wdXAoeyJtYXhXaWR0aCI6ICIxMDAlIn0pOwoKICAgICAgICAKICAgICAgICAgICAgdmFyIGh0bWxfMzhmNWJjMzc3MmViNDQ4YTljMTBiM2Y1ZTBkODQ4OTEgPSAkKGA8ZGl2IGlkPSJodG1sXzM4ZjViYzM3NzJlYjQ0OGE5YzEwYjNmNWUwZDg0ODkxIiBzdHlsZT0id2lkdGg6IDEwMC4wJTsgaGVpZ2h0OiAxMDAuMCU7Ij5QbGF5YSBDYW1hcm9uYWw8L2Rpdj5gKVswXTsKICAgICAgICAgICAgcG9wdXBfZjUxNTAzYzRlMWUzNDVhMGFiMTc5ODcwM2U3MDgwZGYuc2V0Q29udGVudChodG1sXzM4ZjViYzM3NzJlYjQ0OGE5YzEwYjNmNWUwZDg0ODkxKTsKICAgICAgICAKCiAgICAgICAgY2lyY2xlX21hcmtlcl80Njc5ODU2YzMxODk0YTZlYmFmZjAyNDA4NzU4OTJhMS5iaW5kUG9wdXAocG9wdXBfZjUxNTAzYzRlMWUzNDVhMGFiMTc5ODcwM2U3MDgwZGYpCiAgICAgICAgOwoKICAgICAgICAKICAgIAogICAgCiAgICAgICAgICAgIHZhciBjaXJjbGVfbWFya2VyXzVlYTQxYTY2YzVhNTQyYzliZWZhOTliMDYxMDIyNWRlID0gTC5jaXJjbGVNYXJrZXIoCiAgICAgICAgICAgICAgICBbOC41MTU4NDA4NSwgLTgzLjEzNjM2NzQ1MDYyNjg5XSwKICAgICAgICAgICAgICAgIHsiYnViYmxpbmdNb3VzZUV2ZW50cyI6IHRydWUsICJjb2xvciI6ICJZZWxsb3ciLCAiZGFzaEFycmF5IjogbnVsbCwgImRhc2hPZmZzZXQiOiBudWxsLCAiZmlsbCI6IHRydWUsICJmaWxsQ29sb3IiOiAiIzMxODZjYyIsICJmaWxsT3BhY2l0eSI6IDAuNiwgImZpbGxSdWxlIjogImV2ZW5vZGQiLCAibGluZUNhcCI6ICJyb3VuZCIsICJsaW5lSm9pbiI6ICJyb3VuZCIsICJvcGFjaXR5IjogMS4wLCAicmFkaXVzIjogNiwgInN0cm9rZSI6IHRydWUsICJ3ZWlnaHQiOiAzfQogICAgICAgICAgICApLmFkZFRvKG1hcF9hZjU4NzI1NTU3ZTY0OTI5ODA0ZTg1NjZmZmZkMjFlOSk7CiAgICAgICAgCiAgICAKICAgICAgICB2YXIgcG9wdXBfYzFjZjllODBmMGQ4NGFmNWEzMjAwNGQxOTFhNDI2ODcgPSBMLnBvcHVwKHsibWF4V2lkdGgiOiAiMTAwJSJ9KTsKCiAgICAgICAgCiAgICAgICAgICAgIHZhciBodG1sXzhiYWI3YTY3OGY4ZDRjNWI5NGFiMzkwNjk5ZDA3M2QzID0gJChgPGRpdiBpZD0iaHRtbF84YmFiN2E2NzhmOGQ0YzViOTRhYjM5MDY5OWQwNzNkMyIgc3R5bGU9IndpZHRoOiAxMDAuMCU7IGhlaWdodDogMTAwLjAlOyI+UGxheWEgQ2FyYsOzbjwvZGl2PmApWzBdOwogICAgICAgICAgICBwb3B1cF9jMWNmOWU4MGYwZDg0YWY1YTMyMDA0ZDE5MWE0MjY4Ny5zZXRDb250ZW50KGh0bWxfOGJhYjdhNjc4ZjhkNGM1Yjk0YWIzOTA2OTlkMDczZDMpOwogICAgICAgIAoKICAgICAgICBjaXJjbGVfbWFya2VyXzVlYTQxYTY2YzVhNTQyYzliZWZhOTliMDYxMDIyNWRlLmJpbmRQb3B1cChwb3B1cF9jMWNmOWU4MGYwZDg0YWY1YTMyMDA0ZDE5MWE0MjY4NykKICAgICAgICA7CgogICAgICAgIAogICAgCiAgICAKICAgICAgICAgICAgdmFyIGNpcmNsZV9tYXJrZXJfMTgwYzJiYjkzOThiNDg4Mjk2OGNmZjMyOGFiMzgzZjcgPSBMLmNpcmNsZU1hcmtlcigKICAgICAgICAgICAgICAgIFs4LjUxNTg0MDg1LCAtODMuMTM2MzY3NDUwNjI2ODldLAogICAgICAgICAgICAgICAgeyJidWJibGluZ01vdXNlRXZlbnRzIjogdHJ1ZSwgImNvbG9yIjogIlllbGxvdyIsICJkYXNoQXJyYXkiOiBudWxsLCAiZGFzaE9mZnNldCI6IG51bGwsICJmaWxsIjogdHJ1ZSwgImZpbGxDb2xvciI6ICIjMzE4NmNjIiwgImZpbGxPcGFjaXR5IjogMC42LCAiZmlsbFJ1bGUiOiAiZXZlbm9kZCIsICJsaW5lQ2FwIjogInJvdW5kIiwgImxpbmVKb2luIjogInJvdW5kIiwgIm9wYWNpdHkiOiAxLjAsICJyYWRpdXMiOiA2LCAic3Ryb2tlIjogdHJ1ZSwgIndlaWdodCI6IDN9CiAgICAgICAgICAgICkuYWRkVG8obWFwX2FmNTg3MjU1NTdlNjQ5Mjk4MDRlODU2NmZmZmQyMWU5KTsKICAgICAgICAKICAgIAogICAgICAgIHZhciBwb3B1cF82ZTU4ZDViMDk4YzE0YjFhYThhNjA3NTE4MjkxMDQ0ZSA9IEwucG9wdXAoeyJtYXhXaWR0aCI6ICIxMDAlIn0pOwoKICAgICAgICAKICAgICAgICAgICAgdmFyIGh0bWxfYTA4YTA5ZjA5NDVjNGY1ZjlhNGQ3MTJkM2ZiYWM0NDAgPSAkKGA8ZGl2IGlkPSJodG1sX2EwOGEwOWYwOTQ1YzRmNWY5YTRkNzEyZDNmYmFjNDQwIiBzdHlsZT0id2lkdGg6IDEwMC4wJTsgaGVpZ2h0OiAxMDAuMCU7Ij5QbGF5YSBDYXJtZW48L2Rpdj5gKVswXTsKICAgICAgICAgICAgcG9wdXBfNmU1OGQ1YjA5OGMxNGIxYWE4YTYwNzUxODI5MTA0NGUuc2V0Q29udGVudChodG1sX2EwOGEwOWYwOTQ1YzRmNWY5YTRkNzEyZDNmYmFjNDQwKTsKICAgICAgICAKCiAgICAgICAgY2lyY2xlX21hcmtlcl8xODBjMmJiOTM5OGI0ODgyOTY4Y2ZmMzI4YWIzODNmNy5iaW5kUG9wdXAocG9wdXBfNmU1OGQ1YjA5OGMxNGIxYWE4YTYwNzUxODI5MTA0NGUpCiAgICAgICAgOwoKICAgICAgICAKICAgIAogICAgCiAgICAgICAgICAgIHZhciBjaXJjbGVfbWFya2VyXzE5NGM3NGFhNDNjOTQ4NDU5M2Y5M2VhMGViNzgwODQ0ID0gTC5jaXJjbGVNYXJrZXIoCiAgICAgICAgICAgICAgICBbOS44NjgxOTY0NSwgLTg1LjQ5OTA3ODI1NjIxMDgxXSwKICAgICAgICAgICAgICAgIHsiYnViYmxpbmdNb3VzZUV2ZW50cyI6IHRydWUsICJjb2xvciI6ICJZZWxsb3ciLCAiZGFzaEFycmF5IjogbnVsbCwgImRhc2hPZmZzZXQiOiBudWxsLCAiZmlsbCI6IHRydWUsICJmaWxsQ29sb3IiOiAiIzMxODZjYyIsICJmaWxsT3BhY2l0eSI6IDAuNiwgImZpbGxSdWxlIjogImV2ZW5vZGQiLCAibGluZUNhcCI6ICJyb3VuZCIsICJsaW5lSm9pbiI6ICJyb3VuZCIsICJvcGFjaXR5IjogMS4wLCAicmFkaXVzIjogNiwgInN0cm9rZSI6IHRydWUsICJ3ZWlnaHQiOiAzfQogICAgICAgICAgICApLmFkZFRvKG1hcF9hZjU4NzI1NTU3ZTY0OTI5ODA0ZTg1NjZmZmZkMjFlOSk7CiAgICAgICAgCiAgICAKICAgICAgICB2YXIgcG9wdXBfODRlMzJiMDZiNzBhNGUzY2JjM2I2MTYyYzg1NThkMmEgPSBMLnBvcHVwKHsibWF4V2lkdGgiOiAiMTAwJSJ9KTsKCiAgICAgICAgCiAgICAgICAgICAgIHZhciBodG1sX2I0YjEwNDE2Y2Y1YjQ2M2RiNDY3MGMzZDg4MTM1NjY5ID0gJChgPGRpdiBpZD0iaHRtbF9iNGIxMDQxNmNmNWI0NjNkYjQ2NzBjM2Q4ODEzNTY2OSIgc3R5bGU9IndpZHRoOiAxMDAuMCU7IGhlaWdodDogMTAwLjAlOyI+UGxheWEgQ2FycmlsbG88L2Rpdj5gKVswXTsKICAgICAgICAgICAgcG9wdXBfODRlMzJiMDZiNzBhNGUzY2JjM2I2MTYyYzg1NThkMmEuc2V0Q29udGVudChodG1sX2I0YjEwNDE2Y2Y1YjQ2M2RiNDY3MGMzZDg4MTM1NjY5KTsKICAgICAgICAKCiAgICAgICAgY2lyY2xlX21hcmtlcl8xOTRjNzRhYTQzYzk0ODQ1OTNmOTNlYTBlYjc4MDg0NC5iaW5kUG9wdXAocG9wdXBfODRlMzJiMDZiNzBhNGUzY2JjM2I2MTYyYzg1NThkMmEpCiAgICAgICAgOwoKICAgICAgICAKICAgIAogICAgCiAgICAgICAgICAgIHZhciBjaXJjbGVfbWFya2VyXzkxY2M2NGIxNDMyZjRhY2JhNDE5M2QwNTE2ZGFhNjcyID0gTC5jaXJjbGVNYXJrZXIoCiAgICAgICAgICAgICAgICBbOC41MTU4NDA4NSwgLTgzLjEzNjM2NzQ1MDYyNjg5XSwKICAgICAgICAgICAgICAgIHsiYnViYmxpbmdNb3VzZUV2ZW50cyI6IHRydWUsICJjb2xvciI6ICJZZWxsb3ciLCAiZGFzaEFycmF5IjogbnVsbCwgImRhc2hPZmZzZXQiOiBudWxsLCAiZmlsbCI6IHRydWUsICJmaWxsQ29sb3IiOiAiIzMxODZjYyIsICJmaWxsT3BhY2l0eSI6IDAuNiwgImZpbGxSdWxlIjogImV2ZW5vZGQiLCAibGluZUNhcCI6ICJyb3VuZCIsICJsaW5lSm9pbiI6ICJyb3VuZCIsICJvcGFjaXR5IjogMS4wLCAicmFkaXVzIjogNiwgInN0cm9rZSI6IHRydWUsICJ3ZWlnaHQiOiAzfQogICAgICAgICAgICApLmFkZFRvKG1hcF9hZjU4NzI1NTU3ZTY0OTI5ODA0ZTg1NjZmZmZkMjFlOSk7CiAgICAgICAgCiAgICAKICAgICAgICB2YXIgcG9wdXBfYzVmYmI1MmJlMGQyNGRiZmI5MjZhNWUwNjY5ZDJlODEgPSBMLnBvcHVwKHsibWF4V2lkdGgiOiAiMTAwJSJ9KTsKCiAgICAgICAgCiAgICAgICAgICAgIHZhciBodG1sX2U3MzAyOTc1NjY3MDQxMTRhNTg2ZGVhZDRjYjE3NmI1ID0gJChgPGRpdiBpZD0iaHRtbF9lNzMwMjk3NTY2NzA0MTE0YTU4NmRlYWQ0Y2IxNzZiNSIgc3R5bGU9IndpZHRoOiAxMDAuMCU7IGhlaWdodDogMTAwLjAlOyI+UGxheWEgQ8OzbmNhdmE8L2Rpdj5gKVswXTsKICAgICAgICAgICAgcG9wdXBfYzVmYmI1MmJlMGQyNGRiZmI5MjZhNWUwNjY5ZDJlODEuc2V0Q29udGVudChodG1sX2U3MzAyOTc1NjY3MDQxMTRhNTg2ZGVhZDRjYjE3NmI1KTsKICAgICAgICAKCiAgICAgICAgY2lyY2xlX21hcmtlcl85MWNjNjRiMTQzMmY0YWNiYTQxOTNkMDUxNmRhYTY3Mi5iaW5kUG9wdXAocG9wdXBfYzVmYmI1MmJlMGQyNGRiZmI5MjZhNWUwNjY5ZDJlODEpCiAgICAgICAgOwoKICAgICAgICAKICAgIAogICAgCiAgICAgICAgICAgIHZhciBjaXJjbGVfbWFya2VyXzM2NmU3NzdjNGQ0NzQyNDg4ZDI2NTY5NDEzM2E4NGQ3ID0gTC5jaXJjbGVNYXJrZXIoCiAgICAgICAgICAgICAgICBbMTAuNDAxNTAxMywgLTg1LjgwNTU0MjAyMDQ3MzY4XSwKICAgICAgICAgICAgICAgIHsiYnViYmxpbmdNb3VzZUV2ZW50cyI6IHRydWUsICJjb2xvciI6ICJZZWxsb3ciLCAiZGFzaEFycmF5IjogbnVsbCwgImRhc2hPZmZzZXQiOiBudWxsLCAiZmlsbCI6IHRydWUsICJmaWxsQ29sb3IiOiAiIzMxODZjYyIsICJmaWxsT3BhY2l0eSI6IDAuNiwgImZpbGxSdWxlIjogImV2ZW5vZGQiLCAibGluZUNhcCI6ICJyb3VuZCIsICJsaW5lSm9pbiI6ICJyb3VuZCIsICJvcGFjaXR5IjogMS4wLCAicmFkaXVzIjogNiwgInN0cm9rZSI6IHRydWUsICJ3ZWlnaHQiOiAzfQogICAgICAgICAgICApLmFkZFRvKG1hcF9hZjU4NzI1NTU3ZTY0OTI5ODA0ZTg1NjZmZmZkMjFlOSk7CiAgICAgICAgCiAgICAKICAgICAgICB2YXIgcG9wdXBfY2Y2YTg5OTBkZWFhNDI2MjkyNjljMzJiOTU0OGU0NGYgPSBMLnBvcHVwKHsibWF4V2lkdGgiOiAiMTAwJSJ9KTsKCiAgICAgICAgCiAgICAgICAgICAgIHZhciBodG1sXzZiZjU1OWYxZTE4YTQzZDRiYjBiNDYxYmY2MjJkODM5ID0gJChgPGRpdiBpZD0iaHRtbF82YmY1NTlmMWUxOGE0M2Q0YmIwYjQ2MWJmNjIyZDgzOSIgc3R5bGU9IndpZHRoOiAxMDAuMCU7IGhlaWdodDogMTAwLjAlOyI+UGxheWEgQ29uY2hhbDwvZGl2PmApWzBdOwogICAgICAgICAgICBwb3B1cF9jZjZhODk5MGRlYWE0MjYyOTI2OWMzMmI5NTQ4ZTQ0Zi5zZXRDb250ZW50KGh0bWxfNmJmNTU5ZjFlMThhNDNkNGJiMGI0NjFiZjYyMmQ4MzkpOwogICAgICAgIAoKICAgICAgICBjaXJjbGVfbWFya2VyXzM2NmU3NzdjNGQ0NzQyNDg4ZDI2NTY5NDEzM2E4NGQ3LmJpbmRQb3B1cChwb3B1cF9jZjZhODk5MGRlYWE0MjYyOTI2OWMzMmI5NTQ4ZTQ0ZikKICAgICAgICA7CgogICAgICAgIAogICAgCiAgICAKICAgICAgICAgICAgdmFyIGNpcmNsZV9tYXJrZXJfMGU1NGZkNjY2MzE3NDMyNzljZmY5NGEyMTdlZmJlNTIgPSBMLmNpcmNsZU1hcmtlcigKICAgICAgICAgICAgICAgIFs5Ljc5MDg0MzUwMDAwMDAwMSwgLTg1LjI3Nzk3NjEwMjM2NzY2XSwKICAgICAgICAgICAgICAgIHsiYnViYmxpbmdNb3VzZUV2ZW50cyI6IHRydWUsICJjb2xvciI6ICJZZWxsb3ciLCAiZGFzaEFycmF5IjogbnVsbCwgImRhc2hPZmZzZXQiOiBudWxsLCAiZmlsbCI6IHRydWUsICJmaWxsQ29sb3IiOiAiIzMxODZjYyIsICJmaWxsT3BhY2l0eSI6IDAuNiwgImZpbGxSdWxlIjogImV2ZW5vZGQiLCAibGluZUNhcCI6ICJyb3VuZCIsICJsaW5lSm9pbiI6ICJyb3VuZCIsICJvcGFjaXR5IjogMS4wLCAicmFkaXVzIjogNiwgInN0cm9rZSI6IHRydWUsICJ3ZWlnaHQiOiAzfQogICAgICAgICAgICApLmFkZFRvKG1hcF9hZjU4NzI1NTU3ZTY0OTI5ODA0ZTg1NjZmZmZkMjFlOSk7CiAgICAgICAgCiAgICAKICAgICAgICB2YXIgcG9wdXBfZTJhNDc3MTkwYWE2NDRlODk3OTBiNGJkMjUwZTAzZDkgPSBMLnBvcHVwKHsibWF4V2lkdGgiOiAiMTAwJSJ9KTsKCiAgICAgICAgCiAgICAgICAgICAgIHZhciBodG1sXzk0MWRhNGE3NGYwOTRlYmQ4MTEwZGVjM2I4OGQ3MmUxID0gJChgPGRpdiBpZD0iaHRtbF85NDFkYTRhNzRmMDk0ZWJkODExMGRlYzNiODhkNzJlMSIgc3R5bGU9IndpZHRoOiAxMDAuMCU7IGhlaWdodDogMTAwLjAlOyI+UGxheWEgQ295b3RlPC9kaXY+YClbMF07CiAgICAgICAgICAgIHBvcHVwX2UyYTQ3NzE5MGFhNjQ0ZTg5NzkwYjRiZDI1MGUwM2Q5LnNldENvbnRlbnQoaHRtbF85NDFkYTRhNzRmMDk0ZWJkODExMGRlYzNiODhkNzJlMSk7CiAgICAgICAgCgogICAgICAgIGNpcmNsZV9tYXJrZXJfMGU1NGZkNjY2MzE3NDMyNzljZmY5NGEyMTdlZmJlNTIuYmluZFBvcHVwKHBvcHVwX2UyYTQ3NzE5MGFhNjQ0ZTg5NzkwYjRiZDI1MGUwM2Q5KQogICAgICAgIDsKCiAgICAgICAgCiAgICAKICAgIAogICAgICAgICAgICB2YXIgY2lyY2xlX21hcmtlcl8wMzA1YWY4MjMyZjk0ZDYwYTRmZTYxYzdkZjljMTYxYyA9IEwuY2lyY2xlTWFya2VyKAogICAgICAgICAgICAgICAgWzExLjAyOTg1NDU1LCAtODUuNzE2NTg5MjcyNzAxNjRdLAogICAgICAgICAgICAgICAgeyJidWJibGluZ01vdXNlRXZlbnRzIjogdHJ1ZSwgImNvbG9yIjogIlllbGxvdyIsICJkYXNoQXJyYXkiOiBudWxsLCAiZGFzaE9mZnNldCI6IG51bGwsICJmaWxsIjogdHJ1ZSwgImZpbGxDb2xvciI6ICIjMzE4NmNjIiwgImZpbGxPcGFjaXR5IjogMC42LCAiZmlsbFJ1bGUiOiAiZXZlbm9kZCIsICJsaW5lQ2FwIjogInJvdW5kIiwgImxpbmVKb2luIjogInJvdW5kIiwgIm9wYWNpdHkiOiAxLjAsICJyYWRpdXMiOiA2LCAic3Ryb2tlIjogdHJ1ZSwgIndlaWdodCI6IDN9CiAgICAgICAgICAgICkuYWRkVG8obWFwX2FmNTg3MjU1NTdlNjQ5Mjk4MDRlODU2NmZmZmQyMWU5KTsKICAgICAgICAKICAgIAogICAgICAgIHZhciBwb3B1cF9jZDQ1MzE0NGRhZjQ0MjJjOTBhNjYxNTFkNDE4MGJhYyA9IEwucG9wdXAoeyJtYXhXaWR0aCI6ICIxMDAlIn0pOwoKICAgICAgICAKICAgICAgICAgICAgdmFyIGh0bWxfZDgzODNjNGJhMTU1NGFjYTkzMmViYzhmZjI5ODlhMDEgPSAkKGA8ZGl2IGlkPSJodG1sX2Q4MzgzYzRiYTE1NTRhY2E5MzJlYmM4ZmYyOTg5YTAxIiBzdHlsZT0id2lkdGg6IDEwMC4wJTsgaGVpZ2h0OiAxMDAuMCU7Ij5QbGF5YSBDb3lvdGVyYTwvZGl2PmApWzBdOwogICAgICAgICAgICBwb3B1cF9jZDQ1MzE0NGRhZjQ0MjJjOTBhNjYxNTFkNDE4MGJhYy5zZXRDb250ZW50KGh0bWxfZDgzODNjNGJhMTU1NGFjYTkzMmViYzhmZjI5ODlhMDEpOwogICAgICAgIAoKICAgICAgICBjaXJjbGVfbWFya2VyXzAzMDVhZjgyMzJmOTRkNjBhNGZlNjFjN2RmOWMxNjFjLmJpbmRQb3B1cChwb3B1cF9jZDQ1MzE0NGRhZjQ0MjJjOTBhNjYxNTFkNDE4MGJhYykKICAgICAgICA7CgogICAgICAgIAogICAgCiAgICAKICAgICAgICAgICAgdmFyIGNpcmNsZV9tYXJrZXJfNTgzYjRjYThhODBjNGFhOWJlYWU1Mjg2M2Q1ZTAzYzkgPSBMLmNpcmNsZU1hcmtlcigKICAgICAgICAgICAgICAgIFsxMC4wNDcwMjM5LCAtODUuNzQ5MTc1OF0sCiAgICAgICAgICAgICAgICB7ImJ1YmJsaW5nTW91c2VFdmVudHMiOiB0cnVlLCAiY29sb3IiOiAiWWVsbG93IiwgImRhc2hBcnJheSI6IG51bGwsICJkYXNoT2Zmc2V0IjogbnVsbCwgImZpbGwiOiB0cnVlLCAiZmlsbENvbG9yIjogIiMzMTg2Y2MiLCAiZmlsbE9wYWNpdHkiOiAwLjYsICJmaWxsUnVsZSI6ICJldmVub2RkIiwgImxpbmVDYXAiOiAicm91bmQiLCAibGluZUpvaW4iOiAicm91bmQiLCAib3BhY2l0eSI6IDEuMCwgInJhZGl1cyI6IDYsICJzdHJva2UiOiB0cnVlLCAid2VpZ2h0IjogM30KICAgICAgICAgICAgKS5hZGRUbyhtYXBfYWY1ODcyNTU1N2U2NDkyOTgwNGU4NTY2ZmZmZDIxZTkpOwogICAgICAgIAogICAgCiAgICAgICAgdmFyIHBvcHVwXzEzYzQyYzY4OWJkNDQ5ZDE5YzhmNmEzNWY1OTlkM2NhID0gTC5wb3B1cCh7Im1heFdpZHRoIjogIjEwMCUifSk7CgogICAgICAgIAogICAgICAgICAgICB2YXIgaHRtbF81YmIzZWFjNWZlOTc0YTQzYTM3MTc3MmZlOTQ4MTc5ZiA9ICQoYDxkaXYgaWQ9Imh0bWxfNWJiM2VhYzVmZTk3NGE0M2EzNzE3NzJmZTk0ODE3OWYiIHN0eWxlPSJ3aWR0aDogMTAwLjAlOyBoZWlnaHQ6IDEwMC4wJTsiPlBsYXlhIEN1YWppbmlxdWlsPC9kaXY+YClbMF07CiAgICAgICAgICAgIHBvcHVwXzEzYzQyYzY4OWJkNDQ5ZDE5YzhmNmEzNWY1OTlkM2NhLnNldENvbnRlbnQoaHRtbF81YmIzZWFjNWZlOTc0YTQzYTM3MTc3MmZlOTQ4MTc5Zik7CiAgICAgICAgCgogICAgICAgIGNpcmNsZV9tYXJrZXJfNTgzYjRjYThhODBjNGFhOWJlYWU1Mjg2M2Q1ZTAzYzkuYmluZFBvcHVwKHBvcHVwXzEzYzQyYzY4OWJkNDQ5ZDE5YzhmNmEzNWY1OTlkM2NhKQogICAgICAgIDsKCiAgICAgICAgCiAgICAKICAgIAogICAgICAgICAgICB2YXIgY2lyY2xlX21hcmtlcl81MDZlZDJlNWVlMTI0MTZkYmE4MmQ1OTA2YzIzMzUwYiA9IEwuY2lyY2xlTWFya2VyKAogICAgICAgICAgICAgICAgWzEwLjY0MDgyMDg1LCAtODUuNjQ0OTEyODgxMDUwNF0sCiAgICAgICAgICAgICAgICB7ImJ1YmJsaW5nTW91c2VFdmVudHMiOiB0cnVlLCAiY29sb3IiOiAiWWVsbG93IiwgImRhc2hBcnJheSI6IG51bGwsICJkYXNoT2Zmc2V0IjogbnVsbCwgImZpbGwiOiB0cnVlLCAiZmlsbENvbG9yIjogIiMzMTg2Y2MiLCAiZmlsbE9wYWNpdHkiOiAwLjYsICJmaWxsUnVsZSI6ICJldmVub2RkIiwgImxpbmVDYXAiOiAicm91bmQiLCAibGluZUpvaW4iOiAicm91bmQiLCAib3BhY2l0eSI6IDEuMCwgInJhZGl1cyI6IDYsICJzdHJva2UiOiB0cnVlLCAid2VpZ2h0IjogM30KICAgICAgICAgICAgKS5hZGRUbyhtYXBfYWY1ODcyNTU1N2U2NDkyOTgwNGU4NTY2ZmZmZDIxZTkpOwogICAgICAgIAogICAgCiAgICAgICAgdmFyIHBvcHVwX2NiN2ZjODdkOTJiYTRhODBiNGYyNDU5NTZmNzMwYWJlID0gTC5wb3B1cCh7Im1heFdpZHRoIjogIjEwMCUifSk7CgogICAgICAgIAogICAgICAgICAgICB2YXIgaHRtbF9hNTU3NTJhZWZlZDc0ZTQzOGQ4Y2U5NTVmMjI0ZjAwOCA9ICQoYDxkaXYgaWQ9Imh0bWxfYTU1NzUyYWVmZWQ3NGU0MzhkOGNlOTU1ZjIyNGYwMDgiIHN0eWxlPSJ3aWR0aDogMTAwLjAlOyBoZWlnaHQ6IDEwMC4wJTsiPlBsYXlhIEN1bGVicmE8L2Rpdj5gKVswXTsKICAgICAgICAgICAgcG9wdXBfY2I3ZmM4N2Q5MmJhNGE4MGI0ZjI0NTk1NmY3MzBhYmUuc2V0Q29udGVudChodG1sX2E1NTc1MmFlZmVkNzRlNDM4ZDhjZTk1NWYyMjRmMDA4KTsKICAgICAgICAKCiAgICAgICAgY2lyY2xlX21hcmtlcl81MDZlZDJlNWVlMTI0MTZkYmE4MmQ1OTA2YzIzMzUwYi5iaW5kUG9wdXAocG9wdXBfY2I3ZmM4N2Q5MmJhNGE4MGI0ZjI0NTk1NmY3MzBhYmUpCiAgICAgICAgOwoKICAgICAgICAKICAgIAogICAgCiAgICAgICAgICAgIHZhciBjaXJjbGVfbWFya2VyX2YzNjlhYTZjYjBhYTQzMjhhYTJkMDk0YjIyMjM5NTUzID0gTC5jaXJjbGVNYXJrZXIoCiAgICAgICAgICAgICAgICBbMTAuNTU3OTk0OCwgLTg1LjY5MjI2MTk2MjEzMjI4XSwKICAgICAgICAgICAgICAgIHsiYnViYmxpbmdNb3VzZUV2ZW50cyI6IHRydWUsICJjb2xvciI6ICJZZWxsb3ciLCAiZGFzaEFycmF5IjogbnVsbCwgImRhc2hPZmZzZXQiOiBudWxsLCAiZmlsbCI6IHRydWUsICJmaWxsQ29sb3IiOiAiIzMxODZjYyIsICJmaWxsT3BhY2l0eSI6IDAuNiwgImZpbGxSdWxlIjogImV2ZW5vZGQiLCAibGluZUNhcCI6ICJyb3VuZCIsICJsaW5lSm9pbiI6ICJyb3VuZCIsICJvcGFjaXR5IjogMS4wLCAicmFkaXVzIjogNiwgInN0cm9rZSI6IHRydWUsICJ3ZWlnaHQiOiAzfQogICAgICAgICAgICApLmFkZFRvKG1hcF9hZjU4NzI1NTU3ZTY0OTI5ODA0ZTg1NjZmZmZkMjFlOSk7CiAgICAgICAgCiAgICAKICAgICAgICB2YXIgcG9wdXBfYWY3MzIyNThlODRjNDUzZjg4NjBiMGY2ODA3MDU3MjQgPSBMLnBvcHVwKHsibWF4V2lkdGgiOiAiMTAwJSJ9KTsKCiAgICAgICAgCiAgICAgICAgICAgIHZhciBodG1sX2QyNWMxNzdiM2U4NTQyYmViOGFiODdjOTYzZWQ5MTA2ID0gJChgPGRpdiBpZD0iaHRtbF9kMjVjMTc3YjNlODU0MmJlYjhhYjg3Yzk2M2VkOTEwNiIgc3R5bGU9IndpZHRoOiAxMDAuMCU7IGhlaWdodDogMTAwLjAlOyI+UGxheWFzIGRlbCBDb2NvPC9kaXY+YClbMF07CiAgICAgICAgICAgIHBvcHVwX2FmNzMyMjU4ZTg0YzQ1M2Y4ODYwYjBmNjgwNzA1NzI0LnNldENvbnRlbnQoaHRtbF9kMjVjMTc3YjNlODU0MmJlYjhhYjg3Yzk2M2VkOTEwNik7CiAgICAgICAgCgogICAgICAgIGNpcmNsZV9tYXJrZXJfZjM2OWFhNmNiMGFhNDMyOGFhMmQwOTRiMjIyMzk1NTMuYmluZFBvcHVwKHBvcHVwX2FmNzMyMjU4ZTg0YzQ1M2Y4ODYwYjBmNjgwNzA1NzI0KQogICAgICAgIDsKCiAgICAgICAgCiAgICAKICAgIAogICAgICAgICAgICB2YXIgY2lyY2xlX21hcmtlcl85YmE1NWM0ZDYwMzE0MDZmYWY4NTliZDZkNGQyMjlhYiA9IEwuY2lyY2xlTWFya2VyKAogICAgICAgICAgICAgICAgWzEwLjQzNTMyODM1LCAtODUuNzkyNDA5MTUxNDcwNl0sCiAgICAgICAgICAgICAgICB7ImJ1YmJsaW5nTW91c2VFdmVudHMiOiB0cnVlLCAiY29sb3IiOiAiWWVsbG93IiwgImRhc2hBcnJheSI6IG51bGwsICJkYXNoT2Zmc2V0IjogbnVsbCwgImZpbGwiOiB0cnVlLCAiZmlsbENvbG9yIjogIiMzMTg2Y2MiLCAiZmlsbE9wYWNpdHkiOiAwLjYsICJmaWxsUnVsZSI6ICJldmVub2RkIiwgImxpbmVDYXAiOiAicm91bmQiLCAibGluZUpvaW4iOiAicm91bmQiLCAib3BhY2l0eSI6IDEuMCwgInJhZGl1cyI6IDYsICJzdHJva2UiOiB0cnVlLCAid2VpZ2h0IjogM30KICAgICAgICAgICAgKS5hZGRUbyhtYXBfYWY1ODcyNTU1N2U2NDkyOTgwNGU4NTY2ZmZmZDIxZTkpOwogICAgICAgIAogICAgCiAgICAgICAgdmFyIHBvcHVwX2IwNzNlZTVmMzljZTRiNGQ4ZDBlNTAwMjhjNjg2MzE1ID0gTC5wb3B1cCh7Im1heFdpZHRoIjogIjEwMCUifSk7CgogICAgICAgIAogICAgICAgICAgICB2YXIgaHRtbF9mYmZmMGNhZDNhZGM0NjFkOTUwMzY4NmNkZmQ4ZDliMyA9ICQoYDxkaXYgaWQ9Imh0bWxfZmJmZjBjYWQzYWRjNDYxZDk1MDM2ODZjZGZkOGQ5YjMiIHN0eWxlPSJ3aWR0aDogMTAwLjAlOyBoZWlnaHQ6IDEwMC4wJTsiPlBsYXlhIEZsYW1pbmdvPC9kaXY+YClbMF07CiAgICAgICAgICAgIHBvcHVwX2IwNzNlZTVmMzljZTRiNGQ4ZDBlNTAwMjhjNjg2MzE1LnNldENvbnRlbnQoaHRtbF9mYmZmMGNhZDNhZGM0NjFkOTUwMzY4NmNkZmQ4ZDliMyk7CiAgICAgICAgCgogICAgICAgIGNpcmNsZV9tYXJrZXJfOWJhNTVjNGQ2MDMxNDA2ZmFmODU5YmQ2ZDRkMjI5YWIuYmluZFBvcHVwKHBvcHVwX2IwNzNlZTVmMzljZTRiNGQ4ZDBlNTAwMjhjNjg2MzE1KQogICAgICAgIDsKCiAgICAgICAgCiAgICAKICAgIAogICAgICAgICAgICB2YXIgY2lyY2xlX21hcmtlcl9hMWU1OGZmNDdiZmY0NTJiYWQxNTVhNmM2NGJjYmY4MyA9IEwuY2lyY2xlTWFya2VyKAogICAgICAgICAgICAgICAgWzkuOTA2NjQzODAwMDAwMDAxLCAtODUuNjM0OTY2NDQ4NDY3NDhdLAogICAgICAgICAgICAgICAgeyJidWJibGluZ01vdXNlRXZlbnRzIjogdHJ1ZSwgImNvbG9yIjogIlllbGxvdyIsICJkYXNoQXJyYXkiOiBudWxsLCAiZGFzaE9mZnNldCI6IG51bGwsICJmaWxsIjogdHJ1ZSwgImZpbGxDb2xvciI6ICIjMzE4NmNjIiwgImZpbGxPcGFjaXR5IjogMC42LCAiZmlsbFJ1bGUiOiAiZXZlbm9kZCIsICJsaW5lQ2FwIjogInJvdW5kIiwgImxpbmVKb2luIjogInJvdW5kIiwgIm9wYWNpdHkiOiAxLjAsICJyYWRpdXMiOiA2LCAic3Ryb2tlIjogdHJ1ZSwgIndlaWdodCI6IDN9CiAgICAgICAgICAgICkuYWRkVG8obWFwX2FmNTg3MjU1NTdlNjQ5Mjk4MDRlODU2NmZmZmQyMWU5KTsKICAgICAgICAKICAgIAogICAgICAgIHZhciBwb3B1cF9kY2JmYTAxY2VjNWE0MjRjOGEyMTZmMGZlNDRkYWY0NyA9IEwucG9wdXAoeyJtYXhXaWR0aCI6ICIxMDAlIn0pOwoKICAgICAgICAKICAgICAgICAgICAgdmFyIGh0bWxfZTY3Mzc4ZjM3OTIwNDJmZmE4N2I3MjBmMWIyOTI3OWIgPSAkKGA8ZGl2IGlkPSJodG1sX2U2NzM3OGYzNzkyMDQyZmZhODdiNzIwZjFiMjkyNzliIiBzdHlsZT0id2lkdGg6IDEwMC4wJTsgaGVpZ2h0OiAxMDAuMCU7Ij5QbGF5YSBHYXJ6YTwvZGl2PmApWzBdOwogICAgICAgICAgICBwb3B1cF9kY2JmYTAxY2VjNWE0MjRjOGEyMTZmMGZlNDRkYWY0Ny5zZXRDb250ZW50KGh0bWxfZTY3Mzc4ZjM3OTIwNDJmZmE4N2I3MjBmMWIyOTI3OWIpOwogICAgICAgIAoKICAgICAgICBjaXJjbGVfbWFya2VyX2ExZTU4ZmY0N2JmZjQ1MmJhZDE1NWE2YzY0YmNiZjgzLmJpbmRQb3B1cChwb3B1cF9kY2JmYTAxY2VjNWE0MjRjOGEyMTZmMGZlNDRkYWY0NykKICAgICAgICA7CgogICAgICAgIAogICAgCiAgICAKICAgICAgICAgICAgdmFyIGNpcmNsZV9tYXJrZXJfMzg5OTBiNTY5NzI4NDk4M2JmZjEzY2U5OTY0MThjN2MgPSBMLmNpcmNsZU1hcmtlcigKICAgICAgICAgICAgICAgIFsxMC4zNDA4MjQ5LCAtODUuODQ1MDQxMl0sCiAgICAgICAgICAgICAgICB7ImJ1YmJsaW5nTW91c2VFdmVudHMiOiB0cnVlLCAiY29sb3IiOiAiWWVsbG93IiwgImRhc2hBcnJheSI6IG51bGwsICJkYXNoT2Zmc2V0IjogbnVsbCwgImZpbGwiOiB0cnVlLCAiZmlsbENvbG9yIjogIiMzMTg2Y2MiLCAiZmlsbE9wYWNpdHkiOiAwLjYsICJmaWxsUnVsZSI6ICJldmVub2RkIiwgImxpbmVDYXAiOiAicm91bmQiLCAibGluZUpvaW4iOiAicm91bmQiLCAib3BhY2l0eSI6IDEuMCwgInJhZGl1cyI6IDYsICJzdHJva2UiOiB0cnVlLCAid2VpZ2h0IjogM30KICAgICAgICAgICAgKS5hZGRUbyhtYXBfYWY1ODcyNTU1N2U2NDkyOTgwNGU4NTY2ZmZmZDIxZTkpOwogICAgICAgIAogICAgCiAgICAgICAgdmFyIHBvcHVwXzJiNDRhZGUwN2M0ZjQwNGNiZDY1MzFlOTIwM2JlYjQzID0gTC5wb3B1cCh7Im1heFdpZHRoIjogIjEwMCUifSk7CgogICAgICAgIAogICAgICAgICAgICB2YXIgaHRtbF84ZWY1YWUwZjdiZGE0YTA2ODcxYTAwNmE0YmQ5NjkxMCA9ICQoYDxkaXYgaWQ9Imh0bWxfOGVmNWFlMGY3YmRhNGEwNjg3MWEwMDZhNGJkOTY5MTAiIHN0eWxlPSJ3aWR0aDogMTAwLjAlOyBoZWlnaHQ6IDEwMC4wJTsiPlBsYXlhIEdyYW5kZTwvZGl2PmApWzBdOwogICAgICAgICAgICBwb3B1cF8yYjQ0YWRlMDdjNGY0MDRjYmQ2NTMxZTkyMDNiZWI0My5zZXRDb250ZW50KGh0bWxfOGVmNWFlMGY3YmRhNGEwNjg3MWEwMDZhNGJkOTY5MTApOwogICAgICAgIAoKICAgICAgICBjaXJjbGVfbWFya2VyXzM4OTkwYjU2OTcyODQ5ODNiZmYxM2NlOTk2NDE4YzdjLmJpbmRQb3B1cChwb3B1cF8yYjQ0YWRlMDdjNGY0MDRjYmQ2NTMxZTkyMDNiZWI0MykKICAgICAgICA7CgogICAgICAgIAogICAgCiAgICAKICAgICAgICAgICAgdmFyIGNpcmNsZV9tYXJrZXJfODljOGRkMTk3NDZhNDc2OThjMDQzMTJiZWI0NDczOGYgPSBMLmNpcmNsZU1hcmtlcigKICAgICAgICAgICAgICAgIFs4LjUxNTg0MDg1LCAtODMuMTM2MzY3NDUwNjI2ODldLAogICAgICAgICAgICAgICAgeyJidWJibGluZ01vdXNlRXZlbnRzIjogdHJ1ZSwgImNvbG9yIjogIlllbGxvdyIsICJkYXNoQXJyYXkiOiBudWxsLCAiZGFzaE9mZnNldCI6IG51bGwsICJmaWxsIjogdHJ1ZSwgImZpbGxDb2xvciI6ICIjMzE4NmNjIiwgImZpbGxPcGFjaXR5IjogMC42LCAiZmlsbFJ1bGUiOiAiZXZlbm9kZCIsICJsaW5lQ2FwIjogInJvdW5kIiwgImxpbmVKb2luIjogInJvdW5kIiwgIm9wYWNpdHkiOiAxLjAsICJyYWRpdXMiOiA2LCAic3Ryb2tlIjogdHJ1ZSwgIndlaWdodCI6IDN9CiAgICAgICAgICAgICkuYWRkVG8obWFwX2FmNTg3MjU1NTdlNjQ5Mjk4MDRlODU2NmZmZmQyMWU5KTsKICAgICAgICAKICAgIAogICAgICAgIHZhciBwb3B1cF80ZjJmNGEzYTFlZDg0YWEwYTIwYTUzYzM3NTlhMjFjYyA9IEwucG9wdXAoeyJtYXhXaWR0aCI6ICIxMDAlIn0pOwoKICAgICAgICAKICAgICAgICAgICAgdmFyIGh0bWxfY2VhNGNjYmM0M2UwNDJlOTg3NmM1NDM1ZTRkMDlhODcgPSAkKGA8ZGl2IGlkPSJodG1sX2NlYTRjY2JjNDNlMDQyZTk4NzZjNTQzNWU0ZDA5YTg3IiBzdHlsZT0id2lkdGg6IDEwMC4wJTsgaGVpZ2h0OiAxMDAuMCU7Ij5QbGF5YSBHcmluZ288L2Rpdj5gKVswXTsKICAgICAgICAgICAgcG9wdXBfNGYyZjRhM2ExZWQ4NGFhMGEyMGE1M2MzNzU5YTIxY2Muc2V0Q29udGVudChodG1sX2NlYTRjY2JjNDNlMDQyZTk4NzZjNTQzNWU0ZDA5YTg3KTsKICAgICAgICAKCiAgICAgICAgY2lyY2xlX21hcmtlcl84OWM4ZGQxOTc0NmE0NzY5OGMwNDMxMmJlYjQ0NzM4Zi5iaW5kUG9wdXAocG9wdXBfNGYyZjRhM2ExZWQ4NGFhMGEyMGE1M2MzNzU5YTIxY2MpCiAgICAgICAgOwoKICAgICAgICAKICAgIAogICAgCiAgICAgICAgICAgIHZhciBjaXJjbGVfbWFya2VyX2ZiMDU2MDk2ZjAzMjQ4NDdiNmFjODJiNmZiOGIxMjBkID0gTC5jaXJjbGVNYXJrZXIoCiAgICAgICAgICAgICAgICBbOS45MjgxNzAyNSwgLTg1LjY2MjU2NDgzNDI5NTc4XSwKICAgICAgICAgICAgICAgIHsiYnViYmxpbmdNb3VzZUV2ZW50cyI6IHRydWUsICJjb2xvciI6ICJZZWxsb3ciLCAiZGFzaEFycmF5IjogbnVsbCwgImRhc2hPZmZzZXQiOiBudWxsLCAiZmlsbCI6IHRydWUsICJmaWxsQ29sb3IiOiAiIzMxODZjYyIsICJmaWxsT3BhY2l0eSI6IDAuNiwgImZpbGxSdWxlIjogImV2ZW5vZGQiLCAibGluZUNhcCI6ICJyb3VuZCIsICJsaW5lSm9pbiI6ICJyb3VuZCIsICJvcGFjaXR5IjogMS4wLCAicmFkaXVzIjogNiwgInN0cm9rZSI6IHRydWUsICJ3ZWlnaHQiOiAzfQogICAgICAgICAgICApLmFkZFRvKG1hcF9hZjU4NzI1NTU3ZTY0OTI5ODA0ZTg1NjZmZmZkMjFlOSk7CiAgICAgICAgCiAgICAKICAgICAgICB2YXIgcG9wdXBfYzAwYTc0ZGRmZGExNDFiNThkZTUwNDU1OTczNWE1YjcgPSBMLnBvcHVwKHsibWF4V2lkdGgiOiAiMTAwJSJ9KTsKCiAgICAgICAgCiAgICAgICAgICAgIHZhciBodG1sXzJmNTkwYmI5ZDlmODRhZjI5MjA2M2Q1ZGQ2MDYwZTBmID0gJChgPGRpdiBpZD0iaHRtbF8yZjU5MGJiOWQ5Zjg0YWYyOTIwNjNkNWRkNjA2MGUwZiIgc3R5bGU9IndpZHRoOiAxMDAuMCU7IGhlaWdodDogMTAwLjAlOyI+UGxheWEgR3Vpb25lczwvZGl2PmApWzBdOwogICAgICAgICAgICBwb3B1cF9jMDBhNzRkZGZkYTE0MWI1OGRlNTA0NTU5NzM1YTViNy5zZXRDb250ZW50KGh0bWxfMmY1OTBiYjlkOWY4NGFmMjkyMDYzZDVkZDYwNjBlMGYpOwogICAgICAgIAoKICAgICAgICBjaXJjbGVfbWFya2VyX2ZiMDU2MDk2ZjAzMjQ4NDdiNmFjODJiNmZiOGIxMjBkLmJpbmRQb3B1cChwb3B1cF9jMDBhNzRkZGZkYTE0MWI1OGRlNTA0NTU5NzM1YTViNykKICAgICAgICA7CgogICAgICAgIAogICAgCiAgICAKICAgICAgICAgICAgdmFyIGNpcmNsZV9tYXJrZXJfYzJmOWJlMTViY2ZmNGJiMjgxZGFmNTFhMTY2ZjEzMDggPSBMLmNpcmNsZU1hcmtlcigKICAgICAgICAgICAgICAgIFsxMC41NzQ1MDE2LCAtODUuNjc0MTg2XSwKICAgICAgICAgICAgICAgIHsiYnViYmxpbmdNb3VzZUV2ZW50cyI6IHRydWUsICJjb2xvciI6ICJZZWxsb3ciLCAiZGFzaEFycmF5IjogbnVsbCwgImRhc2hPZmZzZXQiOiBudWxsLCAiZmlsbCI6IHRydWUsICJmaWxsQ29sb3IiOiAiIzMxODZjYyIsICJmaWxsT3BhY2l0eSI6IDAuNiwgImZpbGxSdWxlIjogImV2ZW5vZGQiLCAibGluZUNhcCI6ICJyb3VuZCIsICJsaW5lSm9pbiI6ICJyb3VuZCIsICJvcGFjaXR5IjogMS4wLCAicmFkaXVzIjogNiwgInN0cm9rZSI6IHRydWUsICJ3ZWlnaHQiOiAzfQogICAgICAgICAgICApLmFkZFRvKG1hcF9hZjU4NzI1NTU3ZTY0OTI5ODA0ZTg1NjZmZmZkMjFlOSk7CiAgICAgICAgCiAgICAKICAgICAgICB2YXIgcG9wdXBfYzJhMzAzYjg2MjgzNDI0Y2E1ODU3YzAxYzNhMDY3NTkgPSBMLnBvcHVwKHsibWF4V2lkdGgiOiAiMTAwJSJ9KTsKCiAgICAgICAgCiAgICAgICAgICAgIHZhciBodG1sXzQzYWUyNTY5MDU2ZDQxM2VhMDg4YWYxNWRjNjA5YjFjID0gJChgPGRpdiBpZD0iaHRtbF80M2FlMjU2OTA1NmQ0MTNlYTA4OGFmMTVkYzYwOWIxYyIgc3R5bGU9IndpZHRoOiAxMDAuMCU7IGhlaWdodDogMTAwLjAlOyI+UGxheWEgSGVybW9zYTwvZGl2PmApWzBdOwogICAgICAgICAgICBwb3B1cF9jMmEzMDNiODYyODM0MjRjYTU4NTdjMDFjM2EwNjc1OS5zZXRDb250ZW50KGh0bWxfNDNhZTI1NjkwNTZkNDEzZWEwODhhZjE1ZGM2MDliMWMpOwogICAgICAgIAoKICAgICAgICBjaXJjbGVfbWFya2VyX2MyZjliZTE1YmNmZjRiYjI4MWRhZjUxYTE2NmYxMzA4LmJpbmRQb3B1cChwb3B1cF9jMmEzMDNiODYyODM0MjRjYTU4NTdjMDFjM2EwNjc1OSkKICAgICAgICA7CgogICAgICAgIAogICAgCiAgICAKICAgICAgICAgICAgdmFyIGNpcmNsZV9tYXJrZXJfZWU2ZDBkNDMxZGRlNDU1ZGExZTgyMzQ1MDAzYWU3YTEgPSBMLmNpcmNsZU1hcmtlcigKICAgICAgICAgICAgICAgIFsxMC42MzQxMDI1MDAwMDAwMDEsIC04NS42MzI4ODYxNjE1MDcxNl0sCiAgICAgICAgICAgICAgICB7ImJ1YmJsaW5nTW91c2VFdmVudHMiOiB0cnVlLCAiY29sb3IiOiAiWWVsbG93IiwgImRhc2hBcnJheSI6IG51bGwsICJkYXNoT2Zmc2V0IjogbnVsbCwgImZpbGwiOiB0cnVlLCAiZmlsbENvbG9yIjogIiMzMTg2Y2MiLCAiZmlsbE9wYWNpdHkiOiAwLjYsICJmaWxsUnVsZSI6ICJldmVub2RkIiwgImxpbmVDYXAiOiAicm91bmQiLCAibGluZUpvaW4iOiAicm91bmQiLCAib3BhY2l0eSI6IDEuMCwgInJhZGl1cyI6IDYsICJzdHJva2UiOiB0cnVlLCAid2VpZ2h0IjogM30KICAgICAgICAgICAgKS5hZGRUbyhtYXBfYWY1ODcyNTU1N2U2NDkyOTgwNGU4NTY2ZmZmZDIxZTkpOwogICAgICAgIAogICAgCiAgICAgICAgdmFyIHBvcHVwX2RkOTJjZmRkMTY2MDRjM2Y4YjMzMmNiNGE5NjMzYTM3ID0gTC5wb3B1cCh7Im1heFdpZHRoIjogIjEwMCUifSk7CgogICAgICAgIAogICAgICAgICAgICB2YXIgaHRtbF80OTdjNTQ4YmI4ZGU0YjUzYTE0ZjA0YWQzNjg4ZGY4MyA9ICQoYDxkaXYgaWQ9Imh0bWxfNDk3YzU0OGJiOGRlNGI1M2ExNGYwNGFkMzY4OGRmODMiIHN0eWxlPSJ3aWR0aDogMTAwLjAlOyBoZWlnaHQ6IDEwMC4wJTsiPlBsYXlhIElndWFuaXRhPC9kaXY+YClbMF07CiAgICAgICAgICAgIHBvcHVwX2RkOTJjZmRkMTY2MDRjM2Y4YjMzMmNiNGE5NjMzYTM3LnNldENvbnRlbnQoaHRtbF80OTdjNTQ4YmI4ZGU0YjUzYTE0ZjA0YWQzNjg4ZGY4Myk7CiAgICAgICAgCgogICAgICAgIGNpcmNsZV9tYXJrZXJfZWU2ZDBkNDMxZGRlNDU1ZGExZTgyMzQ1MDAzYWU3YTEuYmluZFBvcHVwKHBvcHVwX2RkOTJjZmRkMTY2MDRjM2Y4YjMzMmNiNGE5NjMzYTM3KQogICAgICAgIDsKCiAgICAgICAgCiAgICAKICAgIAogICAgICAgICAgICB2YXIgY2lyY2xlX21hcmtlcl9lNjFjNTc5NzkzMjU0NGFkODJhZTQyNzA5ODI5MzBlMyA9IEwuY2lyY2xlTWFya2VyKAogICAgICAgICAgICAgICAgWzkuODUwODEwNCwgLTg1LjQwMzg5NjcxNTk5MDEzXSwKICAgICAgICAgICAgICAgIHsiYnViYmxpbmdNb3VzZUV2ZW50cyI6IHRydWUsICJjb2xvciI6ICJZZWxsb3ciLCAiZGFzaEFycmF5IjogbnVsbCwgImRhc2hPZmZzZXQiOiBudWxsLCAiZmlsbCI6IHRydWUsICJmaWxsQ29sb3IiOiAiIzMxODZjYyIsICJmaWxsT3BhY2l0eSI6IDAuNiwgImZpbGxSdWxlIjogImV2ZW5vZGQiLCAibGluZUNhcCI6ICJyb3VuZCIsICJsaW5lSm9pbiI6ICJyb3VuZCIsICJvcGFjaXR5IjogMS4wLCAicmFkaXVzIjogNiwgInN0cm9rZSI6IHRydWUsICJ3ZWlnaHQiOiAzfQogICAgICAgICAgICApLmFkZFRvKG1hcF9hZjU4NzI1NTU3ZTY0OTI5ODA0ZTg1NjZmZmZkMjFlOSk7CiAgICAgICAgCiAgICAKICAgICAgICB2YXIgcG9wdXBfNzFkZjZhYjRhODRjNDhmY2I3ZWU0ODBiZTYxNWIxNGIgPSBMLnBvcHVwKHsibWF4V2lkdGgiOiAiMTAwJSJ9KTsKCiAgICAgICAgCiAgICAgICAgICAgIHZhciBodG1sXzVmODlhNzcwNDJiNDQzMDFiZTllYTA3YWRiZDYzYTZiID0gJChgPGRpdiBpZD0iaHRtbF81Zjg5YTc3MDQyYjQ0MzAxYmU5ZWEwN2FkYmQ2M2E2YiIgc3R5bGU9IndpZHRoOiAxMDAuMCU7IGhlaWdodDogMTAwLjAlOyI+UGxheWEgSXNsaXRhIHkgQ29yb3phbGl0bzwvZGl2PmApWzBdOwogICAgICAgICAgICBwb3B1cF83MWRmNmFiNGE4NGM0OGZjYjdlZTQ4MGJlNjE1YjE0Yi5zZXRDb250ZW50KGh0bWxfNWY4OWE3NzA0MmI0NDMwMWJlOWVhMDdhZGJkNjNhNmIpOwogICAgICAgIAoKICAgICAgICBjaXJjbGVfbWFya2VyX2U2MWM1Nzk3OTMyNTQ0YWQ4MmFlNDI3MDk4MjkzMGUzLmJpbmRQb3B1cChwb3B1cF83MWRmNmFiNGE4NGM0OGZjYjdlZTQ4MGJlNjE1YjE0YikKICAgICAgICA7CgogICAgICAgIAogICAgCiAgICAKICAgICAgICAgICAgdmFyIGNpcmNsZV9tYXJrZXJfODkyN2YyOWEwNmJmNDI4NmFmMDQyYzhmYmIzNWY2ZmMgPSBMLmNpcmNsZU1hcmtlcigKICAgICAgICAgICAgICAgIFsxMS4wMzUxMDE3NDk5OTk5OTksIC04NS43MzQ0OTU3NjM1MjkwMV0sCiAgICAgICAgICAgICAgICB7ImJ1YmJsaW5nTW91c2VFdmVudHMiOiB0cnVlLCAiY29sb3IiOiAiWWVsbG93IiwgImRhc2hBcnJheSI6IG51bGwsICJkYXNoT2Zmc2V0IjogbnVsbCwgImZpbGwiOiB0cnVlLCAiZmlsbENvbG9yIjogIiMzMTg2Y2MiLCAiZmlsbE9wYWNpdHkiOiAwLjYsICJmaWxsUnVsZSI6ICJldmVub2RkIiwgImxpbmVDYXAiOiAicm91bmQiLCAibGluZUpvaW4iOiAicm91bmQiLCAib3BhY2l0eSI6IDEuMCwgInJhZGl1cyI6IDYsICJzdHJva2UiOiB0cnVlLCAid2VpZ2h0IjogM30KICAgICAgICAgICAgKS5hZGRUbyhtYXBfYWY1ODcyNTU1N2U2NDkyOTgwNGU4NTY2ZmZmZDIxZTkpOwogICAgICAgIAogICAgCiAgICAgICAgdmFyIHBvcHVwXzFiZGVmOTExZDU5NTQwNzM4ZGQ2Njc0ZWYzNzE4MDg2ID0gTC5wb3B1cCh7Im1heFdpZHRoIjogIjEwMCUifSk7CgogICAgICAgIAogICAgICAgICAgICB2YXIgaHRtbF8zYmFlN2Y4NzA2NGU0YzNiODg2MDk2Y2Y4NzUwNjA1YSA9ICQoYDxkaXYgaWQ9Imh0bWxfM2JhZTdmODcwNjRlNGMzYjg4NjA5NmNmODc1MDYwNWEiIHN0eWxlPSJ3aWR0aDogMTAwLjAlOyBoZWlnaHQ6IDEwMC4wJTsiPlBsYXlhIEpvYm88L2Rpdj5gKVswXTsKICAgICAgICAgICAgcG9wdXBfMWJkZWY5MTFkNTk1NDA3MzhkZDY2NzRlZjM3MTgwODYuc2V0Q29udGVudChodG1sXzNiYWU3Zjg3MDY0ZTRjM2I4ODYwOTZjZjg3NTA2MDVhKTsKICAgICAgICAKCiAgICAgICAgY2lyY2xlX21hcmtlcl84OTI3ZjI5YTA2YmY0Mjg2YWYwNDJjOGZiYjM1ZjZmYy5iaW5kUG9wdXAocG9wdXBfMWJkZWY5MTFkNTk1NDA3MzhkZDY2NzRlZjM3MTgwODYpCiAgICAgICAgOwoKICAgICAgICAKICAgIAogICAgCiAgICAgICAgICAgIHZhciBjaXJjbGVfbWFya2VyX2JiMjNmNWI0ZDQ0ZjQ3NTVhNzM1YzM5ODdlZjkzZjk5ID0gTC5jaXJjbGVNYXJrZXIoCiAgICAgICAgICAgICAgICBbMTAuOTY5ODMwMTUsIC04NS42ODgwMzgzMzY1Njc4NF0sCiAgICAgICAgICAgICAgICB7ImJ1YmJsaW5nTW91c2VFdmVudHMiOiB0cnVlLCAiY29sb3IiOiAiWWVsbG93IiwgImRhc2hBcnJheSI6IG51bGwsICJkYXNoT2Zmc2V0IjogbnVsbCwgImZpbGwiOiB0cnVlLCAiZmlsbENvbG9yIjogIiMzMTg2Y2MiLCAiZmlsbE9wYWNpdHkiOiAwLjYsICJmaWxsUnVsZSI6ICJldmVub2RkIiwgImxpbmVDYXAiOiAicm91bmQiLCAibGluZUpvaW4iOiAicm91bmQiLCAib3BhY2l0eSI6IDEuMCwgInJhZGl1cyI6IDYsICJzdHJva2UiOiB0cnVlLCAid2VpZ2h0IjogM30KICAgICAgICAgICAgKS5hZGRUbyhtYXBfYWY1ODcyNTU1N2U2NDkyOTgwNGU4NTY2ZmZmZDIxZTkpOwogICAgICAgIAogICAgCiAgICAgICAgdmFyIHBvcHVwXzA0YzRkMDFiZGRmZTQzNDFiYjhlOWU2NmUyOTNlN2U0ID0gTC5wb3B1cCh7Im1heFdpZHRoIjogIjEwMCUifSk7CgogICAgICAgIAogICAgICAgICAgICB2YXIgaHRtbF81YjhhMTY4YTUyZTc0MjMzOTlmNzYzNzUwYjQ2MGNlMCA9ICQoYDxkaXYgaWQ9Imh0bWxfNWI4YTE2OGE1MmU3NDIzMzk5Zjc2Mzc1MGI0NjBjZTAiIHN0eWxlPSJ3aWR0aDogMTAwLjAlOyBoZWlnaHQ6IDEwMC4wJTsiPlBsYXlhIEp1bnF1aWxsYWw8L2Rpdj5gKVswXTsKICAgICAgICAgICAgcG9wdXBfMDRjNGQwMWJkZGZlNDM0MWJiOGU5ZTY2ZTI5M2U3ZTQuc2V0Q29udGVudChodG1sXzViOGExNjhhNTJlNzQyMzM5OWY3NjM3NTBiNDYwY2UwKTsKICAgICAgICAKCiAgICAgICAgY2lyY2xlX21hcmtlcl9iYjIzZjViNGQ0NGY0NzU1YTczNWMzOTg3ZWY5M2Y5OS5iaW5kUG9wdXAocG9wdXBfMDRjNGQwMWJkZGZlNDM0MWJiOGU5ZTY2ZTI5M2U3ZTQpCiAgICAgICAgOwoKICAgICAgICAKICAgIAogICAgCiAgICAgICAgICAgIHZhciBjaXJjbGVfbWFya2VyXzU2M2E0MzRjYzVjNzRlNjk5MjIxY2ZhZDZhNjFkZjc5ID0gTC5jaXJjbGVNYXJrZXIoCiAgICAgICAgICAgICAgICBbMTAuNDYyMzQ1LCAtODUuNzc2MjYyNV0sCiAgICAgICAgICAgICAgICB7ImJ1YmJsaW5nTW91c2VFdmVudHMiOiB0cnVlLCAiY29sb3IiOiAiWWVsbG93IiwgImRhc2hBcnJheSI6IG51bGwsICJkYXNoT2Zmc2V0IjogbnVsbCwgImZpbGwiOiB0cnVlLCAiZmlsbENvbG9yIjogIiMzMTg2Y2MiLCAiZmlsbE9wYWNpdHkiOiAwLjYsICJmaWxsUnVsZSI6ICJldmVub2RkIiwgImxpbmVDYXAiOiAicm91bmQiLCAibGluZUpvaW4iOiAicm91bmQiLCAib3BhY2l0eSI6IDEuMCwgInJhZGl1cyI6IDYsICJzdHJva2UiOiB0cnVlLCAid2VpZ2h0IjogM30KICAgICAgICAgICAgKS5hZGRUbyhtYXBfYWY1ODcyNTU1N2U2NDkyOTgwNGU4NTY2ZmZmZDIxZTkpOwogICAgICAgIAogICAgCiAgICAgICAgdmFyIHBvcHVwXzI2YzYyMDYwYTlkZjQ5ODliMjgyNDhmZDhiZjMwZjA4ID0gTC5wb3B1cCh7Im1heFdpZHRoIjogIjEwMCUifSk7CgogICAgICAgIAogICAgICAgICAgICB2YXIgaHRtbF9hYWMzZDAxZDA4NDE0OWZlYTcxMTA5NjU4YjZhM2UwZSA9ICQoYDxkaXYgaWQ9Imh0bWxfYWFjM2QwMWQwODQxNDlmZWE3MTEwOTY1OGI2YTNlMGUiIHN0eWxlPSJ3aWR0aDogMTAwLjAlOyBoZWlnaHQ6IDEwMC4wJTsiPlBsYXlhIExhIFBlbmNhPC9kaXY+YClbMF07CiAgICAgICAgICAgIHBvcHVwXzI2YzYyMDYwYTlkZjQ5ODliMjgyNDhmZDhiZjMwZjA4LnNldENvbnRlbnQoaHRtbF9hYWMzZDAxZDA4NDE0OWZlYTcxMTA5NjU4YjZhM2UwZSk7CiAgICAgICAgCgogICAgICAgIGNpcmNsZV9tYXJrZXJfNTYzYTQzNGNjNWM3NGU2OTkyMjFjZmFkNmE2MWRmNzkuYmluZFBvcHVwKHBvcHVwXzI2YzYyMDYwYTlkZjQ5ODliMjgyNDhmZDhiZjMwZjA4KQogICAgICAgIDsKCiAgICAgICAgCiAgICAKICAgIAogICAgICAgICAgICB2YXIgY2lyY2xlX21hcmtlcl83YWY5NDZmYzgyYjc0MDcxYTEzNzE2MGZlZWVjOTJiYSA9IEwuY2lyY2xlTWFya2VyKAogICAgICAgICAgICAgICAgWzEwLjEyMTUwNDIsIC04NS43OTUwMjY2NjQzNTE1XSwKICAgICAgICAgICAgICAgIHsiYnViYmxpbmdNb3VzZUV2ZW50cyI6IHRydWUsICJjb2xvciI6ICJZZWxsb3ciLCAiZGFzaEFycmF5IjogbnVsbCwgImRhc2hPZmZzZXQiOiBudWxsLCAiZmlsbCI6IHRydWUsICJmaWxsQ29sb3IiOiAiIzMxODZjYyIsICJmaWxsT3BhY2l0eSI6IDAuNiwgImZpbGxSdWxlIjogImV2ZW5vZGQiLCAibGluZUNhcCI6ICJyb3VuZCIsICJsaW5lSm9pbiI6ICJyb3VuZCIsICJvcGFjaXR5IjogMS4wLCAicmFkaXVzIjogNiwgInN0cm9rZSI6IHRydWUsICJ3ZWlnaHQiOiAzfQogICAgICAgICAgICApLmFkZFRvKG1hcF9hZjU4NzI1NTU3ZTY0OTI5ODA0ZTg1NjZmZmZkMjFlOSk7CiAgICAgICAgCiAgICAKICAgICAgICB2YXIgcG9wdXBfNGVhMjAyNWU5MWIzNGY0MzlkZTE3YjAxMjI2YzlkNmIgPSBMLnBvcHVwKHsibWF4V2lkdGgiOiAiMTAwJSJ9KTsKCiAgICAgICAgCiAgICAgICAgICAgIHZhciBodG1sX2Y2ZWIwZGE5MmNiMTQ1ZWFiNzU0M2RlMWE4MmM1NzQ1ID0gJChgPGRpdiBpZD0iaHRtbF9mNmViMGRhOTJjYjE0NWVhYjc1NDNkZTFhODJjNTc0NSIgc3R5bGU9IndpZHRoOiAxMDAuMCU7IGhlaWdodDogMTAwLjAlOyI+UGxheWEgTGFnYXJ0bzwvZGl2PmApWzBdOwogICAgICAgICAgICBwb3B1cF80ZWEyMDI1ZTkxYjM0ZjQzOWRlMTdiMDEyMjZjOWQ2Yi5zZXRDb250ZW50KGh0bWxfZjZlYjBkYTkyY2IxNDVlYWI3NTQzZGUxYTgyYzU3NDUpOwogICAgICAgIAoKICAgICAgICBjaXJjbGVfbWFya2VyXzdhZjk0NmZjODJiNzQwNzFhMTM3MTYwZmVlZWM5MmJhLmJpbmRQb3B1cChwb3B1cF80ZWEyMDI1ZTkxYjM0ZjQzOWRlMTdiMDEyMjZjOWQ2YikKICAgICAgICA7CgogICAgICAgIAogICAgCiAgICAKICAgICAgICAgICAgdmFyIGNpcmNsZV9tYXJrZXJfMTAwZmUwMTUxYWQxNGFhZTg0MWExYWY1MTExZDFlMmQgPSBMLmNpcmNsZU1hcmtlcigKICAgICAgICAgICAgICAgIFsxMC4yODE1MDk2NSwgLTg1Ljg0OTE5ODY0NDczNTM0XSwKICAgICAgICAgICAgICAgIHsiYnViYmxpbmdNb3VzZUV2ZW50cyI6IHRydWUsICJjb2xvciI6ICJZZWxsb3ciLCAiZGFzaEFycmF5IjogbnVsbCwgImRhc2hPZmZzZXQiOiBudWxsLCAiZmlsbCI6IHRydWUsICJmaWxsQ29sb3IiOiAiIzMxODZjYyIsICJmaWxsT3BhY2l0eSI6IDAuNiwgImZpbGxSdWxlIjogImV2ZW5vZGQiLCAibGluZUNhcCI6ICJyb3VuZCIsICJsaW5lSm9pbiI6ICJyb3VuZCIsICJvcGFjaXR5IjogMS4wLCAicmFkaXVzIjogNiwgInN0cm9rZSI6IHRydWUsICJ3ZWlnaHQiOiAzfQogICAgICAgICAgICApLmFkZFRvKG1hcF9hZjU4NzI1NTU3ZTY0OTI5ODA0ZTg1NjZmZmZkMjFlOSk7CiAgICAgICAgCiAgICAKICAgICAgICB2YXIgcG9wdXBfNjM4YTQ2N2I4NDljNDY1N2FiYzU2MjFmYTY2NTI2NzkgPSBMLnBvcHVwKHsibWF4V2lkdGgiOiAiMTAwJSJ9KTsKCiAgICAgICAgCiAgICAgICAgICAgIHZhciBodG1sX2I5ODE2Y2YwYTBjNjQ3Yzk4ZDYzN2UwOTNjNmEzZGJhID0gJChgPGRpdiBpZD0iaHRtbF9iOTgxNmNmMGEwYzY0N2M5OGQ2MzdlMDkzYzZhM2RiYSIgc3R5bGU9IndpZHRoOiAxMDAuMCU7IGhlaWdodDogMTAwLjAlOyI+UGxheWEgTGFuZ29zdGE8L2Rpdj5gKVswXTsKICAgICAgICAgICAgcG9wdXBfNjM4YTQ2N2I4NDljNDY1N2FiYzU2MjFmYTY2NTI2Nzkuc2V0Q29udGVudChodG1sX2I5ODE2Y2YwYTBjNjQ3Yzk4ZDYzN2UwOTNjNmEzZGJhKTsKICAgICAgICAKCiAgICAgICAgY2lyY2xlX21hcmtlcl8xMDBmZTAxNTFhZDE0YWFlODQxYTFhZjUxMTFkMWUyZC5iaW5kUG9wdXAocG9wdXBfNjM4YTQ2N2I4NDljNDY1N2FiYzU2MjFmYTY2NTI2NzkpCiAgICAgICAgOwoKICAgICAgICAKICAgIAogICAgCiAgICAgICAgICAgIHZhciBjaXJjbGVfbWFya2VyXzgyNjFkY2ZlYzExZjQ4MDBhMzYyNTRjYWEyZWMyMjhhID0gTC5jaXJjbGVNYXJrZXIoCiAgICAgICAgICAgICAgICBbOC41MTU4NDA4NSwgLTgzLjEzNjM2NzQ1MDYyNjg5XSwKICAgICAgICAgICAgICAgIHsiYnViYmxpbmdNb3VzZUV2ZW50cyI6IHRydWUsICJjb2xvciI6ICJZZWxsb3ciLCAiZGFzaEFycmF5IjogbnVsbCwgImRhc2hPZmZzZXQiOiBudWxsLCAiZmlsbCI6IHRydWUsICJmaWxsQ29sb3IiOiAiIzMxODZjYyIsICJmaWxsT3BhY2l0eSI6IDAuNiwgImZpbGxSdWxlIjogImV2ZW5vZGQiLCAibGluZUNhcCI6ICJyb3VuZCIsICJsaW5lSm9pbiI6ICJyb3VuZCIsICJvcGFjaXR5IjogMS4wLCAicmFkaXVzIjogNiwgInN0cm9rZSI6IHRydWUsICJ3ZWlnaHQiOiAzfQogICAgICAgICAgICApLmFkZFRvKG1hcF9hZjU4NzI1NTU3ZTY0OTI5ODA0ZTg1NjZmZmZkMjFlOSk7CiAgICAgICAgCiAgICAKICAgICAgICB2YXIgcG9wdXBfY2JkNjA4OWJmNGFhNDQzZWIwZDQ0M2Q3ZjhmOWU3ZmIgPSBMLnBvcHVwKHsibWF4V2lkdGgiOiAiMTAwJSJ9KTsKCiAgICAgICAgCiAgICAgICAgICAgIHZhciBodG1sX2ExYmY2ZDA4YTJmYjQ2MzU5YzQwOTdlZDNmOTU4NTJhID0gJChgPGRpdiBpZD0iaHRtbF9hMWJmNmQwOGEyZmI0NjM1OWM0MDk3ZWQzZjk1ODUyYSIgc3R5bGU9IndpZHRoOiAxMDAuMCU7IGhlaWdodDogMTAwLjAlOyI+UGxheWEgTWFsIFBhw61zPC9kaXY+YClbMF07CiAgICAgICAgICAgIHBvcHVwX2NiZDYwODliZjRhYTQ0M2ViMGQ0NDNkN2Y4ZjllN2ZiLnNldENvbnRlbnQoaHRtbF9hMWJmNmQwOGEyZmI0NjM1OWM0MDk3ZWQzZjk1ODUyYSk7CiAgICAgICAgCgogICAgICAgIGNpcmNsZV9tYXJrZXJfODI2MWRjZmVjMTFmNDgwMGEzNjI1NGNhYTJlYzIyOGEuYmluZFBvcHVwKHBvcHVwX2NiZDYwODliZjRhYTQ0M2ViMGQ0NDNkN2Y4ZjllN2ZiKQogICAgICAgIDsKCiAgICAgICAgCiAgICAKICAgIAogICAgICAgICAgICB2YXIgY2lyY2xlX21hcmtlcl83MGQ3OWZhNjRiYmU0NzEyOTk0NTk1Yzg3YzBhOGIxMyA9IEwuY2lyY2xlTWFya2VyKAogICAgICAgICAgICAgICAgWzEwLjA3NDc2NzMwMDAwMDAwMSwgLTg1Ljc3MTQyNzA0NjQ2OTI3XSwKICAgICAgICAgICAgICAgIHsiYnViYmxpbmdNb3VzZUV2ZW50cyI6IHRydWUsICJjb2xvciI6ICJZZWxsb3ciLCAiZGFzaEFycmF5IjogbnVsbCwgImRhc2hPZmZzZXQiOiBudWxsLCAiZmlsbCI6IHRydWUsICJmaWxsQ29sb3IiOiAiIzMxODZjYyIsICJmaWxsT3BhY2l0eSI6IDAuNiwgImZpbGxSdWxlIjogImV2ZW5vZGQiLCAibGluZUNhcCI6ICJyb3VuZCIsICJsaW5lSm9pbiI6ICJyb3VuZCIsICJvcGFjaXR5IjogMS4wLCAicmFkaXVzIjogNiwgInN0cm9rZSI6IHRydWUsICJ3ZWlnaHQiOiAzfQogICAgICAgICAgICApLmFkZFRvKG1hcF9hZjU4NzI1NTU3ZTY0OTI5ODA0ZTg1NjZmZmZkMjFlOSk7CiAgICAgICAgCiAgICAKICAgICAgICB2YXIgcG9wdXBfMjYwM2ViMDlmMjI3NGU0ZmI1NTM3ZjEzZDRkZjM2ZTYgPSBMLnBvcHVwKHsibWF4V2lkdGgiOiAiMTAwJSJ9KTsKCiAgICAgICAgCiAgICAgICAgICAgIHZhciBodG1sXzkyNGI5OWU4NTg5ZDQwMGRiMGZlN2U5NjYyYTI4ZmFiID0gJChgPGRpdiBpZD0iaHRtbF85MjRiOTllODU4OWQ0MDBkYjBmZTdlOTY2MmEyOGZhYiIgc3R5bGU9IndpZHRoOiAxMDAuMCU7IGhlaWdodDogMTAwLjAlOyI+UGxheWEgTWFyYmVsbGE8L2Rpdj5gKVswXTsKICAgICAgICAgICAgcG9wdXBfMjYwM2ViMDlmMjI3NGU0ZmI1NTM3ZjEzZDRkZjM2ZTYuc2V0Q29udGVudChodG1sXzkyNGI5OWU4NTg5ZDQwMGRiMGZlN2U5NjYyYTI4ZmFiKTsKICAgICAgICAKCiAgICAgICAgY2lyY2xlX21hcmtlcl83MGQ3OWZhNjRiYmU0NzEyOTk0NTk1Yzg3YzBhOGIxMy5iaW5kUG9wdXAocG9wdXBfMjYwM2ViMDlmMjI3NGU0ZmI1NTM3ZjEzZDRkZjM2ZTYpCiAgICAgICAgOwoKICAgICAgICAKICAgIAogICAgCiAgICAgICAgICAgIHZhciBjaXJjbGVfbWFya2VyX2QwZGZkZDI3YzdiMjRlZmJhOTkxOTMxMWJhZjNiNmIyID0gTC5jaXJjbGVNYXJrZXIoCiAgICAgICAgICAgICAgICBbOC41MTU4NDA4NSwgLTgzLjEzNjM2NzQ1MDYyNjg5XSwKICAgICAgICAgICAgICAgIHsiYnViYmxpbmdNb3VzZUV2ZW50cyI6IHRydWUsICJjb2xvciI6ICJZZWxsb3ciLCAiZGFzaEFycmF5IjogbnVsbCwgImRhc2hPZmZzZXQiOiBudWxsLCAiZmlsbCI6IHRydWUsICJmaWxsQ29sb3IiOiAiIzMxODZjYyIsICJmaWxsT3BhY2l0eSI6IDAuNiwgImZpbGxSdWxlIjogImV2ZW5vZGQiLCAibGluZUNhcCI6ICJyb3VuZCIsICJsaW5lSm9pbiI6ICJyb3VuZCIsICJvcGFjaXR5IjogMS4wLCAicmFkaXVzIjogNiwgInN0cm9rZSI6IHRydWUsICJ3ZWlnaHQiOiAzfQogICAgICAgICAgICApLmFkZFRvKG1hcF9hZjU4NzI1NTU3ZTY0OTI5ODA0ZTg1NjZmZmZkMjFlOSk7CiAgICAgICAgCiAgICAKICAgICAgICB2YXIgcG9wdXBfYTFkMmEwOTA0NGI0NGQ0NWI4OTljMjVmN2I0ZjdhNmEgPSBMLnBvcHVwKHsibWF4V2lkdGgiOiAiMTAwJSJ9KTsKCiAgICAgICAgCiAgICAgICAgICAgIHZhciBodG1sX2FjYjdiOTAwOWMzZDQ1ZGNhYmMwZmRjNTJhNjhiYzE2ID0gJChgPGRpdiBpZD0iaHRtbF9hY2I3YjkwMDljM2Q0NWRjYWJjMGZkYzUyYTY4YmMxNiIgc3R5bGU9IndpZHRoOiAxMDAuMCU7IGhlaWdodDogMTAwLjAlOyI+UGxheWEgTWFuemFuaWxsbyAoQ29zdGEgUmljYSk8L2Rpdj5gKVswXTsKICAgICAgICAgICAgcG9wdXBfYTFkMmEwOTA0NGI0NGQ0NWI4OTljMjVmN2I0ZjdhNmEuc2V0Q29udGVudChodG1sX2FjYjdiOTAwOWMzZDQ1ZGNhYmMwZmRjNTJhNjhiYzE2KTsKICAgICAgICAKCiAgICAgICAgY2lyY2xlX21hcmtlcl9kMGRmZGQyN2M3YjI0ZWZiYTk5MTkzMTFiYWYzYjZiMi5iaW5kUG9wdXAocG9wdXBfYTFkMmEwOTA0NGI0NGQ0NWI4OTljMjVmN2I0ZjdhNmEpCiAgICAgICAgOwoKICAgICAgICAKICAgIAogICAgCiAgICAgICAgICAgIHZhciBjaXJjbGVfbWFya2VyX2E3N2VjZjFmMDdiYTRlMDJiYjNjY2JjYjFkNjkwZDYxID0gTC5jaXJjbGVNYXJrZXIoCiAgICAgICAgICAgICAgICBbOC41MTU4NDA4NSwgLTgzLjEzNjM2NzQ1MDYyNjg5XSwKICAgICAgICAgICAgICAgIHsiYnViYmxpbmdNb3VzZUV2ZW50cyI6IHRydWUsICJjb2xvciI6ICJZZWxsb3ciLCAiZGFzaEFycmF5IjogbnVsbCwgImRhc2hPZmZzZXQiOiBudWxsLCAiZmlsbCI6IHRydWUsICJmaWxsQ29sb3IiOiAiIzMxODZjYyIsICJmaWxsT3BhY2l0eSI6IDAuNiwgImZpbGxSdWxlIjogImV2ZW5vZGQiLCAibGluZUNhcCI6ICJyb3VuZCIsICJsaW5lSm9pbiI6ICJyb3VuZCIsICJvcGFjaXR5IjogMS4wLCAicmFkaXVzIjogNiwgInN0cm9rZSI6IHRydWUsICJ3ZWlnaHQiOiAzfQogICAgICAgICAgICApLmFkZFRvKG1hcF9hZjU4NzI1NTU3ZTY0OTI5ODA0ZTg1NjZmZmZkMjFlOSk7CiAgICAgICAgCiAgICAKICAgICAgICB2YXIgcG9wdXBfNzA1YzZjNWM3YzZlNDg2ODg4NjRmMjM0ZjQ5MGVhZTAgPSBMLnBvcHVwKHsibWF4V2lkdGgiOiAiMTAwJSJ9KTsKCiAgICAgICAgCiAgICAgICAgICAgIHZhciBodG1sXzhkZGI1OWY5MDI2OTQzZDRiZjQ5ZGEyN2RkN2Q2MGUyID0gJChgPGRpdiBpZD0iaHRtbF84ZGRiNTlmOTAyNjk0M2Q0YmY0OWRhMjdkZDdkNjBlMiIgc3R5bGU9IndpZHRoOiAxMDAuMCU7IGhlaWdodDogMTAwLjAlOyI+UGxheWEgTmFib3M8L2Rpdj5gKVswXTsKICAgICAgICAgICAgcG9wdXBfNzA1YzZjNWM3YzZlNDg2ODg4NjRmMjM0ZjQ5MGVhZTAuc2V0Q29udGVudChodG1sXzhkZGI1OWY5MDI2OTQzZDRiZjQ5ZGEyN2RkN2Q2MGUyKTsKICAgICAgICAKCiAgICAgICAgY2lyY2xlX21hcmtlcl9hNzdlY2YxZjA3YmE0ZTAyYmIzY2NiY2IxZDY5MGQ2MS5iaW5kUG9wdXAocG9wdXBfNzA1YzZjNWM3YzZlNDg2ODg4NjRmMjM0ZjQ5MGVhZTApCiAgICAgICAgOwoKICAgICAgICAKICAgIAogICAgCiAgICAgICAgICAgIHZhciBjaXJjbGVfbWFya2VyX2ZhYTU3MjFhNThiMTQ5OTZhODE3NTQxOGUyZTViZTM4ID0gTC5jaXJjbGVNYXJrZXIoCiAgICAgICAgICAgICAgICBbMTAuNjI5MTA1ODUsIC04NS42NzUwMzYwNTYxMjUzMl0sCiAgICAgICAgICAgICAgICB7ImJ1YmJsaW5nTW91c2VFdmVudHMiOiB0cnVlLCAiY29sb3IiOiAiWWVsbG93IiwgImRhc2hBcnJheSI6IG51bGwsICJkYXNoT2Zmc2V0IjogbnVsbCwgImZpbGwiOiB0cnVlLCAiZmlsbENvbG9yIjogIiMzMTg2Y2MiLCAiZmlsbE9wYWNpdHkiOiAwLjYsICJmaWxsUnVsZSI6ICJldmVub2RkIiwgImxpbmVDYXAiOiAicm91bmQiLCAibGluZUpvaW4iOiAicm91bmQiLCAib3BhY2l0eSI6IDEuMCwgInJhZGl1cyI6IDYsICJzdHJva2UiOiB0cnVlLCAid2VpZ2h0IjogM30KICAgICAgICAgICAgKS5hZGRUbyhtYXBfYWY1ODcyNTU1N2U2NDkyOTgwNGU4NTY2ZmZmZDIxZTkpOwogICAgICAgIAogICAgCiAgICAgICAgdmFyIHBvcHVwXzA3MGQ1MDk0OGIwYzQ2OWY4ZmNhMTNlNGM0MzNjZjVjID0gTC5wb3B1cCh7Im1heFdpZHRoIjogIjEwMCUifSk7CgogICAgICAgIAogICAgICAgICAgICB2YXIgaHRtbF9hY2NiYzEwYTgyMWE0ZTQ4YmJkMTllZWMyZmY3ZjAyYyA9ICQoYDxkaXYgaWQ9Imh0bWxfYWNjYmMxMGE4MjFhNGU0OGJiZDE5ZWVjMmZmN2YwMmMiIHN0eWxlPSJ3aWR0aDogMTAwLjAlOyBoZWlnaHQ6IDEwMC4wJTsiPlBsYXlhIE5hY2FzY29sbzwvZGl2PmApWzBdOwogICAgICAgICAgICBwb3B1cF8wNzBkNTA5NDhiMGM0NjlmOGZjYTEzZTRjNDMzY2Y1Yy5zZXRDb250ZW50KGh0bWxfYWNjYmMxMGE4MjFhNGU0OGJiZDE5ZWVjMmZmN2YwMmMpOwogICAgICAgIAoKICAgICAgICBjaXJjbGVfbWFya2VyX2ZhYTU3MjFhNThiMTQ5OTZhODE3NTQxOGUyZTViZTM4LmJpbmRQb3B1cChwb3B1cF8wNzBkNTA5NDhiMGM0NjlmOGZjYTEzZTRjNDMzY2Y1YykKICAgICAgICA7CgogICAgICAgIAogICAgCiAgICAKICAgICAgICAgICAgdmFyIGNpcmNsZV9tYXJrZXJfODEwNDM4MjZmMzk2NDVlM2JjYTU5ZWE0NDZjNWZiNDkgPSBMLmNpcmNsZU1hcmtlcigKICAgICAgICAgICAgICAgIFs4LjUxNTg0MDg1LCAtODMuMTM2MzY3NDUwNjI2ODldLAogICAgICAgICAgICAgICAgeyJidWJibGluZ01vdXNlRXZlbnRzIjogdHJ1ZSwgImNvbG9yIjogIlllbGxvdyIsICJkYXNoQXJyYXkiOiBudWxsLCAiZGFzaE9mZnNldCI6IG51bGwsICJmaWxsIjogdHJ1ZSwgImZpbGxDb2xvciI6ICIjMzE4NmNjIiwgImZpbGxPcGFjaXR5IjogMC42LCAiZmlsbFJ1bGUiOiAiZXZlbm9kZCIsICJsaW5lQ2FwIjogInJvdW5kIiwgImxpbmVKb2luIjogInJvdW5kIiwgIm9wYWNpdHkiOiAxLjAsICJyYWRpdXMiOiA2LCAic3Ryb2tlIjogdHJ1ZSwgIndlaWdodCI6IDN9CiAgICAgICAgICAgICkuYWRkVG8obWFwX2FmNTg3MjU1NTdlNjQ5Mjk4MDRlODU2NmZmZmQyMWU5KTsKICAgICAgICAKICAgIAogICAgICAgIHZhciBwb3B1cF8yM2ZjNzQ1MmMyNTc0ODdkODI5YWE0MDdmOTRmODExMCA9IEwucG9wdXAoeyJtYXhXaWR0aCI6ICIxMDAlIn0pOwoKICAgICAgICAKICAgICAgICAgICAgdmFyIGh0bWxfNDE2NDlkMTAwZDBhNGUwNWEwMmMwOGMzNTBmZTBmNWEgPSAkKGA8ZGl2IGlkPSJodG1sXzQxNjQ5ZDEwMGQwYTRlMDVhMDJjMDhjMzUwZmUwZjVhIiBzdHlsZT0id2lkdGg6IDEwMC4wJTsgaGVpZ2h0OiAxMDAuMCU7Ij5QbGF5YSBOYW5jaXRlPC9kaXY+YClbMF07CiAgICAgICAgICAgIHBvcHVwXzIzZmM3NDUyYzI1NzQ4N2Q4MjlhYTQwN2Y5NGY4MTEwLnNldENvbnRlbnQoaHRtbF80MTY0OWQxMDBkMGE0ZTA1YTAyYzA4YzM1MGZlMGY1YSk7CiAgICAgICAgCgogICAgICAgIGNpcmNsZV9tYXJrZXJfODEwNDM4MjZmMzk2NDVlM2JjYTU5ZWE0NDZjNWZiNDkuYmluZFBvcHVwKHBvcHVwXzIzZmM3NDUyYzI1NzQ4N2Q4MjlhYTQwN2Y5NGY4MTEwKQogICAgICAgIDsKCiAgICAgICAgCiAgICAKICAgIAogICAgICAgICAgICB2YXIgY2lyY2xlX21hcmtlcl9kMmM2MjlkZDRjMDc0NjE0YWQ3N2QyMmUyMzI2OTFiMyA9IEwuY2lyY2xlTWFya2VyKAogICAgICAgICAgICAgICAgWzEwLjc3OTI5ODksIC04NS42NjY0OTMxXSwKICAgICAgICAgICAgICAgIHsiYnViYmxpbmdNb3VzZUV2ZW50cyI6IHRydWUsICJjb2xvciI6ICJZZWxsb3ciLCAiZGFzaEFycmF5IjogbnVsbCwgImRhc2hPZmZzZXQiOiBudWxsLCAiZmlsbCI6IHRydWUsICJmaWxsQ29sb3IiOiAiIzMxODZjYyIsICJmaWxsT3BhY2l0eSI6IDAuNiwgImZpbGxSdWxlIjogImV2ZW5vZGQiLCAibGluZUNhcCI6ICJyb3VuZCIsICJsaW5lSm9pbiI6ICJyb3VuZCIsICJvcGFjaXR5IjogMS4wLCAicmFkaXVzIjogNiwgInN0cm9rZSI6IHRydWUsICJ3ZWlnaHQiOiAzfQogICAgICAgICAgICApLmFkZFRvKG1hcF9hZjU4NzI1NTU3ZTY0OTI5ODA0ZTg1NjZmZmZkMjFlOSk7CiAgICAgICAgCiAgICAKICAgICAgICB2YXIgcG9wdXBfZGIwNWE2NTQ2YjBhNDY3OGI1MjU4YTg0MDM4ODAzMzQgPSBMLnBvcHVwKHsibWF4V2lkdGgiOiAiMTAwJSJ9KTsKCiAgICAgICAgCiAgICAgICAgICAgIHZhciBodG1sX2UyZWNiNTU0YWZkNDQ1MTFhMjUwYmJhNGEwNzIyZDNjID0gJChgPGRpdiBpZD0iaHRtbF9lMmVjYjU1NGFmZDQ0NTExYTI1MGJiYTRhMDcyMmQzYyIgc3R5bGU9IndpZHRoOiAxMDAuMCU7IGhlaWdodDogMTAwLjAlOyI+UGxheWEgTmFyYW5qbzwvZGl2PmApWzBdOwogICAgICAgICAgICBwb3B1cF9kYjA1YTY1NDZiMGE0Njc4YjUyNThhODQwMzg4MDMzNC5zZXRDb250ZW50KGh0bWxfZTJlY2I1NTRhZmQ0NDUxMWEyNTBiYmE0YTA3MjJkM2MpOwogICAgICAgIAoKICAgICAgICBjaXJjbGVfbWFya2VyX2QyYzYyOWRkNGMwNzQ2MTRhZDc3ZDIyZTIzMjY5MWIzLmJpbmRQb3B1cChwb3B1cF9kYjA1YTY1NDZiMGE0Njc4YjUyNThhODQwMzg4MDMzNCkKICAgICAgICA7CgogICAgICAgIAogICAgCiAgICAKICAgICAgICAgICAgdmFyIGNpcmNsZV9tYXJrZXJfNDEyNWI0YjQxYzU2NGRlY2IwNTE1YjBlZmU4M2I1YmIgPSBMLmNpcmNsZU1hcmtlcigKICAgICAgICAgICAgICAgIFsxMC4xOTQ1NjI5OTk5OTk5OTksIC04NS44MzAxNDczMDQxMzA0Nl0sCiAgICAgICAgICAgICAgICB7ImJ1YmJsaW5nTW91c2VFdmVudHMiOiB0cnVlLCAiY29sb3IiOiAiWWVsbG93IiwgImRhc2hBcnJheSI6IG51bGwsICJkYXNoT2Zmc2V0IjogbnVsbCwgImZpbGwiOiB0cnVlLCAiZmlsbENvbG9yIjogIiMzMTg2Y2MiLCAiZmlsbE9wYWNpdHkiOiAwLjYsICJmaWxsUnVsZSI6ICJldmVub2RkIiwgImxpbmVDYXAiOiAicm91bmQiLCAibGluZUpvaW4iOiAicm91bmQiLCAib3BhY2l0eSI6IDEuMCwgInJhZGl1cyI6IDYsICJzdHJva2UiOiB0cnVlLCAid2VpZ2h0IjogM30KICAgICAgICAgICAgKS5hZGRUbyhtYXBfYWY1ODcyNTU1N2U2NDkyOTgwNGU4NTY2ZmZmZDIxZTkpOwogICAgICAgIAogICAgCiAgICAgICAgdmFyIHBvcHVwXzVjY2Q4MGJiM2ExMTQ1ZDM4YTEwZTMxMzRjYmI5OTRkID0gTC5wb3B1cCh7Im1heFdpZHRoIjogIjEwMCUifSk7CgogICAgICAgIAogICAgICAgICAgICB2YXIgaHRtbF80OTczMGQ4ZjEyYmY0ZDIyYmE0MjZiYWQwN2VlMzY1YSA9ICQoYDxkaXYgaWQ9Imh0bWxfNDk3MzBkOGYxMmJmNGQyMmJhNDI2YmFkMDdlZTM2NWEiIHN0eWxlPSJ3aWR0aDogMTAwLjAlOyBoZWlnaHQ6IDEwMC4wJTsiPlBsYXlhIE5lZ3JhPC9kaXY+YClbMF07CiAgICAgICAgICAgIHBvcHVwXzVjY2Q4MGJiM2ExMTQ1ZDM4YTEwZTMxMzRjYmI5OTRkLnNldENvbnRlbnQoaHRtbF80OTczMGQ4ZjEyYmY0ZDIyYmE0MjZiYWQwN2VlMzY1YSk7CiAgICAgICAgCgogICAgICAgIGNpcmNsZV9tYXJrZXJfNDEyNWI0YjQxYzU2NGRlY2IwNTE1YjBlZmU4M2I1YmIuYmluZFBvcHVwKHBvcHVwXzVjY2Q4MGJiM2ExMTQ1ZDM4YTEwZTMxMzRjYmI5OTRkKQogICAgICAgIDsKCiAgICAgICAgCiAgICAKICAgIAogICAgICAgICAgICB2YXIgY2lyY2xlX21hcmtlcl81YTk1ZWZiZjNmMTU0MzNjYjQzMDA0OWJkODFmOTQzYiA9IEwuY2lyY2xlTWFya2VyKAogICAgICAgICAgICAgICAgWzkuOTc3NjIwOTUsIC04NS42ODgyOTI5MDAxODY1XSwKICAgICAgICAgICAgICAgIHsiYnViYmxpbmdNb3VzZUV2ZW50cyI6IHRydWUsICJjb2xvciI6ICJZZWxsb3ciLCAiZGFzaEFycmF5IjogbnVsbCwgImRhc2hPZmZzZXQiOiBudWxsLCAiZmlsbCI6IHRydWUsICJmaWxsQ29sb3IiOiAiIzMxODZjYyIsICJmaWxsT3BhY2l0eSI6IDAuNiwgImZpbGxSdWxlIjogImV2ZW5vZGQiLCAibGluZUNhcCI6ICJyb3VuZCIsICJsaW5lSm9pbiI6ICJyb3VuZCIsICJvcGFjaXR5IjogMS4wLCAicmFkaXVzIjogNiwgInN0cm9rZSI6IHRydWUsICJ3ZWlnaHQiOiAzfQogICAgICAgICAgICApLmFkZFRvKG1hcF9hZjU4NzI1NTU3ZTY0OTI5ODA0ZTg1NjZmZmZkMjFlOSk7CiAgICAgICAgCiAgICAKICAgICAgICB2YXIgcG9wdXBfN2IwZWI2MDU4ZGVlNGRlZGFiMThhODJiNTI5MDU3YmQgPSBMLnBvcHVwKHsibWF4V2lkdGgiOiAiMTAwJSJ9KTsKCiAgICAgICAgCiAgICAgICAgICAgIHZhciBodG1sX2MxNTRlM2I1YzBkNjRlYzZhMDQ0YzA4ODI2OGJjNDJjID0gJChgPGRpdiBpZD0iaHRtbF9jMTU0ZTNiNWMwZDY0ZWM2YTA0NGMwODgyNjhiYzQyYyIgc3R5bGU9IndpZHRoOiAxMDAuMCU7IGhlaWdodDogMTAwLjAlOyI+UGxheWEgTm9zYXJhPC9kaXY+YClbMF07CiAgICAgICAgICAgIHBvcHVwXzdiMGViNjA1OGRlZTRkZWRhYjE4YTgyYjUyOTA1N2JkLnNldENvbnRlbnQoaHRtbF9jMTU0ZTNiNWMwZDY0ZWM2YTA0NGMwODgyNjhiYzQyYyk7CiAgICAgICAgCgogICAgICAgIGNpcmNsZV9tYXJrZXJfNWE5NWVmYmYzZjE1NDMzY2I0MzAwNDliZDgxZjk0M2IuYmluZFBvcHVwKHBvcHVwXzdiMGViNjA1OGRlZTRkZWRhYjE4YTgyYjUyOTA1N2JkKQogICAgICAgIDsKCiAgICAgICAgCiAgICAKICAgIAogICAgICAgICAgICB2YXIgY2lyY2xlX21hcmtlcl81MjE5NzdmNzViMzE0MmVjYWE2MzliZmNkMWZjZWY3MSA9IEwuY2lyY2xlTWFya2VyKAogICAgICAgICAgICAgICAgWzguNTE1ODQwODUsIC04My4xMzYzNjc0NTA2MjY4OV0sCiAgICAgICAgICAgICAgICB7ImJ1YmJsaW5nTW91c2VFdmVudHMiOiB0cnVlLCAiY29sb3IiOiAiWWVsbG93IiwgImRhc2hBcnJheSI6IG51bGwsICJkYXNoT2Zmc2V0IjogbnVsbCwgImZpbGwiOiB0cnVlLCAiZmlsbENvbG9yIjogIiMzMTg2Y2MiLCAiZmlsbE9wYWNpdHkiOiAwLjYsICJmaWxsUnVsZSI6ICJldmVub2RkIiwgImxpbmVDYXAiOiAicm91bmQiLCAibGluZUpvaW4iOiAicm91bmQiLCAib3BhY2l0eSI6IDEuMCwgInJhZGl1cyI6IDYsICJzdHJva2UiOiB0cnVlLCAid2VpZ2h0IjogM30KICAgICAgICAgICAgKS5hZGRUbyhtYXBfYWY1ODcyNTU1N2U2NDkyOTgwNGU4NTY2ZmZmZDIxZTkpOwogICAgICAgIAogICAgCiAgICAgICAgdmFyIHBvcHVwXzQ5NDllNzU5MGQ4OTQ1MDFhMTA1MmU3YjBmOTRmNDlkID0gTC5wb3B1cCh7Im1heFdpZHRoIjogIjEwMCUifSk7CgogICAgICAgIAogICAgICAgICAgICB2YXIgaHRtbF8xYmIxZWQ1NjA1ZTI0ODllYjNkN2Q5ZjVhNmIwM2ZkMSA9ICQoYDxkaXYgaWQ9Imh0bWxfMWJiMWVkNTYwNWUyNDg5ZWIzZDdkOWY1YTZiMDNmZDEiIHN0eWxlPSJ3aWR0aDogMTAwLjAlOyBoZWlnaHQ6IDEwMC4wJTsiPlBsYXlhIE51YmVzPC9kaXY+YClbMF07CiAgICAgICAgICAgIHBvcHVwXzQ5NDllNzU5MGQ4OTQ1MDFhMTA1MmU3YjBmOTRmNDlkLnNldENvbnRlbnQoaHRtbF8xYmIxZWQ1NjA1ZTI0ODllYjNkN2Q5ZjVhNmIwM2ZkMSk7CiAgICAgICAgCgogICAgICAgIGNpcmNsZV9tYXJrZXJfNTIxOTc3Zjc1YjMxNDJlY2FhNjM5YmZjZDFmY2VmNzEuYmluZFBvcHVwKHBvcHVwXzQ5NDllNzU5MGQ4OTQ1MDFhMTA1MmU3YjBmOTRmNDlkKQogICAgICAgIDsKCiAgICAgICAgCiAgICAKICAgIAogICAgICAgICAgICB2YXIgY2lyY2xlX21hcmtlcl85ZDg1NzhlNmEwYmU0Y2EyYTczY2NmODFhNzliODZlZCA9IEwuY2lyY2xlTWFya2VyKAogICAgICAgICAgICAgICAgWzEwLjU0NjE2LCAtODUuNzIyNDVdLAogICAgICAgICAgICAgICAgeyJidWJibGluZ01vdXNlRXZlbnRzIjogdHJ1ZSwgImNvbG9yIjogIlllbGxvdyIsICJkYXNoQXJyYXkiOiBudWxsLCAiZGFzaE9mZnNldCI6IG51bGwsICJmaWxsIjogdHJ1ZSwgImZpbGxDb2xvciI6ICIjMzE4NmNjIiwgImZpbGxPcGFjaXR5IjogMC42LCAiZmlsbFJ1bGUiOiAiZXZlbm9kZCIsICJsaW5lQ2FwIjogInJvdW5kIiwgImxpbmVKb2luIjogInJvdW5kIiwgIm9wYWNpdHkiOiAxLjAsICJyYWRpdXMiOiA2LCAic3Ryb2tlIjogdHJ1ZSwgIndlaWdodCI6IDN9CiAgICAgICAgICAgICkuYWRkVG8obWFwX2FmNTg3MjU1NTdlNjQ5Mjk4MDRlODU2NmZmZmQyMWU5KTsKICAgICAgICAKICAgIAogICAgICAgIHZhciBwb3B1cF8wODNhYjJhZjgyN2U0NWZkOWVlNWNkZDIzMGQzN2U4MiA9IEwucG9wdXAoeyJtYXhXaWR0aCI6ICIxMDAlIn0pOwoKICAgICAgICAKICAgICAgICAgICAgdmFyIGh0bWxfNDVkMDU5NmY0NjIzNGMyYzljZjAxNGZmMjllMWRmZmMgPSAkKGA8ZGl2IGlkPSJodG1sXzQ1ZDA1OTZmNDYyMzRjMmM5Y2YwMTRmZjI5ZTFkZmZjIiBzdHlsZT0id2lkdGg6IDEwMC4wJTsgaGVpZ2h0OiAxMDAuMCU7Ij5QbGF5YSBPY290YWw8L2Rpdj5gKVswXTsKICAgICAgICAgICAgcG9wdXBfMDgzYWIyYWY4MjdlNDVmZDllZTVjZGQyMzBkMzdlODIuc2V0Q29udGVudChodG1sXzQ1ZDA1OTZmNDYyMzRjMmM5Y2YwMTRmZjI5ZTFkZmZjKTsKICAgICAgICAKCiAgICAgICAgY2lyY2xlX21hcmtlcl85ZDg1NzhlNmEwYmU0Y2EyYTczY2NmODFhNzliODZlZC5iaW5kUG9wdXAocG9wdXBfMDgzYWIyYWY4MjdlNDVmZDllZTVjZGQyMzBkMzdlODIpCiAgICAgICAgOwoKICAgICAgICAKICAgIAogICAgCiAgICAgICAgICAgIHZhciBjaXJjbGVfbWFya2VyX2NkYmIxZWViMjk4ZjQxY2Y4NjRlNzliMmNjYmFmMWMxID0gTC5jaXJjbGVNYXJrZXIoCiAgICAgICAgICAgICAgICBbMTAuMDAzMDgzMywgLTg1LjcxMDg4Nzg0NDgwNzEyXSwKICAgICAgICAgICAgICAgIHsiYnViYmxpbmdNb3VzZUV2ZW50cyI6IHRydWUsICJjb2xvciI6ICJZZWxsb3ciLCAiZGFzaEFycmF5IjogbnVsbCwgImRhc2hPZmZzZXQiOiBudWxsLCAiZmlsbCI6IHRydWUsICJmaWxsQ29sb3IiOiAiIzMxODZjYyIsICJmaWxsT3BhY2l0eSI6IDAuNiwgImZpbGxSdWxlIjogImV2ZW5vZGQiLCAibGluZUNhcCI6ICJyb3VuZCIsICJsaW5lSm9pbiI6ICJyb3VuZCIsICJvcGFjaXR5IjogMS4wLCAicmFkaXVzIjogNiwgInN0cm9rZSI6IHRydWUsICJ3ZWlnaHQiOiAzfQogICAgICAgICAgICApLmFkZFRvKG1hcF9hZjU4NzI1NTU3ZTY0OTI5ODA0ZTg1NjZmZmZkMjFlOSk7CiAgICAgICAgCiAgICAKICAgICAgICB2YXIgcG9wdXBfNzdjM2QwNzRmMTJmNDFjZWFmNDU2MDBiZjE2ZjVmNGUgPSBMLnBvcHVwKHsibWF4V2lkdGgiOiAiMTAwJSJ9KTsKCiAgICAgICAgCiAgICAgICAgICAgIHZhciBodG1sX2E0MjAzNzgzYzc1MTQ2ZTViMmRlMmNjYmVlNzI5ZDNjID0gJChgPGRpdiBpZD0iaHRtbF9hNDIwMzc4M2M3NTE0NmU1YjJkZTJjY2JlZTcyOWQzYyIgc3R5bGU9IndpZHRoOiAxMDAuMCU7IGhlaWdodDogMTAwLjAlOyI+UGxheWEgT3N0aW9uYWw8L2Rpdj5gKVswXTsKICAgICAgICAgICAgcG9wdXBfNzdjM2QwNzRmMTJmNDFjZWFmNDU2MDBiZjE2ZjVmNGUuc2V0Q29udGVudChodG1sX2E0MjAzNzgzYzc1MTQ2ZTViMmRlMmNjYmVlNzI5ZDNjKTsKICAgICAgICAKCiAgICAgICAgY2lyY2xlX21hcmtlcl9jZGJiMWVlYjI5OGY0MWNmODY0ZTc5YjJjY2JhZjFjMS5iaW5kUG9wdXAocG9wdXBfNzdjM2QwNzRmMTJmNDFjZWFmNDU2MDBiZjE2ZjVmNGUpCiAgICAgICAgOwoKICAgICAgICAKICAgIAogICAgCiAgICAgICAgICAgIHZhciBjaXJjbGVfbWFya2VyX2JjYTJmYTEzMzYzMzRlMTg5YzVkYmQ2Y2I4OTU3OGZlID0gTC5jaXJjbGVNYXJrZXIoCiAgICAgICAgICAgICAgICBbMTAuNDc2NzUzMiwgLTg1Ljc4MDY1NDFdLAogICAgICAgICAgICAgICAgeyJidWJibGluZ01vdXNlRXZlbnRzIjogdHJ1ZSwgImNvbG9yIjogIlllbGxvdyIsICJkYXNoQXJyYXkiOiBudWxsLCAiZGFzaE9mZnNldCI6IG51bGwsICJmaWxsIjogdHJ1ZSwgImZpbGxDb2xvciI6ICIjMzE4NmNjIiwgImZpbGxPcGFjaXR5IjogMC42LCAiZmlsbFJ1bGUiOiAiZXZlbm9kZCIsICJsaW5lQ2FwIjogInJvdW5kIiwgImxpbmVKb2luIjogInJvdW5kIiwgIm9wYWNpdHkiOiAxLjAsICJyYWRpdXMiOiA2LCAic3Ryb2tlIjogdHJ1ZSwgIndlaWdodCI6IDN9CiAgICAgICAgICAgICkuYWRkVG8obWFwX2FmNTg3MjU1NTdlNjQ5Mjk4MDRlODU2NmZmZmQyMWU5KTsKICAgICAgICAKICAgIAogICAgICAgIHZhciBwb3B1cF9lMTUzMzBlOGU2Zjk0NjNlOWQ4M2I1ODY3N2Q0ZTI3YiA9IEwucG9wdXAoeyJtYXhXaWR0aCI6ICIxMDAlIn0pOwoKICAgICAgICAKICAgICAgICAgICAgdmFyIGh0bWxfZjcyZGE1OWYzYWM4NDI0YzkxZGU3NGQzMmJhMTE0MzUgPSAkKGA8ZGl2IGlkPSJodG1sX2Y3MmRhNTlmM2FjODQyNGM5MWRlNzRkMzJiYTExNDM1IiBzdHlsZT0id2lkdGg6IDEwMC4wJTsgaGVpZ2h0OiAxMDAuMCU7Ij5QbGF5YSBQYW4gZGUgQXrDumNhcjwvZGl2PmApWzBdOwogICAgICAgICAgICBwb3B1cF9lMTUzMzBlOGU2Zjk0NjNlOWQ4M2I1ODY3N2Q0ZTI3Yi5zZXRDb250ZW50KGh0bWxfZjcyZGE1OWYzYWM4NDI0YzkxZGU3NGQzMmJhMTE0MzUpOwogICAgICAgIAoKICAgICAgICBjaXJjbGVfbWFya2VyX2JjYTJmYTEzMzYzMzRlMTg5YzVkYmQ2Y2I4OTU3OGZlLmJpbmRQb3B1cChwb3B1cF9lMTUzMzBlOGU2Zjk0NjNlOWQ4M2I1ODY3N2Q0ZTI3YikKICAgICAgICA7CgogICAgICAgIAogICAgCiAgICAKICAgICAgICAgICAgdmFyIGNpcmNsZV9tYXJrZXJfZTUwYTdmNzRhMDJjNDU2MWEwMjdlM2M4NGVlNzJkNzUgPSBMLmNpcmNsZU1hcmtlcigKICAgICAgICAgICAgICAgIFs4LjUxNTg0MDg1LCAtODMuMTM2MzY3NDUwNjI2ODldLAogICAgICAgICAgICAgICAgeyJidWJibGluZ01vdXNlRXZlbnRzIjogdHJ1ZSwgImNvbG9yIjogIlllbGxvdyIsICJkYXNoQXJyYXkiOiBudWxsLCAiZGFzaE9mZnNldCI6IG51bGwsICJmaWxsIjogdHJ1ZSwgImZpbGxDb2xvciI6ICIjMzE4NmNjIiwgImZpbGxPcGFjaXR5IjogMC42LCAiZmlsbFJ1bGUiOiAiZXZlbm9kZCIsICJsaW5lQ2FwIjogInJvdW5kIiwgImxpbmVKb2luIjogInJvdW5kIiwgIm9wYWNpdHkiOiAxLjAsICJyYWRpdXMiOiA2LCAic3Ryb2tlIjogdHJ1ZSwgIndlaWdodCI6IDN9CiAgICAgICAgICAgICkuYWRkVG8obWFwX2FmNTg3MjU1NTdlNjQ5Mjk4MDRlODU2NmZmZmQyMWU5KTsKICAgICAgICAKICAgIAogICAgICAgIHZhciBwb3B1cF9iZmJjNTJiNzA5NzM0MTY1YmJhNDQ0NTc4NWZhNWJlMyA9IEwucG9wdXAoeyJtYXhXaWR0aCI6ICIxMDAlIn0pOwoKICAgICAgICAKICAgICAgICAgICAgdmFyIGh0bWxfOGE1NTg4MTg2MDY3NDQ4OGIxODFjZmE5ZjA1Yjg0MTEgPSAkKGA8ZGl2IGlkPSJodG1sXzhhNTU4ODE4NjA2NzQ0ODhiMTgxY2ZhOWYwNWI4NDExIiBzdHlsZT0id2lkdGg6IDEwMC4wJTsgaGVpZ2h0OiAxMDAuMCU7Ij5QbGF5YSBQYW5hbcOhIChDaHJvcm90ZWdhKTwvZGl2PmApWzBdOwogICAgICAgICAgICBwb3B1cF9iZmJjNTJiNzA5NzM0MTY1YmJhNDQ0NTc4NWZhNWJlMy5zZXRDb250ZW50KGh0bWxfOGE1NTg4MTg2MDY3NDQ4OGIxODFjZmE5ZjA1Yjg0MTEpOwogICAgICAgIAoKICAgICAgICBjaXJjbGVfbWFya2VyX2U1MGE3Zjc0YTAyYzQ1NjFhMDI3ZTNjODRlZTcyZDc1LmJpbmRQb3B1cChwb3B1cF9iZmJjNTJiNzA5NzM0MTY1YmJhNDQ0NTc4NWZhNWJlMykKICAgICAgICA7CgogICAgICAgIAogICAgCiAgICAKICAgICAgICAgICAgdmFyIGNpcmNsZV9tYXJrZXJfZTkzMjE0N2RjZGQ0NGNjNWI4NjUxNTYyYjAxZTEwOTYgPSBMLmNpcmNsZU1hcmtlcigKICAgICAgICAgICAgICAgIFs5Ljk1NDY3OTk1LCAtODUuNjc1MTc1NDg4NDgyNTJdLAogICAgICAgICAgICAgICAgeyJidWJibGluZ01vdXNlRXZlbnRzIjogdHJ1ZSwgImNvbG9yIjogIlllbGxvdyIsICJkYXNoQXJyYXkiOiBudWxsLCAiZGFzaE9mZnNldCI6IG51bGwsICJmaWxsIjogdHJ1ZSwgImZpbGxDb2xvciI6ICIjMzE4NmNjIiwgImZpbGxPcGFjaXR5IjogMC42LCAiZmlsbFJ1bGUiOiAiZXZlbm9kZCIsICJsaW5lQ2FwIjogInJvdW5kIiwgImxpbmVKb2luIjogInJvdW5kIiwgIm9wYWNpdHkiOiAxLjAsICJyYWRpdXMiOiA2LCAic3Ryb2tlIjogdHJ1ZSwgIndlaWdodCI6IDN9CiAgICAgICAgICAgICkuYWRkVG8obWFwX2FmNTg3MjU1NTdlNjQ5Mjk4MDRlODU2NmZmZmQyMWU5KTsKICAgICAgICAKICAgIAogICAgICAgIHZhciBwb3B1cF8wYmZmNjg0YzhlZmY0ZGVmODYwMmU3YjU1NThhNmVhYiA9IEwucG9wdXAoeyJtYXhXaWR0aCI6ICIxMDAlIn0pOwoKICAgICAgICAKICAgICAgICAgICAgdmFyIGh0bWxfMWU1MWEzYTg0NmFkNDA2NThiMDBjMTZmMTU0ZGJkYjggPSAkKGA8ZGl2IGlkPSJodG1sXzFlNTFhM2E4NDZhZDQwNjU4YjAwYzE2ZjE1NGRiZGI4IiBzdHlsZT0id2lkdGg6IDEwMC4wJTsgaGVpZ2h0OiAxMDAuMCU7Ij5QbGF5YSBQZWxhZGE8L2Rpdj5gKVswXTsKICAgICAgICAgICAgcG9wdXBfMGJmZjY4NGM4ZWZmNGRlZjg2MDJlN2I1NTU4YTZlYWIuc2V0Q29udGVudChodG1sXzFlNTFhM2E4NDZhZDQwNjU4YjAwYzE2ZjE1NGRiZGI4KTsKICAgICAgICAKCiAgICAgICAgY2lyY2xlX21hcmtlcl9lOTMyMTQ3ZGNkZDQ0Y2M1Yjg2NTE1NjJiMDFlMTA5Ni5iaW5kUG9wdXAocG9wdXBfMGJmZjY4NGM4ZWZmNGRlZjg2MDJlN2I1NTU4YTZlYWIpCiAgICAgICAgOwoKICAgICAgICAKICAgIAogICAgCiAgICAgICAgICAgIHZhciBjaXJjbGVfbWFya2VyXzNmYjIyNmIyMWUxYzQ0M2Q4MmVlNzNhYWNlNjg1YzlmID0gTC5jaXJjbGVNYXJrZXIoCiAgICAgICAgICAgICAgICBbOC41MTU4NDA4NSwgLTgzLjEzNjM2NzQ1MDYyNjg5XSwKICAgICAgICAgICAgICAgIHsiYnViYmxpbmdNb3VzZUV2ZW50cyI6IHRydWUsICJjb2xvciI6ICJZZWxsb3ciLCAiZGFzaEFycmF5IjogbnVsbCwgImRhc2hPZmZzZXQiOiBudWxsLCAiZmlsbCI6IHRydWUsICJmaWxsQ29sb3IiOiAiIzMxODZjYyIsICJmaWxsT3BhY2l0eSI6IDAuNiwgImZpbGxSdWxlIjogImV2ZW5vZGQiLCAibGluZUNhcCI6ICJyb3VuZCIsICJsaW5lSm9pbiI6ICJyb3VuZCIsICJvcGFjaXR5IjogMS4wLCAicmFkaXVzIjogNiwgInN0cm9rZSI6IHRydWUsICJ3ZWlnaHQiOiAzfQogICAgICAgICAgICApLmFkZFRvKG1hcF9hZjU4NzI1NTU3ZTY0OTI5ODA0ZTg1NjZmZmZkMjFlOSk7CiAgICAgICAgCiAgICAKICAgICAgICB2YXIgcG9wdXBfZjllYzc3MmFmMzYxNDNjZmI4OTFkOGYyMzdhYTBhZDYgPSBMLnBvcHVwKHsibWF4V2lkdGgiOiAiMTAwJSJ9KTsKCiAgICAgICAgCiAgICAgICAgICAgIHZhciBodG1sXzQ0MjBiYjM2Nzg0NDQwNGE5NmE5MGUyNTRiMWIzOTQ0ID0gJChgPGRpdiBpZD0iaHRtbF80NDIwYmIzNjc4NDQ0MDRhOTZhOTBlMjU0YjFiMzk0NCIgc3R5bGU9IndpZHRoOiAxMDAuMCU7IGhlaWdodDogMTAwLjAlOyI+UGxheWEgUGlldHJhPC9kaXY+YClbMF07CiAgICAgICAgICAgIHBvcHVwX2Y5ZWM3NzJhZjM2MTQzY2ZiODkxZDhmMjM3YWEwYWQ2LnNldENvbnRlbnQoaHRtbF80NDIwYmIzNjc4NDQ0MDRhOTZhOTBlMjU0YjFiMzk0NCk7CiAgICAgICAgCgogICAgICAgIGNpcmNsZV9tYXJrZXJfM2ZiMjI2YjIxZTFjNDQzZDgyZWU3M2FhY2U2ODVjOWYuYmluZFBvcHVwKHBvcHVwX2Y5ZWM3NzJhZjM2MTQzY2ZiODkxZDhmMjM3YWEwYWQ2KQogICAgICAgIDsKCiAgICAgICAgCiAgICAKICAgIAogICAgICAgICAgICB2YXIgY2lyY2xlX21hcmtlcl9hYWE2MjAwY2EwOWE0MjAyYjBmYjA1NWQyNjEzMTYyMSA9IEwuY2lyY2xlTWFya2VyKAogICAgICAgICAgICAgICAgWzEwLjA2NzQzMjQwMDAwMDAwMSwgLTg1Ljc2NjU0MDczMTEyODQzXSwKICAgICAgICAgICAgICAgIHsiYnViYmxpbmdNb3VzZUV2ZW50cyI6IHRydWUsICJjb2xvciI6ICJZZWxsb3ciLCAiZGFzaEFycmF5IjogbnVsbCwgImRhc2hPZmZzZXQiOiBudWxsLCAiZmlsbCI6IHRydWUsICJmaWxsQ29sb3IiOiAiIzMxODZjYyIsICJmaWxsT3BhY2l0eSI6IDAuNiwgImZpbGxSdWxlIjogImV2ZW5vZGQiLCAibGluZUNhcCI6ICJyb3VuZCIsICJsaW5lSm9pbiI6ICJyb3VuZCIsICJvcGFjaXR5IjogMS4wLCAicmFkaXVzIjogNiwgInN0cm9rZSI6IHRydWUsICJ3ZWlnaHQiOiAzfQogICAgICAgICAgICApLmFkZFRvKG1hcF9hZjU4NzI1NTU3ZTY0OTI5ODA0ZTg1NjZmZmZkMjFlOSk7CiAgICAgICAgCiAgICAKICAgICAgICB2YXIgcG9wdXBfMGM0NjgzOWQ5Zjc2NDU0ZmIyMzc3ZTA2MTUwNTAzNzUgPSBMLnBvcHVwKHsibWF4V2lkdGgiOiAiMTAwJSJ9KTsKCiAgICAgICAgCiAgICAgICAgICAgIHZhciBodG1sX2Q4NGQwMTk4MTk2ODQ1ZjlhYzQxNzZmM2YwNWRlYjE0ID0gJChgPGRpdiBpZD0iaHRtbF9kODRkMDE5ODE5Njg0NWY5YWM0MTc2ZjNmMDVkZWIxNCIgc3R5bGU9IndpZHRoOiAxMDAuMCU7IGhlaWdodDogMTAwLjAlOyI+UGxheWEgUGl0YWhheWE8L2Rpdj5gKVswXTsKICAgICAgICAgICAgcG9wdXBfMGM0NjgzOWQ5Zjc2NDU0ZmIyMzc3ZTA2MTUwNTAzNzUuc2V0Q29udGVudChodG1sX2Q4NGQwMTk4MTk2ODQ1ZjlhYzQxNzZmM2YwNWRlYjE0KTsKICAgICAgICAKCiAgICAgICAgY2lyY2xlX21hcmtlcl9hYWE2MjAwY2EwOWE0MjAyYjBmYjA1NWQyNjEzMTYyMS5iaW5kUG9wdXAocG9wdXBfMGM0NjgzOWQ5Zjc2NDU0ZmIyMzc3ZTA2MTUwNTAzNzUpCiAgICAgICAgOwoKICAgICAgICAKICAgIAogICAgCiAgICAgICAgICAgIHZhciBjaXJjbGVfbWFya2VyXzE1YWZlMzA5NzczNzQzM2JiYWFjODgzNWZiMDA5MDM2ID0gTC5jaXJjbGVNYXJrZXIoCiAgICAgICAgICAgICAgICBbMTAuMDM1NzQ3OSwgLTg1Ljc0MzAwMzEyNTMxMjIxXSwKICAgICAgICAgICAgICAgIHsiYnViYmxpbmdNb3VzZUV2ZW50cyI6IHRydWUsICJjb2xvciI6ICJZZWxsb3ciLCAiZGFzaEFycmF5IjogbnVsbCwgImRhc2hPZmZzZXQiOiBudWxsLCAiZmlsbCI6IHRydWUsICJmaWxsQ29sb3IiOiAiIzMxODZjYyIsICJmaWxsT3BhY2l0eSI6IDAuNiwgImZpbGxSdWxlIjogImV2ZW5vZGQiLCAibGluZUNhcCI6ICJyb3VuZCIsICJsaW5lSm9pbiI6ICJyb3VuZCIsICJvcGFjaXR5IjogMS4wLCAicmFkaXVzIjogNiwgInN0cm9rZSI6IHRydWUsICJ3ZWlnaHQiOiAzfQogICAgICAgICAgICApLmFkZFRvKG1hcF9hZjU4NzI1NTU3ZTY0OTI5ODA0ZTg1NjZmZmZkMjFlOSk7CiAgICAgICAgCiAgICAKICAgICAgICB2YXIgcG9wdXBfMzdkY2EyYTQzNmRhNGQ5ZTliYTExOTQwYjc1ZDM2MWQgPSBMLnBvcHVwKHsibWF4V2lkdGgiOiAiMTAwJSJ9KTsKCiAgICAgICAgCiAgICAgICAgICAgIHZhciBodG1sXzA1YzVjZjliMjUwMzQ0MzdiMDQyZTNiZWZiYmQyNzJjID0gJChgPGRpdiBpZD0iaHRtbF8wNWM1Y2Y5YjI1MDM0NDM3YjA0MmUzYmVmYmJkMjcyYyIgc3R5bGU9IndpZHRoOiAxMDAuMCU7IGhlaWdodDogMTAwLjAlOyI+UGxheWEgUGxlaXRvIHkgU2FuIEp1YW5pbGxvPC9kaXY+YClbMF07CiAgICAgICAgICAgIHBvcHVwXzM3ZGNhMmE0MzZkYTRkOWU5YmExMTk0MGI3NWQzNjFkLnNldENvbnRlbnQoaHRtbF8wNWM1Y2Y5YjI1MDM0NDM3YjA0MmUzYmVmYmJkMjcyYyk7CiAgICAgICAgCgogICAgICAgIGNpcmNsZV9tYXJrZXJfMTVhZmUzMDk3NzM3NDMzYmJhYWM4ODM1ZmIwMDkwMzYuYmluZFBvcHVwKHBvcHVwXzM3ZGNhMmE0MzZkYTRkOWU5YmExMTk0MGI3NWQzNjFkKQogICAgICAgIDsKCiAgICAgICAgCiAgICAKICAgIAogICAgICAgICAgICB2YXIgY2lyY2xlX21hcmtlcl8zOGYyMWQyMDJjODA0ZjViOWVmYjljOTMwM2E5ZGZmNSA9IEwuY2lyY2xlTWFya2VyKAogICAgICAgICAgICAgICAgWzguNTE1ODQwODUsIC04My4xMzYzNjc0NTA2MjY4OV0sCiAgICAgICAgICAgICAgICB7ImJ1YmJsaW5nTW91c2VFdmVudHMiOiB0cnVlLCAiY29sb3IiOiAiWWVsbG93IiwgImRhc2hBcnJheSI6IG51bGwsICJkYXNoT2Zmc2V0IjogbnVsbCwgImZpbGwiOiB0cnVlLCAiZmlsbENvbG9yIjogIiMzMTg2Y2MiLCAiZmlsbE9wYWNpdHkiOiAwLjYsICJmaWxsUnVsZSI6ICJldmVub2RkIiwgImxpbmVDYXAiOiAicm91bmQiLCAibGluZUpvaW4iOiAicm91bmQiLCAib3BhY2l0eSI6IDEuMCwgInJhZGl1cyI6IDYsICJzdHJva2UiOiB0cnVlLCAid2VpZ2h0IjogM30KICAgICAgICAgICAgKS5hZGRUbyhtYXBfYWY1ODcyNTU1N2U2NDkyOTgwNGU4NTY2ZmZmZDIxZTkpOwogICAgICAgIAogICAgCiAgICAgICAgdmFyIHBvcHVwX2ZmNmIyODY0MjY2MDQwYzM5ZWY0NmUwNGIwNWViYTg5ID0gTC5wb3B1cCh7Im1heFdpZHRoIjogIjEwMCUifSk7CgogICAgICAgIAogICAgICAgICAgICB2YXIgaHRtbF9kZDI5ZWU1MDY2Mjc0MjQ5OTI0ZDUyYTdkMTNkN2ZmZiA9ICQoYDxkaXYgaWQ9Imh0bWxfZGQyOWVlNTA2NjI3NDI0OTkyNGQ1MmE3ZDEzZDdmZmYiIHN0eWxlPSJ3aWR0aDogMTAwLjAlOyBoZWlnaHQ6IDEwMC4wJTsiPlBsYXlhIFBvY2hvdGUgKFBhcGFnYXlvKTwvZGl2PmApWzBdOwogICAgICAgICAgICBwb3B1cF9mZjZiMjg2NDI2NjA0MGMzOWVmNDZlMDRiMDVlYmE4OS5zZXRDb250ZW50KGh0bWxfZGQyOWVlNTA2NjI3NDI0OTkyNGQ1MmE3ZDEzZDdmZmYpOwogICAgICAgIAoKICAgICAgICBjaXJjbGVfbWFya2VyXzM4ZjIxZDIwMmM4MDRmNWI5ZWZiOWM5MzAzYTlkZmY1LmJpbmRQb3B1cChwb3B1cF9mZjZiMjg2NDI2NjA0MGMzOWVmNDZlMDRiMDVlYmE4OSkKICAgICAgICA7CgogICAgICAgIAogICAgCiAgICAKICAgICAgICAgICAgdmFyIGNpcmNsZV9tYXJrZXJfZTA5ZWZkMWYyOWYzNGNjOGI4Y2QxNzlmMDdjMzQ2ZWYgPSBMLmNpcmNsZU1hcmtlcigKICAgICAgICAgICAgICAgIFsxMC40NTQxNDEzLCAtODUuNzcxMTc4M10sCiAgICAgICAgICAgICAgICB7ImJ1YmJsaW5nTW91c2VFdmVudHMiOiB0cnVlLCAiY29sb3IiOiAiWWVsbG93IiwgImRhc2hBcnJheSI6IG51bGwsICJkYXNoT2Zmc2V0IjogbnVsbCwgImZpbGwiOiB0cnVlLCAiZmlsbENvbG9yIjogIiMzMTg2Y2MiLCAiZmlsbE9wYWNpdHkiOiAwLjYsICJmaWxsUnVsZSI6ICJldmVub2RkIiwgImxpbmVDYXAiOiAicm91bmQiLCAibGluZUpvaW4iOiAicm91bmQiLCAib3BhY2l0eSI6IDEuMCwgInJhZGl1cyI6IDYsICJzdHJva2UiOiB0cnVlLCAid2VpZ2h0IjogM30KICAgICAgICAgICAgKS5hZGRUbyhtYXBfYWY1ODcyNTU1N2U2NDkyOTgwNGU4NTY2ZmZmZDIxZTkpOwogICAgICAgIAogICAgCiAgICAgICAgdmFyIHBvcHVwX2JmMTg1NjA0ZmNlYjRkMDNiNDZkYTk5Mjc0ZmJjZjNjID0gTC5wb3B1cCh7Im1heFdpZHRoIjogIjEwMCUifSk7CgogICAgICAgIAogICAgICAgICAgICB2YXIgaHRtbF8wNDIzZDU3ODdmNzE0OGYxOTA3MDQ4MDA1NWNiNWYzMiA9ICQoYDxkaXYgaWQ9Imh0bWxfMDQyM2Q1Nzg3ZjcxNDhmMTkwNzA0ODAwNTVjYjVmMzIiIHN0eWxlPSJ3aWR0aDogMTAwLjAlOyBoZWlnaHQ6IDEwMC4wJTsiPlBsYXlhIFBvdHJlcm88L2Rpdj5gKVswXTsKICAgICAgICAgICAgcG9wdXBfYmYxODU2MDRmY2ViNGQwM2I0NmRhOTkyNzRmYmNmM2Muc2V0Q29udGVudChodG1sXzA0MjNkNTc4N2Y3MTQ4ZjE5MDcwNDgwMDU1Y2I1ZjMyKTsKICAgICAgICAKCiAgICAgICAgY2lyY2xlX21hcmtlcl9lMDllZmQxZjI5ZjM0Y2M4YjhjZDE3OWYwN2MzNDZlZi5iaW5kUG9wdXAocG9wdXBfYmYxODU2MDRmY2ViNGQwM2I0NmRhOTkyNzRmYmNmM2MpCiAgICAgICAgOwoKICAgICAgICAKICAgIAogICAgCiAgICAgICAgICAgIHZhciBjaXJjbGVfbWFya2VyX2Y1MjIzOWM0NjVlMDRjNDNiNzZjMmEyYWFjMDFkM2UwID0gTC5jaXJjbGVNYXJrZXIoCiAgICAgICAgICAgICAgICBbOC41MTU4NDA4NSwgLTgzLjEzNjM2NzQ1MDYyNjg5XSwKICAgICAgICAgICAgICAgIHsiYnViYmxpbmdNb3VzZUV2ZW50cyI6IHRydWUsICJjb2xvciI6ICJZZWxsb3ciLCAiZGFzaEFycmF5IjogbnVsbCwgImRhc2hPZmZzZXQiOiBudWxsLCAiZmlsbCI6IHRydWUsICJmaWxsQ29sb3IiOiAiIzMxODZjYyIsICJmaWxsT3BhY2l0eSI6IDAuNiwgImZpbGxSdWxlIjogImV2ZW5vZGQiLCAibGluZUNhcCI6ICJyb3VuZCIsICJsaW5lSm9pbiI6ICJyb3VuZCIsICJvcGFjaXR5IjogMS4wLCAicmFkaXVzIjogNiwgInN0cm9rZSI6IHRydWUsICJ3ZWlnaHQiOiAzfQogICAgICAgICAgICApLmFkZFRvKG1hcF9hZjU4NzI1NTU3ZTY0OTI5ODA0ZTg1NjZmZmZkMjFlOSk7CiAgICAgICAgCiAgICAKICAgICAgICB2YXIgcG9wdXBfN2JhOGY2ZWY3ZmJkNGE0ODllYjAxODRkMDVkOGUwYjIgPSBMLnBvcHVwKHsibWF4V2lkdGgiOiAiMTAwJSJ9KTsKCiAgICAgICAgCiAgICAgICAgICAgIHZhciBodG1sXzNiYmU3ODY3ZmM1MDQ2NmQ4ZWU2ODdlN2QxNmExMWQzID0gJChgPGRpdiBpZD0iaHRtbF8zYmJlNzg2N2ZjNTA0NjZkOGVlNjg3ZTdkMTZhMTFkMyIgc3R5bGU9IndpZHRoOiAxMDAuMCU7IGhlaWdodDogMTAwLjAlOyI+UGxheWEgUmVhbCB5IFJvYmxlPC9kaXY+YClbMF07CiAgICAgICAgICAgIHBvcHVwXzdiYThmNmVmN2ZiZDRhNDg5ZWIwMTg0ZDA1ZDhlMGIyLnNldENvbnRlbnQoaHRtbF8zYmJlNzg2N2ZjNTA0NjZkOGVlNjg3ZTdkMTZhMTFkMyk7CiAgICAgICAgCgogICAgICAgIGNpcmNsZV9tYXJrZXJfZjUyMjM5YzQ2NWUwNGM0M2I3NmMyYTJhYWMwMWQzZTAuYmluZFBvcHVwKHBvcHVwXzdiYThmNmVmN2ZiZDRhNDg5ZWIwMTg0ZDA1ZDhlMGIyKQogICAgICAgIDsKCiAgICAgICAgCiAgICAKICAgIAogICAgICAgICAgICB2YXIgY2lyY2xlX21hcmtlcl8xYmI3NWE4ZjkxZTI0YzBjOTFkYjk2NDBlZGY4ZjM4ZSA9IEwuY2lyY2xlTWFya2VyKAogICAgICAgICAgICAgICAgWzExLjAzMTMyOTMsIC04NS43NDI5NzU3XSwKICAgICAgICAgICAgICAgIHsiYnViYmxpbmdNb3VzZUV2ZW50cyI6IHRydWUsICJjb2xvciI6ICJZZWxsb3ciLCAiZGFzaEFycmF5IjogbnVsbCwgImRhc2hPZmZzZXQiOiBudWxsLCAiZmlsbCI6IHRydWUsICJmaWxsQ29sb3IiOiAiIzMxODZjYyIsICJmaWxsT3BhY2l0eSI6IDAuNiwgImZpbGxSdWxlIjogImV2ZW5vZGQiLCAibGluZUNhcCI6ICJyb3VuZCIsICJsaW5lSm9pbiI6ICJyb3VuZCIsICJvcGFjaXR5IjogMS4wLCAicmFkaXVzIjogNiwgInN0cm9rZSI6IHRydWUsICJ3ZWlnaHQiOiAzfQogICAgICAgICAgICApLmFkZFRvKG1hcF9hZjU4NzI1NTU3ZTY0OTI5ODA0ZTg1NjZmZmZkMjFlOSk7CiAgICAgICAgCiAgICAKICAgICAgICB2YXIgcG9wdXBfNjIzNGExM2Q3YWU4NGZkNDlkMjVhYTcyOGZiMGE3NDcgPSBMLnBvcHVwKHsibWF4V2lkdGgiOiAiMTAwJSJ9KTsKCiAgICAgICAgCiAgICAgICAgICAgIHZhciBodG1sXzA4NTk4YzRlOGE0OTQ5YTJhODkyMjM1NTBiYzQ0NWUxID0gJChgPGRpdiBpZD0iaHRtbF8wODU5OGM0ZThhNDk0OWEyYTg5MjIzNTUwYmM0NDVlMSIgc3R5bGU9IndpZHRoOiAxMDAuMCU7IGhlaWdodDogMTAwLjAlOyI+UGxheWEgUmFqYWRhPC9kaXY+YClbMF07CiAgICAgICAgICAgIHBvcHVwXzYyMzRhMTNkN2FlODRmZDQ5ZDI1YWE3MjhmYjBhNzQ3LnNldENvbnRlbnQoaHRtbF8wODU5OGM0ZThhNDk0OWEyYTg5MjIzNTUwYmM0NDVlMSk7CiAgICAgICAgCgogICAgICAgIGNpcmNsZV9tYXJrZXJfMWJiNzVhOGY5MWUyNGMwYzkxZGI5NjQwZWRmOGYzOGUuYmluZFBvcHVwKHBvcHVwXzYyMzRhMTNkN2FlODRmZDQ5ZDI1YWE3MjhmYjBhNzQ3KQogICAgICAgIDsKCiAgICAgICAgCiAgICAKICAgIAogICAgICAgICAgICB2YXIgY2lyY2xlX21hcmtlcl8xMzEwYzZjNjBlNDI0MGE0YTU2YTlkYTBiYjBmMjgxZiA9IEwuY2lyY2xlTWFya2VyKAogICAgICAgICAgICAgICAgWzkuODczODUzOSwgLTg1LjUxMTg5ODYxODE0MTU0XSwKICAgICAgICAgICAgICAgIHsiYnViYmxpbmdNb3VzZUV2ZW50cyI6IHRydWUsICJjb2xvciI6ICJZZWxsb3ciLCAiZGFzaEFycmF5IjogbnVsbCwgImRhc2hPZmZzZXQiOiBudWxsLCAiZmlsbCI6IHRydWUsICJmaWxsQ29sb3IiOiAiIzMxODZjYyIsICJmaWxsT3BhY2l0eSI6IDAuNiwgImZpbGxSdWxlIjogImV2ZW5vZGQiLCAibGluZUNhcCI6ICJyb3VuZCIsICJsaW5lSm9pbiI6ICJyb3VuZCIsICJvcGFjaXR5IjogMS4wLCAicmFkaXVzIjogNiwgInN0cm9rZSI6IHRydWUsICJ3ZWlnaHQiOiAzfQogICAgICAgICAgICApLmFkZFRvKG1hcF9hZjU4NzI1NTU3ZTY0OTI5ODA0ZTg1NjZmZmZkMjFlOSk7CiAgICAgICAgCiAgICAKICAgICAgICB2YXIgcG9wdXBfMzUyMTlkOTE1NzA5NDc3N2FhZTViZTQyNDcwMWM0OTggPSBMLnBvcHVwKHsibWF4V2lkdGgiOiAiMTAwJSJ9KTsKCiAgICAgICAgCiAgICAgICAgICAgIHZhciBodG1sXzVjNjlmYTc4ZmQ3ZDQ1ZGU4OTU3NjU4ZGNmYWI2MWUzID0gJChgPGRpdiBpZD0iaHRtbF81YzY5ZmE3OGZkN2Q0NWRlODk1NzY1OGRjZmFiNjFlMyIgc3R5bGU9IndpZHRoOiAxMDAuMCU7IGhlaWdodDogMTAwLjAlOyI+UGxheWEgU8OhbWFyYTwvZGl2PmApWzBdOwogICAgICAgICAgICBwb3B1cF8zNTIxOWQ5MTU3MDk0Nzc3YWFlNWJlNDI0NzAxYzQ5OC5zZXRDb250ZW50KGh0bWxfNWM2OWZhNzhmZDdkNDVkZTg5NTc2NThkY2ZhYjYxZTMpOwogICAgICAgIAoKICAgICAgICBjaXJjbGVfbWFya2VyXzEzMTBjNmM2MGU0MjQwYTRhNTZhOWRhMGJiMGYyODFmLmJpbmRQb3B1cChwb3B1cF8zNTIxOWQ5MTU3MDk0Nzc3YWFlNWJlNDI0NzAxYzQ5OCkKICAgICAgICA7CgogICAgICAgIAogICAgCiAgICAKICAgICAgICAgICAgdmFyIGNpcmNsZV9tYXJrZXJfOWYwMGE3YTc3Yjg5NDQyN2FkYWVhNzI3OWZiNmMyNTkgPSBMLmNpcmNsZU1hcmtlcigKICAgICAgICAgICAgICAgIFs5LjgxMTU0NjcwMDAwMDAwMSwgLTg1LjMxMDM3NzA5MzMyNzIyXSwKICAgICAgICAgICAgICAgIHsiYnViYmxpbmdNb3VzZUV2ZW50cyI6IHRydWUsICJjb2xvciI6ICJZZWxsb3ciLCAiZGFzaEFycmF5IjogbnVsbCwgImRhc2hPZmZzZXQiOiBudWxsLCAiZmlsbCI6IHRydWUsICJmaWxsQ29sb3IiOiAiIzMxODZjYyIsICJmaWxsT3BhY2l0eSI6IDAuNiwgImZpbGxSdWxlIjogImV2ZW5vZGQiLCAibGluZUNhcCI6ICJyb3VuZCIsICJsaW5lSm9pbiI6ICJyb3VuZCIsICJvcGFjaXR5IjogMS4wLCAicmFkaXVzIjogNiwgInN0cm9rZSI6IHRydWUsICJ3ZWlnaHQiOiAzfQogICAgICAgICAgICApLmFkZFRvKG1hcF9hZjU4NzI1NTU3ZTY0OTI5ODA0ZTg1NjZmZmZkMjFlOSk7CiAgICAgICAgCiAgICAKICAgICAgICB2YXIgcG9wdXBfMTgyODc4MGM5ZWRjNGViYWEwNjFhOTFlNTE4YWJhZGMgPSBMLnBvcHVwKHsibWF4V2lkdGgiOiAiMTAwJSJ9KTsKCiAgICAgICAgCiAgICAgICAgICAgIHZhciBodG1sX2ZkYjZiODVkZDY3MzRkYzQ4YWJkYzE4YmEzMDU5ZTdlID0gJChgPGRpdiBpZD0iaHRtbF9mZGI2Yjg1ZGQ2NzM0ZGM0OGFiZGMxOGJhMzA1OWU3ZSIgc3R5bGU9IndpZHRoOiAxMDAuMCU7IGhlaWdodDogMTAwLjAlOyI+UGxheWEgU2FuIE1pZ3VlbDwvZGl2PmApWzBdOwogICAgICAgICAgICBwb3B1cF8xODI4NzgwYzllZGM0ZWJhYTA2MWE5MWU1MThhYmFkYy5zZXRDb250ZW50KGh0bWxfZmRiNmI4NWRkNjczNGRjNDhhYmRjMThiYTMwNTllN2UpOwogICAgICAgIAoKICAgICAgICBjaXJjbGVfbWFya2VyXzlmMDBhN2E3N2I4OTQ0MjdhZGFlYTcyNzlmYjZjMjU5LmJpbmRQb3B1cChwb3B1cF8xODI4NzgwYzllZGM0ZWJhYTA2MWE5MWU1MThhYmFkYykKICAgICAgICA7CgogICAgICAgIAogICAgCiAgICAKICAgICAgICAgICAgdmFyIGNpcmNsZV9tYXJrZXJfODk4ZTIyYzk4ZGFmNDcwZTkxZmZjYWE2NDk2ZDY1ZTYgPSBMLmNpcmNsZU1hcmtlcigKICAgICAgICAgICAgICAgIFs4LjUxNTg0MDg1LCAtODMuMTM2MzY3NDUwNjI2ODldLAogICAgICAgICAgICAgICAgeyJidWJibGluZ01vdXNlRXZlbnRzIjogdHJ1ZSwgImNvbG9yIjogIlllbGxvdyIsICJkYXNoQXJyYXkiOiBudWxsLCAiZGFzaE9mZnNldCI6IG51bGwsICJmaWxsIjogdHJ1ZSwgImZpbGxDb2xvciI6ICIjMzE4NmNjIiwgImZpbGxPcGFjaXR5IjogMC42LCAiZmlsbFJ1bGUiOiAiZXZlbm9kZCIsICJsaW5lQ2FwIjogInJvdW5kIiwgImxpbmVKb2luIjogInJvdW5kIiwgIm9wYWNpdHkiOiAxLjAsICJyYWRpdXMiOiA2LCAic3Ryb2tlIjogdHJ1ZSwgIndlaWdodCI6IDN9CiAgICAgICAgICAgICkuYWRkVG8obWFwX2FmNTg3MjU1NTdlNjQ5Mjk4MDRlODU2NmZmZmQyMWU5KTsKICAgICAgICAKICAgIAogICAgICAgIHZhciBwb3B1cF84OTczY2FlYTZmMTI0MjhiYWZmMzhkNDNmMzQ2N2NmMyA9IEwucG9wdXAoeyJtYXhXaWR0aCI6ICIxMDAlIn0pOwoKICAgICAgICAKICAgICAgICAgICAgdmFyIGh0bWxfNmQ2Y2I3ZmEwYjQ0NDRjYzgxNDUwMTk4Zjk3NGUwYjQgPSAkKGA8ZGl2IGlkPSJodG1sXzZkNmNiN2ZhMGI0NDQ0Y2M4MTQ1MDE5OGY5NzRlMGI0IiBzdHlsZT0id2lkdGg6IDEwMC4wJTsgaGVpZ2h0OiAxMDAuMCU7Ij5QbGF5YSBTYW50YSBUZXJlc2E8L2Rpdj5gKVswXTsKICAgICAgICAgICAgcG9wdXBfODk3M2NhZWE2ZjEyNDI4YmFmZjM4ZDQzZjM0NjdjZjMuc2V0Q29udGVudChodG1sXzZkNmNiN2ZhMGI0NDQ0Y2M4MTQ1MDE5OGY5NzRlMGI0KTsKICAgICAgICAKCiAgICAgICAgY2lyY2xlX21hcmtlcl84OThlMjJjOThkYWY0NzBlOTFmZmNhYTY0OTZkNjVlNi5iaW5kUG9wdXAocG9wdXBfODk3M2NhZWE2ZjEyNDI4YmFmZjM4ZDQzZjM0NjdjZjMpCiAgICAgICAgOwoKICAgICAgICAKICAgIAogICAgCiAgICAgICAgICAgIHZhciBjaXJjbGVfbWFya2VyXzFiZTEzNjkzZTc5NzQ4N2VhNGFiZTBhNTVhNDNkMDliID0gTC5jaXJjbGVNYXJrZXIoCiAgICAgICAgICAgICAgICBbMTAuMTM2MDY4OCwgLTg1Ljc5OTczMDFdLAogICAgICAgICAgICAgICAgeyJidWJibGluZ01vdXNlRXZlbnRzIjogdHJ1ZSwgImNvbG9yIjogIlllbGxvdyIsICJkYXNoQXJyYXkiOiBudWxsLCAiZGFzaE9mZnNldCI6IG51bGwsICJmaWxsIjogdHJ1ZSwgImZpbGxDb2xvciI6ICIjMzE4NmNjIiwgImZpbGxPcGFjaXR5IjogMC42LCAiZmlsbFJ1bGUiOiAiZXZlbm9kZCIsICJsaW5lQ2FwIjogInJvdW5kIiwgImxpbmVKb2luIjogInJvdW5kIiwgIm9wYWNpdHkiOiAxLjAsICJyYWRpdXMiOiA2LCAic3Ryb2tlIjogdHJ1ZSwgIndlaWdodCI6IDN9CiAgICAgICAgICAgICkuYWRkVG8obWFwX2FmNTg3MjU1NTdlNjQ5Mjk4MDRlODU2NmZmZmQyMWU5KTsKICAgICAgICAKICAgIAogICAgICAgIHZhciBwb3B1cF9jYjlhOTQwMDE2NTU0YWZlOTc2ZTczYjJiYWU3OWQ1ZiA9IEwucG9wdXAoeyJtYXhXaWR0aCI6ICIxMDAlIn0pOwoKICAgICAgICAKICAgICAgICAgICAgdmFyIGh0bWxfOTQzOTk1ZDk4MDQ5NGY3ODhmMjNiMTFmOGI4MTJkMzEgPSAkKGA8ZGl2IGlkPSJodG1sXzk0Mzk5NWQ5ODA0OTRmNzg4ZjIzYjExZjhiODEyZDMxIiBzdHlsZT0id2lkdGg6IDEwMC4wJTsgaGVpZ2h0OiAxMDAuMCU7Ij5QbGF5YSBTdXJjbyBkZSBQaWVkcmE8L2Rpdj5gKVswXTsKICAgICAgICAgICAgcG9wdXBfY2I5YTk0MDAxNjU1NGFmZTk3NmU3M2IyYmFlNzlkNWYuc2V0Q29udGVudChodG1sXzk0Mzk5NWQ5ODA0OTRmNzg4ZjIzYjExZjhiODEyZDMxKTsKICAgICAgICAKCiAgICAgICAgY2lyY2xlX21hcmtlcl8xYmUxMzY5M2U3OTc0ODdlYTRhYmUwYTU1YTQzZDA5Yi5iaW5kUG9wdXAocG9wdXBfY2I5YTk0MDAxNjU1NGFmZTk3NmU3M2IyYmFlNzlkNWYpCiAgICAgICAgOwoKICAgICAgICAKICAgIAogICAgCiAgICAgICAgICAgIHZhciBjaXJjbGVfbWFya2VyXzEwM2E4NTkyZDQyNTQ5OTQ5ZWQwNGEwZTRhYmIzYTFmID0gTC5jaXJjbGVNYXJrZXIoCiAgICAgICAgICAgICAgICBbOC41MTU4NDA4NSwgLTgzLjEzNjM2NzQ1MDYyNjg5XSwKICAgICAgICAgICAgICAgIHsiYnViYmxpbmdNb3VzZUV2ZW50cyI6IHRydWUsICJjb2xvciI6ICJZZWxsb3ciLCAiZGFzaEFycmF5IjogbnVsbCwgImRhc2hPZmZzZXQiOiBudWxsLCAiZmlsbCI6IHRydWUsICJmaWxsQ29sb3IiOiAiIzMxODZjYyIsICJmaWxsT3BhY2l0eSI6IDAuNiwgImZpbGxSdWxlIjogImV2ZW5vZGQiLCAibGluZUNhcCI6ICJyb3VuZCIsICJsaW5lSm9pbiI6ICJyb3VuZCIsICJvcGFjaXR5IjogMS4wLCAicmFkaXVzIjogNiwgInN0cm9rZSI6IHRydWUsICJ3ZWlnaHQiOiAzfQogICAgICAgICAgICApLmFkZFRvKG1hcF9hZjU4NzI1NTU3ZTY0OTI5ODA0ZTg1NjZmZmZkMjFlOSk7CiAgICAgICAgCiAgICAKICAgICAgICB2YXIgcG9wdXBfM2I4N2NjMDM1OTViNGYxYThlMzEzNzU0ZDdhNGJiNDkgPSBMLnBvcHVwKHsibWF4V2lkdGgiOiAiMTAwJSJ9KTsKCiAgICAgICAgCiAgICAgICAgICAgIHZhciBodG1sXzljMTczMmM2NDUzYjQ2OTg5NTViMDBlMDI0NmZhOTdkID0gJChgPGRpdiBpZD0iaHRtbF85YzE3MzJjNjQ1M2I0Njk4OTU1YjAwZTAyNDZmYTk3ZCIgc3R5bGU9IndpZHRoOiAxMDAuMCU7IGhlaWdodDogMTAwLjAlOyI+UGxheWEgUHJpZXRhIChQYXBhZ2F5byk8L2Rpdj5gKVswXTsKICAgICAgICAgICAgcG9wdXBfM2I4N2NjMDM1OTViNGYxYThlMzEzNzU0ZDdhNGJiNDkuc2V0Q29udGVudChodG1sXzljMTczMmM2NDUzYjQ2OTg5NTViMDBlMDI0NmZhOTdkKTsKICAgICAgICAKCiAgICAgICAgY2lyY2xlX21hcmtlcl8xMDNhODU5MmQ0MjU0OTk0OWVkMDRhMGU0YWJiM2ExZi5iaW5kUG9wdXAocG9wdXBfM2I4N2NjMDM1OTViNGYxYThlMzEzNzU0ZDdhNGJiNDkpCiAgICAgICAgOwoKICAgICAgICAKICAgIAogICAgCiAgICAgICAgICAgIHZhciBjaXJjbGVfbWFya2VyXzA3NWQ1NzdjMTNmMTQ4NWI4MGJhM2ZkMGM2NjBlMTJhID0gTC5jaXJjbGVNYXJrZXIoCiAgICAgICAgICAgICAgICBbOC41MTU4NDA4NSwgLTgzLjEzNjM2NzQ1MDYyNjg5XSwKICAgICAgICAgICAgICAgIHsiYnViYmxpbmdNb3VzZUV2ZW50cyI6IHRydWUsICJjb2xvciI6ICJZZWxsb3ciLCAiZGFzaEFycmF5IjogbnVsbCwgImRhc2hPZmZzZXQiOiBudWxsLCAiZmlsbCI6IHRydWUsICJmaWxsQ29sb3IiOiAiIzMxODZjYyIsICJmaWxsT3BhY2l0eSI6IDAuNiwgImZpbGxSdWxlIjogImV2ZW5vZGQiLCAibGluZUNhcCI6ICJyb3VuZCIsICJsaW5lSm9pbiI6ICJyb3VuZCIsICJvcGFjaXR5IjogMS4wLCAicmFkaXVzIjogNiwgInN0cm9rZSI6IHRydWUsICJ3ZWlnaHQiOiAzfQogICAgICAgICAgICApLmFkZFRvKG1hcF9hZjU4NzI1NTU3ZTY0OTI5ODA0ZTg1NjZmZmZkMjFlOSk7CiAgICAgICAgCiAgICAKICAgICAgICB2YXIgcG9wdXBfNGYyYTJmN2MwZDJkNDkyYmI5YmUzM2ZjMWRjM2Y5YzAgPSBMLnBvcHVwKHsibWF4V2lkdGgiOiAiMTAwJSJ9KTsKCiAgICAgICAgCiAgICAgICAgICAgIHZhciBodG1sX2I4ZWRmZDJkNzdkNDQ5MTliNGVkOWZkMTkyMmMzYzYwID0gJChgPGRpdiBpZD0iaHRtbF9iOGVkZmQyZDc3ZDQ0OTE5YjRlZDlmZDE5MjJjM2M2MCIgc3R5bGU9IndpZHRoOiAxMDAuMCU7IGhlaWdodDogMTAwLjAlOyI+UGxheWEgUG9jaG90ZSAoU2FsaW5hcyk8L2Rpdj5gKVswXTsKICAgICAgICAgICAgcG9wdXBfNGYyYTJmN2MwZDJkNDkyYmI5YmUzM2ZjMWRjM2Y5YzAuc2V0Q29udGVudChodG1sX2I4ZWRmZDJkNzdkNDQ5MTliNGVkOWZkMTkyMmMzYzYwKTsKICAgICAgICAKCiAgICAgICAgY2lyY2xlX21hcmtlcl8wNzVkNTc3YzEzZjE0ODViODBiYTNmZDBjNjYwZTEyYS5iaW5kUG9wdXAocG9wdXBfNGYyYTJmN2MwZDJkNDkyYmI5YmUzM2ZjMWRjM2Y5YzApCiAgICAgICAgOwoKICAgICAgICAKICAgIAogICAgCiAgICAgICAgICAgIHZhciBjaXJjbGVfbWFya2VyXzVmOTAwMDI2ZmFhMDQyN2Y5NDRmNThlYTY2ODMwODk5ID0gTC5jaXJjbGVNYXJrZXIoCiAgICAgICAgICAgICAgICBbMTAuODQ3ODg4MiwgLTg1Ljc4OTExMDhdLAogICAgICAgICAgICAgICAgeyJidWJibGluZ01vdXNlRXZlbnRzIjogdHJ1ZSwgImNvbG9yIjogIlllbGxvdyIsICJkYXNoQXJyYXkiOiBudWxsLCAiZGFzaE9mZnNldCI6IG51bGwsICJmaWxsIjogdHJ1ZSwgImZpbGxDb2xvciI6ICIjMzE4NmNjIiwgImZpbGxPcGFjaXR5IjogMC42LCAiZmlsbFJ1bGUiOiAiZXZlbm9kZCIsICJsaW5lQ2FwIjogInJvdW5kIiwgImxpbmVKb2luIjogInJvdW5kIiwgIm9wYWNpdHkiOiAxLjAsICJyYWRpdXMiOiA2LCAic3Ryb2tlIjogdHJ1ZSwgIndlaWdodCI6IDN9CiAgICAgICAgICAgICkuYWRkVG8obWFwX2FmNTg3MjU1NTdlNjQ5Mjk4MDRlODU2NmZmZmQyMWU5KTsKICAgICAgICAKICAgIAogICAgICAgIHZhciBwb3B1cF8xYmM1YjQ3MmZjNjU0ODk0OGJjYjExYmE2ODRmNTFmMyA9IEwucG9wdXAoeyJtYXhXaWR0aCI6ICIxMDAlIn0pOwoKICAgICAgICAKICAgICAgICAgICAgdmFyIGh0bWxfOWM4MmU3YzdlYmI5NDQ3NDg2ZTA4ZjI5NTQ1MzVkMzMgPSAkKGA8ZGl2IGlkPSJodG1sXzljODJlN2M3ZWJiOTQ0NzQ4NmUwOGYyOTU0NTM1ZDMzIiBzdHlsZT0id2lkdGg6IDEwMC4wJTsgaGVpZ2h0OiAxMDAuMCU7Ij5QbGF5YSBQb3RyZXJvIEdyYW5kZTwvZGl2PmApWzBdOwogICAgICAgICAgICBwb3B1cF8xYmM1YjQ3MmZjNjU0ODk0OGJjYjExYmE2ODRmNTFmMy5zZXRDb250ZW50KGh0bWxfOWM4MmU3YzdlYmI5NDQ3NDg2ZTA4ZjI5NTQ1MzVkMzMpOwogICAgICAgIAoKICAgICAgICBjaXJjbGVfbWFya2VyXzVmOTAwMDI2ZmFhMDQyN2Y5NDRmNThlYTY2ODMwODk5LmJpbmRQb3B1cChwb3B1cF8xYmM1YjQ3MmZjNjU0ODk0OGJjYjExYmE2ODRmNTFmMykKICAgICAgICA7CgogICAgICAgIAogICAgCiAgICAKICAgICAgICAgICAgdmFyIGNpcmNsZV9tYXJrZXJfYmI2NWQ0ZGZmNDQ4NDQ2YzgyNzEzZjU0NWEyNTdlNDEgPSBMLmNpcmNsZU1hcmtlcigKICAgICAgICAgICAgICAgIFsxMS4wNDU2MjgxLCAtODUuNjY3NTA4MTA2MDg2NDJdLAogICAgICAgICAgICAgICAgeyJidWJibGluZ01vdXNlRXZlbnRzIjogdHJ1ZSwgImNvbG9yIjogIlllbGxvdyIsICJkYXNoQXJyYXkiOiBudWxsLCAiZGFzaE9mZnNldCI6IG51bGwsICJmaWxsIjogdHJ1ZSwgImZpbGxDb2xvciI6ICIjMzE4NmNjIiwgImZpbGxPcGFjaXR5IjogMC42LCAiZmlsbFJ1bGUiOiAiZXZlbm9kZCIsICJsaW5lQ2FwIjogInJvdW5kIiwgImxpbmVKb2luIjogInJvdW5kIiwgIm9wYWNpdHkiOiAxLjAsICJyYWRpdXMiOiA2LCAic3Ryb2tlIjogdHJ1ZSwgIndlaWdodCI6IDN9CiAgICAgICAgICAgICkuYWRkVG8obWFwX2FmNTg3MjU1NTdlNjQ5Mjk4MDRlODU2NmZmZmQyMWU5KTsKICAgICAgICAKICAgIAogICAgICAgIHZhciBwb3B1cF9lZmQyZjQwNDVmYjQ0YTc3YjQwYzEzNTU0MjcyODA1NyA9IEwucG9wdXAoeyJtYXhXaWR0aCI6ICIxMDAlIn0pOwoKICAgICAgICAKICAgICAgICAgICAgdmFyIGh0bWxfODI4NmRiZTlhNzE4NGU4MjgzMDdkZGM3MThmZDU4MjAgPSAkKGA8ZGl2IGlkPSJodG1sXzgyODZkYmU5YTcxODRlODI4MzA3ZGRjNzE4ZmQ1ODIwIiBzdHlsZT0id2lkdGg6IDEwMC4wJTsgaGVpZ2h0OiAxMDAuMCU7Ij5QbGF5YSBQdWVydG8gU29sZXk8L2Rpdj5gKVswXTsKICAgICAgICAgICAgcG9wdXBfZWZkMmY0MDQ1ZmI0NGE3N2I0MGMxMzU1NDI3MjgwNTcuc2V0Q29udGVudChodG1sXzgyODZkYmU5YTcxODRlODI4MzA3ZGRjNzE4ZmQ1ODIwKTsKICAgICAgICAKCiAgICAgICAgY2lyY2xlX21hcmtlcl9iYjY1ZDRkZmY0NDg0NDZjODI3MTNmNTQ1YTI1N2U0MS5iaW5kUG9wdXAocG9wdXBfZWZkMmY0MDQ1ZmI0NGE3N2I0MGMxMzU1NDI3MjgwNTcpCiAgICAgICAgOwoKICAgICAgICAKICAgIAogICAgCiAgICAgICAgICAgIHZhciBjaXJjbGVfbWFya2VyXzg0YWIyNTAzZjA5YzQ5Yzg5MGM3OGZhMzdiM2Y3ZDg1ID0gTC5jaXJjbGVNYXJrZXIoCiAgICAgICAgICAgICAgICBbMTAuMzAwODUzNDk5OTk5OTk5LCAtODUuODQxNTQ4MTY1MjIzNjNdLAogICAgICAgICAgICAgICAgeyJidWJibGluZ01vdXNlRXZlbnRzIjogdHJ1ZSwgImNvbG9yIjogIlllbGxvdyIsICJkYXNoQXJyYXkiOiBudWxsLCAiZGFzaE9mZnNldCI6IG51bGwsICJmaWxsIjogdHJ1ZSwgImZpbGxDb2xvciI6ICIjMzE4NmNjIiwgImZpbGxPcGFjaXR5IjogMC42LCAiZmlsbFJ1bGUiOiAiZXZlbm9kZCIsICJsaW5lQ2FwIjogInJvdW5kIiwgImxpbmVKb2luIjogInJvdW5kIiwgIm9wYWNpdHkiOiAxLjAsICJyYWRpdXMiOiA2LCAic3Ryb2tlIjogdHJ1ZSwgIndlaWdodCI6IDN9CiAgICAgICAgICAgICkuYWRkVG8obWFwX2FmNTg3MjU1NTdlNjQ5Mjk4MDRlODU2NmZmZmQyMWU5KTsKICAgICAgICAKICAgIAogICAgICAgIHZhciBwb3B1cF8yODRjMTIzN2Q5YmU0MDVjOGMyOTMwMzE1OTZkOGZiOSA9IEwucG9wdXAoeyJtYXhXaWR0aCI6ICIxMDAlIn0pOwoKICAgICAgICAKICAgICAgICAgICAgdmFyIGh0bWxfN2M4MTA5OTZkMDVhNDdhZWIwOGNkNWFlYTUyZGYxZTggPSAkKGA8ZGl2IGlkPSJodG1sXzdjODEwOTk2ZDA1YTQ3YWViMDhjZDVhZWE1MmRmMWU4IiBzdHlsZT0id2lkdGg6IDEwMC4wJTsgaGVpZ2h0OiAxMDAuMCU7Ij5QbGF5YSBUYW1hcmluZG88L2Rpdj5gKVswXTsKICAgICAgICAgICAgcG9wdXBfMjg0YzEyMzdkOWJlNDA1YzhjMjkzMDMxNTk2ZDhmYjkuc2V0Q29udGVudChodG1sXzdjODEwOTk2ZDA1YTQ3YWViMDhjZDVhZWE1MmRmMWU4KTsKICAgICAgICAKCiAgICAgICAgY2lyY2xlX21hcmtlcl84NGFiMjUwM2YwOWM0OWM4OTBjNzhmYTM3YjNmN2Q4NS5iaW5kUG9wdXAocG9wdXBfMjg0YzEyMzdkOWJlNDA1YzhjMjkzMDMxNTk2ZDhmYjkpCiAgICAgICAgOwoKICAgICAgICAKICAgIAogICAgCiAgICAgICAgICAgIHZhciBjaXJjbGVfbWFya2VyX2IyMThmOTFiZjFhOTQxMGNiMDY3ZTc5ZTU1ODk2Y2NiID0gTC5jaXJjbGVNYXJrZXIoCiAgICAgICAgICAgICAgICBbMTAuMzQ4MjkwOCwgLTg1Ljg2MjQ1ODRdLAogICAgICAgICAgICAgICAgeyJidWJibGluZ01vdXNlRXZlbnRzIjogdHJ1ZSwgImNvbG9yIjogIlllbGxvdyIsICJkYXNoQXJyYXkiOiBudWxsLCAiZGFzaE9mZnNldCI6IG51bGwsICJmaWxsIjogdHJ1ZSwgImZpbGxDb2xvciI6ICIjMzE4NmNjIiwgImZpbGxPcGFjaXR5IjogMC42LCAiZmlsbFJ1bGUiOiAiZXZlbm9kZCIsICJsaW5lQ2FwIjogInJvdW5kIiwgImxpbmVKb2luIjogInJvdW5kIiwgIm9wYWNpdHkiOiAxLjAsICJyYWRpdXMiOiA2LCAic3Ryb2tlIjogdHJ1ZSwgIndlaWdodCI6IDN9CiAgICAgICAgICAgICkuYWRkVG8obWFwX2FmNTg3MjU1NTdlNjQ5Mjk4MDRlODU2NmZmZmQyMWU5KTsKICAgICAgICAKICAgIAogICAgICAgIHZhciBwb3B1cF8zYmJmNGY2OTE2MmM0MDJkODQ0NWM2MjZkODFiNjRkNyA9IEwucG9wdXAoeyJtYXhXaWR0aCI6ICIxMDAlIn0pOwoKICAgICAgICAKICAgICAgICAgICAgdmFyIGh0bWxfNGU2Mjc0MjBkYjRjNDhmYmIzNGRhNDk2MTBiY2YwMzMgPSAkKGA8ZGl2IGlkPSJodG1sXzRlNjI3NDIwZGI0YzQ4ZmJiMzRkYTQ5NjEwYmNmMDMzIiBzdHlsZT0id2lkdGg6IDEwMC4wJTsgaGVpZ2h0OiAxMDAuMCU7Ij5QbGF5YSBWZW50YW5hczwvZGl2PmApWzBdOwogICAgICAgICAgICBwb3B1cF8zYmJmNGY2OTE2MmM0MDJkODQ0NWM2MjZkODFiNjRkNy5zZXRDb250ZW50KGh0bWxfNGU2Mjc0MjBkYjRjNDhmYmIzNGRhNDk2MTBiY2YwMzMpOwogICAgICAgIAoKICAgICAgICBjaXJjbGVfbWFya2VyX2IyMThmOTFiZjFhOTQxMGNiMDY3ZTc5ZTU1ODk2Y2NiLmJpbmRQb3B1cChwb3B1cF8zYmJmNGY2OTE2MmM0MDJkODQ0NWM2MjZkODFiNjRkNykKICAgICAgICA7CgogICAgICAgIAogICAgCiAgICAKICAgICAgICAgICAgdmFyIGNpcmNsZV9tYXJrZXJfMmYwZjJmYTMwZjU4NDBjMGE0YjlhMTVhNWU1ZTFiODUgPSBMLmNpcmNsZU1hcmtlcigKICAgICAgICAgICAgICAgIFs4LjUxNTg0MDg1LCAtODMuMTM2MzY3NDUwNjI2ODldLAogICAgICAgICAgICAgICAgeyJidWJibGluZ01vdXNlRXZlbnRzIjogdHJ1ZSwgImNvbG9yIjogIlllbGxvdyIsICJkYXNoQXJyYXkiOiBudWxsLCAiZGFzaE9mZnNldCI6IG51bGwsICJmaWxsIjogdHJ1ZSwgImZpbGxDb2xvciI6ICIjMzE4NmNjIiwgImZpbGxPcGFjaXR5IjogMC42LCAiZmlsbFJ1bGUiOiAiZXZlbm9kZCIsICJsaW5lQ2FwIjogInJvdW5kIiwgImxpbmVKb2luIjogInJvdW5kIiwgIm9wYWNpdHkiOiAxLjAsICJyYWRpdXMiOiA2LCAic3Ryb2tlIjogdHJ1ZSwgIndlaWdodCI6IDN9CiAgICAgICAgICAgICkuYWRkVG8obWFwX2FmNTg3MjU1NTdlNjQ5Mjk4MDRlODU2NmZmZmQyMWU5KTsKICAgICAgICAKICAgIAogICAgICAgIHZhciBwb3B1cF9hZDRlNTJmYzhlN2I0MjE4YjE2ZDhhODVmZjA4NTgxOCA9IEwucG9wdXAoeyJtYXhXaWR0aCI6ICIxMDAlIn0pOwoKICAgICAgICAKICAgICAgICAgICAgdmFyIGh0bWxfODAwNzJkNWM4MGUzNDgxNjg5M2RjN2MyN2UyYjNmNWMgPSAkKGA8ZGl2IGlkPSJodG1sXzgwMDcyZDVjODBlMzQ4MTY4OTNkYzdjMjdlMmIzZjVjIiBzdHlsZT0id2lkdGg6IDEwMC4wJTsgaGVpZ2h0OiAxMDAuMCU7Ij5CYWxuZXJhcmlvIFB1bnRhcmVuYXM8L2Rpdj5gKVswXTsKICAgICAgICAgICAgcG9wdXBfYWQ0ZTUyZmM4ZTdiNDIxOGIxNmQ4YTg1ZmYwODU4MTguc2V0Q29udGVudChodG1sXzgwMDcyZDVjODBlMzQ4MTY4OTNkYzdjMjdlMmIzZjVjKTsKICAgICAgICAKCiAgICAgICAgY2lyY2xlX21hcmtlcl8yZjBmMmZhMzBmNTg0MGMwYTRiOWExNWE1ZTVlMWI4NS5iaW5kUG9wdXAocG9wdXBfYWQ0ZTUyZmM4ZTdiNDIxOGIxNmQ4YTg1ZmYwODU4MTgpCiAgICAgICAgOwoKICAgICAgICAKICAgIAogICAgCiAgICAgICAgICAgIHZhciBjaXJjbGVfbWFya2VyXzhlNTg1ZmQ2ZjRlYzRlZWNhMzFmNzc3YjU4NjY2Yjg3ID0gTC5jaXJjbGVNYXJrZXIoCiAgICAgICAgICAgICAgICBbOS43MjE1NjYxLCAtODQuNjUzNjMyM10sCiAgICAgICAgICAgICAgICB7ImJ1YmJsaW5nTW91c2VFdmVudHMiOiB0cnVlLCAiY29sb3IiOiAiWWVsbG93IiwgImRhc2hBcnJheSI6IG51bGwsICJkYXNoT2Zmc2V0IjogbnVsbCwgImZpbGwiOiB0cnVlLCAiZmlsbENvbG9yIjogIiMzMTg2Y2MiLCAiZmlsbE9wYWNpdHkiOiAwLjYsICJmaWxsUnVsZSI6ICJldmVub2RkIiwgImxpbmVDYXAiOiAicm91bmQiLCAibGluZUpvaW4iOiAicm91bmQiLCAib3BhY2l0eSI6IDEuMCwgInJhZGl1cyI6IDYsICJzdHJva2UiOiB0cnVlLCAid2VpZ2h0IjogM30KICAgICAgICAgICAgKS5hZGRUbyhtYXBfYWY1ODcyNTU1N2U2NDkyOTgwNGU4NTY2ZmZmZDIxZTkpOwogICAgICAgIAogICAgCiAgICAgICAgdmFyIHBvcHVwXzk1YjkyMTFjMGVlMzQxZTk4NjkyY2RjMzY2MzMyYWE4ID0gTC5wb3B1cCh7Im1heFdpZHRoIjogIjEwMCUifSk7CgogICAgICAgIAogICAgICAgICAgICB2YXIgaHRtbF9jOTU3ODI1NzFkZTM0NTM2ODJiMTM0OTE2ZmYyYTc4ZCA9ICQoYDxkaXYgaWQ9Imh0bWxfYzk1NzgyNTcxZGUzNDUzNjgyYjEzNDkxNmZmMmE3OGQiIHN0eWxlPSJ3aWR0aDogMTAwLjAlOyBoZWlnaHQ6IDEwMC4wJTsiPlBsYXlhIEFndWphczwvZGl2PmApWzBdOwogICAgICAgICAgICBwb3B1cF85NWI5MjExYzBlZTM0MWU5ODY5MmNkYzM2NjMzMmFhOC5zZXRDb250ZW50KGh0bWxfYzk1NzgyNTcxZGUzNDUzNjgyYjEzNDkxNmZmMmE3OGQpOwogICAgICAgIAoKICAgICAgICBjaXJjbGVfbWFya2VyXzhlNTg1ZmQ2ZjRlYzRlZWNhMzFmNzc3YjU4NjY2Yjg3LmJpbmRQb3B1cChwb3B1cF85NWI5MjExYzBlZTM0MWU5ODY5MmNkYzM2NjMzMmFhOCkKICAgICAgICA7CgogICAgICAgIAogICAgCiAgICAKICAgICAgICAgICAgdmFyIGNpcmNsZV9tYXJrZXJfZWE4YmZkYzI1OTk1NDQxYmFmYjk5ZTdiZWViNjE2MDggPSBMLmNpcmNsZU1hcmtlcigKICAgICAgICAgICAgICAgIFs4LjY5MTg0Nzk1LCAtODMuNjYzMzQxOTUyMDYyOTJdLAogICAgICAgICAgICAgICAgeyJidWJibGluZ01vdXNlRXZlbnRzIjogdHJ1ZSwgImNvbG9yIjogIlllbGxvdyIsICJkYXNoQXJyYXkiOiBudWxsLCAiZGFzaE9mZnNldCI6IG51bGwsICJmaWxsIjogdHJ1ZSwgImZpbGxDb2xvciI6ICIjMzE4NmNjIiwgImZpbGxPcGFjaXR5IjogMC42LCAiZmlsbFJ1bGUiOiAiZXZlbm9kZCIsICJsaW5lQ2FwIjogInJvdW5kIiwgImxpbmVKb2luIjogInJvdW5kIiwgIm9wYWNpdHkiOiAxLjAsICJyYWRpdXMiOiA2LCAic3Ryb2tlIjogdHJ1ZSwgIndlaWdodCI6IDN9CiAgICAgICAgICAgICkuYWRkVG8obWFwX2FmNTg3MjU1NTdlNjQ5Mjk4MDRlODU2NmZmZmQyMWU5KTsKICAgICAgICAKICAgIAogICAgICAgIHZhciBwb3B1cF84MDVkNzdiYzVjNzE0MGM5YWI3MjRkNmI2N2RlYzFmNSA9IEwucG9wdXAoeyJtYXhXaWR0aCI6ICIxMDAlIn0pOwoKICAgICAgICAKICAgICAgICAgICAgdmFyIGh0bWxfNTk0YTAxNGU3NDBjNDZhZjhjMWRmYzg1NzRiOGZiMWMgPSAkKGA8ZGl2IGlkPSJodG1sXzU5NGEwMTRlNzQwYzQ2YWY4YzFkZmM4NTc0YjhmYjFjIiBzdHlsZT0id2lkdGg6IDEwMC4wJTsgaGVpZ2h0OiAxMDAuMCU7Ij5QbGF5YSBCYWjDrWEgRHJha2U8L2Rpdj5gKVswXTsKICAgICAgICAgICAgcG9wdXBfODA1ZDc3YmM1YzcxNDBjOWFiNzI0ZDZiNjdkZWMxZjUuc2V0Q29udGVudChodG1sXzU5NGEwMTRlNzQwYzQ2YWY4YzFkZmM4NTc0YjhmYjFjKTsKICAgICAgICAKCiAgICAgICAgY2lyY2xlX21hcmtlcl9lYThiZmRjMjU5OTU0NDFiYWZiOTllN2JlZWI2MTYwOC5iaW5kUG9wdXAocG9wdXBfODA1ZDc3YmM1YzcxNDBjOWFiNzI0ZDZiNjdkZWMxZjUpCiAgICAgICAgOwoKICAgICAgICAKICAgIAogICAgCiAgICAgICAgICAgIHZhciBjaXJjbGVfbWFya2VyXzg0YmIzOGJmYjI3ZjQ0YTI5M2MyYmE1NDYxMjU4MWZkID0gTC5jaXJjbGVNYXJrZXIoCiAgICAgICAgICAgICAgICBbOS4xMTcyNTI5NTAwMDAwMDEsIC04My43MDM5MjE5NDAxNjMwMV0sCiAgICAgICAgICAgICAgICB7ImJ1YmJsaW5nTW91c2VFdmVudHMiOiB0cnVlLCAiY29sb3IiOiAiWWVsbG93IiwgImRhc2hBcnJheSI6IG51bGwsICJkYXNoT2Zmc2V0IjogbnVsbCwgImZpbGwiOiB0cnVlLCAiZmlsbENvbG9yIjogIiMzMTg2Y2MiLCAiZmlsbE9wYWNpdHkiOiAwLjYsICJmaWxsUnVsZSI6ICJldmVub2RkIiwgImxpbmVDYXAiOiAicm91bmQiLCAibGluZUpvaW4iOiAicm91bmQiLCAib3BhY2l0eSI6IDEuMCwgInJhZGl1cyI6IDYsICJzdHJva2UiOiB0cnVlLCAid2VpZ2h0IjogM30KICAgICAgICAgICAgKS5hZGRUbyhtYXBfYWY1ODcyNTU1N2U2NDkyOTgwNGU4NTY2ZmZmZDIxZTkpOwogICAgICAgIAogICAgCiAgICAgICAgdmFyIHBvcHVwXzQzODM1MWFjYzMwNjQ0NWRiNzcxN2RmMGNiN2M5NjE0ID0gTC5wb3B1cCh7Im1heFdpZHRoIjogIjEwMCUifSk7CgogICAgICAgIAogICAgICAgICAgICB2YXIgaHRtbF8wYjA4YTRiYmU3ZGQ0ZDA3YjMxZDYwMTg3MTc5NWFkYSA9ICQoYDxkaXYgaWQ9Imh0bWxfMGIwOGE0YmJlN2RkNGQwN2IzMWQ2MDE4NzE3OTVhZGEiIHN0eWxlPSJ3aWR0aDogMTAwLjAlOyBoZWlnaHQ6IDEwMC4wJTsiPlBsYXlhIEJhbGxlbmE8L2Rpdj5gKVswXTsKICAgICAgICAgICAgcG9wdXBfNDM4MzUxYWNjMzA2NDQ1ZGI3NzE3ZGYwY2I3Yzk2MTQuc2V0Q29udGVudChodG1sXzBiMDhhNGJiZTdkZDRkMDdiMzFkNjAxODcxNzk1YWRhKTsKICAgICAgICAKCiAgICAgICAgY2lyY2xlX21hcmtlcl84NGJiMzhiZmIyN2Y0NGEyOTNjMmJhNTQ2MTI1ODFmZC5iaW5kUG9wdXAocG9wdXBfNDM4MzUxYWNjMzA2NDQ1ZGI3NzE3ZGYwY2I3Yzk2MTQpCiAgICAgICAgOwoKICAgICAgICAKICAgIAogICAgCiAgICAgICAgICAgIHZhciBjaXJjbGVfbWFya2VyXzBlYTBmMjcyNjljZDRhNGY4YWMxYzk2ZTgyZDkyMmEzID0gTC5jaXJjbGVNYXJrZXIoCiAgICAgICAgICAgICAgICBbOS4yNjA3MDkyNSwgLTgzLjg3NzkyMDk1NzkxOTk3XSwKICAgICAgICAgICAgICAgIHsiYnViYmxpbmdNb3VzZUV2ZW50cyI6IHRydWUsICJjb2xvciI6ICJZZWxsb3ciLCAiZGFzaEFycmF5IjogbnVsbCwgImRhc2hPZmZzZXQiOiBudWxsLCAiZmlsbCI6IHRydWUsICJmaWxsQ29sb3IiOiAiIzMxODZjYyIsICJmaWxsT3BhY2l0eSI6IDAuNiwgImZpbGxSdWxlIjogImV2ZW5vZGQiLCAibGluZUNhcCI6ICJyb3VuZCIsICJsaW5lSm9pbiI6ICJyb3VuZCIsICJvcGFjaXR5IjogMS4wLCAicmFkaXVzIjogNiwgInN0cm9rZSI6IHRydWUsICJ3ZWlnaHQiOiAzfQogICAgICAgICAgICApLmFkZFRvKG1hcF9hZjU4NzI1NTU3ZTY0OTI5ODA0ZTg1NjZmZmZkMjFlOSk7CiAgICAgICAgCiAgICAKICAgICAgICB2YXIgcG9wdXBfMDUyYWI0OWYzNDQwNDM4MmE2ZDE0YmY1N2I2ZDRhYjQgPSBMLnBvcHVwKHsibWF4V2lkdGgiOiAiMTAwJSJ9KTsKCiAgICAgICAgCiAgICAgICAgICAgIHZhciBodG1sXzBmNjY3OGE2M2U2ODRjNjhiMGYxNWEzNTNmM2YzMzQ1ID0gJChgPGRpdiBpZD0iaHRtbF8wZjY2NzhhNjNlNjg0YzY4YjBmMTVhMzUzZjNmMzM0NSIgc3R5bGU9IndpZHRoOiAxMDAuMCU7IGhlaWdodDogMTAwLjAlOyI+UGxheWEgQmFyw7o8L2Rpdj5gKVswXTsKICAgICAgICAgICAgcG9wdXBfMDUyYWI0OWYzNDQwNDM4MmE2ZDE0YmY1N2I2ZDRhYjQuc2V0Q29udGVudChodG1sXzBmNjY3OGE2M2U2ODRjNjhiMGYxNWEzNTNmM2YzMzQ1KTsKICAgICAgICAKCiAgICAgICAgY2lyY2xlX21hcmtlcl8wZWEwZjI3MjY5Y2Q0YTRmOGFjMWM5NmU4MmQ5MjJhMy5iaW5kUG9wdXAocG9wdXBfMDUyYWI0OWYzNDQwNDM4MmE2ZDE0YmY1N2I2ZDRhYjQpCiAgICAgICAgOwoKICAgICAgICAKICAgIAogICAgCiAgICAgICAgICAgIHZhciBjaXJjbGVfbWFya2VyX2YzY2EyNTkxMzVmMzQwYzhiMDBhZGNmZTFkZmQyOTAyID0gTC5jaXJjbGVNYXJrZXIoCiAgICAgICAgICAgICAgICBbMTAuMDYyOTk2NiwgLTg0Ljk1NjYwMDEzNjQ2ODgxXSwKICAgICAgICAgICAgICAgIHsiYnViYmxpbmdNb3VzZUV2ZW50cyI6IHRydWUsICJjb2xvciI6ICJZZWxsb3ciLCAiZGFzaEFycmF5IjogbnVsbCwgImRhc2hPZmZzZXQiOiBudWxsLCAiZmlsbCI6IHRydWUsICJmaWxsQ29sb3IiOiAiIzMxODZjYyIsICJmaWxsT3BhY2l0eSI6IDAuNiwgImZpbGxSdWxlIjogImV2ZW5vZGQiLCAibGluZUNhcCI6ICJyb3VuZCIsICJsaW5lSm9pbiI6ICJyb3VuZCIsICJvcGFjaXR5IjogMS4wLCAicmFkaXVzIjogNiwgInN0cm9rZSI6IHRydWUsICJ3ZWlnaHQiOiAzfQogICAgICAgICAgICApLmFkZFRvKG1hcF9hZjU4NzI1NTU3ZTY0OTI5ODA0ZTg1NjZmZmZkMjFlOSk7CiAgICAgICAgCiAgICAKICAgICAgICB2YXIgcG9wdXBfMTVjYWRlNjZjZGJhNDljNWIwY2QxOWI1NTYyYmU2YmEgPSBMLnBvcHVwKHsibWF4V2lkdGgiOiAiMTAwJSJ9KTsKCiAgICAgICAgCiAgICAgICAgICAgIHZhciBodG1sXzEyYzkyZWIxNTJjMjRkZDdhYmVjZmYwZjkyNmMzNzk0ID0gJChgPGRpdiBpZD0iaHRtbF8xMmM5MmViMTUyYzI0ZGQ3YWJlY2ZmMGY5MjZjMzc5NCIgc3R5bGU9IndpZHRoOiAxMDAuMCU7IGhlaWdodDogMTAwLjAlOyI+UGxheWEgQmxhbmNhPC9kaXY+YClbMF07CiAgICAgICAgICAgIHBvcHVwXzE1Y2FkZTY2Y2RiYTQ5YzViMGNkMTliNTU2MmJlNmJhLnNldENvbnRlbnQoaHRtbF8xMmM5MmViMTUyYzI0ZGQ3YWJlY2ZmMGY5MjZjMzc5NCk7CiAgICAgICAgCgogICAgICAgIGNpcmNsZV9tYXJrZXJfZjNjYTI1OTEzNWYzNDBjOGIwMGFkY2ZlMWRmZDI5MDIuYmluZFBvcHVwKHBvcHVwXzE1Y2FkZTY2Y2RiYTQ5YzViMGNkMTliNTU2MmJlNmJhKQogICAgICAgIDsKCiAgICAgICAgCiAgICAKICAgIAogICAgICAgICAgICB2YXIgY2lyY2xlX21hcmtlcl80ZDQ4MjNiNmY3NzE0YzcxYmYyMmU5NWNlMDExNzY5MiA9IEwuY2lyY2xlTWFya2VyKAogICAgICAgICAgICAgICAgWzguNTE1ODQwODUsIC04My4xMzYzNjc0NTA2MjY4OV0sCiAgICAgICAgICAgICAgICB7ImJ1YmJsaW5nTW91c2VFdmVudHMiOiB0cnVlLCAiY29sb3IiOiAiWWVsbG93IiwgImRhc2hBcnJheSI6IG51bGwsICJkYXNoT2Zmc2V0IjogbnVsbCwgImZpbGwiOiB0cnVlLCAiZmlsbENvbG9yIjogIiMzMTg2Y2MiLCAiZmlsbE9wYWNpdHkiOiAwLjYsICJmaWxsUnVsZSI6ICJldmVub2RkIiwgImxpbmVDYXAiOiAicm91bmQiLCAibGluZUpvaW4iOiAicm91bmQiLCAib3BhY2l0eSI6IDEuMCwgInJhZGl1cyI6IDYsICJzdHJva2UiOiB0cnVlLCAid2VpZ2h0IjogM30KICAgICAgICAgICAgKS5hZGRUbyhtYXBfYWY1ODcyNTU1N2U2NDkyOTgwNGU4NTY2ZmZmZDIxZTkpOwogICAgICAgIAogICAgCiAgICAgICAgdmFyIHBvcHVwXzM2ZmRkNWFjNmMyYTQxZmE5ZDYyOTkzYTEwYzhlNGE1ID0gTC5wb3B1cCh7Im1heFdpZHRoIjogIjEwMCUifSk7CgogICAgICAgIAogICAgICAgICAgICB2YXIgaHRtbF9iMmNlOWQ0NWRhMGU0NTFjYmE5OGI5MjMzNTMwZTM1MCA9ICQoYDxkaXYgaWQ9Imh0bWxfYjJjZTlkNDVkYTBlNDUxY2JhOThiOTIzMzUzMGUzNTAiIHN0eWxlPSJ3aWR0aDogMTAwLjAlOyBoZWlnaHQ6IDEwMC4wJTsiPlBsYXlhIEJvY2EgVmllamE8L2Rpdj5gKVswXTsKICAgICAgICAgICAgcG9wdXBfMzZmZGQ1YWM2YzJhNDFmYTlkNjI5OTNhMTBjOGU0YTUuc2V0Q29udGVudChodG1sX2IyY2U5ZDQ1ZGEwZTQ1MWNiYTk4YjkyMzM1MzBlMzUwKTsKICAgICAgICAKCiAgICAgICAgY2lyY2xlX21hcmtlcl80ZDQ4MjNiNmY3NzE0YzcxYmYyMmU5NWNlMDExNzY5Mi5iaW5kUG9wdXAocG9wdXBfMzZmZGQ1YWM2YzJhNDFmYTlkNjI5OTNhMTBjOGU0YTUpCiAgICAgICAgOwoKICAgICAgICAKICAgIAogICAgCiAgICAgICAgICAgIHZhciBjaXJjbGVfbWFya2VyXzMxOGNiOTM1OThmYzQ0MWJhM2ExYzNkNGZhMDY3MjU1ID0gTC5jaXJjbGVNYXJrZXIoCiAgICAgICAgICAgICAgICBbOC41MTU4NDA4NSwgLTgzLjEzNjM2NzQ1MDYyNjg5XSwKICAgICAgICAgICAgICAgIHsiYnViYmxpbmdNb3VzZUV2ZW50cyI6IHRydWUsICJjb2xvciI6ICJZZWxsb3ciLCAiZGFzaEFycmF5IjogbnVsbCwgImRhc2hPZmZzZXQiOiBudWxsLCAiZmlsbCI6IHRydWUsICJmaWxsQ29sb3IiOiAiIzMxODZjYyIsICJmaWxsT3BhY2l0eSI6IDAuNiwgImZpbGxSdWxlIjogImV2ZW5vZGQiLCAibGluZUNhcCI6ICJyb3VuZCIsICJsaW5lSm9pbiI6ICJyb3VuZCIsICJvcGFjaXR5IjogMS4wLCAicmFkaXVzIjogNiwgInN0cm9rZSI6IHRydWUsICJ3ZWlnaHQiOiAzfQogICAgICAgICAgICApLmFkZFRvKG1hcF9hZjU4NzI1NTU3ZTY0OTI5ODA0ZTg1NjZmZmZkMjFlOSk7CiAgICAgICAgCiAgICAKICAgICAgICB2YXIgcG9wdXBfNzQ0ZTRiMzQxYmI4NGQxNGJiMzg5ZThkNzgwYmFiOGIgPSBMLnBvcHVwKHsibWF4V2lkdGgiOiAiMTAwJSJ9KTsKCiAgICAgICAgCiAgICAgICAgICAgIHZhciBodG1sXzhiZWIwMzQ1ZjhiZjQ1ZDhiNDAyMWQ4NzVhYTk3NzIyID0gJChgPGRpdiBpZD0iaHRtbF84YmViMDM0NWY4YmY0NWQ4YjQwMjFkODc1YWE5NzcyMiIgc3R5bGU9IndpZHRoOiAxMDAuMCU7IGhlaWdodDogMTAwLjAlOyI+UGxheWEgQ2FibyBCbGFuY288L2Rpdj5gKVswXTsKICAgICAgICAgICAgcG9wdXBfNzQ0ZTRiMzQxYmI4NGQxNGJiMzg5ZThkNzgwYmFiOGIuc2V0Q29udGVudChodG1sXzhiZWIwMzQ1ZjhiZjQ1ZDhiNDAyMWQ4NzVhYTk3NzIyKTsKICAgICAgICAKCiAgICAgICAgY2lyY2xlX21hcmtlcl8zMThjYjkzNTk4ZmM0NDFiYTNhMWMzZDRmYTA2NzI1NS5iaW5kUG9wdXAocG9wdXBfNzQ0ZTRiMzQxYmI4NGQxNGJiMzg5ZThkNzgwYmFiOGIpCiAgICAgICAgOwoKICAgICAgICAKICAgIAogICAgCiAgICAgICAgICAgIHZhciBjaXJjbGVfbWFya2VyXzBmMzc3Njg2ZDg4OTQ4YWE5NmYwNTRlNjBmNWY3OTY2ID0gTC5jaXJjbGVNYXJrZXIoCiAgICAgICAgICAgICAgICBbOS41OTk1MDU1LCAtODUuMDg1MTYxOF0sCiAgICAgICAgICAgICAgICB7ImJ1YmJsaW5nTW91c2VFdmVudHMiOiB0cnVlLCAiY29sb3IiOiAiWWVsbG93IiwgImRhc2hBcnJheSI6IG51bGwsICJkYXNoT2Zmc2V0IjogbnVsbCwgImZpbGwiOiB0cnVlLCAiZmlsbENvbG9yIjogIiMzMTg2Y2MiLCAiZmlsbE9wYWNpdHkiOiAwLjYsICJmaWxsUnVsZSI6ICJldmVub2RkIiwgImxpbmVDYXAiOiAicm91bmQiLCAibGluZUpvaW4iOiAicm91bmQiLCAib3BhY2l0eSI6IDEuMCwgInJhZGl1cyI6IDYsICJzdHJva2UiOiB0cnVlLCAid2VpZ2h0IjogM30KICAgICAgICAgICAgKS5hZGRUbyhtYXBfYWY1ODcyNTU1N2U2NDkyOTgwNGU4NTY2ZmZmZDIxZTkpOwogICAgICAgIAogICAgCiAgICAgICAgdmFyIHBvcHVwXzhlYTI0YjkwNDQ2ZjRhZjJhMmVmMWRmOGQ4MDdiZTUxID0gTC5wb3B1cCh7Im1heFdpZHRoIjogIjEwMCUifSk7CgogICAgICAgIAogICAgICAgICAgICB2YXIgaHRtbF84YmI5YmM2N2Q5YjQ0ZWU0OWMyYjlkOWIyODAzMDE0MiA9ICQoYDxkaXYgaWQ9Imh0bWxfOGJiOWJjNjdkOWI0NGVlNDljMmI5ZDliMjgwMzAxNDIiIHN0eWxlPSJ3aWR0aDogMTAwLjAlOyBoZWlnaHQ6IDEwMC4wJTsiPlBsYXlhIENhYnV5YTwvZGl2PmApWzBdOwogICAgICAgICAgICBwb3B1cF84ZWEyNGI5MDQ0NmY0YWYyYTJlZjFkZjhkODA3YmU1MS5zZXRDb250ZW50KGh0bWxfOGJiOWJjNjdkOWI0NGVlNDljMmI5ZDliMjgwMzAxNDIpOwogICAgICAgIAoKICAgICAgICBjaXJjbGVfbWFya2VyXzBmMzc3Njg2ZDg4OTQ4YWE5NmYwNTRlNjBmNWY3OTY2LmJpbmRQb3B1cChwb3B1cF84ZWEyNGI5MDQ0NmY0YWYyYTJlZjFkZjhkODA3YmU1MSkKICAgICAgICA7CgogICAgICAgIAogICAgCiAgICAKICAgICAgICAgICAgdmFyIGNpcmNsZV9tYXJrZXJfMTdiNzAyN2RhMWMwNDkzMmEwNmZjOTY1ZTYzOTAwOGUgPSBMLmNpcmNsZU1hcmtlcigKICAgICAgICAgICAgICAgIFs4LjY5NTQ5NjQsIC04My42Nzk5MDI3ODcwMDQ1Ml0sCiAgICAgICAgICAgICAgICB7ImJ1YmJsaW5nTW91c2VFdmVudHMiOiB0cnVlLCAiY29sb3IiOiAiWWVsbG93IiwgImRhc2hBcnJheSI6IG51bGwsICJkYXNoT2Zmc2V0IjogbnVsbCwgImZpbGwiOiB0cnVlLCAiZmlsbENvbG9yIjogIiMzMTg2Y2MiLCAiZmlsbE9wYWNpdHkiOiAwLjYsICJmaWxsUnVsZSI6ICJldmVub2RkIiwgImxpbmVDYXAiOiAicm91bmQiLCAibGluZUpvaW4iOiAicm91bmQiLCAib3BhY2l0eSI6IDEuMCwgInJhZGl1cyI6IDYsICJzdHJva2UiOiB0cnVlLCAid2VpZ2h0IjogM30KICAgICAgICAgICAgKS5hZGRUbyhtYXBfYWY1ODcyNTU1N2U2NDkyOTgwNGU4NTY2ZmZmZDIxZTkpOwogICAgICAgIAogICAgCiAgICAgICAgdmFyIHBvcHVwXzU1NzU1NjU2MjkwYzQ2MWQ4MWM1OGU3ZTI5NmM3MjQyID0gTC5wb3B1cCh7Im1heFdpZHRoIjogIjEwMCUifSk7CgogICAgICAgIAogICAgICAgICAgICB2YXIgaHRtbF9mZGVjMWNmMjMwZjg0NGFkODQ4YzIzNTY2NmZlZjhjNCA9ICQoYDxkaXYgaWQ9Imh0bWxfZmRlYzFjZjIzMGY4NDRhZDg0OGMyMzU2NjZmZWY4YzQiIHN0eWxlPSJ3aWR0aDogMTAwLjAlOyBoZWlnaHQ6IDEwMC4wJTsiPlBsYXlhIENvY2FsaXRvPC9kaXY+YClbMF07CiAgICAgICAgICAgIHBvcHVwXzU1NzU1NjU2MjkwYzQ2MWQ4MWM1OGU3ZTI5NmM3MjQyLnNldENvbnRlbnQoaHRtbF9mZGVjMWNmMjMwZjg0NGFkODQ4YzIzNTY2NmZlZjhjNCk7CiAgICAgICAgCgogICAgICAgIGNpcmNsZV9tYXJrZXJfMTdiNzAyN2RhMWMwNDkzMmEwNmZjOTY1ZTYzOTAwOGUuYmluZFBvcHVwKHBvcHVwXzU1NzU1NjU2MjkwYzQ2MWQ4MWM1OGU3ZTI5NmM3MjQyKQogICAgICAgIDsKCiAgICAgICAgCiAgICAKICAgIAogICAgICAgICAgICB2YXIgY2lyY2xlX21hcmtlcl9iYjhjYjA4NTg1N2E0NTI2OGFhNDczN2IwNjgxYWI1ZCA9IEwuY2lyY2xlTWFya2VyKAogICAgICAgICAgICAgICAgWzguNjM3MDg0MiwgLTgzLjE2OTAzNTldLAogICAgICAgICAgICAgICAgeyJidWJibGluZ01vdXNlRXZlbnRzIjogdHJ1ZSwgImNvbG9yIjogIlllbGxvdyIsICJkYXNoQXJyYXkiOiBudWxsLCAiZGFzaE9mZnNldCI6IG51bGwsICJmaWxsIjogdHJ1ZSwgImZpbGxDb2xvciI6ICIjMzE4NmNjIiwgImZpbGxPcGFjaXR5IjogMC42LCAiZmlsbFJ1bGUiOiAiZXZlbm9kZCIsICJsaW5lQ2FwIjogInJvdW5kIiwgImxpbmVKb2luIjogInJvdW5kIiwgIm9wYWNpdHkiOiAxLjAsICJyYWRpdXMiOiA2LCAic3Ryb2tlIjogdHJ1ZSwgIndlaWdodCI6IDN9CiAgICAgICAgICAgICkuYWRkVG8obWFwX2FmNTg3MjU1NTdlNjQ5Mjk4MDRlODU2NmZmZmQyMWU5KTsKICAgICAgICAKICAgIAogICAgICAgIHZhciBwb3B1cF8wNmVkMTM4ZjFmYjg0MzkxOWE3YTdmMTE2ZjJhYWRiMyA9IEwucG9wdXAoeyJtYXhXaWR0aCI6ICIxMDAlIn0pOwoKICAgICAgICAKICAgICAgICAgICAgdmFyIGh0bWxfZmJjNDI1YzE2MTM0NDUzYWJkYjMyMDc0Y2Y2MTNjOTQgPSAkKGA8ZGl2IGlkPSJodG1sX2ZiYzQyNWMxNjEzNDQ1M2FiZGIzMjA3NGNmNjEzYzk0IiBzdHlsZT0id2lkdGg6IDEwMC4wJTsgaGVpZ2h0OiAxMDAuMCU7Ij5QbGF5YSBDYWNhbzwvZGl2PmApWzBdOwogICAgICAgICAgICBwb3B1cF8wNmVkMTM4ZjFmYjg0MzkxOWE3YTdmMTE2ZjJhYWRiMy5zZXRDb250ZW50KGh0bWxfZmJjNDI1YzE2MTM0NDUzYWJkYjMyMDc0Y2Y2MTNjOTQpOwogICAgICAgIAoKICAgICAgICBjaXJjbGVfbWFya2VyX2JiOGNiMDg1ODU3YTQ1MjY4YWE0NzM3YjA2ODFhYjVkLmJpbmRQb3B1cChwb3B1cF8wNmVkMTM4ZjFmYjg0MzkxOWE3YTdmMTE2ZjJhYWRiMykKICAgICAgICA7CgogICAgICAgIAogICAgCiAgICAKICAgICAgICAgICAgdmFyIGNpcmNsZV9tYXJrZXJfMzJiMjhkOGE4MjRjNDA2NjliMmU4NWFjYTBmNjU1YmIgPSBMLmNpcmNsZU1hcmtlcigKICAgICAgICAgICAgICAgIFs5LjkzMjM1Mjk5OTk5OTk5OSwgLTg0LjcyMTQ0ODQ1NzcxODZdLAogICAgICAgICAgICAgICAgeyJidWJibGluZ01vdXNlRXZlbnRzIjogdHJ1ZSwgImNvbG9yIjogIlllbGxvdyIsICJkYXNoQXJyYXkiOiBudWxsLCAiZGFzaE9mZnNldCI6IG51bGwsICJmaWxsIjogdHJ1ZSwgImZpbGxDb2xvciI6ICIjMzE4NmNjIiwgImZpbGxPcGFjaXR5IjogMC42LCAiZmlsbFJ1bGUiOiAiZXZlbm9kZCIsICJsaW5lQ2FwIjogInJvdW5kIiwgImxpbmVKb2luIjogInJvdW5kIiwgIm9wYWNpdHkiOiAxLjAsICJyYWRpdXMiOiA2LCAic3Ryb2tlIjogdHJ1ZSwgIndlaWdodCI6IDN9CiAgICAgICAgICAgICkuYWRkVG8obWFwX2FmNTg3MjU1NTdlNjQ5Mjk4MDRlODU2NmZmZmQyMWU5KTsKICAgICAgICAKICAgIAogICAgICAgIHZhciBwb3B1cF8zYTc2MTdkNThiNjY0YjI3YjRkNjQ2MDdhMzUxZjFjMSA9IEwucG9wdXAoeyJtYXhXaWR0aCI6ICIxMDAlIn0pOwoKICAgICAgICAKICAgICAgICAgICAgdmFyIGh0bWxfODEzNWQzNjVhNzFkNDZkNDhiMzU0OGViYTQ1NzQ4NDYgPSAkKGA8ZGl2IGlkPSJodG1sXzgxMzVkMzY1YTcxZDQ2ZDQ4YjM1NDhlYmE0NTc0ODQ2IiBzdHlsZT0id2lkdGg6IDEwMC4wJTsgaGVpZ2h0OiAxMDAuMCU7Ij5QbGF5YSBDYWxkZXJhPC9kaXY+YClbMF07CiAgICAgICAgICAgIHBvcHVwXzNhNzYxN2Q1OGI2NjRiMjdiNGQ2NDYwN2EzNTFmMWMxLnNldENvbnRlbnQoaHRtbF84MTM1ZDM2NWE3MWQ0NmQ0OGIzNTQ4ZWJhNDU3NDg0Nik7CiAgICAgICAgCgogICAgICAgIGNpcmNsZV9tYXJrZXJfMzJiMjhkOGE4MjRjNDA2NjliMmU4NWFjYTBmNjU1YmIuYmluZFBvcHVwKHBvcHVwXzNhNzYxN2Q1OGI2NjRiMjdiNGQ2NDYwN2EzNTFmMWMxKQogICAgICAgIDsKCiAgICAgICAgCiAgICAKICAgIAogICAgICAgICAgICB2YXIgY2lyY2xlX21hcmtlcl8yZTVhMDQ0Mjk4ZGI0OWIxOTYxNzYyMDM0ZTJkMGIxMSA9IEwuY2lyY2xlTWFya2VyKAogICAgICAgICAgICAgICAgWzguNDQwNzA2MjAwMDAwMDAxLCAtODMuNDU1OTQ5MDgyOTk2M10sCiAgICAgICAgICAgICAgICB7ImJ1YmJsaW5nTW91c2VFdmVudHMiOiB0cnVlLCAiY29sb3IiOiAiWWVsbG93IiwgImRhc2hBcnJheSI6IG51bGwsICJkYXNoT2Zmc2V0IjogbnVsbCwgImZpbGwiOiB0cnVlLCAiZmlsbENvbG9yIjogIiMzMTg2Y2MiLCAiZmlsbE9wYWNpdHkiOiAwLjYsICJmaWxsUnVsZSI6ICJldmVub2RkIiwgImxpbmVDYXAiOiAicm91bmQiLCAibGluZUpvaW4iOiAicm91bmQiLCAib3BhY2l0eSI6IDEuMCwgInJhZGl1cyI6IDYsICJzdHJva2UiOiB0cnVlLCAid2VpZ2h0IjogM30KICAgICAgICAgICAgKS5hZGRUbyhtYXBfYWY1ODcyNTU1N2U2NDkyOTgwNGU4NTY2ZmZmZDIxZTkpOwogICAgICAgIAogICAgCiAgICAgICAgdmFyIHBvcHVwX2VhYmM2ZWRhMjM2ODRlNGNiYzk1M2U4MzlhMGFkZDEwID0gTC5wb3B1cCh7Im1heFdpZHRoIjogIjEwMCUifSk7CgogICAgICAgIAogICAgICAgICAgICB2YXIgaHRtbF83ZGY0OTNmMzYwMjI0ZTBhYThkM2QyZDI1NWMyOTA2ZCA9ICQoYDxkaXYgaWQ9Imh0bWxfN2RmNDkzZjM2MDIyNGUwYWE4ZDNkMmQyNTVjMjkwNmQiIHN0eWxlPSJ3aWR0aDogMTAwLjAlOyBoZWlnaHQ6IDEwMC4wJTsiPlBsYXlhIENhcmF0ZTwvZGl2PmApWzBdOwogICAgICAgICAgICBwb3B1cF9lYWJjNmVkYTIzNjg0ZTRjYmM5NTNlODM5YTBhZGQxMC5zZXRDb250ZW50KGh0bWxfN2RmNDkzZjM2MDIyNGUwYWE4ZDNkMmQyNTVjMjkwNmQpOwogICAgICAgIAoKICAgICAgICBjaXJjbGVfbWFya2VyXzJlNWEwNDQyOThkYjQ5YjE5NjE3NjIwMzRlMmQwYjExLmJpbmRQb3B1cChwb3B1cF9lYWJjNmVkYTIzNjg0ZTRjYmM5NTNlODM5YTBhZGQxMCkKICAgICAgICA7CgogICAgICAgIAogICAgCiAgICAKICAgICAgICAgICAgdmFyIGNpcmNsZV9tYXJrZXJfODgwMjFiZDMwOGJiNDRjZThjMTJhNDViNjg0MWQwNmIgPSBMLmNpcmNsZU1hcmtlcigKICAgICAgICAgICAgICAgIFs5Ljc4OTE1Mzg5OTk5OTk5OSwgLTg0LjkyNDM4OTE4MzU3NDldLAogICAgICAgICAgICAgICAgeyJidWJibGluZ01vdXNlRXZlbnRzIjogdHJ1ZSwgImNvbG9yIjogIlllbGxvdyIsICJkYXNoQXJyYXkiOiBudWxsLCAiZGFzaE9mZnNldCI6IG51bGwsICJmaWxsIjogdHJ1ZSwgImZpbGxDb2xvciI6ICIjMzE4NmNjIiwgImZpbGxPcGFjaXR5IjogMC42LCAiZmlsbFJ1bGUiOiAiZXZlbm9kZCIsICJsaW5lQ2FwIjogInJvdW5kIiwgImxpbmVKb2luIjogInJvdW5kIiwgIm9wYWNpdHkiOiAxLjAsICJyYWRpdXMiOiA2LCAic3Ryb2tlIjogdHJ1ZSwgIndlaWdodCI6IDN9CiAgICAgICAgICAgICkuYWRkVG8obWFwX2FmNTg3MjU1NTdlNjQ5Mjk4MDRlODU2NmZmZmQyMWU5KTsKICAgICAgICAKICAgIAogICAgICAgIHZhciBwb3B1cF8yMThhZTdkNDUxMWM0MzllOTI1MWRkNDYzMDYxZjM0OSA9IEwucG9wdXAoeyJtYXhXaWR0aCI6ICIxMDAlIn0pOwoKICAgICAgICAKICAgICAgICAgICAgdmFyIGh0bWxfYjc2YTc1Zjc2YTUwNDI3M2I2ZjgxMGFlYjcyOTJlYzIgPSAkKGA8ZGl2IGlkPSJodG1sX2I3NmE3NWY3NmE1MDQyNzNiNmY4MTBhZWI3MjkyZWMyIiBzdHlsZT0id2lkdGg6IDEwMC4wJTsgaGVpZ2h0OiAxMDAuMCU7Ij5QbGF5YSBDdXLDujwvZGl2PmApWzBdOwogICAgICAgICAgICBwb3B1cF8yMThhZTdkNDUxMWM0MzllOTI1MWRkNDYzMDYxZjM0OS5zZXRDb250ZW50KGh0bWxfYjc2YTc1Zjc2YTUwNDI3M2I2ZjgxMGFlYjcyOTJlYzIpOwogICAgICAgIAoKICAgICAgICBjaXJjbGVfbWFya2VyXzg4MDIxYmQzMDhiYjQ0Y2U4YzEyYTQ1YjY4NDFkMDZiLmJpbmRQb3B1cChwb3B1cF8yMThhZTdkNDUxMWM0MzllOTI1MWRkNDYzMDYxZjM0OSkKICAgICAgICA7CgogICAgICAgIAogICAgCiAgICAKICAgICAgICAgICAgdmFyIGNpcmNsZV9tYXJrZXJfZDA4NWNiZjc3MTcyNGM2ZTljYmI2NmRhNTVlMWMwNDkgPSBMLmNpcmNsZU1hcmtlcigKICAgICAgICAgICAgICAgIFs4LjUxNTg0MDg1LCAtODMuMTM2MzY3NDUwNjI2ODldLAogICAgICAgICAgICAgICAgeyJidWJibGluZ01vdXNlRXZlbnRzIjogdHJ1ZSwgImNvbG9yIjogIlllbGxvdyIsICJkYXNoQXJyYXkiOiBudWxsLCAiZGFzaE9mZnNldCI6IG51bGwsICJmaWxsIjogdHJ1ZSwgImZpbGxDb2xvciI6ICIjMzE4NmNjIiwgImZpbGxPcGFjaXR5IjogMC42LCAiZmlsbFJ1bGUiOiAiZXZlbm9kZCIsICJsaW5lQ2FwIjogInJvdW5kIiwgImxpbmVKb2luIjogInJvdW5kIiwgIm9wYWNpdHkiOiAxLjAsICJyYWRpdXMiOiA2LCAic3Ryb2tlIjogdHJ1ZSwgIndlaWdodCI6IDN9CiAgICAgICAgICAgICkuYWRkVG8obWFwX2FmNTg3MjU1NTdlNjQ5Mjk4MDRlODU2NmZmZmQyMWU5KTsKICAgICAgICAKICAgIAogICAgICAgIHZhciBwb3B1cF9kODhkY2M2N2MxNDQ0ODFjYmExODk2ZTg2ODVhNTc3NiA9IEwucG9wdXAoeyJtYXhXaWR0aCI6ICIxMDAlIn0pOwoKICAgICAgICAKICAgICAgICAgICAgdmFyIGh0bWxfN2MzNDliYzEyNWE1NDk4M2JlOGVkNjFlYzA5N2NkNTEgPSAkKGA8ZGl2IGlkPSJodG1sXzdjMzQ5YmMxMjVhNTQ5ODNiZThlZDYxZWMwOTdjZDUxIiBzdHlsZT0id2lkdGg6IDEwMC4wJTsgaGVpZ2h0OiAxMDAuMCU7Ij5QbGF5YSBkZSBBcmNvPC9kaXY+YClbMF07CiAgICAgICAgICAgIHBvcHVwX2Q4OGRjYzY3YzE0NDQ4MWNiYTE4OTZlODY4NWE1Nzc2LnNldENvbnRlbnQoaHRtbF83YzM0OWJjMTI1YTU0OTgzYmU4ZWQ2MWVjMDk3Y2Q1MSk7CiAgICAgICAgCgogICAgICAgIGNpcmNsZV9tYXJrZXJfZDA4NWNiZjc3MTcyNGM2ZTljYmI2NmRhNTVlMWMwNDkuYmluZFBvcHVwKHBvcHVwX2Q4OGRjYzY3YzE0NDQ4MWNiYTE4OTZlODY4NWE1Nzc2KQogICAgICAgIDsKCiAgICAgICAgCiAgICAKICAgIAogICAgICAgICAgICB2YXIgY2lyY2xlX21hcmtlcl9iNTUwODkzODQyNWQ0NzUwOWQ5YjFlOGUyZGE2ZTJiNSA9IEwuY2lyY2xlTWFya2VyKAogICAgICAgICAgICAgICAgWzguNTE1ODQwODUsIC04My4xMzYzNjc0NTA2MjY4OV0sCiAgICAgICAgICAgICAgICB7ImJ1YmJsaW5nTW91c2VFdmVudHMiOiB0cnVlLCAiY29sb3IiOiAiWWVsbG93IiwgImRhc2hBcnJheSI6IG51bGwsICJkYXNoT2Zmc2V0IjogbnVsbCwgImZpbGwiOiB0cnVlLCAiZmlsbENvbG9yIjogIiMzMTg2Y2MiLCAiZmlsbE9wYWNpdHkiOiAwLjYsICJmaWxsUnVsZSI6ICJldmVub2RkIiwgImxpbmVDYXAiOiAicm91bmQiLCAibGluZUpvaW4iOiAicm91bmQiLCAib3BhY2l0eSI6IDEuMCwgInJhZGl1cyI6IDYsICJzdHJva2UiOiB0cnVlLCAid2VpZ2h0IjogM30KICAgICAgICAgICAgKS5hZGRUbyhtYXBfYWY1ODcyNTU1N2U2NDkyOTgwNGU4NTY2ZmZmZDIxZTkpOwogICAgICAgIAogICAgCiAgICAgICAgdmFyIHBvcHVwXzhkMWNjYjM4NDdiMjRkMDNiOGFmNmFhYjI0NDkxMTY0ID0gTC5wb3B1cCh7Im1heFdpZHRoIjogIjEwMCUifSk7CgogICAgICAgIAogICAgICAgICAgICB2YXIgaHRtbF83OTFjMmUxZjE1NDg0Y2ZhODE4NWQ4ZTQ5NzM0Yzk2YSA9ICQoYDxkaXYgaWQ9Imh0bWxfNzkxYzJlMWYxNTQ4NGNmYTgxODVkOGU0OTczNGM5NmEiIHN0eWxlPSJ3aWR0aDogMTAwLjAlOyBoZWlnaHQ6IDEwMC4wJTsiPlBsYXlhIGRlIERvw7FhIEFuYTwvZGl2PmApWzBdOwogICAgICAgICAgICBwb3B1cF84ZDFjY2IzODQ3YjI0ZDAzYjhhZjZhYWIyNDQ5MTE2NC5zZXRDb250ZW50KGh0bWxfNzkxYzJlMWYxNTQ4NGNmYTgxODVkOGU0OTczNGM5NmEpOwogICAgICAgIAoKICAgICAgICBjaXJjbGVfbWFya2VyX2I1NTA4OTM4NDI1ZDQ3NTA5ZDliMWU4ZTJkYTZlMmI1LmJpbmRQb3B1cChwb3B1cF84ZDFjY2IzODQ3YjI0ZDAzYjhhZjZhYWIyNDQ5MTE2NCkKICAgICAgICA7CgogICAgICAgIAogICAgCiAgICAKICAgICAgICAgICAgdmFyIGNpcmNsZV9tYXJrZXJfMWQ2ZTE5ZjNhMzRhNDkyOGI5OTk4YmI5MGY5ZWRlNzEgPSBMLmNpcmNsZU1hcmtlcigKICAgICAgICAgICAgICAgIFs5LjI1MDkzNzE1LCAtODMuODY0MTgzNjI5MjQ4NDJdLAogICAgICAgICAgICAgICAgeyJidWJibGluZ01vdXNlRXZlbnRzIjogdHJ1ZSwgImNvbG9yIjogIlllbGxvdyIsICJkYXNoQXJyYXkiOiBudWxsLCAiZGFzaE9mZnNldCI6IG51bGwsICJmaWxsIjogdHJ1ZSwgImZpbGxDb2xvciI6ICIjMzE4NmNjIiwgImZpbGxPcGFjaXR5IjogMC42LCAiZmlsbFJ1bGUiOiAiZXZlbm9kZCIsICJsaW5lQ2FwIjogInJvdW5kIiwgImxpbmVKb2luIjogInJvdW5kIiwgIm9wYWNpdHkiOiAxLjAsICJyYWRpdXMiOiA2LCAic3Ryb2tlIjogdHJ1ZSwgIndlaWdodCI6IDN9CiAgICAgICAgICAgICkuYWRkVG8obWFwX2FmNTg3MjU1NTdlNjQ5Mjk4MDRlODU2NmZmZmQyMWU5KTsKICAgICAgICAKICAgIAogICAgICAgIHZhciBwb3B1cF84ZTJiZGFlNWI1ZDI0ZDZmODNkYTAyODJhZjFhODE4ZSA9IEwucG9wdXAoeyJtYXhXaWR0aCI6ICIxMDAlIn0pOwoKICAgICAgICAKICAgICAgICAgICAgdmFyIGh0bWxfNjU4MzI2MzAyZTc4NGFkNzgzZmY4ZDQwNmUzMjJiNWMgPSAkKGA8ZGl2IGlkPSJodG1sXzY1ODMyNjMwMmU3ODRhZDc4M2ZmOGQ0MDZlMzIyYjVjIiBzdHlsZT0id2lkdGg6IDEwMC4wJTsgaGVpZ2h0OiAxMDAuMCU7Ij5QbGF5YSBEb21pbmljYWw8L2Rpdj5gKVswXTsKICAgICAgICAgICAgcG9wdXBfOGUyYmRhZTViNWQyNGQ2ZjgzZGEwMjgyYWYxYTgxOGUuc2V0Q29udGVudChodG1sXzY1ODMyNjMwMmU3ODRhZDc4M2ZmOGQ0MDZlMzIyYjVjKTsKICAgICAgICAKCiAgICAgICAgY2lyY2xlX21hcmtlcl8xZDZlMTlmM2EzNGE0OTI4Yjk5OThiYjkwZjllZGU3MS5iaW5kUG9wdXAocG9wdXBfOGUyYmRhZTViNWQyNGQ2ZjgzZGEwMjgyYWYxYTgxOGUpCiAgICAgICAgOwoKICAgICAgICAKICAgIAogICAgCiAgICAgICAgICAgIHZhciBjaXJjbGVfbWFya2VyXzM4NjViYTRiYmI0ZjQzMjVhNzRhNTU3OTQyOWU5ODkyID0gTC5jaXJjbGVNYXJrZXIoCiAgICAgICAgICAgICAgICBbOS4yMzczOTU1NDk5OTk5OTksIC04My44NDU3MzEzMjI0MzMxNV0sCiAgICAgICAgICAgICAgICB7ImJ1YmJsaW5nTW91c2VFdmVudHMiOiB0cnVlLCAiY29sb3IiOiAiWWVsbG93IiwgImRhc2hBcnJheSI6IG51bGwsICJkYXNoT2Zmc2V0IjogbnVsbCwgImZpbGwiOiB0cnVlLCAiZmlsbENvbG9yIjogIiMzMTg2Y2MiLCAiZmlsbE9wYWNpdHkiOiAwLjYsICJmaWxsUnVsZSI6ICJldmVub2RkIiwgImxpbmVDYXAiOiAicm91bmQiLCAibGluZUpvaW4iOiAicm91bmQiLCAib3BhY2l0eSI6IDEuMCwgInJhZGl1cyI6IDYsICJzdHJva2UiOiB0cnVlLCAid2VpZ2h0IjogM30KICAgICAgICAgICAgKS5hZGRUbyhtYXBfYWY1ODcyNTU1N2U2NDkyOTgwNGU4NTY2ZmZmZDIxZTkpOwogICAgICAgIAogICAgCiAgICAgICAgdmFyIHBvcHVwXzkyNjA5NGRmYjcxODRjMzhiM2EyMWQzNDViOGE5NGRiID0gTC5wb3B1cCh7Im1heFdpZHRoIjogIjEwMCUifSk7CgogICAgICAgIAogICAgICAgICAgICB2YXIgaHRtbF8zYjQ1ZmRlMWQ4N2M0NWZjYmUyYjJmNTQ1ZmFlNzk3YiA9ICQoYDxkaXYgaWQ9Imh0bWxfM2I0NWZkZTFkODdjNDVmY2JlMmIyZjU0NWZhZTc5N2IiIHN0eWxlPSJ3aWR0aDogMTAwLjAlOyBoZWlnaHQ6IDEwMC4wJTsiPlBsYXlhIERvbWluaWNhbGl0bzwvZGl2PmApWzBdOwogICAgICAgICAgICBwb3B1cF85MjYwOTRkZmI3MTg0YzM4YjNhMjFkMzQ1YjhhOTRkYi5zZXRDb250ZW50KGh0bWxfM2I0NWZkZTFkODdjNDVmY2JlMmIyZjU0NWZhZTc5N2IpOwogICAgICAgIAoKICAgICAgICBjaXJjbGVfbWFya2VyXzM4NjViYTRiYmI0ZjQzMjVhNzRhNTU3OTQyOWU5ODkyLmJpbmRQb3B1cChwb3B1cF85MjYwOTRkZmI3MTg0YzM4YjNhMjFkMzQ1YjhhOTRkYikKICAgICAgICA7CgogICAgICAgIAogICAgCiAgICAKICAgICAgICAgICAgdmFyIGNpcmNsZV9tYXJrZXJfMzdlZDc1N2Y1MDBhNDhlNWE1ZTViNDBlY2UyOGYwNmMgPSBMLmNpcmNsZU1hcmtlcigKICAgICAgICAgICAgICAgIFs5LjM5MjQzNzE1LCAtODQuMTUxNzc3MjM3ODA2OTddLAogICAgICAgICAgICAgICAgeyJidWJibGluZ01vdXNlRXZlbnRzIjogdHJ1ZSwgImNvbG9yIjogIlllbGxvdyIsICJkYXNoQXJyYXkiOiBudWxsLCAiZGFzaE9mZnNldCI6IG51bGwsICJmaWxsIjogdHJ1ZSwgImZpbGxDb2xvciI6ICIjMzE4NmNjIiwgImZpbGxPcGFjaXR5IjogMC42LCAiZmlsbFJ1bGUiOiAiZXZlbm9kZCIsICJsaW5lQ2FwIjogInJvdW5kIiwgImxpbmVKb2luIjogInJvdW5kIiwgIm9wYWNpdHkiOiAxLjAsICJyYWRpdXMiOiA2LCAic3Ryb2tlIjogdHJ1ZSwgIndlaWdodCI6IDN9CiAgICAgICAgICAgICkuYWRkVG8obWFwX2FmNTg3MjU1NTdlNjQ5Mjk4MDRlODU2NmZmZmQyMWU5KTsKICAgICAgICAKICAgIAogICAgICAgIHZhciBwb3B1cF8xYTM0NmI1MWY3ZTU0NmI4YTJlYjYzNmE1ZTc5Yzc0MiA9IEwucG9wdXAoeyJtYXhXaWR0aCI6ICIxMDAlIn0pOwoKICAgICAgICAKICAgICAgICAgICAgdmFyIGh0bWxfMDgxZGM4NmZlOTAwNDJhYzkxZWQwY2U2N2RmZjdjYWMgPSAkKGA8ZGl2IGlkPSJodG1sXzA4MWRjODZmZTkwMDQyYWM5MWVkMGNlNjdkZmY3Y2FjIiBzdHlsZT0id2lkdGg6IDEwMC4wJTsgaGVpZ2h0OiAxMDAuMCU7Ij5QbGF5YSBFc3BhZGlsbGE8L2Rpdj5gKVswXTsKICAgICAgICAgICAgcG9wdXBfMWEzNDZiNTFmN2U1NDZiOGEyZWI2MzZhNWU3OWM3NDIuc2V0Q29udGVudChodG1sXzA4MWRjODZmZTkwMDQyYWM5MWVkMGNlNjdkZmY3Y2FjKTsKICAgICAgICAKCiAgICAgICAgY2lyY2xlX21hcmtlcl8zN2VkNzU3ZjUwMGE0OGU1YTVlNWI0MGVjZTI4ZjA2Yy5iaW5kUG9wdXAocG9wdXBfMWEzNDZiNTFmN2U1NDZiOGEyZWI2MzZhNWU3OWM3NDIpCiAgICAgICAgOwoKICAgICAgICAKICAgIAogICAgCiAgICAgICAgICAgIHZhciBjaXJjbGVfbWFya2VyX2E0MjI1YWZjYTMwYzQ4ZTY4ODZkOGJmNTU2Y2E1ZDBkID0gTC5jaXJjbGVNYXJrZXIoCiAgICAgICAgICAgICAgICBbOS41MjQzNzAyNSwgLTg0LjQ1NDQ5MTk4NDI5MjUzXSwKICAgICAgICAgICAgICAgIHsiYnViYmxpbmdNb3VzZUV2ZW50cyI6IHRydWUsICJjb2xvciI6ICJZZWxsb3ciLCAiZGFzaEFycmF5IjogbnVsbCwgImRhc2hPZmZzZXQiOiBudWxsLCAiZmlsbCI6IHRydWUsICJmaWxsQ29sb3IiOiAiIzMxODZjYyIsICJmaWxsT3BhY2l0eSI6IDAuNiwgImZpbGxSdWxlIjogImV2ZW5vZGQiLCAibGluZUNhcCI6ICJyb3VuZCIsICJsaW5lSm9pbiI6ICJyb3VuZCIsICJvcGFjaXR5IjogMS4wLCAicmFkaXVzIjogNiwgInN0cm9rZSI6IHRydWUsICJ3ZWlnaHQiOiAzfQogICAgICAgICAgICApLmFkZFRvKG1hcF9hZjU4NzI1NTU3ZTY0OTI5ODA0ZTg1NjZmZmZkMjFlOSk7CiAgICAgICAgCiAgICAKICAgICAgICB2YXIgcG9wdXBfZjRkOTliYWJlZTUzNDk1ZGJjODE0YTQwOTE0MmQzOGQgPSBMLnBvcHVwKHsibWF4V2lkdGgiOiAiMTAwJSJ9KTsKCiAgICAgICAgCiAgICAgICAgICAgIHZhciBodG1sX2E3ODcwNjc4NjA4YjRlZDk5MDEzZTQwYTFmOTdhNGQyID0gJChgPGRpdiBpZD0iaHRtbF9hNzg3MDY3ODYwOGI0ZWQ5OTAxM2U0MGExZjk3YTRkMiIgc3R5bGU9IndpZHRoOiAxMDAuMCU7IGhlaWdodDogMTAwLjAlOyI+UGxheWEgRXN0ZXJpbGxvczwvZGl2PmApWzBdOwogICAgICAgICAgICBwb3B1cF9mNGQ5OWJhYmVlNTM0OTVkYmM4MTRhNDA5MTQyZDM4ZC5zZXRDb250ZW50KGh0bWxfYTc4NzA2Nzg2MDhiNGVkOTkwMTNlNDBhMWY5N2E0ZDIpOwogICAgICAgIAoKICAgICAgICBjaXJjbGVfbWFya2VyX2E0MjI1YWZjYTMwYzQ4ZTY4ODZkOGJmNTU2Y2E1ZDBkLmJpbmRQb3B1cChwb3B1cF9mNGQ5OWJhYmVlNTM0OTVkYmM4MTRhNDA5MTQyZDM4ZCkKICAgICAgICA7CgogICAgICAgIAogICAgCiAgICAKICAgICAgICAgICAgdmFyIGNpcmNsZV9tYXJrZXJfODNiNzU4ZjFlY2YyNDU2ZWI0YjY1OGQ0ZDA4MWZiMTIgPSBMLmNpcmNsZU1hcmtlcigKICAgICAgICAgICAgICAgIFs4LjUxNTg0MDg1LCAtODMuMTM2MzY3NDUwNjI2ODldLAogICAgICAgICAgICAgICAgeyJidWJibGluZ01vdXNlRXZlbnRzIjogdHJ1ZSwgImNvbG9yIjogIlllbGxvdyIsICJkYXNoQXJyYXkiOiBudWxsLCAiZGFzaE9mZnNldCI6IG51bGwsICJmaWxsIjogdHJ1ZSwgImZpbGxDb2xvciI6ICIjMzE4NmNjIiwgImZpbGxPcGFjaXR5IjogMC42LCAiZmlsbFJ1bGUiOiAiZXZlbm9kZCIsICJsaW5lQ2FwIjogInJvdW5kIiwgImxpbmVKb2luIjogInJvdW5kIiwgIm9wYWNpdHkiOiAxLjAsICJyYWRpdXMiOiA2LCAic3Ryb2tlIjogdHJ1ZSwgIndlaWdodCI6IDN9CiAgICAgICAgICAgICkuYWRkVG8obWFwX2FmNTg3MjU1NTdlNjQ5Mjk4MDRlODU2NmZmZmQyMWU5KTsKICAgICAgICAKICAgIAogICAgICAgIHZhciBwb3B1cF9mNzJiZDdkYTJjYjY0ODE2OWYwNGEzYzdlMjU0NWU4NyA9IEwucG9wdXAoeyJtYXhXaWR0aCI6ICIxMDAlIn0pOwoKICAgICAgICAKICAgICAgICAgICAgdmFyIGh0bWxfNzJmMmY2ZjdkZTRhNGQ4MDkxNDk5Njk0NzMzOTc2MmYgPSAkKGA8ZGl2IGlkPSJodG1sXzcyZjJmNmY3ZGU0YTRkODA5MTQ5OTY5NDczMzk3NjJmIiBzdHlsZT0id2lkdGg6IDEwMC4wJTsgaGVpZ2h0OiAxMDAuMCU7Ij5QbGF5YSBHYXJ6YSAoQm9jYSBCcmF2YSk8L2Rpdj5gKVswXTsKICAgICAgICAgICAgcG9wdXBfZjcyYmQ3ZGEyY2I2NDgxNjlmMDRhM2M3ZTI1NDVlODcuc2V0Q29udGVudChodG1sXzcyZjJmNmY3ZGU0YTRkODA5MTQ5OTY5NDczMzk3NjJmKTsKICAgICAgICAKCiAgICAgICAgY2lyY2xlX21hcmtlcl84M2I3NThmMWVjZjI0NTZlYjRiNjU4ZDRkMDgxZmIxMi5iaW5kUG9wdXAocG9wdXBfZjcyYmQ3ZGEyY2I2NDgxNjlmMDRhM2M3ZTI1NDVlODcpCiAgICAgICAgOwoKICAgICAgICAKICAgIAogICAgCiAgICAgICAgICAgIHZhciBjaXJjbGVfbWFya2VyXzJjNmE0MGRiYzZkMDRlMTI5OWI2ZTc2NmU0N2JiNmNiID0gTC5jaXJjbGVNYXJrZXIoCiAgICAgICAgICAgICAgICBbOS44OTk1NDM0NSwgLTg0LjkyOTg0OTU0MzI0ODYxXSwKICAgICAgICAgICAgICAgIHsiYnViYmxpbmdNb3VzZUV2ZW50cyI6IHRydWUsICJjb2xvciI6ICJZZWxsb3ciLCAiZGFzaEFycmF5IjogbnVsbCwgImRhc2hPZmZzZXQiOiBudWxsLCAiZmlsbCI6IHRydWUsICJmaWxsQ29sb3IiOiAiIzMxODZjYyIsICJmaWxsT3BhY2l0eSI6IDAuNiwgImZpbGxSdWxlIjogImV2ZW5vZGQiLCAibGluZUNhcCI6ICJyb3VuZCIsICJsaW5lSm9pbiI6ICJyb3VuZCIsICJvcGFjaXR5IjogMS4wLCAicmFkaXVzIjogNiwgInN0cm9rZSI6IHRydWUsICJ3ZWlnaHQiOiAzfQogICAgICAgICAgICApLmFkZFRvKG1hcF9hZjU4NzI1NTU3ZTY0OTI5ODA0ZTg1NjZmZmZkMjFlOSk7CiAgICAgICAgCiAgICAKICAgICAgICB2YXIgcG9wdXBfMzE1MDBkNjBmMjExNDhkMmFiYTZmMGZjYmZhNDVlZWIgPSBMLnBvcHVwKHsibWF4V2lkdGgiOiAiMTAwJSJ9KTsKCiAgICAgICAgCiAgICAgICAgICAgIHZhciBodG1sX2UwZTQwNTM2MWU0ZjRjY2I4YTQyNGM1YjNmZTU0YTlkID0gJChgPGRpdiBpZD0iaHRtbF9lMGU0MDUzNjFlNGY0Y2NiOGE0MjRjNWIzZmU1NGE5ZCIgc3R5bGU9IndpZHRoOiAxMDAuMCU7IGhlaWdodDogMTAwLjAlOyI+UGxheWEgR2lnYW50ZTwvZGl2PmApWzBdOwogICAgICAgICAgICBwb3B1cF8zMTUwMGQ2MGYyMTE0OGQyYWJhNmYwZmNiZmE0NWVlYi5zZXRDb250ZW50KGh0bWxfZTBlNDA1MzYxZTRmNGNjYjhhNDI0YzViM2ZlNTRhOWQpOwogICAgICAgIAoKICAgICAgICBjaXJjbGVfbWFya2VyXzJjNmE0MGRiYzZkMDRlMTI5OWI2ZTc2NmU0N2JiNmNiLmJpbmRQb3B1cChwb3B1cF8zMTUwMGQ2MGYyMTE0OGQyYWJhNmYwZmNiZmE0NWVlYikKICAgICAgICA7CgogICAgICAgIAogICAgCiAgICAKICAgICAgICAgICAgdmFyIGNpcmNsZV9tYXJrZXJfMjBkZWM1OGRlZTAzNDFmYjk3NjFjZjhkNWYwNWUwOTMgPSBMLmNpcmNsZU1hcmtlcigKICAgICAgICAgICAgICAgIFs5LjY1MTE3OTc1LCAtODQuNjYwMDUwMjc3NTU2MTRdLAogICAgICAgICAgICAgICAgeyJidWJibGluZ01vdXNlRXZlbnRzIjogdHJ1ZSwgImNvbG9yIjogIlllbGxvdyIsICJkYXNoQXJyYXkiOiBudWxsLCAiZGFzaE9mZnNldCI6IG51bGwsICJmaWxsIjogdHJ1ZSwgImZpbGxDb2xvciI6ICIjMzE4NmNjIiwgImZpbGxPcGFjaXR5IjogMC42LCAiZmlsbFJ1bGUiOiAiZXZlbm9kZCIsICJsaW5lQ2FwIjogInJvdW5kIiwgImxpbmVKb2luIjogInJvdW5kIiwgIm9wYWNpdHkiOiAxLjAsICJyYWRpdXMiOiA2LCAic3Ryb2tlIjogdHJ1ZSwgIndlaWdodCI6IDN9CiAgICAgICAgICAgICkuYWRkVG8obWFwX2FmNTg3MjU1NTdlNjQ5Mjk4MDRlODU2NmZmZmQyMWU5KTsKICAgICAgICAKICAgIAogICAgICAgIHZhciBwb3B1cF9hODk3ZTgzY2QyMmU0YjI3YWY1YjkxZTE1ODcyYWQxZSA9IEwucG9wdXAoeyJtYXhXaWR0aCI6ICIxMDAlIn0pOwoKICAgICAgICAKICAgICAgICAgICAgdmFyIGh0bWxfMDRhNWYyZDFlZjk1NDFlZjlmYTRhMzAwNzI0ZDg3OWUgPSAkKGA8ZGl2IGlkPSJodG1sXzA0YTVmMmQxZWY5NTQxZWY5ZmE0YTMwMDcyNGQ4NzllIiBzdHlsZT0id2lkdGg6IDEwMC4wJTsgaGVpZ2h0OiAxMDAuMCU7Ij5QbGF5YSBIZXJyYWR1cmE8L2Rpdj5gKVswXTsKICAgICAgICAgICAgcG9wdXBfYTg5N2U4M2NkMjJlNGIyN2FmNWI5MWUxNTg3MmFkMWUuc2V0Q29udGVudChodG1sXzA0YTVmMmQxZWY5NTQxZWY5ZmE0YTMwMDcyNGQ4NzllKTsKICAgICAgICAKCiAgICAgICAgY2lyY2xlX21hcmtlcl8yMGRlYzU4ZGVlMDM0MWZiOTc2MWNmOGQ1ZjA1ZTA5My5iaW5kUG9wdXAocG9wdXBfYTg5N2U4M2NkMjJlNGIyN2FmNWI5MWUxNTg3MmFkMWUpCiAgICAgICAgOwoKICAgICAgICAKICAgIAogICAgCiAgICAgICAgICAgIHZhciBjaXJjbGVfbWFya2VyX2ZjOTM0ZGRlMmZjOTRiYTNhMGQ2NjNkNTMzNzM2ZjQ3ID0gTC5jaXJjbGVNYXJrZXIoCiAgICAgICAgICAgICAgICBbOC41MTU4NDA4NSwgLTgzLjEzNjM2NzQ1MDYyNjg5XSwKICAgICAgICAgICAgICAgIHsiYnViYmxpbmdNb3VzZUV2ZW50cyI6IHRydWUsICJjb2xvciI6ICJZZWxsb3ciLCAiZGFzaEFycmF5IjogbnVsbCwgImRhc2hPZmZzZXQiOiBudWxsLCAiZmlsbCI6IHRydWUsICJmaWxsQ29sb3IiOiAiIzMxODZjYyIsICJmaWxsT3BhY2l0eSI6IDAuNiwgImZpbGxSdWxlIjogImV2ZW5vZGQiLCAibGluZUNhcCI6ICJyb3VuZCIsICJsaW5lSm9pbiI6ICJyb3VuZCIsICJvcGFjaXR5IjogMS4wLCAicmFkaXVzIjogNiwgInN0cm9rZSI6IHRydWUsICJ3ZWlnaHQiOiAzfQogICAgICAgICAgICApLmFkZFRvKG1hcF9hZjU4NzI1NTU3ZTY0OTI5ODA0ZTg1NjZmZmZkMjFlOSk7CiAgICAgICAgCiAgICAKICAgICAgICB2YXIgcG9wdXBfZWIwMTkwODFiYjA4NDNlMWE2ODVmMzUxOWI4NGJhOTEgPSBMLnBvcHVwKHsibWF4V2lkdGgiOiAiMTAwJSJ9KTsKCiAgICAgICAgCiAgICAgICAgICAgIHZhciBodG1sX2UxMDllNDAxMjM5NTQ5MDJhNDM2NTBmOWI0ZmU3YTM4ID0gJChgPGRpdiBpZD0iaHRtbF9lMTA5ZTQwMTIzOTU0OTAyYTQzNjUwZjliNGZlN2EzOCIgc3R5bGU9IndpZHRoOiAxMDAuMCU7IGhlaWdodDogMTAwLjAlOyI+UGxheWEgSXNsYSBEYW1hczwvZGl2PmApWzBdOwogICAgICAgICAgICBwb3B1cF9lYjAxOTA4MWJiMDg0M2UxYTY4NWYzNTE5Yjg0YmE5MS5zZXRDb250ZW50KGh0bWxfZTEwOWU0MDEyMzk1NDkwMmE0MzY1MGY5YjRmZTdhMzgpOwogICAgICAgIAoKICAgICAgICBjaXJjbGVfbWFya2VyX2ZjOTM0ZGRlMmZjOTRiYTNhMGQ2NjNkNTMzNzM2ZjQ3LmJpbmRQb3B1cChwb3B1cF9lYjAxOTA4MWJiMDg0M2UxYTY4NWYzNTE5Yjg0YmE5MSkKICAgICAgICA7CgogICAgICAgIAogICAgCiAgICAKICAgICAgICAgICAgdmFyIGNpcmNsZV9tYXJrZXJfMjc2NWNlY2IyYmZjNGZlZjlkZTBkMWIyOTY4NWM3NzIgPSBMLmNpcmNsZU1hcmtlcigKICAgICAgICAgICAgICAgIFs5LjYwMDUxNTA0OTk5OTk5OCwgLTg0LjYyMTA2MTU1MDYxOTRdLAogICAgICAgICAgICAgICAgeyJidWJibGluZ01vdXNlRXZlbnRzIjogdHJ1ZSwgImNvbG9yIjogIlllbGxvdyIsICJkYXNoQXJyYXkiOiBudWxsLCAiZGFzaE9mZnNldCI6IG51bGwsICJmaWxsIjogdHJ1ZSwgImZpbGxDb2xvciI6ICIjMzE4NmNjIiwgImZpbGxPcGFjaXR5IjogMC42LCAiZmlsbFJ1bGUiOiAiZXZlbm9kZCIsICJsaW5lQ2FwIjogInJvdW5kIiwgImxpbmVKb2luIjogInJvdW5kIiwgIm9wYWNpdHkiOiAxLjAsICJyYWRpdXMiOiA2LCAic3Ryb2tlIjogdHJ1ZSwgIndlaWdodCI6IDN9CiAgICAgICAgICAgICkuYWRkVG8obWFwX2FmNTg3MjU1NTdlNjQ5Mjk4MDRlODU2NmZmZmQyMWU5KTsKICAgICAgICAKICAgIAogICAgICAgIHZhciBwb3B1cF83ODk4YjFlYTU4NDU0Njc4YjgyNTI3YWQxNTU1ODBjNCA9IEwucG9wdXAoeyJtYXhXaWR0aCI6ICIxMDAlIn0pOwoKICAgICAgICAKICAgICAgICAgICAgdmFyIGh0bWxfNDE1MDQwYjEyYmNkNGQ3ZjhjNjFiYmJkZDU3MWMyNTAgPSAkKGA8ZGl2IGlkPSJodG1sXzQxNTA0MGIxMmJjZDRkN2Y4YzYxYmJiZGQ1NzFjMjUwIiBzdHlsZT0id2lkdGg6IDEwMC4wJTsgaGVpZ2h0OiAxMDAuMCU7Ij5QbGF5YSBKYWPDszwvZGl2PmApWzBdOwogICAgICAgICAgICBwb3B1cF83ODk4YjFlYTU4NDU0Njc4YjgyNTI3YWQxNTU1ODBjNC5zZXRDb250ZW50KGh0bWxfNDE1MDQwYjEyYmNkNGQ3ZjhjNjFiYmJkZDU3MWMyNTApOwogICAgICAgIAoKICAgICAgICBjaXJjbGVfbWFya2VyXzI3NjVjZWNiMmJmYzRmZWY5ZGUwZDFiMjk2ODVjNzcyLmJpbmRQb3B1cChwb3B1cF83ODk4YjFlYTU4NDU0Njc4YjgyNTI3YWQxNTU1ODBjNCkKICAgICAgICA7CgogICAgICAgIAogICAgCiAgICAKICAgICAgICAgICAgdmFyIGNpcmNsZV9tYXJrZXJfMmY2ZmI1MDRlMTE1NDRkYmI3NGNjM2I2YWRiZjEzYTAgPSBMLmNpcmNsZU1hcmtlcigKICAgICAgICAgICAgICAgIFs4LjU1MDk4NjE1LCAtODMuNjc1NzQyMzM3MzIxNDRdLAogICAgICAgICAgICAgICAgeyJidWJibGluZ01vdXNlRXZlbnRzIjogdHJ1ZSwgImNvbG9yIjogIlllbGxvdyIsICJkYXNoQXJyYXkiOiBudWxsLCAiZGFzaE9mZnNldCI6IG51bGwsICJmaWxsIjogdHJ1ZSwgImZpbGxDb2xvciI6ICIjMzE4NmNjIiwgImZpbGxPcGFjaXR5IjogMC42LCAiZmlsbFJ1bGUiOiAiZXZlbm9kZCIsICJsaW5lQ2FwIjogInJvdW5kIiwgImxpbmVKb2luIjogInJvdW5kIiwgIm9wYWNpdHkiOiAxLjAsICJyYWRpdXMiOiA2LCAic3Ryb2tlIjogdHJ1ZSwgIndlaWdodCI6IDN9CiAgICAgICAgICAgICkuYWRkVG8obWFwX2FmNTg3MjU1NTdlNjQ5Mjk4MDRlODU2NmZmZmQyMWU5KTsKICAgICAgICAKICAgIAogICAgICAgIHZhciBwb3B1cF9mMTJjNWRiMzAxNDE0NGVmOWQ3OGM0YzI0NjE1MmUwOSA9IEwucG9wdXAoeyJtYXhXaWR0aCI6ICIxMDAlIn0pOwoKICAgICAgICAKICAgICAgICAgICAgdmFyIGh0bWxfNmYwOTJlNWE0NjJmNGYzN2EwNzg2MDg5ZDg2YTUyODQgPSAkKGA8ZGl2IGlkPSJodG1sXzZmMDkyZTVhNDYyZjRmMzdhMDc4NjA4OWQ4NmE1Mjg0IiBzdHlsZT0id2lkdGg6IDEwMC4wJTsgaGVpZ2h0OiAxMDAuMCU7Ij5QbGF5YSBMbG9yb25hPC9kaXY+YClbMF07CiAgICAgICAgICAgIHBvcHVwX2YxMmM1ZGIzMDE0MTQ0ZWY5ZDc4YzRjMjQ2MTUyZTA5LnNldENvbnRlbnQoaHRtbF82ZjA5MmU1YTQ2MmY0ZjM3YTA3ODYwODlkODZhNTI4NCk7CiAgICAgICAgCgogICAgICAgIGNpcmNsZV9tYXJrZXJfMmY2ZmI1MDRlMTE1NDRkYmI3NGNjM2I2YWRiZjEzYTAuYmluZFBvcHVwKHBvcHVwX2YxMmM1ZGIzMDE0MTQ0ZWY5ZDc4YzRjMjQ2MTUyZTA5KQogICAgICAgIDsKCiAgICAgICAgCiAgICAKICAgIAogICAgICAgICAgICB2YXIgY2lyY2xlX21hcmtlcl85N2M2MjVkM2VlM2E0ODgyODZiZjcyYzcxZjhmMzg5OCA9IEwuY2lyY2xlTWFya2VyKAogICAgICAgICAgICAgICAgWzguNDQ1NTU1ODUsIC04My40NzY3Mzc2ODgwMTQ4Nl0sCiAgICAgICAgICAgICAgICB7ImJ1YmJsaW5nTW91c2VFdmVudHMiOiB0cnVlLCAiY29sb3IiOiAiWWVsbG93IiwgImRhc2hBcnJheSI6IG51bGwsICJkYXNoT2Zmc2V0IjogbnVsbCwgImZpbGwiOiB0cnVlLCAiZmlsbENvbG9yIjogIiMzMTg2Y2MiLCAiZmlsbE9wYWNpdHkiOiAwLjYsICJmaWxsUnVsZSI6ICJldmVub2RkIiwgImxpbmVDYXAiOiAicm91bmQiLCAibGluZUpvaW4iOiAicm91bmQiLCAib3BhY2l0eSI6IDEuMCwgInJhZGl1cyI6IDYsICJzdHJva2UiOiB0cnVlLCAid2VpZ2h0IjogM30KICAgICAgICAgICAgKS5hZGRUbyhtYXBfYWY1ODcyNTU1N2U2NDkyOTgwNGU4NTY2ZmZmZDIxZTkpOwogICAgICAgIAogICAgCiAgICAgICAgdmFyIHBvcHVwXzM2YmIxYjdjMDIyNDQxMTVhOWVjYjJjNmI1ZTRlZGE1ID0gTC5wb3B1cCh7Im1heFdpZHRoIjogIjEwMCUifSk7CgogICAgICAgIAogICAgICAgICAgICB2YXIgaHRtbF85ZjBiYjJjNmE4YmE0NjgwYWYxYzJiOTdmZDIyNDRkNyA9ICQoYDxkaXYgaWQ9Imh0bWxfOWYwYmIyYzZhOGJhNDY4MGFmMWMyYjk3ZmQyMjQ0ZDciIHN0eWxlPSJ3aWR0aDogMTAwLjAlOyBoZWlnaHQ6IDEwMC4wJTsiPlBsYXlhIE1hZHJpZ2FsPC9kaXY+YClbMF07CiAgICAgICAgICAgIHBvcHVwXzM2YmIxYjdjMDIyNDQxMTVhOWVjYjJjNmI1ZTRlZGE1LnNldENvbnRlbnQoaHRtbF85ZjBiYjJjNmE4YmE0NjgwYWYxYzJiOTdmZDIyNDRkNyk7CiAgICAgICAgCgogICAgICAgIGNpcmNsZV9tYXJrZXJfOTdjNjI1ZDNlZTNhNDg4Mjg2YmY3MmM3MWY4ZjM4OTguYmluZFBvcHVwKHBvcHVwXzM2YmIxYjdjMDIyNDQxMTVhOWVjYjJjNmI1ZTRlZGE1KQogICAgICAgIDsKCiAgICAgICAgCiAgICAKICAgIAogICAgICAgICAgICB2YXIgY2lyY2xlX21hcmtlcl9kNmM5Nzk4NGU2NWQ0NDgwODJlYzVlMGU5ZTRlY2M5MSA9IEwuY2lyY2xlTWFya2VyKAogICAgICAgICAgICAgICAgWzkuOTMyMzUyOTk5OTk5OTk5LCAtODQuNzIxNDQ4NDU3NzE4Nl0sCiAgICAgICAgICAgICAgICB7ImJ1YmJsaW5nTW91c2VFdmVudHMiOiB0cnVlLCAiY29sb3IiOiAiWWVsbG93IiwgImRhc2hBcnJheSI6IG51bGwsICJkYXNoT2Zmc2V0IjogbnVsbCwgImZpbGwiOiB0cnVlLCAiZmlsbENvbG9yIjogIiMzMTg2Y2MiLCAiZmlsbE9wYWNpdHkiOiAwLjYsICJmaWxsUnVsZSI6ICJldmVub2RkIiwgImxpbmVDYXAiOiAicm91bmQiLCAibGluZUpvaW4iOiAicm91bmQiLCAib3BhY2l0eSI6IDEuMCwgInJhZGl1cyI6IDYsICJzdHJva2UiOiB0cnVlLCAid2VpZ2h0IjogM30KICAgICAgICAgICAgKS5hZGRUbyhtYXBfYWY1ODcyNTU1N2U2NDkyOTgwNGU4NTY2ZmZmZDIxZTkpOwogICAgICAgIAogICAgCiAgICAgICAgdmFyIHBvcHVwXzAzZTNmZWEzZjY4NDQ4NWVhZDg4M2VlYzJjZDkyNGU4ID0gTC5wb3B1cCh7Im1heFdpZHRoIjogIjEwMCUifSk7CgogICAgICAgIAogICAgICAgICAgICB2YXIgaHRtbF84YjQ4NDlmNDM4YmU0OGIwOWQ5NzMwNGM0ZmI4YmM3ZSA9ICQoYDxkaXYgaWQ9Imh0bWxfOGI0ODQ5ZjQzOGJlNDhiMDlkOTczMDRjNGZiOGJjN2UiIHN0eWxlPSJ3aWR0aDogMTAwLjAlOyBoZWlnaHQ6IDEwMC4wJTsiPlBsYXlhIE1hdGEgZGUgTGltw7NuPC9kaXY+YClbMF07CiAgICAgICAgICAgIHBvcHVwXzAzZTNmZWEzZjY4NDQ4NWVhZDg4M2VlYzJjZDkyNGU4LnNldENvbnRlbnQoaHRtbF84YjQ4NDlmNDM4YmU0OGIwOWQ5NzMwNGM0ZmI4YmM3ZSk7CiAgICAgICAgCgogICAgICAgIGNpcmNsZV9tYXJrZXJfZDZjOTc5ODRlNjVkNDQ4MDgyZWM1ZTBlOWU0ZWNjOTEuYmluZFBvcHVwKHBvcHVwXzAzZTNmZWEzZjY4NDQ4NWVhZDg4M2VlYzJjZDkyNGU4KQogICAgICAgIDsKCiAgICAgICAgCiAgICAKICAgIAogICAgICAgICAgICB2YXIgY2lyY2xlX21hcmtlcl8zOWNhZThlZDU4YmU0ODM3YmI5OTcyMjNhNjNmY2M3ZSA9IEwuY2lyY2xlTWFya2VyKAogICAgICAgICAgICAgICAgWzkuNzA2OTI4OCwgLTg0LjY2MTAyNzI0ODE0Njk0XSwKICAgICAgICAgICAgICAgIHsiYnViYmxpbmdNb3VzZUV2ZW50cyI6IHRydWUsICJjb2xvciI6ICJZZWxsb3ciLCAiZGFzaEFycmF5IjogbnVsbCwgImRhc2hPZmZzZXQiOiBudWxsLCAiZmlsbCI6IHRydWUsICJmaWxsQ29sb3IiOiAiIzMxODZjYyIsICJmaWxsT3BhY2l0eSI6IDAuNiwgImZpbGxSdWxlIjogImV2ZW5vZGQiLCAibGluZUNhcCI6ICJyb3VuZCIsICJsaW5lSm9pbiI6ICJyb3VuZCIsICJvcGFjaXR5IjogMS4wLCAicmFkaXVzIjogNiwgInN0cm9rZSI6IHRydWUsICJ3ZWlnaHQiOiAzfQogICAgICAgICAgICApLmFkZFRvKG1hcF9hZjU4NzI1NTU3ZTY0OTI5ODA0ZTg1NjZmZmZkMjFlOSk7CiAgICAgICAgCiAgICAKICAgICAgICB2YXIgcG9wdXBfYjZiYTJiYjg0MGI4NGRlYTgzNWY1MGQzYmMwMmRlMmMgPSBMLnBvcHVwKHsibWF4V2lkdGgiOiAiMTAwJSJ9KTsKCiAgICAgICAgCiAgICAgICAgICAgIHZhciBodG1sX2RjZWZjNDAwMzc1ODQyZTM5Yzk3NjI3MjBlYWI1NzMwID0gJChgPGRpdiBpZD0iaHRtbF9kY2VmYzQwMDM3NTg0MmUzOWM5NzYyNzIwZWFiNTczMCIgc3R5bGU9IndpZHRoOiAxMDAuMCU7IGhlaWdodDogMTAwLjAlOyI+UGxheWEgTWFudGFzPC9kaXY+YClbMF07CiAgICAgICAgICAgIHBvcHVwX2I2YmEyYmI4NDBiODRkZWE4MzVmNTBkM2JjMDJkZTJjLnNldENvbnRlbnQoaHRtbF9kY2VmYzQwMDM3NTg0MmUzOWM5NzYyNzIwZWFiNTczMCk7CiAgICAgICAgCgogICAgICAgIGNpcmNsZV9tYXJrZXJfMzljYWU4ZWQ1OGJlNDgzN2JiOTk3MjIzYTYzZmNjN2UuYmluZFBvcHVwKHBvcHVwX2I2YmEyYmI4NDBiODRkZWE4MzVmNTBkM2JjMDJkZTJjKQogICAgICAgIDsKCiAgICAgICAgCiAgICAKICAgIAogICAgICAgICAgICB2YXIgY2lyY2xlX21hcmtlcl8yZGM1ZmQyYzQwMzc0MzNhODMwNTRiNzg2YjcyYWY3YyA9IEwuY2lyY2xlTWFya2VyKAogICAgICAgICAgICAgICAgWzkuOTc2MjAwMywgLTg0LjgyNzU4MjA2NDQ0NDddLAogICAgICAgICAgICAgICAgeyJidWJibGluZ01vdXNlRXZlbnRzIjogdHJ1ZSwgImNvbG9yIjogIlllbGxvdyIsICJkYXNoQXJyYXkiOiBudWxsLCAiZGFzaE9mZnNldCI6IG51bGwsICJmaWxsIjogdHJ1ZSwgImZpbGxDb2xvciI6ICIjMzE4NmNjIiwgImZpbGxPcGFjaXR5IjogMC42LCAiZmlsbFJ1bGUiOiAiZXZlbm9kZCIsICJsaW5lQ2FwIjogInJvdW5kIiwgImxpbmVKb2luIjogInJvdW5kIiwgIm9wYWNpdHkiOiAxLjAsICJyYWRpdXMiOiA2LCAic3Ryb2tlIjogdHJ1ZSwgIndlaWdodCI6IDN9CiAgICAgICAgICAgICkuYWRkVG8obWFwX2FmNTg3MjU1NTdlNjQ5Mjk4MDRlODU2NmZmZmQyMWU5KTsKICAgICAgICAKICAgIAogICAgICAgIHZhciBwb3B1cF81OGMzNTg2NjQ1Mzk0MDQzODM4ZDBlYWE5YTI4NTY5MyA9IEwucG9wdXAoeyJtYXhXaWR0aCI6ICIxMDAlIn0pOwoKICAgICAgICAKICAgICAgICAgICAgdmFyIGh0bWxfMDhlZjAxMDA4OTNkNDUzYTkzNjBmMDA2NzkyMTdlMWUgPSAkKGA8ZGl2IGlkPSJodG1sXzA4ZWYwMTAwODkzZDQ1M2E5MzYwZjAwNjc5MjE3ZTFlIiBzdHlsZT0id2lkdGg6IDEwMC4wJTsgaGVpZ2h0OiAxMDAuMCU7Ij5QbGF5YXMgTWFudWVsIEFudG9uaW88L2Rpdj5gKVswXTsKICAgICAgICAgICAgcG9wdXBfNThjMzU4NjY0NTM5NDA0MzgzOGQwZWFhOWEyODU2OTMuc2V0Q29udGVudChodG1sXzA4ZWYwMTAwODkzZDQ1M2E5MzYwZjAwNjc5MjE3ZTFlKTsKICAgICAgICAKCiAgICAgICAgY2lyY2xlX21hcmtlcl8yZGM1ZmQyYzQwMzc0MzNhODMwNTRiNzg2YjcyYWY3Yy5iaW5kUG9wdXAocG9wdXBfNThjMzU4NjY0NTM5NDA0MzgzOGQwZWFhOWEyODU2OTMpCiAgICAgICAgOwoKICAgICAgICAKICAgIAogICAgCiAgICAgICAgICAgIHZhciBjaXJjbGVfbWFya2VyX2NiMzViNGIxZTAyYzQ1ZTM4NDYzNmZkNTFiNzFiNWI3ID0gTC5jaXJjbGVNYXJrZXIoCiAgICAgICAgICAgICAgICBbOS4zMjY0NzkxLCAtODMuOTc3MDMzMjc3NDg3MjFdLAogICAgICAgICAgICAgICAgeyJidWJibGluZ01vdXNlRXZlbnRzIjogdHJ1ZSwgImNvbG9yIjogIlllbGxvdyIsICJkYXNoQXJyYXkiOiBudWxsLCAiZGFzaE9mZnNldCI6IG51bGwsICJmaWxsIjogdHJ1ZSwgImZpbGxDb2xvciI6ICIjMzE4NmNjIiwgImZpbGxPcGFjaXR5IjogMC42LCAiZmlsbFJ1bGUiOiAiZXZlbm9kZCIsICJsaW5lQ2FwIjogInJvdW5kIiwgImxpbmVKb2luIjogInJvdW5kIiwgIm9wYWNpdHkiOiAxLjAsICJyYWRpdXMiOiA2LCAic3Ryb2tlIjogdHJ1ZSwgIndlaWdodCI6IDN9CiAgICAgICAgICAgICkuYWRkVG8obWFwX2FmNTg3MjU1NTdlNjQ5Mjk4MDRlODU2NmZmZmQyMWU5KTsKICAgICAgICAKICAgIAogICAgICAgIHZhciBwb3B1cF83YzBhZWRkZWQ0ZmM0ODQyOTYzMmUzZGJjOTUxOTI5NCA9IEwucG9wdXAoeyJtYXhXaWR0aCI6ICIxMDAlIn0pOwoKICAgICAgICAKICAgICAgICAgICAgdmFyIGh0bWxfNjM3NWU5YjJkODBjNGQ1OTlkZjRhNmFhMDdkMmE4NTIgPSAkKGA8ZGl2IGlkPSJodG1sXzYzNzVlOWIyZDgwYzRkNTk5ZGY0YTZhYTA3ZDJhODUyIiBzdHlsZT0id2lkdGg6IDEwMC4wJTsgaGVpZ2h0OiAxMDAuMCU7Ij5QbGF5YSBNYXRhcGFsbzwvZGl2PmApWzBdOwogICAgICAgICAgICBwb3B1cF83YzBhZWRkZWQ0ZmM0ODQyOTYzMmUzZGJjOTUxOTI5NC5zZXRDb250ZW50KGh0bWxfNjM3NWU5YjJkODBjNGQ1OTlkZjRhNmFhMDdkMmE4NTIpOwogICAgICAgIAoKICAgICAgICBjaXJjbGVfbWFya2VyX2NiMzViNGIxZTAyYzQ1ZTM4NDYzNmZkNTFiNzFiNWI3LmJpbmRQb3B1cChwb3B1cF83YzBhZWRkZWQ0ZmM0ODQyOTYzMmUzZGJjOTUxOTI5NCkKICAgICAgICA7CgogICAgICAgIAogICAgCiAgICAKICAgICAgICAgICAgdmFyIGNpcmNsZV9tYXJrZXJfODY2ZTBhZTk5NjJjNDllODk2NTkzOTIwYzFlMDg2N2MgPSBMLmNpcmNsZU1hcmtlcigKICAgICAgICAgICAgICAgIFs5LjY1NzQ5NjU1LCAtODUuMDY0Mjg0NTI4MTY4MDJdLAogICAgICAgICAgICAgICAgeyJidWJibGluZ01vdXNlRXZlbnRzIjogdHJ1ZSwgImNvbG9yIjogIlllbGxvdyIsICJkYXNoQXJyYXkiOiBudWxsLCAiZGFzaE9mZnNldCI6IG51bGwsICJmaWxsIjogdHJ1ZSwgImZpbGxDb2xvciI6ICIjMzE4NmNjIiwgImZpbGxPcGFjaXR5IjogMC42LCAiZmlsbFJ1bGUiOiAiZXZlbm9kZCIsICJsaW5lQ2FwIjogInJvdW5kIiwgImxpbmVKb2luIjogInJvdW5kIiwgIm9wYWNpdHkiOiAxLjAsICJyYWRpdXMiOiA2LCAic3Ryb2tlIjogdHJ1ZSwgIndlaWdodCI6IDN9CiAgICAgICAgICAgICkuYWRkVG8obWFwX2FmNTg3MjU1NTdlNjQ5Mjk4MDRlODU2NmZmZmQyMWU5KTsKICAgICAgICAKICAgIAogICAgICAgIHZhciBwb3B1cF9iYmE2ZjJlYjZlYmQ0NDExOTk0N2I2ZWI2YWQyNWZiMSA9IEwucG9wdXAoeyJtYXhXaWR0aCI6ICIxMDAlIn0pOwoKICAgICAgICAKICAgICAgICAgICAgdmFyIGh0bWxfYjgyOTQwZTFiNzA5NDdkY2ExN2IwMGU4ZGM4OTI3NDggPSAkKGA8ZGl2IGlkPSJodG1sX2I4Mjk0MGUxYjcwOTQ3ZGNhMTdiMDBlOGRjODkyNzQ4IiBzdHlsZT0id2lkdGg6IDEwMC4wJTsgaGVpZ2h0OiAxMDAuMCU7Ij5QbGF5YSBNb250ZXp1bWE8L2Rpdj5gKVswXTsKICAgICAgICAgICAgcG9wdXBfYmJhNmYyZWI2ZWJkNDQxMTk5NDdiNmViNmFkMjVmYjEuc2V0Q29udGVudChodG1sX2I4Mjk0MGUxYjcwOTQ3ZGNhMTdiMDBlOGRjODkyNzQ4KTsKICAgICAgICAKCiAgICAgICAgY2lyY2xlX21hcmtlcl84NjZlMGFlOTk2MmM0OWU4OTY1OTM5MjBjMWUwODY3Yy5iaW5kUG9wdXAocG9wdXBfYmJhNmYyZWI2ZWJkNDQxMTk5NDdiNmViNmFkMjVmYjEpCiAgICAgICAgOwoKICAgICAgICAKICAgIAogICAgCiAgICAgICAgICAgIHZhciBjaXJjbGVfbWFya2VyXzBmYzllNWVmN2Q2NjQwYjk4Zjc0Y2ZmNmQwOGExMTNlID0gTC5jaXJjbGVNYXJrZXIoCiAgICAgICAgICAgICAgICBbOS44MTQ4MjM2LCAtODQuODk4Mzg0OF0sCiAgICAgICAgICAgICAgICB7ImJ1YmJsaW5nTW91c2VFdmVudHMiOiB0cnVlLCAiY29sb3IiOiAiWWVsbG93IiwgImRhc2hBcnJheSI6IG51bGwsICJkYXNoT2Zmc2V0IjogbnVsbCwgImZpbGwiOiB0cnVlLCAiZmlsbENvbG9yIjogIiMzMTg2Y2MiLCAiZmlsbE9wYWNpdHkiOiAwLjYsICJmaWxsUnVsZSI6ICJldmVub2RkIiwgImxpbmVDYXAiOiAicm91bmQiLCAibGluZUpvaW4iOiAicm91bmQiLCAib3BhY2l0eSI6IDEuMCwgInJhZGl1cyI6IDYsICJzdHJva2UiOiB0cnVlLCAid2VpZ2h0IjogM30KICAgICAgICAgICAgKS5hZGRUbyhtYXBfYWY1ODcyNTU1N2U2NDkyOTgwNGU4NTY2ZmZmZDIxZTkpOwogICAgICAgIAogICAgCiAgICAgICAgdmFyIHBvcHVwX2NjMzBmNmUwMzdkODQyMmZhOTYzNGM4NzdjM2E1ZmIzID0gTC5wb3B1cCh7Im1heFdpZHRoIjogIjEwMCUifSk7CgogICAgICAgIAogICAgICAgICAgICB2YXIgaHRtbF80YzYzNWI4NGVkNjc0MzY5YTExNTQ0ZTA2ZjA3YmRkMCA9ICQoYDxkaXYgaWQ9Imh0bWxfNGM2MzViODRlZDY3NDM2OWExMTU0NGUwNmYwN2JkZDAiIHN0eWxlPSJ3aWR0aDogMTAwLjAlOyBoZWlnaHQ6IDEwMC4wJTsiPlBsYXlhIMOTcmdhbm9zPC9kaXY+YClbMF07CiAgICAgICAgICAgIHBvcHVwX2NjMzBmNmUwMzdkODQyMmZhOTYzNGM4NzdjM2E1ZmIzLnNldENvbnRlbnQoaHRtbF80YzYzNWI4NGVkNjc0MzY5YTExNTQ0ZTA2ZjA3YmRkMCk7CiAgICAgICAgCgogICAgICAgIGNpcmNsZV9tYXJrZXJfMGZjOWU1ZWY3ZDY2NDBiOThmNzRjZmY2ZDA4YTExM2UuYmluZFBvcHVwKHBvcHVwX2NjMzBmNmUwMzdkODQyMmZhOTYzNGM4NzdjM2E1ZmIzKQogICAgICAgIDsKCiAgICAgICAgCiAgICAKICAgIAogICAgICAgICAgICB2YXIgY2lyY2xlX21hcmtlcl8wOGMwMmVmMDQ1MGE0NTdhYTJkZmY5YWU4NTU4MmM2ZiA9IEwuY2lyY2xlTWFya2VyKAogICAgICAgICAgICAgICAgWzguNjQ0Mzc5LCAtODMuNDMzMDc4NDQ1MDA1ODldLAogICAgICAgICAgICAgICAgeyJidWJibGluZ01vdXNlRXZlbnRzIjogdHJ1ZSwgImNvbG9yIjogIlllbGxvdyIsICJkYXNoQXJyYXkiOiBudWxsLCAiZGFzaE9mZnNldCI6IG51bGwsICJmaWxsIjogdHJ1ZSwgImZpbGxDb2xvciI6ICIjMzE4NmNjIiwgImZpbGxPcGFjaXR5IjogMC42LCAiZmlsbFJ1bGUiOiAiZXZlbm9kZCIsICJsaW5lQ2FwIjogInJvdW5kIiwgImxpbmVKb2luIjogInJvdW5kIiwgIm9wYWNpdHkiOiAxLjAsICJyYWRpdXMiOiA2LCAic3Ryb2tlIjogdHJ1ZSwgIndlaWdodCI6IDN9CiAgICAgICAgICAgICkuYWRkVG8obWFwX2FmNTg3MjU1NTdlNjQ5Mjk4MDRlODU2NmZmZmQyMWU5KTsKICAgICAgICAKICAgIAogICAgICAgIHZhciBwb3B1cF84ODhkMGUyZTYwYjc0YTNmODkzY2U4OWQ0NTIyYjlhZCA9IEwucG9wdXAoeyJtYXhXaWR0aCI6ICIxMDAlIn0pOwoKICAgICAgICAKICAgICAgICAgICAgdmFyIGh0bWxfY2U4ZmU3YWQzOWUyNGEyMTg5YzU4MDlhNzAxZWMyMDggPSAkKGA8ZGl2IGlkPSJodG1sX2NlOGZlN2FkMzllMjRhMjE4OWM1ODA5YTcwMWVjMjA4IiBzdHlsZT0id2lkdGg6IDEwMC4wJTsgaGVpZ2h0OiAxMDAuMCU7Ij5QbGF5YSBQYWxtYTwvZGl2PmApWzBdOwogICAgICAgICAgICBwb3B1cF84ODhkMGUyZTYwYjc0YTNmODkzY2U4OWQ0NTIyYjlhZC5zZXRDb250ZW50KGh0bWxfY2U4ZmU3YWQzOWUyNGEyMTg5YzU4MDlhNzAxZWMyMDgpOwogICAgICAgIAoKICAgICAgICBjaXJjbGVfbWFya2VyXzA4YzAyZWYwNDUwYTQ1N2FhMmRmZjlhZTg1NTgyYzZmLmJpbmRQb3B1cChwb3B1cF84ODhkMGUyZTYwYjc0YTNmODkzY2U4OWQ0NTIyYjlhZCkKICAgICAgICA7CgogICAgICAgIAogICAgCiAgICAKICAgICAgICAgICAgdmFyIGNpcmNsZV9tYXJrZXJfMWIwZThmNmIxMmQ0NDRjOThiZjYwZDI4Yjc0MzdlZjIgPSBMLmNpcmNsZU1hcmtlcigKICAgICAgICAgICAgICAgIFs4LjUxNTg0MDg1LCAtODMuMTM2MzY3NDUwNjI2ODldLAogICAgICAgICAgICAgICAgeyJidWJibGluZ01vdXNlRXZlbnRzIjogdHJ1ZSwgImNvbG9yIjogIlllbGxvdyIsICJkYXNoQXJyYXkiOiBudWxsLCAiZGFzaE9mZnNldCI6IG51bGwsICJmaWxsIjogdHJ1ZSwgImZpbGxDb2xvciI6ICIjMzE4NmNjIiwgImZpbGxPcGFjaXR5IjogMC42LCAiZmlsbFJ1bGUiOiAiZXZlbm9kZCIsICJsaW5lQ2FwIjogInJvdW5kIiwgImxpbmVKb2luIjogInJvdW5kIiwgIm9wYWNpdHkiOiAxLjAsICJyYWRpdXMiOiA2LCAic3Ryb2tlIjogdHJ1ZSwgIndlaWdodCI6IDN9CiAgICAgICAgICAgICkuYWRkVG8obWFwX2FmNTg3MjU1NTdlNjQ5Mjk4MDRlODU2NmZmZmQyMWU5KTsKICAgICAgICAKICAgIAogICAgICAgIHZhciBwb3B1cF84ZGU1NTlmNzFmMzE0Y2NhOGNkYjZlODIzZTkzMzhiOSA9IEwucG9wdXAoeyJtYXhXaWR0aCI6ICIxMDAlIn0pOwoKICAgICAgICAKICAgICAgICAgICAgdmFyIGh0bWxfNGJiODU3YTdhNjQ4NGM3Y2JkMDBhZTRkMDNmNzQzMDIgPSAkKGA8ZGl2IGlkPSJodG1sXzRiYjg1N2E3YTY0ODRjN2NiZDAwYWU0ZDAzZjc0MzAyIiBzdHlsZT0id2lkdGg6IDEwMC4wJTsgaGVpZ2h0OiAxMDAuMCU7Ij5QbGF5YSBQYWxvIFNlY288L2Rpdj5gKVswXTsKICAgICAgICAgICAgcG9wdXBfOGRlNTU5ZjcxZjMxNGNjYThjZGI2ZTgyM2U5MzM4Yjkuc2V0Q29udGVudChodG1sXzRiYjg1N2E3YTY0ODRjN2NiZDAwYWU0ZDAzZjc0MzAyKTsKICAgICAgICAKCiAgICAgICAgY2lyY2xlX21hcmtlcl8xYjBlOGY2YjEyZDQ0NGM5OGJmNjBkMjhiNzQzN2VmMi5iaW5kUG9wdXAocG9wdXBfOGRlNTU5ZjcxZjMxNGNjYThjZGI2ZTgyM2U5MzM4YjkpCiAgICAgICAgOwoKICAgICAgICAKICAgIAogICAgCiAgICAgICAgICAgIHZhciBjaXJjbGVfbWFya2VyX2ViNmRhZDgzNjc4ODRmYzJhYzVkMTBiOGQ2Y2JmNWNhID0gTC5jaXJjbGVNYXJrZXIoCiAgICAgICAgICAgICAgICBbOC4zOTUxNjY1LCAtODMuMTM3NTI5MTY2MjAxODJdLAogICAgICAgICAgICAgICAgeyJidWJibGluZ01vdXNlRXZlbnRzIjogdHJ1ZSwgImNvbG9yIjogIlllbGxvdyIsICJkYXNoQXJyYXkiOiBudWxsLCAiZGFzaE9mZnNldCI6IG51bGwsICJmaWxsIjogdHJ1ZSwgImZpbGxDb2xvciI6ICIjMzE4NmNjIiwgImZpbGxPcGFjaXR5IjogMC42LCAiZmlsbFJ1bGUiOiAiZXZlbm9kZCIsICJsaW5lQ2FwIjogInJvdW5kIiwgImxpbmVKb2luIjogInJvdW5kIiwgIm9wYWNpdHkiOiAxLjAsICJyYWRpdXMiOiA2LCAic3Ryb2tlIjogdHJ1ZSwgIndlaWdodCI6IDN9CiAgICAgICAgICAgICkuYWRkVG8obWFwX2FmNTg3MjU1NTdlNjQ5Mjk4MDRlODU2NmZmZmQyMWU5KTsKICAgICAgICAKICAgIAogICAgICAgIHZhciBwb3B1cF9kZGY5YmM3MTM5MjQ0NzY4OTBkMjBmMGVmMWUyMjNlNCA9IEwucG9wdXAoeyJtYXhXaWR0aCI6ICIxMDAlIn0pOwoKICAgICAgICAKICAgICAgICAgICAgdmFyIGh0bWxfOTA2ZTk1ZWZjMTE0NDQ4NjkyMTU4MjZlOWQ2NzY4ZWEgPSAkKGA8ZGl2IGlkPSJodG1sXzkwNmU5NWVmYzExNDQ0ODY5MjE1ODI2ZTlkNjc2OGVhIiBzdHlsZT0id2lkdGg6IDEwMC4wJTsgaGVpZ2h0OiAxMDAuMCU7Ij5QbGF5YSBQYXZvbmVzPC9kaXY+YClbMF07CiAgICAgICAgICAgIHBvcHVwX2RkZjliYzcxMzkyNDQ3Njg5MGQyMGYwZWYxZTIyM2U0LnNldENvbnRlbnQoaHRtbF85MDZlOTVlZmMxMTQ0NDg2OTIxNTgyNmU5ZDY3NjhlYSk7CiAgICAgICAgCgogICAgICAgIGNpcmNsZV9tYXJrZXJfZWI2ZGFkODM2Nzg4NGZjMmFjNWQxMGI4ZDZjYmY1Y2EuYmluZFBvcHVwKHBvcHVwX2RkZjliYzcxMzkyNDQ3Njg5MGQyMGYwZWYxZTIyM2U0KQogICAgICAgIDsKCiAgICAgICAgCiAgICAKICAgIAogICAgICAgICAgICB2YXIgY2lyY2xlX21hcmtlcl80OWVjYTIxZGRkNGY0ZDY0YjU4ZGVlYjMzYzM3YWNlOSA9IEwuY2lyY2xlTWFya2VyKAogICAgICAgICAgICAgICAgWzkuMDk5MjM3NCwgLTgzLjY4NjM5ODU0MjU4MDM1XSwKICAgICAgICAgICAgICAgIHsiYnViYmxpbmdNb3VzZUV2ZW50cyI6IHRydWUsICJjb2xvciI6ICJZZWxsb3ciLCAiZGFzaEFycmF5IjogbnVsbCwgImRhc2hPZmZzZXQiOiBudWxsLCAiZmlsbCI6IHRydWUsICJmaWxsQ29sb3IiOiAiIzMxODZjYyIsICJmaWxsT3BhY2l0eSI6IDAuNiwgImZpbGxSdWxlIjogImV2ZW5vZGQiLCAibGluZUNhcCI6ICJyb3VuZCIsICJsaW5lSm9pbiI6ICJyb3VuZCIsICJvcGFjaXR5IjogMS4wLCAicmFkaXVzIjogNiwgInN0cm9rZSI6IHRydWUsICJ3ZWlnaHQiOiAzfQogICAgICAgICAgICApLmFkZFRvKG1hcF9hZjU4NzI1NTU3ZTY0OTI5ODA0ZTg1NjZmZmZkMjFlOSk7CiAgICAgICAgCiAgICAKICAgICAgICB2YXIgcG9wdXBfNjQ1MTk1NjUxMDE1NGYxZGI3ZjRlMzczZGVkZDk4MjcgPSBMLnBvcHVwKHsibWF4V2lkdGgiOiAiMTAwJSJ9KTsKCiAgICAgICAgCiAgICAgICAgICAgIHZhciBodG1sXzQxNDMyYTk3NWRiNDQ2NjU5MjYyZjkyOTY2YjExNWZjID0gJChgPGRpdiBpZD0iaHRtbF80MTQzMmE5NzVkYjQ0NjY1OTI2MmY5Mjk2NmIxMTVmYyIgc3R5bGU9IndpZHRoOiAxMDAuMCU7IGhlaWdodDogMTAwLjAlOyI+UGxheWEgUGnDsXVlbGE8L2Rpdj5gKVswXTsKICAgICAgICAgICAgcG9wdXBfNjQ1MTk1NjUxMDE1NGYxZGI3ZjRlMzczZGVkZDk4Mjcuc2V0Q29udGVudChodG1sXzQxNDMyYTk3NWRiNDQ2NjU5MjYyZjkyOTY2YjExNWZjKTsKICAgICAgICAKCiAgICAgICAgY2lyY2xlX21hcmtlcl80OWVjYTIxZGRkNGY0ZDY0YjU4ZGVlYjMzYzM3YWNlOS5iaW5kUG9wdXAocG9wdXBfNjQ1MTk1NjUxMDE1NGYxZGI3ZjRlMzczZGVkZDk4MjcpCiAgICAgICAgOwoKICAgICAgICAKICAgIAogICAgCiAgICAgICAgICAgIHZhciBjaXJjbGVfbWFya2VyXzQ3MDFkN2ExMGE0NjRiOTE4Mzg1ZDgzMzJkYjkwMWZiID0gTC5jaXJjbGVNYXJrZXIoCiAgICAgICAgICAgICAgICBbOC41MjYxMjg5LCAtODMuMjg2NDkxODk5NzExNjZdLAogICAgICAgICAgICAgICAgeyJidWJibGluZ01vdXNlRXZlbnRzIjogdHJ1ZSwgImNvbG9yIjogIlllbGxvdyIsICJkYXNoQXJyYXkiOiBudWxsLCAiZGFzaE9mZnNldCI6IG51bGwsICJmaWxsIjogdHJ1ZSwgImZpbGxDb2xvciI6ICIjMzE4NmNjIiwgImZpbGxPcGFjaXR5IjogMC42LCAiZmlsbFJ1bGUiOiAiZXZlbm9kZCIsICJsaW5lQ2FwIjogInJvdW5kIiwgImxpbmVKb2luIjogInJvdW5kIiwgIm9wYWNpdHkiOiAxLjAsICJyYWRpdXMiOiA2LCAic3Ryb2tlIjogdHJ1ZSwgIndlaWdodCI6IDN9CiAgICAgICAgICAgICkuYWRkVG8obWFwX2FmNTg3MjU1NTdlNjQ5Mjk4MDRlODU2NmZmZmQyMWU5KTsKICAgICAgICAKICAgIAogICAgICAgIHZhciBwb3B1cF9mMTBjYjA5NGYzZDg0YzNiOWM1MmM4NjlhNmQ5NzQ2ZSA9IEwucG9wdXAoeyJtYXhXaWR0aCI6ICIxMDAlIn0pOwoKICAgICAgICAKICAgICAgICAgICAgdmFyIGh0bWxfNGNiMTg2NTRlM2Y5NGVlZTljNDc2OGFjNTQwZmU1NWUgPSAkKGA8ZGl2IGlkPSJodG1sXzRjYjE4NjU0ZTNmOTRlZWU5YzQ3NjhhYzU0MGZlNTVlIiBzdHlsZT0id2lkdGg6IDEwMC4wJTsgaGVpZ2h0OiAxMDAuMCU7Ij5QbGF5YSBQbGF0YW5hcmVzPC9kaXY+YClbMF07CiAgICAgICAgICAgIHBvcHVwX2YxMGNiMDk0ZjNkODRjM2I5YzUyYzg2OWE2ZDk3NDZlLnNldENvbnRlbnQoaHRtbF80Y2IxODY1NGUzZjk0ZWVlOWM0NzY4YWM1NDBmZTU1ZSk7CiAgICAgICAgCgogICAgICAgIGNpcmNsZV9tYXJrZXJfNDcwMWQ3YTEwYTQ2NGI5MTgzODVkODMzMmRiOTAxZmIuYmluZFBvcHVwKHBvcHVwX2YxMGNiMDk0ZjNkODRjM2I5YzUyYzg2OWE2ZDk3NDZlKQogICAgICAgIDsKCiAgICAgICAgCiAgICAKICAgIAogICAgICAgICAgICB2YXIgY2lyY2xlX21hcmtlcl85NDc2NTdkZTVhYmU0MWNmYmYyZGFjNGQzYzM0NmIwNiA9IEwuY2lyY2xlTWFya2VyKAogICAgICAgICAgICAgICAgWzguNTE1ODQwODUsIC04My4xMzYzNjc0NTA2MjY4OV0sCiAgICAgICAgICAgICAgICB7ImJ1YmJsaW5nTW91c2VFdmVudHMiOiB0cnVlLCAiY29sb3IiOiAiWWVsbG93IiwgImRhc2hBcnJheSI6IG51bGwsICJkYXNoT2Zmc2V0IjogbnVsbCwgImZpbGwiOiB0cnVlLCAiZmlsbENvbG9yIjogIiMzMTg2Y2MiLCAiZmlsbE9wYWNpdHkiOiAwLjYsICJmaWxsUnVsZSI6ICJldmVub2RkIiwgImxpbmVDYXAiOiAicm91bmQiLCAibGluZUpvaW4iOiAicm91bmQiLCAib3BhY2l0eSI6IDEuMCwgInJhZGl1cyI6IDYsICJzdHJva2UiOiB0cnVlLCAid2VpZ2h0IjogM30KICAgICAgICAgICAgKS5hZGRUbyhtYXBfYWY1ODcyNTU1N2U2NDkyOTgwNGU4NTY2ZmZmZDIxZTkpOwogICAgICAgIAogICAgCiAgICAgICAgdmFyIHBvcHVwXzJmMDA0ZjhjYTYyODQwODViZWU1YzRmZDM3NjlkZDRkID0gTC5wb3B1cCh7Im1heFdpZHRoIjogIjEwMCUifSk7CgogICAgICAgIAogICAgICAgICAgICB2YXIgaHRtbF81MWMwNTlhYTQ4MmI0NDkxYmQ5NTY5YWIxNTg2MGZkMyA9ICQoYDxkaXYgaWQ9Imh0bWxfNTFjMDU5YWE0ODJiNDQ5MWJkOTU2OWFiMTU4NjBmZDMiIHN0eWxlPSJ3aWR0aDogMTAwLjAlOyBoZWlnaHQ6IDEwMC4wJTsiPlBsYXlhIFDDs2dlcmVzPC9kaXY+YClbMF07CiAgICAgICAgICAgIHBvcHVwXzJmMDA0ZjhjYTYyODQwODViZWU1YzRmZDM3NjlkZDRkLnNldENvbnRlbnQoaHRtbF81MWMwNTlhYTQ4MmI0NDkxYmQ5NTY5YWIxNTg2MGZkMyk7CiAgICAgICAgCgogICAgICAgIGNpcmNsZV9tYXJrZXJfOTQ3NjU3ZGU1YWJlNDFjZmJmMmRhYzRkM2MzNDZiMDYuYmluZFBvcHVwKHBvcHVwXzJmMDA0ZjhjYTYyODQwODViZWU1YzRmZDM3NjlkZDRkKQogICAgICAgIDsKCiAgICAgICAgCiAgICAKICAgIAogICAgICAgICAgICB2YXIgY2lyY2xlX21hcmtlcl8zYjViY2E0OGY5ODk0MTMyYWQyYWY4MzQ4OTY0OWIwNSA9IEwuY2lyY2xlTWFya2VyKAogICAgICAgICAgICAgICAgWzguNTE1ODQwODUsIC04My4xMzYzNjc0NTA2MjY4OV0sCiAgICAgICAgICAgICAgICB7ImJ1YmJsaW5nTW91c2VFdmVudHMiOiB0cnVlLCAiY29sb3IiOiAiWWVsbG93IiwgImRhc2hBcnJheSI6IG51bGwsICJkYXNoT2Zmc2V0IjogbnVsbCwgImZpbGwiOiB0cnVlLCAiZmlsbENvbG9yIjogIiMzMTg2Y2MiLCAiZmlsbE9wYWNpdHkiOiAwLjYsICJmaWxsUnVsZSI6ICJldmVub2RkIiwgImxpbmVDYXAiOiAicm91bmQiLCAibGluZUpvaW4iOiAicm91bmQiLCAib3BhY2l0eSI6IDEuMCwgInJhZGl1cyI6IDYsICJzdHJva2UiOiB0cnVlLCAid2VpZ2h0IjogM30KICAgICAgICAgICAgKS5hZGRUbyhtYXBfYWY1ODcyNTU1N2U2NDkyOTgwNGU4NTY2ZmZmZDIxZTkpOwogICAgICAgIAogICAgCiAgICAgICAgdmFyIHBvcHVwXzBiYzI1NzkyOGJiZDQ4ZGI5ZDA1YjFjMGZkNGU4ODIwID0gTC5wb3B1cCh7Im1heFdpZHRoIjogIjEwMCUifSk7CgogICAgICAgIAogICAgICAgICAgICB2YXIgaHRtbF82NDQ3OWVmMGI3M2Q0ZjdiYjQ0MDc2M2JlZTkxM2YxOCA9ICQoYDxkaXYgaWQ9Imh0bWxfNjQ0NzllZjBiNzNkNGY3YmI0NDA3NjNiZWU5MTNmMTgiIHN0eWxlPSJ3aWR0aDogMTAwLjAlOyBoZWlnaHQ6IDEwMC4wJTsiPlBsYXlhIFF1aXphbGVzPC9kaXY+YClbMF07CiAgICAgICAgICAgIHBvcHVwXzBiYzI1NzkyOGJiZDQ4ZGI5ZDA1YjFjMGZkNGU4ODIwLnNldENvbnRlbnQoaHRtbF82NDQ3OWVmMGI3M2Q0ZjdiYjQ0MDc2M2JlZTkxM2YxOCk7CiAgICAgICAgCgogICAgICAgIGNpcmNsZV9tYXJrZXJfM2I1YmNhNDhmOTg5NDEzMmFkMmFmODM0ODk2NDliMDUuYmluZFBvcHVwKHBvcHVwXzBiYzI1NzkyOGJiZDQ4ZGI5ZDA1YjFjMGZkNGU4ODIwKQogICAgICAgIDsKCiAgICAgICAgCiAgICAKICAgIAogICAgICAgICAgICB2YXIgY2lyY2xlX21hcmtlcl80M2E0YmZmY2ZhODk0ZTg3YmUyNGIwMDBjYjIwMzIwNyA9IEwuY2lyY2xlTWFya2VyKAogICAgICAgICAgICAgICAgWzguNTE1ODQwODUsIC04My4xMzYzNjc0NTA2MjY4OV0sCiAgICAgICAgICAgICAgICB7ImJ1YmJsaW5nTW91c2VFdmVudHMiOiB0cnVlLCAiY29sb3IiOiAiWWVsbG93IiwgImRhc2hBcnJheSI6IG51bGwsICJkYXNoT2Zmc2V0IjogbnVsbCwgImZpbGwiOiB0cnVlLCAiZmlsbENvbG9yIjogIiMzMTg2Y2MiLCAiZmlsbE9wYWNpdHkiOiAwLjYsICJmaWxsUnVsZSI6ICJldmVub2RkIiwgImxpbmVDYXAiOiAicm91bmQiLCAibGluZUpvaW4iOiAicm91bmQiLCAib3BhY2l0eSI6IDEuMCwgInJhZGl1cyI6IDYsICJzdHJva2UiOiB0cnVlLCAid2VpZ2h0IjogM30KICAgICAgICAgICAgKS5hZGRUbyhtYXBfYWY1ODcyNTU1N2U2NDkyOTgwNGU4NTY2ZmZmZDIxZTkpOwogICAgICAgIAogICAgCiAgICAgICAgdmFyIHBvcHVwXzg0NzQ0OGM3NjhkYTRmZjI5NTYxMTUxNWRmNmE2MjU3ID0gTC5wb3B1cCh7Im1heFdpZHRoIjogIjEwMCUifSk7CgogICAgICAgIAogICAgICAgICAgICB2YXIgaHRtbF8wNTBlOGMyNWQ5MjU0MTE3YmNlNzMyOTQ3NjUxNDdmNCA9ICQoYDxkaXYgaWQ9Imh0bWxfMDUwZThjMjVkOTI1NDExN2JjZTczMjk0NzY1MTQ3ZjQiIHN0eWxlPSJ3aWR0aDogMTAwLjAlOyBoZWlnaHQ6IDEwMC4wJTsiPlBsYXlhIFNhbiBKb3NlY2l0byAoR29sZml0byk8L2Rpdj5gKVswXTsKICAgICAgICAgICAgcG9wdXBfODQ3NDQ4Yzc2OGRhNGZmMjk1NjExNTE1ZGY2YTYyNTcuc2V0Q29udGVudChodG1sXzA1MGU4YzI1ZDkyNTQxMTdiY2U3MzI5NDc2NTE0N2Y0KTsKICAgICAgICAKCiAgICAgICAgY2lyY2xlX21hcmtlcl80M2E0YmZmY2ZhODk0ZTg3YmUyNGIwMDBjYjIwMzIwNy5iaW5kUG9wdXAocG9wdXBfODQ3NDQ4Yzc2OGRhNGZmMjk1NjExNTE1ZGY2YTYyNTcpCiAgICAgICAgOwoKICAgICAgICAKICAgIAogICAgCiAgICAgICAgICAgIHZhciBjaXJjbGVfbWFya2VyXzU1Yjk0NjY2NWI3MDQ3YjJiYjE5OWE4YTg2NzkzYzYyID0gTC5jaXJjbGVNYXJrZXIoCiAgICAgICAgICAgICAgICBbOS4zNjM2ODc1LCAtODQuMDcwNTkxOF0sCiAgICAgICAgICAgICAgICB7ImJ1YmJsaW5nTW91c2VFdmVudHMiOiB0cnVlLCAiY29sb3IiOiAiWWVsbG93IiwgImRhc2hBcnJheSI6IG51bGwsICJkYXNoT2Zmc2V0IjogbnVsbCwgImZpbGwiOiB0cnVlLCAiZmlsbENvbG9yIjogIiMzMTg2Y2MiLCAiZmlsbE9wYWNpdHkiOiAwLjYsICJmaWxsUnVsZSI6ICJldmVub2RkIiwgImxpbmVDYXAiOiAicm91bmQiLCAibGluZUpvaW4iOiAicm91bmQiLCAib3BhY2l0eSI6IDEuMCwgInJhZGl1cyI6IDYsICJzdHJva2UiOiB0cnVlLCAid2VpZ2h0IjogM30KICAgICAgICAgICAgKS5hZGRUbyhtYXBfYWY1ODcyNTU1N2U2NDkyOTgwNGU4NTY2ZmZmZDIxZTkpOwogICAgICAgIAogICAgCiAgICAgICAgdmFyIHBvcHVwX2U2Nzc1YTIwNDY5NzQ0Yjk5NjFjODc1YTcxZDI1NGZmID0gTC5wb3B1cCh7Im1heFdpZHRoIjogIjEwMCUifSk7CgogICAgICAgIAogICAgICAgICAgICB2YXIgaHRtbF8yNDdhZmE2YjNlMmM0ZjEwODg2YmJiYzJiMTNkMTRjOCA9ICQoYDxkaXYgaWQ9Imh0bWxfMjQ3YWZhNmIzZTJjNGYxMDg4NmJiYmMyYjEzZDE0YzgiIHN0eWxlPSJ3aWR0aDogMTAwLjAlOyBoZWlnaHQ6IDEwMC4wJTsiPlBsYXlhIFNhdmVncmU8L2Rpdj5gKVswXTsKICAgICAgICAgICAgcG9wdXBfZTY3NzVhMjA0Njk3NDRiOTk2MWM4NzVhNzFkMjU0ZmYuc2V0Q29udGVudChodG1sXzI0N2FmYTZiM2UyYzRmMTA4ODZiYmJjMmIxM2QxNGM4KTsKICAgICAgICAKCiAgICAgICAgY2lyY2xlX21hcmtlcl81NWI5NDY2NjViNzA0N2IyYmIxOTlhOGE4Njc5M2M2Mi5iaW5kUG9wdXAocG9wdXBfZTY3NzVhMjA0Njk3NDRiOTk2MWM4NzVhNzFkMjU0ZmYpCiAgICAgICAgOwoKICAgICAgICAKICAgIAogICAgCiAgICAgICAgICAgIHZhciBjaXJjbGVfbWFya2VyXzgzZTJmZGZlMDA0YzRhNjU5OWNjOWRiNTFkZGFkOTU0ID0gTC5jaXJjbGVNYXJrZXIoCiAgICAgICAgICAgICAgICBbOC40MTU1OSwgLTgzLjI4MDE3NzA3MjY3NzI1XSwKICAgICAgICAgICAgICAgIHsiYnViYmxpbmdNb3VzZUV2ZW50cyI6IHRydWUsICJjb2xvciI6ICJZZWxsb3ciLCAiZGFzaEFycmF5IjogbnVsbCwgImRhc2hPZmZzZXQiOiBudWxsLCAiZmlsbCI6IHRydWUsICJmaWxsQ29sb3IiOiAiIzMxODZjYyIsICJmaWxsT3BhY2l0eSI6IDAuNiwgImZpbGxSdWxlIjogImV2ZW5vZGQiLCAibGluZUNhcCI6ICJyb3VuZCIsICJsaW5lSm9pbiI6ICJyb3VuZCIsICJvcGFjaXR5IjogMS4wLCAicmFkaXVzIjogNiwgInN0cm9rZSI6IHRydWUsICJ3ZWlnaHQiOiAzfQogICAgICAgICAgICApLmFkZFRvKG1hcF9hZjU4NzI1NTU3ZTY0OTI5ODA0ZTg1NjZmZmZkMjFlOSk7CiAgICAgICAgCiAgICAKICAgICAgICB2YXIgcG9wdXBfNDRiODZiZGEzYWUzNGNiOGJjNDUzMmY1N2JhNzA5MDIgPSBMLnBvcHVwKHsibWF4V2lkdGgiOiAiMTAwJSJ9KTsKCiAgICAgICAgCiAgICAgICAgICAgIHZhciBodG1sX2Y5OWY1MDViMDUzMjRiNDFhNjgyYTAzMzEyNGQ2ZTU4ID0gJChgPGRpdiBpZD0iaHRtbF9mOTlmNTA1YjA1MzI0YjQxYTY4MmEwMzMxMjRkNmU1OCIgc3R5bGU9IndpZHRoOiAxMDAuMCU7IGhlaWdodDogMTAwLjAlOyI+UGxheWEgU29tYnJlcm88L2Rpdj5gKVswXTsKICAgICAgICAgICAgcG9wdXBfNDRiODZiZGEzYWUzNGNiOGJjNDUzMmY1N2JhNzA5MDIuc2V0Q29udGVudChodG1sX2Y5OWY1MDViMDUzMjRiNDFhNjgyYTAzMzEyNGQ2ZTU4KTsKICAgICAgICAKCiAgICAgICAgY2lyY2xlX21hcmtlcl84M2UyZmRmZTAwNGM0YTY1OTljYzlkYjUxZGRhZDk1NC5iaW5kUG9wdXAocG9wdXBfNDRiODZiZGEzYWUzNGNiOGJjNDUzMmY1N2JhNzA5MDIpCiAgICAgICAgOwoKICAgICAgICAKICAgIAogICAgCiAgICAgICAgICAgIHZhciBjaXJjbGVfbWFya2VyXzgxOTI2NDczYmY1NzQzOGFiMTVjMzRlZDNmZmE2YzgyID0gTC5jaXJjbGVNYXJrZXIoCiAgICAgICAgICAgICAgICBbOC40NTUzNDA0NSwgLTgzLjI4MDUyMTUyNTE5MDk1XSwKICAgICAgICAgICAgICAgIHsiYnViYmxpbmdNb3VzZUV2ZW50cyI6IHRydWUsICJjb2xvciI6ICJZZWxsb3ciLCAiZGFzaEFycmF5IjogbnVsbCwgImRhc2hPZmZzZXQiOiBudWxsLCAiZmlsbCI6IHRydWUsICJmaWxsQ29sb3IiOiAiIzMxODZjYyIsICJmaWxsT3BhY2l0eSI6IDAuNiwgImZpbGxSdWxlIjogImV2ZW5vZGQiLCAibGluZUNhcCI6ICJyb3VuZCIsICJsaW5lSm9pbiI6ICJyb3VuZCIsICJvcGFjaXR5IjogMS4wLCAicmFkaXVzIjogNiwgInN0cm9rZSI6IHRydWUsICJ3ZWlnaHQiOiAzfQogICAgICAgICAgICApLmFkZFRvKG1hcF9hZjU4NzI1NTU3ZTY0OTI5ODA0ZTg1NjZmZmZkMjFlOSk7CiAgICAgICAgCiAgICAKICAgICAgICB2YXIgcG9wdXBfYTZjZDI3YTBjOWY0NDA2OTk3NTM1YTg3MmY3MzFlNTMgPSBMLnBvcHVwKHsibWF4V2lkdGgiOiAiMTAwJSJ9KTsKCiAgICAgICAgCiAgICAgICAgICAgIHZhciBodG1sXzVkN2QwOTVlMjA4ZDQ2MzliNzczOWYxMzljNDQxMWE3ID0gJChgPGRpdiBpZD0iaHRtbF81ZDdkMDk1ZTIwOGQ0NjM5Yjc3MzlmMTM5YzQ0MTFhNyIgc3R5bGU9IndpZHRoOiAxMDAuMCU7IGhlaWdodDogMTAwLjAlOyI+UGxheWEgVGFtYWxlczwvZGl2PmApWzBdOwogICAgICAgICAgICBwb3B1cF9hNmNkMjdhMGM5ZjQ0MDY5OTc1MzVhODcyZjczMWU1My5zZXRDb250ZW50KGh0bWxfNWQ3ZDA5NWUyMDhkNDYzOWI3NzM5ZjEzOWM0NDExYTcpOwogICAgICAgIAoKICAgICAgICBjaXJjbGVfbWFya2VyXzgxOTI2NDczYmY1NzQzOGFiMTVjMzRlZDNmZmE2YzgyLmJpbmRQb3B1cChwb3B1cF9hNmNkMjdhMGM5ZjQ0MDY5OTc1MzVhODcyZjczMWU1MykKICAgICAgICA7CgogICAgICAgIAogICAgCiAgICAKICAgICAgICAgICAgdmFyIGNpcmNsZV9tYXJrZXJfMTUwYzMzMTYyY2QzNGUxNDkxMGNiZGFhOGYwMDllNmIgPSBMLmNpcmNsZU1hcmtlcigKICAgICAgICAgICAgICAgIFs5Ljc0NTcwNjEsIC04NC45ODg1NDY0XSwKICAgICAgICAgICAgICAgIHsiYnViYmxpbmdNb3VzZUV2ZW50cyI6IHRydWUsICJjb2xvciI6ICJZZWxsb3ciLCAiZGFzaEFycmF5IjogbnVsbCwgImRhc2hPZmZzZXQiOiBudWxsLCAiZmlsbCI6IHRydWUsICJmaWxsQ29sb3IiOiAiIzMxODZjYyIsICJmaWxsT3BhY2l0eSI6IDAuNiwgImZpbGxSdWxlIjogImV2ZW5vZGQiLCAibGluZUNhcCI6ICJyb3VuZCIsICJsaW5lSm9pbiI6ICJyb3VuZCIsICJvcGFjaXR5IjogMS4wLCAicmFkaXVzIjogNiwgInN0cm9rZSI6IHRydWUsICJ3ZWlnaHQiOiAzfQogICAgICAgICAgICApLmFkZFRvKG1hcF9hZjU4NzI1NTU3ZTY0OTI5ODA0ZTg1NjZmZmZkMjFlOSk7CiAgICAgICAgCiAgICAKICAgICAgICB2YXIgcG9wdXBfMThmM2JjNDY2MWI3NDRmNzliZjU5MDg5ZWU2NWRkMGYgPSBMLnBvcHVwKHsibWF4V2lkdGgiOiAiMTAwJSJ9KTsKCiAgICAgICAgCiAgICAgICAgICAgIHZhciBodG1sX2E3NTFjM2FjNDRjMjQ5NGNiYzI0ZWVhNTU1YWQyM2NhID0gJChgPGRpdiBpZD0iaHRtbF9hNzUxYzNhYzQ0YzI0OTRjYmMyNGVlYTU1NWFkMjNjYSIgc3R5bGU9IndpZHRoOiAxMDAuMCU7IGhlaWdodDogMTAwLjAlOyI+UGxheWEgVGFtYm9yPC9kaXY+YClbMF07CiAgICAgICAgICAgIHBvcHVwXzE4ZjNiYzQ2NjFiNzQ0Zjc5YmY1OTA4OWVlNjVkZDBmLnNldENvbnRlbnQoaHRtbF9hNzUxYzNhYzQ0YzI0OTRjYmMyNGVlYTU1NWFkMjNjYSk7CiAgICAgICAgCgogICAgICAgIGNpcmNsZV9tYXJrZXJfMTUwYzMzMTYyY2QzNGUxNDkxMGNiZGFhOGYwMDllNmIuYmluZFBvcHVwKHBvcHVwXzE4ZjNiYzQ2NjFiNzQ0Zjc5YmY1OTA4OWVlNjVkZDBmKQogICAgICAgIDsKCiAgICAgICAgCiAgICAKICAgIAogICAgICAgICAgICB2YXIgY2lyY2xlX21hcmtlcl9mZmQ0OGIxMjM4YmY0OWJjODVhMjI0ZWRmNDM3Mjc3OCA9IEwuY2lyY2xlTWFya2VyKAogICAgICAgICAgICAgICAgWzkuNzU5Mzg5NzUsIC04NC42Mjc5ODkxMTExMzY3OF0sCiAgICAgICAgICAgICAgICB7ImJ1YmJsaW5nTW91c2VFdmVudHMiOiB0cnVlLCAiY29sb3IiOiAiWWVsbG93IiwgImRhc2hBcnJheSI6IG51bGwsICJkYXNoT2Zmc2V0IjogbnVsbCwgImZpbGwiOiB0cnVlLCAiZmlsbENvbG9yIjogIiMzMTg2Y2MiLCAiZmlsbE9wYWNpdHkiOiAwLjYsICJmaWxsUnVsZSI6ICJldmVub2RkIiwgImxpbmVDYXAiOiAicm91bmQiLCAibGluZUpvaW4iOiAicm91bmQiLCAib3BhY2l0eSI6IDEuMCwgInJhZGl1cyI6IDYsICJzdHJva2UiOiB0cnVlLCAid2VpZ2h0IjogM30KICAgICAgICAgICAgKS5hZGRUbyhtYXBfYWY1ODcyNTU1N2U2NDkyOTgwNGU4NTY2ZmZmZDIxZTkpOwogICAgICAgIAogICAgCiAgICAgICAgdmFyIHBvcHVwX2E2ZmFhZTA2NTk1ZTRmZWM5NDM5NTMwZjcxYjM4MzEwID0gTC5wb3B1cCh7Im1heFdpZHRoIjogIjEwMCUifSk7CgogICAgICAgIAogICAgICAgICAgICB2YXIgaHRtbF81NjQwMzI2ODJiZWE0ZTdiYjcxODA3MTQ3MTU3ZWUzZSA9ICQoYDxkaXYgaWQ9Imh0bWxfNTY0MDMyNjgyYmVhNGU3YmI3MTgwNzE0NzE1N2VlM2UiIHN0eWxlPSJ3aWR0aDogMTAwLjAlOyBoZWlnaHQ6IDEwMC4wJTsiPlBsYXlhIFTDoXJjb2xlczwvZGl2PmApWzBdOwogICAgICAgICAgICBwb3B1cF9hNmZhYWUwNjU5NWU0ZmVjOTQzOTUzMGY3MWIzODMxMC5zZXRDb250ZW50KGh0bWxfNTY0MDMyNjgyYmVhNGU3YmI3MTgwNzE0NzE1N2VlM2UpOwogICAgICAgIAoKICAgICAgICBjaXJjbGVfbWFya2VyX2ZmZDQ4YjEyMzhiZjQ5YmM4NWEyMjRlZGY0MzcyNzc4LmJpbmRQb3B1cChwb3B1cF9hNmZhYWUwNjU5NWU0ZmVjOTQzOTUzMGY3MWIzODMxMCkKICAgICAgICA7CgogICAgICAgIAogICAgCiAgICAKICAgICAgICAgICAgdmFyIGNpcmNsZV9tYXJrZXJfZTYyMTUxZDFkZWE4NDc1ZTlhMTE4MGI5ZjRlNDA4NTggPSBMLmNpcmNsZU1hcmtlcigKICAgICAgICAgICAgICAgIFs5LjkyMTIyMjMsIC04NC43MTQ4ODkxXSwKICAgICAgICAgICAgICAgIHsiYnViYmxpbmdNb3VzZUV2ZW50cyI6IHRydWUsICJjb2xvciI6ICJZZWxsb3ciLCAiZGFzaEFycmF5IjogbnVsbCwgImRhc2hPZmZzZXQiOiBudWxsLCAiZmlsbCI6IHRydWUsICJmaWxsQ29sb3IiOiAiIzMxODZjYyIsICJmaWxsT3BhY2l0eSI6IDAuNiwgImZpbGxSdWxlIjogImV2ZW5vZGQiLCAibGluZUNhcCI6ICJyb3VuZCIsICJsaW5lSm9pbiI6ICJyb3VuZCIsICJvcGFjaXR5IjogMS4wLCAicmFkaXVzIjogNiwgInN0cm9rZSI6IHRydWUsICJ3ZWlnaHQiOiAzfQogICAgICAgICAgICApLmFkZFRvKG1hcF9hZjU4NzI1NTU3ZTY0OTI5ODA0ZTg1NjZmZmZkMjFlOSk7CiAgICAgICAgCiAgICAKICAgICAgICB2YXIgcG9wdXBfYzU5MjAxMjhjZjllNDE1MGI2ZDUyNTQyODUxNzU3ZjYgPSBMLnBvcHVwKHsibWF4V2lkdGgiOiAiMTAwJSJ9KTsKCiAgICAgICAgCiAgICAgICAgICAgIHZhciBodG1sX2IyMTZjOTViOWZkMzQzYWY4YWQ3MzRjMjhkYzA2MWFlID0gJChgPGRpdiBpZD0iaHRtbF9iMjE2Yzk1YjlmZDM0M2FmOGFkNzM0YzI4ZGMwNjFhZSIgc3R5bGU9IndpZHRoOiAxMDAuMCU7IGhlaWdodDogMTAwLjAlOyI+UGxheWEgVGl2aXZlczwvZGl2PmApWzBdOwogICAgICAgICAgICBwb3B1cF9jNTkyMDEyOGNmOWU0MTUwYjZkNTI1NDI4NTE3NTdmNi5zZXRDb250ZW50KGh0bWxfYjIxNmM5NWI5ZmQzNDNhZjhhZDczNGMyOGRjMDYxYWUpOwogICAgICAgIAoKICAgICAgICBjaXJjbGVfbWFya2VyX2U2MjE1MWQxZGVhODQ3NWU5YTExODBiOWY0ZTQwODU4LmJpbmRQb3B1cChwb3B1cF9jNTkyMDEyOGNmOWU0MTUwYjZkNTI1NDI4NTE3NTdmNikKICAgICAgICA7CgogICAgICAgIAogICAgCiAgICAKICAgICAgICAgICAgdmFyIGNpcmNsZV9tYXJrZXJfOWZiZWFiMmVlZjFlNDgyNjkzMTY5MzZlMDg4YWQzYTIgPSBMLmNpcmNsZU1hcmtlcigKICAgICAgICAgICAgICAgIFs5Ljc3MzI0NjM1LCAtODQuODk1Mzg1NjY1MTU2XSwKICAgICAgICAgICAgICAgIHsiYnViYmxpbmdNb3VzZUV2ZW50cyI6IHRydWUsICJjb2xvciI6ICJZZWxsb3ciLCAiZGFzaEFycmF5IjogbnVsbCwgImRhc2hPZmZzZXQiOiBudWxsLCAiZmlsbCI6IHRydWUsICJmaWxsQ29sb3IiOiAiIzMxODZjYyIsICJmaWxsT3BhY2l0eSI6IDAuNiwgImZpbGxSdWxlIjogImV2ZW5vZGQiLCAibGluZUNhcCI6ICJyb3VuZCIsICJsaW5lSm9pbiI6ICJyb3VuZCIsICJvcGFjaXR5IjogMS4wLCAicmFkaXVzIjogNiwgInN0cm9rZSI6IHRydWUsICJ3ZWlnaHQiOiAzfQogICAgICAgICAgICApLmFkZFRvKG1hcF9hZjU4NzI1NTU3ZTY0OTI5ODA0ZTg1NjZmZmZkMjFlOSk7CiAgICAgICAgCiAgICAKICAgICAgICB2YXIgcG9wdXBfODBjNGUxMzAzMzM1NGNhY2ExZmQ3MTA5Yjc5YmE0ZTAgPSBMLnBvcHVwKHsibWF4V2lkdGgiOiAiMTAwJSJ9KTsKCiAgICAgICAgCiAgICAgICAgICAgIHZhciBodG1sXzZmMzMwZjE0ODJhNzRhOTViMTM5MjM2ZjA5Y2ZmZjNiID0gJChgPGRpdiBpZD0iaHRtbF82ZjMzMGYxNDgyYTc0YTk1YjEzOTIzNmYwOWNmZmYzYiIgc3R5bGU9IndpZHRoOiAxMDAuMCU7IGhlaWdodDogMTAwLjAlOyI+UGxheWEgVG9ydHVnYTwvZGl2PmApWzBdOwogICAgICAgICAgICBwb3B1cF84MGM0ZTEzMDMzMzU0Y2FjYTFmZDcxMDliNzliYTRlMC5zZXRDb250ZW50KGh0bWxfNmYzMzBmMTQ4MmE3NGE5NWIxMzkyMzZmMDljZmZmM2IpOwogICAgICAgIAoKICAgICAgICBjaXJjbGVfbWFya2VyXzlmYmVhYjJlZWYxZTQ4MjY5MzE2OTM2ZTA4OGFkM2EyLmJpbmRQb3B1cChwb3B1cF84MGM0ZTEzMDMzMzU0Y2FjYTFmZDcxMDliNzliYTRlMCkKICAgICAgICA7CgogICAgICAgIAogICAgCiAgICAKICAgICAgICAgICAgdmFyIGNpcmNsZV9tYXJrZXJfODI5NTc0NTYwMWU1NDJlNGE5OGVmZmVhMjBhMzMxZmMgPSBMLmNpcmNsZU1hcmtlcigKICAgICAgICAgICAgICAgIFs5LjE1NTMwOTc1LCAtODMuNzU3Mzg4ODE1ODY4MThdLAogICAgICAgICAgICAgICAgeyJidWJibGluZ01vdXNlRXZlbnRzIjogdHJ1ZSwgImNvbG9yIjogIlllbGxvdyIsICJkYXNoQXJyYXkiOiBudWxsLCAiZGFzaE9mZnNldCI6IG51bGwsICJmaWxsIjogdHJ1ZSwgImZpbGxDb2xvciI6ICIjMzE4NmNjIiwgImZpbGxPcGFjaXR5IjogMC42LCAiZmlsbFJ1bGUiOiAiZXZlbm9kZCIsICJsaW5lQ2FwIjogInJvdW5kIiwgImxpbmVKb2luIjogInJvdW5kIiwgIm9wYWNpdHkiOiAxLjAsICJyYWRpdXMiOiA2LCAic3Ryb2tlIjogdHJ1ZSwgIndlaWdodCI6IDN9CiAgICAgICAgICAgICkuYWRkVG8obWFwX2FmNTg3MjU1NTdlNjQ5Mjk4MDRlODU2NmZmZmQyMWU5KTsKICAgICAgICAKICAgIAogICAgICAgIHZhciBwb3B1cF8xYTJkMTI4MTFlNzE0NzRjODBlMmFhNWVmMjcyZDMzYSA9IEwucG9wdXAoeyJtYXhXaWR0aCI6ICIxMDAlIn0pOwoKICAgICAgICAKICAgICAgICAgICAgdmFyIGh0bWxfZWMzNGY2ZWEyMDNiNDg1NThhNzZlOTRlMzliMzk5ZGYgPSAkKGA8ZGl2IGlkPSJodG1sX2VjMzRmNmVhMjAzYjQ4NTU4YTc2ZTk0ZTM5YjM5OWRmIiBzdHlsZT0id2lkdGg6IDEwMC4wJTsgaGVpZ2h0OiAxMDAuMCU7Ij5QbGF5YSBVdml0YTwvZGl2PmApWzBdOwogICAgICAgICAgICBwb3B1cF8xYTJkMTI4MTFlNzE0NzRjODBlMmFhNWVmMjcyZDMzYS5zZXRDb250ZW50KGh0bWxfZWMzNGY2ZWEyMDNiNDg1NThhNzZlOTRlMzliMzk5ZGYpOwogICAgICAgIAoKICAgICAgICBjaXJjbGVfbWFya2VyXzgyOTU3NDU2MDFlNTQyZTRhOThlZmZlYTIwYTMzMWZjLmJpbmRQb3B1cChwb3B1cF8xYTJkMTI4MTFlNzE0NzRjODBlMmFhNWVmMjcyZDMzYSkKICAgICAgICA7CgogICAgICAgIAogICAgCiAgICAKICAgICAgICAgICAgdmFyIGNpcmNsZV9tYXJrZXJfZGRmYzgzNmI3ZDE0NGZlZGEzZDNlNmM0ZWUzNzk4NjAgPSBMLmNpcmNsZU1hcmtlcigKICAgICAgICAgICAgICAgIFs4LjUxNTg0MDg1LCAtODMuMTM2MzY3NDUwNjI2ODldLAogICAgICAgICAgICAgICAgeyJidWJibGluZ01vdXNlRXZlbnRzIjogdHJ1ZSwgImNvbG9yIjogIlllbGxvdyIsICJkYXNoQXJyYXkiOiBudWxsLCAiZGFzaE9mZnNldCI6IG51bGwsICJmaWxsIjogdHJ1ZSwgImZpbGxDb2xvciI6ICIjMzE4NmNjIiwgImZpbGxPcGFjaXR5IjogMC42LCAiZmlsbFJ1bGUiOiAiZXZlbm9kZCIsICJsaW5lQ2FwIjogInJvdW5kIiwgImxpbmVKb2luIjogInJvdW5kIiwgIm9wYWNpdHkiOiAxLjAsICJyYWRpdXMiOiA2LCAic3Ryb2tlIjogdHJ1ZSwgIndlaWdodCI6IDN9CiAgICAgICAgICAgICkuYWRkVG8obWFwX2FmNTg3MjU1NTdlNjQ5Mjk4MDRlODU2NmZmZmQyMWU5KTsKICAgICAgICAKICAgIAogICAgICAgIHZhciBwb3B1cF9iY2JiMzczODhhYjg0ZWRlOGU5MTJjMGY2YmFlNWY2ZSA9IEwucG9wdXAoeyJtYXhXaWR0aCI6ICIxMDAlIn0pOwoKICAgICAgICAKICAgICAgICAgICAgdmFyIGh0bWxfZDEyZmZiN2Q4Nzc4NGExZDg1M2U4Nzk3ZjRiYjQwMGQgPSAkKGA8ZGl2IGlkPSJodG1sX2QxMmZmYjdkODc3ODRhMWQ4NTNlODc5N2Y0YmI0MDBkIiBzdHlsZT0id2lkdGg6IDEwMC4wJTsgaGVpZ2h0OiAxMDAuMCU7Ij5QbGF5YSBaYW5jdWRvPC9kaXY+YClbMF07CiAgICAgICAgICAgIHBvcHVwX2JjYmIzNzM4OGFiODRlZGU4ZTkxMmMwZjZiYWU1ZjZlLnNldENvbnRlbnQoaHRtbF9kMTJmZmI3ZDg3Nzg0YTFkODUzZTg3OTdmNGJiNDAwZCk7CiAgICAgICAgCgogICAgICAgIGNpcmNsZV9tYXJrZXJfZGRmYzgzNmI3ZDE0NGZlZGEzZDNlNmM0ZWUzNzk4NjAuYmluZFBvcHVwKHBvcHVwX2JjYmIzNzM4OGFiODRlZGU4ZTkxMmMwZjZiYWU1ZjZlKQogICAgICAgIDsKCiAgICAgICAgCiAgICAKPC9zY3JpcHQ+ onload=\"this.contentDocument.open();this.contentDocument.write(atob(this.getAttribute('data-html')));this.contentDocument.close();\" allowfullscreen webkitallowfullscreen mozallowfullscreen></iframe></div></div>"
     },
     "metadata": {},
     "execution_count": 155
    }
   ],
   "source": [
    "map_beaches = folium.Map(location=[latitude, longitude], zoom_start=8 )\n",
    "\n",
    "for lat, lng, beach in zip(df['lati'], df['long'], df['Beaches']):\n",
    "    label = '{}'.format(beach)\n",
    "    label = folium.Popup(label, parse_html=True)\n",
    "    folium.CircleMarker(\n",
    "        [lat, lng],\n",
    "        radius=6,\n",
    "        popup=label,\n",
    "        color='Yellow',\n",
    "        fill=True,\n",
    "        fill_color='#3186cc',\n",
    "        fill_opacity=0.6,\n",
    "        parse_html=False).add_to(map_beaches)  \n",
    "    \n",
    "map_beaches"
   ]
  },
  {
   "cell_type": "code",
   "execution_count": 148,
   "metadata": {},
   "outputs": [
    {
     "output_type": "execute_result",
     "data": {
      "text/plain": [
       "{'Info': False,\n",
       " 'Swimming': True,\n",
       " 'Surfing': True,\n",
       " 'Snorkeling': True,\n",
       " 'lati': 10.54616,\n",
       " 'long': -85.72245}"
      ]
     },
     "metadata": {},
     "execution_count": 148
    }
   ],
   "source": [
    "#playa ocotal does not have the correct cordenates, lets change them\n",
    "playas2['Playa Ocotal']['lati'] = 10.54616\n",
    "playas2['Playa Ocotal']['long'] = -85.72245\n",
    "playas2['Playa Ocotal']"
   ]
  },
  {
   "cell_type": "code",
   "execution_count": null,
   "metadata": {},
   "outputs": [],
   "source": [
    "# I know the number of venues for a beach is less than the number of venues in a capital city and even less when speaking about Toronto or New York, that is why I am going to add data not just from 500 meters around the location, I am going to use 1000 meters"
   ]
  },
  {
   "cell_type": "code",
   "execution_count": 157,
   "metadata": {},
   "outputs": [],
   "source": [
    "latitude2 = 0\n",
    "longitude2 = 0"
   ]
  },
  {
   "cell_type": "code",
   "execution_count": 162,
   "metadata": {},
   "outputs": [
    {
     "output_type": "execute_result",
     "data": {
      "text/plain": [
       "<folium.folium.Map at 0x18105dc0>"
      ],
      "text/html": "<div style=\"width:100%;\"><div style=\"position:relative;width:100%;height:0;padding-bottom:60%;\"><span style=\"color:#565656\">Make this Notebook Trusted to load map: File -> Trust Notebook</span><iframe src=\"about:blank\" style=\"position:absolute;width:100%;height:100%;left:0;top:0;border:none !important;\" data-html=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 onload=\"this.contentDocument.open();this.contentDocument.write(atob(this.getAttribute('data-html')));this.contentDocument.close();\" allowfullscreen webkitallowfullscreen mozallowfullscreen></iframe></div></div>"
     },
     "metadata": {},
     "execution_count": 162
    }
   ],
   "source": [
    "map_beaches2 = folium.Map(location=[latitude2, longitude2], zoom_start=8 )\n",
    "\n",
    "beach2 = 'Ecuador'\n",
    "\n",
    "lat = 0   \n",
    "lng = 0\n",
    "label = '{}'.format(beach2)\n",
    "label = folium.Popup(label, parse_html=True)\n",
    "\n",
    "folium.CircleMarker(\n",
    "        [lat, lng],\n",
    "        radius=6,\n",
    "        popup=label,\n",
    "        color='Yellow',\n",
    "        fill=True,\n",
    "        fill_color='#3186cc',\n",
    "        fill_opacity=0.6,\n",
    "        parse_html=False).add_to(map_beaches2)  \n",
    "map_beaches2"
   ]
  },
  {
   "cell_type": "code",
   "execution_count": null,
   "metadata": {},
   "outputs": [],
   "source": [
    "# 1 degree is about 110 km\n",
    "degree = 110\n",
    "\n",
    "# if I only want to move 1 km"
   ]
  },
  {
   "cell_type": "code",
   "execution_count": 166,
   "metadata": {},
   "outputs": [
    {
     "output_type": "execute_result",
     "data": {
      "text/plain": [
       "0.9899999999999999"
      ]
     },
     "metadata": {},
     "execution_count": 166
    }
   ],
   "source": [
    "110 * 0.009"
   ]
  },
  {
   "cell_type": "code",
   "execution_count": 167,
   "metadata": {},
   "outputs": [
    {
     "output_type": "execute_result",
     "data": {
      "text/plain": [
       "1.1"
      ]
     },
     "metadata": {},
     "execution_count": 167
    }
   ],
   "source": [
    "110*0.01"
   ]
  },
  {
   "source": [
    "## all I need to continue tomorrow without loading the data again"
   ],
   "cell_type": "markdown",
   "metadata": {}
  },
  {
   "cell_type": "code",
   "execution_count": 198,
   "metadata": {},
   "outputs": [
    {
     "output_type": "execute_result",
     "data": {
      "text/plain": [
       "                          Unnamed: 0   Info  Swimming  Surfing       lati  \\\n",
       "Beaches                                                                     \n",
       "Playa Barra del Colorado           0   True      True     True   8.515841   \n",
       "Playa Bonita                       1  False      True     True  10.009861   \n",
       "Playa Cahuita (Blanca)             2  False      True     True   8.515841   \n",
       "Playa Chiquita                     3   True      True     True   9.637403   \n",
       "Punta Cocles                       4  False      True     True   9.645276   \n",
       "\n",
       "                               long  White_S  Snorkeling  Nocturnal  \n",
       "Beaches                                                              \n",
       "Playa Barra del Colorado -83.136367    False       False      False  \n",
       "Playa Bonita             -83.063460     True       False      False  \n",
       "Playa Cahuita (Blanca)   -83.136367     True        True      False  \n",
       "Playa Chiquita           -82.703669     True        True      False  \n",
       "Punta Cocles             -82.717563     True       False      False  "
      ],
      "text/html": "<div>\n<style scoped>\n    .dataframe tbody tr th:only-of-type {\n        vertical-align: middle;\n    }\n\n    .dataframe tbody tr th {\n        vertical-align: top;\n    }\n\n    .dataframe thead th {\n        text-align: right;\n    }\n</style>\n<table border=\"1\" class=\"dataframe\">\n  <thead>\n    <tr style=\"text-align: right;\">\n      <th></th>\n      <th>Unnamed: 0</th>\n      <th>Info</th>\n      <th>Swimming</th>\n      <th>Surfing</th>\n      <th>lati</th>\n      <th>long</th>\n      <th>White_S</th>\n      <th>Snorkeling</th>\n      <th>Nocturnal</th>\n    </tr>\n    <tr>\n      <th>Beaches</th>\n      <th></th>\n      <th></th>\n      <th></th>\n      <th></th>\n      <th></th>\n      <th></th>\n      <th></th>\n      <th></th>\n      <th></th>\n    </tr>\n  </thead>\n  <tbody>\n    <tr>\n      <th>Playa Barra del Colorado</th>\n      <td>0</td>\n      <td>True</td>\n      <td>True</td>\n      <td>True</td>\n      <td>8.515841</td>\n      <td>-83.136367</td>\n      <td>False</td>\n      <td>False</td>\n      <td>False</td>\n    </tr>\n    <tr>\n      <th>Playa Bonita</th>\n      <td>1</td>\n      <td>False</td>\n      <td>True</td>\n      <td>True</td>\n      <td>10.009861</td>\n      <td>-83.063460</td>\n      <td>True</td>\n      <td>False</td>\n      <td>False</td>\n    </tr>\n    <tr>\n      <th>Playa Cahuita (Blanca)</th>\n      <td>2</td>\n      <td>False</td>\n      <td>True</td>\n      <td>True</td>\n      <td>8.515841</td>\n      <td>-83.136367</td>\n      <td>True</td>\n      <td>True</td>\n      <td>False</td>\n    </tr>\n    <tr>\n      <th>Playa Chiquita</th>\n      <td>3</td>\n      <td>True</td>\n      <td>True</td>\n      <td>True</td>\n      <td>9.637403</td>\n      <td>-82.703669</td>\n      <td>True</td>\n      <td>True</td>\n      <td>False</td>\n    </tr>\n    <tr>\n      <th>Punta Cocles</th>\n      <td>4</td>\n      <td>False</td>\n      <td>True</td>\n      <td>True</td>\n      <td>9.645276</td>\n      <td>-82.717563</td>\n      <td>True</td>\n      <td>False</td>\n      <td>False</td>\n    </tr>\n  </tbody>\n</table>\n</div>"
     },
     "metadata": {},
     "execution_count": 198
    }
   ],
   "source": [
    "df2 = pd.read_csv('beaches.csv',index_col=1)\n",
    "df2.head()"
   ]
  },
  {
   "cell_type": "code",
   "execution_count": 199,
   "metadata": {},
   "outputs": [
    {
     "output_type": "execute_result",
     "data": {
      "text/plain": [
       "Index(['Unnamed: 0', 'Info', 'Swimming', 'Surfing', 'lati', 'long', 'White_S',\n",
       "       'Snorkeling', 'Nocturnal'],\n",
       "      dtype='object')"
      ]
     },
     "metadata": {},
     "execution_count": 199
    }
   ],
   "source": [
    "columns = df2.columns\n",
    "columns"
   ]
  },
  {
   "cell_type": "code",
   "execution_count": 200,
   "metadata": {},
   "outputs": [],
   "source": [
    "df2 = df2[columns[1:]].transpose()"
   ]
  },
  {
   "cell_type": "code",
   "execution_count": 204,
   "metadata": {},
   "outputs": [],
   "source": [
    "playas = df2.to_dict()\n",
    "#playas"
   ]
  },
  {
   "source": [
    "## until here"
   ],
   "cell_type": "markdown",
   "metadata": {}
  },
  {
   "cell_type": "code",
   "execution_count": 201,
   "metadata": {},
   "outputs": [
    {
     "output_type": "error",
     "ename": "SyntaxError",
     "evalue": "invalid syntax (<ipython-input-201-0817a0cfd041>, line 2)",
     "traceback": [
      "\u001b[1;36m  File \u001b[1;32m\"<ipython-input-201-0817a0cfd041>\"\u001b[1;36m, line \u001b[1;32m2\u001b[0m\n\u001b[1;33m    print(df[])\u001b[0m\n\u001b[1;37m             ^\u001b[0m\n\u001b[1;31mSyntaxError\u001b[0m\u001b[1;31m:\u001b[0m invalid syntax\n"
     ]
    }
   ],
   "source": [
    "for beach in df['Beaches']:\n",
    "    print(df[])"
   ]
  },
  {
   "cell_type": "code",
   "execution_count": null,
   "metadata": {},
   "outputs": [],
   "source": []
  },
  {
   "cell_type": "code",
   "execution_count": null,
   "metadata": {},
   "outputs": [],
   "source": []
  },
  {
   "cell_type": "code",
   "execution_count": null,
   "metadata": {},
   "outputs": [],
   "source": []
  },
  {
   "cell_type": "code",
   "execution_count": null,
   "metadata": {},
   "outputs": [],
   "source": []
  },
  {
   "cell_type": "code",
   "execution_count": null,
   "metadata": {},
   "outputs": [],
   "source": []
  },
  {
   "cell_type": "code",
   "execution_count": null,
   "metadata": {},
   "outputs": [],
   "source": []
  },
  {
   "cell_type": "code",
   "execution_count": null,
   "metadata": {},
   "outputs": [],
   "source": []
  },
  {
   "cell_type": "code",
   "execution_count": null,
   "metadata": {},
   "outputs": [],
   "source": []
  },
  {
   "cell_type": "code",
   "execution_count": null,
   "metadata": {},
   "outputs": [],
   "source": []
  },
  {
   "cell_type": "code",
   "execution_count": null,
   "metadata": {},
   "outputs": [],
   "source": []
  },
  {
   "cell_type": "code",
   "execution_count": null,
   "metadata": {},
   "outputs": [],
   "source": []
  },
  {
   "cell_type": "code",
   "execution_count": null,
   "metadata": {},
   "outputs": [],
   "source": []
  },
  {
   "cell_type": "code",
   "execution_count": null,
   "metadata": {},
   "outputs": [],
   "source": []
  }
 ]
}