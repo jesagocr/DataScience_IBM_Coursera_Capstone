{
 "metadata": {
  "language_info": {
   "codemirror_mode": {
    "name": "ipython",
    "version": 3
   },
   "file_extension": ".py",
   "mimetype": "text/x-python",
   "name": "python",
   "nbconvert_exporter": "python",
   "pygments_lexer": "ipython3",
   "version": "3.8.3-final"
  },
  "orig_nbformat": 2,
  "kernelspec": {
   "name": "python38332bitc997c56da9a74e2babed0b86df49b304",
   "display_name": "Python 3.8.3 32-bit"
  }
 },
 "nbformat": 4,
 "nbformat_minor": 2,
 "cells": [
  {
   "source": [
    "## Author: Jesús Salazar Gómez, Costa Rica\n",
    "## Course: Applied Data Science Capstone, week 4 and 5 (project), Coursera\n",
    "\n",
    "## LinkedIn: https://www.linkedin.com/in/jesagocr/\n",
    "## GitHub: https://github.com/jesagocr"
   ],
   "cell_type": "markdown",
   "metadata": {}
  },
  {
   "cell_type": "code",
   "execution_count": 5,
   "metadata": {},
   "outputs": [
    {
     "output_type": "stream",
     "name": "stderr",
     "text": [
      "WARNING: You are using pip version 20.2.3; however, version 20.2.4 is available.\n",
      "You should consider upgrading via the 'c:\\users\\jesag\\appdata\\local\\programs\\python\\python38-32\\python.exe -m pip install --upgrade pip' command.\n",
      "Collecting geopy\n",
      "  Downloading geopy-2.0.0-py3-none-any.whl (111 kB)\n",
      "Collecting geographiclib<2,>=1.49\n",
      "  Downloading geographiclib-1.50-py3-none-any.whl (38 kB)\n",
      "Installing collected packages: geographiclib, geopy\n",
      "Successfully installed geographiclib-1.50 geopy-2.0.0\n",
      "WARNING: You are using pip version 20.2.3; however, version 20.2.4 is available.\n",
      "You should consider upgrading via the 'c:\\users\\jesag\\appdata\\local\\programs\\python\\python38-32\\python.exe -m pip install --upgrade pip' command.\n",
      "Collecting folium\n",
      "  Downloading folium-0.11.0-py2.py3-none-any.whl (93 kB)\n",
      "Collecting branca>=0.3.0\n",
      "  Downloading branca-0.4.1-py3-none-any.whl (24 kB)\n",
      "Requirement already satisfied: requests in c:\\users\\jesag\\appdata\\local\\programs\\python\\python38-32\\lib\\site-packages (from folium) (2.24.0)\n",
      "Requirement already satisfied: jinja2>=2.9 in c:\\users\\jesag\\appdata\\roaming\\python\\python38\\site-packages (from folium) (2.11.2)\n",
      "Requirement already satisfied: numpy in c:\\users\\jesag\\appdata\\local\\programs\\python\\python38-32\\lib\\site-packages (from folium) (1.18.5)\n",
      "Requirement already satisfied: certifi>=2017.4.17 in c:\\users\\jesag\\appdata\\local\\programs\\python\\python38-32\\lib\\site-packages (from requests->folium) (2020.6.20)\n",
      "Requirement already satisfied: urllib3!=1.25.0,!=1.25.1,<1.26,>=1.21.1 in c:\\users\\jesag\\appdata\\local\\programs\\python\\python38-32\\lib\\site-packages (from requests->folium) (1.25.10)\n",
      "Requirement already satisfied: chardet<4,>=3.0.2 in c:\\users\\jesag\\appdata\\local\\programs\\python\\python38-32\\lib\\site-packages (from requests->folium) (3.0.4)\n",
      "Requirement already satisfied: idna<3,>=2.5 in c:\\users\\jesag\\appdata\\local\\programs\\python\\python38-32\\lib\\site-packages (from requests->folium) (2.10)\n",
      "Requirement already satisfied: MarkupSafe>=0.23 in c:\\users\\jesag\\appdata\\roaming\\python\\python38\\site-packages (from jinja2>=2.9->folium) (1.1.1)\n",
      "Installing collected packages: branca, folium\n",
      "Successfully installed branca-0.4.1 folium-0.11.0\n",
      "Libraries imported.\n"
     ]
    }
   ],
   "source": [
    "# to read the data and do wrangling\n",
    "from urllib.request import urlopen\n",
    "from collections import defaultdict\n",
    "\n",
    "\n",
    "# to work with the api\n",
    "import json\n",
    "import requests\n",
    "import pandas as pd\n",
    "\n",
    "\n",
    "# to work with the geolocalization data\n",
    "!pip install geopy \n",
    "from geopy.geocoders import Nominatim # convert an address into latitude and longitude values\n",
    "\n",
    "# import k-means from clustering stage\n",
    "from sklearn.cluster import KMeans\n",
    "\n",
    "!pip install folium\n",
    "import folium # map rendering library\n",
    "\n",
    "print('Libraries imported.')"
   ]
  },
  {
   "cell_type": "code",
   "execution_count": 1,
   "metadata": {},
   "outputs": [
    {
     "output_type": "stream",
     "name": "stdout",
     "text": [
      "Libraries imported.\n"
     ]
    }
   ],
   "source": [
    "# to read the data and do wrangling\n",
    "from urllib.request import urlopen\n",
    "from collections import defaultdict\n",
    "\n",
    "# to work with the api\n",
    "import json\n",
    "import requests\n",
    "import pandas as pd\n",
    "\n",
    "# to work with the geolocalization data\n",
    "#!pip install geopy \n",
    "from geopy.geocoders import Nominatim # convert an address into latitude and longitude values\n",
    "\n",
    "# import k-means from clustering stage\n",
    "from sklearn.cluster import KMeans\n",
    "\n",
    "#!pip install folium\n",
    "import folium # map rendering library\n",
    "\n",
    "from bs4 import BeautifulSoup\n",
    "\n",
    "print('Libraries imported.')"
   ]
  },
  {
   "cell_type": "code",
   "execution_count": 2,
   "metadata": {},
   "outputs": [],
   "source": [
    "# reading the url\n",
    "url = urlopen(\"https://es.wikipedia.org/wiki/Anexo:Playas_de_Costa_Rica\")"
   ]
  },
  {
   "cell_type": "code",
   "execution_count": 3,
   "metadata": {
    "tags": []
   },
   "outputs": [
    {
     "output_type": "stream",
     "name": "stdout",
     "text": [
      "<class 'str'>\n"
     ]
    }
   ],
   "source": [
    "content = str(url.read(),encoding='utf-8')\n",
    "print(type(content))"
   ]
  },
  {
   "cell_type": "code",
   "execution_count": 4,
   "metadata": {
    "tags": []
   },
   "outputs": [
    {
     "output_type": "stream",
     "name": "stdout",
     "text": [
      "ipedia/commons/thumb/8/88/Cahuita.jpg/440px-Cahuita.jpg 2x\" data-file-width=\"1600\" data-file-height=\"1082\" /></a>  <div class=\"thumbcaption\"><div class=\"magnify\"><a href=\"/wiki/Archivo:Cahuita.jpg\" class=\"internal\" title=\"Aumentar\"></a></div>Playa Blanca en Cahuita.</div></div></div>\n<ul><li><a href=\"/wiki/Refugio_Nacional_de_Fauna_Silvestre_Barra_del_Colorado\" class=\"mw-redirect\" title=\"Refugio Nacional de Fauna Silvestre Barra del Colorado\">Playa Barra del Colorado</a></li>\n<li><a href=\"/w/index.php?title=Playa_Bonita_(Lim%C3%B3n)&amp;action=edit&amp;redlink=1\" class=\"new\" title=\"Playa Bonita (Limón) (aún no redactado)\">Playa Bonita</a></li>\n<li><a href=\"/w/index.php?title=Playa_Cahuita_(Blanca)&amp;action=edit&amp;redlink=1\" class=\"new\" title=\"Playa Cahuita (Blanca) (aún no redactado)\">Playa Cahuita (Blanca)</a></li>\n<li><a href=\"/wiki/Playa_Chiquita\" title=\"Playa Chiquita\">Playa Chiquita</a></li>\n<li><a href=\"/w/index.php?title=Punta_Cocles&amp;action=edit&amp;redlink=1\" class=\"new\" title=\"Punta Cocles (aún no redactado)\">Punta Cocles</a></li>\n<li><a href=\"/w/index.php?title=Playa_Gandoca&amp;action=edit&amp;redlink=1\" class=\"new\" title=\"Playa Gandoca (aún no redactado)\">Playa Gandoca</a></li>\n<li><a href=\"/w/index.php?title=Playa_Manzanillo_(Lim%C3%B3n)&amp;action=edit&amp;redlink=1\" class=\"new\" title=\"Playa Manzanillo (Limón) (aún no redactado)\">Playa Manzanillo</a></li>\n<li><a href=\"/w/index.php?title=Playa_Mo%C3%ADn&amp;action=edit&amp;redlink=1\" class=\"new\" title=\"Playa Moín (aún no redactado)\">Playa Moín</a></li>\n<li><a href=\"/w/index.php?title=Playa_Negra_(Puerto_Viejo)&amp;action=edit&amp;redlink=1\" class=\"new\" title=\"Playa Negra (Puerto Viejo) (aún no redactado)\">Playa Negra (Puerto Viejo)</a></li>\n<li><a href=\"/wiki/Parque_nacional_Cahuita\" title=\"Parque nacional Cahuita\">Playa Negra (Cahuita)</a></li>\n<li><a href=\"/w/index.php?title=Playa_Pirikiki&amp;action=edit&amp;redlink=1\" class=\"new\" title=\"Playa Pirikiki (aún no redactado)\">Playa Pirikiki</a></\n"
     ]
    }
   ],
   "source": [
    "print(content[8000:10000]) # the info I need has: <li><a href=\" "
   ]
  },
  {
   "cell_type": "code",
   "execution_count": 5,
   "metadata": {},
   "outputs": [],
   "source": [
    "data = content.split('<li><a href=\"')"
   ]
  },
  {
   "cell_type": "code",
   "execution_count": 7,
   "metadata": {},
   "outputs": [
    {
     "output_type": "stream",
     "name": "stdout",
     "text": [
      "/wiki/Refugio_Nacional_de_Fauna_Silvestre_Barra_del_Colorado\" class=\"mw-redirect\" title=\"Refugio Nacional de Fauna Silvestre Barra del Colorado\">Playa Barra del Colorado</a></li>\n\n/w/index.php?title=Playa_Bonita_(Lim%C3%B3n)&amp;action=edit&amp;redlink=1\" class=\"new\" title=\"Playa Bonita (Limón) (aún no redactado)\">Playa Bonita</a></li>\n\n/w/index.php?title=Playa_Cahuita_(Blanca)&amp;action=edit&amp;redlink=1\" class=\"new\" title=\"Playa Cahuita (Blanca) (aún no redactado)\">Playa Cahuita (Blanca)</a></li>\n\n/wiki/Playa_Chiquita\" title=\"Playa Chiquita\">Playa Chiquita</a></li>\n\n/w/index.php?title=Punta_Cocles&amp;action=edit&amp;redlink=1\" class=\"new\" title=\"Punta Cocles (aún no redactado)\">Punta Cocles</a></li>\n\n/w/index.php?title=Playa_Gandoca&amp;action=edit&amp;redlink=1\" class=\"new\" title=\"Playa Gandoca (aún no redactado)\">Playa Gandoca</a></li>\n\n/w/index.php?title=Playa_Manzanillo_(Lim%C3%B3n)&amp;action=edit&amp;redlink=1\" class=\"new\" title=\"Playa Manzanillo (Limón) (aún no redactado)\">Playa Manzanillo</a></li>\n\n/w/index.php?title=Playa_Mo%C3%ADn&amp;action=edit&amp;redlink=1\" class=\"new\" title=\"Playa Moín (aún no redactado)\">Playa Moín</a></li>\n\n/w/index.php?title=Playa_Negra_(Puerto_Viejo)&amp;action=edit&amp;redlink=1\" class=\"new\" title=\"Playa Negra (Puerto Viejo) (aún no redactado)\">Playa Negra (Puerto Viejo)</a></li>\n\n"
     ]
    }
   ],
   "source": [
    "### need to understand the data\n",
    "for d in data[:10]:\n",
    "    print(d)\n",
    "\n",
    "## the list of beaches start at index 1"
   ]
  },
  {
   "cell_type": "code",
   "execution_count": 8,
   "metadata": {
    "tags": []
   },
   "outputs": [],
   "source": [
    "# a dict with info about which places have info (I guess because are popular) and which not is a good idea.\n",
    "# Also, I am going to add more categories to the dataset so a dict is perfect\n",
    "\n",
    "playas2 = defaultdict(dict)\n",
    "\n",
    "for d in data[1:-1]:\n",
    "    inicio = (d.find('\">')+2)\n",
    "    final = d.find('</')\n",
    "    name = d[inicio:final]\n",
    "\n",
    "    # it seems the most popular beaches are complete but the others are \"aún no redactado\"\n",
    "    ini = d.find('aún no')\n",
    "\n",
    "    if ini != -1:   # if \"aún no redactado\" = no info of the beach, it is possible is not a popular beach\n",
    "        #playas2[name] = False\n",
    "        playas2[name]['Info'] = False\n",
    "\n",
    "    else:\n",
    "        #playas2[name] = True\n",
    "        playas2[name]['Info'] = True"
   ]
  },
  {
   "cell_type": "code",
   "execution_count": 9,
   "metadata": {},
   "outputs": [
    {
     "output_type": "execute_result",
     "data": {
      "text/plain": [
       "defaultdict(dict,\n",
       "            {'Playa Barra del Colorado': {'Info': True},\n",
       "             'Playa Bonita': {'Info': False},\n",
       "             'Playa Cahuita (Blanca)': {'Info': False},\n",
       "             'Playa Chiquita': {'Info': True},\n",
       "             'Punta Cocles': {'Info': False},\n",
       "             'Playa Gandoca': {'Info': False},\n",
       "             'Playa Manzanillo': {'Info': False},\n",
       "             'Playa Moín': {'Info': False},\n",
       "             'Playa Negra (Puerto Viejo)': {'Info': False},\n",
       "             'Playa Negra (Cahuita)': {'Info': True},\n",
       "             'Playa Pirikiki': {'Info': False},\n",
       "             'Playa Portete': {'Info': False},\n",
       "             'Playa Puerto Vargas': {'Info': False},\n",
       "             'Playas Tortuguero': {'Info': True},\n",
       "             'Playa Vizcaya': {'Info': False},\n",
       "             'Playa Westfalia': {'Info': False},\n",
       "             'Puerto Viejo de Talamanca': {'Info': True},\n",
       "             'Punta Mona': {'Info': True},\n",
       "             'Punta Uva': {'Info': False},\n",
       "             'Playa Arbolito': {'Info': False},\n",
       "             'Playa Avellanas': {'Info': False},\n",
       "             'Playa Azul (Jurel)': {'Info': False},\n",
       "             'Playa Bahía Junquillal': {'Info': False},\n",
       "             'Playa Barco Quebrado': {'Info': False},\n",
       "             'Playa Barrigona': {'Info': False},\n",
       "             'Playa Bejuco': {'Info': False},\n",
       "             'Playa Blanca (Santa Elena)': {'Info': False},\n",
       "             'Playa Blanca y Virador': {'Info': False},\n",
       "             'Playa Bongo': {'Info': False},\n",
       "             'Playa Brasilito': {'Info': False},\n",
       "             'Playa Buena Vista': {'Info': False},\n",
       "             'Playa Camaronal': {'Info': False},\n",
       "             'Playa Carbón': {'Info': False},\n",
       "             'Playa Carmen': {'Info': False},\n",
       "             'Playa Carrillo': {'Info': True},\n",
       "             'Playa Cóncava': {'Info': False},\n",
       "             'Playa Conchal': {'Info': True},\n",
       "             'Playa Coyote': {'Info': False},\n",
       "             'Playa Coyotera': {'Info': False},\n",
       "             'Playa Cuajiniquil': {'Info': False},\n",
       "             'Playa Culebra': {'Info': False},\n",
       "             'Playas del Coco': {'Info': True},\n",
       "             'Playa Flamingo': {'Info': False},\n",
       "             'Playa Garza': {'Info': False},\n",
       "             'Playa Grande': {'Info': True},\n",
       "             'Playa Gringo': {'Info': False},\n",
       "             'Playa Guiones': {'Info': False},\n",
       "             'Playa Hermosa': {'Info': True},\n",
       "             'Playa Iguanita': {'Info': False},\n",
       "             'Playa Islita y Corozalito': {'Info': False},\n",
       "             'Playa Jobo': {'Info': False},\n",
       "             'Playa Junquillal': {'Info': False},\n",
       "             'Playa La Penca': {'Info': False},\n",
       "             'Playa Lagarto': {'Info': False},\n",
       "             'Playa Langosta': {'Info': False},\n",
       "             'Playa Mal País': {'Info': False},\n",
       "             'Playa Marbella': {'Info': False},\n",
       "             'Playa Manzanillo (Costa Rica)': {'Info': False},\n",
       "             'Playa Nabos': {'Info': False},\n",
       "             'Playa Nacascolo': {'Info': False},\n",
       "             'Playa Nancite': {'Info': False},\n",
       "             'Playa Naranjo': {'Info': False},\n",
       "             'Playa Negra': {'Info': False},\n",
       "             'Playa Nosara': {'Info': True},\n",
       "             'Playa Nubes': {'Info': False},\n",
       "             'Playa Ocotal': {'Info': False},\n",
       "             'Playa Ostional': {'Info': True},\n",
       "             'Playa Pan de Azúcar': {'Info': False},\n",
       "             'Playa Panamá (Chrorotega)': {'Info': False},\n",
       "             'Playa Pelada': {'Info': False},\n",
       "             'Playa Pietra': {'Info': False},\n",
       "             'Playa Pitahaya': {'Info': False},\n",
       "             'Playa Pleito y San Juanillo': {'Info': False},\n",
       "             'Playa Pochote (Papagayo)': {'Info': True},\n",
       "             'Playa Potrero': {'Info': False},\n",
       "             'Playa Real y Roble': {'Info': False},\n",
       "             'Playa Rajada': {'Info': False},\n",
       "             'Playa Sámara': {'Info': False},\n",
       "             'Playa San Miguel': {'Info': False},\n",
       "             'Playa Santa Teresa': {'Info': False},\n",
       "             'Playa Surco de Piedra': {'Info': False},\n",
       "             'Playa Prieta (Papagayo)': {'Info': False},\n",
       "             'Playa Pochote (Salinas)': {'Info': False},\n",
       "             'Playa Potrero Grande': {'Info': False},\n",
       "             'Playa Puerto Soley': {'Info': False},\n",
       "             'Playa Tamarindo': {'Info': True},\n",
       "             'Playa Ventanas': {'Info': False},\n",
       "             'Balnerario Puntarenas': {'Info': True},\n",
       "             'Playa Agujas': {'Info': False},\n",
       "             'Playa Bahía Drake': {'Info': False},\n",
       "             'Playa Ballena': {'Info': False},\n",
       "             'Playa Barú': {'Info': False},\n",
       "             'Playa Blanca': {'Info': False},\n",
       "             'Playa Boca Vieja': {'Info': False},\n",
       "             'Playa Cabo Blanco': {'Info': True},\n",
       "             'Playa Cabuya': {'Info': False},\n",
       "             'Playa Cocalito': {'Info': False},\n",
       "             'Playa Cacao': {'Info': False},\n",
       "             'Playa Caldera': {'Info': True},\n",
       "             'Playa Carate': {'Info': False},\n",
       "             'Playa Curú': {'Info': False},\n",
       "             'Playa de Arco': {'Info': False},\n",
       "             'Playa de Doña Ana': {'Info': False},\n",
       "             'Playa Dominical': {'Info': True},\n",
       "             'Playa Dominicalito': {'Info': False},\n",
       "             'Playa Espadilla': {'Info': True},\n",
       "             'Playa Esterillos': {'Info': True},\n",
       "             'Playa Garza (Boca Brava)': {'Info': False},\n",
       "             'Playa Gigante': {'Info': False},\n",
       "             'Playa Herradura': {'Info': False},\n",
       "             'Playa Isla Damas': {'Info': False},\n",
       "             'Playa Jacó': {'Info': True},\n",
       "             'Playa Llorona': {'Info': False},\n",
       "             'Playa Madrigal': {'Info': False},\n",
       "             'Playa Mata de Limón': {'Info': False},\n",
       "             'Playa Mantas': {'Info': False},\n",
       "             'Playas Manuel Antonio': {'Info': True},\n",
       "             'Playa Matapalo': {'Info': False},\n",
       "             'Playa Montezuma': {'Info': False},\n",
       "             'Playa Órganos': {'Info': False},\n",
       "             'Playa Palma': {'Info': False},\n",
       "             'Playa Palo Seco': {'Info': False},\n",
       "             'Playa Pavones': {'Info': False},\n",
       "             'Playa Piñuela': {'Info': False},\n",
       "             'Playa Platanares': {'Info': False},\n",
       "             'Playa Pógeres': {'Info': False},\n",
       "             'Playa Quizales': {'Info': False},\n",
       "             'Playa San Josecito (Golfito)': {'Info': False},\n",
       "             'Playa Savegre': {'Info': False},\n",
       "             'Playa Sombrero': {'Info': False},\n",
       "             'Playa Tamales': {'Info': False},\n",
       "             'Playa Tambor': {'Info': True},\n",
       "             'Playa Tárcoles': {'Info': False},\n",
       "             'Playa Tivives': {'Info': False},\n",
       "             'Playa Tortuga': {'Info': True},\n",
       "             'Playa Uvita': {'Info': False},\n",
       "             'Playa Zancudo': {'Info': False}})"
      ]
     },
     "metadata": {},
     "execution_count": 9
    }
   ],
   "source": [
    "# also this dict have more beaches with punta or puerto that I did not count before\n",
    "playas2"
   ]
  },
  {
   "cell_type": "code",
   "execution_count": 10,
   "metadata": {},
   "outputs": [
    {
     "output_type": "execute_result",
     "data": {
      "text/plain": [
       "137"
      ]
     },
     "metadata": {},
     "execution_count": 10
    }
   ],
   "source": [
    "len(playas2.keys())"
   ]
  },
  {
   "source": [
    "### A new web with more info to add categories\n",
    "### There are 3 categories of beaches, use it to separete the places"
   ],
   "cell_type": "markdown",
   "metadata": {}
  },
  {
   "cell_type": "code",
   "execution_count": 11,
   "metadata": {},
   "outputs": [],
   "source": [
    "#source = requests.get(\"https://www.govisitcostarica.co.cr/travelInfo/beaches/beaches-list.asp\").text"
   ]
  },
  {
   "cell_type": "code",
   "execution_count": 12,
   "metadata": {
    "tags": []
   },
   "outputs": [],
   "source": [
    "#soup2 = BeautifulSoup(source, 'html.parser')"
   ]
  },
  {
   "cell_type": "code",
   "execution_count": 30,
   "metadata": {
    "tags": []
   },
   "outputs": [],
   "source": [
    "#for item in soup2.find_all('<div class=\"pageListContentRow\">'): # I need this but I need more practice with BS, it seems it just \n",
    "    #print(item.text)                                            # works with tags and not other text\n",
    "                                                                # better use another approach"
   ]
  },
  {
   "cell_type": "code",
   "execution_count": 13,
   "metadata": {},
   "outputs": [],
   "source": [
    "#like this:\n",
    "url2 = urlopen(\"https://www.govisitcostarica.co.cr/travelInfo/beaches/beaches-list.asp\")"
   ]
  },
  {
   "cell_type": "code",
   "execution_count": 14,
   "metadata": {},
   "outputs": [],
   "source": [
    "contenido = str(url2.read(), encoding='utf-8')"
   ]
  },
  {
   "cell_type": "code",
   "execution_count": 15,
   "metadata": {
    "tags": []
   },
   "outputs": [],
   "source": [
    "types = contenido.split('<div class=\"pageListContentRow\">') #each list of beaches are listed in a column with the class\"pageList...\""
   ]
  },
  {
   "cell_type": "code",
   "execution_count": 17,
   "metadata": {},
   "outputs": [
    {
     "output_type": "execute_result",
     "data": {
      "text/plain": [
       "'\\r\\n        <div class=\"pageListContentItem ListHeader\"><a id=\"Surfing-Beaches\">Surfing Beaches</a></div>\\r\\n        <div class=\"pageListContentItem ListHeader\"><a id=\"Snorkeling-Beaches\">Snorkeling Beach</a></div>\\r\\n    </div>\\r\\n\\r\\n    '"
      ]
     },
     "metadata": {},
     "execution_count": 17
    }
   ],
   "source": [
    "types[1]"
   ]
  },
  {
   "cell_type": "code",
   "execution_count": 18,
   "metadata": {},
   "outputs": [
    {
     "output_type": "stream",
     "name": "stdout",
     "text": [
      "Surfing Beaches\nSnorkeling Beach\n"
     ]
    }
   ],
   "source": [
    "soup = BeautifulSoup(types[1], 'html.parser') # we splited the data and select the first column with data (index 1)\n",
    "for d in soup.find_all('div'):                # this case it only have the categories  \n",
    "    print(d.text)"
   ]
  },
  {
   "cell_type": "code",
   "execution_count": 19,
   "metadata": {},
   "outputs": [],
   "source": [
    "soup = BeautifulSoup(types[2], 'html.parser') # then select the second column or the second pageListContent with our data\n",
    "count = 0 \n",
    "cate_data = []\n",
    "divider = []                                  # 2 index this case, the first div includes / covers all the beaches of 1 category \n",
    "                                              # but we can omit it and use the others div that represent just 1 beach\n",
    "for d in soup.find_all('div'):                \n",
    "    cate_data.append(d.text)\n",
    "    \n",
    "    if len(d.text) > 50:\n",
    "        divider.append(count)\n",
    "    count = count + 1"
   ]
  },
  {
   "cell_type": "code",
   "execution_count": 22,
   "metadata": {},
   "outputs": [
    {
     "output_type": "stream",
     "name": "stdout",
     "text": [
      "['Bahía Salinas CahuitaP.N. CahuitaRefugio CamaronalDominicalEl RobleEsterillos EsteEsterillos OesteGarzaJacóP.N. Marino las Baulas MalpaísManuel AntonioMarbellaMatapaloPavonesPlaya AvellanaPlaya Bahia BallenaPlaya BejucoPlaya CaletasPlaya CoyotePlaya Doña AnaPlaya GrandePlaya GuionesPlaya HermosaPlaya JunquillalPlaya LangostaPlaya NegraPlaya NosaraPlaya San MiguelPlaya ZancudoPuerto LimonPuerto SoleyPuerto Viejo de TalamancaQueposP. N. Santa RosaSanta TeresaTamarindo', 'Bahía Salinas ', 'Cahuita', 'P.N. Cahuita', 'Refugio Camaronal']\n['\\nRefugio Bahía JunquillalP.N. BallenaCahuitaP.N. CahuitaIsla del CañoP. N. Isla del CocoDrake BayIsla BallenaManuel AntonioManzanilloMontezumaGolfo de PapagayoPlaya CarrilloPlaya ChiquitaPlaya ConchalPlaya HermosaPlaya HerraduraPlaya OcotalPlaya Pan de AzucarPlaya PanamáPlaya PotreroPlaya UvitaPlaya ZancudoPuerto LimonPuerto Viejo de TalamancaSan JuanilloTortuga AbajoIsla Tortuga\\n', 'Refugio Bahía Junquillal', 'P.N. Ballena', 'Cahuita', 'P.N. Cahuita']\n[0, 39]\n"
     ]
    }
   ],
   "source": [
    "print(divider)\n",
    "print(cate_data[:5])\n",
    "print(cate_data[39:44])  \n"
   ]
  },
  {
   "cell_type": "code",
   "execution_count": 26,
   "metadata": {},
   "outputs": [],
   "source": [
    "surfing_b = cate_data[divider[0]+1:divider[1]]\n",
    "snorkeling_b = cate_data[divider[1]+1:]"
   ]
  },
  {
   "cell_type": "code",
   "execution_count": 27,
   "metadata": {},
   "outputs": [
    {
     "output_type": "execute_result",
     "data": {
      "text/plain": [
       "['Bahía Salinas ',\n",
       " 'Cahuita',\n",
       " 'P.N. Cahuita',\n",
       " 'Refugio Camaronal',\n",
       " 'Dominical',\n",
       " 'El Roble',\n",
       " 'Esterillos Este',\n",
       " 'Esterillos Oeste',\n",
       " 'Garza',\n",
       " 'Jacó',\n",
       " 'P.N. Marino las Baulas ',\n",
       " 'Malpaís',\n",
       " 'Manuel Antonio',\n",
       " 'Marbella',\n",
       " 'Matapalo',\n",
       " 'Pavones',\n",
       " 'Playa Avellana',\n",
       " 'Playa Bahia Ballena',\n",
       " 'Playa Bejuco',\n",
       " 'Playa Caletas',\n",
       " 'Playa Coyote',\n",
       " 'Playa Doña Ana',\n",
       " 'Playa Grande',\n",
       " 'Playa Guiones',\n",
       " 'Playa Hermosa',\n",
       " 'Playa Junquillal',\n",
       " 'Playa Langosta',\n",
       " 'Playa Negra',\n",
       " 'Playa Nosara',\n",
       " 'Playa San Miguel',\n",
       " 'Playa Zancudo',\n",
       " 'Puerto Limon',\n",
       " 'Puerto Soley',\n",
       " 'Puerto Viejo de Talamanca',\n",
       " 'Quepos',\n",
       " 'P. N. Santa Rosa',\n",
       " 'Santa Teresa',\n",
       " 'Tamarindo']"
      ]
     },
     "metadata": {},
     "execution_count": 27
    }
   ],
   "source": [
    "surfing_b"
   ]
  },
  {
   "cell_type": "code",
   "execution_count": 28,
   "metadata": {},
   "outputs": [
    {
     "output_type": "execute_result",
     "data": {
      "text/plain": [
       "['Refugio Bahía Junquillal',\n",
       " 'P.N. Ballena',\n",
       " 'Cahuita',\n",
       " 'P.N. Cahuita',\n",
       " 'Isla del Caño',\n",
       " 'P. N. Isla del Coco',\n",
       " 'Drake Bay',\n",
       " 'Isla Ballena',\n",
       " 'Manuel Antonio',\n",
       " 'Manzanillo',\n",
       " 'Montezuma',\n",
       " 'Golfo de Papagayo',\n",
       " 'Playa Carrillo',\n",
       " 'Playa Chiquita',\n",
       " 'Playa Conchal',\n",
       " 'Playa Hermosa',\n",
       " 'Playa Herradura',\n",
       " 'Playa Ocotal',\n",
       " 'Playa Pan de Azucar',\n",
       " 'Playa Panamá',\n",
       " 'Playa Potrero',\n",
       " 'Playa Uvita',\n",
       " 'Playa Zancudo',\n",
       " 'Puerto Limon',\n",
       " 'Puerto Viejo de Talamanca',\n",
       " 'San Juanillo',\n",
       " 'Tortuga Abajo',\n",
       " 'Isla Tortuga']"
      ]
     },
     "metadata": {},
     "execution_count": 28
    }
   ],
   "source": [
    "snorkeling_b"
   ]
  },
  {
   "cell_type": "code",
   "execution_count": 29,
   "metadata": {
    "tags": []
   },
   "outputs": [
    {
     "output_type": "stream",
     "name": "stdout",
     "text": [
      "Swimming Beaches\n\n"
     ]
    }
   ],
   "source": [
    "soup = BeautifulSoup(types[3], 'html.parser')\n",
    "for d in soup.find_all('div'):\n",
    "    print(d.text)"
   ]
  },
  {
   "cell_type": "code",
   "execution_count": 30,
   "metadata": {},
   "outputs": [
    {
     "output_type": "stream",
     "name": "stdout",
     "text": [
      "280\n"
     ]
    }
   ],
   "source": [
    "soup = BeautifulSoup(types[4], 'html.parser')\n",
    "count2 = 0\n",
    "another_cate = []\n",
    "\n",
    "for d in soup.find_all('div'):\n",
    "\n",
    "    if len(d.text) > 50:\n",
    "        pass\n",
    "  \n",
    "    else: \n",
    "        another_cate.append(d.text)\n",
    "        \n",
    "    count2 = count2 + 1"
   ]
  },
  {
   "cell_type": "code",
   "execution_count": 32,
   "metadata": {},
   "outputs": [
    {
     "output_type": "execute_result",
     "data": {
      "text/plain": [
       "['Isla Tortuga', '', 'Tour de Aventura en Guanacaste', '', '7 Días y 6 Noches']"
      ]
     },
     "metadata": {},
     "execution_count": 32
    }
   ],
   "source": [
    "another_cate[67:72] # other divs had more info but I do not need then, find where my list of beaches finishes and slice it in a new list"
   ]
  },
  {
   "cell_type": "code",
   "execution_count": 41,
   "metadata": {},
   "outputs": [],
   "source": [
    "swimming_b = another_cate[:68] # the list with beaches ends at index 67"
   ]
  },
  {
   "cell_type": "code",
   "execution_count": 35,
   "metadata": {},
   "outputs": [
    {
     "output_type": "stream",
     "name": "stdout",
     "text": [
      "['Playa Barra del Colorado', 'Playa Bonita', 'Playa Cahuita (Blanca)', 'Playa Chiquita', 'Punta Cocles', 'Playa Gandoca', 'Playa Manzanillo', 'Playa Moín', 'Playa Negra (Puerto Viejo)', 'Playa Negra (Cahuita)', 'Playa Pirikiki', 'Playa Portete', 'Playa Puerto Vargas', 'Playas Tortuguero', 'Playa Vizcaya', 'Playa Westfalia', 'Puerto Viejo de Talamanca', 'Punta Mona', 'Punta Uva', 'Playa Arbolito']\n<class 'list'>\n"
     ]
    }
   ],
   "source": [
    "# creating a list of the beaches to check to match them and add the info to each beach\n",
    "\n",
    "b2 = list(playas2.keys())\n",
    "print(b2[:20])"
   ]
  },
  {
   "cell_type": "code",
   "execution_count": 36,
   "metadata": {},
   "outputs": [],
   "source": [
    "# I check if the beach in the list with categories appears on the dict (dataset) and add the info\n",
    "\n",
    "ind_s = [] #if the beach appears then add the index to the list\n",
    "\n",
    "for playa in swimming_b:\n",
    "   \n",
    "    for p in b2:\n",
    "        \n",
    "        if playa in p:\n",
    "  \n",
    "            ind_s.append(swimming_b.index(playa))\n",
    "            playas2[p]['Swimming'] = True \n",
    "\n",
    "        else:\n",
    "            cut = playa.split(' ')\n",
    "            if cut[-1] in p:\n",
    "                ind_s.append(swimming_b.index(playa))\n",
    "                playas2[p]['Swimming'] = True \n",
    "\n",
    "ind_s = set(ind_s)"
   ]
  },
  {
   "cell_type": "code",
   "execution_count": 37,
   "metadata": {},
   "outputs": [
    {
     "output_type": "stream",
     "name": "stdout",
     "text": [
      "68\n18\n"
     ]
    }
   ],
   "source": [
    "s_beaches_no = [ x for x in swimming_b if swimming_b.index(x) not in ind_s] \n",
    "print(len(swimming_b))\n",
    "print(len(s_beaches_no)) # 18 beaches from 68 did not appear or the names are different ( some beaches can be called different)"
   ]
  },
  {
   "cell_type": "code",
   "execution_count": 38,
   "metadata": {},
   "outputs": [
    {
     "output_type": "execute_result",
     "data": {
      "text/plain": [
       "['Isla del Caño',\n",
       " 'Coronado',\n",
       " 'Drake Bay',\n",
       " 'Reserva Golfo Dulce',\n",
       " 'Hacienda Pinilla',\n",
       " 'Malpaís',\n",
       " 'Paquera',\n",
       " 'Parismina',\n",
       " 'P. N. Piedras Blancas',\n",
       " 'Playa Cativo',\n",
       " 'Playa Pan de Azucar',\n",
       " 'Playa Pinuela',\n",
       " 'Puerto Jiménez',\n",
       " 'Punta Banco',\n",
       " 'Punta Leona',\n",
       " 'Samara',\n",
       " 'P. N. Santa Rosa',\n",
       " 'Tortuga Abajo']"
      ]
     },
     "metadata": {},
     "execution_count": 38
    }
   ],
   "source": [
    "s_beaches_no"
   ]
  },
  {
   "cell_type": "code",
   "execution_count": 40,
   "metadata": {},
   "outputs": [],
   "source": [
    "# I can add info manually but it takes more time, now just 14 of 68\n",
    "\n",
    "playas2['Playa Mal País']['Swimming'] = True # Malpaís\n",
    "playas2['Playa Sámara']['Swimming'] = True   # Samara \n",
    "playas2['Playa Blanca']['Swimming'] = True   # PUnta Leona\n",
    "playas2['Playa Mantas']['Swimming'] = True   # Punta Leona"
   ]
  },
  {
   "cell_type": "code",
   "execution_count": 42,
   "metadata": {},
   "outputs": [],
   "source": [
    "ind_surf = []\n",
    "\n",
    "for playa in surfing_b:\n",
    "    #print(playa)\n",
    "    for p in b2:\n",
    "        #print(p)\n",
    "        #if playa_counter != playa :\n",
    "        \n",
    "        if playa in p:\n",
    "            #print(playa)\n",
    "            #total2 += 1\n",
    "            ind_surf.append(surfing_b.index(playa))\n",
    "            playas2[p]['Surfing'] = True\n",
    "        else:\n",
    "            cut = playa.split(' ')\n",
    "            if cut[-1] in p:\n",
    "                ind_surf.append(surfing_b.index(playa))\n",
    "                playas2[p]['Surfing'] = True \n",
    "\n",
    "ind_surf = set(ind_surf)"
   ]
  },
  {
   "cell_type": "code",
   "execution_count": 43,
   "metadata": {},
   "outputs": [
    {
     "output_type": "stream",
     "name": "stdout",
     "text": [
      "38\n6\n"
     ]
    }
   ],
   "source": [
    "sur_beaches_no = [ x for x in surfing_b if surfing_b.index(x) not in ind_surf] \n",
    "print(len(surfing_b))\n",
    "print(len(sur_beaches_no))"
   ]
  },
  {
   "cell_type": "code",
   "execution_count": 44,
   "metadata": {},
   "outputs": [
    {
     "output_type": "execute_result",
     "data": {
      "text/plain": [
       "['Esterillos Oeste',\n",
       " 'Malpaís',\n",
       " 'Playa Caletas',\n",
       " 'Puerto Limon',\n",
       " 'Quepos',\n",
       " 'P. N. Santa Rosa']"
      ]
     },
     "metadata": {},
     "execution_count": 44
    }
   ],
   "source": [
    "sur_beaches_no"
   ]
  },
  {
   "cell_type": "code",
   "execution_count": 45,
   "metadata": {},
   "outputs": [],
   "source": [
    "playas2['Playa Mal País']['Surfing'] = True # Malpaís\n",
    "playas2['Playa Esterillos']['Surfing'] = True"
   ]
  },
  {
   "cell_type": "code",
   "execution_count": 46,
   "metadata": {},
   "outputs": [],
   "source": [
    "ind_sn = []\n",
    "\n",
    "for playa in snorkeling_b:\n",
    "    for p in b2:\n",
    "        if playa in p:\n",
    "            ind_sn.append(snorkeling_b.index(playa))\n",
    "            playas2[p]['Snorkeling'] = True\n",
    "        else:\n",
    "            cut = playa.split(' ')\n",
    "            if cut[-1] in p:\n",
    "                ind_sn.append(snorkeling_b.index(playa))\n",
    "                playas2[p]['Snorkeling'] = True \n",
    "\n",
    "ind_sn = set(ind_sn)"
   ]
  },
  {
   "cell_type": "code",
   "execution_count": 47,
   "metadata": {},
   "outputs": [
    {
     "output_type": "stream",
     "name": "stdout",
     "text": [
      "28\n5\n"
     ]
    }
   ],
   "source": [
    "sn_beaches_no = [ x for x in snorkeling_b if snorkeling_b.index(x) not in ind_sn] \n",
    "print(len(snorkeling_b))\n",
    "print(len(sn_beaches_no))"
   ]
  },
  {
   "cell_type": "code",
   "execution_count": 48,
   "metadata": {},
   "outputs": [
    {
     "output_type": "execute_result",
     "data": {
      "text/plain": [
       "['Isla del Caño',\n",
       " 'Drake Bay',\n",
       " 'Playa Pan de Azucar',\n",
       " 'Puerto Limon',\n",
       " 'Tortuga Abajo']"
      ]
     },
     "metadata": {},
     "execution_count": 48
    }
   ],
   "source": [
    "sn_beaches_no"
   ]
  },
  {
   "cell_type": "code",
   "execution_count": 68,
   "metadata": {},
   "outputs": [],
   "source": [
    "playas2['Playa Bahía Drake']['Snorkeling'] = True"
   ]
  },
  {
   "source": [
    "## Trying to add more features"
   ],
   "cell_type": "markdown",
   "metadata": {}
  },
  {
   "cell_type": "code",
   "execution_count": 50,
   "metadata": {},
   "outputs": [],
   "source": [
    "# it is interesting, I try urlopen and get 403 forbidden but Beautiful was able to\n",
    "\n",
    "source = requests.get(\"https://goplaya.cr/index.php/search_controller/buscar?latitud=9.935607&longitud=-84.1833856&busqueda=todas&filtros%5B%5D=81&radio=350#sa\").text\n",
    "soup = BeautifulSoup(source, 'html.parser')"
   ]
  },
  {
   "cell_type": "code",
   "execution_count": 51,
   "metadata": {
    "tags": []
   },
   "outputs": [],
   "source": [
    "info = []\n",
    "for line in soup.find_all('div'):\n",
    "    if line.h3 != None:\n",
    "        #print(line.h3)\n",
    "        info.append(line.h3)"
   ]
  },
  {
   "cell_type": "code",
   "execution_count": 52,
   "metadata": {},
   "outputs": [
    {
     "output_type": "execute_result",
     "data": {
      "text/plain": [
       "['  Puerto Viejo, Limón',\n",
       " '  Hermosa (El Coco)',\n",
       " '  Montezuma',\n",
       " '  Tamarindo',\n",
       " '  Santa Teresa',\n",
       " '  Manuel Antonio',\n",
       " '  Malpaís',\n",
       " '  Dominical',\n",
       " '  El Coco',\n",
       " '  Jacó']"
      ]
     },
     "metadata": {},
     "execution_count": 52
    }
   ],
   "source": [
    "nocturnal = []\n",
    "for i in range(len(info)):\n",
    "    nocturnal.append(info[i].text)\n",
    "\n",
    "nocturnal = set(nocturnal) # the names are duplicate or even more so I have to delete duplicate values with set\n",
    "nocturnal = list(nocturnal) #\n",
    "nocturnal"
   ]
  },
  {
   "cell_type": "code",
   "execution_count": 53,
   "metadata": {},
   "outputs": [],
   "source": [
    "ind_n = []\n",
    "\n",
    "for playa in nocturnal:\n",
    "    for p in b2: \n",
    "        if playa in p:\n",
    "            ind_n.append(nocturnal.index(playa))\n",
    "            playas2[p]['Nocturnal'] = True\n",
    "        else:\n",
    "            cut = playa.split(' ')\n",
    "            if cut[-1] in p:\n",
    "                ind_n.append(nocturnal.index(playa))\n",
    "                playas2[p]['Nocturnal'] = True \n",
    "\n",
    "ind_n = set(ind_n)"
   ]
  },
  {
   "cell_type": "code",
   "execution_count": 54,
   "metadata": {},
   "outputs": [
    {
     "output_type": "stream",
     "name": "stdout",
     "text": [
      "10\n2\n"
     ]
    }
   ],
   "source": [
    "no_beaches_no = [ x for x in nocturnal if nocturnal.index(x) not in ind_n] \n",
    "print(len(nocturnal))\n",
    "print(len(no_beaches_no))"
   ]
  },
  {
   "cell_type": "code",
   "execution_count": 55,
   "metadata": {},
   "outputs": [
    {
     "output_type": "execute_result",
     "data": {
      "text/plain": [
       "['  Hermosa (El Coco)', '  Malpaís']"
      ]
     },
     "metadata": {},
     "execution_count": 55
    }
   ],
   "source": [
    "no_beaches_no"
   ]
  },
  {
   "cell_type": "code",
   "execution_count": 57,
   "metadata": {},
   "outputs": [],
   "source": [
    "playas2['Playa Mal País']['Nocturnal'] = True # Malpaís"
   ]
  },
  {
   "cell_type": "code",
   "execution_count": 58,
   "metadata": {},
   "outputs": [],
   "source": [
    "source2 = requests.get(\"https://goplaya.cr/index.php/search_controller/buscar?latitud=9.935607&longitud=-84.1833856&busqueda=todas&filtros%5B%5D=9&radio=350#sa\").text\n",
    "soup2 = BeautifulSoup(source2, 'html.parser')"
   ]
  },
  {
   "cell_type": "code",
   "execution_count": 59,
   "metadata": {
    "tags": []
   },
   "outputs": [],
   "source": [
    "info2 = []\n",
    "for line in soup2.find_all('div'):\n",
    "    if line.h3 != None:\n",
    "        info2.append(line.h3)"
   ]
  },
  {
   "cell_type": "code",
   "execution_count": 60,
   "metadata": {},
   "outputs": [
    {
     "output_type": "execute_result",
     "data": {
      "text/plain": [
       "['Biesanz',\n",
       " 'Blanca (Península de Nicoya)',\n",
       " 'Tropical',\n",
       " 'Cocles',\n",
       " 'Pochotes (Junquillal)',\n",
       " 'Cuevas',\n",
       " 'Punta Cahuita',\n",
       " 'Soley',\n",
       " 'Cabo Blanco',\n",
       " 'Lagartillo',\n",
       " 'Chiquita',\n",
       " 'Corona',\n",
       " 'Blanca, Punta Leona',\n",
       " 'Blanca (Punta Morales)',\n",
       " 'Langosta',\n",
       " 'Carrillo',\n",
       " 'San Juanillo',\n",
       " 'Puerto Vargas, Cahuita',\n",
       " 'Flamingo',\n",
       " 'Blanca (Junquillal)',\n",
       " 'Cuarzo',\n",
       " 'Carmen',\n",
       " 'Avellanas',\n",
       " 'Nacascolo',\n",
       " 'Cocal del Peñón',\n",
       " 'Pleito',\n",
       " 'Bonita',\n",
       " 'Blanca (Santa Rosa)',\n",
       " 'Calzón de Pobre',\n",
       " 'Bonita (Pinilla)',\n",
       " 'Gemelas',\n",
       " 'Isla Tortuga tours',\n",
       " 'Blanca, Cahuita',\n",
       " 'Quesera',\n",
       " 'Barrigona',\n",
       " 'Macaya',\n",
       " 'Blanca (Papagayo)',\n",
       " 'Montezuma',\n",
       " 'Penca (Punta Cacique)',\n",
       " 'Punta Uva',\n",
       " 'Ventanas (Guanacaste)',\n",
       " 'Penca (Flamingo)',\n",
       " 'Espadilla Sur',\n",
       " 'Garza',\n",
       " 'Grande',\n",
       " 'Punta Cocles',\n",
       " 'Puerto Viejo (Conchal)',\n",
       " 'Coyote',\n",
       " 'Negra',\n",
       " 'Mansita',\n",
       " 'Buena',\n",
       " 'Playitas (Manuel Antonio)',\n",
       " 'Tamarindo',\n",
       " 'Espadilla',\n",
       " 'Jicote',\n",
       " 'Guiones, Nosara',\n",
       " 'Callejones',\n",
       " 'Pelada',\n",
       " 'Bahía Junquillal',\n",
       " 'Roble (Conchal)',\n",
       " 'Manuel Antonio',\n",
       " 'Real',\n",
       " 'Puerto Viejo, Limón',\n",
       " 'Peñón',\n",
       " 'Manchas',\n",
       " 'Virador',\n",
       " 'Conchal',\n",
       " 'El Jobo',\n",
       " 'Hermosa (Santa Teresa)',\n",
       " 'Rajada',\n",
       " 'Cabuyal',\n",
       " 'Zapotillal (Minas)',\n",
       " 'Muertos',\n",
       " 'Punta El Madero',\n",
       " 'Manzanillo',\n",
       " 'Sámara',\n",
       " 'Honda',\n",
       " 'Rajadita',\n",
       " 'Santa Teresa',\n",
       " 'Pilas',\n",
       " 'Malpaís',\n",
       " 'Punta Vargas, Cahuita']"
      ]
     },
     "metadata": {},
     "execution_count": 60
    }
   ],
   "source": [
    "white_sand = []\n",
    "for i in range(len(info2)):\n",
    "    white_sand.append(info2[i].text.strip())\n",
    "\n",
    "white_sand = set(white_sand)\n",
    "white_sand = list(white_sand)\n",
    "white_sand"
   ]
  },
  {
   "cell_type": "code",
   "execution_count": 61,
   "metadata": {},
   "outputs": [],
   "source": [
    "ind_ws = []\n",
    "\n",
    "for playa in white_sand:\n",
    "    for p in b2:\n",
    "        if playa in p:\n",
    "            ind_ws.append(white_sand.index(playa))\n",
    "            playas2[p]['White_S'] = True\n",
    "        else:\n",
    "            cut = playa.split(' ')\n",
    "            if cut[-1] in p:\n",
    "                ind_ws.append(white_sand.index(playa))\n",
    "                playas2[p]['White_S'] = True \n",
    "\n",
    "ind_ws = set(ind_ws)"
   ]
  },
  {
   "cell_type": "code",
   "execution_count": 63,
   "metadata": {},
   "outputs": [
    {
     "output_type": "stream",
     "name": "stdout",
     "text": [
      "82\n39\n"
     ]
    }
   ],
   "source": [
    "ws_beaches_no = [ x for x in white_sand if white_sand.index(x) not in ind_ws] \n",
    "print(len(white_sand))\n",
    "print(len(ws_beaches_no))"
   ]
  },
  {
   "cell_type": "code",
   "execution_count": 64,
   "metadata": {},
   "outputs": [
    {
     "output_type": "execute_result",
     "data": {
      "text/plain": [
       "['Biesanz',\n",
       " 'Blanca (Península de Nicoya)',\n",
       " 'Tropical',\n",
       " 'Pochotes (Junquillal)',\n",
       " 'Cuevas',\n",
       " 'Lagartillo',\n",
       " 'Corona',\n",
       " 'Blanca, Punta Leona',\n",
       " 'Blanca (Punta Morales)',\n",
       " 'Blanca (Junquillal)',\n",
       " 'Cuarzo',\n",
       " 'Cocal del Peñón',\n",
       " 'Blanca (Santa Rosa)',\n",
       " 'Calzón de Pobre',\n",
       " 'Bonita (Pinilla)',\n",
       " 'Gemelas',\n",
       " 'Isla Tortuga tours',\n",
       " 'Quesera',\n",
       " 'Macaya',\n",
       " 'Penca (Punta Cacique)',\n",
       " 'Ventanas (Guanacaste)',\n",
       " 'Penca (Flamingo)',\n",
       " 'Puerto Viejo (Conchal)',\n",
       " 'Mansita',\n",
       " 'Playitas (Manuel Antonio)',\n",
       " 'Jicote',\n",
       " 'Callejones',\n",
       " 'Roble (Conchal)',\n",
       " 'Peñón',\n",
       " 'Manchas',\n",
       " 'Hermosa (Santa Teresa)',\n",
       " 'Cabuyal',\n",
       " 'Zapotillal (Minas)',\n",
       " 'Muertos',\n",
       " 'Punta El Madero',\n",
       " 'Honda',\n",
       " 'Rajadita',\n",
       " 'Pilas',\n",
       " 'Malpaís']"
      ]
     },
     "metadata": {},
     "execution_count": 64
    }
   ],
   "source": [
    "ws_beaches_no"
   ]
  },
  {
   "cell_type": "code",
   "execution_count": 65,
   "metadata": {},
   "outputs": [],
   "source": [
    "playas2['Playa Mal País']['White_S'] = True # Malpaís\n",
    "playas2['Playa Blanca']['White_S'] = True   # PUnta Leona"
   ]
  },
  {
   "source": [
    "## now I am going to add the location of each beach to be able to use the foursquare API"
   ],
   "cell_type": "markdown",
   "metadata": {}
  },
  {
   "cell_type": "code",
   "execution_count": 81,
   "metadata": {},
   "outputs": [],
   "source": [
    "# based on the wikipedia page  \n",
    "\n",
    "limon = b2[:19]\n",
    "guanacaste = b2[19:87]\n",
    "puntarenas = b2[87:]"
   ]
  },
  {
   "cell_type": "code",
   "execution_count": 87,
   "metadata": {},
   "outputs": [],
   "source": [
    "\n",
    "for beach in b2[:70]:\n",
    "    geolocator = Nominatim(user_agent=\"crb_explorer_js\")\n",
    "\n",
    "    if beach in limon:\n",
    "        address = beach+\", Limón, Costa Rica\"\n",
    "        #print(address)\n",
    "\n",
    "    if beach in guanacaste:\n",
    "        address = beach+\", Guanacaste, Costa Rica\"\n",
    "        #print(address)\n",
    "\n",
    "    if beach in puntarenas:\n",
    "        address = beach+\", Puntarenas, Costa Rica\"\n",
    "        #print(address)\n",
    "\n",
    "    location = geolocator.geocode(address)\n",
    "\n",
    "    if location == None:\n",
    "        playas2[beach]['lati'] = None\n",
    "        playas2[beach]['long'] = None\n",
    "        \n",
    "    else:\n",
    "        playas2[beach]['lati'] = location.latitude\n",
    "        playas2[beach]['long'] = location.longitude"
   ]
  },
  {
   "cell_type": "code",
   "execution_count": 89,
   "metadata": {},
   "outputs": [],
   "source": [
    "for beach in b2[70:]:\n",
    "    geolocator = Nominatim(user_agent=\"cr_explorer_js\")\n",
    "\n",
    "    if beach in limon:\n",
    "        address = beach+\", Limón, Costa Rica\"\n",
    "        #print(address)\n",
    "\n",
    "    if beach in guanacaste:\n",
    "        address = beach+\", Guanacaste, Costa Rica\"\n",
    "        #print(address)\n",
    "\n",
    "    if beach in puntarenas:\n",
    "        address = beach+\", Puntarenas, Costa Rica\"\n",
    "        #print(address)\n",
    "\n",
    "    location = geolocator.geocode(address)\n",
    "\n",
    "    if location == None:\n",
    "        playas2[beach]['lati'] = None\n",
    "        playas2[beach]['long'] = None\n",
    "        \n",
    "    else:\n",
    "        playas2[beach]['lati'] = location.latitude\n",
    "        playas2[beach]['long'] = location.longitude"
   ]
  },
  {
   "cell_type": "code",
   "execution_count": 100,
   "metadata": {},
   "outputs": [],
   "source": [
    "latitudes = []\n",
    "\n",
    "for beach in b2:\n",
    "    if playas2[beach]['lati'] == None:\n",
    "        latitudes.append(beach)"
   ]
  },
  {
   "cell_type": "code",
   "execution_count": 105,
   "metadata": {},
   "outputs": [
    {
     "output_type": "stream",
     "name": "stdout",
     "text": [
      "35\n['Playa Barra del Colorado', 'Playa Cahuita (Blanca)', 'Playa Negra (Puerto Viejo)', 'Playa Pirikiki', 'Playa Puerto Vargas', 'Playa Arbolito', 'Playa Azul (Jurel)', 'Playa Buena Vista', 'Playa Carbón', 'Playa Carmen', 'Playa Cóncava', 'Playa Gringo', 'Playa Mal País', 'Playa Manzanillo (Costa Rica)', 'Playa Nabos', 'Playa Nancite', 'Playa Nubes', 'Playa Panamá (Chrorotega)', 'Playa Pietra', 'Playa Pochote (Papagayo)', 'Playa Real y Roble', 'Playa Santa Teresa', 'Playa Prieta (Papagayo)', 'Playa Pochote (Salinas)', 'Balnerario Puntarenas', 'Playa Boca Vieja', 'Playa Cabo Blanco', 'Playa de Arco', 'Playa de Doña Ana', 'Playa Garza (Boca Brava)', 'Playa Isla Damas', 'Playa Palo Seco', 'Playa Pógeres', 'Playa Quizales', 'Playa San Josecito (Golfito)']\n"
     ]
    }
   ],
   "source": [
    "print(len(latitudes))\n",
    "print(latitudes)"
   ]
  },
  {
   "cell_type": "code",
   "execution_count": 107,
   "metadata": {},
   "outputs": [],
   "source": [
    "# let's try without the province \n",
    "\n",
    "for beach in latitudes:\n",
    "    geolocator = Nominatim(user_agent=\"beachesCR_explorer\")\n",
    "\n",
    "    location = geolocator.geocode(address)\n",
    "\n",
    "    if location == None:\n",
    "        playas2[beach]['lati'] = None\n",
    "        playas2[beach]['long'] = None\n",
    "        \n",
    "    else:\n",
    "        playas2[beach]['lati'] = location.latitude\n",
    "        playas2[beach]['long'] = location.longitude"
   ]
  },
  {
   "cell_type": "code",
   "execution_count": 108,
   "metadata": {},
   "outputs": [
    {
     "output_type": "stream",
     "name": "stdout",
     "text": [
      "0\n[]\n"
     ]
    }
   ],
   "source": [
    "latitudes2 = []\n",
    "\n",
    "for beach in b2:\n",
    "    if playas2[beach]['lati'] == None:\n",
    "        latitudes2.append(beach)\n",
    "\n",
    "print(len(latitudes2))\n",
    "print(latitudes2)"
   ]
  },
  {
   "cell_type": "code",
   "execution_count": 110,
   "metadata": {},
   "outputs": [
    {
     "output_type": "execute_result",
     "data": {
      "text/plain": [
       "         Playa Barra del Colorado Playa Bonita Playa Cahuita (Blanca)  \\\n",
       "Info                         True        False                  False   \n",
       "Swimming                     True         True                   True   \n",
       "Surfing                      True         True                   True   \n",
       "lati                      8.51584      10.0099                8.51584   \n",
       "long                     -83.1364     -83.0635               -83.1364   \n",
       "\n",
       "         Playa Chiquita Punta Cocles Playa Gandoca Playa Manzanillo  \\\n",
       "Info               True        False         False            False   \n",
       "Swimming           True         True          True             True   \n",
       "Surfing            True         True          True             True   \n",
       "lati             9.6374      9.64528       9.59989          9.63376   \n",
       "long           -82.7037     -82.7176      -82.6071         -82.6574   \n",
       "\n",
       "         Playa Moín Playa Negra (Puerto Viejo) Playa Negra (Cahuita)  ...  \\\n",
       "Info          False                      False                  True  ...   \n",
       "Swimming       True                       True                  True  ...   \n",
       "Surfing        True                       True                  True  ...   \n",
       "lati        10.0099                    8.51584               9.74067  ...   \n",
       "long       -83.0635                   -83.1364              -82.8504  ...   \n",
       "\n",
       "         Playa San Josecito (Golfito) Playa Savegre Playa Sombrero  \\\n",
       "Info                            False         False          False   \n",
       "Swimming                         True          True           True   \n",
       "Surfing                          True          True           True   \n",
       "lati                          8.51584       9.36369        8.41559   \n",
       "long                         -83.1364      -84.0706       -83.2802   \n",
       "\n",
       "         Playa Tamales Playa Tambor Playa Tárcoles Playa Tivives  \\\n",
       "Info             False         True          False         False   \n",
       "Swimming          True         True           True          True   \n",
       "Surfing           True         True           True          True   \n",
       "lati           8.45534      9.74571        9.75939       9.92122   \n",
       "long          -83.2805     -84.9885        -84.628      -84.7149   \n",
       "\n",
       "         Playa Tortuga Playa Uvita Playa Zancudo  \n",
       "Info              True       False         False  \n",
       "Swimming          True        True          True  \n",
       "Surfing           True        True          True  \n",
       "lati           9.77325     9.15531       8.51584  \n",
       "long          -84.8954    -83.7574      -83.1364  \n",
       "\n",
       "[5 rows x 137 columns]"
      ],
      "text/html": "<div>\n<style scoped>\n    .dataframe tbody tr th:only-of-type {\n        vertical-align: middle;\n    }\n\n    .dataframe tbody tr th {\n        vertical-align: top;\n    }\n\n    .dataframe thead th {\n        text-align: right;\n    }\n</style>\n<table border=\"1\" class=\"dataframe\">\n  <thead>\n    <tr style=\"text-align: right;\">\n      <th></th>\n      <th>Playa Barra del Colorado</th>\n      <th>Playa Bonita</th>\n      <th>Playa Cahuita (Blanca)</th>\n      <th>Playa Chiquita</th>\n      <th>Punta Cocles</th>\n      <th>Playa Gandoca</th>\n      <th>Playa Manzanillo</th>\n      <th>Playa Moín</th>\n      <th>Playa Negra (Puerto Viejo)</th>\n      <th>Playa Negra (Cahuita)</th>\n      <th>...</th>\n      <th>Playa San Josecito (Golfito)</th>\n      <th>Playa Savegre</th>\n      <th>Playa Sombrero</th>\n      <th>Playa Tamales</th>\n      <th>Playa Tambor</th>\n      <th>Playa Tárcoles</th>\n      <th>Playa Tivives</th>\n      <th>Playa Tortuga</th>\n      <th>Playa Uvita</th>\n      <th>Playa Zancudo</th>\n    </tr>\n  </thead>\n  <tbody>\n    <tr>\n      <th>Info</th>\n      <td>True</td>\n      <td>False</td>\n      <td>False</td>\n      <td>True</td>\n      <td>False</td>\n      <td>False</td>\n      <td>False</td>\n      <td>False</td>\n      <td>False</td>\n      <td>True</td>\n      <td>...</td>\n      <td>False</td>\n      <td>False</td>\n      <td>False</td>\n      <td>False</td>\n      <td>True</td>\n      <td>False</td>\n      <td>False</td>\n      <td>True</td>\n      <td>False</td>\n      <td>False</td>\n    </tr>\n    <tr>\n      <th>Swimming</th>\n      <td>True</td>\n      <td>True</td>\n      <td>True</td>\n      <td>True</td>\n      <td>True</td>\n      <td>True</td>\n      <td>True</td>\n      <td>True</td>\n      <td>True</td>\n      <td>True</td>\n      <td>...</td>\n      <td>True</td>\n      <td>True</td>\n      <td>True</td>\n      <td>True</td>\n      <td>True</td>\n      <td>True</td>\n      <td>True</td>\n      <td>True</td>\n      <td>True</td>\n      <td>True</td>\n    </tr>\n    <tr>\n      <th>Surfing</th>\n      <td>True</td>\n      <td>True</td>\n      <td>True</td>\n      <td>True</td>\n      <td>True</td>\n      <td>True</td>\n      <td>True</td>\n      <td>True</td>\n      <td>True</td>\n      <td>True</td>\n      <td>...</td>\n      <td>True</td>\n      <td>True</td>\n      <td>True</td>\n      <td>True</td>\n      <td>True</td>\n      <td>True</td>\n      <td>True</td>\n      <td>True</td>\n      <td>True</td>\n      <td>True</td>\n    </tr>\n    <tr>\n      <th>lati</th>\n      <td>8.51584</td>\n      <td>10.0099</td>\n      <td>8.51584</td>\n      <td>9.6374</td>\n      <td>9.64528</td>\n      <td>9.59989</td>\n      <td>9.63376</td>\n      <td>10.0099</td>\n      <td>8.51584</td>\n      <td>9.74067</td>\n      <td>...</td>\n      <td>8.51584</td>\n      <td>9.36369</td>\n      <td>8.41559</td>\n      <td>8.45534</td>\n      <td>9.74571</td>\n      <td>9.75939</td>\n      <td>9.92122</td>\n      <td>9.77325</td>\n      <td>9.15531</td>\n      <td>8.51584</td>\n    </tr>\n    <tr>\n      <th>long</th>\n      <td>-83.1364</td>\n      <td>-83.0635</td>\n      <td>-83.1364</td>\n      <td>-82.7037</td>\n      <td>-82.7176</td>\n      <td>-82.6071</td>\n      <td>-82.6574</td>\n      <td>-83.0635</td>\n      <td>-83.1364</td>\n      <td>-82.8504</td>\n      <td>...</td>\n      <td>-83.1364</td>\n      <td>-84.0706</td>\n      <td>-83.2802</td>\n      <td>-83.2805</td>\n      <td>-84.9885</td>\n      <td>-84.628</td>\n      <td>-84.7149</td>\n      <td>-84.8954</td>\n      <td>-83.7574</td>\n      <td>-83.1364</td>\n    </tr>\n  </tbody>\n</table>\n<p>5 rows × 137 columns</p>\n</div>"
     },
     "metadata": {},
     "execution_count": 110
    }
   ],
   "source": [
    "df = pd.DataFrame(playas2)\n",
    "df.head()"
   ]
  },
  {
   "cell_type": "code",
   "execution_count": null,
   "metadata": {},
   "outputs": [],
   "source": []
  },
  {
   "cell_type": "code",
   "execution_count": null,
   "metadata": {},
   "outputs": [],
   "source": []
  },
  {
   "cell_type": "code",
   "execution_count": null,
   "metadata": {},
   "outputs": [],
   "source": []
  },
  {
   "cell_type": "code",
   "execution_count": null,
   "metadata": {},
   "outputs": [],
   "source": []
  },
  {
   "cell_type": "code",
   "execution_count": null,
   "metadata": {},
   "outputs": [],
   "source": []
  }
 ]
}