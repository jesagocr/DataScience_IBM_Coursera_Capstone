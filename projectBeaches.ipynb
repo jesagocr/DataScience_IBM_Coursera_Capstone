{
 "metadata": {
  "language_info": {
   "codemirror_mode": {
    "name": "ipython",
    "version": 3
   },
   "file_extension": ".py",
   "mimetype": "text/x-python",
   "name": "python",
   "nbconvert_exporter": "python",
   "pygments_lexer": "ipython3",
   "version": "3.8.3-final"
  },
  "orig_nbformat": 2,
  "kernelspec": {
   "name": "python38332bitc997c56da9a74e2babed0b86df49b304",
   "display_name": "Python 3.8.3 32-bit"
  }
 },
 "nbformat": 4,
 "nbformat_minor": 2,
 "cells": [
  {
   "source": [
    "## Author: Jesús Salazar Gómez, Costa Rica\n",
    "## Course: Applied Data Science Capstone, week 4 and 5 (project), Coursera\n",
    "\n",
    "## LinkedIn: https://www.linkedin.com/in/jesagocr/\n",
    "## GitHub: https://github.com/jesagocr"
   ],
   "cell_type": "markdown",
   "metadata": {}
  },
  {
   "cell_type": "code",
   "execution_count": 5,
   "metadata": {},
   "outputs": [
    {
     "output_type": "stream",
     "name": "stderr",
     "text": [
      "WARNING: You are using pip version 20.2.3; however, version 20.2.4 is available.\n",
      "You should consider upgrading via the 'c:\\users\\jesag\\appdata\\local\\programs\\python\\python38-32\\python.exe -m pip install --upgrade pip' command.\n",
      "Collecting geopy\n",
      "  Downloading geopy-2.0.0-py3-none-any.whl (111 kB)\n",
      "Collecting geographiclib<2,>=1.49\n",
      "  Downloading geographiclib-1.50-py3-none-any.whl (38 kB)\n",
      "Installing collected packages: geographiclib, geopy\n",
      "Successfully installed geographiclib-1.50 geopy-2.0.0\n",
      "WARNING: You are using pip version 20.2.3; however, version 20.2.4 is available.\n",
      "You should consider upgrading via the 'c:\\users\\jesag\\appdata\\local\\programs\\python\\python38-32\\python.exe -m pip install --upgrade pip' command.\n",
      "Collecting folium\n",
      "  Downloading folium-0.11.0-py2.py3-none-any.whl (93 kB)\n",
      "Collecting branca>=0.3.0\n",
      "  Downloading branca-0.4.1-py3-none-any.whl (24 kB)\n",
      "Requirement already satisfied: requests in c:\\users\\jesag\\appdata\\local\\programs\\python\\python38-32\\lib\\site-packages (from folium) (2.24.0)\n",
      "Requirement already satisfied: jinja2>=2.9 in c:\\users\\jesag\\appdata\\roaming\\python\\python38\\site-packages (from folium) (2.11.2)\n",
      "Requirement already satisfied: numpy in c:\\users\\jesag\\appdata\\local\\programs\\python\\python38-32\\lib\\site-packages (from folium) (1.18.5)\n",
      "Requirement already satisfied: certifi>=2017.4.17 in c:\\users\\jesag\\appdata\\local\\programs\\python\\python38-32\\lib\\site-packages (from requests->folium) (2020.6.20)\n",
      "Requirement already satisfied: urllib3!=1.25.0,!=1.25.1,<1.26,>=1.21.1 in c:\\users\\jesag\\appdata\\local\\programs\\python\\python38-32\\lib\\site-packages (from requests->folium) (1.25.10)\n",
      "Requirement already satisfied: chardet<4,>=3.0.2 in c:\\users\\jesag\\appdata\\local\\programs\\python\\python38-32\\lib\\site-packages (from requests->folium) (3.0.4)\n",
      "Requirement already satisfied: idna<3,>=2.5 in c:\\users\\jesag\\appdata\\local\\programs\\python\\python38-32\\lib\\site-packages (from requests->folium) (2.10)\n",
      "Requirement already satisfied: MarkupSafe>=0.23 in c:\\users\\jesag\\appdata\\roaming\\python\\python38\\site-packages (from jinja2>=2.9->folium) (1.1.1)\n",
      "Installing collected packages: branca, folium\n",
      "Successfully installed branca-0.4.1 folium-0.11.0\n",
      "Libraries imported.\n"
     ]
    }
   ],
   "source": [
    "# to read the data and do wrangling\n",
    "from urllib.request import urlopen\n",
    "from collections import defaultdict\n",
    "\n",
    "\n",
    "# to work with the api\n",
    "import json\n",
    "import requests\n",
    "import pandas as pd\n",
    "\n",
    "\n",
    "# to work with the geolocalization data\n",
    "!pip install geopy \n",
    "from geopy.geocoders import Nominatim # convert an address into latitude and longitude values\n",
    "\n",
    "# import k-means from clustering stage\n",
    "from sklearn.cluster import KMeans\n",
    "\n",
    "!pip install folium\n",
    "import folium # map rendering library\n",
    "\n",
    "print('Libraries imported.')"
   ]
  },
  {
   "cell_type": "code",
   "execution_count": 1,
   "metadata": {},
   "outputs": [
    {
     "output_type": "stream",
     "name": "stdout",
     "text": [
      "Libraries imported.\n"
     ]
    }
   ],
   "source": [
    "# to read the data and do wrangling\n",
    "from urllib.request import urlopen\n",
    "from collections import defaultdict\n",
    "\n",
    "# to work with the api\n",
    "import json\n",
    "import requests\n",
    "import pandas as pd\n",
    "\n",
    "# to work with the geolocalization data\n",
    "#!pip install geopy \n",
    "from geopy.geocoders import Nominatim # convert an address into latitude and longitude values\n",
    "\n",
    "# import k-means from clustering stage\n",
    "from sklearn.cluster import KMeans\n",
    "\n",
    "#!pip install folium\n",
    "import folium # map rendering library\n",
    "\n",
    "from bs4 import BeautifulSoup\n",
    "\n",
    "print('Libraries imported.')"
   ]
  },
  {
   "source": [
    "## borrar, no voy a trabajar con bs"
   ],
   "cell_type": "markdown",
   "metadata": {}
  },
  {
   "cell_type": "code",
   "execution_count": 2,
   "metadata": {},
   "outputs": [],
   "source": [
    "source = requests.get(\"https://es.wikipedia.org/wiki/Anexo:Playas_de_Costa_Rica\").text\n",
    "soup = BeautifulSoup(source, 'html.parser')"
   ]
  },
  {
   "cell_type": "code",
   "execution_count": 3,
   "metadata": {
    "tags": []
   },
   "outputs": [],
   "source": [
    "# primer intento de extraer la info con las playas\n",
    "\n",
    "playas = []\n",
    "\n",
    "for grossbeach in soup.find_all('li'):\n",
    "\n",
    "    texto = str(grossbeach.text)\n",
    "    #print(texto)\n",
    "\n",
    "    try:\n",
    "        if texto[:3] == \"Pla\" or texto[:3] == \"Bal\":\n",
    "            #print('yes')\n",
    "            playas.append(texto)\n",
    "        else:\n",
    "            #no.append(texto)\n",
    "            pass\n",
    "    except IndexError:\n",
    "        pass"
   ]
  },
  {
   "cell_type": "code",
   "execution_count": 4,
   "metadata": {},
   "outputs": [],
   "source": [
    "def newLine():\n",
    "    print('********* -*- ********* ')"
   ]
  },
  {
   "cell_type": "code",
   "execution_count": 5,
   "metadata": {},
   "outputs": [
    {
     "output_type": "stream",
     "name": "stdout",
     "text": [
      "['Playa Barra del Colorado', 'Playa Bonita', 'Playa Cahuita (Blanca)', 'Playa Chiquita', 'Playa Gandoca', 'Playa Manzanillo', 'Playa Moín', 'Playa Negra (Puerto Viejo)', 'Playa Negra (Cahuita)', 'Playa Pirikiki', 'Playa Portete', 'Playa Puerto Vargas', 'Playas Tortuguero', 'Playa Vizcaya', 'Playa Westfalia', 'Playa Arbolito', 'Playa Avellanas', 'Playa Azul (Jurel)', 'Playa Bahía Junquillal', 'Playa Barco Quebrado', 'Playa Barrigona', 'Playa Bejuco', 'Playa Blanca (Santa Elena)', 'Playa Blanca y Virador', 'Playa Bongo', 'Playa Brasilito', 'Playa Buena Vista', 'Playa Camaronal', 'Playa Carbón', 'Playa Carmen', 'Playa Carrillo', 'Playa Cóncava', 'Playa Conchal', 'Playa Coyote', 'Playa Coyotera', 'Playa Cuajiniquil', 'Playa Culebra', 'Playas del Coco', 'Playa Flamingo', 'Playa Garza', 'Playa Grande', 'Playa Gringo', 'Playa Guiones', 'Playa Hermosa', 'Playa Iguanita', 'Playa Islita y Corozalito', 'Playa Jobo', 'Playa Junquillal', 'Playa La Penca', 'Playa Lagarto', 'Playa Langosta', 'Playa Mal País', 'Playa Marbella', 'Playa Manzanillo (Costa Rica)', 'Playa Nabos', 'Playa Nacascolo', 'Playa Nancite', 'Playa Naranjo', 'Playa Negra', 'Playa Nosara', 'Playa Nubes', 'Playa Ocotal', 'Playa Ostional', 'Playa Pan de Azúcar', 'Playa Panamá (Chrorotega)', 'Playa Pelada', 'Playa Pietra', 'Playa Pitahaya', 'Playa Pleito y San Juanillo', 'Playa Pochote (Papagayo)', 'Playa Potrero', 'Playa Real y Roble', 'Playa Rajada', 'Playa Sámara', 'Playa San Miguel', 'Playa Santa Teresa', 'Playa Surco de Piedra', 'Playa Prieta (Papagayo)', 'Playa Pochote (Salinas)', 'Playa Potrero Grande', 'Playa Puerto Soley', 'Playa Tamarindo', 'Playa Ventanas', 'Balnerario Puntarenas', 'Playa Agujas', 'Playa Bahía Drake', 'Playa Ballena', 'Playa Barú', 'Playa Blanca', 'Playa Bejuco', 'Playa Boca Vieja', 'Playa Cabo Blanco', 'Playa Cabuya', 'Playa Cocalito', 'Playa Cacao', 'Playa Caldera', 'Playa Carate', 'Playa Curú', 'Playa de Arco', 'Playa de Doña Ana', 'Playa Dominical', 'Playa Dominicalito', 'Playa Espadilla', 'Playa Esterillos', 'Playa Garza (Boca Brava)', 'Playa Gigante', 'Playa Hermosa', 'Playa Herradura', 'Playa Isla Damas', 'Playa Jacó', 'Playa Llorona', 'Playa Madrigal', 'Playa Mata de Limón', 'Playa Mantas', 'Playas Manuel Antonio', 'Playa Matapalo', 'Playa Montezuma', 'Playa Naranjo', 'Playa Órganos', 'Playa Palma', 'Playa Palo Seco', 'Playa Pavones', 'Playa Piñuela', 'Playa Platanares', 'Playa Pógeres', 'Playa Quizales', 'Playa San Josecito (Golfito)', 'Playa Savegre', 'Playa Sombrero', 'Playa Tamales', 'Playa Tambor', 'Playa Tárcoles', 'Playa Tivives', 'Playa Tortuga', 'Playa Uvita', 'Playa Zancudo', 'Playas de Costa Rica']\n"
     ]
    }
   ],
   "source": [
    "print(playas)"
   ]
  },
  {
   "cell_type": "code",
   "execution_count": 6,
   "metadata": {},
   "outputs": [
    {
     "output_type": "stream",
     "name": "stdout",
     "text": [
      "137\n********* -*- ********* \nPlayas de Costa Rica\n********* -*- ********* \nPlaya Zancudo\n********* -*- ********* \n136\n"
     ]
    }
   ],
   "source": [
    "#todas los nombres con P o B (Playa o Balneario)\n",
    "\n",
    "print(len(playas))\n",
    "newLine()\n",
    "\n",
    "print(playas[-1])\n",
    "newLine()\n",
    "\n",
    "playas = playas[:-1]\n",
    "print(playas[-1])\n",
    "newLine()\n",
    "\n",
    "print(len(playas))"
   ]
  },
  {
   "source": [
    "## hasta aqui"
   ],
   "cell_type": "markdown",
   "metadata": {}
  },
  {
   "cell_type": "code",
   "execution_count": 2,
   "metadata": {},
   "outputs": [],
   "source": [
    "# Segundo intento sin BeatifulSoup para extraer quienes tienen info y quienes no\n",
    "url = urlopen(\"https://es.wikipedia.org/wiki/Anexo:Playas_de_Costa_Rica\")"
   ]
  },
  {
   "cell_type": "code",
   "execution_count": 3,
   "metadata": {
    "tags": []
   },
   "outputs": [
    {
     "output_type": "stream",
     "name": "stdout",
     "text": [
      "<class 'str'>\n"
     ]
    }
   ],
   "source": [
    "content = str(url.read(),encoding='utf-8')\n",
    "print(type(content))"
   ]
  },
  {
   "cell_type": "code",
   "execution_count": 12,
   "metadata": {},
   "outputs": [
    {
     "output_type": "stream",
     "name": "stdout",
     "text": [
      "<class 'str'>\n"
     ]
    }
   ],
   "source": [
    "#content = str(url.readline(), encoding='utf-8')\n",
    "#print(type(content))"
   ]
  },
  {
   "cell_type": "code",
   "execution_count": 4,
   "metadata": {
    "tags": []
   },
   "outputs": [
    {
     "output_type": "stream",
     "name": "stdout",
     "text": [
      "ipedia/commons/thumb/8/88/Cahuita.jpg/440px-Cahuita.jpg 2x\" data-file-width=\"1600\" data-file-height=\"1082\" /></a>  <div class=\"thumbcaption\"><div class=\"magnify\"><a href=\"/wiki/Archivo:Cahuita.jpg\" class=\"internal\" title=\"Aumentar\"></a></div>Playa Blanca en Cahuita.</div></div></div>\n<ul><li><a href=\"/wiki/Refugio_Nacional_de_Fauna_Silvestre_Barra_del_Colorado\" class=\"mw-redirect\" title=\"Refugio Nacional de Fauna Silvestre Barra del Colorado\">Playa Barra del Colorado</a></li>\n<li><a href=\"/w/index.php?title=Playa_Bonita_(Lim%C3%B3n)&amp;action=edit&amp;redlink=1\" class=\"new\" title=\"Playa Bonita (Limón) (aún no redactado)\">Playa Bonita</a></li>\n<li><a href=\"/w/index.php?title=Playa_Cahuita_(Blanca)&amp;action=edit&amp;redlink=1\" class=\"new\" title=\"Playa Cahuita (Blanca) (aún no redactado)\">Playa Cahuita (Blanca)</a></li>\n<li><a href=\"/wiki/Playa_Chiquita\" title=\"Playa Chiquita\">Playa Chiquita</a></li>\n<li><a href=\"/w/index.php?title=Punta_Cocles&amp;action=edit&amp;redlink=1\" class=\"new\" title=\"Punta Cocles (aún no redactado)\">Punta Cocles</a></li>\n<li><a href=\"/w/index.php?title=Playa_Gandoca&amp;action=edit&amp;redlink=1\" class=\"new\" title=\"Playa Gandoca (aún no redactado)\">Playa Gandoca</a></li>\n<li><a href=\"/w/index.php?title=Playa_Manzanillo_(Lim%C3%B3n)&amp;action=edit&amp;redlink=1\" class=\"new\" title=\"Playa Manzanillo (Limón) (aún no redactado)\">Playa Manzanillo</a></li>\n<li><a href=\"/w/index.php?title=Playa_Mo%C3%ADn&amp;action=edit&amp;redlink=1\" class=\"new\" title=\"Playa Moín (aún no redactado)\">Playa Moín</a></li>\n<li><a href=\"/w/index.php?title=Playa_Negra_(Puerto_Viejo)&amp;action=edit&amp;redlink=1\" class=\"new\" title=\"Playa Negra (Puerto Viejo) (aún no redactado)\">Playa Negra (Puerto Viejo)</a></li>\n<li><a href=\"/wiki/Parque_nacional_Cahuita\" title=\"Parque nacional Cahuita\">Playa Negra (Cahuita)</a></li>\n<li><a href=\"/w/index.php?title=Playa_Pirikiki&amp;action=edit&amp;redlink=1\" class=\"new\" title=\"Playa Pirikiki (aún no redactado)\">Playa Pirikiki</a></\n"
     ]
    }
   ],
   "source": [
    "print(content[8000:10000]) # the info I need has: <li><a href=\" "
   ]
  },
  {
   "cell_type": "code",
   "execution_count": 5,
   "metadata": {},
   "outputs": [],
   "source": [
    "data = content.split('<li><a href=\"')"
   ]
  },
  {
   "cell_type": "code",
   "execution_count": 7,
   "metadata": {},
   "outputs": [
    {
     "output_type": "stream",
     "name": "stdout",
     "text": [
      "/wiki/Refugio_Nacional_de_Fauna_Silvestre_Barra_del_Colorado\" class=\"mw-redirect\" title=\"Refugio Nacional de Fauna Silvestre Barra del Colorado\">Playa Barra del Colorado</a></li>\n\n/w/index.php?title=Playa_Bonita_(Lim%C3%B3n)&amp;action=edit&amp;redlink=1\" class=\"new\" title=\"Playa Bonita (Limón) (aún no redactado)\">Playa Bonita</a></li>\n\n/w/index.php?title=Playa_Cahuita_(Blanca)&amp;action=edit&amp;redlink=1\" class=\"new\" title=\"Playa Cahuita (Blanca) (aún no redactado)\">Playa Cahuita (Blanca)</a></li>\n\n/wiki/Playa_Chiquita\" title=\"Playa Chiquita\">Playa Chiquita</a></li>\n\n/w/index.php?title=Punta_Cocles&amp;action=edit&amp;redlink=1\" class=\"new\" title=\"Punta Cocles (aún no redactado)\">Punta Cocles</a></li>\n\n/w/index.php?title=Playa_Gandoca&amp;action=edit&amp;redlink=1\" class=\"new\" title=\"Playa Gandoca (aún no redactado)\">Playa Gandoca</a></li>\n\n/w/index.php?title=Playa_Manzanillo_(Lim%C3%B3n)&amp;action=edit&amp;redlink=1\" class=\"new\" title=\"Playa Manzanillo (Limón) (aún no redactado)\">Playa Manzanillo</a></li>\n\n/w/index.php?title=Playa_Mo%C3%ADn&amp;action=edit&amp;redlink=1\" class=\"new\" title=\"Playa Moín (aún no redactado)\">Playa Moín</a></li>\n\n/w/index.php?title=Playa_Negra_(Puerto_Viejo)&amp;action=edit&amp;redlink=1\" class=\"new\" title=\"Playa Negra (Puerto Viejo) (aún no redactado)\">Playa Negra (Puerto Viejo)</a></li>\n\n"
     ]
    }
   ],
   "source": [
    "### need to understand the data\n",
    "for d in data[:10]:\n",
    "    print(d)\n",
    "\n",
    "## the list of beaches start at index 1"
   ]
  },
  {
   "cell_type": "code",
   "execution_count": 8,
   "metadata": {
    "tags": []
   },
   "outputs": [],
   "source": [
    "# a dict with info about which places have info (I guess because are popular) and which not is a good idea.\n",
    "# Also, I am going to add more categories to the dataset so a dict is perfect\n",
    "\n",
    "playas2 = defaultdict(dict)\n",
    "\n",
    "for d in data[1:-1]:\n",
    "    inicio = (d.find('\">')+2)\n",
    "    final = d.find('</')\n",
    "    name = d[inicio:final]\n",
    "\n",
    "    # it seems the most popular beaches are complete but the others are \"aún no redactado\"\n",
    "    ini = d.find('aún no')\n",
    "\n",
    "    if ini != -1:   # if \"aún no redactado\" = no info of the beach, it is possible is not a popular beach\n",
    "        #playas2[name] = False\n",
    "        playas2[name]['Info'] = False\n",
    "\n",
    "    else:\n",
    "        #playas2[name] = True\n",
    "        playas2[name]['Info'] = True"
   ]
  },
  {
   "cell_type": "code",
   "execution_count": 9,
   "metadata": {},
   "outputs": [
    {
     "output_type": "execute_result",
     "data": {
      "text/plain": [
       "defaultdict(dict,\n",
       "            {'Playa Barra del Colorado': {'Info': True},\n",
       "             'Playa Bonita': {'Info': False},\n",
       "             'Playa Cahuita (Blanca)': {'Info': False},\n",
       "             'Playa Chiquita': {'Info': True},\n",
       "             'Punta Cocles': {'Info': False},\n",
       "             'Playa Gandoca': {'Info': False},\n",
       "             'Playa Manzanillo': {'Info': False},\n",
       "             'Playa Moín': {'Info': False},\n",
       "             'Playa Negra (Puerto Viejo)': {'Info': False},\n",
       "             'Playa Negra (Cahuita)': {'Info': True},\n",
       "             'Playa Pirikiki': {'Info': False},\n",
       "             'Playa Portete': {'Info': False},\n",
       "             'Playa Puerto Vargas': {'Info': False},\n",
       "             'Playas Tortuguero': {'Info': True},\n",
       "             'Playa Vizcaya': {'Info': False},\n",
       "             'Playa Westfalia': {'Info': False},\n",
       "             'Puerto Viejo de Talamanca': {'Info': True},\n",
       "             'Punta Mona': {'Info': True},\n",
       "             'Punta Uva': {'Info': False},\n",
       "             'Playa Arbolito': {'Info': False},\n",
       "             'Playa Avellanas': {'Info': False},\n",
       "             'Playa Azul (Jurel)': {'Info': False},\n",
       "             'Playa Bahía Junquillal': {'Info': False},\n",
       "             'Playa Barco Quebrado': {'Info': False},\n",
       "             'Playa Barrigona': {'Info': False},\n",
       "             'Playa Bejuco': {'Info': False},\n",
       "             'Playa Blanca (Santa Elena)': {'Info': False},\n",
       "             'Playa Blanca y Virador': {'Info': False},\n",
       "             'Playa Bongo': {'Info': False},\n",
       "             'Playa Brasilito': {'Info': False},\n",
       "             'Playa Buena Vista': {'Info': False},\n",
       "             'Playa Camaronal': {'Info': False},\n",
       "             'Playa Carbón': {'Info': False},\n",
       "             'Playa Carmen': {'Info': False},\n",
       "             'Playa Carrillo': {'Info': True},\n",
       "             'Playa Cóncava': {'Info': False},\n",
       "             'Playa Conchal': {'Info': True},\n",
       "             'Playa Coyote': {'Info': False},\n",
       "             'Playa Coyotera': {'Info': False},\n",
       "             'Playa Cuajiniquil': {'Info': False},\n",
       "             'Playa Culebra': {'Info': False},\n",
       "             'Playas del Coco': {'Info': True},\n",
       "             'Playa Flamingo': {'Info': False},\n",
       "             'Playa Garza': {'Info': False},\n",
       "             'Playa Grande': {'Info': True},\n",
       "             'Playa Gringo': {'Info': False},\n",
       "             'Playa Guiones': {'Info': False},\n",
       "             'Playa Hermosa': {'Info': True},\n",
       "             'Playa Iguanita': {'Info': False},\n",
       "             'Playa Islita y Corozalito': {'Info': False},\n",
       "             'Playa Jobo': {'Info': False},\n",
       "             'Playa Junquillal': {'Info': False},\n",
       "             'Playa La Penca': {'Info': False},\n",
       "             'Playa Lagarto': {'Info': False},\n",
       "             'Playa Langosta': {'Info': False},\n",
       "             'Playa Mal País': {'Info': False},\n",
       "             'Playa Marbella': {'Info': False},\n",
       "             'Playa Manzanillo (Costa Rica)': {'Info': False},\n",
       "             'Playa Nabos': {'Info': False},\n",
       "             'Playa Nacascolo': {'Info': False},\n",
       "             'Playa Nancite': {'Info': False},\n",
       "             'Playa Naranjo': {'Info': False},\n",
       "             'Playa Negra': {'Info': False},\n",
       "             'Playa Nosara': {'Info': True},\n",
       "             'Playa Nubes': {'Info': False},\n",
       "             'Playa Ocotal': {'Info': False},\n",
       "             'Playa Ostional': {'Info': True},\n",
       "             'Playa Pan de Azúcar': {'Info': False},\n",
       "             'Playa Panamá (Chrorotega)': {'Info': False},\n",
       "             'Playa Pelada': {'Info': False},\n",
       "             'Playa Pietra': {'Info': False},\n",
       "             'Playa Pitahaya': {'Info': False},\n",
       "             'Playa Pleito y San Juanillo': {'Info': False},\n",
       "             'Playa Pochote (Papagayo)': {'Info': True},\n",
       "             'Playa Potrero': {'Info': False},\n",
       "             'Playa Real y Roble': {'Info': False},\n",
       "             'Playa Rajada': {'Info': False},\n",
       "             'Playa Sámara': {'Info': False},\n",
       "             'Playa San Miguel': {'Info': False},\n",
       "             'Playa Santa Teresa': {'Info': False},\n",
       "             'Playa Surco de Piedra': {'Info': False},\n",
       "             'Playa Prieta (Papagayo)': {'Info': False},\n",
       "             'Playa Pochote (Salinas)': {'Info': False},\n",
       "             'Playa Potrero Grande': {'Info': False},\n",
       "             'Playa Puerto Soley': {'Info': False},\n",
       "             'Playa Tamarindo': {'Info': True},\n",
       "             'Playa Ventanas': {'Info': False},\n",
       "             'Balnerario Puntarenas': {'Info': True},\n",
       "             'Playa Agujas': {'Info': False},\n",
       "             'Playa Bahía Drake': {'Info': False},\n",
       "             'Playa Ballena': {'Info': False},\n",
       "             'Playa Barú': {'Info': False},\n",
       "             'Playa Blanca': {'Info': False},\n",
       "             'Playa Boca Vieja': {'Info': False},\n",
       "             'Playa Cabo Blanco': {'Info': True},\n",
       "             'Playa Cabuya': {'Info': False},\n",
       "             'Playa Cocalito': {'Info': False},\n",
       "             'Playa Cacao': {'Info': False},\n",
       "             'Playa Caldera': {'Info': True},\n",
       "             'Playa Carate': {'Info': False},\n",
       "             'Playa Curú': {'Info': False},\n",
       "             'Playa de Arco': {'Info': False},\n",
       "             'Playa de Doña Ana': {'Info': False},\n",
       "             'Playa Dominical': {'Info': True},\n",
       "             'Playa Dominicalito': {'Info': False},\n",
       "             'Playa Espadilla': {'Info': True},\n",
       "             'Playa Esterillos': {'Info': True},\n",
       "             'Playa Garza (Boca Brava)': {'Info': False},\n",
       "             'Playa Gigante': {'Info': False},\n",
       "             'Playa Herradura': {'Info': False},\n",
       "             'Playa Isla Damas': {'Info': False},\n",
       "             'Playa Jacó': {'Info': True},\n",
       "             'Playa Llorona': {'Info': False},\n",
       "             'Playa Madrigal': {'Info': False},\n",
       "             'Playa Mata de Limón': {'Info': False},\n",
       "             'Playa Mantas': {'Info': False},\n",
       "             'Playas Manuel Antonio': {'Info': True},\n",
       "             'Playa Matapalo': {'Info': False},\n",
       "             'Playa Montezuma': {'Info': False},\n",
       "             'Playa Órganos': {'Info': False},\n",
       "             'Playa Palma': {'Info': False},\n",
       "             'Playa Palo Seco': {'Info': False},\n",
       "             'Playa Pavones': {'Info': False},\n",
       "             'Playa Piñuela': {'Info': False},\n",
       "             'Playa Platanares': {'Info': False},\n",
       "             'Playa Pógeres': {'Info': False},\n",
       "             'Playa Quizales': {'Info': False},\n",
       "             'Playa San Josecito (Golfito)': {'Info': False},\n",
       "             'Playa Savegre': {'Info': False},\n",
       "             'Playa Sombrero': {'Info': False},\n",
       "             'Playa Tamales': {'Info': False},\n",
       "             'Playa Tambor': {'Info': True},\n",
       "             'Playa Tárcoles': {'Info': False},\n",
       "             'Playa Tivives': {'Info': False},\n",
       "             'Playa Tortuga': {'Info': True},\n",
       "             'Playa Uvita': {'Info': False},\n",
       "             'Playa Zancudo': {'Info': False}})"
      ]
     },
     "metadata": {},
     "execution_count": 9
    }
   ],
   "source": [
    "# also this dict have more beaches with punta or puerto that I did not count before\n",
    "playas2"
   ]
  },
  {
   "cell_type": "code",
   "execution_count": 10,
   "metadata": {},
   "outputs": [
    {
     "output_type": "execute_result",
     "data": {
      "text/plain": [
       "137"
      ]
     },
     "metadata": {},
     "execution_count": 10
    }
   ],
   "source": [
    "len(playas2.keys())"
   ]
  },
  {
   "source": [
    "### A new web with more info to add categories\n",
    "### There are 3 categories of beaches, use it to separete the places"
   ],
   "cell_type": "markdown",
   "metadata": {}
  },
  {
   "cell_type": "code",
   "execution_count": 11,
   "metadata": {},
   "outputs": [],
   "source": [
    "#source = requests.get(\"https://www.govisitcostarica.co.cr/travelInfo/beaches/beaches-list.asp\").text"
   ]
  },
  {
   "cell_type": "code",
   "execution_count": 12,
   "metadata": {
    "tags": []
   },
   "outputs": [],
   "source": [
    "#soup2 = BeautifulSoup(source, 'html.parser')"
   ]
  },
  {
   "cell_type": "code",
   "execution_count": 30,
   "metadata": {
    "tags": []
   },
   "outputs": [],
   "source": [
    "#for item in soup2.find_all('<div class=\"pageListContentRow\">'): # I need this but I need more practice with BS, it seems it just \n",
    "    #print(item.text)                                            # works with tags and not other text\n",
    "                                                                # better use another approach"
   ]
  },
  {
   "cell_type": "code",
   "execution_count": 13,
   "metadata": {},
   "outputs": [],
   "source": [
    "#like this:\n",
    "url2 = urlopen(\"https://www.govisitcostarica.co.cr/travelInfo/beaches/beaches-list.asp\")"
   ]
  },
  {
   "cell_type": "code",
   "execution_count": 14,
   "metadata": {},
   "outputs": [],
   "source": [
    "contenido = str(url2.read(), encoding='utf-8')"
   ]
  },
  {
   "cell_type": "code",
   "execution_count": 15,
   "metadata": {
    "tags": []
   },
   "outputs": [],
   "source": [
    "types = contenido.split('<div class=\"pageListContentRow\">') #each list of beaches are listed in a column with the class\"pageList...\""
   ]
  },
  {
   "cell_type": "code",
   "execution_count": 17,
   "metadata": {},
   "outputs": [
    {
     "output_type": "execute_result",
     "data": {
      "text/plain": [
       "'\\r\\n        <div class=\"pageListContentItem ListHeader\"><a id=\"Surfing-Beaches\">Surfing Beaches</a></div>\\r\\n        <div class=\"pageListContentItem ListHeader\"><a id=\"Snorkeling-Beaches\">Snorkeling Beach</a></div>\\r\\n    </div>\\r\\n\\r\\n    '"
      ]
     },
     "metadata": {},
     "execution_count": 17
    }
   ],
   "source": [
    "types[1]"
   ]
  },
  {
   "cell_type": "code",
   "execution_count": 18,
   "metadata": {},
   "outputs": [
    {
     "output_type": "stream",
     "name": "stdout",
     "text": [
      "Surfing Beaches\nSnorkeling Beach\n"
     ]
    }
   ],
   "source": [
    "soup = BeautifulSoup(types[1], 'html.parser') # we splited the data and select the first column with data (index 1)\n",
    "for d in soup.find_all('div'):                # this case it only have the categories  \n",
    "    print(d.text)"
   ]
  },
  {
   "cell_type": "code",
   "execution_count": 19,
   "metadata": {},
   "outputs": [],
   "source": [
    "soup = BeautifulSoup(types[2], 'html.parser') # then select the second column or the second pageListContent with our data\n",
    "count = 0 \n",
    "cate_data = []\n",
    "divider = []                                  # 2 index this case, the first div includes / covers all the beaches of 1 category \n",
    "                                              # but we can omit it and use the others div that represent just 1 beach\n",
    "for d in soup.find_all('div'):                \n",
    "    cate_data.append(d.text)\n",
    "    \n",
    "    if len(d.text) > 50:\n",
    "        divider.append(count)\n",
    "    count = count + 1"
   ]
  },
  {
   "cell_type": "code",
   "execution_count": 22,
   "metadata": {},
   "outputs": [
    {
     "output_type": "stream",
     "name": "stdout",
     "text": [
      "['Bahía Salinas CahuitaP.N. CahuitaRefugio CamaronalDominicalEl RobleEsterillos EsteEsterillos OesteGarzaJacóP.N. Marino las Baulas MalpaísManuel AntonioMarbellaMatapaloPavonesPlaya AvellanaPlaya Bahia BallenaPlaya BejucoPlaya CaletasPlaya CoyotePlaya Doña AnaPlaya GrandePlaya GuionesPlaya HermosaPlaya JunquillalPlaya LangostaPlaya NegraPlaya NosaraPlaya San MiguelPlaya ZancudoPuerto LimonPuerto SoleyPuerto Viejo de TalamancaQueposP. N. Santa RosaSanta TeresaTamarindo', 'Bahía Salinas ', 'Cahuita', 'P.N. Cahuita', 'Refugio Camaronal']\n['\\nRefugio Bahía JunquillalP.N. BallenaCahuitaP.N. CahuitaIsla del CañoP. N. Isla del CocoDrake BayIsla BallenaManuel AntonioManzanilloMontezumaGolfo de PapagayoPlaya CarrilloPlaya ChiquitaPlaya ConchalPlaya HermosaPlaya HerraduraPlaya OcotalPlaya Pan de AzucarPlaya PanamáPlaya PotreroPlaya UvitaPlaya ZancudoPuerto LimonPuerto Viejo de TalamancaSan JuanilloTortuga AbajoIsla Tortuga\\n', 'Refugio Bahía Junquillal', 'P.N. Ballena', 'Cahuita', 'P.N. Cahuita']\n[0, 39]\n"
     ]
    }
   ],
   "source": [
    "print(divider)\n",
    "print(cate_data[:5])\n",
    "print(cate_data[39:44])  \n"
   ]
  },
  {
   "cell_type": "code",
   "execution_count": 26,
   "metadata": {},
   "outputs": [],
   "source": [
    "surfing_b = cate_data[divider[0]+1:divider[1]]\n",
    "snorkeling_b = cate_data[divider[1]+1:]"
   ]
  },
  {
   "cell_type": "code",
   "execution_count": 27,
   "metadata": {},
   "outputs": [
    {
     "output_type": "execute_result",
     "data": {
      "text/plain": [
       "['Bahía Salinas ',\n",
       " 'Cahuita',\n",
       " 'P.N. Cahuita',\n",
       " 'Refugio Camaronal',\n",
       " 'Dominical',\n",
       " 'El Roble',\n",
       " 'Esterillos Este',\n",
       " 'Esterillos Oeste',\n",
       " 'Garza',\n",
       " 'Jacó',\n",
       " 'P.N. Marino las Baulas ',\n",
       " 'Malpaís',\n",
       " 'Manuel Antonio',\n",
       " 'Marbella',\n",
       " 'Matapalo',\n",
       " 'Pavones',\n",
       " 'Playa Avellana',\n",
       " 'Playa Bahia Ballena',\n",
       " 'Playa Bejuco',\n",
       " 'Playa Caletas',\n",
       " 'Playa Coyote',\n",
       " 'Playa Doña Ana',\n",
       " 'Playa Grande',\n",
       " 'Playa Guiones',\n",
       " 'Playa Hermosa',\n",
       " 'Playa Junquillal',\n",
       " 'Playa Langosta',\n",
       " 'Playa Negra',\n",
       " 'Playa Nosara',\n",
       " 'Playa San Miguel',\n",
       " 'Playa Zancudo',\n",
       " 'Puerto Limon',\n",
       " 'Puerto Soley',\n",
       " 'Puerto Viejo de Talamanca',\n",
       " 'Quepos',\n",
       " 'P. N. Santa Rosa',\n",
       " 'Santa Teresa',\n",
       " 'Tamarindo']"
      ]
     },
     "metadata": {},
     "execution_count": 27
    }
   ],
   "source": [
    "surfing_b"
   ]
  },
  {
   "cell_type": "code",
   "execution_count": 28,
   "metadata": {},
   "outputs": [
    {
     "output_type": "execute_result",
     "data": {
      "text/plain": [
       "['Refugio Bahía Junquillal',\n",
       " 'P.N. Ballena',\n",
       " 'Cahuita',\n",
       " 'P.N. Cahuita',\n",
       " 'Isla del Caño',\n",
       " 'P. N. Isla del Coco',\n",
       " 'Drake Bay',\n",
       " 'Isla Ballena',\n",
       " 'Manuel Antonio',\n",
       " 'Manzanillo',\n",
       " 'Montezuma',\n",
       " 'Golfo de Papagayo',\n",
       " 'Playa Carrillo',\n",
       " 'Playa Chiquita',\n",
       " 'Playa Conchal',\n",
       " 'Playa Hermosa',\n",
       " 'Playa Herradura',\n",
       " 'Playa Ocotal',\n",
       " 'Playa Pan de Azucar',\n",
       " 'Playa Panamá',\n",
       " 'Playa Potrero',\n",
       " 'Playa Uvita',\n",
       " 'Playa Zancudo',\n",
       " 'Puerto Limon',\n",
       " 'Puerto Viejo de Talamanca',\n",
       " 'San Juanillo',\n",
       " 'Tortuga Abajo',\n",
       " 'Isla Tortuga']"
      ]
     },
     "metadata": {},
     "execution_count": 28
    }
   ],
   "source": [
    "snorkeling_b"
   ]
  },
  {
   "cell_type": "code",
   "execution_count": 29,
   "metadata": {
    "tags": []
   },
   "outputs": [
    {
     "output_type": "stream",
     "name": "stdout",
     "text": [
      "Swimming Beaches\n\n"
     ]
    }
   ],
   "source": [
    "soup = BeautifulSoup(types[3], 'html.parser')\n",
    "for d in soup.find_all('div'):\n",
    "    print(d.text)"
   ]
  },
  {
   "cell_type": "code",
   "execution_count": 30,
   "metadata": {},
   "outputs": [
    {
     "output_type": "stream",
     "name": "stdout",
     "text": [
      "280\n"
     ]
    }
   ],
   "source": [
    "soup = BeautifulSoup(types[4], 'html.parser')\n",
    "count2 = 0\n",
    "another_cate = []\n",
    "\n",
    "for d in soup.find_all('div'):\n",
    "\n",
    "    if len(d.text) > 50:\n",
    "        pass\n",
    "  \n",
    "    else: \n",
    "        another_cate.append(d.text)\n",
    "        \n",
    "    count2 = count2 + 1"
   ]
  },
  {
   "cell_type": "code",
   "execution_count": 32,
   "metadata": {},
   "outputs": [
    {
     "output_type": "execute_result",
     "data": {
      "text/plain": [
       "['Isla Tortuga', '', 'Tour de Aventura en Guanacaste', '', '7 Días y 6 Noches']"
      ]
     },
     "metadata": {},
     "execution_count": 32
    }
   ],
   "source": [
    "another_cate[67:72] # other divs had more info but I do not need then, find where my list of beaches finishes and slice it in a new list"
   ]
  },
  {
   "cell_type": "code",
   "execution_count": 41,
   "metadata": {},
   "outputs": [],
   "source": [
    "swimming_b = another_cate[:68] # the list with beaches ends at index 67"
   ]
  },
  {
   "cell_type": "code",
   "execution_count": 35,
   "metadata": {},
   "outputs": [
    {
     "output_type": "stream",
     "name": "stdout",
     "text": [
      "['Playa Barra del Colorado', 'Playa Bonita', 'Playa Cahuita (Blanca)', 'Playa Chiquita', 'Punta Cocles', 'Playa Gandoca', 'Playa Manzanillo', 'Playa Moín', 'Playa Negra (Puerto Viejo)', 'Playa Negra (Cahuita)', 'Playa Pirikiki', 'Playa Portete', 'Playa Puerto Vargas', 'Playas Tortuguero', 'Playa Vizcaya', 'Playa Westfalia', 'Puerto Viejo de Talamanca', 'Punta Mona', 'Punta Uva', 'Playa Arbolito']\n<class 'list'>\n"
     ]
    }
   ],
   "source": [
    "# creating a list of the beaches to check to match them and add the info to each beach\n",
    "\n",
    "b2 = list(playas2.keys())\n",
    "print(b2[:20])"
   ]
  },
  {
   "cell_type": "code",
   "execution_count": 36,
   "metadata": {},
   "outputs": [],
   "source": [
    "# I check if the beach in the list with categories appears on the dict (dataset) and add the info\n",
    "\n",
    "ind_s = [] #if the beach appears then add the index to the list\n",
    "\n",
    "for playa in swimming_b:\n",
    "   \n",
    "    for p in b2:\n",
    "        \n",
    "        if playa in p:\n",
    "  \n",
    "            ind_s.append(swimming_b.index(playa))\n",
    "            playas2[p]['Swimming'] = True \n",
    "\n",
    "        else:\n",
    "            cut = playa.split(' ')\n",
    "            if cut[-1] in p:\n",
    "                ind_s.append(swimming_b.index(playa))\n",
    "                playas2[p]['Swimming'] = True \n",
    "\n",
    "ind_s = set(ind_s)"
   ]
  },
  {
   "cell_type": "code",
   "execution_count": 37,
   "metadata": {},
   "outputs": [
    {
     "output_type": "stream",
     "name": "stdout",
     "text": [
      "68\n18\n"
     ]
    }
   ],
   "source": [
    "s_beaches_no = [ x for x in swimming_b if swimming_b.index(x) not in ind_s] \n",
    "print(len(swimming_b))\n",
    "print(len(s_beaches_no)) # 18 beaches from 68 did not appear or the names are different ( some beaches can be called different)"
   ]
  },
  {
   "cell_type": "code",
   "execution_count": 38,
   "metadata": {},
   "outputs": [
    {
     "output_type": "execute_result",
     "data": {
      "text/plain": [
       "['Isla del Caño',\n",
       " 'Coronado',\n",
       " 'Drake Bay',\n",
       " 'Reserva Golfo Dulce',\n",
       " 'Hacienda Pinilla',\n",
       " 'Malpaís',\n",
       " 'Paquera',\n",
       " 'Parismina',\n",
       " 'P. N. Piedras Blancas',\n",
       " 'Playa Cativo',\n",
       " 'Playa Pan de Azucar',\n",
       " 'Playa Pinuela',\n",
       " 'Puerto Jiménez',\n",
       " 'Punta Banco',\n",
       " 'Punta Leona',\n",
       " 'Samara',\n",
       " 'P. N. Santa Rosa',\n",
       " 'Tortuga Abajo']"
      ]
     },
     "metadata": {},
     "execution_count": 38
    }
   ],
   "source": [
    "s_beaches_no"
   ]
  },
  {
   "cell_type": "code",
   "execution_count": 40,
   "metadata": {},
   "outputs": [],
   "source": [
    "# I can add info manually but it takes more time, now just 14 of 68\n",
    "\n",
    "playas2['Playa Mal País']['Swimming'] = True # Malpaís\n",
    "playas2['Playa Sámara']['Swimming'] = True   # Samara \n",
    "playas2['Playa Blanca']['Swimming'] = True   # PUnta Leona\n",
    "playas2['Playa Mantas']['Swimming'] = True   # Punta Leona"
   ]
  },
  {
   "cell_type": "code",
   "execution_count": 42,
   "metadata": {},
   "outputs": [],
   "source": [
    "ind_surf = []\n",
    "\n",
    "for playa in surfing_b:\n",
    "    #print(playa)\n",
    "    for p in b2:\n",
    "        #print(p)\n",
    "        #if playa_counter != playa :\n",
    "        \n",
    "        if playa in p:\n",
    "            #print(playa)\n",
    "            #total2 += 1\n",
    "            ind_surf.append(surfing_b.index(playa))\n",
    "            playas2[p]['Surfing'] = True\n",
    "        else:\n",
    "            cut = playa.split(' ')\n",
    "            if cut[-1] in p:\n",
    "                ind_surf.append(surfing_b.index(playa))\n",
    "                playas2[p]['Surfing'] = True \n",
    "\n",
    "ind_surf = set(ind_surf)"
   ]
  },
  {
   "cell_type": "code",
   "execution_count": 43,
   "metadata": {},
   "outputs": [
    {
     "output_type": "stream",
     "name": "stdout",
     "text": [
      "38\n6\n"
     ]
    }
   ],
   "source": [
    "sur_beaches_no = [ x for x in surfing_b if surfing_b.index(x) not in ind_surf] \n",
    "print(len(surfing_b))\n",
    "print(len(sur_beaches_no))"
   ]
  },
  {
   "cell_type": "code",
   "execution_count": 44,
   "metadata": {},
   "outputs": [
    {
     "output_type": "execute_result",
     "data": {
      "text/plain": [
       "['Esterillos Oeste',\n",
       " 'Malpaís',\n",
       " 'Playa Caletas',\n",
       " 'Puerto Limon',\n",
       " 'Quepos',\n",
       " 'P. N. Santa Rosa']"
      ]
     },
     "metadata": {},
     "execution_count": 44
    }
   ],
   "source": [
    "sur_beaches_no"
   ]
  },
  {
   "cell_type": "code",
   "execution_count": 45,
   "metadata": {},
   "outputs": [],
   "source": [
    "playas2['Playa Mal País']['Surfing'] = True # Malpaís\n",
    "playas2['Playa Esterillos']['Surfing'] = True"
   ]
  },
  {
   "cell_type": "code",
   "execution_count": 46,
   "metadata": {},
   "outputs": [],
   "source": [
    "ind_sn = []\n",
    "\n",
    "for playa in snorkeling_b:\n",
    "    for p in b2:\n",
    "        if playa in p:\n",
    "            ind_sn.append(snorkeling_b.index(playa))\n",
    "            playas2[p]['Snorkeling'] = True\n",
    "        else:\n",
    "            cut = playa.split(' ')\n",
    "            if cut[-1] in p:\n",
    "                ind_sn.append(snorkeling_b.index(playa))\n",
    "                playas2[p]['Snorkeling'] = True \n",
    "\n",
    "ind_sn = set(ind_sn)"
   ]
  },
  {
   "cell_type": "code",
   "execution_count": 47,
   "metadata": {},
   "outputs": [
    {
     "output_type": "stream",
     "name": "stdout",
     "text": [
      "28\n5\n"
     ]
    }
   ],
   "source": [
    "sn_beaches_no = [ x for x in snorkeling_b if snorkeling_b.index(x) not in ind_sn] \n",
    "print(len(snorkeling_b))\n",
    "print(len(sn_beaches_no))"
   ]
  },
  {
   "cell_type": "code",
   "execution_count": 48,
   "metadata": {},
   "outputs": [
    {
     "output_type": "execute_result",
     "data": {
      "text/plain": [
       "['Isla del Caño',\n",
       " 'Drake Bay',\n",
       " 'Playa Pan de Azucar',\n",
       " 'Puerto Limon',\n",
       " 'Tortuga Abajo']"
      ]
     },
     "metadata": {},
     "execution_count": 48
    }
   ],
   "source": [
    "sn_beaches_no"
   ]
  },
  {
   "source": [
    "## Trying to add more features"
   ],
   "cell_type": "markdown",
   "metadata": {}
  },
  {
   "cell_type": "code",
   "execution_count": null,
   "metadata": {},
   "outputs": [],
   "source": []
  },
  {
   "cell_type": "code",
   "execution_count": 292,
   "metadata": {},
   "outputs": [],
   "source": [
    "# it is interesting, I try urlopen and get 403 forbidden but Beautiful was able\n",
    "\n",
    "source = requests.get(\"https://goplaya.cr/index.php/search_controller/buscar?latitud=9.935607&longitud=-84.1833856&busqueda=todas&filtros%5B%5D=81&radio=350#sa\").text\n",
    "soup = BeautifulSoup(source, 'html.parser')"
   ]
  },
  {
   "cell_type": "code",
   "execution_count": 332,
   "metadata": {
    "tags": []
   },
   "outputs": [],
   "source": [
    "info = []\n",
    "for line in soup.find_all('div'):\n",
    "    if line.h3 != None:\n",
    "        #print(line.h3)\n",
    "        info.append(line.h3)"
   ]
  },
  {
   "cell_type": "code",
   "execution_count": 360,
   "metadata": {},
   "outputs": [
    {
     "output_type": "execute_result",
     "data": {
      "text/plain": [
       "['  Manzanillo',\n",
       " '  Biesanz',\n",
       " '  Punta Vargas, Cahuita',\n",
       " '  Roble (Conchal)',\n",
       " '  Coyote',\n",
       " '  Grande',\n",
       " '  Ventanas (Guanacaste)',\n",
       " '  Honda',\n",
       " '  Real',\n",
       " '  Carrillo',\n",
       " '  Barrigona',\n",
       " '  Montezuma',\n",
       " '  Malpaís',\n",
       " '  Conchal',\n",
       " '  Cabo Blanco',\n",
       " '  Puerto Viejo (Conchal)',\n",
       " '  Punta Uva',\n",
       " '  Bonita',\n",
       " '  Negra',\n",
       " '  Playitas (Manuel Antonio)',\n",
       " '  Nacascolo',\n",
       " '  Cocal del Peñón',\n",
       " '  Cuevas',\n",
       " '  Guiones, Nosara',\n",
       " '  Blanca, Punta Leona',\n",
       " '  Soley',\n",
       " '  Avellanas',\n",
       " '  Puerto Viejo, Limón',\n",
       " '  Isla Tortuga tours',\n",
       " '  Blanca (Santa Rosa)',\n",
       " '  Jicote',\n",
       " '  Gemelas',\n",
       " '  Blanca (Punta Morales)',\n",
       " '  Pleito',\n",
       " '  Langosta',\n",
       " '  Penca (Flamingo)',\n",
       " '  Macaya',\n",
       " '  Cocles',\n",
       " '  Bahía Junquillal',\n",
       " '  Santa Teresa',\n",
       " '  Buena',\n",
       " '  Pelada',\n",
       " '  Espadilla',\n",
       " '  Blanca, Cahuita',\n",
       " '  Manchas',\n",
       " '  Tropical',\n",
       " '  Corona',\n",
       " '  Calzón de Pobre',\n",
       " '  Hermosa (Santa Teresa)',\n",
       " '  Pilas',\n",
       " '  Pochotes (Junquillal)',\n",
       " '  Bonita (Pinilla)',\n",
       " '  Penca (Punta Cacique)',\n",
       " '  Peñón',\n",
       " '  Lagartillo',\n",
       " '  El Jobo',\n",
       " '  Tamarindo',\n",
       " '  Mansita',\n",
       " '  Manuel Antonio',\n",
       " '  Blanca (Junquillal)',\n",
       " '  Callejones',\n",
       " '  Chiquita',\n",
       " '  Punta Cocles',\n",
       " '  Punta El Madero',\n",
       " '  Punta Cahuita',\n",
       " '  Sámara',\n",
       " '  Muertos',\n",
       " '  Espadilla Sur',\n",
       " '  Quesera',\n",
       " '  Blanca (Papagayo)',\n",
       " '  Cuarzo',\n",
       " '  Zapotillal (Minas)',\n",
       " '  Carmen',\n",
       " '  Rajada',\n",
       " '  Rajadita',\n",
       " '  Puerto Vargas, Cahuita',\n",
       " '  Cabuyal',\n",
       " '  San Juanillo',\n",
       " '  Garza',\n",
       " '  Virador',\n",
       " '  Blanca (Península de Nicoya)',\n",
       " '  Flamingo']"
      ]
     },
     "metadata": {},
     "execution_count": 360
    }
   ],
   "source": [
    "nocturnal = []\n",
    "for i in range(len(info)):\n",
    "    nocturnal.append(info[i].text)\n",
    "\n",
    "nocturnal = set(nocturnal)\n",
    "#print(nocturnal)\n",
    "nocturnal = list(nocturnal)\n",
    "nocturnal"
   ]
  },
  {
   "cell_type": "code",
   "execution_count": 354,
   "metadata": {},
   "outputs": [
    {
     "output_type": "execute_result",
     "data": {
      "text/plain": [
       "0"
      ]
     },
     "metadata": {},
     "execution_count": 354
    }
   ],
   "source": [
    "lt = [1 for b in b2 if b in nocturnal]\n",
    "sum(lt)"
   ]
  },
  {
   "cell_type": "code",
   "execution_count": 358,
   "metadata": {},
   "outputs": [
    {
     "output_type": "error",
     "ename": "AttributeError",
     "evalue": "'set' object has no attribute 'index'",
     "traceback": [
      "\u001b[1;31m---------------------------------------------------------------------------\u001b[0m",
      "\u001b[1;31mAttributeError\u001b[0m                            Traceback (most recent call last)",
      "\u001b[1;32m<ipython-input-358-441e33c0b31b>\u001b[0m in \u001b[0;36m<module>\u001b[1;34m\u001b[0m\n\u001b[0;32m     16\u001b[0m             \u001b[1;32mif\u001b[0m \u001b[0mcut\u001b[0m\u001b[1;33m[\u001b[0m\u001b[1;33m-\u001b[0m\u001b[1;36m1\u001b[0m\u001b[1;33m]\u001b[0m \u001b[1;32min\u001b[0m \u001b[0mp\u001b[0m\u001b[1;33m:\u001b[0m\u001b[1;33m\u001b[0m\u001b[1;33m\u001b[0m\u001b[0m\n\u001b[0;32m     17\u001b[0m                 \u001b[1;31m#print(cut[-1])\u001b[0m\u001b[1;33m\u001b[0m\u001b[1;33m\u001b[0m\u001b[1;33m\u001b[0m\u001b[0m\n\u001b[1;32m---> 18\u001b[1;33m                 \u001b[0mind\u001b[0m\u001b[1;33m.\u001b[0m\u001b[0mappend\u001b[0m\u001b[1;33m(\u001b[0m\u001b[0mnocturnal\u001b[0m\u001b[1;33m.\u001b[0m\u001b[0mindex\u001b[0m\u001b[1;33m(\u001b[0m\u001b[0mplaya\u001b[0m\u001b[1;33m)\u001b[0m\u001b[1;33m)\u001b[0m\u001b[1;33m\u001b[0m\u001b[1;33m\u001b[0m\u001b[0m\n\u001b[0m\u001b[0;32m     19\u001b[0m                 \u001b[0mplayas2\u001b[0m\u001b[1;33m[\u001b[0m\u001b[0mp\u001b[0m\u001b[1;33m]\u001b[0m\u001b[1;33m[\u001b[0m\u001b[1;34m'Nocturnal'\u001b[0m\u001b[1;33m]\u001b[0m \u001b[1;33m=\u001b[0m \u001b[1;32mTrue\u001b[0m\u001b[1;33m\u001b[0m\u001b[1;33m\u001b[0m\u001b[0m\n\u001b[0;32m     20\u001b[0m \u001b[1;33m\u001b[0m\u001b[0m\n",
      "\u001b[1;31mAttributeError\u001b[0m: 'set' object has no attribute 'index'"
     ]
    }
   ],
   "source": [
    "ind2 = []\n",
    "\n",
    "for playa in nocturnal:\n",
    "    #print(playa)\n",
    "    for p in b2:\n",
    "        #print(p)\n",
    "        #if playa_counter != playa :\n",
    "        \n",
    "        if playa in p:\n",
    "            #print(playa)\n",
    "            #total2 += 1\n",
    "            ind2.append(nocturnal.index(playa))\n",
    "            playas2[p]['Nocturnal'] = True\n",
    "        else:\n",
    "            cut = playa.split(' ')\n",
    "            if cut[-1] in p:\n",
    "                #print(cut[-1])\n",
    "                ind2.append(nocturnal.index(playa))\n",
    "                playas2[p]['Nocturnal'] = True \n",
    "\n",
    "ind2 = set(ind2)"
   ]
  },
  {
   "cell_type": "code",
   "execution_count": null,
   "metadata": {},
   "outputs": [],
   "source": [
    "beaches_no2 = [ x for x in nocturnal if nocturnal.index(x) not in ind2] \n",
    "beaches_no2"
   ]
  },
  {
   "cell_type": "code",
   "execution_count": 355,
   "metadata": {},
   "outputs": [
    {
     "output_type": "stream",
     "name": "stdout",
     "text": [
      "[]\n"
     ]
    }
   ],
   "source": [
    "print(len(nocturnal))\n",
    "print(len(beaches_no))"
   ]
  },
  {
   "cell_type": "code",
   "execution_count": 349,
   "metadata": {},
   "outputs": [],
   "source": [
    "source2 = requests.get(\"https://goplaya.cr/index.php/search_controller/buscar?latitud=9.935607&longitud=-84.1833856&busqueda=todas&filtros%5B%5D=9&radio=350#sa\").text\n",
    "soup2 = BeautifulSoup(source2, 'html.parser')"
   ]
  },
  {
   "cell_type": "code",
   "execution_count": 352,
   "metadata": {
    "tags": []
   },
   "outputs": [],
   "source": [
    "info2 = []\n",
    "for line in soup2.find_all('div'):\n",
    "    if line.h3 != None:\n",
    "        #print(line.h3)\n",
    "        info2.append(line.h3)"
   ]
  },
  {
   "cell_type": "code",
   "execution_count": 362,
   "metadata": {},
   "outputs": [
    {
     "output_type": "stream",
     "name": "stdout",
     "text": [
      "['Pilas', 'Blanca (Papagayo)', 'Biesanz', 'Callejones', 'Honda', 'Cabo Blanco', 'Blanca, Punta Leona', 'Punta Cahuita', 'Cocles', 'Cuarzo', 'Manuel Antonio', 'Blanca, Cahuita', 'Blanca (Santa Rosa)', 'Rajadita', 'Tamarindo', 'Ventanas (Guanacaste)', 'Sámara', 'Isla Tortuga tours', 'Blanca (Península de Nicoya)', 'Punta Vargas, Cahuita', 'Bonita', 'Coyote', 'Grande', 'Negra', 'Punta Cocles', 'Chiquita', 'Bahía Junquillal', 'Lagartillo', 'Avellanas', 'Rajada', 'Roble (Conchal)', 'Buena', 'Blanca (Punta Morales)', 'Cocal del Peñón', 'Cabuyal', 'Penca (Punta Cacique)', 'Playitas (Manuel Antonio)', 'Muertos', 'Mansita', 'Montezuma', 'Soley', 'Jicote', 'Pelada', 'El Jobo', 'Conchal', 'Santa Teresa', 'Corona', 'Espadilla Sur', 'Bonita (Pinilla)', 'Punta Uva', 'Penca (Flamingo)', 'Hermosa (Santa Teresa)', 'San Juanillo', 'Manzanillo', 'Quesera', 'Macaya', 'Puerto Vargas, Cahuita', 'Pochotes (Junquillal)', 'Manchas', 'Cuevas', 'Malpaís', 'Zapotillal (Minas)', 'Carrillo', 'Gemelas', 'Nacascolo', 'Guiones, Nosara', 'Garza', 'Puerto Viejo (Conchal)', 'Barrigona', 'Real', 'Puerto Viejo, Limón', 'Peñón', 'Virador', 'Carmen', 'Flamingo', 'Tropical', 'Calzón de Pobre', 'Blanca (Junquillal)', 'Espadilla', 'Pleito', 'Punta El Madero', 'Langosta']\n"
     ]
    }
   ],
   "source": [
    "white_sand = []\n",
    "for i in range(len(info2)):\n",
    "    white_sand.append(info2[i].text.strip())\n",
    "\n",
    "white_sand = set(white_sand)\n",
    "#print(white_sand)\n",
    "white_sand = list(white_sand)\n",
    "print(white_sand)"
   ]
  },
  {
   "cell_type": "code",
   "execution_count": 369,
   "metadata": {},
   "outputs": [],
   "source": [
    "ind = []\n",
    "\n",
    "for playa in white_sand:\n",
    "    #print(playa)\n",
    "    for p in b2:\n",
    "        #print(p)\n",
    "        #if playa_counter != playa :\n",
    "        \n",
    "        if playa in p:\n",
    "            #print(playa)\n",
    "            #total2 += 1\n",
    "            ind.append(white_sand.index(playa))\n",
    "            playas2[p]['White_S'] = True\n",
    "        else:\n",
    "            cut = playa.split(' ')\n",
    "            if cut[-1] in p:\n",
    "                #print(cut[-1])\n",
    "                ind.append(white_sand.index(playa))\n",
    "                playas2[p]['White_S'] = True \n",
    "\n",
    "ind = set(ind)"
   ]
  },
  {
   "cell_type": "code",
   "execution_count": 374,
   "metadata": {},
   "outputs": [
    {
     "output_type": "execute_result",
     "data": {
      "text/plain": [
       "['Pilas',\n",
       " 'Biesanz',\n",
       " 'Callejones',\n",
       " 'Honda',\n",
       " 'Blanca, Punta Leona',\n",
       " 'Cuarzo',\n",
       " 'Blanca (Santa Rosa)',\n",
       " 'Rajadita',\n",
       " 'Ventanas (Guanacaste)',\n",
       " 'Isla Tortuga tours',\n",
       " 'Blanca (Península de Nicoya)',\n",
       " 'Lagartillo',\n",
       " 'Roble (Conchal)',\n",
       " 'Blanca (Punta Morales)',\n",
       " 'Cocal del Peñón',\n",
       " 'Cabuyal',\n",
       " 'Penca (Punta Cacique)',\n",
       " 'Playitas (Manuel Antonio)',\n",
       " 'Muertos',\n",
       " 'Mansita',\n",
       " 'Jicote',\n",
       " 'Corona',\n",
       " 'Bonita (Pinilla)',\n",
       " 'Penca (Flamingo)',\n",
       " 'Hermosa (Santa Teresa)',\n",
       " 'Quesera',\n",
       " 'Macaya',\n",
       " 'Pochotes (Junquillal)',\n",
       " 'Manchas',\n",
       " 'Cuevas',\n",
       " 'Malpaís',\n",
       " 'Zapotillal (Minas)',\n",
       " 'Gemelas',\n",
       " 'Puerto Viejo (Conchal)',\n",
       " 'Peñón',\n",
       " 'Tropical',\n",
       " 'Calzón de Pobre',\n",
       " 'Blanca (Junquillal)',\n",
       " 'Punta El Madero']"
      ]
     },
     "metadata": {},
     "execution_count": 374
    }
   ],
   "source": [
    "beaches_ws = [ x for x in white_sand if white_sand.index(x) not in ind] \n",
    "beaches_ws"
   ]
  },
  {
   "cell_type": "code",
   "execution_count": null,
   "metadata": {},
   "outputs": [],
   "source": [
    "print(len(white_sand))\n",
    "print(len(beaches_ws))"
   ]
  },
  {
   "cell_type": "code",
   "execution_count": 380,
   "metadata": {},
   "outputs": [],
   "source": [
    "source3 = requests.get(\"https://goplaya.cr/index.php/search_controller/buscar?latitud=9.935607&longitud=-84.1833856&busqueda=todas&filtros%5B%5D=82&radio=350#sa\").text\n",
    "soup3 = BeautifulSoup(source3, 'html.parser')"
   ]
  },
  {
   "cell_type": "code",
   "execution_count": 381,
   "metadata": {},
   "outputs": [],
   "source": [
    "info3 = []\n",
    "for line in soup3.find_all('div'):\n",
    "    if line.h3 != None:\n",
    "        #print(line.h3)\n",
    "        info3.append(line.h3)"
   ]
  },
  {
   "cell_type": "code",
   "execution_count": 382,
   "metadata": {},
   "outputs": [
    {
     "output_type": "stream",
     "name": "stdout",
     "text": [
      "['Colonia (Chamán)', 'Esterillos Centro', 'Manzanillo (La Cruz)', 'Doña Ana', 'Blanca, Punta Leona', 'Bochinche', 'Pochote', 'Cocles', 'Grande, Cahuita', 'Manzanillo (Santa Teresa)', 'Tortuguero', 'Arenilla', 'Manuel Antonio', 'Esterillos Este', 'Blanca, Cahuita', 'Ocotal', 'Blanca, Puerto Jiménez', 'Ventanas (Guanacaste)', 'Limoncito', 'Zancudo', 'Sámara', 'Matapalo, Quepos', 'Venado', 'Grande', 'Matapalo', 'Ballena', 'Barú', 'Chiquita', 'Hermosa, Jacó', 'Bahía Junquillal', 'Tortuga', 'Avellanas', 'Rajada', 'Buena', 'Junquillal', 'Playitas (Manuel Antonio)', 'Mansita', 'Pelada', 'Azul (Pez Vela)', 'El Roble', 'El Jobo', 'Conchal', 'Cativo', 'Santa Teresa', 'Espadilla Sur', 'Bonita (Pinilla)', 'Hermosa (Santa Teresa)', 'Esterillos Oeste', 'Corozalito', 'Herradura', 'Gandoca', 'Uvita (Bahía)', 'Madrigal', 'Pan de Azúcar (Las Catalinas)', 'Manzanillo', 'Quesera', 'San Miguel', 'Tárcoles', 'Hermosa (Zona Sur)', 'Puerto Vargas, Cahuita', 'Cacao', 'Pita', 'Pógeres', 'Islita', 'Arco', 'Malpaís', 'Carrillo', 'Potrero', 'Ned Creek-Mile Creek', 'Gemelas', 'Nicuesa', 'Panamá', 'Guiones, Nosara', 'Garza', 'Bejuco', 'Puerto Viejo, Limón', 'Ventanas', 'Camaronal', 'Caldera', 'Tambor', 'Piñuelas', 'San Pedrillo', 'Carmen', 'Flamingo', 'Tropical', 'Copal', 'El Puerto', 'Punta El Madero', 'Langosta']\n"
     ]
    }
   ],
   "source": [
    "blue_flag = []\n",
    "for i in range(len(info3)):\n",
    "    blue_flag.append(info3[i].text.strip())\n",
    "\n",
    "blue_flag = set(blue_flag)\n",
    "#print(white_sand)\n",
    "blue_flag = list(blue_flag)\n",
    "print(blue_flag)"
   ]
  },
  {
   "cell_type": "code",
   "execution_count": 383,
   "metadata": {},
   "outputs": [],
   "source": [
    "ind3 = []\n",
    "\n",
    "for playa in blue_flag:\n",
    "    #print(playa)\n",
    "    for p in b2:\n",
    "        #print(p)\n",
    "        #if playa_counter != playa :\n",
    "        \n",
    "        if playa in p:\n",
    "            #print(playa)\n",
    "            #total2 += 1\n",
    "            ind3.append(blue_flag.index(playa))\n",
    "            playas2[p]['White_S'] = True\n",
    "        else:\n",
    "            cut = playa.split(' ')\n",
    "            if cut[-1] in p:\n",
    "                #print(cut[-1])\n",
    "                ind3.append(blue_flag.index(playa))\n",
    "                playas2[p]['White_S'] = True \n",
    "\n",
    "ind3 = set(ind3)"
   ]
  },
  {
   "cell_type": "code",
   "execution_count": 384,
   "metadata": {},
   "outputs": [
    {
     "output_type": "execute_result",
     "data": {
      "text/plain": [
       "['Colonia (Chamán)',\n",
       " 'Manzanillo (La Cruz)',\n",
       " 'Doña Ana',\n",
       " 'Blanca, Punta Leona',\n",
       " 'Pochote',\n",
       " 'Manzanillo (Santa Teresa)',\n",
       " 'Manuel Antonio',\n",
       " 'Esterillos Este',\n",
       " 'Ocotal',\n",
       " 'Ventanas (Guanacaste)',\n",
       " 'Limoncito',\n",
       " 'Chiquita',\n",
       " 'Tortuga',\n",
       " 'Rajada',\n",
       " 'Buena',\n",
       " 'Junquillal',\n",
       " 'Playitas (Manuel Antonio)',\n",
       " 'Mansita',\n",
       " 'Pelada',\n",
       " 'Azul (Pez Vela)',\n",
       " 'Conchal',\n",
       " 'Hermosa (Santa Teresa)',\n",
       " 'Corozalito',\n",
       " 'Gandoca',\n",
       " 'Uvita (Bahía)',\n",
       " 'Manzanillo',\n",
       " 'Quesera',\n",
       " 'Tárcoles',\n",
       " 'Hermosa (Zona Sur)',\n",
       " 'Puerto Vargas, Cahuita',\n",
       " 'Cacao',\n",
       " 'Pita',\n",
       " 'Islita',\n",
       " 'Potrero',\n",
       " 'Panamá',\n",
       " 'Puerto Viejo, Limón',\n",
       " 'Ventanas',\n",
       " 'Camaronal',\n",
       " 'Piñuelas',\n",
       " 'Carmen',\n",
       " 'Flamingo',\n",
       " 'Tropical',\n",
       " 'Copal',\n",
       " 'El Puerto',\n",
       " 'Punta El Madero',\n",
       " 'Langosta']"
      ]
     },
     "metadata": {},
     "execution_count": 384
    }
   ],
   "source": [
    "beaches_bf = [ x for x in blue_flag if blue_flag.index(x) not in ind3] \n",
    "beaches_bf"
   ]
  },
  {
   "cell_type": "code",
   "execution_count": null,
   "metadata": {},
   "outputs": [],
   "source": [
    "print(len(blue_flag))\n",
    "print(len(beaches_bf))"
   ]
  },
  {
   "cell_type": "code",
   "execution_count": null,
   "metadata": {},
   "outputs": [],
   "source": []
  },
  {
   "cell_type": "code",
   "execution_count": null,
   "metadata": {},
   "outputs": [],
   "source": []
  },
  {
   "cell_type": "code",
   "execution_count": null,
   "metadata": {},
   "outputs": [],
   "source": []
  },
  {
   "cell_type": "code",
   "execution_count": null,
   "metadata": {},
   "outputs": [],
   "source": []
  },
  {
   "cell_type": "code",
   "execution_count": null,
   "metadata": {},
   "outputs": [],
   "source": []
  },
  {
   "cell_type": "code",
   "execution_count": null,
   "metadata": {},
   "outputs": [],
   "source": []
  },
  {
   "cell_type": "code",
   "execution_count": null,
   "metadata": {},
   "outputs": [],
   "source": []
  },
  {
   "cell_type": "code",
   "execution_count": null,
   "metadata": {},
   "outputs": [],
   "source": []
  },
  {
   "cell_type": "code",
   "execution_count": null,
   "metadata": {},
   "outputs": [],
   "source": []
  },
  {
   "cell_type": "code",
   "execution_count": 377,
   "metadata": {},
   "outputs": [
    {
     "output_type": "execute_result",
     "data": {
      "text/plain": [
       "defaultdict(dict,\n",
       "            {'Playa Barra del Colorado': {'Info': True,\n",
       "              'Swimming': True,\n",
       "              'Surfing': True},\n",
       "             'Playa Bonita': {'Info': False,\n",
       "              'Swimming': True,\n",
       "              'Surfing': True,\n",
       "              'White_S': True},\n",
       "             'Playa Cahuita (Blanca)': {'Info': False,\n",
       "              'Swimming': True,\n",
       "              'Surfing': True,\n",
       "              'Snorkeling': True,\n",
       "              'White_S': True},\n",
       "             'Playa Chiquita': {'Info': True,\n",
       "              'Swimming': True,\n",
       "              'Snorkeling': True,\n",
       "              'Surfing': True,\n",
       "              'White_S': True},\n",
       "             'Punta Cocles': {'Info': False,\n",
       "              'Swimming': True,\n",
       "              'Surfing': True,\n",
       "              'White_S': True},\n",
       "             'Playa Gandoca': {'Info': False,\n",
       "              'Swimming': True,\n",
       "              'Surfing': True},\n",
       "             'Playa Manzanillo': {'Info': False,\n",
       "              'Swimming': True,\n",
       "              'Snorkeling': True,\n",
       "              'Surfing': True,\n",
       "              'White_S': True},\n",
       "             'Playa Moín': {'Info': False, 'Swimming': True, 'Surfing': True},\n",
       "             'Playa Negra (Puerto Viejo)': {'Info': False,\n",
       "              'Surfing': True,\n",
       "              'Swimming': True,\n",
       "              'White_S': True},\n",
       "             'Playa Negra (Cahuita)': {'Info': True,\n",
       "              'Swimming': True,\n",
       "              'Surfing': True,\n",
       "              'Snorkeling': True,\n",
       "              'White_S': True},\n",
       "             'Playa Pirikiki': {'Info': False,\n",
       "              'Swimming': True,\n",
       "              'Surfing': True},\n",
       "             'Playa Portete': {'Info': False,\n",
       "              'Swimming': True,\n",
       "              'Surfing': True},\n",
       "             'Playa Puerto Vargas': {'Info': False,\n",
       "              'Swimming': True,\n",
       "              'Surfing': True},\n",
       "             'Playas Tortuguero': {'Info': True,\n",
       "              'Swimming': True,\n",
       "              'Surfing': True},\n",
       "             'Playa Vizcaya': {'Info': False,\n",
       "              'Swimming': True,\n",
       "              'Surfing': True},\n",
       "             'Playa Westfalia': {'Info': False,\n",
       "              'Swimming': True,\n",
       "              'Surfing': True},\n",
       "             'Puerto Viejo de Talamanca': {'Info': True,\n",
       "              'Swimming': True,\n",
       "              'Surfing': True,\n",
       "              'Snorkeling': True},\n",
       "             'Punta Mona': {'Info': True, 'Swimming': True, 'Surfing': True},\n",
       "             'Punta Uva': {'Info': False,\n",
       "              'Swimming': True,\n",
       "              'Surfing': True,\n",
       "              'White_S': True},\n",
       "             'Playa Arbolito': {'Info': False,\n",
       "              'Swimming': True,\n",
       "              'Surfing': True},\n",
       "             'Playa Avellanas': {'Info': False,\n",
       "              'Surfing': True,\n",
       "              'Swimming': True,\n",
       "              'White_S': True},\n",
       "             'Playa Azul (Jurel)': {'Info': False,\n",
       "              'Swimming': True,\n",
       "              'Surfing': True},\n",
       "             'Playa Bahía Junquillal': {'Info': False,\n",
       "              'Swimming': True,\n",
       "              'Surfing': True,\n",
       "              'Snorkeling': True,\n",
       "              'White_S': True},\n",
       "             'Playa Barco Quebrado': {'Info': False,\n",
       "              'Swimming': True,\n",
       "              'Surfing': True},\n",
       "             'Playa Barrigona': {'Info': False,\n",
       "              'Swimming': True,\n",
       "              'Surfing': True,\n",
       "              'White_S': True},\n",
       "             'Playa Bejuco': {'Info': False,\n",
       "              'Swimming': True,\n",
       "              'Surfing': True},\n",
       "             'Playa Blanca (Santa Elena)': {'Info': False,\n",
       "              'Swimming': True,\n",
       "              'Surfing': True},\n",
       "             'Playa Blanca y Virador': {'Info': False,\n",
       "              'Swimming': True,\n",
       "              'Surfing': True,\n",
       "              'White_S': True},\n",
       "             'Playa Bongo': {'Info': False, 'Swimming': True, 'Surfing': True},\n",
       "             'Playa Brasilito': {'Info': False,\n",
       "              'Swimming': True,\n",
       "              'Surfing': True},\n",
       "             'Playa Buena Vista': {'Info': False,\n",
       "              'Swimming': True,\n",
       "              'Surfing': True,\n",
       "              'White_S': True},\n",
       "             'Playa Camaronal': {'Info': False,\n",
       "              'Swimming': True,\n",
       "              'Surfing': True},\n",
       "             'Playa Carbón': {'Info': False,\n",
       "              'Swimming': True,\n",
       "              'Surfing': True},\n",
       "             'Playa Carmen': {'Info': False,\n",
       "              'Swimming': True,\n",
       "              'Surfing': True,\n",
       "              'White_S': True},\n",
       "             'Playa Carrillo': {'Info': True,\n",
       "              'Swimming': True,\n",
       "              'Snorkeling': True,\n",
       "              'Surfing': True,\n",
       "              'White_S': True},\n",
       "             'Playa Cóncava': {'Info': False,\n",
       "              'Swimming': True,\n",
       "              'Surfing': True},\n",
       "             'Playa Conchal': {'Info': True,\n",
       "              'Swimming': True,\n",
       "              'Snorkeling': True,\n",
       "              'Surfing': True,\n",
       "              'White_S': True},\n",
       "             'Playa Coyote': {'Info': False,\n",
       "              'Swimming': True,\n",
       "              'Surfing': True,\n",
       "              'White_S': True},\n",
       "             'Playa Coyotera': {'Info': False,\n",
       "              'Swimming': True,\n",
       "              'Surfing': True,\n",
       "              'White_S': True},\n",
       "             'Playa Cuajiniquil': {'Info': False,\n",
       "              'Swimming': True,\n",
       "              'Surfing': True},\n",
       "             'Playa Culebra': {'Info': False,\n",
       "              'Swimming': True,\n",
       "              'Surfing': True},\n",
       "             'Playas del Coco': {'Info': True,\n",
       "              'Swimming': True,\n",
       "              'Surfing': True,\n",
       "              'Snorkeling': True},\n",
       "             'Playa Flamingo': {'Info': False,\n",
       "              'Swimming': True,\n",
       "              'Surfing': True,\n",
       "              'White_S': True},\n",
       "             'Playa Garza': {'Info': False,\n",
       "              'Swimming': True,\n",
       "              'Surfing': True,\n",
       "              'White_S': True},\n",
       "             'Playa Grande': {'Info': True,\n",
       "              'Swimming': True,\n",
       "              'Surfing': True,\n",
       "              'White_S': True},\n",
       "             'Playa Gringo': {'Info': False,\n",
       "              'Swimming': True,\n",
       "              'Surfing': True},\n",
       "             'Playa Guiones': {'Info': False,\n",
       "              'Swimming': True,\n",
       "              'Surfing': True},\n",
       "             'Playa Hermosa': {'Info': True,\n",
       "              'Swimming': True,\n",
       "              'Surfing': True,\n",
       "              'Snorkeling': True},\n",
       "             'Playa Iguanita': {'Info': False,\n",
       "              'Swimming': True,\n",
       "              'Surfing': True},\n",
       "             'Playa Islita y Corozalito': {'Info': False,\n",
       "              'Swimming': True,\n",
       "              'Surfing': True},\n",
       "             'Playa Jobo': {'Info': False,\n",
       "              'Swimming': True,\n",
       "              'Surfing': True,\n",
       "              'White_S': True},\n",
       "             'Playa Junquillal': {'Info': False,\n",
       "              'Surfing': True,\n",
       "              'Swimming': True,\n",
       "              'Snorkeling': True,\n",
       "              'White_S': True},\n",
       "             'Playa La Penca': {'Info': False,\n",
       "              'Swimming': True,\n",
       "              'Surfing': True},\n",
       "             'Playa Lagarto': {'Info': False,\n",
       "              'Swimming': True,\n",
       "              'Surfing': True},\n",
       "             'Playa Langosta': {'Info': False,\n",
       "              'Surfing': True,\n",
       "              'Swimming': True,\n",
       "              'White_S': True},\n",
       "             'Playa Mal País': {'Info': False,\n",
       "              'Swimming': True,\n",
       "              'Surfing': True},\n",
       "             'Playa Marbella': {'Info': False,\n",
       "              'Swimming': True,\n",
       "              'Surfing': True},\n",
       "             'Playa Manzanillo (Costa Rica)': {'Info': False,\n",
       "              'Swimming': True,\n",
       "              'Snorkeling': True,\n",
       "              'Surfing': True,\n",
       "              'White_S': True},\n",
       "             'Playa Nabos': {'Info': False, 'Swimming': True, 'Surfing': True},\n",
       "             'Playa Nacascolo': {'Info': False,\n",
       "              'Swimming': True,\n",
       "              'Surfing': True,\n",
       "              'White_S': True},\n",
       "             'Playa Nancite': {'Info': False,\n",
       "              'Swimming': True,\n",
       "              'Surfing': True},\n",
       "             'Playa Naranjo': {'Info': False,\n",
       "              'Swimming': True,\n",
       "              'Surfing': True},\n",
       "             'Playa Negra': {'Info': False,\n",
       "              'Surfing': True,\n",
       "              'Swimming': True,\n",
       "              'White_S': True},\n",
       "             'Playa Nosara': {'Info': True,\n",
       "              'Swimming': True,\n",
       "              'Surfing': True,\n",
       "              'White_S': True},\n",
       "             'Playa Nubes': {'Info': False, 'Swimming': True, 'Surfing': True},\n",
       "             'Playa Ocotal': {'Info': False,\n",
       "              'Swimming': True,\n",
       "              'Snorkeling': True,\n",
       "              'Surfing': True},\n",
       "             'Playa Ostional': {'Info': True,\n",
       "              'Swimming': True,\n",
       "              'Surfing': True},\n",
       "             'Playa Pan de Azúcar': {'Info': False,\n",
       "              'Swimming': True,\n",
       "              'Surfing': True},\n",
       "             'Playa Panamá (Chrorotega)': {'Info': False,\n",
       "              'Swimming': True,\n",
       "              'Snorkeling': True,\n",
       "              'Surfing': True},\n",
       "             'Playa Pelada': {'Info': False,\n",
       "              'Swimming': True,\n",
       "              'Surfing': True,\n",
       "              'White_S': True},\n",
       "             'Playa Pietra': {'Info': False,\n",
       "              'Swimming': True,\n",
       "              'Surfing': True},\n",
       "             'Playa Pitahaya': {'Info': False,\n",
       "              'Swimming': True,\n",
       "              'Surfing': True},\n",
       "             'Playa Pleito y San Juanillo': {'Info': False,\n",
       "              'Swimming': True,\n",
       "              'Snorkeling': True,\n",
       "              'Surfing': True,\n",
       "              'White_S': True},\n",
       "             'Playa Pochote (Papagayo)': {'Info': True,\n",
       "              'Swimming': True,\n",
       "              'Surfing': True,\n",
       "              'Snorkeling': True,\n",
       "              'White_S': True},\n",
       "             'Playa Potrero': {'Info': False,\n",
       "              'Swimming': True,\n",
       "              'Snorkeling': True,\n",
       "              'Surfing': True},\n",
       "             'Playa Real y Roble': {'Info': False,\n",
       "              'Swimming': True,\n",
       "              'Surfing': True,\n",
       "              'White_S': True},\n",
       "             'Playa Rajada': {'Info': False,\n",
       "              'Swimming': True,\n",
       "              'Surfing': True,\n",
       "              'White_S': True},\n",
       "             'Playa Sámara': {'Info': False,\n",
       "              'Swimming': True,\n",
       "              'Surfing': True,\n",
       "              'White_S': True},\n",
       "             'Playa San Miguel': {'Info': False,\n",
       "              'Surfing': True,\n",
       "              'Swimming': True},\n",
       "             'Playa Santa Teresa': {'Info': False,\n",
       "              'Swimming': True,\n",
       "              'Surfing': True,\n",
       "              'White_S': True},\n",
       "             'Playa Surco de Piedra': {'Info': False,\n",
       "              'Swimming': True,\n",
       "              'Surfing': True,\n",
       "              'White_S': True},\n",
       "             'Playa Prieta (Papagayo)': {'Info': False,\n",
       "              'Swimming': True,\n",
       "              'Surfing': True,\n",
       "              'Snorkeling': True,\n",
       "              'White_S': True},\n",
       "             'Playa Pochote (Salinas)': {'Info': False,\n",
       "              'Swimming': True,\n",
       "              'Surfing': True},\n",
       "             'Playa Potrero Grande': {'Info': False,\n",
       "              'Swimming': True,\n",
       "              'Snorkeling': True,\n",
       "              'Surfing': True,\n",
       "              'White_S': True},\n",
       "             'Playa Puerto Soley': {'Info': False,\n",
       "              'Surfing': True,\n",
       "              'Swimming': True,\n",
       "              'White_S': True},\n",
       "             'Playa Tamarindo': {'Info': True,\n",
       "              'Swimming': True,\n",
       "              'Surfing': True,\n",
       "              'White_S': True},\n",
       "             'Playa Ventanas': {'Info': False,\n",
       "              'Swimming': True,\n",
       "              'Surfing': True},\n",
       "             'Balnerario Puntarenas': {'Info': True,\n",
       "              'Swimming': True,\n",
       "              'Surfing': True},\n",
       "             'Playa Agujas': {'Info': False,\n",
       "              'Swimming': True,\n",
       "              'Surfing': True},\n",
       "             'Playa Bahía Drake': {'Info': False,\n",
       "              'Swimming': True,\n",
       "              'Surfing': True},\n",
       "             'Playa Ballena': {'Info': False,\n",
       "              'Swimming': True,\n",
       "              'Surfing': True,\n",
       "              'Snorkeling': True},\n",
       "             'Playa Barú': {'Info': False, 'Swimming': True, 'Surfing': True},\n",
       "             'Playa Blanca': {'Info': False,\n",
       "              'Swimming': True,\n",
       "              'Surfing': True},\n",
       "             'Playa Boca Vieja': {'Info': False,\n",
       "              'Swimming': True,\n",
       "              'Surfing': True},\n",
       "             'Playa Cabo Blanco': {'Info': True,\n",
       "              'Swimming': True,\n",
       "              'Surfing': True,\n",
       "              'White_S': True},\n",
       "             'Playa Cabuya': {'Info': False,\n",
       "              'Swimming': True,\n",
       "              'Surfing': True},\n",
       "             'Playa Cocalito': {'Info': False,\n",
       "              'Swimming': True,\n",
       "              'Surfing': True},\n",
       "             'Playa Cacao': {'Info': False, 'Swimming': True, 'Surfing': True},\n",
       "             'Playa Caldera': {'Info': True,\n",
       "              'Swimming': True,\n",
       "              'Surfing': True},\n",
       "             'Playa Carate': {'Info': False,\n",
       "              'Swimming': True,\n",
       "              'Surfing': True},\n",
       "             'Playa Curú': {'Info': False, 'Swimming': True, 'Surfing': True},\n",
       "             'Playa de Arco': {'Info': False,\n",
       "              'Swimming': True,\n",
       "              'Surfing': True},\n",
       "             'Playa de Doña Ana': {'Info': False,\n",
       "              'Swimming': True,\n",
       "              'Surfing': True},\n",
       "             'Playa Dominical': {'Info': True,\n",
       "              'Surfing': True,\n",
       "              'Swimming': True},\n",
       "             'Playa Dominicalito': {'Info': False,\n",
       "              'Surfing': True,\n",
       "              'Swimming': True},\n",
       "             'Playa Espadilla': {'Info': True,\n",
       "              'Swimming': True,\n",
       "              'Surfing': True,\n",
       "              'White_S': True},\n",
       "             'Playa Esterillos': {'Info': True,\n",
       "              'Swimming': True,\n",
       "              'Surfing': True},\n",
       "             'Playa Garza (Boca Brava)': {'Info': False,\n",
       "              'Swimming': True,\n",
       "              'Surfing': True,\n",
       "              'White_S': True},\n",
       "             'Playa Gigante': {'Info': False,\n",
       "              'Swimming': True,\n",
       "              'Surfing': True},\n",
       "             'Playa Herradura': {'Info': False,\n",
       "              'Swimming': True,\n",
       "              'Snorkeling': True,\n",
       "              'Surfing': True},\n",
       "             'Playa Isla Damas': {'Info': False,\n",
       "              'Swimming': True,\n",
       "              'Surfing': True},\n",
       "             'Playa Jacó': {'Info': True, 'Swimming': True, 'Surfing': True},\n",
       "             'Playa Llorona': {'Info': False,\n",
       "              'Swimming': True,\n",
       "              'Surfing': True},\n",
       "             'Playa Madrigal': {'Info': False,\n",
       "              'Swimming': True,\n",
       "              'Surfing': True},\n",
       "             'Playa Mata de Limón': {'Info': False,\n",
       "              'Swimming': True,\n",
       "              'Surfing': True,\n",
       "              'White_S': True},\n",
       "             'Playa Mantas': {'Info': False,\n",
       "              'Swimming': True,\n",
       "              'Surfing': True},\n",
       "             'Playas Manuel Antonio': {'Info': True,\n",
       "              'Swimming': True,\n",
       "              'Surfing': True,\n",
       "              'Snorkeling': True,\n",
       "              'White_S': True},\n",
       "             'Playa Matapalo': {'Info': False,\n",
       "              'Swimming': True,\n",
       "              'Surfing': True},\n",
       "             'Playa Montezuma': {'Info': False,\n",
       "              'Swimming': True,\n",
       "              'Snorkeling': True,\n",
       "              'Surfing': True,\n",
       "              'White_S': True},\n",
       "             'Playa Órganos': {'Info': False,\n",
       "              'Swimming': True,\n",
       "              'Surfing': True},\n",
       "             'Playa Palma': {'Info': False, 'Swimming': True, 'Surfing': True},\n",
       "             'Playa Palo Seco': {'Info': False,\n",
       "              'Swimming': True,\n",
       "              'Surfing': True},\n",
       "             'Playa Pavones': {'Info': False,\n",
       "              'Surfing': True,\n",
       "              'Swimming': True},\n",
       "             'Playa Piñuela': {'Info': False,\n",
       "              'Swimming': True,\n",
       "              'Surfing': True},\n",
       "             'Playa Platanares': {'Info': False,\n",
       "              'Swimming': True,\n",
       "              'Surfing': True},\n",
       "             'Playa Pógeres': {'Info': False,\n",
       "              'Swimming': True,\n",
       "              'Surfing': True},\n",
       "             'Playa Quizales': {'Info': False,\n",
       "              'Swimming': True,\n",
       "              'Surfing': True},\n",
       "             'Playa San Josecito (Golfito)': {'Info': False,\n",
       "              'Swimming': True,\n",
       "              'Surfing': True},\n",
       "             'Playa Savegre': {'Info': False,\n",
       "              'Swimming': True,\n",
       "              'Surfing': True},\n",
       "             'Playa Sombrero': {'Info': False,\n",
       "              'Swimming': True,\n",
       "              'Surfing': True},\n",
       "             'Playa Tamales': {'Info': False,\n",
       "              'Swimming': True,\n",
       "              'Surfing': True},\n",
       "             'Playa Tambor': {'Info': True, 'Swimming': True, 'Surfing': True},\n",
       "             'Playa Tárcoles': {'Info': False,\n",
       "              'Swimming': True,\n",
       "              'Surfing': True},\n",
       "             'Playa Tivives': {'Info': False,\n",
       "              'Swimming': True,\n",
       "              'Surfing': True},\n",
       "             'Playa Tortuga': {'Info': True,\n",
       "              'Swimming': True,\n",
       "              'Surfing': True,\n",
       "              'Snorkeling': True},\n",
       "             'Playa Uvita': {'Info': False,\n",
       "              'Swimming': True,\n",
       "              'Snorkeling': True,\n",
       "              'Surfing': True},\n",
       "             'Playa Zancudo': {'Info': False}})"
      ]
     },
     "metadata": {},
     "execution_count": 377
    }
   ],
   "source": [
    "playas2"
   ]
  },
  {
   "cell_type": "code",
   "execution_count": null,
   "metadata": {},
   "outputs": [],
   "source": []
  },
  {
   "cell_type": "code",
   "execution_count": null,
   "metadata": {},
   "outputs": [],
   "source": []
  },
  {
   "cell_type": "code",
   "execution_count": null,
   "metadata": {},
   "outputs": [],
   "source": []
  },
  {
   "cell_type": "code",
   "execution_count": null,
   "metadata": {},
   "outputs": [],
   "source": []
  },
  {
   "cell_type": "code",
   "execution_count": null,
   "metadata": {},
   "outputs": [],
   "source": []
  },
  {
   "cell_type": "code",
   "execution_count": null,
   "metadata": {},
   "outputs": [],
   "source": []
  },
  {
   "cell_type": "code",
   "execution_count": 54,
   "metadata": {},
   "outputs": [],
   "source": [
    "de = {}"
   ]
  },
  {
   "cell_type": "code",
   "execution_count": null,
   "metadata": {},
   "outputs": [],
   "source": []
  },
  {
   "cell_type": "code",
   "execution_count": null,
   "metadata": {},
   "outputs": [],
   "source": []
  },
  {
   "cell_type": "code",
   "execution_count": 75,
   "metadata": {},
   "outputs": [
    {
     "output_type": "stream",
     "name": "stdout",
     "text": [
      "Playa Zancudo, Ferrocarril del Sur, Kilometro 7, Florida, Golfito, Cantón Golfito, 60701, Costa Rica\n"
     ]
    }
   ],
   "source": [
    "#to practice let's find the location of the first place in the list\n",
    "\n",
    "address = 'Playa Zancudo, Costa Rica'\n",
    "\n",
    "geolocator = Nominatim(user_agent=\"cr_explorer\")\n",
    "location = geolocator.geocode(address)\n",
    "print(location)\n",
    "#latitude = location.latitude\n",
    "#longitude = location.longitude\n",
    "#print(type(latitude))\n",
    "#li.append(latitude)\n",
    "#print('The geograpical coordinate of New York City are {}, {}.'.format(latitude, longitude))"
   ]
  },
  {
   "cell_type": "code",
   "execution_count": 71,
   "metadata": {},
   "outputs": [
    {
     "output_type": "execute_result",
     "data": {
      "text/plain": [
       "137"
      ]
     },
     "metadata": {},
     "execution_count": 71
    }
   ],
   "source": [
    "beaches = playas2.keys()\n",
    "len(beaches)"
   ]
  },
  {
   "cell_type": "code",
   "execution_count": 75,
   "metadata": {},
   "outputs": [],
   "source": [
    "#"
   ]
  },
  {
   "cell_type": "code",
   "execution_count": 77,
   "metadata": {},
   "outputs": [
    {
     "output_type": "execute_result",
     "data": {
      "text/plain": [
       "['Playa Barra del Colorado',\n",
       " 'Playa Bonita',\n",
       " 'Playa Cahuita (Blanca)',\n",
       " 'Playa Chiquita',\n",
       " 'Punta Cocles',\n",
       " 'Playa Gandoca',\n",
       " 'Playa Manzanillo',\n",
       " 'Playa Moín',\n",
       " 'Playa Negra (Puerto Viejo)',\n",
       " 'Playa Negra (Cahuita)']"
      ]
     },
     "metadata": {},
     "execution_count": 77
    }
   ],
   "source": [
    "lista_beaches = list(beaches)\n",
    "lista_beaches[:10]"
   ]
  },
  {
   "cell_type": "code",
   "execution_count": 78,
   "metadata": {},
   "outputs": [
    {
     "output_type": "stream",
     "name": "stdout",
     "text": [
      "Playa Barra del Colorado, Costa Rica\n",
      "Playa Bonita, Costa Rica\n",
      "Playa Cahuita (Blanca), Costa Rica\n",
      "Playa Chiquita, Costa Rica\n",
      "Punta Cocles, Costa Rica\n",
      "Playa Gandoca, Costa Rica\n",
      "Playa Manzanillo, Costa Rica\n",
      "Playa Moín, Costa Rica\n",
      "Playa Negra (Puerto Viejo), Costa Rica\n",
      "Playa Negra (Cahuita), Costa Rica\n",
      "Playa Pirikiki, Costa Rica\n",
      "Playa Portete, Costa Rica\n",
      "Playa Puerto Vargas, Costa Rica\n",
      "Playas Tortuguero, Costa Rica\n",
      "Playa Vizcaya, Costa Rica\n",
      "Playa Westfalia, Costa Rica\n",
      "Puerto Viejo de Talamanca, Costa Rica\n",
      "Punta Mona, Costa Rica\n",
      "Punta Uva, Costa Rica\n",
      "Playa Arbolito, Costa Rica\n",
      "Playa Avellanas, Costa Rica\n",
      "Playa Azul (Jurel), Costa Rica\n",
      "Playa Bahía Junquillal, Costa Rica\n",
      "Playa Barco Quebrado, Costa Rica\n",
      "Playa Barrigona, Costa Rica\n",
      "Playa Bejuco, Costa Rica\n",
      "Playa Blanca (Santa Elena), Costa Rica\n",
      "Playa Blanca y Virador, Costa Rica\n",
      "Playa Bongo, Costa Rica\n",
      "Playa Brasilito, Costa Rica\n",
      "Playa Buena Vista, Costa Rica\n",
      "Playa Camaronal, Costa Rica\n",
      "Playa Carbón, Costa Rica\n",
      "Playa Carmen, Costa Rica\n",
      "Playa Carrillo, Costa Rica\n",
      "Playa Cóncava, Costa Rica\n",
      "Playa Conchal, Costa Rica\n",
      "Playa Coyote, Costa Rica\n",
      "Playa Coyotera, Costa Rica\n",
      "Playa Cuajiniquil, Costa Rica\n",
      "Playa Culebra, Costa Rica\n",
      "Playas del Coco, Costa Rica\n",
      "Playa Flamingo, Costa Rica\n",
      "Playa Garza, Costa Rica\n",
      "Playa Grande, Costa Rica\n",
      "Playa Gringo, Costa Rica\n",
      "Playa Guiones, Costa Rica\n",
      "Playa Hermosa, Costa Rica\n",
      "Playa Iguanita, Costa Rica\n",
      "Playa Islita y Corozalito, Costa Rica\n",
      "Playa Jobo, Costa Rica\n",
      "Playa Junquillal, Costa Rica\n",
      "Playa La Penca, Costa Rica\n",
      "Playa Lagarto, Costa Rica\n",
      "Playa Langosta, Costa Rica\n",
      "Playa Mal País, Costa Rica\n",
      "Playa Marbella, Costa Rica\n",
      "Playa Manzanillo (Costa Rica), Costa Rica\n",
      "Playa Nabos, Costa Rica\n",
      "Playa Nacascolo, Costa Rica\n",
      "Playa Nancite, Costa Rica\n",
      "Playa Naranjo, Costa Rica\n",
      "Playa Negra, Costa Rica\n",
      "Playa Nosara, Costa Rica\n",
      "Playa Nubes, Costa Rica\n",
      "Playa Ocotal, Costa Rica\n",
      "Playa Ostional, Costa Rica\n",
      "Playa Pan de Azúcar, Costa Rica\n",
      "Playa Panamá (Chrorotega), Costa Rica\n",
      "Playa Pelada, Costa Rica\n"
     ]
    }
   ],
   "source": [
    "latitudes = []\n",
    "longitudes = []\n",
    "\n",
    "for beach in lista_beaches[:70]:\n",
    "    geolocator = Nominatim(user_agent=\"cr_explorer_js\")\n",
    "    address = beach+\", Costa Rica\"\n",
    "    print(address)\n",
    "    #print(type(address))\n",
    "\n",
    "    location = geolocator.geocode(address)\n",
    "\n",
    "    if location == None:\n",
    "        latitudes.append(None)\n",
    "        longitudes.append(None)\n",
    "        \n",
    "    else:\n",
    "        latitudes.append(location.latitude)\n",
    "        longitudes.append(location.longitude)"
   ]
  },
  {
   "cell_type": "code",
   "execution_count": 80,
   "metadata": {},
   "outputs": [
    {
     "output_type": "execute_result",
     "data": {
      "text/plain": [
       "12"
      ]
     },
     "metadata": {},
     "execution_count": 80
    }
   ],
   "source": [
    "latitudes.count(None)"
   ]
  },
  {
   "cell_type": "code",
   "execution_count": 81,
   "metadata": {},
   "outputs": [
    {
     "output_type": "execute_result",
     "data": {
      "text/plain": [
       "12"
      ]
     },
     "metadata": {},
     "execution_count": 81
    }
   ],
   "source": [
    "longitudes.count(None)"
   ]
  },
  {
   "cell_type": "code",
   "execution_count": 82,
   "metadata": {},
   "outputs": [
    {
     "output_type": "stream",
     "name": "stdout",
     "text": [
      "Playa Pietra, Costa Rica\n",
      "Playa Pitahaya, Costa Rica\n",
      "Playa Pleito y San Juanillo, Costa Rica\n",
      "Playa Pochote (Papagayo), Costa Rica\n",
      "Playa Potrero, Costa Rica\n",
      "Playa Real y Roble, Costa Rica\n",
      "Playa Rajada, Costa Rica\n",
      "Playa Sámara, Costa Rica\n",
      "Playa San Miguel, Costa Rica\n",
      "Playa Santa Teresa, Costa Rica\n",
      "Playa Surco de Piedra, Costa Rica\n",
      "Playa Prieta (Papagayo), Costa Rica\n",
      "Playa Pochote (Salinas), Costa Rica\n",
      "Playa Potrero Grande, Costa Rica\n",
      "Playa Puerto Soley, Costa Rica\n",
      "Playa Tamarindo, Costa Rica\n",
      "Playa Ventanas, Costa Rica\n",
      "Balnerario Puntarenas, Costa Rica\n",
      "Playa Agujas, Costa Rica\n",
      "Playa Bahía Drake, Costa Rica\n",
      "Playa Ballena, Costa Rica\n",
      "Playa Barú, Costa Rica\n",
      "Playa Blanca, Costa Rica\n",
      "Playa Boca Vieja, Costa Rica\n",
      "Playa Cabo Blanco, Costa Rica\n",
      "Playa Cabuya, Costa Rica\n",
      "Playa Cocalito, Costa Rica\n",
      "Playa Cacao, Costa Rica\n",
      "Playa Caldera, Costa Rica\n",
      "Playa Carate, Costa Rica\n",
      "Playa Curú, Costa Rica\n",
      "Playa de Arco, Costa Rica\n",
      "Playa de Doña Ana, Costa Rica\n",
      "Playa Dominical, Costa Rica\n",
      "Playa Dominicalito, Costa Rica\n",
      "Playa Espadilla, Costa Rica\n",
      "Playa Esterillos, Costa Rica\n",
      "Playa Garza (Boca Brava), Costa Rica\n",
      "Playa Gigante, Costa Rica\n",
      "Playa Herradura, Costa Rica\n",
      "Playa Isla Damas, Costa Rica\n",
      "Playa Jacó, Costa Rica\n",
      "Playa Llorona, Costa Rica\n",
      "Playa Madrigal, Costa Rica\n",
      "Playa Mata de Limón, Costa Rica\n",
      "Playa Mantas, Costa Rica\n",
      "Playas Manuel Antonio, Costa Rica\n",
      "Playa Matapalo, Costa Rica\n",
      "Playa Montezuma, Costa Rica\n",
      "Playa Órganos, Costa Rica\n",
      "Playa Palma, Costa Rica\n",
      "Playa Palo Seco, Costa Rica\n",
      "Playa Pavones, Costa Rica\n",
      "Playa Piñuela, Costa Rica\n",
      "Playa Platanares, Costa Rica\n",
      "Playa Pógeres, Costa Rica\n",
      "Playa Quizales, Costa Rica\n",
      "Playa San Josecito (Golfito), Costa Rica\n",
      "Playa Savegre, Costa Rica\n",
      "Playa Sombrero, Costa Rica\n",
      "Playa Tamales, Costa Rica\n",
      "Playa Tambor, Costa Rica\n",
      "Playa Tárcoles, Costa Rica\n",
      "Playa Tivives, Costa Rica\n",
      "Playa Tortuga, Costa Rica\n",
      "Playa Uvita, Costa Rica\n",
      "Playa Zancudo, Costa Rica\n"
     ]
    }
   ],
   "source": [
    "for beach in lista_beaches[70:]:\n",
    "    geolocator = Nominatim(user_agent=\"cr_explorer_js\")\n",
    "    address = beach+\", Costa Rica\"\n",
    "    print(address)\n",
    "    #print(type(address))\n",
    "\n",
    "    location = geolocator.geocode(address)\n",
    "\n",
    "    if location == None:\n",
    "        latitudes.append(None)\n",
    "        longitudes.append(None)\n",
    "        \n",
    "    else:\n",
    "        latitudes.append(location.latitude)\n",
    "        longitudes.append(location.longitude)"
   ]
  },
  {
   "cell_type": "code",
   "execution_count": 83,
   "metadata": {},
   "outputs": [
    {
     "output_type": "stream",
     "name": "stdout",
     "text": [
      "137\n24\n24\n"
     ]
    }
   ],
   "source": [
    "print(len(latitudes))\n",
    "print(latitudes.count(None))\n",
    "print(longitudes.count(None))"
   ]
  },
  {
   "cell_type": "code",
   "execution_count": null,
   "metadata": {},
   "outputs": [],
   "source": []
  },
  {
   "cell_type": "code",
   "execution_count": null,
   "metadata": {},
   "outputs": [],
   "source": []
  }
 ]
}