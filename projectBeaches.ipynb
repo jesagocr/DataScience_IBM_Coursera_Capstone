{
 "metadata": {
  "language_info": {
   "codemirror_mode": {
    "name": "ipython",
    "version": 3
   },
   "file_extension": ".py",
   "mimetype": "text/x-python",
   "name": "python",
   "nbconvert_exporter": "python",
   "pygments_lexer": "ipython3",
   "version": "3.8.3-final"
  },
  "orig_nbformat": 2,
  "kernelspec": {
   "name": "python38332bitc997c56da9a74e2babed0b86df49b304",
   "display_name": "Python 3.8.3 32-bit"
  }
 },
 "nbformat": 4,
 "nbformat_minor": 2,
 "cells": [
  {
   "source": [
    "## Author: Jesús Salazar Gómez, Costa Rica\n",
    "## Course: Applied Data Science Capstone, week 4 and 5 (project), Coursera\n",
    "\n",
    "## LinkedIn: https://www.linkedin.com/in/jesagocr/\n",
    "## GitHub: https://github.com/jesagocr"
   ],
   "cell_type": "markdown",
   "metadata": {}
  },
  {
   "cell_type": "code",
   "execution_count": 5,
   "metadata": {},
   "outputs": [
    {
     "output_type": "stream",
     "name": "stderr",
     "text": [
      "WARNING: You are using pip version 20.2.3; however, version 20.2.4 is available.\n",
      "You should consider upgrading via the 'c:\\users\\jesag\\appdata\\local\\programs\\python\\python38-32\\python.exe -m pip install --upgrade pip' command.\n",
      "Collecting geopy\n",
      "  Downloading geopy-2.0.0-py3-none-any.whl (111 kB)\n",
      "Collecting geographiclib<2,>=1.49\n",
      "  Downloading geographiclib-1.50-py3-none-any.whl (38 kB)\n",
      "Installing collected packages: geographiclib, geopy\n",
      "Successfully installed geographiclib-1.50 geopy-2.0.0\n",
      "WARNING: You are using pip version 20.2.3; however, version 20.2.4 is available.\n",
      "You should consider upgrading via the 'c:\\users\\jesag\\appdata\\local\\programs\\python\\python38-32\\python.exe -m pip install --upgrade pip' command.\n",
      "Collecting folium\n",
      "  Downloading folium-0.11.0-py2.py3-none-any.whl (93 kB)\n",
      "Collecting branca>=0.3.0\n",
      "  Downloading branca-0.4.1-py3-none-any.whl (24 kB)\n",
      "Requirement already satisfied: requests in c:\\users\\jesag\\appdata\\local\\programs\\python\\python38-32\\lib\\site-packages (from folium) (2.24.0)\n",
      "Requirement already satisfied: jinja2>=2.9 in c:\\users\\jesag\\appdata\\roaming\\python\\python38\\site-packages (from folium) (2.11.2)\n",
      "Requirement already satisfied: numpy in c:\\users\\jesag\\appdata\\local\\programs\\python\\python38-32\\lib\\site-packages (from folium) (1.18.5)\n",
      "Requirement already satisfied: certifi>=2017.4.17 in c:\\users\\jesag\\appdata\\local\\programs\\python\\python38-32\\lib\\site-packages (from requests->folium) (2020.6.20)\n",
      "Requirement already satisfied: urllib3!=1.25.0,!=1.25.1,<1.26,>=1.21.1 in c:\\users\\jesag\\appdata\\local\\programs\\python\\python38-32\\lib\\site-packages (from requests->folium) (1.25.10)\n",
      "Requirement already satisfied: chardet<4,>=3.0.2 in c:\\users\\jesag\\appdata\\local\\programs\\python\\python38-32\\lib\\site-packages (from requests->folium) (3.0.4)\n",
      "Requirement already satisfied: idna<3,>=2.5 in c:\\users\\jesag\\appdata\\local\\programs\\python\\python38-32\\lib\\site-packages (from requests->folium) (2.10)\n",
      "Requirement already satisfied: MarkupSafe>=0.23 in c:\\users\\jesag\\appdata\\roaming\\python\\python38\\site-packages (from jinja2>=2.9->folium) (1.1.1)\n",
      "Installing collected packages: branca, folium\n",
      "Successfully installed branca-0.4.1 folium-0.11.0\n",
      "Libraries imported.\n"
     ]
    }
   ],
   "source": [
    "# to read the data and do wrangling\n",
    "from urllib.request import urlopen\n",
    "from collections import defaultdict\n",
    "\n",
    "\n",
    "# to work with the api\n",
    "import json\n",
    "import requests\n",
    "import pandas as pd\n",
    "\n",
    "\n",
    "# to work with the geolocalization data\n",
    "!pip install geopy \n",
    "from geopy.geocoders import Nominatim # convert an address into latitude and longitude values\n",
    "\n",
    "# import k-means from clustering stage\n",
    "from sklearn.cluster import KMeans\n",
    "\n",
    "!pip install folium\n",
    "import folium # map rendering library\n",
    "\n",
    "print('Libraries imported.')"
   ]
  },
  {
   "cell_type": "code",
   "execution_count": 1,
   "metadata": {},
   "outputs": [
    {
     "output_type": "stream",
     "name": "stdout",
     "text": [
      "Libraries imported.\n"
     ]
    }
   ],
   "source": [
    "# to read the data and do wrangling\n",
    "from urllib.request import urlopen\n",
    "from collections import defaultdict\n",
    "\n",
    "# to work with the api\n",
    "import json\n",
    "import requests\n",
    "import pandas as pd\n",
    "\n",
    "# to work with the geolocalization data\n",
    "#!pip install geopy \n",
    "from geopy.geocoders import Nominatim # convert an address into latitude and longitude values\n",
    "\n",
    "# import k-means from clustering stage\n",
    "from sklearn.cluster import KMeans\n",
    "\n",
    "#!pip install folium\n",
    "import folium # map rendering library\n",
    "\n",
    "from bs4 import BeautifulSoup\n",
    "\n",
    "print('Libraries imported.')"
   ]
  },
  {
   "cell_type": "code",
   "execution_count": 2,
   "metadata": {},
   "outputs": [],
   "source": [
    "# reading the url\n",
    "url = urlopen(\"https://es.wikipedia.org/wiki/Anexo:Playas_de_Costa_Rica\")"
   ]
  },
  {
   "cell_type": "code",
   "execution_count": 3,
   "metadata": {
    "tags": []
   },
   "outputs": [
    {
     "output_type": "stream",
     "name": "stdout",
     "text": [
      "<class 'str'>\n"
     ]
    }
   ],
   "source": [
    "content = str(url.read(),encoding='utf-8')\n",
    "print(type(content))"
   ]
  },
  {
   "cell_type": "code",
   "execution_count": 4,
   "metadata": {
    "tags": []
   },
   "outputs": [
    {
     "output_type": "stream",
     "name": "stdout",
     "text": [
      "ipedia/commons/thumb/8/88/Cahuita.jpg/440px-Cahuita.jpg 2x\" data-file-width=\"1600\" data-file-height=\"1082\" /></a>  <div class=\"thumbcaption\"><div class=\"magnify\"><a href=\"/wiki/Archivo:Cahuita.jpg\" class=\"internal\" title=\"Aumentar\"></a></div>Playa Blanca en Cahuita.</div></div></div>\n<ul><li><a href=\"/wiki/Refugio_Nacional_de_Fauna_Silvestre_Barra_del_Colorado\" class=\"mw-redirect\" title=\"Refugio Nacional de Fauna Silvestre Barra del Colorado\">Playa Barra del Colorado</a></li>\n<li><a href=\"/w/index.php?title=Playa_Bonita_(Lim%C3%B3n)&amp;action=edit&amp;redlink=1\" class=\"new\" title=\"Playa Bonita (Limón) (aún no redactado)\">Playa Bonita</a></li>\n<li><a href=\"/w/index.php?title=Playa_Cahuita_(Blanca)&amp;action=edit&amp;redlink=1\" class=\"new\" title=\"Playa Cahuita (Blanca) (aún no redactado)\">Playa Cahuita (Blanca)</a></li>\n<li><a href=\"/wiki/Playa_Chiquita\" title=\"Playa Chiquita\">Playa Chiquita</a></li>\n<li><a href=\"/w/index.php?title=Punta_Cocles&amp;action=edit&amp;redlink=1\" class=\"new\" title=\"Punta Cocles (aún no redactado)\">Punta Cocles</a></li>\n<li><a href=\"/w/index.php?title=Playa_Gandoca&amp;action=edit&amp;redlink=1\" class=\"new\" title=\"Playa Gandoca (aún no redactado)\">Playa Gandoca</a></li>\n<li><a href=\"/w/index.php?title=Playa_Manzanillo_(Lim%C3%B3n)&amp;action=edit&amp;redlink=1\" class=\"new\" title=\"Playa Manzanillo (Limón) (aún no redactado)\">Playa Manzanillo</a></li>\n<li><a href=\"/w/index.php?title=Playa_Mo%C3%ADn&amp;action=edit&amp;redlink=1\" class=\"new\" title=\"Playa Moín (aún no redactado)\">Playa Moín</a></li>\n<li><a href=\"/w/index.php?title=Playa_Negra_(Puerto_Viejo)&amp;action=edit&amp;redlink=1\" class=\"new\" title=\"Playa Negra (Puerto Viejo) (aún no redactado)\">Playa Negra (Puerto Viejo)</a></li>\n<li><a href=\"/wiki/Parque_nacional_Cahuita\" title=\"Parque nacional Cahuita\">Playa Negra (Cahuita)</a></li>\n<li><a href=\"/w/index.php?title=Playa_Pirikiki&amp;action=edit&amp;redlink=1\" class=\"new\" title=\"Playa Pirikiki (aún no redactado)\">Playa Pirikiki</a></\n"
     ]
    }
   ],
   "source": [
    "print(content[8000:10000]) # the info I need has: <li><a href=\" "
   ]
  },
  {
   "cell_type": "code",
   "execution_count": 5,
   "metadata": {},
   "outputs": [],
   "source": [
    "data = content.split('<li><a href=\"')"
   ]
  },
  {
   "cell_type": "code",
   "execution_count": 7,
   "metadata": {},
   "outputs": [
    {
     "output_type": "stream",
     "name": "stdout",
     "text": [
      "/wiki/Refugio_Nacional_de_Fauna_Silvestre_Barra_del_Colorado\" class=\"mw-redirect\" title=\"Refugio Nacional de Fauna Silvestre Barra del Colorado\">Playa Barra del Colorado</a></li>\n\n/w/index.php?title=Playa_Bonita_(Lim%C3%B3n)&amp;action=edit&amp;redlink=1\" class=\"new\" title=\"Playa Bonita (Limón) (aún no redactado)\">Playa Bonita</a></li>\n\n/w/index.php?title=Playa_Cahuita_(Blanca)&amp;action=edit&amp;redlink=1\" class=\"new\" title=\"Playa Cahuita (Blanca) (aún no redactado)\">Playa Cahuita (Blanca)</a></li>\n\n/wiki/Playa_Chiquita\" title=\"Playa Chiquita\">Playa Chiquita</a></li>\n\n/w/index.php?title=Punta_Cocles&amp;action=edit&amp;redlink=1\" class=\"new\" title=\"Punta Cocles (aún no redactado)\">Punta Cocles</a></li>\n\n/w/index.php?title=Playa_Gandoca&amp;action=edit&amp;redlink=1\" class=\"new\" title=\"Playa Gandoca (aún no redactado)\">Playa Gandoca</a></li>\n\n/w/index.php?title=Playa_Manzanillo_(Lim%C3%B3n)&amp;action=edit&amp;redlink=1\" class=\"new\" title=\"Playa Manzanillo (Limón) (aún no redactado)\">Playa Manzanillo</a></li>\n\n/w/index.php?title=Playa_Mo%C3%ADn&amp;action=edit&amp;redlink=1\" class=\"new\" title=\"Playa Moín (aún no redactado)\">Playa Moín</a></li>\n\n/w/index.php?title=Playa_Negra_(Puerto_Viejo)&amp;action=edit&amp;redlink=1\" class=\"new\" title=\"Playa Negra (Puerto Viejo) (aún no redactado)\">Playa Negra (Puerto Viejo)</a></li>\n\n"
     ]
    }
   ],
   "source": [
    "### need to understand the data\n",
    "for d in data[:10]:\n",
    "    print(d)\n",
    "\n",
    "## the list of beaches start at index 1"
   ]
  },
  {
   "cell_type": "code",
   "execution_count": 8,
   "metadata": {
    "tags": []
   },
   "outputs": [],
   "source": [
    "# a dict with info about which places have info (I guess because are popular) and which not is a good idea.\n",
    "# Also, I am going to add more categories to the dataset so a dict is perfect\n",
    "\n",
    "playas2 = defaultdict(dict)\n",
    "\n",
    "for d in data[1:-1]:\n",
    "    inicio = (d.find('\">')+2)\n",
    "    final = d.find('</')\n",
    "    name = d[inicio:final]\n",
    "\n",
    "    # it seems the most popular beaches are complete but the others are \"aún no redactado\"\n",
    "    ini = d.find('aún no')\n",
    "\n",
    "    if ini != -1:   # if \"aún no redactado\" = no info of the beach, it is possible is not a popular beach\n",
    "        #playas2[name] = False\n",
    "        playas2[name]['Info'] = False\n",
    "\n",
    "    else:\n",
    "        #playas2[name] = True\n",
    "        playas2[name]['Info'] = True"
   ]
  },
  {
   "cell_type": "code",
   "execution_count": 9,
   "metadata": {},
   "outputs": [
    {
     "output_type": "execute_result",
     "data": {
      "text/plain": [
       "defaultdict(dict,\n",
       "            {'Playa Barra del Colorado': {'Info': True},\n",
       "             'Playa Bonita': {'Info': False},\n",
       "             'Playa Cahuita (Blanca)': {'Info': False},\n",
       "             'Playa Chiquita': {'Info': True},\n",
       "             'Punta Cocles': {'Info': False},\n",
       "             'Playa Gandoca': {'Info': False},\n",
       "             'Playa Manzanillo': {'Info': False},\n",
       "             'Playa Moín': {'Info': False},\n",
       "             'Playa Negra (Puerto Viejo)': {'Info': False},\n",
       "             'Playa Negra (Cahuita)': {'Info': True},\n",
       "             'Playa Pirikiki': {'Info': False},\n",
       "             'Playa Portete': {'Info': False},\n",
       "             'Playa Puerto Vargas': {'Info': False},\n",
       "             'Playas Tortuguero': {'Info': True},\n",
       "             'Playa Vizcaya': {'Info': False},\n",
       "             'Playa Westfalia': {'Info': False},\n",
       "             'Puerto Viejo de Talamanca': {'Info': True},\n",
       "             'Punta Mona': {'Info': True},\n",
       "             'Punta Uva': {'Info': False},\n",
       "             'Playa Arbolito': {'Info': False},\n",
       "             'Playa Avellanas': {'Info': False},\n",
       "             'Playa Azul (Jurel)': {'Info': False},\n",
       "             'Playa Bahía Junquillal': {'Info': False},\n",
       "             'Playa Barco Quebrado': {'Info': False},\n",
       "             'Playa Barrigona': {'Info': False},\n",
       "             'Playa Bejuco': {'Info': False},\n",
       "             'Playa Blanca (Santa Elena)': {'Info': False},\n",
       "             'Playa Blanca y Virador': {'Info': False},\n",
       "             'Playa Bongo': {'Info': False},\n",
       "             'Playa Brasilito': {'Info': False},\n",
       "             'Playa Buena Vista': {'Info': False},\n",
       "             'Playa Camaronal': {'Info': False},\n",
       "             'Playa Carbón': {'Info': False},\n",
       "             'Playa Carmen': {'Info': False},\n",
       "             'Playa Carrillo': {'Info': True},\n",
       "             'Playa Cóncava': {'Info': False},\n",
       "             'Playa Conchal': {'Info': True},\n",
       "             'Playa Coyote': {'Info': False},\n",
       "             'Playa Coyotera': {'Info': False},\n",
       "             'Playa Cuajiniquil': {'Info': False},\n",
       "             'Playa Culebra': {'Info': False},\n",
       "             'Playas del Coco': {'Info': True},\n",
       "             'Playa Flamingo': {'Info': False},\n",
       "             'Playa Garza': {'Info': False},\n",
       "             'Playa Grande': {'Info': True},\n",
       "             'Playa Gringo': {'Info': False},\n",
       "             'Playa Guiones': {'Info': False},\n",
       "             'Playa Hermosa': {'Info': True},\n",
       "             'Playa Iguanita': {'Info': False},\n",
       "             'Playa Islita y Corozalito': {'Info': False},\n",
       "             'Playa Jobo': {'Info': False},\n",
       "             'Playa Junquillal': {'Info': False},\n",
       "             'Playa La Penca': {'Info': False},\n",
       "             'Playa Lagarto': {'Info': False},\n",
       "             'Playa Langosta': {'Info': False},\n",
       "             'Playa Mal País': {'Info': False},\n",
       "             'Playa Marbella': {'Info': False},\n",
       "             'Playa Manzanillo (Costa Rica)': {'Info': False},\n",
       "             'Playa Nabos': {'Info': False},\n",
       "             'Playa Nacascolo': {'Info': False},\n",
       "             'Playa Nancite': {'Info': False},\n",
       "             'Playa Naranjo': {'Info': False},\n",
       "             'Playa Negra': {'Info': False},\n",
       "             'Playa Nosara': {'Info': True},\n",
       "             'Playa Nubes': {'Info': False},\n",
       "             'Playa Ocotal': {'Info': False},\n",
       "             'Playa Ostional': {'Info': True},\n",
       "             'Playa Pan de Azúcar': {'Info': False},\n",
       "             'Playa Panamá (Chrorotega)': {'Info': False},\n",
       "             'Playa Pelada': {'Info': False},\n",
       "             'Playa Pietra': {'Info': False},\n",
       "             'Playa Pitahaya': {'Info': False},\n",
       "             'Playa Pleito y San Juanillo': {'Info': False},\n",
       "             'Playa Pochote (Papagayo)': {'Info': True},\n",
       "             'Playa Potrero': {'Info': False},\n",
       "             'Playa Real y Roble': {'Info': False},\n",
       "             'Playa Rajada': {'Info': False},\n",
       "             'Playa Sámara': {'Info': False},\n",
       "             'Playa San Miguel': {'Info': False},\n",
       "             'Playa Santa Teresa': {'Info': False},\n",
       "             'Playa Surco de Piedra': {'Info': False},\n",
       "             'Playa Prieta (Papagayo)': {'Info': False},\n",
       "             'Playa Pochote (Salinas)': {'Info': False},\n",
       "             'Playa Potrero Grande': {'Info': False},\n",
       "             'Playa Puerto Soley': {'Info': False},\n",
       "             'Playa Tamarindo': {'Info': True},\n",
       "             'Playa Ventanas': {'Info': False},\n",
       "             'Balnerario Puntarenas': {'Info': True},\n",
       "             'Playa Agujas': {'Info': False},\n",
       "             'Playa Bahía Drake': {'Info': False},\n",
       "             'Playa Ballena': {'Info': False},\n",
       "             'Playa Barú': {'Info': False},\n",
       "             'Playa Blanca': {'Info': False},\n",
       "             'Playa Boca Vieja': {'Info': False},\n",
       "             'Playa Cabo Blanco': {'Info': True},\n",
       "             'Playa Cabuya': {'Info': False},\n",
       "             'Playa Cocalito': {'Info': False},\n",
       "             'Playa Cacao': {'Info': False},\n",
       "             'Playa Caldera': {'Info': True},\n",
       "             'Playa Carate': {'Info': False},\n",
       "             'Playa Curú': {'Info': False},\n",
       "             'Playa de Arco': {'Info': False},\n",
       "             'Playa de Doña Ana': {'Info': False},\n",
       "             'Playa Dominical': {'Info': True},\n",
       "             'Playa Dominicalito': {'Info': False},\n",
       "             'Playa Espadilla': {'Info': True},\n",
       "             'Playa Esterillos': {'Info': True},\n",
       "             'Playa Garza (Boca Brava)': {'Info': False},\n",
       "             'Playa Gigante': {'Info': False},\n",
       "             'Playa Herradura': {'Info': False},\n",
       "             'Playa Isla Damas': {'Info': False},\n",
       "             'Playa Jacó': {'Info': True},\n",
       "             'Playa Llorona': {'Info': False},\n",
       "             'Playa Madrigal': {'Info': False},\n",
       "             'Playa Mata de Limón': {'Info': False},\n",
       "             'Playa Mantas': {'Info': False},\n",
       "             'Playas Manuel Antonio': {'Info': True},\n",
       "             'Playa Matapalo': {'Info': False},\n",
       "             'Playa Montezuma': {'Info': False},\n",
       "             'Playa Órganos': {'Info': False},\n",
       "             'Playa Palma': {'Info': False},\n",
       "             'Playa Palo Seco': {'Info': False},\n",
       "             'Playa Pavones': {'Info': False},\n",
       "             'Playa Piñuela': {'Info': False},\n",
       "             'Playa Platanares': {'Info': False},\n",
       "             'Playa Pógeres': {'Info': False},\n",
       "             'Playa Quizales': {'Info': False},\n",
       "             'Playa San Josecito (Golfito)': {'Info': False},\n",
       "             'Playa Savegre': {'Info': False},\n",
       "             'Playa Sombrero': {'Info': False},\n",
       "             'Playa Tamales': {'Info': False},\n",
       "             'Playa Tambor': {'Info': True},\n",
       "             'Playa Tárcoles': {'Info': False},\n",
       "             'Playa Tivives': {'Info': False},\n",
       "             'Playa Tortuga': {'Info': True},\n",
       "             'Playa Uvita': {'Info': False},\n",
       "             'Playa Zancudo': {'Info': False}})"
      ]
     },
     "metadata": {},
     "execution_count": 9
    }
   ],
   "source": [
    "# also this dict have more beaches with punta or puerto that I did not count before\n",
    "playas2"
   ]
  },
  {
   "cell_type": "code",
   "execution_count": 10,
   "metadata": {},
   "outputs": [
    {
     "output_type": "execute_result",
     "data": {
      "text/plain": [
       "137"
      ]
     },
     "metadata": {},
     "execution_count": 10
    }
   ],
   "source": [
    "len(playas2.keys())"
   ]
  },
  {
   "source": [
    "### A new web with more info to add categories\n",
    "### There are 3 categories of beaches, use it to separete the places"
   ],
   "cell_type": "markdown",
   "metadata": {}
  },
  {
   "cell_type": "code",
   "execution_count": 11,
   "metadata": {},
   "outputs": [],
   "source": [
    "#source = requests.get(\"https://www.govisitcostarica.co.cr/travelInfo/beaches/beaches-list.asp\").text"
   ]
  },
  {
   "cell_type": "code",
   "execution_count": 12,
   "metadata": {
    "tags": []
   },
   "outputs": [],
   "source": [
    "#soup2 = BeautifulSoup(source, 'html.parser')"
   ]
  },
  {
   "cell_type": "code",
   "execution_count": 30,
   "metadata": {
    "tags": []
   },
   "outputs": [],
   "source": [
    "#for item in soup2.find_all('<div class=\"pageListContentRow\">'): # I need this but I need more practice with BS, it seems it just \n",
    "    #print(item.text)                                            # works with tags and not other text\n",
    "                                                                # better use another approach"
   ]
  },
  {
   "cell_type": "code",
   "execution_count": 13,
   "metadata": {},
   "outputs": [],
   "source": [
    "#like this:\n",
    "url2 = urlopen(\"https://www.govisitcostarica.co.cr/travelInfo/beaches/beaches-list.asp\")"
   ]
  },
  {
   "cell_type": "code",
   "execution_count": 14,
   "metadata": {},
   "outputs": [],
   "source": [
    "contenido = str(url2.read(), encoding='utf-8')"
   ]
  },
  {
   "cell_type": "code",
   "execution_count": 15,
   "metadata": {
    "tags": []
   },
   "outputs": [],
   "source": [
    "types = contenido.split('<div class=\"pageListContentRow\">') #each list of beaches are listed in a column with the class\"pageList...\""
   ]
  },
  {
   "cell_type": "code",
   "execution_count": 17,
   "metadata": {},
   "outputs": [
    {
     "output_type": "execute_result",
     "data": {
      "text/plain": [
       "'\\r\\n        <div class=\"pageListContentItem ListHeader\"><a id=\"Surfing-Beaches\">Surfing Beaches</a></div>\\r\\n        <div class=\"pageListContentItem ListHeader\"><a id=\"Snorkeling-Beaches\">Snorkeling Beach</a></div>\\r\\n    </div>\\r\\n\\r\\n    '"
      ]
     },
     "metadata": {},
     "execution_count": 17
    }
   ],
   "source": [
    "types[1]"
   ]
  },
  {
   "cell_type": "code",
   "execution_count": 18,
   "metadata": {},
   "outputs": [
    {
     "output_type": "stream",
     "name": "stdout",
     "text": [
      "Surfing Beaches\nSnorkeling Beach\n"
     ]
    }
   ],
   "source": [
    "soup = BeautifulSoup(types[1], 'html.parser') # we splited the data and select the first column with data (index 1)\n",
    "for d in soup.find_all('div'):                # this case it only have the categories  \n",
    "    print(d.text)"
   ]
  },
  {
   "cell_type": "code",
   "execution_count": 19,
   "metadata": {},
   "outputs": [],
   "source": [
    "soup = BeautifulSoup(types[2], 'html.parser') # then select the second column or the second pageListContent with our data\n",
    "count = 0 \n",
    "cate_data = []\n",
    "divider = []                                  # 2 index this case, the first div includes / covers all the beaches of 1 category \n",
    "                                              # but we can omit it and use the others div that represent just 1 beach\n",
    "for d in soup.find_all('div'):                \n",
    "    cate_data.append(d.text)\n",
    "    \n",
    "    if len(d.text) > 50:\n",
    "        divider.append(count)\n",
    "    count = count + 1"
   ]
  },
  {
   "cell_type": "code",
   "execution_count": 22,
   "metadata": {},
   "outputs": [
    {
     "output_type": "stream",
     "name": "stdout",
     "text": [
      "['Bahía Salinas CahuitaP.N. CahuitaRefugio CamaronalDominicalEl RobleEsterillos EsteEsterillos OesteGarzaJacóP.N. Marino las Baulas MalpaísManuel AntonioMarbellaMatapaloPavonesPlaya AvellanaPlaya Bahia BallenaPlaya BejucoPlaya CaletasPlaya CoyotePlaya Doña AnaPlaya GrandePlaya GuionesPlaya HermosaPlaya JunquillalPlaya LangostaPlaya NegraPlaya NosaraPlaya San MiguelPlaya ZancudoPuerto LimonPuerto SoleyPuerto Viejo de TalamancaQueposP. N. Santa RosaSanta TeresaTamarindo', 'Bahía Salinas ', 'Cahuita', 'P.N. Cahuita', 'Refugio Camaronal']\n['\\nRefugio Bahía JunquillalP.N. BallenaCahuitaP.N. CahuitaIsla del CañoP. N. Isla del CocoDrake BayIsla BallenaManuel AntonioManzanilloMontezumaGolfo de PapagayoPlaya CarrilloPlaya ChiquitaPlaya ConchalPlaya HermosaPlaya HerraduraPlaya OcotalPlaya Pan de AzucarPlaya PanamáPlaya PotreroPlaya UvitaPlaya ZancudoPuerto LimonPuerto Viejo de TalamancaSan JuanilloTortuga AbajoIsla Tortuga\\n', 'Refugio Bahía Junquillal', 'P.N. Ballena', 'Cahuita', 'P.N. Cahuita']\n[0, 39]\n"
     ]
    }
   ],
   "source": [
    "print(divider)\n",
    "print(cate_data[:5])\n",
    "print(cate_data[39:44])  \n"
   ]
  },
  {
   "cell_type": "code",
   "execution_count": 26,
   "metadata": {},
   "outputs": [],
   "source": [
    "surfing_b = cate_data[divider[0]+1:divider[1]]\n",
    "snorkeling_b = cate_data[divider[1]+1:]"
   ]
  },
  {
   "cell_type": "code",
   "execution_count": 27,
   "metadata": {},
   "outputs": [
    {
     "output_type": "execute_result",
     "data": {
      "text/plain": [
       "['Bahía Salinas ',\n",
       " 'Cahuita',\n",
       " 'P.N. Cahuita',\n",
       " 'Refugio Camaronal',\n",
       " 'Dominical',\n",
       " 'El Roble',\n",
       " 'Esterillos Este',\n",
       " 'Esterillos Oeste',\n",
       " 'Garza',\n",
       " 'Jacó',\n",
       " 'P.N. Marino las Baulas ',\n",
       " 'Malpaís',\n",
       " 'Manuel Antonio',\n",
       " 'Marbella',\n",
       " 'Matapalo',\n",
       " 'Pavones',\n",
       " 'Playa Avellana',\n",
       " 'Playa Bahia Ballena',\n",
       " 'Playa Bejuco',\n",
       " 'Playa Caletas',\n",
       " 'Playa Coyote',\n",
       " 'Playa Doña Ana',\n",
       " 'Playa Grande',\n",
       " 'Playa Guiones',\n",
       " 'Playa Hermosa',\n",
       " 'Playa Junquillal',\n",
       " 'Playa Langosta',\n",
       " 'Playa Negra',\n",
       " 'Playa Nosara',\n",
       " 'Playa San Miguel',\n",
       " 'Playa Zancudo',\n",
       " 'Puerto Limon',\n",
       " 'Puerto Soley',\n",
       " 'Puerto Viejo de Talamanca',\n",
       " 'Quepos',\n",
       " 'P. N. Santa Rosa',\n",
       " 'Santa Teresa',\n",
       " 'Tamarindo']"
      ]
     },
     "metadata": {},
     "execution_count": 27
    }
   ],
   "source": [
    "surfing_b"
   ]
  },
  {
   "cell_type": "code",
   "execution_count": 28,
   "metadata": {},
   "outputs": [
    {
     "output_type": "execute_result",
     "data": {
      "text/plain": [
       "['Refugio Bahía Junquillal',\n",
       " 'P.N. Ballena',\n",
       " 'Cahuita',\n",
       " 'P.N. Cahuita',\n",
       " 'Isla del Caño',\n",
       " 'P. N. Isla del Coco',\n",
       " 'Drake Bay',\n",
       " 'Isla Ballena',\n",
       " 'Manuel Antonio',\n",
       " 'Manzanillo',\n",
       " 'Montezuma',\n",
       " 'Golfo de Papagayo',\n",
       " 'Playa Carrillo',\n",
       " 'Playa Chiquita',\n",
       " 'Playa Conchal',\n",
       " 'Playa Hermosa',\n",
       " 'Playa Herradura',\n",
       " 'Playa Ocotal',\n",
       " 'Playa Pan de Azucar',\n",
       " 'Playa Panamá',\n",
       " 'Playa Potrero',\n",
       " 'Playa Uvita',\n",
       " 'Playa Zancudo',\n",
       " 'Puerto Limon',\n",
       " 'Puerto Viejo de Talamanca',\n",
       " 'San Juanillo',\n",
       " 'Tortuga Abajo',\n",
       " 'Isla Tortuga']"
      ]
     },
     "metadata": {},
     "execution_count": 28
    }
   ],
   "source": [
    "snorkeling_b"
   ]
  },
  {
   "cell_type": "code",
   "execution_count": 29,
   "metadata": {
    "tags": []
   },
   "outputs": [
    {
     "output_type": "stream",
     "name": "stdout",
     "text": [
      "Swimming Beaches\n\n"
     ]
    }
   ],
   "source": [
    "soup = BeautifulSoup(types[3], 'html.parser')\n",
    "for d in soup.find_all('div'):\n",
    "    print(d.text)"
   ]
  },
  {
   "cell_type": "code",
   "execution_count": 30,
   "metadata": {},
   "outputs": [
    {
     "output_type": "stream",
     "name": "stdout",
     "text": [
      "280\n"
     ]
    }
   ],
   "source": [
    "soup = BeautifulSoup(types[4], 'html.parser')\n",
    "count2 = 0\n",
    "another_cate = []\n",
    "\n",
    "for d in soup.find_all('div'):\n",
    "\n",
    "    if len(d.text) > 50:\n",
    "        pass\n",
    "  \n",
    "    else: \n",
    "        another_cate.append(d.text)\n",
    "        \n",
    "    count2 = count2 + 1"
   ]
  },
  {
   "cell_type": "code",
   "execution_count": 32,
   "metadata": {},
   "outputs": [
    {
     "output_type": "execute_result",
     "data": {
      "text/plain": [
       "['Isla Tortuga', '', 'Tour de Aventura en Guanacaste', '', '7 Días y 6 Noches']"
      ]
     },
     "metadata": {},
     "execution_count": 32
    }
   ],
   "source": [
    "another_cate[67:72] # other divs had more info but I do not need then, find where my list of beaches finishes and slice it in a new list"
   ]
  },
  {
   "cell_type": "code",
   "execution_count": 41,
   "metadata": {},
   "outputs": [],
   "source": [
    "swimming_b = another_cate[:68] # the list with beaches ends at index 67"
   ]
  },
  {
   "cell_type": "code",
   "execution_count": 35,
   "metadata": {},
   "outputs": [
    {
     "output_type": "stream",
     "name": "stdout",
     "text": [
      "['Playa Barra del Colorado', 'Playa Bonita', 'Playa Cahuita (Blanca)', 'Playa Chiquita', 'Punta Cocles', 'Playa Gandoca', 'Playa Manzanillo', 'Playa Moín', 'Playa Negra (Puerto Viejo)', 'Playa Negra (Cahuita)', 'Playa Pirikiki', 'Playa Portete', 'Playa Puerto Vargas', 'Playas Tortuguero', 'Playa Vizcaya', 'Playa Westfalia', 'Puerto Viejo de Talamanca', 'Punta Mona', 'Punta Uva', 'Playa Arbolito']\n<class 'list'>\n"
     ]
    }
   ],
   "source": [
    "# creating a list of the beaches to check to match them and add the info to each beach\n",
    "\n",
    "b2 = list(playas2.keys())\n",
    "print(b2[:20])"
   ]
  },
  {
   "cell_type": "code",
   "execution_count": 36,
   "metadata": {},
   "outputs": [],
   "source": [
    "# I check if the beach in the list with categories appears on the dict (dataset) and add the info\n",
    "\n",
    "ind_s = [] #if the beach appears then add the index to the list\n",
    "\n",
    "for playa in swimming_b:\n",
    "   \n",
    "    for p in b2:\n",
    "        \n",
    "        if playa in p:\n",
    "  \n",
    "            ind_s.append(swimming_b.index(playa))\n",
    "            playas2[p]['Swimming'] = True \n",
    "\n",
    "        else:\n",
    "            cut = playa.split(' ')\n",
    "            if cut[-1] in p:\n",
    "                ind_s.append(swimming_b.index(playa))\n",
    "                playas2[p]['Swimming'] = True \n",
    "\n",
    "ind_s = set(ind_s)"
   ]
  },
  {
   "cell_type": "code",
   "execution_count": 37,
   "metadata": {},
   "outputs": [
    {
     "output_type": "stream",
     "name": "stdout",
     "text": [
      "68\n18\n"
     ]
    }
   ],
   "source": [
    "s_beaches_no = [ x for x in swimming_b if swimming_b.index(x) not in ind_s] \n",
    "print(len(swimming_b))\n",
    "print(len(s_beaches_no)) # 18 beaches from 68 did not appear or the names are different ( some beaches can be called different)"
   ]
  },
  {
   "cell_type": "code",
   "execution_count": 38,
   "metadata": {},
   "outputs": [
    {
     "output_type": "execute_result",
     "data": {
      "text/plain": [
       "['Isla del Caño',\n",
       " 'Coronado',\n",
       " 'Drake Bay',\n",
       " 'Reserva Golfo Dulce',\n",
       " 'Hacienda Pinilla',\n",
       " 'Malpaís',\n",
       " 'Paquera',\n",
       " 'Parismina',\n",
       " 'P. N. Piedras Blancas',\n",
       " 'Playa Cativo',\n",
       " 'Playa Pan de Azucar',\n",
       " 'Playa Pinuela',\n",
       " 'Puerto Jiménez',\n",
       " 'Punta Banco',\n",
       " 'Punta Leona',\n",
       " 'Samara',\n",
       " 'P. N. Santa Rosa',\n",
       " 'Tortuga Abajo']"
      ]
     },
     "metadata": {},
     "execution_count": 38
    }
   ],
   "source": [
    "s_beaches_no"
   ]
  },
  {
   "cell_type": "code",
   "execution_count": 40,
   "metadata": {},
   "outputs": [],
   "source": [
    "# I can add info manually but it takes more time, now just 14 of 68\n",
    "\n",
    "playas2['Playa Mal País']['Swimming'] = True # Malpaís\n",
    "playas2['Playa Sámara']['Swimming'] = True   # Samara \n",
    "playas2['Playa Blanca']['Swimming'] = True   # PUnta Leona\n",
    "playas2['Playa Mantas']['Swimming'] = True   # Punta Leona"
   ]
  },
  {
   "cell_type": "code",
   "execution_count": 42,
   "metadata": {},
   "outputs": [],
   "source": [
    "ind_surf = []\n",
    "\n",
    "for playa in surfing_b:\n",
    "    #print(playa)\n",
    "    for p in b2:\n",
    "        #print(p)\n",
    "        #if playa_counter != playa :\n",
    "        \n",
    "        if playa in p:\n",
    "            #print(playa)\n",
    "            #total2 += 1\n",
    "            ind_surf.append(surfing_b.index(playa))\n",
    "            playas2[p]['Surfing'] = True\n",
    "        else:\n",
    "            cut = playa.split(' ')\n",
    "            if cut[-1] in p:\n",
    "                ind_surf.append(surfing_b.index(playa))\n",
    "                playas2[p]['Surfing'] = True \n",
    "\n",
    "ind_surf = set(ind_surf)"
   ]
  },
  {
   "cell_type": "code",
   "execution_count": 43,
   "metadata": {},
   "outputs": [
    {
     "output_type": "stream",
     "name": "stdout",
     "text": [
      "38\n6\n"
     ]
    }
   ],
   "source": [
    "sur_beaches_no = [ x for x in surfing_b if surfing_b.index(x) not in ind_surf] \n",
    "print(len(surfing_b))\n",
    "print(len(sur_beaches_no))"
   ]
  },
  {
   "cell_type": "code",
   "execution_count": 44,
   "metadata": {},
   "outputs": [
    {
     "output_type": "execute_result",
     "data": {
      "text/plain": [
       "['Esterillos Oeste',\n",
       " 'Malpaís',\n",
       " 'Playa Caletas',\n",
       " 'Puerto Limon',\n",
       " 'Quepos',\n",
       " 'P. N. Santa Rosa']"
      ]
     },
     "metadata": {},
     "execution_count": 44
    }
   ],
   "source": [
    "sur_beaches_no"
   ]
  },
  {
   "cell_type": "code",
   "execution_count": 45,
   "metadata": {},
   "outputs": [],
   "source": [
    "playas2['Playa Mal País']['Surfing'] = True # Malpaís\n",
    "playas2['Playa Esterillos']['Surfing'] = True"
   ]
  },
  {
   "cell_type": "code",
   "execution_count": 46,
   "metadata": {},
   "outputs": [],
   "source": [
    "ind_sn = []\n",
    "\n",
    "for playa in snorkeling_b:\n",
    "    for p in b2:\n",
    "        if playa in p:\n",
    "            ind_sn.append(snorkeling_b.index(playa))\n",
    "            playas2[p]['Snorkeling'] = True\n",
    "        else:\n",
    "            cut = playa.split(' ')\n",
    "            if cut[-1] in p:\n",
    "                ind_sn.append(snorkeling_b.index(playa))\n",
    "                playas2[p]['Snorkeling'] = True \n",
    "\n",
    "ind_sn = set(ind_sn)"
   ]
  },
  {
   "cell_type": "code",
   "execution_count": 47,
   "metadata": {},
   "outputs": [
    {
     "output_type": "stream",
     "name": "stdout",
     "text": [
      "28\n5\n"
     ]
    }
   ],
   "source": [
    "sn_beaches_no = [ x for x in snorkeling_b if snorkeling_b.index(x) not in ind_sn] \n",
    "print(len(snorkeling_b))\n",
    "print(len(sn_beaches_no))"
   ]
  },
  {
   "cell_type": "code",
   "execution_count": 48,
   "metadata": {},
   "outputs": [
    {
     "output_type": "execute_result",
     "data": {
      "text/plain": [
       "['Isla del Caño',\n",
       " 'Drake Bay',\n",
       " 'Playa Pan de Azucar',\n",
       " 'Puerto Limon',\n",
       " 'Tortuga Abajo']"
      ]
     },
     "metadata": {},
     "execution_count": 48
    }
   ],
   "source": [
    "sn_beaches_no"
   ]
  },
  {
   "cell_type": "code",
   "execution_count": 68,
   "metadata": {},
   "outputs": [],
   "source": [
    "playas2['Playa Bahía Drake']['Snorkeling'] = True"
   ]
  },
  {
   "source": [
    "## Trying to add more features"
   ],
   "cell_type": "markdown",
   "metadata": {}
  },
  {
   "cell_type": "code",
   "execution_count": 50,
   "metadata": {},
   "outputs": [],
   "source": [
    "# it is interesting, I try urlopen and get 403 forbidden but Beautiful was able to\n",
    "\n",
    "source = requests.get(\"https://goplaya.cr/index.php/search_controller/buscar?latitud=9.935607&longitud=-84.1833856&busqueda=todas&filtros%5B%5D=81&radio=350#sa\").text\n",
    "soup = BeautifulSoup(source, 'html.parser')"
   ]
  },
  {
   "cell_type": "code",
   "execution_count": 51,
   "metadata": {
    "tags": []
   },
   "outputs": [],
   "source": [
    "info = []\n",
    "for line in soup.find_all('div'):\n",
    "    if line.h3 != None:\n",
    "        #print(line.h3)\n",
    "        info.append(line.h3)"
   ]
  },
  {
   "cell_type": "code",
   "execution_count": 52,
   "metadata": {},
   "outputs": [
    {
     "output_type": "execute_result",
     "data": {
      "text/plain": [
       "['  Puerto Viejo, Limón',\n",
       " '  Hermosa (El Coco)',\n",
       " '  Montezuma',\n",
       " '  Tamarindo',\n",
       " '  Santa Teresa',\n",
       " '  Manuel Antonio',\n",
       " '  Malpaís',\n",
       " '  Dominical',\n",
       " '  El Coco',\n",
       " '  Jacó']"
      ]
     },
     "metadata": {},
     "execution_count": 52
    }
   ],
   "source": [
    "nocturnal = []\n",
    "for i in range(len(info)):\n",
    "    nocturnal.append(info[i].text)\n",
    "\n",
    "nocturnal = set(nocturnal) # the names are duplicate or even more so I have to delete duplicate values with set\n",
    "nocturnal = list(nocturnal) #\n",
    "nocturnal"
   ]
  },
  {
   "cell_type": "code",
   "execution_count": 53,
   "metadata": {},
   "outputs": [],
   "source": [
    "ind_n = []\n",
    "\n",
    "for playa in nocturnal:\n",
    "    for p in b2: \n",
    "        if playa in p:\n",
    "            ind_n.append(nocturnal.index(playa))\n",
    "            playas2[p]['Nocturnal'] = True\n",
    "        else:\n",
    "            cut = playa.split(' ')\n",
    "            if cut[-1] in p:\n",
    "                ind_n.append(nocturnal.index(playa))\n",
    "                playas2[p]['Nocturnal'] = True \n",
    "\n",
    "ind_n = set(ind_n)"
   ]
  },
  {
   "cell_type": "code",
   "execution_count": 54,
   "metadata": {},
   "outputs": [
    {
     "output_type": "stream",
     "name": "stdout",
     "text": [
      "10\n2\n"
     ]
    }
   ],
   "source": [
    "no_beaches_no = [ x for x in nocturnal if nocturnal.index(x) not in ind_n] \n",
    "print(len(nocturnal))\n",
    "print(len(no_beaches_no))"
   ]
  },
  {
   "cell_type": "code",
   "execution_count": 55,
   "metadata": {},
   "outputs": [
    {
     "output_type": "execute_result",
     "data": {
      "text/plain": [
       "['  Hermosa (El Coco)', '  Malpaís']"
      ]
     },
     "metadata": {},
     "execution_count": 55
    }
   ],
   "source": [
    "no_beaches_no"
   ]
  },
  {
   "cell_type": "code",
   "execution_count": 57,
   "metadata": {},
   "outputs": [],
   "source": [
    "playas2['Playa Mal País']['Nocturnal'] = True # Malpaís"
   ]
  },
  {
   "cell_type": "code",
   "execution_count": 58,
   "metadata": {},
   "outputs": [],
   "source": [
    "source2 = requests.get(\"https://goplaya.cr/index.php/search_controller/buscar?latitud=9.935607&longitud=-84.1833856&busqueda=todas&filtros%5B%5D=9&radio=350#sa\").text\n",
    "soup2 = BeautifulSoup(source2, 'html.parser')"
   ]
  },
  {
   "cell_type": "code",
   "execution_count": 59,
   "metadata": {
    "tags": []
   },
   "outputs": [],
   "source": [
    "info2 = []\n",
    "for line in soup2.find_all('div'):\n",
    "    if line.h3 != None:\n",
    "        info2.append(line.h3)"
   ]
  },
  {
   "cell_type": "code",
   "execution_count": 60,
   "metadata": {},
   "outputs": [
    {
     "output_type": "execute_result",
     "data": {
      "text/plain": [
       "['Biesanz',\n",
       " 'Blanca (Península de Nicoya)',\n",
       " 'Tropical',\n",
       " 'Cocles',\n",
       " 'Pochotes (Junquillal)',\n",
       " 'Cuevas',\n",
       " 'Punta Cahuita',\n",
       " 'Soley',\n",
       " 'Cabo Blanco',\n",
       " 'Lagartillo',\n",
       " 'Chiquita',\n",
       " 'Corona',\n",
       " 'Blanca, Punta Leona',\n",
       " 'Blanca (Punta Morales)',\n",
       " 'Langosta',\n",
       " 'Carrillo',\n",
       " 'San Juanillo',\n",
       " 'Puerto Vargas, Cahuita',\n",
       " 'Flamingo',\n",
       " 'Blanca (Junquillal)',\n",
       " 'Cuarzo',\n",
       " 'Carmen',\n",
       " 'Avellanas',\n",
       " 'Nacascolo',\n",
       " 'Cocal del Peñón',\n",
       " 'Pleito',\n",
       " 'Bonita',\n",
       " 'Blanca (Santa Rosa)',\n",
       " 'Calzón de Pobre',\n",
       " 'Bonita (Pinilla)',\n",
       " 'Gemelas',\n",
       " 'Isla Tortuga tours',\n",
       " 'Blanca, Cahuita',\n",
       " 'Quesera',\n",
       " 'Barrigona',\n",
       " 'Macaya',\n",
       " 'Blanca (Papagayo)',\n",
       " 'Montezuma',\n",
       " 'Penca (Punta Cacique)',\n",
       " 'Punta Uva',\n",
       " 'Ventanas (Guanacaste)',\n",
       " 'Penca (Flamingo)',\n",
       " 'Espadilla Sur',\n",
       " 'Garza',\n",
       " 'Grande',\n",
       " 'Punta Cocles',\n",
       " 'Puerto Viejo (Conchal)',\n",
       " 'Coyote',\n",
       " 'Negra',\n",
       " 'Mansita',\n",
       " 'Buena',\n",
       " 'Playitas (Manuel Antonio)',\n",
       " 'Tamarindo',\n",
       " 'Espadilla',\n",
       " 'Jicote',\n",
       " 'Guiones, Nosara',\n",
       " 'Callejones',\n",
       " 'Pelada',\n",
       " 'Bahía Junquillal',\n",
       " 'Roble (Conchal)',\n",
       " 'Manuel Antonio',\n",
       " 'Real',\n",
       " 'Puerto Viejo, Limón',\n",
       " 'Peñón',\n",
       " 'Manchas',\n",
       " 'Virador',\n",
       " 'Conchal',\n",
       " 'El Jobo',\n",
       " 'Hermosa (Santa Teresa)',\n",
       " 'Rajada',\n",
       " 'Cabuyal',\n",
       " 'Zapotillal (Minas)',\n",
       " 'Muertos',\n",
       " 'Punta El Madero',\n",
       " 'Manzanillo',\n",
       " 'Sámara',\n",
       " 'Honda',\n",
       " 'Rajadita',\n",
       " 'Santa Teresa',\n",
       " 'Pilas',\n",
       " 'Malpaís',\n",
       " 'Punta Vargas, Cahuita']"
      ]
     },
     "metadata": {},
     "execution_count": 60
    }
   ],
   "source": [
    "white_sand = []\n",
    "for i in range(len(info2)):\n",
    "    white_sand.append(info2[i].text.strip())\n",
    "\n",
    "white_sand = set(white_sand)\n",
    "white_sand = list(white_sand)\n",
    "white_sand"
   ]
  },
  {
   "cell_type": "code",
   "execution_count": 61,
   "metadata": {},
   "outputs": [],
   "source": [
    "ind_ws = []\n",
    "\n",
    "for playa in white_sand:\n",
    "    for p in b2:\n",
    "        if playa in p:\n",
    "            ind_ws.append(white_sand.index(playa))\n",
    "            playas2[p]['White_S'] = True\n",
    "        else:\n",
    "            cut = playa.split(' ')\n",
    "            if cut[-1] in p:\n",
    "                ind_ws.append(white_sand.index(playa))\n",
    "                playas2[p]['White_S'] = True \n",
    "\n",
    "ind_ws = set(ind_ws)"
   ]
  },
  {
   "cell_type": "code",
   "execution_count": 63,
   "metadata": {},
   "outputs": [
    {
     "output_type": "stream",
     "name": "stdout",
     "text": [
      "82\n39\n"
     ]
    }
   ],
   "source": [
    "ws_beaches_no = [ x for x in white_sand if white_sand.index(x) not in ind_ws] \n",
    "print(len(white_sand))\n",
    "print(len(ws_beaches_no))"
   ]
  },
  {
   "cell_type": "code",
   "execution_count": 64,
   "metadata": {},
   "outputs": [
    {
     "output_type": "execute_result",
     "data": {
      "text/plain": [
       "['Biesanz',\n",
       " 'Blanca (Península de Nicoya)',\n",
       " 'Tropical',\n",
       " 'Pochotes (Junquillal)',\n",
       " 'Cuevas',\n",
       " 'Lagartillo',\n",
       " 'Corona',\n",
       " 'Blanca, Punta Leona',\n",
       " 'Blanca (Punta Morales)',\n",
       " 'Blanca (Junquillal)',\n",
       " 'Cuarzo',\n",
       " 'Cocal del Peñón',\n",
       " 'Blanca (Santa Rosa)',\n",
       " 'Calzón de Pobre',\n",
       " 'Bonita (Pinilla)',\n",
       " 'Gemelas',\n",
       " 'Isla Tortuga tours',\n",
       " 'Quesera',\n",
       " 'Macaya',\n",
       " 'Penca (Punta Cacique)',\n",
       " 'Ventanas (Guanacaste)',\n",
       " 'Penca (Flamingo)',\n",
       " 'Puerto Viejo (Conchal)',\n",
       " 'Mansita',\n",
       " 'Playitas (Manuel Antonio)',\n",
       " 'Jicote',\n",
       " 'Callejones',\n",
       " 'Roble (Conchal)',\n",
       " 'Peñón',\n",
       " 'Manchas',\n",
       " 'Hermosa (Santa Teresa)',\n",
       " 'Cabuyal',\n",
       " 'Zapotillal (Minas)',\n",
       " 'Muertos',\n",
       " 'Punta El Madero',\n",
       " 'Honda',\n",
       " 'Rajadita',\n",
       " 'Pilas',\n",
       " 'Malpaís']"
      ]
     },
     "metadata": {},
     "execution_count": 64
    }
   ],
   "source": [
    "ws_beaches_no"
   ]
  },
  {
   "cell_type": "code",
   "execution_count": 65,
   "metadata": {},
   "outputs": [],
   "source": [
    "playas2['Playa Mal País']['White_S'] = True # Malpaís\n",
    "playas2['Playa Blanca']['White_S'] = True   # PUnta Leona"
   ]
  },
  {
   "source": [
    "## now I am going to add the location of each beach to be able to use the foursquare API"
   ],
   "cell_type": "markdown",
   "metadata": {}
  },
  {
   "cell_type": "code",
   "execution_count": 81,
   "metadata": {},
   "outputs": [],
   "source": [
    "# based on the wikipedia page  \n",
    "\n",
    "limon = b2[:19]\n",
    "guanacaste = b2[19:87]\n",
    "puntarenas = b2[87:]"
   ]
  },
  {
   "cell_type": "code",
   "execution_count": 87,
   "metadata": {},
   "outputs": [],
   "source": [
    "\n",
    "for beach in b2[:70]:\n",
    "    geolocator = Nominatim(user_agent=\"crb_explorer_js\")\n",
    "\n",
    "    if beach in limon:\n",
    "        address = beach+\", Limón, Costa Rica\"\n",
    "        #print(address)\n",
    "\n",
    "    if beach in guanacaste:\n",
    "        address = beach+\", Guanacaste, Costa Rica\"\n",
    "        #print(address)\n",
    "\n",
    "    if beach in puntarenas:\n",
    "        address = beach+\", Puntarenas, Costa Rica\"\n",
    "        #print(address)\n",
    "\n",
    "    location = geolocator.geocode(address)\n",
    "\n",
    "    if location == None:\n",
    "        playas2[beach]['lati'] = None\n",
    "        playas2[beach]['long'] = None\n",
    "        \n",
    "    else:\n",
    "        playas2[beach]['lati'] = location.latitude\n",
    "        playas2[beach]['long'] = location.longitude"
   ]
  },
  {
   "cell_type": "code",
   "execution_count": 89,
   "metadata": {},
   "outputs": [],
   "source": [
    "for beach in b2[70:]:\n",
    "    geolocator = Nominatim(user_agent=\"cr_explorer_js\")\n",
    "\n",
    "    if beach in limon:\n",
    "        address = beach+\", Limón, Costa Rica\"\n",
    "        #print(address)\n",
    "\n",
    "    if beach in guanacaste:\n",
    "        address = beach+\", Guanacaste, Costa Rica\"\n",
    "        #print(address)\n",
    "\n",
    "    if beach in puntarenas:\n",
    "        address = beach+\", Puntarenas, Costa Rica\"\n",
    "        #print(address)\n",
    "\n",
    "    location = geolocator.geocode(address)\n",
    "\n",
    "    if location == None:\n",
    "        playas2[beach]['lati'] = None\n",
    "        playas2[beach]['long'] = None\n",
    "        \n",
    "    else:\n",
    "        playas2[beach]['lati'] = location.latitude\n",
    "        playas2[beach]['long'] = location.longitude"
   ]
  },
  {
   "cell_type": "code",
   "execution_count": 100,
   "metadata": {},
   "outputs": [],
   "source": [
    "latitudes = []\n",
    "\n",
    "for beach in b2:\n",
    "    if playas2[beach]['lati'] == None:\n",
    "        latitudes.append(beach)"
   ]
  },
  {
   "cell_type": "code",
   "execution_count": 105,
   "metadata": {},
   "outputs": [
    {
     "output_type": "stream",
     "name": "stdout",
     "text": [
      "35\n['Playa Barra del Colorado', 'Playa Cahuita (Blanca)', 'Playa Negra (Puerto Viejo)', 'Playa Pirikiki', 'Playa Puerto Vargas', 'Playa Arbolito', 'Playa Azul (Jurel)', 'Playa Buena Vista', 'Playa Carbón', 'Playa Carmen', 'Playa Cóncava', 'Playa Gringo', 'Playa Mal País', 'Playa Manzanillo (Costa Rica)', 'Playa Nabos', 'Playa Nancite', 'Playa Nubes', 'Playa Panamá (Chrorotega)', 'Playa Pietra', 'Playa Pochote (Papagayo)', 'Playa Real y Roble', 'Playa Santa Teresa', 'Playa Prieta (Papagayo)', 'Playa Pochote (Salinas)', 'Balnerario Puntarenas', 'Playa Boca Vieja', 'Playa Cabo Blanco', 'Playa de Arco', 'Playa de Doña Ana', 'Playa Garza (Boca Brava)', 'Playa Isla Damas', 'Playa Palo Seco', 'Playa Pógeres', 'Playa Quizales', 'Playa San Josecito (Golfito)']\n"
     ]
    }
   ],
   "source": [
    "print(len(latitudes))\n",
    "print(latitudes)"
   ]
  },
  {
   "cell_type": "code",
   "execution_count": 107,
   "metadata": {},
   "outputs": [],
   "source": [
    "# let's try without the province \n",
    "\n",
    "for beach in latitudes:\n",
    "    geolocator = Nominatim(user_agent=\"beachesCR_explorer\")\n",
    "\n",
    "    location = geolocator.geocode(address)\n",
    "\n",
    "    if location == None:\n",
    "        playas2[beach]['lati'] = None\n",
    "        playas2[beach]['long'] = None\n",
    "        \n",
    "    else:\n",
    "        playas2[beach]['lati'] = location.latitude\n",
    "        playas2[beach]['long'] = location.longitude"
   ]
  },
  {
   "cell_type": "code",
   "execution_count": 108,
   "metadata": {},
   "outputs": [
    {
     "output_type": "stream",
     "name": "stdout",
     "text": [
      "0\n[]\n"
     ]
    }
   ],
   "source": [
    "latitudes2 = []\n",
    "\n",
    "for beach in b2:\n",
    "    if playas2[beach]['lati'] == None:\n",
    "        latitudes2.append(beach)\n",
    "\n",
    "print(len(latitudes2))\n",
    "print(latitudes2)"
   ]
  },
  {
   "cell_type": "code",
   "execution_count": 149,
   "metadata": {},
   "outputs": [
    {
     "output_type": "execute_result",
     "data": {
      "text/plain": [
       "         Playa Barra del Colorado Playa Bonita Playa Cahuita (Blanca)  \\\n",
       "Info                         True        False                  False   \n",
       "Swimming                     True         True                   True   \n",
       "Surfing                      True         True                   True   \n",
       "lati                      8.51584      10.0099                8.51584   \n",
       "long                     -83.1364     -83.0635               -83.1364   \n",
       "\n",
       "         Playa Chiquita Punta Cocles Playa Gandoca Playa Manzanillo  \\\n",
       "Info               True        False         False            False   \n",
       "Swimming           True         True          True             True   \n",
       "Surfing            True         True          True             True   \n",
       "lati             9.6374      9.64528       9.59989          9.63376   \n",
       "long           -82.7037     -82.7176      -82.6071         -82.6574   \n",
       "\n",
       "         Playa Moín Playa Negra (Puerto Viejo) Playa Negra (Cahuita)  ...  \\\n",
       "Info          False                      False                  True  ...   \n",
       "Swimming       True                       True                  True  ...   \n",
       "Surfing        True                       True                  True  ...   \n",
       "lati        10.0099                    8.51584               9.74067  ...   \n",
       "long       -83.0635                   -83.1364              -82.8504  ...   \n",
       "\n",
       "         Playa San Josecito (Golfito) Playa Savegre Playa Sombrero  \\\n",
       "Info                            False         False          False   \n",
       "Swimming                         True          True           True   \n",
       "Surfing                          True          True           True   \n",
       "lati                          8.51584       9.36369        8.41559   \n",
       "long                         -83.1364      -84.0706       -83.2802   \n",
       "\n",
       "         Playa Tamales Playa Tambor Playa Tárcoles Playa Tivives  \\\n",
       "Info             False         True          False         False   \n",
       "Swimming          True         True           True          True   \n",
       "Surfing           True         True           True          True   \n",
       "lati           8.45534      9.74571        9.75939       9.92122   \n",
       "long          -83.2805     -84.9885        -84.628      -84.7149   \n",
       "\n",
       "         Playa Tortuga Playa Uvita Playa Zancudo  \n",
       "Info              True       False         False  \n",
       "Swimming          True        True          True  \n",
       "Surfing           True        True          True  \n",
       "lati           9.77325     9.15531       8.51584  \n",
       "long          -84.8954    -83.7574      -83.1364  \n",
       "\n",
       "[5 rows x 137 columns]"
      ],
      "text/html": "<div>\n<style scoped>\n    .dataframe tbody tr th:only-of-type {\n        vertical-align: middle;\n    }\n\n    .dataframe tbody tr th {\n        vertical-align: top;\n    }\n\n    .dataframe thead th {\n        text-align: right;\n    }\n</style>\n<table border=\"1\" class=\"dataframe\">\n  <thead>\n    <tr style=\"text-align: right;\">\n      <th></th>\n      <th>Playa Barra del Colorado</th>\n      <th>Playa Bonita</th>\n      <th>Playa Cahuita (Blanca)</th>\n      <th>Playa Chiquita</th>\n      <th>Punta Cocles</th>\n      <th>Playa Gandoca</th>\n      <th>Playa Manzanillo</th>\n      <th>Playa Moín</th>\n      <th>Playa Negra (Puerto Viejo)</th>\n      <th>Playa Negra (Cahuita)</th>\n      <th>...</th>\n      <th>Playa San Josecito (Golfito)</th>\n      <th>Playa Savegre</th>\n      <th>Playa Sombrero</th>\n      <th>Playa Tamales</th>\n      <th>Playa Tambor</th>\n      <th>Playa Tárcoles</th>\n      <th>Playa Tivives</th>\n      <th>Playa Tortuga</th>\n      <th>Playa Uvita</th>\n      <th>Playa Zancudo</th>\n    </tr>\n  </thead>\n  <tbody>\n    <tr>\n      <th>Info</th>\n      <td>True</td>\n      <td>False</td>\n      <td>False</td>\n      <td>True</td>\n      <td>False</td>\n      <td>False</td>\n      <td>False</td>\n      <td>False</td>\n      <td>False</td>\n      <td>True</td>\n      <td>...</td>\n      <td>False</td>\n      <td>False</td>\n      <td>False</td>\n      <td>False</td>\n      <td>True</td>\n      <td>False</td>\n      <td>False</td>\n      <td>True</td>\n      <td>False</td>\n      <td>False</td>\n    </tr>\n    <tr>\n      <th>Swimming</th>\n      <td>True</td>\n      <td>True</td>\n      <td>True</td>\n      <td>True</td>\n      <td>True</td>\n      <td>True</td>\n      <td>True</td>\n      <td>True</td>\n      <td>True</td>\n      <td>True</td>\n      <td>...</td>\n      <td>True</td>\n      <td>True</td>\n      <td>True</td>\n      <td>True</td>\n      <td>True</td>\n      <td>True</td>\n      <td>True</td>\n      <td>True</td>\n      <td>True</td>\n      <td>True</td>\n    </tr>\n    <tr>\n      <th>Surfing</th>\n      <td>True</td>\n      <td>True</td>\n      <td>True</td>\n      <td>True</td>\n      <td>True</td>\n      <td>True</td>\n      <td>True</td>\n      <td>True</td>\n      <td>True</td>\n      <td>True</td>\n      <td>...</td>\n      <td>True</td>\n      <td>True</td>\n      <td>True</td>\n      <td>True</td>\n      <td>True</td>\n      <td>True</td>\n      <td>True</td>\n      <td>True</td>\n      <td>True</td>\n      <td>True</td>\n    </tr>\n    <tr>\n      <th>lati</th>\n      <td>8.51584</td>\n      <td>10.0099</td>\n      <td>8.51584</td>\n      <td>9.6374</td>\n      <td>9.64528</td>\n      <td>9.59989</td>\n      <td>9.63376</td>\n      <td>10.0099</td>\n      <td>8.51584</td>\n      <td>9.74067</td>\n      <td>...</td>\n      <td>8.51584</td>\n      <td>9.36369</td>\n      <td>8.41559</td>\n      <td>8.45534</td>\n      <td>9.74571</td>\n      <td>9.75939</td>\n      <td>9.92122</td>\n      <td>9.77325</td>\n      <td>9.15531</td>\n      <td>8.51584</td>\n    </tr>\n    <tr>\n      <th>long</th>\n      <td>-83.1364</td>\n      <td>-83.0635</td>\n      <td>-83.1364</td>\n      <td>-82.7037</td>\n      <td>-82.7176</td>\n      <td>-82.6071</td>\n      <td>-82.6574</td>\n      <td>-83.0635</td>\n      <td>-83.1364</td>\n      <td>-82.8504</td>\n      <td>...</td>\n      <td>-83.1364</td>\n      <td>-84.0706</td>\n      <td>-83.2802</td>\n      <td>-83.2805</td>\n      <td>-84.9885</td>\n      <td>-84.628</td>\n      <td>-84.7149</td>\n      <td>-84.8954</td>\n      <td>-83.7574</td>\n      <td>-83.1364</td>\n    </tr>\n  </tbody>\n</table>\n<p>5 rows × 137 columns</p>\n</div>"
     },
     "metadata": {},
     "execution_count": 149
    }
   ],
   "source": [
    "df = pd.DataFrame(playas2)\n",
    "df.head()"
   ]
  },
  {
   "cell_type": "code",
   "execution_count": 150,
   "metadata": {},
   "outputs": [
    {
     "output_type": "execute_result",
     "data": {
      "text/plain": [
       "                           Info Swimming Surfing     lati     long White_S  \\\n",
       "Playa Barra del Colorado   True     True    True  8.51584 -83.1364     NaN   \n",
       "Playa Bonita              False     True    True  10.0099 -83.0635    True   \n",
       "Playa Cahuita (Blanca)    False     True    True  8.51584 -83.1364    True   \n",
       "Playa Chiquita             True     True    True   9.6374 -82.7037    True   \n",
       "Punta Cocles              False     True    True  9.64528 -82.7176    True   \n",
       "\n",
       "                         Snorkeling Nocturnal  \n",
       "Playa Barra del Colorado        NaN       NaN  \n",
       "Playa Bonita                    NaN       NaN  \n",
       "Playa Cahuita (Blanca)         True       NaN  \n",
       "Playa Chiquita                 True       NaN  \n",
       "Punta Cocles                    NaN       NaN  "
      ],
      "text/html": "<div>\n<style scoped>\n    .dataframe tbody tr th:only-of-type {\n        vertical-align: middle;\n    }\n\n    .dataframe tbody tr th {\n        vertical-align: top;\n    }\n\n    .dataframe thead th {\n        text-align: right;\n    }\n</style>\n<table border=\"1\" class=\"dataframe\">\n  <thead>\n    <tr style=\"text-align: right;\">\n      <th></th>\n      <th>Info</th>\n      <th>Swimming</th>\n      <th>Surfing</th>\n      <th>lati</th>\n      <th>long</th>\n      <th>White_S</th>\n      <th>Snorkeling</th>\n      <th>Nocturnal</th>\n    </tr>\n  </thead>\n  <tbody>\n    <tr>\n      <th>Playa Barra del Colorado</th>\n      <td>True</td>\n      <td>True</td>\n      <td>True</td>\n      <td>8.51584</td>\n      <td>-83.1364</td>\n      <td>NaN</td>\n      <td>NaN</td>\n      <td>NaN</td>\n    </tr>\n    <tr>\n      <th>Playa Bonita</th>\n      <td>False</td>\n      <td>True</td>\n      <td>True</td>\n      <td>10.0099</td>\n      <td>-83.0635</td>\n      <td>True</td>\n      <td>NaN</td>\n      <td>NaN</td>\n    </tr>\n    <tr>\n      <th>Playa Cahuita (Blanca)</th>\n      <td>False</td>\n      <td>True</td>\n      <td>True</td>\n      <td>8.51584</td>\n      <td>-83.1364</td>\n      <td>True</td>\n      <td>True</td>\n      <td>NaN</td>\n    </tr>\n    <tr>\n      <th>Playa Chiquita</th>\n      <td>True</td>\n      <td>True</td>\n      <td>True</td>\n      <td>9.6374</td>\n      <td>-82.7037</td>\n      <td>True</td>\n      <td>True</td>\n      <td>NaN</td>\n    </tr>\n    <tr>\n      <th>Punta Cocles</th>\n      <td>False</td>\n      <td>True</td>\n      <td>True</td>\n      <td>9.64528</td>\n      <td>-82.7176</td>\n      <td>True</td>\n      <td>NaN</td>\n      <td>NaN</td>\n    </tr>\n  </tbody>\n</table>\n</div>"
     },
     "metadata": {},
     "execution_count": 150
    }
   ],
   "source": [
    "df = df.transpose()\n",
    "df.head()"
   ]
  },
  {
   "cell_type": "code",
   "execution_count": 151,
   "metadata": {},
   "outputs": [
    {
     "output_type": "execute_result",
     "data": {
      "text/plain": [
       "                           Info  Swimming  Surfing       lati       long  \\\n",
       "Playa Barra del Colorado   True      True     True   8.515841 -83.136367   \n",
       "Playa Bonita              False      True     True  10.009861 -83.063460   \n",
       "Playa Cahuita (Blanca)    False      True     True   8.515841 -83.136367   \n",
       "Playa Chiquita             True      True     True   9.637403 -82.703669   \n",
       "Punta Cocles              False      True     True   9.645276 -82.717563   \n",
       "\n",
       "                          White_S  Snorkeling  Nocturnal  \n",
       "Playa Barra del Colorado    False       False      False  \n",
       "Playa Bonita                 True       False      False  \n",
       "Playa Cahuita (Blanca)       True        True      False  \n",
       "Playa Chiquita               True        True      False  \n",
       "Punta Cocles                 True       False      False  "
      ],
      "text/html": "<div>\n<style scoped>\n    .dataframe tbody tr th:only-of-type {\n        vertical-align: middle;\n    }\n\n    .dataframe tbody tr th {\n        vertical-align: top;\n    }\n\n    .dataframe thead th {\n        text-align: right;\n    }\n</style>\n<table border=\"1\" class=\"dataframe\">\n  <thead>\n    <tr style=\"text-align: right;\">\n      <th></th>\n      <th>Info</th>\n      <th>Swimming</th>\n      <th>Surfing</th>\n      <th>lati</th>\n      <th>long</th>\n      <th>White_S</th>\n      <th>Snorkeling</th>\n      <th>Nocturnal</th>\n    </tr>\n  </thead>\n  <tbody>\n    <tr>\n      <th>Playa Barra del Colorado</th>\n      <td>True</td>\n      <td>True</td>\n      <td>True</td>\n      <td>8.515841</td>\n      <td>-83.136367</td>\n      <td>False</td>\n      <td>False</td>\n      <td>False</td>\n    </tr>\n    <tr>\n      <th>Playa Bonita</th>\n      <td>False</td>\n      <td>True</td>\n      <td>True</td>\n      <td>10.009861</td>\n      <td>-83.063460</td>\n      <td>True</td>\n      <td>False</td>\n      <td>False</td>\n    </tr>\n    <tr>\n      <th>Playa Cahuita (Blanca)</th>\n      <td>False</td>\n      <td>True</td>\n      <td>True</td>\n      <td>8.515841</td>\n      <td>-83.136367</td>\n      <td>True</td>\n      <td>True</td>\n      <td>False</td>\n    </tr>\n    <tr>\n      <th>Playa Chiquita</th>\n      <td>True</td>\n      <td>True</td>\n      <td>True</td>\n      <td>9.637403</td>\n      <td>-82.703669</td>\n      <td>True</td>\n      <td>True</td>\n      <td>False</td>\n    </tr>\n    <tr>\n      <th>Punta Cocles</th>\n      <td>False</td>\n      <td>True</td>\n      <td>True</td>\n      <td>9.645276</td>\n      <td>-82.717563</td>\n      <td>True</td>\n      <td>False</td>\n      <td>False</td>\n    </tr>\n  </tbody>\n</table>\n</div>"
     },
     "metadata": {},
     "execution_count": 151
    }
   ],
   "source": [
    "#df['White_S'] = df['White_S'].fillna(False)\n",
    "#df['Snorkeling'] = df['Snorkeling'].fillna(False)\n",
    "#df['Nocturnal'] = df['Nocturnal'].fillna(False)\n",
    "\n",
    "# or fot the entire df\n",
    "df = df.fillna(False)\n",
    "df.head()"
   ]
  },
  {
   "cell_type": "code",
   "execution_count": 152,
   "metadata": {},
   "outputs": [
    {
     "output_type": "execute_result",
     "data": {
      "text/plain": [
       "                      index   Info  Swimming  Surfing       lati       long  \\\n",
       "0  Playa Barra del Colorado   True      True     True   8.515841 -83.136367   \n",
       "1              Playa Bonita  False      True     True  10.009861 -83.063460   \n",
       "2    Playa Cahuita (Blanca)  False      True     True   8.515841 -83.136367   \n",
       "3            Playa Chiquita   True      True     True   9.637403 -82.703669   \n",
       "4              Punta Cocles  False      True     True   9.645276 -82.717563   \n",
       "\n",
       "   White_S  Snorkeling  Nocturnal  \n",
       "0    False       False      False  \n",
       "1     True       False      False  \n",
       "2     True        True      False  \n",
       "3     True        True      False  \n",
       "4     True       False      False  "
      ],
      "text/html": "<div>\n<style scoped>\n    .dataframe tbody tr th:only-of-type {\n        vertical-align: middle;\n    }\n\n    .dataframe tbody tr th {\n        vertical-align: top;\n    }\n\n    .dataframe thead th {\n        text-align: right;\n    }\n</style>\n<table border=\"1\" class=\"dataframe\">\n  <thead>\n    <tr style=\"text-align: right;\">\n      <th></th>\n      <th>index</th>\n      <th>Info</th>\n      <th>Swimming</th>\n      <th>Surfing</th>\n      <th>lati</th>\n      <th>long</th>\n      <th>White_S</th>\n      <th>Snorkeling</th>\n      <th>Nocturnal</th>\n    </tr>\n  </thead>\n  <tbody>\n    <tr>\n      <th>0</th>\n      <td>Playa Barra del Colorado</td>\n      <td>True</td>\n      <td>True</td>\n      <td>True</td>\n      <td>8.515841</td>\n      <td>-83.136367</td>\n      <td>False</td>\n      <td>False</td>\n      <td>False</td>\n    </tr>\n    <tr>\n      <th>1</th>\n      <td>Playa Bonita</td>\n      <td>False</td>\n      <td>True</td>\n      <td>True</td>\n      <td>10.009861</td>\n      <td>-83.063460</td>\n      <td>True</td>\n      <td>False</td>\n      <td>False</td>\n    </tr>\n    <tr>\n      <th>2</th>\n      <td>Playa Cahuita (Blanca)</td>\n      <td>False</td>\n      <td>True</td>\n      <td>True</td>\n      <td>8.515841</td>\n      <td>-83.136367</td>\n      <td>True</td>\n      <td>True</td>\n      <td>False</td>\n    </tr>\n    <tr>\n      <th>3</th>\n      <td>Playa Chiquita</td>\n      <td>True</td>\n      <td>True</td>\n      <td>True</td>\n      <td>9.637403</td>\n      <td>-82.703669</td>\n      <td>True</td>\n      <td>True</td>\n      <td>False</td>\n    </tr>\n    <tr>\n      <th>4</th>\n      <td>Punta Cocles</td>\n      <td>False</td>\n      <td>True</td>\n      <td>True</td>\n      <td>9.645276</td>\n      <td>-82.717563</td>\n      <td>True</td>\n      <td>False</td>\n      <td>False</td>\n    </tr>\n  </tbody>\n</table>\n</div>"
     },
     "metadata": {},
     "execution_count": 152
    }
   ],
   "source": [
    "df.reset_index(inplace=True)\n",
    "df.head()"
   ]
  },
  {
   "cell_type": "code",
   "execution_count": 153,
   "metadata": {},
   "outputs": [
    {
     "output_type": "execute_result",
     "data": {
      "text/plain": [
       "                    Beaches   Info  Swimming  Surfing       lati       long  \\\n",
       "0  Playa Barra del Colorado   True      True     True   8.515841 -83.136367   \n",
       "1              Playa Bonita  False      True     True  10.009861 -83.063460   \n",
       "2    Playa Cahuita (Blanca)  False      True     True   8.515841 -83.136367   \n",
       "3            Playa Chiquita   True      True     True   9.637403 -82.703669   \n",
       "4              Punta Cocles  False      True     True   9.645276 -82.717563   \n",
       "\n",
       "   White_S  Snorkeling  Nocturnal  \n",
       "0    False       False      False  \n",
       "1     True       False      False  \n",
       "2     True        True      False  \n",
       "3     True        True      False  \n",
       "4     True       False      False  "
      ],
      "text/html": "<div>\n<style scoped>\n    .dataframe tbody tr th:only-of-type {\n        vertical-align: middle;\n    }\n\n    .dataframe tbody tr th {\n        vertical-align: top;\n    }\n\n    .dataframe thead th {\n        text-align: right;\n    }\n</style>\n<table border=\"1\" class=\"dataframe\">\n  <thead>\n    <tr style=\"text-align: right;\">\n      <th></th>\n      <th>Beaches</th>\n      <th>Info</th>\n      <th>Swimming</th>\n      <th>Surfing</th>\n      <th>lati</th>\n      <th>long</th>\n      <th>White_S</th>\n      <th>Snorkeling</th>\n      <th>Nocturnal</th>\n    </tr>\n  </thead>\n  <tbody>\n    <tr>\n      <th>0</th>\n      <td>Playa Barra del Colorado</td>\n      <td>True</td>\n      <td>True</td>\n      <td>True</td>\n      <td>8.515841</td>\n      <td>-83.136367</td>\n      <td>False</td>\n      <td>False</td>\n      <td>False</td>\n    </tr>\n    <tr>\n      <th>1</th>\n      <td>Playa Bonita</td>\n      <td>False</td>\n      <td>True</td>\n      <td>True</td>\n      <td>10.009861</td>\n      <td>-83.063460</td>\n      <td>True</td>\n      <td>False</td>\n      <td>False</td>\n    </tr>\n    <tr>\n      <th>2</th>\n      <td>Playa Cahuita (Blanca)</td>\n      <td>False</td>\n      <td>True</td>\n      <td>True</td>\n      <td>8.515841</td>\n      <td>-83.136367</td>\n      <td>True</td>\n      <td>True</td>\n      <td>False</td>\n    </tr>\n    <tr>\n      <th>3</th>\n      <td>Playa Chiquita</td>\n      <td>True</td>\n      <td>True</td>\n      <td>True</td>\n      <td>9.637403</td>\n      <td>-82.703669</td>\n      <td>True</td>\n      <td>True</td>\n      <td>False</td>\n    </tr>\n    <tr>\n      <th>4</th>\n      <td>Punta Cocles</td>\n      <td>False</td>\n      <td>True</td>\n      <td>True</td>\n      <td>9.645276</td>\n      <td>-82.717563</td>\n      <td>True</td>\n      <td>False</td>\n      <td>False</td>\n    </tr>\n  </tbody>\n</table>\n</div>"
     },
     "metadata": {},
     "execution_count": 153
    }
   ],
   "source": [
    "df.rename({'index':'Beaches'}, axis=1, inplace=True)\n",
    "df.head()"
   ]
  },
  {
   "cell_type": "code",
   "execution_count": 128,
   "metadata": {},
   "outputs": [
    {
     "output_type": "stream",
     "name": "stdout",
     "text": [
      "Alajuela, Cantón Alajuela, Provincia Alajuela, 20101, Costa Rica\n"
     ]
    }
   ],
   "source": [
    "geolocator = Nominatim(user_agent=\"beachesCR_explorer\")\n",
    "address = \"Alajuela, San Jose, Costa Rica\"\n",
    "location = geolocator.geocode(address)\n",
    "print(location)"
   ]
  },
  {
   "cell_type": "code",
   "execution_count": 140,
   "metadata": {},
   "outputs": [
    {
     "output_type": "stream",
     "name": "stdout",
     "text": [
      "10.0173148 -84.2132869\n"
     ]
    }
   ],
   "source": [
    "latitude = location.latitude\n",
    "longitude = location.longitude\n",
    "print(latitude, longitude)"
   ]
  },
  {
   "cell_type": "code",
   "execution_count": null,
   "metadata": {},
   "outputs": [],
   "source": []
  },
  {
   "cell_type": "code",
   "execution_count": 154,
   "metadata": {},
   "outputs": [
    {
     "output_type": "execute_result",
     "data": {
      "text/plain": [
       "<folium.folium.Map at 0x163c8850>"
      ],
      "text/html": "<div style=\"width:100%;\"><div style=\"position:relative;width:100%;height:0;padding-bottom:60%;\"><span style=\"color:#565656\">Make this Notebook Trusted to load map: File -> Trust Notebook</span><iframe src=\"about:blank\" style=\"position:absolute;width:100%;height:100%;left:0;top:0;border:none !important;\" data-html=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 onload=\"this.contentDocument.open();this.contentDocument.write(atob(this.getAttribute('data-html')));this.contentDocument.close();\" allowfullscreen webkitallowfullscreen mozallowfullscreen></iframe></div></div>"
     },
     "metadata": {},
     "execution_count": 154
    }
   ],
   "source": [
    "map_beaches = folium.Map(location=[latitude, longitude], zoom_start=8 )\n",
    "\n",
    "for lat, lng, beach in zip(df['lati'], df['long'], df['Beaches']):\n",
    "    label = '{}'.format(beach)\n",
    "    label = folium.Popup(label, parse_html=True)\n",
    "    folium.CircleMarker(\n",
    "        [lat, lng],\n",
    "        radius=5,\n",
    "        popup=label,\n",
    "        color='blue',\n",
    "        fill=True,\n",
    "        fill_color='#3186cc',\n",
    "        fill_opacity=0.7,\n",
    "        parse_html=False).add_to(map_beaches)  \n",
    "    \n",
    "map_beaches"
   ]
  },
  {
   "cell_type": "code",
   "execution_count": 148,
   "metadata": {},
   "outputs": [
    {
     "output_type": "execute_result",
     "data": {
      "text/plain": [
       "{'Info': False,\n",
       " 'Swimming': True,\n",
       " 'Surfing': True,\n",
       " 'Snorkeling': True,\n",
       " 'lati': 10.54616,\n",
       " 'long': -85.72245}"
      ]
     },
     "metadata": {},
     "execution_count": 148
    }
   ],
   "source": [
    "#playa ocotal does not have the correct cordenates, lets change them\n",
    "playas2['Playa Ocotal']['lati'] = 10.54616\n",
    "playas2['Playa Ocotal']['long'] = -85.72245\n",
    "playas2['Playa Ocotal']"
   ]
  },
  {
   "cell_type": "code",
   "execution_count": null,
   "metadata": {},
   "outputs": [],
   "source": []
  },
  {
   "cell_type": "code",
   "execution_count": null,
   "metadata": {},
   "outputs": [],
   "source": []
  },
  {
   "cell_type": "code",
   "execution_count": null,
   "metadata": {},
   "outputs": [],
   "source": []
  },
  {
   "cell_type": "code",
   "execution_count": null,
   "metadata": {},
   "outputs": [],
   "source": []
  },
  {
   "cell_type": "code",
   "execution_count": null,
   "metadata": {},
   "outputs": [],
   "source": []
  },
  {
   "cell_type": "code",
   "execution_count": null,
   "metadata": {},
   "outputs": [],
   "source": []
  },
  {
   "cell_type": "code",
   "execution_count": null,
   "metadata": {},
   "outputs": [],
   "source": []
  },
  {
   "cell_type": "code",
   "execution_count": null,
   "metadata": {},
   "outputs": [],
   "source": []
  },
  {
   "cell_type": "code",
   "execution_count": null,
   "metadata": {},
   "outputs": [],
   "source": []
  },
  {
   "cell_type": "code",
   "execution_count": null,
   "metadata": {},
   "outputs": [],
   "source": []
  },
  {
   "cell_type": "code",
   "execution_count": 115,
   "metadata": {},
   "outputs": [
    {
     "output_type": "stream",
     "name": "stdout",
     "text": [
      "Help on function replace in module pandas.core.frame:\n\nreplace(self, to_replace=None, value=None, inplace=False, limit=None, regex=False, method='pad')\n    Replace values given in `to_replace` with `value`.\n    \n    Values of the DataFrame are replaced with other values dynamically.\n    This differs from updating with ``.loc`` or ``.iloc``, which require\n    you to specify a location to update with some value.\n    \n    Parameters\n    ----------\n    to_replace : str, regex, list, dict, Series, int, float, or None\n        How to find the values that will be replaced.\n    \n        * numeric, str or regex:\n    \n            - numeric: numeric values equal to `to_replace` will be\n              replaced with `value`\n            - str: string exactly matching `to_replace` will be replaced\n              with `value`\n            - regex: regexs matching `to_replace` will be replaced with\n              `value`\n    \n        * list of str, regex, or numeric:\n    \n            - First, if `to_replace` and `value` are both lists, they\n              **must** be the same length.\n            - Second, if ``regex=True`` then all of the strings in **both**\n              lists will be interpreted as regexs otherwise they will match\n              directly. This doesn't matter much for `value` since there\n              are only a few possible substitution regexes you can use.\n            - str, regex and numeric rules apply as above.\n    \n        * dict:\n    \n            - Dicts can be used to specify different replacement values\n              for different existing values. For example,\n              ``{'a': 'b', 'y': 'z'}`` replaces the value 'a' with 'b' and\n              'y' with 'z'. To use a dict in this way the `value`\n              parameter should be `None`.\n            - For a DataFrame a dict can specify that different values\n              should be replaced in different columns. For example,\n              ``{'a': 1, 'b': 'z'}`` looks for the value 1 in column 'a'\n              and the value 'z' in column 'b' and replaces these values\n              with whatever is specified in `value`. The `value` parameter\n              should not be ``None`` in this case. You can treat this as a\n              special case of passing two lists except that you are\n              specifying the column to search in.\n            - For a DataFrame nested dictionaries, e.g.,\n              ``{'a': {'b': np.nan}}``, are read as follows: look in column\n              'a' for the value 'b' and replace it with NaN. The `value`\n              parameter should be ``None`` to use a nested dict in this\n              way. You can nest regular expressions as well. Note that\n              column names (the top-level dictionary keys in a nested\n              dictionary) **cannot** be regular expressions.\n    \n        * None:\n    \n            - This means that the `regex` argument must be a string,\n              compiled regular expression, or list, dict, ndarray or\n              Series of such elements. If `value` is also ``None`` then\n              this **must** be a nested dictionary or Series.\n    \n        See the examples section for examples of each of these.\n    value : scalar, dict, list, str, regex, default None\n        Value to replace any values matching `to_replace` with.\n        For a DataFrame a dict of values can be used to specify which\n        value to use for each column (columns not in the dict will not be\n        filled). Regular expressions, strings and lists or dicts of such\n        objects are also allowed.\n    inplace : bool, default False\n        If True, in place. Note: this will modify any\n        other views on this object (e.g. a column from a DataFrame).\n        Returns the caller if this is True.\n    limit : int, default None\n        Maximum size gap to forward or backward fill.\n    regex : bool or same types as `to_replace`, default False\n        Whether to interpret `to_replace` and/or `value` as regular\n        expressions. If this is ``True`` then `to_replace` *must* be a\n        string. Alternatively, this could be a regular expression or a\n        list, dict, or array of regular expressions in which case\n        `to_replace` must be ``None``.\n    method : {'pad', 'ffill', 'bfill', `None`}\n        The method to use when for replacement, when `to_replace` is a\n        scalar, list or tuple and `value` is ``None``.\n    \n        .. versionchanged:: 0.23.0\n            Added to DataFrame.\n    \n    Returns\n    -------\n    DataFrame\n        Object after replacement.\n    \n    Raises\n    ------\n    AssertionError\n        * If `regex` is not a ``bool`` and `to_replace` is not\n          ``None``.\n    TypeError\n        * If `to_replace` is a ``dict`` and `value` is not a ``list``,\n          ``dict``, ``ndarray``, or ``Series``\n        * If `to_replace` is ``None`` and `regex` is not compilable\n          into a regular expression or is a list, dict, ndarray, or\n          Series.\n        * When replacing multiple ``bool`` or ``datetime64`` objects and\n          the arguments to `to_replace` does not match the type of the\n          value being replaced\n    ValueError\n        * If a ``list`` or an ``ndarray`` is passed to `to_replace` and\n          `value` but they are not the same length.\n    \n    See Also\n    --------\n    DataFrame.fillna : Fill NA values.\n    DataFrame.where : Replace values based on boolean condition.\n    Series.str.replace : Simple string replacement.\n    \n    Notes\n    -----\n    * Regex substitution is performed under the hood with ``re.sub``. The\n      rules for substitution for ``re.sub`` are the same.\n    * Regular expressions will only substitute on strings, meaning you\n      cannot provide, for example, a regular expression matching floating\n      point numbers and expect the columns in your frame that have a\n      numeric dtype to be matched. However, if those floating point\n      numbers *are* strings, then you can do this.\n    * This method has *a lot* of options. You are encouraged to experiment\n      and play with this method to gain intuition about how it works.\n    * When dict is used as the `to_replace` value, it is like\n      key(s) in the dict are the to_replace part and\n      value(s) in the dict are the value parameter.\n    \n    Examples\n    --------\n    \n    **Scalar `to_replace` and `value`**\n    \n    >>> s = pd.Series([0, 1, 2, 3, 4])\n    >>> s.replace(0, 5)\n    0    5\n    1    1\n    2    2\n    3    3\n    4    4\n    dtype: int64\n    \n    >>> df = pd.DataFrame({'A': [0, 1, 2, 3, 4],\n    ...                    'B': [5, 6, 7, 8, 9],\n    ...                    'C': ['a', 'b', 'c', 'd', 'e']})\n    >>> df.replace(0, 5)\n       A  B  C\n    0  5  5  a\n    1  1  6  b\n    2  2  7  c\n    3  3  8  d\n    4  4  9  e\n    \n    **List-like `to_replace`**\n    \n    >>> df.replace([0, 1, 2, 3], 4)\n       A  B  C\n    0  4  5  a\n    1  4  6  b\n    2  4  7  c\n    3  4  8  d\n    4  4  9  e\n    \n    >>> df.replace([0, 1, 2, 3], [4, 3, 2, 1])\n       A  B  C\n    0  4  5  a\n    1  3  6  b\n    2  2  7  c\n    3  1  8  d\n    4  4  9  e\n    \n    >>> s.replace([1, 2], method='bfill')\n    0    0\n    1    3\n    2    3\n    3    3\n    4    4\n    dtype: int64\n    \n    **dict-like `to_replace`**\n    \n    >>> df.replace({0: 10, 1: 100})\n         A  B  C\n    0   10  5  a\n    1  100  6  b\n    2    2  7  c\n    3    3  8  d\n    4    4  9  e\n    \n    >>> df.replace({'A': 0, 'B': 5}, 100)\n         A    B  C\n    0  100  100  a\n    1    1    6  b\n    2    2    7  c\n    3    3    8  d\n    4    4    9  e\n    \n    >>> df.replace({'A': {0: 100, 4: 400}})\n         A  B  C\n    0  100  5  a\n    1    1  6  b\n    2    2  7  c\n    3    3  8  d\n    4  400  9  e\n    \n    **Regular expression `to_replace`**\n    \n    >>> df = pd.DataFrame({'A': ['bat', 'foo', 'bait'],\n    ...                    'B': ['abc', 'bar', 'xyz']})\n    >>> df.replace(to_replace=r'^ba.$', value='new', regex=True)\n          A    B\n    0   new  abc\n    1   foo  new\n    2  bait  xyz\n    \n    >>> df.replace({'A': r'^ba.$'}, {'A': 'new'}, regex=True)\n          A    B\n    0   new  abc\n    1   foo  bar\n    2  bait  xyz\n    \n    >>> df.replace(regex=r'^ba.$', value='new')\n          A    B\n    0   new  abc\n    1   foo  new\n    2  bait  xyz\n    \n    >>> df.replace(regex={r'^ba.$': 'new', 'foo': 'xyz'})\n          A    B\n    0   new  abc\n    1   xyz  new\n    2  bait  xyz\n    \n    >>> df.replace(regex=[r'^ba.$', 'foo'], value='new')\n          A    B\n    0   new  abc\n    1   new  new\n    2  bait  xyz\n    \n    Note that when replacing multiple ``bool`` or ``datetime64`` objects,\n    the data types in the `to_replace` parameter must match the data\n    type of the value being replaced:\n    \n    >>> df = pd.DataFrame({'A': [True, False, True],\n    ...                    'B': [False, True, False]})\n    >>> df.replace({'a string': 'new value', True: False})  # raises\n    Traceback (most recent call last):\n        ...\n    TypeError: Cannot compare types 'ndarray(dtype=bool)' and 'str'\n    \n    This raises a ``TypeError`` because one of the ``dict`` keys is not of\n    the correct type for replacement.\n    \n    Compare the behavior of ``s.replace({'a': None})`` and\n    ``s.replace('a', None)`` to understand the peculiarities\n    of the `to_replace` parameter:\n    \n    >>> s = pd.Series([10, 'a', 'a', 'b', 'a'])\n    \n    When one uses a dict as the `to_replace` value, it is like the\n    value(s) in the dict are equal to the `value` parameter.\n    ``s.replace({'a': None})`` is equivalent to\n    ``s.replace(to_replace={'a': None}, value=None, method=None)``:\n    \n    >>> s.replace({'a': None})\n    0      10\n    1    None\n    2    None\n    3       b\n    4    None\n    dtype: object\n    \n    When ``value=None`` and `to_replace` is a scalar, list or\n    tuple, `replace` uses the method parameter (default 'pad') to do the\n    replacement. So this is why the 'a' values are being replaced by 10\n    in rows 1 and 2 and 'b' in row 4 in this case.\n    The command ``s.replace('a', None)`` is actually equivalent to\n    ``s.replace(to_replace='a', value=None, method='pad')``:\n    \n    >>> s.replace('a', None)\n    0    10\n    1    10\n    2    10\n    3     b\n    4     b\n    dtype: object\n\n"
     ]
    }
   ],
   "source": []
  },
  {
   "cell_type": "code",
   "execution_count": null,
   "metadata": {},
   "outputs": [],
   "source": []
  },
  {
   "cell_type": "code",
   "execution_count": null,
   "metadata": {},
   "outputs": [],
   "source": []
  }
 ]
}