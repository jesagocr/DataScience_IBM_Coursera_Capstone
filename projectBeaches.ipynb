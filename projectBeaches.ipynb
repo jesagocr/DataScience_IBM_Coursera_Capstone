{
 "metadata": {
  "language_info": {
   "codemirror_mode": {
    "name": "ipython",
    "version": 3
   },
   "file_extension": ".py",
   "mimetype": "text/x-python",
   "name": "python",
   "nbconvert_exporter": "python",
   "pygments_lexer": "ipython3",
   "version": "3.8.3-final"
  },
  "orig_nbformat": 2,
  "kernelspec": {
   "name": "python38332bitc997c56da9a74e2babed0b86df49b304",
   "display_name": "Python 3.8.3 32-bit"
  }
 },
 "nbformat": 4,
 "nbformat_minor": 2,
 "cells": [
  {
   "source": [
    "## Author: Jesús Salazar Gómez, Costa Rica\n",
    "## Course: Applied Data Science Capstone, week 4 and 5 (project), Coursera\n",
    "\n",
    "## LinkedIn: https://www.linkedin.com/in/jesagocr/\n",
    "## GitHub: https://github.com/jesagocr"
   ],
   "cell_type": "markdown",
   "metadata": {}
  },
  {
   "cell_type": "code",
   "execution_count": 5,
   "metadata": {},
   "outputs": [
    {
     "output_type": "stream",
     "name": "stderr",
     "text": [
      "WARNING: You are using pip version 20.2.3; however, version 20.2.4 is available.\n",
      "You should consider upgrading via the 'c:\\users\\jesag\\appdata\\local\\programs\\python\\python38-32\\python.exe -m pip install --upgrade pip' command.\n",
      "Collecting geopy\n",
      "  Downloading geopy-2.0.0-py3-none-any.whl (111 kB)\n",
      "Collecting geographiclib<2,>=1.49\n",
      "  Downloading geographiclib-1.50-py3-none-any.whl (38 kB)\n",
      "Installing collected packages: geographiclib, geopy\n",
      "Successfully installed geographiclib-1.50 geopy-2.0.0\n",
      "WARNING: You are using pip version 20.2.3; however, version 20.2.4 is available.\n",
      "You should consider upgrading via the 'c:\\users\\jesag\\appdata\\local\\programs\\python\\python38-32\\python.exe -m pip install --upgrade pip' command.\n",
      "Collecting folium\n",
      "  Downloading folium-0.11.0-py2.py3-none-any.whl (93 kB)\n",
      "Collecting branca>=0.3.0\n",
      "  Downloading branca-0.4.1-py3-none-any.whl (24 kB)\n",
      "Requirement already satisfied: requests in c:\\users\\jesag\\appdata\\local\\programs\\python\\python38-32\\lib\\site-packages (from folium) (2.24.0)\n",
      "Requirement already satisfied: jinja2>=2.9 in c:\\users\\jesag\\appdata\\roaming\\python\\python38\\site-packages (from folium) (2.11.2)\n",
      "Requirement already satisfied: numpy in c:\\users\\jesag\\appdata\\local\\programs\\python\\python38-32\\lib\\site-packages (from folium) (1.18.5)\n",
      "Requirement already satisfied: certifi>=2017.4.17 in c:\\users\\jesag\\appdata\\local\\programs\\python\\python38-32\\lib\\site-packages (from requests->folium) (2020.6.20)\n",
      "Requirement already satisfied: urllib3!=1.25.0,!=1.25.1,<1.26,>=1.21.1 in c:\\users\\jesag\\appdata\\local\\programs\\python\\python38-32\\lib\\site-packages (from requests->folium) (1.25.10)\n",
      "Requirement already satisfied: chardet<4,>=3.0.2 in c:\\users\\jesag\\appdata\\local\\programs\\python\\python38-32\\lib\\site-packages (from requests->folium) (3.0.4)\n",
      "Requirement already satisfied: idna<3,>=2.5 in c:\\users\\jesag\\appdata\\local\\programs\\python\\python38-32\\lib\\site-packages (from requests->folium) (2.10)\n",
      "Requirement already satisfied: MarkupSafe>=0.23 in c:\\users\\jesag\\appdata\\roaming\\python\\python38\\site-packages (from jinja2>=2.9->folium) (1.1.1)\n",
      "Installing collected packages: branca, folium\n",
      "Successfully installed branca-0.4.1 folium-0.11.0\n",
      "Libraries imported.\n"
     ]
    }
   ],
   "source": [
    "# to open the url\n",
    "from urllib.request import urlopen\n",
    "\n",
    "# to work with the api\n",
    "import json\n",
    "import requests\n",
    "import pandas as pd\n",
    "\n",
    "# to work with the geolocalization data\n",
    "!pip install geopy \n",
    "from geopy.geocoders import Nominatim # convert an address into latitude and longitude values\n",
    "\n",
    "# import k-means from clustering stage\n",
    "from sklearn.cluster import KMeans\n",
    "\n",
    "!pip install folium\n",
    "import folium # map rendering library\n",
    "\n",
    "print('Libraries imported.')"
   ]
  },
  {
   "cell_type": "code",
   "execution_count": 3,
   "metadata": {},
   "outputs": [
    {
     "output_type": "stream",
     "name": "stdout",
     "text": [
      "Libraries imported.\n"
     ]
    }
   ],
   "source": [
    "# to open the url\n",
    "from urllib.request import urlopen\n",
    "\n",
    "# to work with the api\n",
    "import json\n",
    "import requests\n",
    "import pandas as pd\n",
    "\n",
    "# to work with the geolocalization data\n",
    "#!pip install geopy \n",
    "from geopy.geocoders import Nominatim # convert an address into latitude and longitude values\n",
    "\n",
    "# import k-means from clustering stage\n",
    "from sklearn.cluster import KMeans\n",
    "\n",
    "#!pip install folium\n",
    "import folium # map rendering library\n",
    "\n",
    "print('Libraries imported.')"
   ]
  },
  {
   "cell_type": "code",
   "execution_count": 4,
   "metadata": {},
   "outputs": [],
   "source": [
    "from bs4 import BeautifulSoup"
   ]
  },
  {
   "cell_type": "code",
   "execution_count": 5,
   "metadata": {},
   "outputs": [],
   "source": [
    "source = requests.get(\"https://es.wikipedia.org/wiki/Anexo:Playas_de_Costa_Rica\").text\n",
    "soup = BeautifulSoup(source, 'html.parser')"
   ]
  },
  {
   "cell_type": "code",
   "execution_count": 13,
   "metadata": {
    "tags": []
   },
   "outputs": [],
   "source": []
  },
  {
   "cell_type": "code",
   "execution_count": null,
   "metadata": {},
   "outputs": [],
   "source": []
  },
  {
   "cell_type": "code",
   "execution_count": 6,
   "metadata": {
    "tags": []
   },
   "outputs": [],
   "source": [
    "playas = []\n",
    "\n",
    "for grossbeach in soup.find_all('li'):\n",
    "\n",
    "    texto = str(grossbeach.text)\n",
    "\n",
    "    try:\n",
    "        if texto[:3] == \"Pla\" or texto[:3] == \"Bal\":\n",
    "            #print('yes')\n",
    "            playas.append(texto)\n",
    "        else:\n",
    "            #no.append(texto)\n",
    "            pass\n",
    "    except IndexError:\n",
    "        pass"
   ]
  },
  {
   "cell_type": "code",
   "execution_count": 7,
   "metadata": {},
   "outputs": [],
   "source": [
    "def newLine():\n",
    "    print('********* -*- ********* ')"
   ]
  },
  {
   "cell_type": "code",
   "execution_count": 8,
   "metadata": {},
   "outputs": [
    {
     "output_type": "stream",
     "name": "stdout",
     "text": [
      "['Playa Barra del Colorado', 'Playa Bonita', 'Playa Cahuita (Blanca)', 'Playa Chiquita', 'Playa Gandoca', 'Playa Manzanillo', 'Playa Moín', 'Playa Negra (Puerto Viejo)', 'Playa Negra (Cahuita)', 'Playa Pirikiki', 'Playa Portete', 'Playa Puerto Vargas', 'Playas Tortuguero', 'Playa Vizcaya', 'Playa Westfalia', 'Playa Arbolito', 'Playa Avellanas', 'Playa Azul (Jurel)', 'Playa Bahía Junquillal', 'Playa Barco Quebrado', 'Playa Barrigona', 'Playa Bejuco', 'Playa Blanca (Santa Elena)', 'Playa Blanca y Virador', 'Playa Bongo', 'Playa Brasilito', 'Playa Buena Vista', 'Playa Camaronal', 'Playa Carbón', 'Playa Carmen', 'Playa Carrillo', 'Playa Cóncava', 'Playa Conchal', 'Playa Coyote', 'Playa Coyotera', 'Playa Cuajiniquil', 'Playa Culebra', 'Playas del Coco', 'Playa Flamingo', 'Playa Garza', 'Playa Grande', 'Playa Gringo', 'Playa Guiones', 'Playa Hermosa', 'Playa Iguanita', 'Playa Islita y Corozalito', 'Playa Jobo', 'Playa Junquillal', 'Playa La Penca', 'Playa Lagarto', 'Playa Langosta', 'Playa Mal País', 'Playa Marbella', 'Playa Manzanillo (Costa Rica)', 'Playa Nabos', 'Playa Nacascolo', 'Playa Nancite', 'Playa Naranjo', 'Playa Negra', 'Playa Nosara', 'Playa Nubes', 'Playa Ocotal', 'Playa Ostional', 'Playa Pan de Azúcar', 'Playa Panamá (Chrorotega)', 'Playa Pelada', 'Playa Pietra', 'Playa Pitahaya', 'Playa Pleito y San Juanillo', 'Playa Pochote (Papagayo)', 'Playa Potrero', 'Playa Real y Roble', 'Playa Rajada', 'Playa Sámara', 'Playa San Miguel', 'Playa Santa Teresa', 'Playa Surco de Piedra', 'Playa Prieta (Papagayo)', 'Playa Pochote (Salinas)', 'Playa Potrero Grande', 'Playa Puerto Soley', 'Playa Tamarindo', 'Playa Ventanas', 'Balnerario Puntarenas', 'Playa Agujas', 'Playa Bahía Drake', 'Playa Ballena', 'Playa Barú', 'Playa Blanca', 'Playa Bejuco', 'Playa Boca Vieja', 'Playa Cabo Blanco', 'Playa Cabuya', 'Playa Cocalito', 'Playa Cacao', 'Playa Caldera', 'Playa Carate', 'Playa Curú', 'Playa de Arco', 'Playa de Doña Ana', 'Playa Dominical', 'Playa Dominicalito', 'Playa Espadilla', 'Playa Esterillos', 'Playa Garza (Boca Brava)', 'Playa Gigante', 'Playa Hermosa', 'Playa Herradura', 'Playa Isla Damas', 'Playa Jacó', 'Playa Llorona', 'Playa Madrigal', 'Playa Mata de Limón', 'Playa Mantas', 'Playas Manuel Antonio', 'Playa Matapalo', 'Playa Montezuma', 'Playa Naranjo', 'Playa Órganos', 'Playa Palma', 'Playa Palo Seco', 'Playa Pavones', 'Playa Piñuela', 'Playa Platanares', 'Playa Pógeres', 'Playa Quizales', 'Playa San Josecito (Golfito)', 'Playa Savegre', 'Playa Sombrero', 'Playa Tamales', 'Playa Tambor', 'Playa Tárcoles', 'Playa Tivives', 'Playa Tortuga', 'Playa Uvita', 'Playa Zancudo', 'Playas de Costa Rica']\n"
     ]
    }
   ],
   "source": [
    "print(playas)"
   ]
  },
  {
   "cell_type": "code",
   "execution_count": 9,
   "metadata": {},
   "outputs": [
    {
     "output_type": "stream",
     "name": "stdout",
     "text": [
      "137\n********* -*- ********* \nPlayas de Costa Rica\n********* -*- ********* \nPlaya Zancudo\n********* -*- ********* \n136\n"
     ]
    }
   ],
   "source": [
    "print(len(playas))\n",
    "newLine()\n",
    "\n",
    "print(playas[-1])\n",
    "newLine()\n",
    "\n",
    "playas = playas[:-1]\n",
    "print(playas[-1])\n",
    "newLine()\n",
    "\n",
    "print(len(playas))"
   ]
  },
  {
   "cell_type": "code",
   "execution_count": 78,
   "metadata": {},
   "outputs": [],
   "source": [
    "url = urlopen(\"https://es.wikipedia.org/wiki/Anexo:Playas_de_Costa_Rica\")"
   ]
  },
  {
   "cell_type": "code",
   "execution_count": 82,
   "metadata": {
    "tags": []
   },
   "outputs": [
    {
     "output_type": "stream",
     "name": "stdout",
     "text": [
      "<class 'str'>\n"
     ]
    }
   ],
   "source": [
    "content = str(url.read(),encoding='utf-8')\n",
    "print(type(content))"
   ]
  },
  {
   "cell_type": "code",
   "execution_count": 79,
   "metadata": {},
   "outputs": [
    {
     "output_type": "stream",
     "name": "stdout",
     "text": [
      "<class 'str'>\n"
     ]
    }
   ],
   "source": [
    "content = str(url.readline(), encoding='utf-8')\n",
    "print(type(content))"
   ]
  },
  {
   "cell_type": "code",
   "execution_count": 83,
   "metadata": {
    "tags": [
     "outputPrepend"
    ]
   },
   "outputs": [
    {
     "output_type": "stream",
     "name": "stdout",
     "text": [
      "mosa</a></li>\n<li><a href=\"/w/index.php?title=Playa_Herradura&amp;action=edit&amp;redlink=1\" class=\"new\" title=\"Playa Herradura (aún no redactado)\">Playa Herradura</a></li>\n<li><a href=\"/w/index.php?title=Playa_Isla_Damas&amp;action=edit&amp;redlink=1\" class=\"new\" title=\"Playa Isla Damas (aún no redactado)\">Playa Isla Damas</a></li>\n<li><a href=\"/wiki/Jac%C3%B3\" title=\"Jacó\">Playa Jacó</a></li>\n<li><a href=\"/w/index.php?title=Playa_Llorona&amp;action=edit&amp;redlink=1\" class=\"new\" title=\"Playa Llorona (aún no redactado)\">Playa Llorona</a></li>\n<li><a href=\"/w/index.php?title=Playa_Madrigal&amp;action=edit&amp;redlink=1\" class=\"new\" title=\"Playa Madrigal (aún no redactado)\">Playa Madrigal</a></li>\n<li><a href=\"/w/index.php?title=Playa_Mata_de_Lim%C3%B3n&amp;action=edit&amp;redlink=1\" class=\"new\" title=\"Playa Mata de Limón (aún no redactado)\">Playa Mata de Limón</a></li>\n<li><a href=\"/w/index.php?title=Playa_Mantas&amp;action=edit&amp;redlink=1\" class=\"new\" title=\"Playa Mantas (aún no redactado)\">Playa Mantas</a></li>\n<li><a href=\"/wiki/Parque_nacional_Manuel_Antonio\" title=\"Parque nacional Manuel Antonio\">Playas Manuel Antonio</a></li>\n<li><a href=\"/w/index.php?title=Playa_Matapalo&amp;action=edit&amp;redlink=1\" class=\"new\" title=\"Playa Matapalo (aún no redactado)\">Playa Matapalo</a></li>\n<li><a href=\"/w/index.php?title=Playa_Montezuma_(Puntarenas)&amp;action=edit&amp;redlink=1\" class=\"new\" title=\"Playa Montezuma (Puntarenas) (aún no redactado)\">Playa Montezuma</a></li>\n<li><a href=\"/w/index.php?title=Playa_Naranjo&amp;action=edit&amp;redlink=1\" class=\"new\" title=\"Playa Naranjo (aún no redactado)\">Playa Naranjo</a></li>\n<li><a href=\"/w/index.php?title=Playa_%C3%93rganos&amp;action=edit&amp;redlink=1\" class=\"new\" title=\"Playa Órganos (aún no redactado)\">Playa Órganos</a></li>\n<li><a href=\"/w/index.php?title=Playa_Palma&amp;action=edit&amp;redlink=1\" class=\"new\" title=\"Playa Palma (aún no redactado)\">Playa Palma</a></li>\n<li><a href=\"/w/index.php?title=Playa_Palo_Seco&amp;action=edit&amp;redlink=1\" class=\"new\" title=\"Playa Palo Seco (aún no redactado)\">Playa Palo Seco</a></li>\n<li><a href=\"/w/index.php?title=Playa_Pavones&amp;action=edit&amp;redlink=1\" class=\"new\" title=\"Playa Pavones (aún no redactado)\">Playa Pavones</a></li>\n<li><a href=\"/w/index.php?title=Playa_Pi%C3%B1uela&amp;action=edit&amp;redlink=1\" class=\"new\" title=\"Playa Piñuela (aún no redactado)\">Playa Piñuela</a></li>\n<li><a href=\"/w/index.php?title=Playa_Platanares&amp;action=edit&amp;redlink=1\" class=\"new\" title=\"Playa Platanares (aún no redactado)\">Playa Platanares</a></li>\n<li><a href=\"/w/index.php?title=Playa_P%C3%B3geres&amp;action=edit&amp;redlink=1\" class=\"new\" title=\"Playa Pógeres (aún no redactado)\">Playa Pógeres</a></li>\n<li><a href=\"/w/index.php?title=Playa_Quizales&amp;action=edit&amp;redlink=1\" class=\"new\" title=\"Playa Quizales (aún no redactado)\">Playa Quizales</a></li>\n<li><a href=\"/w/index.php?title=Playa_San_Josecito_(Golfito)&amp;action=edit&amp;redlink=1\" class=\"new\" title=\"Playa San Josecito (Golfito) (aún no redactado)\">Playa San Josecito (Golfito)</a></li>\n<li><a href=\"/w/index.php?title=Playa_Savegre&amp;action=edit&amp;redlink=1\" class=\"new\" title=\"Playa Savegre (aún no redactado)\">Playa Savegre</a></li>\n<li><a href=\"/w/index.php?title=Playa_Sombrero&amp;action=edit&amp;redlink=1\" class=\"new\" title=\"Playa Sombrero (aún no redactado)\">Playa Sombrero</a></li>\n<li><a href=\"/w/index.php?title=Playa_Tamales&amp;action=edit&amp;redlink=1\" class=\"new\" title=\"Playa Tamales (aún no redactado)\">Playa Tamales</a></li>\n<li><a href=\"/wiki/Playa_Tambor\" class=\"mw-redirect\" title=\"Playa Tambor\">Playa Tambor</a></li>\n<li><a href=\"/w/index.php?title=Playa_T%C3%A1rcoles&amp;action=edit&amp;redlink=1\" class=\"new\" title=\"Playa Tárcoles (aún no redactado)\">Playa Tárcoles</a></li>\n<li><a href=\"/w/index.php?title=Playa_Tivives&amp;action=edit&amp;redlink=1\" class=\"new\" title=\"Playa Tivives (aún no redactado)\">Playa Tivives</a></li>\n<li><a href=\"/wiki/Isla_Tortuga_(Costa_Rica)\" title=\"Isla Tortuga (Costa Rica)\">Playa Tortuga</a></li>\n<li><a href=\"/w/index.php?title=Playa_Uvita&amp;action=edit&amp;redlink=1\" class=\"new\" title=\"Playa Uvita (aún no redactado)\">Playa Uvita</a></li>\n<li><a href=\"/w/index.php?title=Playa_Zancudo&amp;action=edit&amp;redlink=1\" class=\"new\" title=\"Playa Zancudo (aún no redactado)\">Playa Zancudo</a></li></ul>\n<!-- \nNewPP limit report\nParsed by mw1320\nCached time: 20201115170341\nCache expiry: 2592000\nDynamic content: false\nComplications: []\nCPU time usage: 0.068 seconds\nReal time usage: 0.084 seconds\nPreprocessor visited node count: 102/1000000\nPost‐expand include size: 0/2097152 bytes\nTemplate argument size: 0/2097152 bytes\nHighest expansion depth: 2/40\nExpensive parser function count: 0/500\nUnstrip recursion depth: 0/20\nUnstrip post‐expand size: 0/5000000 bytes\nNumber of Wikibase entities loaded: 0/400\n-->\n<!--\nTransclusion expansion time report (%,ms,calls,template)\n100.00%    0.000      1 -total\n-->\n\n<!-- Saved in parser cache with key eswiki:pcache:idhash:1729807-0!canonical and timestamp 20201115170341 and revision id 122449102. Serialized with PHP.\n -->\n</div><noscript><img src=\"//es.wikipedia.org/wiki/Special:CentralAutoLogin/start?type=1x1\" alt=\"\" title=\"\" width=\"1\" height=\"1\" style=\"border: none; position: absolute;\" /></noscript>\n<div class=\"printfooter\">Obtenido de «<a dir=\"ltr\" href=\"https://es.wikipedia.org/w/index.php?title=Anexo:Playas_de_Costa_Rica&amp;oldid=122449102\">https://es.wikipedia.org/w/index.php?title=Anexo:Playas_de_Costa_Rica&amp;oldid=122449102</a>»</div></div>\n\t\t<div id=\"catlinks\" class=\"catlinks\" data-mw=\"interface\"><div id=\"mw-normal-catlinks\" class=\"mw-normal-catlinks\"><a href=\"/wiki/Especial:Categor%C3%ADas\" title=\"Especial:Categorías\">Categoría</a>: <ul><li><a href=\"/wiki/Categor%C3%ADa:Playas_de_Costa_Rica\" title=\"Categoría:Playas de Costa Rica\">Playas de Costa Rica</a></li></ul></div></div>\n\t</div>\n</div>\n<div id='mw-data-after-content'>\n\t<div class=\"read-more-container\"></div>\n</div>\n\n<div id=\"mw-navigation\">\n\t<h2>Menú de navegación</h2>\n\t<div id=\"mw-head\">\n\t\t<!-- Please do not use role attribute as CSS selector, it is deprecated. -->\n<nav id=\"p-personal\" class=\"mw-portlet mw-portlet-personal vector-menu\" aria-labelledby=\"p-personal-label\" role=\"navigation\" \n\t >\n\t<h3 id=\"p-personal-label\">\n\t\t<span>Herramientas personales</span>\n\t</h3>\n\t<div class=\"vector-menu-content\">\n\t\t<ul class=\"vector-menu-content-list\"><li id=\"pt-anonuserpage\">No has accedido</li><li id=\"pt-anontalk\"><a href=\"/wiki/Especial:MiDiscusi%C3%B3n\" title=\"Discusión sobre ediciones hechas desde esta dirección IP [n]\" accesskey=\"n\">Discusión</a></li><li id=\"pt-anoncontribs\"><a href=\"/wiki/Especial:MisContribuciones\" title=\"Una lista de modificaciones hechas desde esta dirección IP [y]\" accesskey=\"y\">Contribuciones</a></li><li id=\"pt-createaccount\"><a href=\"/w/index.php?title=Especial:Crear_una_cuenta&amp;returnto=Anexo%3APlayas+de+Costa+Rica\" title=\"Te recomendamos crear una cuenta e iniciar sesión; sin embargo, no es obligatorio\">Crear una cuenta</a></li><li id=\"pt-login\"><a href=\"/w/index.php?title=Especial:Entrar&amp;returnto=Anexo%3APlayas+de+Costa+Rica\" title=\"Te recomendamos iniciar sesión, aunque no es obligatorio [o]\" accesskey=\"o\">Acceder</a></li></ul>\n\t\t\n\t</div>\n</nav>\n\n\t\t<div id=\"left-navigation\">\n\t\t\t<!-- Please do not use role attribute as CSS selector, it is deprecated. -->\n<nav id=\"p-namespaces\" class=\"mw-portlet mw-portlet-namespaces vector-menu vector-menu-tabs\" aria-labelledby=\"p-namespaces-label\" role=\"navigation\" \n\t >\n\t<h3 id=\"p-namespaces-label\">\n\t\t<span>Espacios de nombres</span>\n\t</h3>\n\t<div class=\"vector-menu-content\">\n\t\t<ul class=\"vector-menu-content-list\"><li id=\"ca-nstab-anexo\" class=\"selected\"><a href=\"/wiki/Anexo:Playas_de_Costa_Rica\">Anexo</a></li><li id=\"ca-talk\"><a href=\"/wiki/Anexo_discusi%C3%B3n:Playas_de_Costa_Rica\" rel=\"discussion\" title=\"Discusión acerca de la página [t]\" accesskey=\"t\">Discusión</a></li></ul>\n\t\t\n\t</div>\n</nav>\n\n\t\t\t<!-- Please do not use role attribute as CSS selector, it is deprecated. -->\n<nav id=\"p-variants\" class=\"mw-portlet mw-portlet-variants emptyPortlet vector-menu vector-menu-dropdown\" aria-labelledby=\"p-variants-label\" role=\"navigation\" \n\t >\n\t<input type=\"checkbox\" class=\"vector-menu-checkbox\" aria-labelledby=\"p-variants-label\" />\n\t<h3 id=\"p-variants-label\">\n\t\t<span>Variantes</span>\n\t</h3>\n\t<div class=\"vector-menu-content\">\n\t\t<ul class=\"vector-menu-content-list\"></ul>\n\t\t\n\t</div>\n</nav>\n\n\t\t</div>\n\t\t<div id=\"right-navigation\">\n\t\t\t<!-- Please do not use role attribute as CSS selector, it is deprecated. -->\n<nav id=\"p-views\" class=\"mw-portlet mw-portlet-views vector-menu vector-menu-tabs\" aria-labelledby=\"p-views-label\" role=\"navigation\" \n\t >\n\t<h3 id=\"p-views-label\">\n\t\t<span>Vistas</span>\n\t</h3>\n\t<div class=\"vector-menu-content\">\n\t\t<ul class=\"vector-menu-content-list\"><li id=\"ca-view\" class=\"selected\"><a href=\"/wiki/Anexo:Playas_de_Costa_Rica\">Leer</a></li><li id=\"ca-edit\"><a href=\"/w/index.php?title=Anexo:Playas_de_Costa_Rica&amp;action=edit\" title=\"Editar esta página [e]\" accesskey=\"e\">Editar</a></li><li id=\"ca-history\"><a href=\"/w/index.php?title=Anexo:Playas_de_Costa_Rica&amp;action=history\" title=\"Versiones anteriores de esta página [h]\" accesskey=\"h\">Ver historial</a></li></ul>\n\t\t\n\t</div>\n</nav>\n\n\t\t\t<!-- Please do not use role attribute as CSS selector, it is deprecated. -->\n<nav id=\"p-cactions\" class=\"mw-portlet mw-portlet-cactions emptyPortlet vector-menu vector-menu-dropdown\" aria-labelledby=\"p-cactions-label\" role=\"navigation\" \n\t >\n\t<input type=\"checkbox\" class=\"vector-menu-checkbox\" aria-labelledby=\"p-cactions-label\" />\n\t<h3 id=\"p-cactions-label\">\n\t\t<span>Más</span>\n\t</h3>\n\t<div class=\"vector-menu-content\">\n\t\t<ul class=\"vector-menu-content-list\"></ul>\n\t\t\n\t</div>\n</nav>\n\n\t\t\t<div id=\"p-search\" role=\"search\">\n\t<h3 >\n\t\t<label for=\"searchInput\">Buscar</label>\n\t</h3>\n\t<form action=\"/w/index.php\" id=\"searchform\">\n\t\t<div id=\"simpleSearch\" data-search-loc=\"header-navigation\">\n\t\t\t<input type=\"search\" name=\"search\" placeholder=\"Buscar en Wikipedia\" autocapitalize=\"sentences\" title=\"Buscar en este wiki [f]\" accesskey=\"f\" id=\"searchInput\"/>\n\t\t\t<input type=\"hidden\" name=\"title\" value=\"Especial:Buscar\">\n\t\t\t<input type=\"submit\" name=\"fulltext\" value=\"Buscar\" title=\"Busca páginas con este texto.\" id=\"mw-searchButton\" class=\"searchButton mw-fallbackSearchButton\"/>\n\t\t\t<input type=\"submit\" name=\"go\" value=\"Ir\" title=\"Ir a la página con este nombre exacto si existe\" id=\"searchButton\" class=\"searchButton\"/>\n\t\t</div>\n\t</form>\n</div>\n\n\t\t</div>\n\t</div>\n\t\n<div id=\"mw-panel\">\n\t<div id=\"p-logo\" role=\"banner\">\n\t\t<a  title=\"Visitar la página principal\" class=\"mw-wiki-logo\" href=\"/wiki/Wikipedia:Portada\"></a>\n\t</div>\n\t<!-- Please do not use role attribute as CSS selector, it is deprecated. -->\n<nav id=\"p-navigation\" class=\"mw-portlet mw-portlet-navigation vector-menu vector-menu-portal portal portal-first\" aria-labelledby=\"p-navigation-label\" role=\"navigation\" \n\t >\n\t<h3 id=\"p-navigation-label\">\n\t\t<span>Navegación</span>\n\t</h3>\n\t<div class=\"vector-menu-content\">\n\t\t<ul class=\"vector-menu-content-list\"><li id=\"n-mainpage-description\"><a href=\"/wiki/Wikipedia:Portada\" title=\"Visitar la página principal [z]\" accesskey=\"z\">Portada</a></li><li id=\"n-portal\"><a href=\"/wiki/Portal:Comunidad\" title=\"Acerca del proyecto, lo que puedes hacer, dónde encontrar información\">Portal de la comunidad</a></li><li id=\"n-currentevents\"><a href=\"/wiki/Portal:Actualidad\" title=\"Encuentra información de contexto sobre acontecimientos actuales\">Actualidad</a></li><li id=\"n-recentchanges\"><a href=\"/wiki/Especial:CambiosRecientes\" title=\"Lista de cambios recientes en el wiki [r]\" accesskey=\"r\">Cambios recientes</a></li><li id=\"n-newpages\"><a href=\"/wiki/Especial:P%C3%A1ginasNuevas\">Páginas nuevas</a></li><li id=\"n-randompage\"><a href=\"/wiki/Especial:Aleatoria\" title=\"Cargar una página al azar [x]\" accesskey=\"x\">Página aleatoria</a></li><li id=\"n-help\"><a href=\"/wiki/Ayuda:Contenidos\" title=\"El lugar para aprender\">Ayuda</a></li><li id=\"n-sitesupport\"><a href=\"//donate.wikimedia.org/wiki/Special:FundraiserRedirector?utm_source=donate&amp;utm_medium=sidebar&amp;utm_campaign=C13_es.wikipedia.org&amp;uselang=es\" title=\"Apóyanos\">Donaciones</a></li><li id=\"n-bug_in_article\"><a href=\"/wiki/Wikipedia:Informes_de_error\">Notificar un error</a></li></ul>\n\t\t\n\t</div>\n</nav>\n\n\t<!-- Please do not use role attribute as CSS selector, it is deprecated. -->\n<nav id=\"p-tb\" class=\"mw-portlet mw-portlet-tb vector-menu vector-menu-portal portal\" aria-labelledby=\"p-tb-label\" role=\"navigation\" \n\t >\n\t<h3 id=\"p-tb-label\">\n\t\t<span>Herramientas</span>\n\t</h3>\n\t<div class=\"vector-menu-content\">\n\t\t<ul class=\"vector-menu-content-list\"><li id=\"t-whatlinkshere\"><a href=\"/wiki/Especial:LoQueEnlazaAqu%C3%AD/Anexo:Playas_de_Costa_Rica\" title=\"Lista de todas las páginas del wiki que enlazan aquí [j]\" accesskey=\"j\">Lo que enlaza aquí</a></li><li id=\"t-recentchangeslinked\"><a href=\"/wiki/Especial:CambiosEnEnlazadas/Anexo:Playas_de_Costa_Rica\" rel=\"nofollow\" title=\"Cambios recientes en las páginas que enlazan con esta [k]\" accesskey=\"k\">Cambios en enlazadas</a></li><li id=\"t-upload\"><a href=\"//commons.wikimedia.org/wiki/Special:UploadWizard?uselang=es\" title=\"Subir archivos [u]\" accesskey=\"u\">Subir archivo</a></li><li id=\"t-specialpages\"><a href=\"/wiki/Especial:P%C3%A1ginasEspeciales\" title=\"Lista de todas las páginas especiales [q]\" accesskey=\"q\">Páginas especiales</a></li><li id=\"t-permalink\"><a href=\"/w/index.php?title=Anexo:Playas_de_Costa_Rica&amp;oldid=122449102\" title=\"Enlace permanente a esta versión de la página\">Enlace permanente</a></li><li id=\"t-info\"><a href=\"/w/index.php?title=Anexo:Playas_de_Costa_Rica&amp;action=info\" title=\"Más información sobre esta página\">Información de la página</a></li><li id=\"t-cite\"><a href=\"/w/index.php?title=Especial:Citar&amp;page=Anexo%3APlayas_de_Costa_Rica&amp;id=122449102&amp;wpFormIdentifier=titleform\" title=\"Información sobre cómo citar esta página\">Citar esta página</a></li><li id=\"t-wikibase\"><a href=\"https://www.wikidata.org/wiki/Special:EntityPage/Q6607398\" title=\"Enlace al elemento conectado del repositorio de datos [g]\" accesskey=\"g\">Elemento de Wikidata</a></li></ul>\n\t\t\n\t</div>\n</nav>\n<!-- Please do not use role attribute as CSS selector, it is deprecated. -->\n<nav id=\"p-coll-print_export\" class=\"mw-portlet mw-portlet-coll-print_export vector-menu vector-menu-portal portal\" aria-labelledby=\"p-coll-print_export-label\" role=\"navigation\" \n\t >\n\t<h3 id=\"p-coll-print_export-label\">\n\t\t<span>Imprimir/exportar</span>\n\t</h3>\n\t<div class=\"vector-menu-content\">\n\t\t<ul class=\"vector-menu-content-list\"><li id=\"coll-create_a_book\"><a href=\"/w/index.php?title=Especial:Libro&amp;bookcmd=book_creator&amp;referer=Anexo%3APlayas+de+Costa+Rica\">Crear un libro</a></li><li id=\"coll-download-as-rl\"><a href=\"/w/index.php?title=Especial:DownloadAsPdf&amp;page=Anexo%3APlayas_de_Costa_Rica&amp;action=show-download-screen\">Descargar como PDF</a></li><li id=\"t-print\"><a href=\"/w/index.php?title=Anexo:Playas_de_Costa_Rica&amp;printable=yes\" title=\"Versión imprimible de esta página [p]\" accesskey=\"p\">Versión para imprimir</a></li></ul>\n\t\t\n\t</div>\n</nav>\n\n\t<!-- Please do not use role attribute as CSS selector, it is deprecated. -->\n<nav id=\"p-lang\" class=\"mw-portlet mw-portlet-lang vector-menu vector-menu-portal portal\" aria-labelledby=\"p-lang-label\" role=\"navigation\" \n\t >\n\t<h3 id=\"p-lang-label\">\n\t\t<span>En otros idiomas</span>\n\t</h3>\n\t<div class=\"vector-menu-content\">\n\t\t<ul class=\"vector-menu-content-list\"><li class=\"interlanguage-link interwiki-ar\"><a href=\"https://ar.wikipedia.org/wiki/%D9%82%D8%A7%D8%A6%D9%85%D8%A9_%D8%B4%D9%88%D8%A7%D8%B7%D8%A6_%D8%A7%D9%84%D8%B9%D8%A7%D9%84%D9%85\" title=\"قائمة شواطئ العالم (árabe)\" lang=\"ar\" hreflang=\"ar\" class=\"interlanguage-link-target\">العربية</a></li><li class=\"interlanguage-link interwiki-en\"><a href=\"https://en.wikipedia.org/wiki/List_of_beaches#Costa_Rica\" title=\"List of beaches (inglés)\" lang=\"en\" hreflang=\"en\" class=\"interlanguage-link-target\">English</a></li></ul>\n\t\t<div class=\"after-portlet after-portlet-lang\"><span class=\"wb-langlinks-edit wb-langlinks-link\"><a href=\"https://www.wikidata.org/wiki/Special:EntityPage/Q6607398#sitelinks-wikipedia\" title=\"Editar enlaces interlingüísticos\" class=\"wbc-editpage\">Editar enlaces</a></span></div>\n\t</div>\n</nav>\n\n</div>\n\n</div>\n<footer id=\"footer\" class=\"mw-footer\" role=\"contentinfo\" >\n\t<ul id=\"footer-info\" >\n\t<li id=\"footer-info-lastmod\"> Esta página se editó por última vez el 2 ene 2020 a las 18:56.</li>\n\t<li id=\"footer-info-copyright\">El texto está disponible bajo la <a rel=\"license\" href=\"//es.wikipedia.org/wiki/Wikipedia:Texto_de_la_Licencia_Creative_Commons_Atribuci%C3%B3n-CompartirIgual_3.0_Unported\">Licencia Creative Commons Atribución Compartir Igual 3.0</a><a rel=\"license\" href=\"http://creativecommons.org/licenses/by-sa/3.0/\" style=\"display:none;\"></a>;\npueden aplicarse cláusulas adicionales. Al usar este sitio, usted acepta nuestros <a href=\"//wikimediafoundation.org/wiki/Terms_of_Use\">términos de uso</a> y nuestra <a href=\"//wikimediafoundation.org/wiki/Privacy_policy\">política de privacidad</a>. <br/>Wikipedia&reg; es una marca registrada de la <a href=\"//www.wikimediafoundation.org/\">Fundación Wikimedia, Inc.</a>, una organización sin ánimo de lucro.</li>\n</ul>\n\n\t<ul id=\"footer-places\" >\n\t<li id=\"footer-places-privacy\"><a href=\"https://meta.wikimedia.org/wiki/Privacy_policy/es\" class=\"extiw\" title=\"m:Privacy policy/es\">Política de privacidad</a></li>\n\t<li id=\"footer-places-about\"><a href=\"/wiki/Wikipedia:Acerca_de\" title=\"Wikipedia:Acerca de\">Acerca de Wikipedia</a></li>\n\t<li id=\"footer-places-disclaimer\"><a href=\"/wiki/Wikipedia:Limitaci%C3%B3n_general_de_responsabilidad\" title=\"Wikipedia:Limitación general de responsabilidad\">Limitación de responsabilidad</a></li>\n\t<li id=\"footer-places-mobileview\"><a href=\"//es.m.wikipedia.org/w/index.php?title=Anexo:Playas_de_Costa_Rica&amp;mobileaction=toggle_view_mobile\" class=\"noprint stopMobileRedirectToggle\">Versión para móviles</a></li>\n\t<li id=\"footer-places-developers\"><a href=\"https://www.mediawiki.org/wiki/Special:MyLanguage/How_to_contribute\">Desarrolladores</a></li>\n\t<li id=\"footer-places-statslink\"><a href=\"https://stats.wikimedia.org/#/es.wikipedia.org\">Estadísticas</a></li>\n\t<li id=\"footer-places-cookiestatement\"><a href=\"https://foundation.wikimedia.org/wiki/Cookie_statement/es\">Declaración de cookies</a></li>\n</ul>\n\n\t<ul id=\"footer-icons\" class=\"noprint\">\n\t<li id=\"footer-copyrightico\"><a href=\"https://wikimediafoundation.org/\"><img src=\"/static/images/footer/wikimedia-button.png\" srcset=\"/static/images/footer/wikimedia-button-1.5x.png 1.5x, /static/images/footer/wikimedia-button-2x.png 2x\" width=\"88\" height=\"31\" alt=\"Wikimedia Foundation\" loading=\"lazy\" /></a></li>\n\t<li id=\"footer-poweredbyico\"><a href=\"https://www.mediawiki.org/\"><img src=\"/static/images/footer/poweredby_mediawiki_88x31.png\" alt=\"Powered by MediaWiki\" srcset=\"/static/images/footer/poweredby_mediawiki_132x47.png 1.5x, /static/images/footer/poweredby_mediawiki_176x62.png 2x\" width=\"88\" height=\"31\" loading=\"lazy\"/></a></li>\n</ul>\n\n\t<div style=\"clear: both;\"></div>\n</footer>\n\n\n<script>(RLQ=window.RLQ||[]).push(function(){mw.config.set({\"wgPageParseReport\":{\"limitreport\":{\"cputime\":\"0.068\",\"walltime\":\"0.084\",\"ppvisitednodes\":{\"value\":102,\"limit\":1000000},\"postexpandincludesize\":{\"value\":0,\"limit\":2097152},\"templateargumentsize\":{\"value\":0,\"limit\":2097152},\"expansiondepth\":{\"value\":2,\"limit\":40},\"expensivefunctioncount\":{\"value\":0,\"limit\":500},\"unstrip-depth\":{\"value\":0,\"limit\":20},\"unstrip-size\":{\"value\":0,\"limit\":5000000},\"entityaccesscount\":{\"value\":0,\"limit\":400},\"timingprofile\":[\"100.00%    0.000      1 -total\"]},\"cachereport\":{\"origin\":\"mw1320\",\"timestamp\":\"20201115170341\",\"ttl\":2592000,\"transientcontent\":false}}});mw.config.set({\"wgBackendResponseTime\":120,\"wgHostname\":\"mw1372\"});});</script>\n</body></html>\n"
     ]
    }
   ],
   "source": [
    "print(content)"
   ]
  },
  {
   "cell_type": "code",
   "execution_count": 84,
   "metadata": {},
   "outputs": [
    {
     "output_type": "stream",
     "name": "stdout",
     "text": [
      "/wiki/Refugio_Nacional_de_Fauna_Silvestre_Barra_del_Colorado\" class=\"mw-redirect\" title=\"Refugio Nacional de Fauna Silvestre Barra del Colorado\">Playa Barra del Colorado</a></li>\n\n"
     ]
    }
   ],
   "source": [
    "data = content.split('<li><a href=\"')\n",
    "print(data[1])"
   ]
  },
  {
   "cell_type": "code",
   "execution_count": 85,
   "metadata": {},
   "outputs": [
    {
     "output_type": "stream",
     "name": "stdout",
     "text": [
      "/wiki/Refugio_Nacional_de_Fauna_Silvestre_Barra_del_Colorado\" class=\"mw-redirect\" title=\"Refugio Nacional de Fauna Silvestre Barra del Colorado\">Playa Barra del Colorado</a></li>\n\n/w/index.php?title=Playa_Bonita_(Lim%C3%B3n)&amp;action=edit&amp;redlink=1\" class=\"new\" title=\"Playa Bonita (Limón) (aún no redactado)\">Playa Bonita</a></li>\n\n/w/index.php?title=Playa_Cahuita_(Blanca)&amp;action=edit&amp;redlink=1\" class=\"new\" title=\"Playa Cahuita (Blanca) (aún no redactado)\">Playa Cahuita (Blanca)</a></li>\n\n/wiki/Playa_Chiquita\" title=\"Playa Chiquita\">Playa Chiquita</a></li>\n\n/w/index.php?title=Punta_Cocles&amp;action=edit&amp;redlink=1\" class=\"new\" title=\"Punta Cocles (aún no redactado)\">Punta Cocles</a></li>\n\n/w/index.php?title=Playa_Gandoca&amp;action=edit&amp;redlink=1\" class=\"new\" title=\"Playa Gandoca (aún no redactado)\">Playa Gandoca</a></li>\n\n/w/index.php?title=Playa_Manzanillo_(Lim%C3%B3n)&amp;action=edit&amp;redlink=1\" class=\"new\" title=\"Playa Manzanillo (Limón) (aún no redactado)\">Playa Manzanillo</a></li>\n\n/w/index.php?title=Playa_Mo%C3%ADn&amp;action=edit&amp;redlink=1\" class=\"new\" title=\"Playa Moín (aún no redactado)\">Playa Moín</a></li>\n\n/w/index.php?title=Playa_Negra_(Puerto_Viejo)&amp;action=edit&amp;redlink=1\" class=\"new\" title=\"Playa Negra (Puerto Viejo) (aún no redactado)\">Playa Negra (Puerto Viejo)</a></li>\n\n/wiki/Parque_nacional_Cahuita\" title=\"Parque nacional Cahuita\">Playa Negra (Cahuita)</a></li>\n\n/w/index.php?title=Playa_Pirikiki&amp;action=edit&amp;redlink=1\" class=\"new\" title=\"Playa Pirikiki (aún no redactado)\">Playa Pirikiki</a></li>\n\n"
     ]
    }
   ],
   "source": [
    "for d in data[1:12]:\n",
    "    print(d)"
   ]
  },
  {
   "cell_type": "code",
   "execution_count": 97,
   "metadata": {
    "tags": []
   },
   "outputs": [],
   "source": [
    "playas2 = {}\n",
    "\n",
    "for d in data[1:-1]:\n",
    "    inicio = (d.find('\">') + 2)\n",
    "    final = (d.find('</'))\n",
    "    name = d[inicio:final]\n",
    "\n",
    "    # it seems the most popular beaches are complete but the others are \"aún no redactado\"\n",
    "    ini_red = d.find('aún no')\n",
    "\n",
    "    if ini_red != -1: # if \"aún no redactado\" exist is not popular\n",
    "        playas2[name] = False\n",
    "    else:\n",
    "        playas2[name] = True"
   ]
  },
  {
   "cell_type": "code",
   "execution_count": 98,
   "metadata": {},
   "outputs": [
    {
     "output_type": "execute_result",
     "data": {
      "text/plain": [
       "{'Playa Barra del Colorado': True,\n",
       " 'Playa Bonita': False,\n",
       " 'Playa Cahuita (Blanca)': False,\n",
       " 'Playa Chiquita': True,\n",
       " 'Punta Cocles': False,\n",
       " 'Playa Gandoca': False,\n",
       " 'Playa Manzanillo': False,\n",
       " 'Playa Moín': False,\n",
       " 'Playa Negra (Puerto Viejo)': False,\n",
       " 'Playa Negra (Cahuita)': True,\n",
       " 'Playa Pirikiki': False,\n",
       " 'Playa Portete': False,\n",
       " 'Playa Puerto Vargas': False,\n",
       " 'Playas Tortuguero': True,\n",
       " 'Playa Vizcaya': False,\n",
       " 'Playa Westfalia': False,\n",
       " 'Puerto Viejo de Talamanca': True,\n",
       " 'Punta Mona': True,\n",
       " 'Punta Uva': False,\n",
       " 'Playa Arbolito': False,\n",
       " 'Playa Avellanas': False,\n",
       " 'Playa Azul (Jurel)': False,\n",
       " 'Playa Bahía Junquillal': False,\n",
       " 'Playa Barco Quebrado': False,\n",
       " 'Playa Barrigona': False,\n",
       " 'Playa Bejuco': False,\n",
       " 'Playa Blanca (Santa Elena)': False,\n",
       " 'Playa Blanca y Virador': False,\n",
       " 'Playa Bongo': False,\n",
       " 'Playa Brasilito': False,\n",
       " 'Playa Buena Vista': False,\n",
       " 'Playa Camaronal': False,\n",
       " 'Playa Carbón': False,\n",
       " 'Playa Carmen': False,\n",
       " 'Playa Carrillo': True,\n",
       " 'Playa Cóncava': False,\n",
       " 'Playa Conchal': True,\n",
       " 'Playa Coyote': False,\n",
       " 'Playa Coyotera': False,\n",
       " 'Playa Cuajiniquil': False,\n",
       " 'Playa Culebra': False,\n",
       " 'Playas del Coco': True,\n",
       " 'Playa Flamingo': False,\n",
       " 'Playa Garza': False,\n",
       " 'Playa Grande': True,\n",
       " 'Playa Gringo': False,\n",
       " 'Playa Guiones': False,\n",
       " 'Playa Hermosa': True,\n",
       " 'Playa Iguanita': False,\n",
       " 'Playa Islita y Corozalito': False,\n",
       " 'Playa Jobo': False,\n",
       " 'Playa Junquillal': False,\n",
       " 'Playa La Penca': False,\n",
       " 'Playa Lagarto': False,\n",
       " 'Playa Langosta': False,\n",
       " 'Playa Mal País': False,\n",
       " 'Playa Marbella': False,\n",
       " 'Playa Manzanillo (Costa Rica)': False,\n",
       " 'Playa Nabos': False,\n",
       " 'Playa Nacascolo': False,\n",
       " 'Playa Nancite': False,\n",
       " 'Playa Naranjo': False,\n",
       " 'Playa Negra': False,\n",
       " 'Playa Nosara': True,\n",
       " 'Playa Nubes': False,\n",
       " 'Playa Ocotal': False,\n",
       " 'Playa Ostional': True,\n",
       " 'Playa Pan de Azúcar': False,\n",
       " 'Playa Panamá (Chrorotega)': False,\n",
       " 'Playa Pelada': False,\n",
       " 'Playa Pietra': False,\n",
       " 'Playa Pitahaya': False,\n",
       " 'Playa Pleito y San Juanillo': False,\n",
       " 'Playa Pochote (Papagayo)': True,\n",
       " 'Playa Potrero': False,\n",
       " 'Playa Real y Roble': False,\n",
       " 'Playa Rajada': False,\n",
       " 'Playa Sámara': False,\n",
       " 'Playa San Miguel': False,\n",
       " 'Playa Santa Teresa': False,\n",
       " 'Playa Surco de Piedra': False,\n",
       " 'Playa Prieta (Papagayo)': False,\n",
       " 'Playa Pochote (Salinas)': False,\n",
       " 'Playa Potrero Grande': False,\n",
       " 'Playa Puerto Soley': False,\n",
       " 'Playa Tamarindo': True,\n",
       " 'Playa Ventanas': False,\n",
       " 'Balnerario Puntarenas': True,\n",
       " 'Playa Agujas': False,\n",
       " 'Playa Bahía Drake': False,\n",
       " 'Playa Ballena': False,\n",
       " 'Playa Barú': False,\n",
       " 'Playa Blanca': False,\n",
       " 'Playa Boca Vieja': False,\n",
       " 'Playa Cabo Blanco': True,\n",
       " 'Playa Cabuya': False,\n",
       " 'Playa Cocalito': False,\n",
       " 'Playa Cacao': False,\n",
       " 'Playa Caldera': True,\n",
       " 'Playa Carate': False,\n",
       " 'Playa Curú': False,\n",
       " 'Playa de Arco': False,\n",
       " 'Playa de Doña Ana': False,\n",
       " 'Playa Dominical': True,\n",
       " 'Playa Dominicalito': False,\n",
       " 'Playa Espadilla': True,\n",
       " 'Playa Esterillos': True,\n",
       " 'Playa Garza (Boca Brava)': False,\n",
       " 'Playa Gigante': False,\n",
       " 'Playa Herradura': False,\n",
       " 'Playa Isla Damas': False,\n",
       " 'Playa Jacó': True,\n",
       " 'Playa Llorona': False,\n",
       " 'Playa Madrigal': False,\n",
       " 'Playa Mata de Limón': False,\n",
       " 'Playa Mantas': False,\n",
       " 'Playas Manuel Antonio': True,\n",
       " 'Playa Matapalo': False,\n",
       " 'Playa Montezuma': False,\n",
       " 'Playa Órganos': False,\n",
       " 'Playa Palma': False,\n",
       " 'Playa Palo Seco': False,\n",
       " 'Playa Pavones': False,\n",
       " 'Playa Piñuela': False,\n",
       " 'Playa Platanares': False,\n",
       " 'Playa Pógeres': False,\n",
       " 'Playa Quizales': False,\n",
       " 'Playa San Josecito (Golfito)': False,\n",
       " 'Playa Savegre': False,\n",
       " 'Playa Sombrero': False,\n",
       " 'Playa Tamales': False,\n",
       " 'Playa Tambor': True,\n",
       " 'Playa Tárcoles': False,\n",
       " 'Playa Tivives': False,\n",
       " 'Playa Tortuga': True,\n",
       " 'Playa Uvita': False,\n",
       " 'Playa Zancudo': False}"
      ]
     },
     "metadata": {},
     "execution_count": 98
    }
   ],
   "source": [
    "playas2"
   ]
  },
  {
   "cell_type": "code",
   "execution_count": 96,
   "metadata": {},
   "outputs": [
    {
     "output_type": "execute_result",
     "data": {
      "text/plain": [
       "137"
      ]
     },
     "metadata": {},
     "execution_count": 96
    }
   ],
   "source": [
    "len(playas2.keys())"
   ]
  },
  {
   "cell_type": "code",
   "execution_count": null,
   "metadata": {},
   "outputs": [],
   "source": []
  },
  {
   "cell_type": "code",
   "execution_count": 25,
   "metadata": {},
   "outputs": [
    {
     "output_type": "stream",
     "name": "stdout",
     "text": [
      "[\"b''\"]\n"
     ]
    }
   ],
   "source": [
    "print(data)"
   ]
  },
  {
   "cell_type": "code",
   "execution_count": null,
   "metadata": {},
   "outputs": [],
   "source": []
  },
  {
   "cell_type": "code",
   "execution_count": null,
   "metadata": {},
   "outputs": [],
   "source": []
  },
  {
   "cell_type": "code",
   "execution_count": null,
   "metadata": {},
   "outputs": [],
   "source": []
  },
  {
   "cell_type": "code",
   "execution_count": null,
   "metadata": {},
   "outputs": [],
   "source": []
  },
  {
   "cell_type": "code",
   "execution_count": 75,
   "metadata": {},
   "outputs": [
    {
     "output_type": "stream",
     "name": "stdout",
     "text": [
      "Playa Zancudo, Ferrocarril del Sur, Kilometro 7, Florida, Golfito, Cantón Golfito, 60701, Costa Rica\n"
     ]
    }
   ],
   "source": [
    "#to practice let's find the location of the first place in the list\n",
    "\n",
    "address = 'Playa Zancudo, Costa Rica'\n",
    "\n",
    "geolocator = Nominatim(user_agent=\"cr_explorer\")\n",
    "location = geolocator.geocode(address)\n",
    "print(location)\n",
    "#latitude = location.latitude\n",
    "#longitude = location.longitude\n",
    "#print(type(latitude))\n",
    "#li.append(latitude)\n",
    "#print('The geograpical coordinate of New York City are {}, {}.'.format(latitude, longitude))"
   ]
  },
  {
   "cell_type": "code",
   "execution_count": null,
   "metadata": {},
   "outputs": [],
   "source": [
    "\n"
   ]
  },
  {
   "cell_type": "code",
   "execution_count": 94,
   "metadata": {},
   "outputs": [
    {
     "output_type": "stream",
     "name": "stdout",
     "text": [
      "Playa Barra del Colorado, Costa Rica\n",
      "Playa Bonita, Costa Rica\n"
     ]
    },
    {
     "output_type": "error",
     "ename": "GeocoderUnavailable",
     "evalue": "HTTPSConnectionPool(host='nominatim.openstreetmap.org', port=443): Max retries exceeded with url: /search?q=Playa+Bonita%2C+Costa+Rica&format=json&limit=1 (Caused by ConnectTimeoutError(<urllib3.connection.HTTPSConnection object at 0x14F90BB0>, 'Connection to nominatim.openstreetmap.org timed out. (connect timeout=1)'))",
     "traceback": [
      "\u001b[1;31m---------------------------------------------------------------------------\u001b[0m",
      "\u001b[1;31mtimeout\u001b[0m                                   Traceback (most recent call last)",
      "\u001b[1;32m~\\AppData\\Local\\Programs\\Python\\Python38-32\\lib\\site-packages\\urllib3\\connection.py\u001b[0m in \u001b[0;36m_new_conn\u001b[1;34m(self)\u001b[0m\n\u001b[0;32m    158\u001b[0m         \u001b[1;32mtry\u001b[0m\u001b[1;33m:\u001b[0m\u001b[1;33m\u001b[0m\u001b[1;33m\u001b[0m\u001b[0m\n\u001b[1;32m--> 159\u001b[1;33m             conn = connection.create_connection(\n\u001b[0m\u001b[0;32m    160\u001b[0m                 \u001b[1;33m(\u001b[0m\u001b[0mself\u001b[0m\u001b[1;33m.\u001b[0m\u001b[0m_dns_host\u001b[0m\u001b[1;33m,\u001b[0m \u001b[0mself\u001b[0m\u001b[1;33m.\u001b[0m\u001b[0mport\u001b[0m\u001b[1;33m)\u001b[0m\u001b[1;33m,\u001b[0m \u001b[0mself\u001b[0m\u001b[1;33m.\u001b[0m\u001b[0mtimeout\u001b[0m\u001b[1;33m,\u001b[0m \u001b[1;33m**\u001b[0m\u001b[0mextra_kw\u001b[0m\u001b[1;33m\u001b[0m\u001b[1;33m\u001b[0m\u001b[0m\n",
      "\u001b[1;32m~\\AppData\\Local\\Programs\\Python\\Python38-32\\lib\\site-packages\\urllib3\\util\\connection.py\u001b[0m in \u001b[0;36mcreate_connection\u001b[1;34m(address, timeout, source_address, socket_options)\u001b[0m\n\u001b[0;32m     83\u001b[0m     \u001b[1;32mif\u001b[0m \u001b[0merr\u001b[0m \u001b[1;32mis\u001b[0m \u001b[1;32mnot\u001b[0m \u001b[1;32mNone\u001b[0m\u001b[1;33m:\u001b[0m\u001b[1;33m\u001b[0m\u001b[1;33m\u001b[0m\u001b[0m\n\u001b[1;32m---> 84\u001b[1;33m         \u001b[1;32mraise\u001b[0m \u001b[0merr\u001b[0m\u001b[1;33m\u001b[0m\u001b[1;33m\u001b[0m\u001b[0m\n\u001b[0m\u001b[0;32m     85\u001b[0m \u001b[1;33m\u001b[0m\u001b[0m\n",
      "\u001b[1;32m~\\AppData\\Local\\Programs\\Python\\Python38-32\\lib\\site-packages\\urllib3\\util\\connection.py\u001b[0m in \u001b[0;36mcreate_connection\u001b[1;34m(address, timeout, source_address, socket_options)\u001b[0m\n\u001b[0;32m     73\u001b[0m                 \u001b[0msock\u001b[0m\u001b[1;33m.\u001b[0m\u001b[0mbind\u001b[0m\u001b[1;33m(\u001b[0m\u001b[0msource_address\u001b[0m\u001b[1;33m)\u001b[0m\u001b[1;33m\u001b[0m\u001b[1;33m\u001b[0m\u001b[0m\n\u001b[1;32m---> 74\u001b[1;33m             \u001b[0msock\u001b[0m\u001b[1;33m.\u001b[0m\u001b[0mconnect\u001b[0m\u001b[1;33m(\u001b[0m\u001b[0msa\u001b[0m\u001b[1;33m)\u001b[0m\u001b[1;33m\u001b[0m\u001b[1;33m\u001b[0m\u001b[0m\n\u001b[0m\u001b[0;32m     75\u001b[0m             \u001b[1;32mreturn\u001b[0m \u001b[0msock\u001b[0m\u001b[1;33m\u001b[0m\u001b[1;33m\u001b[0m\u001b[0m\n",
      "\u001b[1;31mtimeout\u001b[0m: timed out",
      "\nDuring handling of the above exception, another exception occurred:\n",
      "\u001b[1;31mConnectTimeoutError\u001b[0m                       Traceback (most recent call last)",
      "\u001b[1;32m~\\AppData\\Local\\Programs\\Python\\Python38-32\\lib\\site-packages\\urllib3\\connectionpool.py\u001b[0m in \u001b[0;36murlopen\u001b[1;34m(self, method, url, body, headers, retries, redirect, assert_same_host, timeout, pool_timeout, release_conn, chunked, body_pos, **response_kw)\u001b[0m\n\u001b[0;32m    669\u001b[0m             \u001b[1;31m# Make the request on the httplib connection object.\u001b[0m\u001b[1;33m\u001b[0m\u001b[1;33m\u001b[0m\u001b[1;33m\u001b[0m\u001b[0m\n\u001b[1;32m--> 670\u001b[1;33m             httplib_response = self._make_request(\n\u001b[0m\u001b[0;32m    671\u001b[0m                 \u001b[0mconn\u001b[0m\u001b[1;33m,\u001b[0m\u001b[1;33m\u001b[0m\u001b[1;33m\u001b[0m\u001b[0m\n",
      "\u001b[1;32m~\\AppData\\Local\\Programs\\Python\\Python38-32\\lib\\site-packages\\urllib3\\connectionpool.py\u001b[0m in \u001b[0;36m_make_request\u001b[1;34m(self, conn, method, url, timeout, chunked, **httplib_request_kw)\u001b[0m\n\u001b[0;32m    380\u001b[0m         \u001b[1;32mtry\u001b[0m\u001b[1;33m:\u001b[0m\u001b[1;33m\u001b[0m\u001b[1;33m\u001b[0m\u001b[0m\n\u001b[1;32m--> 381\u001b[1;33m             \u001b[0mself\u001b[0m\u001b[1;33m.\u001b[0m\u001b[0m_validate_conn\u001b[0m\u001b[1;33m(\u001b[0m\u001b[0mconn\u001b[0m\u001b[1;33m)\u001b[0m\u001b[1;33m\u001b[0m\u001b[1;33m\u001b[0m\u001b[0m\n\u001b[0m\u001b[0;32m    382\u001b[0m         \u001b[1;32mexcept\u001b[0m \u001b[1;33m(\u001b[0m\u001b[0mSocketTimeout\u001b[0m\u001b[1;33m,\u001b[0m \u001b[0mBaseSSLError\u001b[0m\u001b[1;33m)\u001b[0m \u001b[1;32mas\u001b[0m \u001b[0me\u001b[0m\u001b[1;33m:\u001b[0m\u001b[1;33m\u001b[0m\u001b[1;33m\u001b[0m\u001b[0m\n",
      "\u001b[1;32m~\\AppData\\Local\\Programs\\Python\\Python38-32\\lib\\site-packages\\urllib3\\connectionpool.py\u001b[0m in \u001b[0;36m_validate_conn\u001b[1;34m(self, conn)\u001b[0m\n\u001b[0;32m    977\u001b[0m         \u001b[1;32mif\u001b[0m \u001b[1;32mnot\u001b[0m \u001b[0mgetattr\u001b[0m\u001b[1;33m(\u001b[0m\u001b[0mconn\u001b[0m\u001b[1;33m,\u001b[0m \u001b[1;34m\"sock\"\u001b[0m\u001b[1;33m,\u001b[0m \u001b[1;32mNone\u001b[0m\u001b[1;33m)\u001b[0m\u001b[1;33m:\u001b[0m  \u001b[1;31m# AppEngine might not have  `.sock`\u001b[0m\u001b[1;33m\u001b[0m\u001b[1;33m\u001b[0m\u001b[0m\n\u001b[1;32m--> 978\u001b[1;33m             \u001b[0mconn\u001b[0m\u001b[1;33m.\u001b[0m\u001b[0mconnect\u001b[0m\u001b[1;33m(\u001b[0m\u001b[1;33m)\u001b[0m\u001b[1;33m\u001b[0m\u001b[1;33m\u001b[0m\u001b[0m\n\u001b[0m\u001b[0;32m    979\u001b[0m \u001b[1;33m\u001b[0m\u001b[0m\n",
      "\u001b[1;32m~\\AppData\\Local\\Programs\\Python\\Python38-32\\lib\\site-packages\\urllib3\\connection.py\u001b[0m in \u001b[0;36mconnect\u001b[1;34m(self)\u001b[0m\n\u001b[0;32m    308\u001b[0m         \u001b[1;31m# Add certificate verification\u001b[0m\u001b[1;33m\u001b[0m\u001b[1;33m\u001b[0m\u001b[1;33m\u001b[0m\u001b[0m\n\u001b[1;32m--> 309\u001b[1;33m         \u001b[0mconn\u001b[0m \u001b[1;33m=\u001b[0m \u001b[0mself\u001b[0m\u001b[1;33m.\u001b[0m\u001b[0m_new_conn\u001b[0m\u001b[1;33m(\u001b[0m\u001b[1;33m)\u001b[0m\u001b[1;33m\u001b[0m\u001b[1;33m\u001b[0m\u001b[0m\n\u001b[0m\u001b[0;32m    310\u001b[0m         \u001b[0mhostname\u001b[0m \u001b[1;33m=\u001b[0m \u001b[0mself\u001b[0m\u001b[1;33m.\u001b[0m\u001b[0mhost\u001b[0m\u001b[1;33m\u001b[0m\u001b[1;33m\u001b[0m\u001b[0m\n",
      "\u001b[1;32m~\\AppData\\Local\\Programs\\Python\\Python38-32\\lib\\site-packages\\urllib3\\connection.py\u001b[0m in \u001b[0;36m_new_conn\u001b[1;34m(self)\u001b[0m\n\u001b[0;32m    163\u001b[0m         \u001b[1;32mexcept\u001b[0m \u001b[0mSocketTimeout\u001b[0m\u001b[1;33m:\u001b[0m\u001b[1;33m\u001b[0m\u001b[1;33m\u001b[0m\u001b[0m\n\u001b[1;32m--> 164\u001b[1;33m             raise ConnectTimeoutError(\n\u001b[0m\u001b[0;32m    165\u001b[0m                 \u001b[0mself\u001b[0m\u001b[1;33m,\u001b[0m\u001b[1;33m\u001b[0m\u001b[1;33m\u001b[0m\u001b[0m\n",
      "\u001b[1;31mConnectTimeoutError\u001b[0m: (<urllib3.connection.HTTPSConnection object at 0x14F90BB0>, 'Connection to nominatim.openstreetmap.org timed out. (connect timeout=1)')",
      "\nDuring handling of the above exception, another exception occurred:\n",
      "\u001b[1;31mMaxRetryError\u001b[0m                             Traceback (most recent call last)",
      "\u001b[1;32m~\\AppData\\Local\\Programs\\Python\\Python38-32\\lib\\site-packages\\requests\\adapters.py\u001b[0m in \u001b[0;36msend\u001b[1;34m(self, request, stream, timeout, verify, cert, proxies)\u001b[0m\n\u001b[0;32m    438\u001b[0m             \u001b[1;32mif\u001b[0m \u001b[1;32mnot\u001b[0m \u001b[0mchunked\u001b[0m\u001b[1;33m:\u001b[0m\u001b[1;33m\u001b[0m\u001b[1;33m\u001b[0m\u001b[0m\n\u001b[1;32m--> 439\u001b[1;33m                 resp = conn.urlopen(\n\u001b[0m\u001b[0;32m    440\u001b[0m                     \u001b[0mmethod\u001b[0m\u001b[1;33m=\u001b[0m\u001b[0mrequest\u001b[0m\u001b[1;33m.\u001b[0m\u001b[0mmethod\u001b[0m\u001b[1;33m,\u001b[0m\u001b[1;33m\u001b[0m\u001b[1;33m\u001b[0m\u001b[0m\n",
      "\u001b[1;32m~\\AppData\\Local\\Programs\\Python\\Python38-32\\lib\\site-packages\\urllib3\\connectionpool.py\u001b[0m in \u001b[0;36murlopen\u001b[1;34m(self, method, url, body, headers, retries, redirect, assert_same_host, timeout, pool_timeout, release_conn, chunked, body_pos, **response_kw)\u001b[0m\n\u001b[0;32m    753\u001b[0m             )\n\u001b[1;32m--> 754\u001b[1;33m             return self.urlopen(\n\u001b[0m\u001b[0;32m    755\u001b[0m                 \u001b[0mmethod\u001b[0m\u001b[1;33m,\u001b[0m\u001b[1;33m\u001b[0m\u001b[1;33m\u001b[0m\u001b[0m\n",
      "\u001b[1;32m~\\AppData\\Local\\Programs\\Python\\Python38-32\\lib\\site-packages\\urllib3\\connectionpool.py\u001b[0m in \u001b[0;36murlopen\u001b[1;34m(self, method, url, body, headers, retries, redirect, assert_same_host, timeout, pool_timeout, release_conn, chunked, body_pos, **response_kw)\u001b[0m\n\u001b[0;32m    753\u001b[0m             )\n\u001b[1;32m--> 754\u001b[1;33m             return self.urlopen(\n\u001b[0m\u001b[0;32m    755\u001b[0m                 \u001b[0mmethod\u001b[0m\u001b[1;33m,\u001b[0m\u001b[1;33m\u001b[0m\u001b[1;33m\u001b[0m\u001b[0m\n",
      "\u001b[1;32m~\\AppData\\Local\\Programs\\Python\\Python38-32\\lib\\site-packages\\urllib3\\connectionpool.py\u001b[0m in \u001b[0;36murlopen\u001b[1;34m(self, method, url, body, headers, retries, redirect, assert_same_host, timeout, pool_timeout, release_conn, chunked, body_pos, **response_kw)\u001b[0m\n\u001b[0;32m    725\u001b[0m \u001b[1;33m\u001b[0m\u001b[0m\n\u001b[1;32m--> 726\u001b[1;33m             retries = retries.increment(\n\u001b[0m\u001b[0;32m    727\u001b[0m                 \u001b[0mmethod\u001b[0m\u001b[1;33m,\u001b[0m \u001b[0murl\u001b[0m\u001b[1;33m,\u001b[0m \u001b[0merror\u001b[0m\u001b[1;33m=\u001b[0m\u001b[0me\u001b[0m\u001b[1;33m,\u001b[0m \u001b[0m_pool\u001b[0m\u001b[1;33m=\u001b[0m\u001b[0mself\u001b[0m\u001b[1;33m,\u001b[0m \u001b[0m_stacktrace\u001b[0m\u001b[1;33m=\u001b[0m\u001b[0msys\u001b[0m\u001b[1;33m.\u001b[0m\u001b[0mexc_info\u001b[0m\u001b[1;33m(\u001b[0m\u001b[1;33m)\u001b[0m\u001b[1;33m[\u001b[0m\u001b[1;36m2\u001b[0m\u001b[1;33m]\u001b[0m\u001b[1;33m\u001b[0m\u001b[1;33m\u001b[0m\u001b[0m\n",
      "\u001b[1;32m~\\AppData\\Local\\Programs\\Python\\Python38-32\\lib\\site-packages\\urllib3\\util\\retry.py\u001b[0m in \u001b[0;36mincrement\u001b[1;34m(self, method, url, response, error, _pool, _stacktrace)\u001b[0m\n\u001b[0;32m    438\u001b[0m         \u001b[1;32mif\u001b[0m \u001b[0mnew_retry\u001b[0m\u001b[1;33m.\u001b[0m\u001b[0mis_exhausted\u001b[0m\u001b[1;33m(\u001b[0m\u001b[1;33m)\u001b[0m\u001b[1;33m:\u001b[0m\u001b[1;33m\u001b[0m\u001b[1;33m\u001b[0m\u001b[0m\n\u001b[1;32m--> 439\u001b[1;33m             \u001b[1;32mraise\u001b[0m \u001b[0mMaxRetryError\u001b[0m\u001b[1;33m(\u001b[0m\u001b[0m_pool\u001b[0m\u001b[1;33m,\u001b[0m \u001b[0murl\u001b[0m\u001b[1;33m,\u001b[0m \u001b[0merror\u001b[0m \u001b[1;32mor\u001b[0m \u001b[0mResponseError\u001b[0m\u001b[1;33m(\u001b[0m\u001b[0mcause\u001b[0m\u001b[1;33m)\u001b[0m\u001b[1;33m)\u001b[0m\u001b[1;33m\u001b[0m\u001b[1;33m\u001b[0m\u001b[0m\n\u001b[0m\u001b[0;32m    440\u001b[0m \u001b[1;33m\u001b[0m\u001b[0m\n",
      "\u001b[1;31mMaxRetryError\u001b[0m: HTTPSConnectionPool(host='nominatim.openstreetmap.org', port=443): Max retries exceeded with url: /search?q=Playa+Bonita%2C+Costa+Rica&format=json&limit=1 (Caused by ConnectTimeoutError(<urllib3.connection.HTTPSConnection object at 0x14F90BB0>, 'Connection to nominatim.openstreetmap.org timed out. (connect timeout=1)'))",
      "\nDuring handling of the above exception, another exception occurred:\n",
      "\u001b[1;31mConnectTimeout\u001b[0m                            Traceback (most recent call last)",
      "\u001b[1;32m~\\AppData\\Local\\Programs\\Python\\Python38-32\\lib\\site-packages\\geopy\\adapters.py\u001b[0m in \u001b[0;36m_request\u001b[1;34m(self, url, timeout, headers)\u001b[0m\n\u001b[0;32m    382\u001b[0m         \u001b[1;32mtry\u001b[0m\u001b[1;33m:\u001b[0m\u001b[1;33m\u001b[0m\u001b[1;33m\u001b[0m\u001b[0m\n\u001b[1;32m--> 383\u001b[1;33m             \u001b[0mresp\u001b[0m \u001b[1;33m=\u001b[0m \u001b[0mself\u001b[0m\u001b[1;33m.\u001b[0m\u001b[0msession\u001b[0m\u001b[1;33m.\u001b[0m\u001b[0mget\u001b[0m\u001b[1;33m(\u001b[0m\u001b[0murl\u001b[0m\u001b[1;33m,\u001b[0m \u001b[0mtimeout\u001b[0m\u001b[1;33m=\u001b[0m\u001b[0mtimeout\u001b[0m\u001b[1;33m,\u001b[0m \u001b[0mheaders\u001b[0m\u001b[1;33m=\u001b[0m\u001b[0mheaders\u001b[0m\u001b[1;33m)\u001b[0m\u001b[1;33m\u001b[0m\u001b[1;33m\u001b[0m\u001b[0m\n\u001b[0m\u001b[0;32m    384\u001b[0m         \u001b[1;32mexcept\u001b[0m \u001b[0mException\u001b[0m \u001b[1;32mas\u001b[0m \u001b[0merror\u001b[0m\u001b[1;33m:\u001b[0m\u001b[1;33m\u001b[0m\u001b[1;33m\u001b[0m\u001b[0m\n",
      "\u001b[1;32m~\\AppData\\Local\\Programs\\Python\\Python38-32\\lib\\site-packages\\requests\\sessions.py\u001b[0m in \u001b[0;36mget\u001b[1;34m(self, url, **kwargs)\u001b[0m\n\u001b[0;32m    542\u001b[0m         \u001b[0mkwargs\u001b[0m\u001b[1;33m.\u001b[0m\u001b[0msetdefault\u001b[0m\u001b[1;33m(\u001b[0m\u001b[1;34m'allow_redirects'\u001b[0m\u001b[1;33m,\u001b[0m \u001b[1;32mTrue\u001b[0m\u001b[1;33m)\u001b[0m\u001b[1;33m\u001b[0m\u001b[1;33m\u001b[0m\u001b[0m\n\u001b[1;32m--> 543\u001b[1;33m         \u001b[1;32mreturn\u001b[0m \u001b[0mself\u001b[0m\u001b[1;33m.\u001b[0m\u001b[0mrequest\u001b[0m\u001b[1;33m(\u001b[0m\u001b[1;34m'GET'\u001b[0m\u001b[1;33m,\u001b[0m \u001b[0murl\u001b[0m\u001b[1;33m,\u001b[0m \u001b[1;33m**\u001b[0m\u001b[0mkwargs\u001b[0m\u001b[1;33m)\u001b[0m\u001b[1;33m\u001b[0m\u001b[1;33m\u001b[0m\u001b[0m\n\u001b[0m\u001b[0;32m    544\u001b[0m \u001b[1;33m\u001b[0m\u001b[0m\n",
      "\u001b[1;32m~\\AppData\\Local\\Programs\\Python\\Python38-32\\lib\\site-packages\\requests\\sessions.py\u001b[0m in \u001b[0;36mrequest\u001b[1;34m(self, method, url, params, data, headers, cookies, files, auth, timeout, allow_redirects, proxies, hooks, stream, verify, cert, json)\u001b[0m\n\u001b[0;32m    529\u001b[0m         \u001b[0msend_kwargs\u001b[0m\u001b[1;33m.\u001b[0m\u001b[0mupdate\u001b[0m\u001b[1;33m(\u001b[0m\u001b[0msettings\u001b[0m\u001b[1;33m)\u001b[0m\u001b[1;33m\u001b[0m\u001b[1;33m\u001b[0m\u001b[0m\n\u001b[1;32m--> 530\u001b[1;33m         \u001b[0mresp\u001b[0m \u001b[1;33m=\u001b[0m \u001b[0mself\u001b[0m\u001b[1;33m.\u001b[0m\u001b[0msend\u001b[0m\u001b[1;33m(\u001b[0m\u001b[0mprep\u001b[0m\u001b[1;33m,\u001b[0m \u001b[1;33m**\u001b[0m\u001b[0msend_kwargs\u001b[0m\u001b[1;33m)\u001b[0m\u001b[1;33m\u001b[0m\u001b[1;33m\u001b[0m\u001b[0m\n\u001b[0m\u001b[0;32m    531\u001b[0m \u001b[1;33m\u001b[0m\u001b[0m\n",
      "\u001b[1;32m~\\AppData\\Local\\Programs\\Python\\Python38-32\\lib\\site-packages\\requests\\sessions.py\u001b[0m in \u001b[0;36msend\u001b[1;34m(self, request, **kwargs)\u001b[0m\n\u001b[0;32m    642\u001b[0m         \u001b[1;31m# Send the request\u001b[0m\u001b[1;33m\u001b[0m\u001b[1;33m\u001b[0m\u001b[1;33m\u001b[0m\u001b[0m\n\u001b[1;32m--> 643\u001b[1;33m         \u001b[0mr\u001b[0m \u001b[1;33m=\u001b[0m \u001b[0madapter\u001b[0m\u001b[1;33m.\u001b[0m\u001b[0msend\u001b[0m\u001b[1;33m(\u001b[0m\u001b[0mrequest\u001b[0m\u001b[1;33m,\u001b[0m \u001b[1;33m**\u001b[0m\u001b[0mkwargs\u001b[0m\u001b[1;33m)\u001b[0m\u001b[1;33m\u001b[0m\u001b[1;33m\u001b[0m\u001b[0m\n\u001b[0m\u001b[0;32m    644\u001b[0m \u001b[1;33m\u001b[0m\u001b[0m\n",
      "\u001b[1;32m~\\AppData\\Local\\Programs\\Python\\Python38-32\\lib\\site-packages\\requests\\adapters.py\u001b[0m in \u001b[0;36msend\u001b[1;34m(self, request, stream, timeout, verify, cert, proxies)\u001b[0m\n\u001b[0;32m    503\u001b[0m                 \u001b[1;32mif\u001b[0m \u001b[1;32mnot\u001b[0m \u001b[0misinstance\u001b[0m\u001b[1;33m(\u001b[0m\u001b[0me\u001b[0m\u001b[1;33m.\u001b[0m\u001b[0mreason\u001b[0m\u001b[1;33m,\u001b[0m \u001b[0mNewConnectionError\u001b[0m\u001b[1;33m)\u001b[0m\u001b[1;33m:\u001b[0m\u001b[1;33m\u001b[0m\u001b[1;33m\u001b[0m\u001b[0m\n\u001b[1;32m--> 504\u001b[1;33m                     \u001b[1;32mraise\u001b[0m \u001b[0mConnectTimeout\u001b[0m\u001b[1;33m(\u001b[0m\u001b[0me\u001b[0m\u001b[1;33m,\u001b[0m \u001b[0mrequest\u001b[0m\u001b[1;33m=\u001b[0m\u001b[0mrequest\u001b[0m\u001b[1;33m)\u001b[0m\u001b[1;33m\u001b[0m\u001b[1;33m\u001b[0m\u001b[0m\n\u001b[0m\u001b[0;32m    505\u001b[0m \u001b[1;33m\u001b[0m\u001b[0m\n",
      "\u001b[1;31mConnectTimeout\u001b[0m: HTTPSConnectionPool(host='nominatim.openstreetmap.org', port=443): Max retries exceeded with url: /search?q=Playa+Bonita%2C+Costa+Rica&format=json&limit=1 (Caused by ConnectTimeoutError(<urllib3.connection.HTTPSConnection object at 0x14F90BB0>, 'Connection to nominatim.openstreetmap.org timed out. (connect timeout=1)'))",
      "\nDuring handling of the above exception, another exception occurred:\n",
      "\u001b[1;31mGeocoderUnavailable\u001b[0m                       Traceback (most recent call last)",
      "\u001b[1;32m<ipython-input-94-a2ecb7cb17c1>\u001b[0m in \u001b[0;36m<module>\u001b[1;34m\u001b[0m\n\u001b[0;32m      8\u001b[0m     \u001b[1;31m#print(type(address))\u001b[0m\u001b[1;33m\u001b[0m\u001b[1;33m\u001b[0m\u001b[1;33m\u001b[0m\u001b[0m\n\u001b[0;32m      9\u001b[0m \u001b[1;33m\u001b[0m\u001b[0m\n\u001b[1;32m---> 10\u001b[1;33m     \u001b[0mlocation\u001b[0m \u001b[1;33m=\u001b[0m \u001b[0mgeolocator\u001b[0m\u001b[1;33m.\u001b[0m\u001b[0mgeocode\u001b[0m\u001b[1;33m(\u001b[0m\u001b[0maddress\u001b[0m\u001b[1;33m)\u001b[0m\u001b[1;33m\u001b[0m\u001b[1;33m\u001b[0m\u001b[0m\n\u001b[0m\u001b[0;32m     11\u001b[0m \u001b[1;33m\u001b[0m\u001b[0m\n\u001b[0;32m     12\u001b[0m     \u001b[1;32mif\u001b[0m \u001b[0mlocation\u001b[0m \u001b[1;33m==\u001b[0m \u001b[1;32mNone\u001b[0m\u001b[1;33m:\u001b[0m\u001b[1;33m\u001b[0m\u001b[1;33m\u001b[0m\u001b[0m\n",
      "\u001b[1;32m~\\AppData\\Local\\Programs\\Python\\Python38-32\\lib\\site-packages\\geopy\\geocoders\\nominatim.py\u001b[0m in \u001b[0;36mgeocode\u001b[1;34m(self, query, exactly_one, timeout, limit, addressdetails, language, geometry, extratags, country_codes, viewbox, bounded, featuretype, namedetails)\u001b[0m\n\u001b[0;32m    292\u001b[0m         \u001b[0mlogger\u001b[0m\u001b[1;33m.\u001b[0m\u001b[0mdebug\u001b[0m\u001b[1;33m(\u001b[0m\u001b[1;34m\"%s.geocode: %s\"\u001b[0m\u001b[1;33m,\u001b[0m \u001b[0mself\u001b[0m\u001b[1;33m.\u001b[0m\u001b[0m__class__\u001b[0m\u001b[1;33m.\u001b[0m\u001b[0m__name__\u001b[0m\u001b[1;33m,\u001b[0m \u001b[0murl\u001b[0m\u001b[1;33m)\u001b[0m\u001b[1;33m\u001b[0m\u001b[1;33m\u001b[0m\u001b[0m\n\u001b[0;32m    293\u001b[0m         \u001b[0mcallback\u001b[0m \u001b[1;33m=\u001b[0m \u001b[0mpartial\u001b[0m\u001b[1;33m(\u001b[0m\u001b[0mself\u001b[0m\u001b[1;33m.\u001b[0m\u001b[0m_parse_json\u001b[0m\u001b[1;33m,\u001b[0m \u001b[0mexactly_one\u001b[0m\u001b[1;33m=\u001b[0m\u001b[0mexactly_one\u001b[0m\u001b[1;33m)\u001b[0m\u001b[1;33m\u001b[0m\u001b[1;33m\u001b[0m\u001b[0m\n\u001b[1;32m--> 294\u001b[1;33m         \u001b[1;32mreturn\u001b[0m \u001b[0mself\u001b[0m\u001b[1;33m.\u001b[0m\u001b[0m_call_geocoder\u001b[0m\u001b[1;33m(\u001b[0m\u001b[0murl\u001b[0m\u001b[1;33m,\u001b[0m \u001b[0mcallback\u001b[0m\u001b[1;33m,\u001b[0m \u001b[0mtimeout\u001b[0m\u001b[1;33m=\u001b[0m\u001b[0mtimeout\u001b[0m\u001b[1;33m)\u001b[0m\u001b[1;33m\u001b[0m\u001b[1;33m\u001b[0m\u001b[0m\n\u001b[0m\u001b[0;32m    295\u001b[0m \u001b[1;33m\u001b[0m\u001b[0m\n\u001b[0;32m    296\u001b[0m     def reverse(\n",
      "\u001b[1;32m~\\AppData\\Local\\Programs\\Python\\Python38-32\\lib\\site-packages\\geopy\\geocoders\\base.py\u001b[0m in \u001b[0;36m_call_geocoder\u001b[1;34m(self, url, callback, timeout, is_json, headers)\u001b[0m\n\u001b[0;32m    358\u001b[0m         \u001b[1;32mtry\u001b[0m\u001b[1;33m:\u001b[0m\u001b[1;33m\u001b[0m\u001b[1;33m\u001b[0m\u001b[0m\n\u001b[0;32m    359\u001b[0m             \u001b[1;32mif\u001b[0m \u001b[0mis_json\u001b[0m\u001b[1;33m:\u001b[0m\u001b[1;33m\u001b[0m\u001b[1;33m\u001b[0m\u001b[0m\n\u001b[1;32m--> 360\u001b[1;33m                 \u001b[0mresult\u001b[0m \u001b[1;33m=\u001b[0m \u001b[0mself\u001b[0m\u001b[1;33m.\u001b[0m\u001b[0madapter\u001b[0m\u001b[1;33m.\u001b[0m\u001b[0mget_json\u001b[0m\u001b[1;33m(\u001b[0m\u001b[0murl\u001b[0m\u001b[1;33m,\u001b[0m \u001b[0mtimeout\u001b[0m\u001b[1;33m=\u001b[0m\u001b[0mtimeout\u001b[0m\u001b[1;33m,\u001b[0m \u001b[0mheaders\u001b[0m\u001b[1;33m=\u001b[0m\u001b[0mreq_headers\u001b[0m\u001b[1;33m)\u001b[0m\u001b[1;33m\u001b[0m\u001b[1;33m\u001b[0m\u001b[0m\n\u001b[0m\u001b[0;32m    361\u001b[0m             \u001b[1;32melse\u001b[0m\u001b[1;33m:\u001b[0m\u001b[1;33m\u001b[0m\u001b[1;33m\u001b[0m\u001b[0m\n\u001b[0;32m    362\u001b[0m                 \u001b[0mresult\u001b[0m \u001b[1;33m=\u001b[0m \u001b[0mself\u001b[0m\u001b[1;33m.\u001b[0m\u001b[0madapter\u001b[0m\u001b[1;33m.\u001b[0m\u001b[0mget_text\u001b[0m\u001b[1;33m(\u001b[0m\u001b[0murl\u001b[0m\u001b[1;33m,\u001b[0m \u001b[0mtimeout\u001b[0m\u001b[1;33m=\u001b[0m\u001b[0mtimeout\u001b[0m\u001b[1;33m,\u001b[0m \u001b[0mheaders\u001b[0m\u001b[1;33m=\u001b[0m\u001b[0mreq_headers\u001b[0m\u001b[1;33m)\u001b[0m\u001b[1;33m\u001b[0m\u001b[1;33m\u001b[0m\u001b[0m\n",
      "\u001b[1;32m~\\AppData\\Local\\Programs\\Python\\Python38-32\\lib\\site-packages\\geopy\\adapters.py\u001b[0m in \u001b[0;36mget_json\u001b[1;34m(self, url, timeout, headers)\u001b[0m\n\u001b[0;32m    371\u001b[0m \u001b[1;33m\u001b[0m\u001b[0m\n\u001b[0;32m    372\u001b[0m     \u001b[1;32mdef\u001b[0m \u001b[0mget_json\u001b[0m\u001b[1;33m(\u001b[0m\u001b[0mself\u001b[0m\u001b[1;33m,\u001b[0m \u001b[0murl\u001b[0m\u001b[1;33m,\u001b[0m \u001b[1;33m*\u001b[0m\u001b[1;33m,\u001b[0m \u001b[0mtimeout\u001b[0m\u001b[1;33m,\u001b[0m \u001b[0mheaders\u001b[0m\u001b[1;33m)\u001b[0m\u001b[1;33m:\u001b[0m\u001b[1;33m\u001b[0m\u001b[1;33m\u001b[0m\u001b[0m\n\u001b[1;32m--> 373\u001b[1;33m         \u001b[0mresp\u001b[0m \u001b[1;33m=\u001b[0m \u001b[0mself\u001b[0m\u001b[1;33m.\u001b[0m\u001b[0m_request\u001b[0m\u001b[1;33m(\u001b[0m\u001b[0murl\u001b[0m\u001b[1;33m,\u001b[0m \u001b[0mtimeout\u001b[0m\u001b[1;33m=\u001b[0m\u001b[0mtimeout\u001b[0m\u001b[1;33m,\u001b[0m \u001b[0mheaders\u001b[0m\u001b[1;33m=\u001b[0m\u001b[0mheaders\u001b[0m\u001b[1;33m)\u001b[0m\u001b[1;33m\u001b[0m\u001b[1;33m\u001b[0m\u001b[0m\n\u001b[0m\u001b[0;32m    374\u001b[0m         \u001b[1;32mtry\u001b[0m\u001b[1;33m:\u001b[0m\u001b[1;33m\u001b[0m\u001b[1;33m\u001b[0m\u001b[0m\n\u001b[0;32m    375\u001b[0m             \u001b[1;32mreturn\u001b[0m \u001b[0mresp\u001b[0m\u001b[1;33m.\u001b[0m\u001b[0mjson\u001b[0m\u001b[1;33m(\u001b[0m\u001b[1;33m)\u001b[0m\u001b[1;33m\u001b[0m\u001b[1;33m\u001b[0m\u001b[0m\n",
      "\u001b[1;32m~\\AppData\\Local\\Programs\\Python\\Python38-32\\lib\\site-packages\\geopy\\adapters.py\u001b[0m in \u001b[0;36m_request\u001b[1;34m(self, url, timeout, headers)\u001b[0m\n\u001b[0;32m    393\u001b[0m                     \u001b[1;32mraise\u001b[0m \u001b[0mGeocoderServiceError\u001b[0m\u001b[1;33m(\u001b[0m\u001b[0mmessage\u001b[0m\u001b[1;33m)\u001b[0m\u001b[1;33m\u001b[0m\u001b[1;33m\u001b[0m\u001b[0m\n\u001b[0;32m    394\u001b[0m                 \u001b[1;32melse\u001b[0m\u001b[1;33m:\u001b[0m\u001b[1;33m\u001b[0m\u001b[1;33m\u001b[0m\u001b[0m\n\u001b[1;32m--> 395\u001b[1;33m                     \u001b[1;32mraise\u001b[0m \u001b[0mGeocoderUnavailable\u001b[0m\u001b[1;33m(\u001b[0m\u001b[0mmessage\u001b[0m\u001b[1;33m)\u001b[0m\u001b[1;33m\u001b[0m\u001b[1;33m\u001b[0m\u001b[0m\n\u001b[0m\u001b[0;32m    396\u001b[0m             \u001b[1;32melif\u001b[0m \u001b[0misinstance\u001b[0m\u001b[1;33m(\u001b[0m\u001b[0merror\u001b[0m\u001b[1;33m,\u001b[0m \u001b[0mrequests\u001b[0m\u001b[1;33m.\u001b[0m\u001b[0mTimeout\u001b[0m\u001b[1;33m)\u001b[0m\u001b[1;33m:\u001b[0m\u001b[1;33m\u001b[0m\u001b[1;33m\u001b[0m\u001b[0m\n\u001b[0;32m    397\u001b[0m                 \u001b[1;32mraise\u001b[0m \u001b[0mGeocoderTimedOut\u001b[0m\u001b[1;33m(\u001b[0m\u001b[1;34m\"Service timed out\"\u001b[0m\u001b[1;33m)\u001b[0m\u001b[1;33m\u001b[0m\u001b[1;33m\u001b[0m\u001b[0m\n",
      "\u001b[1;31mGeocoderUnavailable\u001b[0m: HTTPSConnectionPool(host='nominatim.openstreetmap.org', port=443): Max retries exceeded with url: /search?q=Playa+Bonita%2C+Costa+Rica&format=json&limit=1 (Caused by ConnectTimeoutError(<urllib3.connection.HTTPSConnection object at 0x14F90BB0>, 'Connection to nominatim.openstreetmap.org timed out. (connect timeout=1)'))"
     ]
    }
   ],
   "source": [
    "latitudes = []\n",
    "longitudes = []\n",
    "\n",
    "for beach in playas[:7]:\n",
    "    geolocator = Nominatim(user_agent=\"cr_explorer_js\")\n",
    "    address = beach+\", Costa Rica\"\n",
    "    print(address)\n",
    "    #print(type(address))\n",
    "\n",
    "    location = geolocator.geocode(address)\n",
    "\n",
    "    if location == None:\n",
    "        latitudes.append(None)\n",
    "        longitudes.append(None)\n",
    "        \n",
    "    else:\n",
    "        latitudes.append(location.latitude)\n",
    "        longitudes.append(location.longitude)"
   ]
  },
  {
   "cell_type": "code",
   "execution_count": 95,
   "metadata": {},
   "outputs": [
    {
     "output_type": "execute_result",
     "data": {
      "text/plain": [
       "[None]"
      ]
     },
     "metadata": {},
     "execution_count": 95
    }
   ],
   "source": [
    "latitudes"
   ]
  },
  {
   "cell_type": "code",
   "execution_count": 96,
   "metadata": {},
   "outputs": [
    {
     "output_type": "execute_result",
     "data": {
      "text/plain": [
       "[None]"
      ]
     },
     "metadata": {},
     "execution_count": 96
    }
   ],
   "source": [
    "longitudes"
   ]
  },
  {
   "cell_type": "code",
   "execution_count": null,
   "metadata": {},
   "outputs": [],
   "source": []
  }
 ]
}