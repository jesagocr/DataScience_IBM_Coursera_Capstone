{
 "metadata": {
  "language_info": {
   "codemirror_mode": {
    "name": "ipython",
    "version": 3
   },
   "file_extension": ".py",
   "mimetype": "text/x-python",
   "name": "python",
   "nbconvert_exporter": "python",
   "pygments_lexer": "ipython3",
   "version": "3.8.3-final"
  },
  "orig_nbformat": 2,
  "kernelspec": {
   "name": "python38332bitc997c56da9a74e2babed0b86df49b304",
   "display_name": "Python 3.8.3 32-bit"
  }
 },
 "nbformat": 4,
 "nbformat_minor": 2,
 "cells": [
  {
   "source": [
    "## Author: Jesús Salazar Gómez, Costa Rica\n",
    "## Course: Applied Data Science Capstone, week 4 and 5 (project), Coursera\n",
    "\n",
    "## LinkedIn: https://www.linkedin.com/in/jesagocr/\n",
    "## GitHub: https://github.com/jesagocr"
   ],
   "cell_type": "markdown",
   "metadata": {}
  },
  {
   "cell_type": "code",
   "execution_count": 5,
   "metadata": {},
   "outputs": [
    {
     "output_type": "stream",
     "name": "stderr",
     "text": [
      "WARNING: You are using pip version 20.2.3; however, version 20.2.4 is available.\n",
      "You should consider upgrading via the 'c:\\users\\jesag\\appdata\\local\\programs\\python\\python38-32\\python.exe -m pip install --upgrade pip' command.\n",
      "Collecting geopy\n",
      "  Downloading geopy-2.0.0-py3-none-any.whl (111 kB)\n",
      "Collecting geographiclib<2,>=1.49\n",
      "  Downloading geographiclib-1.50-py3-none-any.whl (38 kB)\n",
      "Installing collected packages: geographiclib, geopy\n",
      "Successfully installed geographiclib-1.50 geopy-2.0.0\n",
      "WARNING: You are using pip version 20.2.3; however, version 20.2.4 is available.\n",
      "You should consider upgrading via the 'c:\\users\\jesag\\appdata\\local\\programs\\python\\python38-32\\python.exe -m pip install --upgrade pip' command.\n",
      "Collecting folium\n",
      "  Downloading folium-0.11.0-py2.py3-none-any.whl (93 kB)\n",
      "Collecting branca>=0.3.0\n",
      "  Downloading branca-0.4.1-py3-none-any.whl (24 kB)\n",
      "Requirement already satisfied: requests in c:\\users\\jesag\\appdata\\local\\programs\\python\\python38-32\\lib\\site-packages (from folium) (2.24.0)\n",
      "Requirement already satisfied: jinja2>=2.9 in c:\\users\\jesag\\appdata\\roaming\\python\\python38\\site-packages (from folium) (2.11.2)\n",
      "Requirement already satisfied: numpy in c:\\users\\jesag\\appdata\\local\\programs\\python\\python38-32\\lib\\site-packages (from folium) (1.18.5)\n",
      "Requirement already satisfied: certifi>=2017.4.17 in c:\\users\\jesag\\appdata\\local\\programs\\python\\python38-32\\lib\\site-packages (from requests->folium) (2020.6.20)\n",
      "Requirement already satisfied: urllib3!=1.25.0,!=1.25.1,<1.26,>=1.21.1 in c:\\users\\jesag\\appdata\\local\\programs\\python\\python38-32\\lib\\site-packages (from requests->folium) (1.25.10)\n",
      "Requirement already satisfied: chardet<4,>=3.0.2 in c:\\users\\jesag\\appdata\\local\\programs\\python\\python38-32\\lib\\site-packages (from requests->folium) (3.0.4)\n",
      "Requirement already satisfied: idna<3,>=2.5 in c:\\users\\jesag\\appdata\\local\\programs\\python\\python38-32\\lib\\site-packages (from requests->folium) (2.10)\n",
      "Requirement already satisfied: MarkupSafe>=0.23 in c:\\users\\jesag\\appdata\\roaming\\python\\python38\\site-packages (from jinja2>=2.9->folium) (1.1.1)\n",
      "Installing collected packages: branca, folium\n",
      "Successfully installed branca-0.4.1 folium-0.11.0\n",
      "Libraries imported.\n"
     ]
    }
   ],
   "source": [
    "# to read the data and do wrangling\n",
    "from urllib.request import urlopen\n",
    "from collections import defaultdict\n",
    "\n",
    "\n",
    "# to work with the api\n",
    "import json\n",
    "import requests\n",
    "import pandas as pd\n",
    "\n",
    "\n",
    "# to work with the geolocalization data\n",
    "!pip install geopy \n",
    "from geopy.geocoders import Nominatim # convert an address into latitude and longitude values\n",
    "\n",
    "# import k-means from clustering stage\n",
    "from sklearn.cluster import KMeans\n",
    "\n",
    "!pip install folium\n",
    "import folium # map rendering library\n",
    "\n",
    "print('Libraries imported.')"
   ]
  },
  {
   "cell_type": "code",
   "execution_count": 1,
   "metadata": {},
   "outputs": [
    {
     "output_type": "stream",
     "name": "stdout",
     "text": [
      "Libraries imported.\n"
     ]
    }
   ],
   "source": [
    "# to read the data and do wrangling\n",
    "from urllib.request import urlopen\n",
    "from collections import defaultdict\n",
    "\n",
    "# to work with the api\n",
    "import json\n",
    "import requests\n",
    "import pandas as pd\n",
    "\n",
    "# to work with the geolocalization data\n",
    "#!pip install geopy \n",
    "from geopy.geocoders import Nominatim # convert an address into latitude and longitude values\n",
    "\n",
    "# import k-means from clustering stage\n",
    "from sklearn.cluster import KMeans\n",
    "\n",
    "#!pip install folium\n",
    "import folium # map rendering library\n",
    "\n",
    "from bs4 import BeautifulSoup\n",
    "\n",
    "print('Libraries imported.')"
   ]
  },
  {
   "cell_type": "code",
   "execution_count": 2,
   "metadata": {},
   "outputs": [],
   "source": [
    "source = requests.get(\"https://es.wikipedia.org/wiki/Anexo:Playas_de_Costa_Rica\").text\n",
    "soup = BeautifulSoup(source, 'html.parser')"
   ]
  },
  {
   "cell_type": "code",
   "execution_count": 3,
   "metadata": {
    "tags": []
   },
   "outputs": [],
   "source": [
    "# primer intento de extraer la info con las playas\n",
    "\n",
    "playas = []\n",
    "\n",
    "for grossbeach in soup.find_all('li'):\n",
    "\n",
    "    texto = str(grossbeach.text)\n",
    "    #print(texto)\n",
    "\n",
    "    try:\n",
    "        if texto[:3] == \"Pla\" or texto[:3] == \"Bal\":\n",
    "            #print('yes')\n",
    "            playas.append(texto)\n",
    "        else:\n",
    "            #no.append(texto)\n",
    "            pass\n",
    "    except IndexError:\n",
    "        pass"
   ]
  },
  {
   "cell_type": "code",
   "execution_count": 4,
   "metadata": {},
   "outputs": [],
   "source": [
    "def newLine():\n",
    "    print('********* -*- ********* ')"
   ]
  },
  {
   "cell_type": "code",
   "execution_count": 5,
   "metadata": {},
   "outputs": [
    {
     "output_type": "stream",
     "name": "stdout",
     "text": [
      "['Playa Barra del Colorado', 'Playa Bonita', 'Playa Cahuita (Blanca)', 'Playa Chiquita', 'Playa Gandoca', 'Playa Manzanillo', 'Playa Moín', 'Playa Negra (Puerto Viejo)', 'Playa Negra (Cahuita)', 'Playa Pirikiki', 'Playa Portete', 'Playa Puerto Vargas', 'Playas Tortuguero', 'Playa Vizcaya', 'Playa Westfalia', 'Playa Arbolito', 'Playa Avellanas', 'Playa Azul (Jurel)', 'Playa Bahía Junquillal', 'Playa Barco Quebrado', 'Playa Barrigona', 'Playa Bejuco', 'Playa Blanca (Santa Elena)', 'Playa Blanca y Virador', 'Playa Bongo', 'Playa Brasilito', 'Playa Buena Vista', 'Playa Camaronal', 'Playa Carbón', 'Playa Carmen', 'Playa Carrillo', 'Playa Cóncava', 'Playa Conchal', 'Playa Coyote', 'Playa Coyotera', 'Playa Cuajiniquil', 'Playa Culebra', 'Playas del Coco', 'Playa Flamingo', 'Playa Garza', 'Playa Grande', 'Playa Gringo', 'Playa Guiones', 'Playa Hermosa', 'Playa Iguanita', 'Playa Islita y Corozalito', 'Playa Jobo', 'Playa Junquillal', 'Playa La Penca', 'Playa Lagarto', 'Playa Langosta', 'Playa Mal País', 'Playa Marbella', 'Playa Manzanillo (Costa Rica)', 'Playa Nabos', 'Playa Nacascolo', 'Playa Nancite', 'Playa Naranjo', 'Playa Negra', 'Playa Nosara', 'Playa Nubes', 'Playa Ocotal', 'Playa Ostional', 'Playa Pan de Azúcar', 'Playa Panamá (Chrorotega)', 'Playa Pelada', 'Playa Pietra', 'Playa Pitahaya', 'Playa Pleito y San Juanillo', 'Playa Pochote (Papagayo)', 'Playa Potrero', 'Playa Real y Roble', 'Playa Rajada', 'Playa Sámara', 'Playa San Miguel', 'Playa Santa Teresa', 'Playa Surco de Piedra', 'Playa Prieta (Papagayo)', 'Playa Pochote (Salinas)', 'Playa Potrero Grande', 'Playa Puerto Soley', 'Playa Tamarindo', 'Playa Ventanas', 'Balnerario Puntarenas', 'Playa Agujas', 'Playa Bahía Drake', 'Playa Ballena', 'Playa Barú', 'Playa Blanca', 'Playa Bejuco', 'Playa Boca Vieja', 'Playa Cabo Blanco', 'Playa Cabuya', 'Playa Cocalito', 'Playa Cacao', 'Playa Caldera', 'Playa Carate', 'Playa Curú', 'Playa de Arco', 'Playa de Doña Ana', 'Playa Dominical', 'Playa Dominicalito', 'Playa Espadilla', 'Playa Esterillos', 'Playa Garza (Boca Brava)', 'Playa Gigante', 'Playa Hermosa', 'Playa Herradura', 'Playa Isla Damas', 'Playa Jacó', 'Playa Llorona', 'Playa Madrigal', 'Playa Mata de Limón', 'Playa Mantas', 'Playas Manuel Antonio', 'Playa Matapalo', 'Playa Montezuma', 'Playa Naranjo', 'Playa Órganos', 'Playa Palma', 'Playa Palo Seco', 'Playa Pavones', 'Playa Piñuela', 'Playa Platanares', 'Playa Pógeres', 'Playa Quizales', 'Playa San Josecito (Golfito)', 'Playa Savegre', 'Playa Sombrero', 'Playa Tamales', 'Playa Tambor', 'Playa Tárcoles', 'Playa Tivives', 'Playa Tortuga', 'Playa Uvita', 'Playa Zancudo', 'Playas de Costa Rica']\n"
     ]
    }
   ],
   "source": [
    "print(playas)"
   ]
  },
  {
   "cell_type": "code",
   "execution_count": 6,
   "metadata": {},
   "outputs": [
    {
     "output_type": "stream",
     "name": "stdout",
     "text": [
      "137\n********* -*- ********* \nPlayas de Costa Rica\n********* -*- ********* \nPlaya Zancudo\n********* -*- ********* \n136\n"
     ]
    }
   ],
   "source": [
    "#todas los nombres con P o B (Playa o Balneario)\n",
    "\n",
    "print(len(playas))\n",
    "newLine()\n",
    "\n",
    "print(playas[-1])\n",
    "newLine()\n",
    "\n",
    "playas = playas[:-1]\n",
    "print(playas[-1])\n",
    "newLine()\n",
    "\n",
    "print(len(playas))"
   ]
  },
  {
   "cell_type": "code",
   "execution_count": 15,
   "metadata": {},
   "outputs": [],
   "source": [
    "# Segundo intento sin BeatifulSoup para extraer quienes tienen info y quienes no\n",
    "url = urlopen(\"https://es.wikipedia.org/wiki/Anexo:Playas_de_Costa_Rica\")"
   ]
  },
  {
   "cell_type": "code",
   "execution_count": 16,
   "metadata": {
    "tags": []
   },
   "outputs": [
    {
     "output_type": "stream",
     "name": "stdout",
     "text": [
      "<class 'str'>\n"
     ]
    }
   ],
   "source": [
    "content = str(url.read(),encoding='utf-8')\n",
    "print(type(content))"
   ]
  },
  {
   "cell_type": "code",
   "execution_count": 12,
   "metadata": {},
   "outputs": [
    {
     "output_type": "stream",
     "name": "stdout",
     "text": [
      "<class 'str'>\n"
     ]
    }
   ],
   "source": [
    "#content = str(url.readline(), encoding='utf-8')\n",
    "#print(type(content))"
   ]
  },
  {
   "cell_type": "code",
   "execution_count": 52,
   "metadata": {
    "tags": []
   },
   "outputs": [
    {
     "output_type": "stream",
     "name": "stdout",
     "text": [
      "ipedia/commons/thumb/8/88/Cahuita.jpg/440px-Cahuita.jpg 2x\" data-file-width=\"1600\" data-file-height=\"1082\" /></a>  <div class=\"thumbcaption\"><div class=\"magnify\"><a href=\"/wiki/Archivo:Cahuita.jpg\" class=\"internal\" title=\"Aumentar\"></a></div>Playa Blanca en Cahuita.</div></div></div>\n<ul><li><a href=\"/wiki/Refugio_Nacional_de_Fauna_Silvestre_Barra_del_Colorado\" class=\"mw-redirect\" title=\"Refugio Nacional de Fauna Silvestre Barra del Colorado\">Playa Barra del Colorado</a></li>\n<li><a href=\"/w/index.php?title=Playa_Bonita_(Lim%C3%B3n)&amp;action=edit&amp;redlink=1\" class=\"new\" title=\"Playa Bonita (Limón) (aún no redactado)\">Playa Bonita</a></li>\n<li><a href=\"/w/index.php?title=Playa_Cahuita_(Blanca)&amp;action=edit&amp;redlink=1\" class=\"new\" title=\"Playa Cahuita (Blanca) (aún no redactado)\">Playa Cahuita (Blanca)</a></li>\n<li><a href=\"/wiki/Playa_Chiquita\" title=\"Playa Chiquita\">Playa Chiquita</a></li>\n<li><a href=\"/w/index.php?title=Punta_Cocles&amp;action=edit&amp;redlink=1\" class=\"new\" title=\"Punta Cocles (aún no redactado)\">Punta Cocles</a></li>\n<li><a href=\"/w/index.php?title=Playa_Gandoca&amp;action=edit&amp;redlink=1\" class=\"new\" title=\"Playa Gandoca (aún no redactado)\">Playa Gandoca</a></li>\n<li><a href=\"/w/index.php?title=Playa_Manzanillo_(Lim%C3%B3n)&amp;action=edit&amp;redlink=1\" class=\"new\" title=\"Playa Manzanillo (Limón) (aún no redactado)\">Playa Manzanillo</a></li>\n<li><a href=\"/w/index.php?title=Playa_Mo%C3%ADn&amp;action=edit&amp;redlink=1\" class=\"new\" title=\"Playa Moín (aún no redactado)\">Playa Moín</a></li>\n<li><a href=\"/w/index.php?title=Playa_Negra_(Puerto_Viejo)&amp;action=edit&amp;redlink=1\" class=\"new\" title=\"Playa Negra (Puerto Viejo) (aún no redactado)\">Playa Negra (Puerto Viejo)</a></li>\n<li><a href=\"/wiki/Parque_nacional_Cahuita\" title=\"Parque nacional Cahuita\">Playa Negra (Cahuita)</a></li>\n<li><a href=\"/w/index.php?title=Playa_Pirikiki&amp;action=edit&amp;redlink=1\" class=\"new\" title=\"Playa Pirikiki (aún no redactado)\">Playa Pirikiki</a></\n"
     ]
    }
   ],
   "source": [
    "print(content[8000:10000]) # the info I need has a li tag"
   ]
  },
  {
   "cell_type": "code",
   "execution_count": 60,
   "metadata": {},
   "outputs": [],
   "source": [
    "data = content.split('<li><a href=\"')"
   ]
  },
  {
   "cell_type": "code",
   "execution_count": 61,
   "metadata": {},
   "outputs": [
    {
     "output_type": "stream",
     "name": "stdout",
     "text": [
      "/wiki/Refugio_Nacional_de_Fauna_Silvestre_Barra_del_Colorado\" class=\"mw-redirect\" title=\"Refugio Nacional de Fauna Silvestre Barra del Colorado\">Playa Barra del Colorado</a></li>\n\n"
     ]
    }
   ],
   "source": [
    "print(data[1]) # the list of beaches start at index 1"
   ]
  },
  {
   "cell_type": "code",
   "execution_count": 62,
   "metadata": {},
   "outputs": [
    {
     "output_type": "stream",
     "name": "stdout",
     "text": [
      "/wiki/Refugio_Nacional_de_Fauna_Silvestre_Barra_del_Colorado\" class=\"mw-redirect\" title=\"Refugio Nacional de Fauna Silvestre Barra del Colorado\">Playa Barra del Colorado</a></li>\n\n/w/index.php?title=Playa_Bonita_(Lim%C3%B3n)&amp;action=edit&amp;redlink=1\" class=\"new\" title=\"Playa Bonita (Limón) (aún no redactado)\">Playa Bonita</a></li>\n\n/w/index.php?title=Playa_Cahuita_(Blanca)&amp;action=edit&amp;redlink=1\" class=\"new\" title=\"Playa Cahuita (Blanca) (aún no redactado)\">Playa Cahuita (Blanca)</a></li>\n\n/wiki/Playa_Chiquita\" title=\"Playa Chiquita\">Playa Chiquita</a></li>\n\n/w/index.php?title=Punta_Cocles&amp;action=edit&amp;redlink=1\" class=\"new\" title=\"Punta Cocles (aún no redactado)\">Punta Cocles</a></li>\n\n/w/index.php?title=Playa_Gandoca&amp;action=edit&amp;redlink=1\" class=\"new\" title=\"Playa Gandoca (aún no redactado)\">Playa Gandoca</a></li>\n\n/w/index.php?title=Playa_Manzanillo_(Lim%C3%B3n)&amp;action=edit&amp;redlink=1\" class=\"new\" title=\"Playa Manzanillo (Limón) (aún no redactado)\">Playa Manzanillo</a></li>\n\n/w/index.php?title=Playa_Mo%C3%ADn&amp;action=edit&amp;redlink=1\" class=\"new\" title=\"Playa Moín (aún no redactado)\">Playa Moín</a></li>\n\n/w/index.php?title=Playa_Negra_(Puerto_Viejo)&amp;action=edit&amp;redlink=1\" class=\"new\" title=\"Playa Negra (Puerto Viejo) (aún no redactado)\">Playa Negra (Puerto Viejo)</a></li>\n\n/wiki/Parque_nacional_Cahuita\" title=\"Parque nacional Cahuita\">Playa Negra (Cahuita)</a></li>\n\n/w/index.php?title=Playa_Pirikiki&amp;action=edit&amp;redlink=1\" class=\"new\" title=\"Playa Pirikiki (aún no redactado)\">Playa Pirikiki</a></li>\n\n"
     ]
    }
   ],
   "source": [
    "### need to understand the data\n",
    "for d in data[1:12]:\n",
    "    print(d)"
   ]
  },
  {
   "cell_type": "code",
   "execution_count": 53,
   "metadata": {},
   "outputs": [],
   "source": [
    "from collections import defaultdict"
   ]
  },
  {
   "cell_type": "code",
   "execution_count": 66,
   "metadata": {
    "tags": []
   },
   "outputs": [],
   "source": [
    "# better a dict with info about which places have info (I guess because are popular) and which not\n",
    "# I am going to add more categories to this dict so lets prepare for it\n",
    "\n",
    "playas2 = defaultdict(dict)\n",
    "\n",
    "for d in data[1:-1]:\n",
    "    inicio = (d.find('\">')+2)\n",
    "    final = d.find('</')\n",
    "    name = d[inicio:final]\n",
    "\n",
    "    # it seems the most popular beaches are complete but the others are \"aún no redactado\"\n",
    "    ini = d.find('aún no')\n",
    "\n",
    "    if ini != -1:   # if \"aún no redactado\" = no info of the beach, it is possible is not a popular beach\n",
    "        #playas2[name] = False\n",
    "        playas2[name]['Info'] = False\n",
    "\n",
    "    else:\n",
    "        #playas2[name] = True\n",
    "        playas2[name]['Info'] = True"
   ]
  },
  {
   "cell_type": "code",
   "execution_count": 67,
   "metadata": {},
   "outputs": [
    {
     "output_type": "execute_result",
     "data": {
      "text/plain": [
       "defaultdict(dict,\n",
       "            {'Playa Barra del Colorado': {'Info': True},\n",
       "             'Playa Bonita': {'Info': False},\n",
       "             'Playa Cahuita (Blanca)': {'Info': False},\n",
       "             'Playa Chiquita': {'Info': True},\n",
       "             'Punta Cocles': {'Info': False},\n",
       "             'Playa Gandoca': {'Info': False},\n",
       "             'Playa Manzanillo': {'Info': False},\n",
       "             'Playa Moín': {'Info': False},\n",
       "             'Playa Negra (Puerto Viejo)': {'Info': False},\n",
       "             'Playa Negra (Cahuita)': {'Info': True},\n",
       "             'Playa Pirikiki': {'Info': False},\n",
       "             'Playa Portete': {'Info': False},\n",
       "             'Playa Puerto Vargas': {'Info': False},\n",
       "             'Playas Tortuguero': {'Info': True},\n",
       "             'Playa Vizcaya': {'Info': False},\n",
       "             'Playa Westfalia': {'Info': False},\n",
       "             'Puerto Viejo de Talamanca': {'Info': True},\n",
       "             'Punta Mona': {'Info': True},\n",
       "             'Punta Uva': {'Info': False},\n",
       "             'Playa Arbolito': {'Info': False},\n",
       "             'Playa Avellanas': {'Info': False},\n",
       "             'Playa Azul (Jurel)': {'Info': False},\n",
       "             'Playa Bahía Junquillal': {'Info': False},\n",
       "             'Playa Barco Quebrado': {'Info': False},\n",
       "             'Playa Barrigona': {'Info': False},\n",
       "             'Playa Bejuco': {'Info': False},\n",
       "             'Playa Blanca (Santa Elena)': {'Info': False},\n",
       "             'Playa Blanca y Virador': {'Info': False},\n",
       "             'Playa Bongo': {'Info': False},\n",
       "             'Playa Brasilito': {'Info': False},\n",
       "             'Playa Buena Vista': {'Info': False},\n",
       "             'Playa Camaronal': {'Info': False},\n",
       "             'Playa Carbón': {'Info': False},\n",
       "             'Playa Carmen': {'Info': False},\n",
       "             'Playa Carrillo': {'Info': True},\n",
       "             'Playa Cóncava': {'Info': False},\n",
       "             'Playa Conchal': {'Info': True},\n",
       "             'Playa Coyote': {'Info': False},\n",
       "             'Playa Coyotera': {'Info': False},\n",
       "             'Playa Cuajiniquil': {'Info': False},\n",
       "             'Playa Culebra': {'Info': False},\n",
       "             'Playas del Coco': {'Info': True},\n",
       "             'Playa Flamingo': {'Info': False},\n",
       "             'Playa Garza': {'Info': False},\n",
       "             'Playa Grande': {'Info': True},\n",
       "             'Playa Gringo': {'Info': False},\n",
       "             'Playa Guiones': {'Info': False},\n",
       "             'Playa Hermosa': {'Info': True},\n",
       "             'Playa Iguanita': {'Info': False},\n",
       "             'Playa Islita y Corozalito': {'Info': False},\n",
       "             'Playa Jobo': {'Info': False},\n",
       "             'Playa Junquillal': {'Info': False},\n",
       "             'Playa La Penca': {'Info': False},\n",
       "             'Playa Lagarto': {'Info': False},\n",
       "             'Playa Langosta': {'Info': False},\n",
       "             'Playa Mal País': {'Info': False},\n",
       "             'Playa Marbella': {'Info': False},\n",
       "             'Playa Manzanillo (Costa Rica)': {'Info': False},\n",
       "             'Playa Nabos': {'Info': False},\n",
       "             'Playa Nacascolo': {'Info': False},\n",
       "             'Playa Nancite': {'Info': False},\n",
       "             'Playa Naranjo': {'Info': False},\n",
       "             'Playa Negra': {'Info': False},\n",
       "             'Playa Nosara': {'Info': True},\n",
       "             'Playa Nubes': {'Info': False},\n",
       "             'Playa Ocotal': {'Info': False},\n",
       "             'Playa Ostional': {'Info': True},\n",
       "             'Playa Pan de Azúcar': {'Info': False},\n",
       "             'Playa Panamá (Chrorotega)': {'Info': False},\n",
       "             'Playa Pelada': {'Info': False},\n",
       "             'Playa Pietra': {'Info': False},\n",
       "             'Playa Pitahaya': {'Info': False},\n",
       "             'Playa Pleito y San Juanillo': {'Info': False},\n",
       "             'Playa Pochote (Papagayo)': {'Info': True},\n",
       "             'Playa Potrero': {'Info': False},\n",
       "             'Playa Real y Roble': {'Info': False},\n",
       "             'Playa Rajada': {'Info': False},\n",
       "             'Playa Sámara': {'Info': False},\n",
       "             'Playa San Miguel': {'Info': False},\n",
       "             'Playa Santa Teresa': {'Info': False},\n",
       "             'Playa Surco de Piedra': {'Info': False},\n",
       "             'Playa Prieta (Papagayo)': {'Info': False},\n",
       "             'Playa Pochote (Salinas)': {'Info': False},\n",
       "             'Playa Potrero Grande': {'Info': False},\n",
       "             'Playa Puerto Soley': {'Info': False},\n",
       "             'Playa Tamarindo': {'Info': True},\n",
       "             'Playa Ventanas': {'Info': False},\n",
       "             'Balnerario Puntarenas': {'Info': True},\n",
       "             'Playa Agujas': {'Info': False},\n",
       "             'Playa Bahía Drake': {'Info': False},\n",
       "             'Playa Ballena': {'Info': False},\n",
       "             'Playa Barú': {'Info': False},\n",
       "             'Playa Blanca': {'Info': False},\n",
       "             'Playa Boca Vieja': {'Info': False},\n",
       "             'Playa Cabo Blanco': {'Info': True},\n",
       "             'Playa Cabuya': {'Info': False},\n",
       "             'Playa Cocalito': {'Info': False},\n",
       "             'Playa Cacao': {'Info': False},\n",
       "             'Playa Caldera': {'Info': True},\n",
       "             'Playa Carate': {'Info': False},\n",
       "             'Playa Curú': {'Info': False},\n",
       "             'Playa de Arco': {'Info': False},\n",
       "             'Playa de Doña Ana': {'Info': False},\n",
       "             'Playa Dominical': {'Info': True},\n",
       "             'Playa Dominicalito': {'Info': False},\n",
       "             'Playa Espadilla': {'Info': True},\n",
       "             'Playa Esterillos': {'Info': True},\n",
       "             'Playa Garza (Boca Brava)': {'Info': False},\n",
       "             'Playa Gigante': {'Info': False},\n",
       "             'Playa Herradura': {'Info': False},\n",
       "             'Playa Isla Damas': {'Info': False},\n",
       "             'Playa Jacó': {'Info': True},\n",
       "             'Playa Llorona': {'Info': False},\n",
       "             'Playa Madrigal': {'Info': False},\n",
       "             'Playa Mata de Limón': {'Info': False},\n",
       "             'Playa Mantas': {'Info': False},\n",
       "             'Playas Manuel Antonio': {'Info': True},\n",
       "             'Playa Matapalo': {'Info': False},\n",
       "             'Playa Montezuma': {'Info': False},\n",
       "             'Playa Órganos': {'Info': False},\n",
       "             'Playa Palma': {'Info': False},\n",
       "             'Playa Palo Seco': {'Info': False},\n",
       "             'Playa Pavones': {'Info': False},\n",
       "             'Playa Piñuela': {'Info': False},\n",
       "             'Playa Platanares': {'Info': False},\n",
       "             'Playa Pógeres': {'Info': False},\n",
       "             'Playa Quizales': {'Info': False},\n",
       "             'Playa San Josecito (Golfito)': {'Info': False},\n",
       "             'Playa Savegre': {'Info': False},\n",
       "             'Playa Sombrero': {'Info': False},\n",
       "             'Playa Tamales': {'Info': False},\n",
       "             'Playa Tambor': {'Info': True},\n",
       "             'Playa Tárcoles': {'Info': False},\n",
       "             'Playa Tivives': {'Info': False},\n",
       "             'Playa Tortuga': {'Info': True},\n",
       "             'Playa Uvita': {'Info': False},\n",
       "             'Playa Zancudo': {'Info': False}})"
      ]
     },
     "metadata": {},
     "execution_count": 67
    }
   ],
   "source": [
    "# also this dict have more beaches with punta or puerto that I did not count before\n",
    "playas2"
   ]
  },
  {
   "cell_type": "code",
   "execution_count": 68,
   "metadata": {},
   "outputs": [
    {
     "output_type": "execute_result",
     "data": {
      "text/plain": [
       "137"
      ]
     },
     "metadata": {},
     "execution_count": 68
    }
   ],
   "source": [
    "len(playas2.keys())"
   ]
  },
  {
   "source": [
    "### I new web with more info to add categories\n",
    "### There are 3 categories of beaches, use it to separete the places"
   ],
   "cell_type": "markdown",
   "metadata": {}
  },
  {
   "cell_type": "code",
   "execution_count": 28,
   "metadata": {},
   "outputs": [],
   "source": [
    "source = requests.get(\"https://www.govisitcostarica.co.cr/travelInfo/beaches/beaches-list.asp\").text"
   ]
  },
  {
   "cell_type": "code",
   "execution_count": 29,
   "metadata": {
    "tags": []
   },
   "outputs": [],
   "source": [
    "soup2 = BeautifulSoup(source, 'html.parser')"
   ]
  },
  {
   "cell_type": "code",
   "execution_count": 30,
   "metadata": {
    "tags": []
   },
   "outputs": [],
   "source": [
    "for item in soup2.find_all('<div class=\"pageListContentRow\">'): # I need this but I need more practice with BS, it seems it just \n",
    "    print(item.text)                                            # works with tags and not other text\n",
    "                                                                # better use another approach"
   ]
  },
  {
   "cell_type": "code",
   "execution_count": 31,
   "metadata": {},
   "outputs": [],
   "source": [
    "#like this:\n",
    "url2 = urlopen(\"https://www.govisitcostarica.co.cr/travelInfo/beaches/beaches-list.asp\")"
   ]
  },
  {
   "cell_type": "code",
   "execution_count": 32,
   "metadata": {},
   "outputs": [],
   "source": [
    "contenido = str(url2.read(), encoding='utf-8')"
   ]
  },
  {
   "cell_type": "code",
   "execution_count": 33,
   "metadata": {
    "tags": []
   },
   "outputs": [],
   "source": [
    "types = contenido.split('<div class=\"pageListContentRow\">') #each list of beaches are listed in a column with the class\"pageList...\""
   ]
  },
  {
   "cell_type": "code",
   "execution_count": 34,
   "metadata": {},
   "outputs": [
    {
     "output_type": "stream",
     "name": "stdout",
     "text": [
      "Surfing Beaches\nSnorkeling Beach\n"
     ]
    }
   ],
   "source": [
    "soup = BeautifulSoup(types[1], 'html.parser') # we splited the data and select the first column with data (index 1)\n",
    "for d in soup.find_all('div'):                # this case it only have the categories  \n",
    "    print(d.text)"
   ]
  },
  {
   "cell_type": "code",
   "execution_count": 37,
   "metadata": {},
   "outputs": [
    {
     "output_type": "stream",
     "name": "stdout",
     "text": [
      "1\n"
     ]
    }
   ],
   "source": [
    "listass = [1,2]\n",
    "print(listass.index(2))"
   ]
  },
  {
   "cell_type": "code",
   "execution_count": 38,
   "metadata": {},
   "outputs": [],
   "source": [
    "soup = BeautifulSoup(types[2], 'html.parser') # then select the second column or the second pageListContent with our data\n",
    "count = 0 \n",
    "data = []\n",
    "divider = []                                  # 2 index this case, the first div includes / covers all the beaches of 1 category \n",
    "                                              # but we can omit it and use the others div that represent just 1 beach\n",
    "for d in soup.find_all('div'):                \n",
    "    #print(d.text)                             \n",
    "    #print(len(d.text))\n",
    "    data.append(d.text)\n",
    "    if len(d.text) > 50:\n",
    "        divider.append(count)\n",
    "    count = count + 1"
   ]
  },
  {
   "cell_type": "code",
   "execution_count": 39,
   "metadata": {},
   "outputs": [
    {
     "output_type": "stream",
     "name": "stdout",
     "text": [
      "['Bahía Salinas CahuitaP.N. CahuitaRefugio CamaronalDominicalEl RobleEsterillos EsteEsterillos OesteGarzaJacóP.N. Marino las Baulas MalpaísManuel AntonioMarbellaMatapaloPavonesPlaya AvellanaPlaya Bahia BallenaPlaya BejucoPlaya CaletasPlaya CoyotePlaya Doña AnaPlaya GrandePlaya GuionesPlaya HermosaPlaya JunquillalPlaya LangostaPlaya NegraPlaya NosaraPlaya San MiguelPlaya ZancudoPuerto LimonPuerto SoleyPuerto Viejo de TalamancaQueposP. N. Santa RosaSanta TeresaTamarindo', 'Bahía Salinas ', 'Cahuita', 'P.N. Cahuita', 'Refugio Camaronal', 'Dominical', 'El Roble', 'Esterillos Este', 'Esterillos Oeste', 'Garza']\n[0, 39]\n"
     ]
    }
   ],
   "source": [
    "print(data[:10])\n",
    "print(divider)"
   ]
  },
  {
   "cell_type": "code",
   "execution_count": 41,
   "metadata": {},
   "outputs": [],
   "source": [
    "lista1 = [1,2,3]\n",
    "lista2 = [4,5,6]"
   ]
  },
  {
   "cell_type": "code",
   "execution_count": 43,
   "metadata": {},
   "outputs": [
    {
     "output_type": "execute_result",
     "data": {
      "text/plain": [
       "[(1, 4), (2, 5), (3, 6)]"
      ]
     },
     "metadata": {},
     "execution_count": 43
    }
   ],
   "source": [
    "lista12 = list(zip(lista1,lista2))\n",
    "lista12"
   ]
  },
  {
   "cell_type": "code",
   "execution_count": 44,
   "metadata": {},
   "outputs": [
    {
     "output_type": "error",
     "ename": "TypeError",
     "evalue": "'module' object is not callable",
     "traceback": [
      "\u001b[1;31m---------------------------------------------------------------------------\u001b[0m",
      "\u001b[1;31mTypeError\u001b[0m                                 Traceback (most recent call last)",
      "\u001b[1;32m<ipython-input-44-1779afbf21cb>\u001b[0m in \u001b[0;36m<module>\u001b[1;34m\u001b[0m\n\u001b[1;32m----> 1\u001b[1;33m \u001b[0mdf\u001b[0m \u001b[1;33m=\u001b[0m \u001b[0mpd\u001b[0m\u001b[1;33m(\u001b[0m\u001b[0mlista12\u001b[0m\u001b[1;33m)\u001b[0m\u001b[1;33m\u001b[0m\u001b[1;33m\u001b[0m\u001b[0m\n\u001b[0m\u001b[0;32m      2\u001b[0m \u001b[0mdf\u001b[0m\u001b[1;33m\u001b[0m\u001b[1;33m\u001b[0m\u001b[0m\n",
      "\u001b[1;31mTypeError\u001b[0m: 'module' object is not callable"
     ]
    }
   ],
   "source": []
  },
  {
   "cell_type": "code",
   "execution_count": 40,
   "metadata": {
    "tags": []
   },
   "outputs": [
    {
     "output_type": "stream",
     "name": "stdout",
     "text": [
      "Swimming Beaches\n\n"
     ]
    }
   ],
   "source": [
    "soup = BeautifulSoup(types[3], 'html.parser')\n",
    "for d in soup.find_all('div'):\n",
    "    print(d.text)"
   ]
  },
  {
   "cell_type": "code",
   "execution_count": 40,
   "metadata": {},
   "outputs": [
    {
     "output_type": "stream",
     "name": "stdout",
     "text": [
      "Refugio Bahía JunquillalP.N. BallenaCabuyaCahuitaP.N. CahuitaIsla del CañoCoronadoRefugio CurúDrake BayEl RobleGarzaRefugio GolfitoReserva Golfo DulceHacienda PinillaIsla BallenaIslitaJacóLa PalmaP.N. Marino las Baulas MalpaísManuel AntonioP.N. Manuel AntonioManzanilloMarbellaMatapaloMontezumaGolfo de PapagayoPaqueraParisminaP. N. Piedras BlancasPlaya Bahia BallenaPlaya BejucoPlaya BrasilitoPlaya Carrillo\nRefugio Bahía Junquillal\nP.N. Ballena\nCabuya\nCahuita\nP.N. Cahuita\nIsla del Caño\nCoronado\nRefugio Curú\nDrake Bay\nEl Roble\nGarza\nRefugio Golfito\nReserva Golfo Dulce\nHacienda Pinilla\nIsla Ballena\nIslita\nJacó\nLa Palma\nP.N. Marino las Baulas \nMalpaís\nManuel Antonio\nP.N. Manuel Antonio\nManzanillo\nMarbella\nMatapalo\nMontezuma\nGolfo de Papagayo\nPaquera\nParismina\nP. N. Piedras Blancas\nPlaya Bahia Ballena\nPlaya Bejuco\nPlaya Brasilito\nPlaya Carrillo\nPlaya CativoPlaya ChiquitaPlaya ConchalPlaya CoyotePlaya FlamingoPlaya GrandePlaya GuionesPlaya HermosaPlaya HerraduraPlaya ManzanilloPlaya NaranjoPlaya NosaraPlaya OcotalPlaya Pan de AzucarPlaya PanamáPlaya PinuelaPlaya PotreroPlaya RealPlaya TortugaPlaya UvitaPlaya ZancudoPlayas del CocoPuerto JiménezPuerto Viejo de TalamancaPunta BancoPunta LeonaSamaraSan JuanilloP. N. Santa RosaSanta TeresaTamarindoTamborTortuga AbajoIsla Tortuga\nPlaya Cativo\nPlaya Chiquita\nPlaya Conchal\nPlaya Coyote\nPlaya Flamingo\nPlaya Grande\nPlaya Guiones\nPlaya Hermosa\nPlaya Herradura\nPlaya Manzanillo\nPlaya Naranjo\nPlaya Nosara\nPlaya Ocotal\nPlaya Pan de Azucar\nPlaya Panamá\nPlaya Pinuela\nPlaya Potrero\nPlaya Real\nPlaya Tortuga\nPlaya Uvita\nPlaya Zancudo\nPlayas del Coco\nPuerto Jiménez\nPuerto Viejo de Talamanca\nPunta Banco\nPunta Leona\nSamara\nSan Juanillo\nP. N. Santa Rosa\nSanta Teresa\nTamarindo\nTambor\nTortuga Abajo\nIsla Tortuga\nTour de Aventura en Guanacaste7 Días y 6 NochesPrecios Desde $779 por personaVer ItinerarioTour de Playa y Parque Nacional en Costa Rica14 Días y 13 NochesPrecios Desde $1,726 por personaVer Itinerario\n\nTour de Aventura en Guanacaste7 Días y 6 NochesPrecios Desde $779 por personaVer Itinerario\nTour de Aventura en Guanacaste\n\n7 Días y 6 Noches\nPrecios Desde $779 por persona\nVer Itinerario\n\nTour de Playa y Parque Nacional en Costa Rica14 Días y 13 NochesPrecios Desde $1,726 por personaVer Itinerario\nTour de Playa y Parque Nacional en Costa Rica\n\n14 Días y 13 Noches\nPrecios Desde $1,726 por persona\nVer Itinerario\n\n\n\n\n\n\nLos Mejores Hoteles en Costa RicaHotel DestacadoBoutique Hotel Lagarta LodgeDesde $249(USD) / nocheVer PrecioHotel DestacadoHotel Tamarindo Diria Beach ResortDesde $167(USD) / nocheVer PrecioHotel DestacadoVolcano Lodge and SpringsDesde $118(USD) / nocheVer PrecioHotel DestacadoHotel Poco a PocoDesde $97(USD) / nocheVer PrecioHotel DestacadoHampton Inn & Suites by Hilton San Jose AirportDesde $116(USD) / nocheVer PrecioHotel DestacadoHotel LuisianaDesde $44(USD) / nocheVer PrecioHotel DestacadoCourtyard by Marriott San Jose Airport - AlajuelaDesde $137(USD) / nocheVer PrecioHotel DestacadoCroc's Resort & CasinoDesde $180(USD) / habitacion doble - Todo IncluidoVer Precio\n\nLos Mejores Hoteles en Costa Rica\nHotel DestacadoBoutique Hotel Lagarta LodgeDesde $249(USD) / nocheVer PrecioHotel DestacadoHotel Tamarindo Diria Beach ResortDesde $167(USD) / nocheVer PrecioHotel DestacadoVolcano Lodge and SpringsDesde $118(USD) / nocheVer PrecioHotel DestacadoHotel Poco a PocoDesde $97(USD) / nocheVer PrecioHotel DestacadoHampton Inn & Suites by Hilton San Jose AirportDesde $116(USD) / nocheVer PrecioHotel DestacadoHotel LuisianaDesde $44(USD) / nocheVer PrecioHotel DestacadoCourtyard by Marriott San Jose Airport - AlajuelaDesde $137(USD) / nocheVer PrecioHotel DestacadoCroc's Resort & CasinoDesde $180(USD) / habitacion doble - Todo IncluidoVer Precio\nHotel DestacadoBoutique Hotel Lagarta LodgeDesde $249(USD) / nocheVer PrecioHotel DestacadoHotel Tamarindo Diria Beach ResortDesde $167(USD) / nocheVer PrecioHotel DestacadoVolcano Lodge and SpringsDesde $118(USD) / nocheVer PrecioHotel DestacadoHotel Poco a PocoDesde $97(USD) / nocheVer PrecioHotel DestacadoHampton Inn & Suites by Hilton San Jose AirportDesde $116(USD) / nocheVer PrecioHotel DestacadoHotel LuisianaDesde $44(USD) / nocheVer PrecioHotel DestacadoCourtyard by Marriott San Jose Airport - AlajuelaDesde $137(USD) / nocheVer PrecioHotel DestacadoCroc's Resort & CasinoDesde $180(USD) / habitacion doble - Todo IncluidoVer Precio\nHotel DestacadoBoutique Hotel Lagarta LodgeDesde $249(USD) / nocheVer Precio\nHotel Destacado\nBoutique Hotel Lagarta Lodge\n\nDesde $249(USD) / noche\nDesde $249(USD) / noche\nVer Precio\nHotel DestacadoHotel Tamarindo Diria Beach ResortDesde $167(USD) / nocheVer Precio\nHotel Destacado\nHotel Tamarindo Diria Beach Resort\n\nDesde $167(USD) / noche\nDesde $167(USD) / noche\nVer Precio\nHotel DestacadoVolcano Lodge and SpringsDesde $118(USD) / nocheVer Precio\nHotel Destacado\nVolcano Lodge and Springs\n\nDesde $118(USD) / noche\nDesde $118(USD) / noche\nVer Precio\nHotel DestacadoHotel Poco a PocoDesde $97(USD) / nocheVer Precio\nHotel Destacado\nHotel Poco a Poco\n\nDesde $97(USD) / noche\nDesde $97(USD) / noche\nVer Precio\nHotel DestacadoHampton Inn & Suites by Hilton San Jose AirportDesde $116(USD) / nocheVer Precio\nHotel Destacado\nHampton Inn & Suites by Hilton San Jose Airport\n\nDesde $116(USD) / noche\nDesde $116(USD) / noche\nVer Precio\nHotel DestacadoHotel LuisianaDesde $44(USD) / nocheVer Precio\nHotel Destacado\nHotel Luisiana\n\nDesde $44(USD) / noche\nDesde $44(USD) / noche\nVer Precio\nHotel DestacadoCourtyard by Marriott San Jose Airport - AlajuelaDesde $137(USD) / nocheVer Precio\nHotel Destacado\nCourtyard by Marriott San Jose Airport - Alajuela\n\nDesde $137(USD) / noche\nDesde $137(USD) / noche\nVer Precio\nHotel DestacadoCroc's Resort & CasinoDesde $180(USD) / habitacion doble - Todo IncluidoVer Precio\nHotel Destacado\nCroc's Resort & Casino\n\nDesde $180(USD) / habitacion doble - Todo Incluido\nDesde $180(USD) / habitacion doble - Todo Incluido\nVer Precio\n\nLos Mejores 10 DestinosHacia dónde quiere ir? Hermosos lugares le esperan en Costa Rica. Pura Vida!Ver DetallesBlog de JaviNuestra mascota será su guía en Costa Rica. Qué HacerQué hacer para todos. Desde jóvenes hasta familias.Ver DetallesPaquetes VacacionalesHoteles, aventura, playa, caminatas, relajación, estos paquetes vacacionales le encantarán.Ver DetallesRegístrese para el boletín de JaviLo mejor de Costa RicaGo Visit Costa Rica'sMejores HotelesCosas que HacerQué VerInfo de ViajeVida SilvestreDatos CuriososSuscríbase al Boletín Pura Vida\n\n\nLos Mejores 10 DestinosHacia dónde quiere ir? Hermosos lugares le esperan en Costa Rica. Pura Vida!Ver Detalles\nLos Mejores 10 DestinosHacia dónde quiere ir? Hermosos lugares le esperan en Costa Rica. Pura Vida!\nHacia dónde quiere ir? Hermosos lugares le esperan en Costa Rica. Pura Vida!\nVer Detalles\nBlog de JaviNuestra mascota será su guía en Costa Rica. \nBlog de JaviNuestra mascota será su guía en Costa Rica.\nNuestra mascota será su guía en Costa Rica.\n \nQué HacerQué hacer para todos. Desde jóvenes hasta familias.Ver Detalles\nQué HacerQué hacer para todos. Desde jóvenes hasta familias.\nQué hacer para todos. Desde jóvenes hasta familias.\nVer Detalles\nPaquetes VacacionalesHoteles, aventura, playa, caminatas, relajación, estos paquetes vacacionales le encantarán.Ver Detalles\nPaquetes VacacionalesHoteles, aventura, playa, caminatas, relajación, estos paquetes vacacionales le encantarán.\nHoteles, aventura, playa, caminatas, relajación, estos paquetes vacacionales le encantarán.\nVer Detalles\nRegístrese para el boletín de JaviLo mejor de Costa RicaGo Visit Costa Rica'sMejores HotelesCosas que HacerQué VerInfo de ViajeVida SilvestreDatos CuriososSuscríbase al Boletín Pura Vida\nRegístrese para el boletín de JaviLo mejor de Costa Rica\nLo mejor de Costa Rica\nGo Visit Costa Rica'sMejores HotelesCosas que HacerQué VerInfo de ViajeVida SilvestreDatos Curiosos\nGo Visit Costa Rica'sMejores HotelesCosas que HacerQué VerInfo de ViajeVida SilvestreDatos Curiosos\n\nSuscríbase al Boletín Pura Vida\nSuscríbase al Boletín Pura Vida\n\n\n\n\n\n\n\n\n\n\n\n\nInicio\nAcerca de Nosotros\nIngreso para Miembros\nAnúnciese con Nosotros\nContáctenos\nClíma\nFotos de Costa Rica\nMapas\nTiempos de Viaje por Costa Rica\nDirectrices de Revisiones del Cliente\nCondiciones de Uso\nConfidencialidad\nCompañias de Turismo\nCiudades de Costa Rica\nMapa del Sitio\n\n\nQué Hacer\nLos 10 Destinos Más Populares\nPlayas\nVolcanes\nParques Nacionales\nPaseos Diarios\nGuía de Surfistas\nComo Viajar\nLíneas Aéreas Nationales\nBuses Privados\nAlquiler de Autos\nLíneas Aéreas Internacionales\nActividades\nActividades al Aire Libre\nEntretenimiento\nActividades Culturales\n\n\nAlojamiento\nHoteles\nRentas Vacacionales\nEco Hoteles\nHoteles Todo Incluido\nHoteles con Campos de Golf\nA Dónde Ir\nAlajuela\nHeredia\nSan José\nCartago\nLimón\nPuntarenas Sur\nPuntarenas Norte\nGuanacaste\n\n\nPaquetes Vacacionales\nTour Alrededor de Costa Rica\nBosque Nuboso y Volcán Arenal Tour\nTour de Playa y Parque Nacional en Costa Rica\nTour de Eco-Aventura en Costa Rica\nEco Experiencia: Una Aventura en Costa Rica\nSiga a Javi the Frog\nMascota de Go Visit Costa Rica\nFacebook\nTwitter\nPinterest\nYouTube\nInstagram\nBoletin de Javi the Frog\n\n\n\nBlog de Javi\nSiga a la mascota de Go Visit Costa Rica\nSu guía para lo mejor de Costa Rica\n\n\nCopyright © 2003 - 2020, www.GoVisitCostaRica.co.cr una sucursal de Delfina Travel Group Inc. Todos los derechos reservados.\n\n\n\n\n\n\n\n\n\n\n\n\nInicio\nAcerca de Nosotros\nIngreso para Miembros\nAnúnciese con Nosotros\nContáctenos\nClíma\nFotos de Costa Rica\nMapas\nTiempos de Viaje por Costa Rica\nDirectrices de Revisiones del Cliente\nCondiciones de Uso\nConfidencialidad\nCompañias de Turismo\nCiudades de Costa Rica\nMapa del Sitio\n\n\nQué Hacer\nLos 10 Destinos Más Populares\nPlayas\nVolcanes\nParques Nacionales\nPaseos Diarios\nGuía de Surfistas\nComo Viajar\nLíneas Aéreas Nationales\nBuses Privados\nAlquiler de Autos\nLíneas Aéreas Internacionales\nActividades\nActividades al Aire Libre\nEntretenimiento\nActividades Culturales\n\n\nAlojamiento\nHoteles\nRentas Vacacionales\nEco Hoteles\nHoteles Todo Incluido\nHoteles con Campos de Golf\nA Dónde Ir\nAlajuela\nHeredia\nSan José\nCartago\nLimón\nPuntarenas Sur\nPuntarenas Norte\nGuanacaste\n\n\nPaquetes Vacacionales\nTour Alrededor de Costa Rica\nBosque Nuboso y Volcán Arenal Tour\nTour de Playa y Parque Nacional en Costa Rica\nTour de Eco-Aventura en Costa Rica\nEco Experiencia: Una Aventura en Costa Rica\nSiga a Javi the Frog\nMascota de Go Visit Costa Rica\nFacebook\nTwitter\nPinterest\nYouTube\nInstagram\nBoletin de Javi the Frog\n\n\n\nBlog de Javi\nSiga a la mascota de Go Visit Costa Rica\nSu guía para lo mejor de Costa Rica\n\n\nCopyright © 2003 - 2020, www.GoVisitCostaRica.co.cr una sucursal de Delfina Travel Group Inc. Todos los derechos reservados.\n\n\n\n\n\n\n\n\n\n\n\n\n\n\n\n\n\n\nInicio\nAcerca de Nosotros\nIngreso para Miembros\nAnúnciese con Nosotros\nContáctenos\nClíma\nFotos de Costa Rica\nMapas\nTiempos de Viaje por Costa Rica\nDirectrices de Revisiones del Cliente\nCondiciones de Uso\nConfidencialidad\nCompañias de Turismo\nCiudades de Costa Rica\nMapa del Sitio\n\n\nQué Hacer\nLos 10 Destinos Más Populares\nPlayas\nVolcanes\nParques Nacionales\nPaseos Diarios\nGuía de Surfistas\nComo Viajar\nLíneas Aéreas Nationales\nBuses Privados\nAlquiler de Autos\nLíneas Aéreas Internacionales\nActividades\nActividades al Aire Libre\nEntretenimiento\nActividades Culturales\n\n\nAlojamiento\nHoteles\nRentas Vacacionales\nEco Hoteles\nHoteles Todo Incluido\nHoteles con Campos de Golf\nA Dónde Ir\nAlajuela\nHeredia\nSan José\nCartago\nLimón\nPuntarenas Sur\nPuntarenas Norte\nGuanacaste\n\n\nPaquetes Vacacionales\nTour Alrededor de Costa Rica\nBosque Nuboso y Volcán Arenal Tour\nTour de Playa y Parque Nacional en Costa Rica\nTour de Eco-Aventura en Costa Rica\nEco Experiencia: Una Aventura en Costa Rica\nSiga a Javi the Frog\nMascota de Go Visit Costa Rica\nFacebook\nTwitter\nPinterest\nYouTube\nInstagram\nBoletin de Javi the Frog\n\n\n\nBlog de Javi\nSiga a la mascota de Go Visit Costa Rica\nSu guía para lo mejor de Costa Rica\n\n\nCopyright © 2003 - 2020, www.GoVisitCostaRica.co.cr una sucursal de Delfina Travel Group Inc. Todos los derechos reservados.\n\n\nInicio\nAcerca de Nosotros\nIngreso para Miembros\nAnúnciese con Nosotros\nContáctenos\nClíma\nFotos de Costa Rica\nMapas\nTiempos de Viaje por Costa Rica\nDirectrices de Revisiones del Cliente\nCondiciones de Uso\nConfidencialidad\nCompañias de Turismo\nCiudades de Costa Rica\nMapa del Sitio\n\nInicio\nAcerca de Nosotros\nIngreso para Miembros\nAnúnciese con Nosotros\nContáctenos\nClíma\nFotos de Costa Rica\nMapas\nTiempos de Viaje por Costa Rica\nDirectrices de Revisiones del Cliente\nCondiciones de Uso\nConfidencialidad\nCompañias de Turismo\nCiudades de Costa Rica\nMapa del Sitio\n\nQué Hacer\nLos 10 Destinos Más Populares\nPlayas\nVolcanes\nParques Nacionales\nPaseos Diarios\nGuía de Surfistas\nComo Viajar\nLíneas Aéreas Nationales\nBuses Privados\nAlquiler de Autos\nLíneas Aéreas Internacionales\nActividades\nActividades al Aire Libre\nEntretenimiento\nActividades Culturales\n\nQué Hacer\nLos 10 Destinos Más Populares\nPlayas\nVolcanes\nParques Nacionales\nPaseos Diarios\nGuía de Surfistas\nComo Viajar\nLíneas Aéreas Nationales\nBuses Privados\nAlquiler de Autos\nLíneas Aéreas Internacionales\nActividades\nActividades al Aire Libre\nEntretenimiento\nActividades Culturales\n\nAlojamiento\nHoteles\nRentas Vacacionales\nEco Hoteles\nHoteles Todo Incluido\nHoteles con Campos de Golf\nA Dónde Ir\nAlajuela\nHeredia\nSan José\nCartago\nLimón\nPuntarenas Sur\nPuntarenas Norte\nGuanacaste\n\nAlojamiento\nHoteles\nRentas Vacacionales\nEco Hoteles\nHoteles Todo Incluido\nHoteles con Campos de Golf\nA Dónde Ir\nAlajuela\nHeredia\nSan José\nCartago\nLimón\nPuntarenas Sur\nPuntarenas Norte\nGuanacaste\n\nPaquetes Vacacionales\nTour Alrededor de Costa Rica\nBosque Nuboso y Volcán Arenal Tour\nTour de Playa y Parque Nacional en Costa Rica\nTour de Eco-Aventura en Costa Rica\nEco Experiencia: Una Aventura en Costa Rica\nSiga a Javi the Frog\nMascota de Go Visit Costa Rica\nFacebook\nTwitter\nPinterest\nYouTube\nInstagram\nBoletin de Javi the Frog\n\n\n\nBlog de Javi\nSiga a la mascota de Go Visit Costa Rica\nSu guía para lo mejor de Costa Rica\n\nPaquetes Vacacionales\nTour Alrededor de Costa Rica\nBosque Nuboso y Volcán Arenal Tour\nTour de Playa y Parque Nacional en Costa Rica\nTour de Eco-Aventura en Costa Rica\nEco Experiencia: Una Aventura en Costa Rica\nSiga a Javi the Frog\nMascota de Go Visit Costa Rica\nFacebook\nTwitter\nPinterest\nYouTube\nInstagram\nBoletin de Javi the Frog\n\nFacebook\nTwitter\nPinterest\nYouTube\nInstagram\nBoletin de Javi the Frog\n\n\nBlog de Javi\nSiga a la mascota de Go Visit Costa Rica\nSu guía para lo mejor de Costa Rica\n\nCopyright © 2003 - 2020, www.GoVisitCostaRica.co.cr una sucursal de Delfina Travel Group Inc. Todos los derechos reservados.\n\n\n\n\n¿Viajando a Costa Rica?\nObtenga información sobre los mejores lugares y actividades en Costa Rica en nuestra Newsletter gratuita semanal.\n\nPor favor ingresa tu E-mail\nPor favor ingresa una dirección válida de E-mail\n\nIngresa tu E-mail\n\n......\n\n\n\nGracias por Inscribirte en nuestra Pura Vida NewsletterRecuerda agregar JaviTheFrog@GoVisitCostaRica.com a tu lista de contactos para asegurarte de recibir todos mis correos electrónicos, no te preocupes, no llenaré tu bandeja de entrada.\n\n\n\n\n\n\n¿Viajando a Costa Rica?\nObtenga información sobre los mejores lugares y actividades en Costa Rica en nuestra Newsletter gratuita semanal.\n\nPor favor ingresa tu E-mail\nPor favor ingresa una dirección válida de E-mail\n\nIngresa tu E-mail\n\n......\n\n\n\nGracias por Inscribirte en nuestra Pura Vida NewsletterRecuerda agregar JaviTheFrog@GoVisitCostaRica.com a tu lista de contactos para asegurarte de recibir todos mis correos electrónicos, no te preocupes, no llenaré tu bandeja de entrada.\n\n\n\n¿Viajando a Costa Rica?\nObtenga información sobre los mejores lugares y actividades en Costa Rica en nuestra Newsletter gratuita semanal.\n\nPor favor ingresa tu E-mail\nPor favor ingresa una dirección válida de E-mail\n\nIngresa tu E-mail\n\n......\n\n\n¿Viajando a Costa Rica?\nObtenga información sobre los mejores lugares y actividades en Costa Rica en nuestra Newsletter gratuita semanal.\n\n\nPor favor ingresa tu E-mail\nPor favor ingresa una dirección válida de E-mail\nIngresa tu E-mail\n\n......\n......\n\nGracias por Inscribirte en nuestra Pura Vida NewsletterRecuerda agregar JaviTheFrog@GoVisitCostaRica.com a tu lista de contactos para asegurarte de recibir todos mis correos electrónicos, no te preocupes, no llenaré tu bandeja de entrada.\n\nGracias por Inscribirte en nuestra Pura Vida Newsletter\nRecuerda agregar JaviTheFrog@GoVisitCostaRica.com a tu lista de contactos para asegurarte de recibir todos mis correos electrónicos, no te preocupes, no llenaré tu bandeja de entrada.\n\n\n"
     ]
    }
   ],
   "source": [
    "soup = BeautifulSoup(types[4], 'html.parser')\n",
    "for d in soup.find_all('div'):\n",
    "    print(d.text)"
   ]
  },
  {
   "cell_type": "code",
   "execution_count": 44,
   "metadata": {},
   "outputs": [],
   "source": [
    "dd = {}"
   ]
  },
  {
   "cell_type": "code",
   "execution_count": null,
   "metadata": {},
   "outputs": [],
   "source": []
  },
  {
   "cell_type": "code",
   "execution_count": 54,
   "metadata": {},
   "outputs": [],
   "source": [
    "de = {}"
   ]
  },
  {
   "cell_type": "code",
   "execution_count": 56,
   "metadata": {},
   "outputs": [],
   "source": [
    "from collections import defaultdict"
   ]
  },
  {
   "cell_type": "code",
   "execution_count": 57,
   "metadata": {},
   "outputs": [],
   "source": [
    "de = defaultdict(dict)"
   ]
  },
  {
   "cell_type": "code",
   "execution_count": 58,
   "metadata": {},
   "outputs": [],
   "source": [
    "de['playa1']['style'] = 'surf'"
   ]
  },
  {
   "cell_type": "code",
   "execution_count": 59,
   "metadata": {},
   "outputs": [
    {
     "output_type": "execute_result",
     "data": {
      "text/plain": [
       "defaultdict(dict, {'playa1': {'style': 'surf'}})"
      ]
     },
     "metadata": {},
     "execution_count": 59
    }
   ],
   "source": [
    "de"
   ]
  },
  {
   "cell_type": "code",
   "execution_count": 60,
   "metadata": {},
   "outputs": [],
   "source": [
    "de['playa1']['popular'] = True"
   ]
  },
  {
   "cell_type": "code",
   "execution_count": 61,
   "metadata": {},
   "outputs": [
    {
     "output_type": "execute_result",
     "data": {
      "text/plain": [
       "defaultdict(dict, {'playa1': {'style': 'surf', 'popular': True}})"
      ]
     },
     "metadata": {},
     "execution_count": 61
    }
   ],
   "source": [
    "de"
   ]
  },
  {
   "cell_type": "code",
   "execution_count": null,
   "metadata": {},
   "outputs": [],
   "source": []
  },
  {
   "cell_type": "code",
   "execution_count": null,
   "metadata": {},
   "outputs": [],
   "source": []
  },
  {
   "cell_type": "code",
   "execution_count": 75,
   "metadata": {},
   "outputs": [
    {
     "output_type": "stream",
     "name": "stdout",
     "text": [
      "Playa Zancudo, Ferrocarril del Sur, Kilometro 7, Florida, Golfito, Cantón Golfito, 60701, Costa Rica\n"
     ]
    }
   ],
   "source": [
    "#to practice let's find the location of the first place in the list\n",
    "\n",
    "address = 'Playa Zancudo, Costa Rica'\n",
    "\n",
    "geolocator = Nominatim(user_agent=\"cr_explorer\")\n",
    "location = geolocator.geocode(address)\n",
    "print(location)\n",
    "#latitude = location.latitude\n",
    "#longitude = location.longitude\n",
    "#print(type(latitude))\n",
    "#li.append(latitude)\n",
    "#print('The geograpical coordinate of New York City are {}, {}.'.format(latitude, longitude))"
   ]
  },
  {
   "cell_type": "code",
   "execution_count": 71,
   "metadata": {},
   "outputs": [
    {
     "output_type": "execute_result",
     "data": {
      "text/plain": [
       "137"
      ]
     },
     "metadata": {},
     "execution_count": 71
    }
   ],
   "source": [
    "beaches = playas2.keys()\n",
    "len(beaches)"
   ]
  },
  {
   "cell_type": "code",
   "execution_count": 75,
   "metadata": {},
   "outputs": [],
   "source": [
    "#"
   ]
  },
  {
   "cell_type": "code",
   "execution_count": 77,
   "metadata": {},
   "outputs": [
    {
     "output_type": "execute_result",
     "data": {
      "text/plain": [
       "['Playa Barra del Colorado',\n",
       " 'Playa Bonita',\n",
       " 'Playa Cahuita (Blanca)',\n",
       " 'Playa Chiquita',\n",
       " 'Punta Cocles',\n",
       " 'Playa Gandoca',\n",
       " 'Playa Manzanillo',\n",
       " 'Playa Moín',\n",
       " 'Playa Negra (Puerto Viejo)',\n",
       " 'Playa Negra (Cahuita)']"
      ]
     },
     "metadata": {},
     "execution_count": 77
    }
   ],
   "source": [
    "lista_beaches = list(beaches)\n",
    "lista_beaches[:10]"
   ]
  },
  {
   "cell_type": "code",
   "execution_count": 78,
   "metadata": {},
   "outputs": [
    {
     "output_type": "stream",
     "name": "stdout",
     "text": [
      "Playa Barra del Colorado, Costa Rica\n",
      "Playa Bonita, Costa Rica\n",
      "Playa Cahuita (Blanca), Costa Rica\n",
      "Playa Chiquita, Costa Rica\n",
      "Punta Cocles, Costa Rica\n",
      "Playa Gandoca, Costa Rica\n",
      "Playa Manzanillo, Costa Rica\n",
      "Playa Moín, Costa Rica\n",
      "Playa Negra (Puerto Viejo), Costa Rica\n",
      "Playa Negra (Cahuita), Costa Rica\n",
      "Playa Pirikiki, Costa Rica\n",
      "Playa Portete, Costa Rica\n",
      "Playa Puerto Vargas, Costa Rica\n",
      "Playas Tortuguero, Costa Rica\n",
      "Playa Vizcaya, Costa Rica\n",
      "Playa Westfalia, Costa Rica\n",
      "Puerto Viejo de Talamanca, Costa Rica\n",
      "Punta Mona, Costa Rica\n",
      "Punta Uva, Costa Rica\n",
      "Playa Arbolito, Costa Rica\n",
      "Playa Avellanas, Costa Rica\n",
      "Playa Azul (Jurel), Costa Rica\n",
      "Playa Bahía Junquillal, Costa Rica\n",
      "Playa Barco Quebrado, Costa Rica\n",
      "Playa Barrigona, Costa Rica\n",
      "Playa Bejuco, Costa Rica\n",
      "Playa Blanca (Santa Elena), Costa Rica\n",
      "Playa Blanca y Virador, Costa Rica\n",
      "Playa Bongo, Costa Rica\n",
      "Playa Brasilito, Costa Rica\n",
      "Playa Buena Vista, Costa Rica\n",
      "Playa Camaronal, Costa Rica\n",
      "Playa Carbón, Costa Rica\n",
      "Playa Carmen, Costa Rica\n",
      "Playa Carrillo, Costa Rica\n",
      "Playa Cóncava, Costa Rica\n",
      "Playa Conchal, Costa Rica\n",
      "Playa Coyote, Costa Rica\n",
      "Playa Coyotera, Costa Rica\n",
      "Playa Cuajiniquil, Costa Rica\n",
      "Playa Culebra, Costa Rica\n",
      "Playas del Coco, Costa Rica\n",
      "Playa Flamingo, Costa Rica\n",
      "Playa Garza, Costa Rica\n",
      "Playa Grande, Costa Rica\n",
      "Playa Gringo, Costa Rica\n",
      "Playa Guiones, Costa Rica\n",
      "Playa Hermosa, Costa Rica\n",
      "Playa Iguanita, Costa Rica\n",
      "Playa Islita y Corozalito, Costa Rica\n",
      "Playa Jobo, Costa Rica\n",
      "Playa Junquillal, Costa Rica\n",
      "Playa La Penca, Costa Rica\n",
      "Playa Lagarto, Costa Rica\n",
      "Playa Langosta, Costa Rica\n",
      "Playa Mal País, Costa Rica\n",
      "Playa Marbella, Costa Rica\n",
      "Playa Manzanillo (Costa Rica), Costa Rica\n",
      "Playa Nabos, Costa Rica\n",
      "Playa Nacascolo, Costa Rica\n",
      "Playa Nancite, Costa Rica\n",
      "Playa Naranjo, Costa Rica\n",
      "Playa Negra, Costa Rica\n",
      "Playa Nosara, Costa Rica\n",
      "Playa Nubes, Costa Rica\n",
      "Playa Ocotal, Costa Rica\n",
      "Playa Ostional, Costa Rica\n",
      "Playa Pan de Azúcar, Costa Rica\n",
      "Playa Panamá (Chrorotega), Costa Rica\n",
      "Playa Pelada, Costa Rica\n"
     ]
    }
   ],
   "source": [
    "latitudes = []\n",
    "longitudes = []\n",
    "\n",
    "for beach in lista_beaches[:70]:\n",
    "    geolocator = Nominatim(user_agent=\"cr_explorer_js\")\n",
    "    address = beach+\", Costa Rica\"\n",
    "    print(address)\n",
    "    #print(type(address))\n",
    "\n",
    "    location = geolocator.geocode(address)\n",
    "\n",
    "    if location == None:\n",
    "        latitudes.append(None)\n",
    "        longitudes.append(None)\n",
    "        \n",
    "    else:\n",
    "        latitudes.append(location.latitude)\n",
    "        longitudes.append(location.longitude)"
   ]
  },
  {
   "cell_type": "code",
   "execution_count": 80,
   "metadata": {},
   "outputs": [
    {
     "output_type": "execute_result",
     "data": {
      "text/plain": [
       "12"
      ]
     },
     "metadata": {},
     "execution_count": 80
    }
   ],
   "source": [
    "latitudes.count(None)"
   ]
  },
  {
   "cell_type": "code",
   "execution_count": 81,
   "metadata": {},
   "outputs": [
    {
     "output_type": "execute_result",
     "data": {
      "text/plain": [
       "12"
      ]
     },
     "metadata": {},
     "execution_count": 81
    }
   ],
   "source": [
    "longitudes.count(None)"
   ]
  },
  {
   "cell_type": "code",
   "execution_count": 82,
   "metadata": {},
   "outputs": [
    {
     "output_type": "stream",
     "name": "stdout",
     "text": [
      "Playa Pietra, Costa Rica\n",
      "Playa Pitahaya, Costa Rica\n",
      "Playa Pleito y San Juanillo, Costa Rica\n",
      "Playa Pochote (Papagayo), Costa Rica\n",
      "Playa Potrero, Costa Rica\n",
      "Playa Real y Roble, Costa Rica\n",
      "Playa Rajada, Costa Rica\n",
      "Playa Sámara, Costa Rica\n",
      "Playa San Miguel, Costa Rica\n",
      "Playa Santa Teresa, Costa Rica\n",
      "Playa Surco de Piedra, Costa Rica\n",
      "Playa Prieta (Papagayo), Costa Rica\n",
      "Playa Pochote (Salinas), Costa Rica\n",
      "Playa Potrero Grande, Costa Rica\n",
      "Playa Puerto Soley, Costa Rica\n",
      "Playa Tamarindo, Costa Rica\n",
      "Playa Ventanas, Costa Rica\n",
      "Balnerario Puntarenas, Costa Rica\n",
      "Playa Agujas, Costa Rica\n",
      "Playa Bahía Drake, Costa Rica\n",
      "Playa Ballena, Costa Rica\n",
      "Playa Barú, Costa Rica\n",
      "Playa Blanca, Costa Rica\n",
      "Playa Boca Vieja, Costa Rica\n",
      "Playa Cabo Blanco, Costa Rica\n",
      "Playa Cabuya, Costa Rica\n",
      "Playa Cocalito, Costa Rica\n",
      "Playa Cacao, Costa Rica\n",
      "Playa Caldera, Costa Rica\n",
      "Playa Carate, Costa Rica\n",
      "Playa Curú, Costa Rica\n",
      "Playa de Arco, Costa Rica\n",
      "Playa de Doña Ana, Costa Rica\n",
      "Playa Dominical, Costa Rica\n",
      "Playa Dominicalito, Costa Rica\n",
      "Playa Espadilla, Costa Rica\n",
      "Playa Esterillos, Costa Rica\n",
      "Playa Garza (Boca Brava), Costa Rica\n",
      "Playa Gigante, Costa Rica\n",
      "Playa Herradura, Costa Rica\n",
      "Playa Isla Damas, Costa Rica\n",
      "Playa Jacó, Costa Rica\n",
      "Playa Llorona, Costa Rica\n",
      "Playa Madrigal, Costa Rica\n",
      "Playa Mata de Limón, Costa Rica\n",
      "Playa Mantas, Costa Rica\n",
      "Playas Manuel Antonio, Costa Rica\n",
      "Playa Matapalo, Costa Rica\n",
      "Playa Montezuma, Costa Rica\n",
      "Playa Órganos, Costa Rica\n",
      "Playa Palma, Costa Rica\n",
      "Playa Palo Seco, Costa Rica\n",
      "Playa Pavones, Costa Rica\n",
      "Playa Piñuela, Costa Rica\n",
      "Playa Platanares, Costa Rica\n",
      "Playa Pógeres, Costa Rica\n",
      "Playa Quizales, Costa Rica\n",
      "Playa San Josecito (Golfito), Costa Rica\n",
      "Playa Savegre, Costa Rica\n",
      "Playa Sombrero, Costa Rica\n",
      "Playa Tamales, Costa Rica\n",
      "Playa Tambor, Costa Rica\n",
      "Playa Tárcoles, Costa Rica\n",
      "Playa Tivives, Costa Rica\n",
      "Playa Tortuga, Costa Rica\n",
      "Playa Uvita, Costa Rica\n",
      "Playa Zancudo, Costa Rica\n"
     ]
    }
   ],
   "source": [
    "for beach in lista_beaches[70:]:\n",
    "    geolocator = Nominatim(user_agent=\"cr_explorer_js\")\n",
    "    address = beach+\", Costa Rica\"\n",
    "    print(address)\n",
    "    #print(type(address))\n",
    "\n",
    "    location = geolocator.geocode(address)\n",
    "\n",
    "    if location == None:\n",
    "        latitudes.append(None)\n",
    "        longitudes.append(None)\n",
    "        \n",
    "    else:\n",
    "        latitudes.append(location.latitude)\n",
    "        longitudes.append(location.longitude)"
   ]
  },
  {
   "cell_type": "code",
   "execution_count": 83,
   "metadata": {},
   "outputs": [
    {
     "output_type": "stream",
     "name": "stdout",
     "text": [
      "137\n24\n24\n"
     ]
    }
   ],
   "source": [
    "print(len(latitudes))\n",
    "print(latitudes.count(None))\n",
    "print(longitudes.count(None))"
   ]
  },
  {
   "cell_type": "code",
   "execution_count": null,
   "metadata": {},
   "outputs": [],
   "source": []
  },
  {
   "cell_type": "code",
   "execution_count": null,
   "metadata": {},
   "outputs": [],
   "source": []
  }
 ]
}